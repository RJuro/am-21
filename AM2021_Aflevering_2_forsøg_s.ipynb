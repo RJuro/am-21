{
  "nbformat": 4,
  "nbformat_minor": 0,
  "metadata": {
    "colab": {
      "name": "AM2021 Aflevering 2.forsøg - s.ipynb",
      "provenance": [],
      "collapsed_sections": [],
      "authorship_tag": "ABX9TyMgvMWlYNkLajhyZZ9/cpQ2",
      "include_colab_link": true
    },
    "kernelspec": {
      "name": "python3",
      "display_name": "Python 3"
    },
    "language_info": {
      "name": "python"
    }
  },
  "cells": [
    {
      "cell_type": "markdown",
      "metadata": {
        "id": "view-in-github",
        "colab_type": "text"
      },
      "source": [
        "<a href=\"https://colab.research.google.com/github/RJuro/am-21/blob/main/AM2021_Aflevering_2_fors%C3%B8g_s.ipynb\" target=\"_parent\"><img src=\"https://colab.research.google.com/assets/colab-badge.svg\" alt=\"Open In Colab\"/></a>"
      ]
    },
    {
      "cell_type": "markdown",
      "metadata": {
        "id": "Dz1gXFS1f_aU"
      },
      "source": [
        "# 2. forsøg - Aflevering i Anvendt Matematik\n",
        "\n",
        "Du SKAL besvare de 2 dele for at komme videre til eksamen.\n",
        "\n",
        "## 1. Lineær Algebra\n",
        "\n",
        "![](https://source.unsplash.com/MAVgiId1FKk)\n",
        "\n",
        "Juice-kæden \"Juicy Jack\" overveje at introducere 3 nye typer af produkter og laver en lille regning for en dag for at finde uf af hvor meget de skal producere og markedsføre de forskellige produkter.\n",
        "\n",
        "### Priser\n",
        "* \"WAKE UP CALL\" - 56 dkk/kop\n",
        "* \"HAPPY FLAPPY\" - 48 dkk/kop\n",
        "* \"SLUMBER JACK\" - 62 dkk/kop\n",
        "\n",
        "### Ingredienser (per kop):\n",
        "\n",
        "1.   Æble juice:\n",
        "    * 160 ml til \"WAKE UP CALL\"\n",
        "    * 240 ml til \"HAPPY FLAPPY\"\n",
        "    * 75 ml til \"SLUMBER JACK\"\n",
        "\n",
        "2.   Ingefær juice:\n",
        "    * 11 ml til \"WAKE UP CALL\"\n",
        "    * 2.4 ml til \"HAPPY FLAPPY\"\n",
        "    * 4.6 ml til \"SLUMBER JACK\"\n",
        "\n",
        "3.   Passionsfrugt juice:\n",
        "    * 9 ml til \"WAKE UP CALL\"\n",
        "    * 72 ml til \"HAPPY FLAPPY\"\n",
        "    * 135 ml til \"SLUMBER JACK\"\n",
        "\n",
        "### Hvad der kan max produceres af de forskelliger ingredienser per uge (andel reserveret til de 3 nye produkter)\n",
        "*  105 liter Æble juice\n",
        "*   3.2 liter Ingefær juice\n",
        "*   45 liter Passionsfrugt juice"
      ]
    },
    {
      "cell_type": "markdown",
      "metadata": {
        "id": "9qIp7A0hoVsn"
      },
      "source": [
        "I denne opgave skal vi tænke på en måde, hvor ingredienser skal fordeles på de forskellige produkter f.eks:\n",
        "\n",
        "$160x + 240y + 75z = 105000$ for æblejuicen.\n",
        "\n",
        "#### 1.1 Brug sympy til at opstille ligninger for alle ingredienser\n"
      ]
    },
    {
      "cell_type": "code",
      "metadata": {
        "id": "9OmPzeuozfQR"
      },
      "source": [
        "# importer pakker\n",
        "from sympy import *\n",
        "import numpy as np\n",
        "np.set_printoptions(suppress=True)\n",
        "from scipy import linalg\n"
      ],
      "execution_count": null,
      "outputs": []
    },
    {
      "cell_type": "code",
      "metadata": {
        "id": "FSdV_Lorf2F4"
      },
      "source": [
        "# definer symboler\n",
        "... = symbols(...)\n",
        "\n",
        "# definer ligninger\n",
        "eq1 = Eq(160*x + 240*y + 75*z, 105000) # æblejuice fordeling\n",
        "eq2 = Eq(...)   \n",
        "eq3 = Eq(...)   "
      ],
      "execution_count": null,
      "outputs": []
    },
    {
      "cell_type": "code",
      "metadata": {
        "id": "Ub38x0BQzKgv"
      },
      "source": [
        "# vis ligning 1\n",
        "eq1"
      ],
      "execution_count": null,
      "outputs": []
    },
    {
      "cell_type": "code",
      "metadata": {
        "id": "Kuiee96lr6s7"
      },
      "source": [
        "# vis ligning 2\n",
        "eq2"
      ],
      "execution_count": null,
      "outputs": []
    },
    {
      "cell_type": "code",
      "metadata": {
        "id": "hWOFNCLNr6iW"
      },
      "source": [
        "# vis ligning 3\n",
        "eq3"
      ],
      "execution_count": null,
      "outputs": []
    },
    {
      "cell_type": "markdown",
      "metadata": {
        "id": "GpG2INbZzofl"
      },
      "source": [
        "#### 1.2 Skriv ligninger om til matrix form.\n",
        "\n",
        "Opstil først matrix $A$ og vector $\\vec{b}$"
      ]
    },
    {
      "cell_type": "code",
      "metadata": {
        "id": "3FDsg4mVz7oi"
      },
      "source": [
        "# definer matrix A\n",
        "matrix_a = ...\n",
        "# definer vector b\n",
        "vector_b = ..."
      ],
      "execution_count": null,
      "outputs": []
    },
    {
      "cell_type": "code",
      "metadata": {
        "id": "DYSiklz7124i"
      },
      "source": [
        "# vis matrix A\n",
        "Matrix(matrix_a)"
      ],
      "execution_count": null,
      "outputs": []
    },
    {
      "cell_type": "code",
      "metadata": {
        "id": "KbFtASfs16uk"
      },
      "source": [
        "# vis vector b\n",
        "Matrix(vector_b)"
      ],
      "execution_count": null,
      "outputs": []
    },
    {
      "cell_type": "markdown",
      "metadata": {
        "id": "hyPT0QU54Cc2"
      },
      "source": [
        "#### 1.3 Beregn $A^{-1}$ ved at bruge numpy funktion til dette."
      ]
    },
    {
      "cell_type": "code",
      "metadata": {
        "id": "dFmmXE19sC-9"
      },
      "source": [
        "# beregn inverse af A og print ud\n",
        "matrix_a_inverse = ...\n",
        "\n",
        "print(matrix_a_inverse)"
      ],
      "execution_count": null,
      "outputs": []
    },
    {
      "cell_type": "markdown",
      "metadata": {
        "id": "PCkUjcSB4XfC"
      },
      "source": [
        "#### 1.4 Vis, at $A^{-1}A = I$"
      ]
    },
    {
      "cell_type": "code",
      "metadata": {
        "id": "gDundbPa2fkD"
      },
      "source": [
        "# beregn dotproduct af A^-1 og matrix A, vis at det er lige med I, print I\n",
        "identity_matrix=...\n",
        "\n",
        "print(identity_matrix)"
      ],
      "execution_count": null,
      "outputs": []
    },
    {
      "cell_type": "markdown",
      "metadata": {
        "id": "eiOtCUNX5L15"
      },
      "source": [
        "#### 1.5 Beregn $\\vec{x}$ \n",
        "Vi ved, at $I\\vec{x}=\\vec{x}$ og derfor bliver $A^{-1}A\\vec{x}=A^{-1}\\vec{b}$ til $\\vec{x} = A^{-1}\\vec{b}$"
      ]
    },
    {
      "cell_type": "code",
      "metadata": {
        "id": "qhQCKsrJ2lGT"
      },
      "source": [
        "# beregn vector x med løsninger for hvor mange kopper der skal juices...\n",
        "vector_x=...\n",
        "\n",
        "print(vector_x) "
      ],
      "execution_count": null,
      "outputs": []
    },
    {
      "cell_type": "markdown",
      "metadata": {
        "id": "xDYOQ_zh5apU"
      },
      "source": [
        "Tjek om din løsning passer ved at beregne med Scipy og Sympy"
      ]
    },
    {
      "cell_type": "code",
      "metadata": {
        "id": "OIKxenbz22sj"
      },
      "source": [
        "# tjek med scipy (se i aflevering 1)\n",
        "solutions = linalg.solve(...,...)\n",
        "print(solutions)"
      ],
      "execution_count": null,
      "outputs": []
    },
    {
      "cell_type": "code",
      "metadata": {
        "id": "-NNYacXpru-z"
      },
      "source": [
        "# tjek med sympy\n",
        "solve((eq1, eq2, eq3), (x, y, z))"
      ],
      "execution_count": null,
      "outputs": []
    },
    {
      "cell_type": "markdown",
      "metadata": {
        "id": "w0zw54XX5pEJ"
      },
      "source": [
        "#### 1.6 Hvor meget kan man så sælge for om ugen på disse drinks? (husk at runde ned)"
      ]
    },
    {
      "cell_type": "code",
      "metadata": {
        "id": "_k-bdxHqture"
      },
      "source": [
        "# hvor mange penge sælger de for om ugen?\n",
        "..."
      ],
      "execution_count": null,
      "outputs": []
    },
    {
      "cell_type": "markdown",
      "metadata": {
        "id": "8GdNGHLbiX-B"
      },
      "source": [
        "# Opgave 2 - Calculus\n",
        "\n",
        "I denne del arbejder vi med funktionen $f(x) = 1+80x^3+5x^4-2x^5$"
      ]
    },
    {
      "cell_type": "code",
      "metadata": {
        "id": "XLH5llqNjPPj"
      },
      "source": [
        "# import af alle pakker, som der er brug for i opgaven\n",
        "\n",
        "import numpy as np\n",
        "import matplotlib.pyplot as plt\n",
        "from sympy import *"
      ],
      "execution_count": null,
      "outputs": []
    },
    {
      "cell_type": "markdown",
      "metadata": {
        "id": "GEFBcUVtjeG5"
      },
      "source": [
        "### 2.1 - Plot funktionen \n",
        "\n",
        "- brug numpy og pyplot/matplotlib\n",
        "- plot for $-5 ≤ x ≤ 5$"
      ]
    },
    {
      "cell_type": "code",
      "metadata": {
        "id": "C-0wzG0xCRRO"
      },
      "source": [
        "# brug np.linspace til at generere 100 værdier og plot funktionen\n",
        "\n",
        "..."
      ],
      "execution_count": null,
      "outputs": []
    },
    {
      "cell_type": "markdown",
      "metadata": {
        "id": "1MT9F7Q5j26l"
      },
      "source": [
        "### 2.2 - Find sekantlinjen \n",
        "\n",
        "- Beregn den lineære ligning $s = mx+b$ der beskriver sekanten i de to punkter $x_1 = -1$ og $x_2 = 4$\n",
        "- Du skal først finde $y_1, y_2$ og $m, b$\n",
        "- plot $f(x)$ og $s(x)$\n",
        "\n",
        "OBS: der bruges lidt afvigende variablebetegnelser (fra de matematiske udtryk) i koden.\n",
        "\n"
      ]
    },
    {
      "cell_type": "code",
      "metadata": {
        "id": "nxFlgnL8Wr-Q"
      },
      "source": [
        "# definer symboler og funktionen (brug x0 i stedet for x)\n",
        "x0 = symbols('x0')\n",
        "\n",
        "f = ...\n",
        "f"
      ],
      "execution_count": null,
      "outputs": []
    },
    {
      "cell_type": "code",
      "metadata": {
        "id": "o_6iBS12Wez2"
      },
      "source": [
        "# beregn y1 og y2 i SymPy\n",
        "x1 = -1\n",
        "x2 = 4\n",
        "\n",
        "y1 = ...\n",
        "y2 = ..."
      ],
      "execution_count": null,
      "outputs": []
    },
    {
      "cell_type": "code",
      "metadata": {
        "id": "dic3gYoeg4o7"
      },
      "source": [
        "print(y1)\n",
        "print(y2)"
      ],
      "execution_count": null,
      "outputs": []
    },
    {
      "cell_type": "code",
      "metadata": {
        "id": "84jT0BZhW6M3"
      },
      "source": [
        "# beregn hældningen m\n",
        "m = ..."
      ],
      "execution_count": null,
      "outputs": []
    },
    {
      "cell_type": "code",
      "metadata": {
        "id": "QDPC8yJpXBNT"
      },
      "source": [
        "# beregn b ved at omskrive s = m*x + b\n",
        "\n",
        "b = ..."
      ],
      "execution_count": null,
      "outputs": []
    },
    {
      "cell_type": "code",
      "metadata": {
        "id": "lxR6UQPMo2ek"
      },
      "source": [
        "b"
      ],
      "execution_count": null,
      "outputs": []
    },
    {
      "cell_type": "code",
      "metadata": {
        "id": "B_lOlb_OXVvY"
      },
      "source": [
        "# beregn alle s-værdier ved at indsætte x-værdier som blev genereret med linspace\n",
        "s = ..."
      ],
      "execution_count": null,
      "outputs": []
    },
    {
      "cell_type": "code",
      "metadata": {
        "id": "zTPUx8wro03i"
      },
      "source": [
        "s"
      ],
      "execution_count": null,
      "outputs": []
    },
    {
      "cell_type": "code",
      "metadata": {
        "id": "FS6uzNf9viKk"
      },
      "source": [
        "# plot f(x) og s(x) som går gennem x1 og x2\n",
        "plt.plot(...)\n",
        "plt.plot(...)\n",
        "\n",
        "plt.plot([x1,x2],[y1,y2], 'o', c='red') #extra :-)"
      ],
      "execution_count": null,
      "outputs": []
    },
    {
      "cell_type": "markdown",
      "metadata": {
        "id": "xaCAdaqdX1Eo"
      },
      "source": [
        "### 2.3 - Find tangentlinjen \n",
        "\n",
        "- Beregn den lineære ligning $t = mx+b$ der beskriver tangenten i $x_3 = -1.5$\n",
        "- Du skal først finde $y_3$\n",
        "- Brug **differenskvotienten** og beregn hældning i $x_3$ for $\\lim_{h\\to0}$\n",
        "- plot $f(x)$ og $t(x)$\n",
        "\n",
        "OBS: der bruges lidt afvigende variablebetegnelser (fra de matematiske udtryk) i koden.\n"
      ]
    },
    {
      "cell_type": "code",
      "metadata": {
        "id": "Ae5Cz0fDCga_"
      },
      "source": [
        "# beregn y3 ved at indsætte x3\n",
        "\n",
        "x3 = -1.5\n",
        "y3 = ..."
      ],
      "execution_count": null,
      "outputs": []
    },
    {
      "cell_type": "code",
      "metadata": {
        "id": "4glbqzMDYEvR"
      },
      "source": [
        "# definer h symbollet\n",
        "h = symbols('h')"
      ],
      "execution_count": null,
      "outputs": []
    },
    {
      "cell_type": "code",
      "metadata": {
        "id": "qQV6fH2pY0NO"
      },
      "source": [
        "# definer f(x+h) ved at erstatte x0 for x0+h i f(x)\n",
        "fh = ..."
      ],
      "execution_count": null,
      "outputs": []
    },
    {
      "cell_type": "code",
      "metadata": {
        "id": "YJh9WB_Wanab"
      },
      "source": [
        "fh"
      ],
      "execution_count": null,
      "outputs": []
    },
    {
      "cell_type": "code",
      "metadata": {
        "id": "hgY4frxGY7zd"
      },
      "source": [
        "# definer ligninen for hældning af tangenten mt\n",
        "# udskriv mt og kontroler\n",
        "mt = ..."
      ],
      "execution_count": null,
      "outputs": []
    },
    {
      "cell_type": "code",
      "metadata": {
        "id": "6HNrSu8kY1ZH"
      },
      "source": [
        "mt"
      ],
      "execution_count": null,
      "outputs": []
    },
    {
      "cell_type": "markdown",
      "metadata": {
        "id": "f9HvBbl5wQ_y"
      },
      "source": [
        "Differenskvotienten burde være:\n",
        "$$\\frac{2 x_{0}^{5} - 5 x_{0}^{4} - 80 x_{0}^{3} - 2 \\left(h + x_{0}\\right)^{5} + 5 \\left(h + x_{0}\\right)^{4} + 80 \\left(h + x_{0}\\right)^{3}}{h}$$"
      ]
    },
    {
      "cell_type": "code",
      "metadata": {
        "id": "3tXALDuAZDhP"
      },
      "source": [
        "# beregn hældningen m3 i x3 ved at regne grænseværdien for h -> 0 og indsætte x3\n",
        "m3 = ..."
      ],
      "execution_count": null,
      "outputs": []
    },
    {
      "cell_type": "code",
      "metadata": {
        "id": "P8_6suLLZq-2"
      },
      "source": [
        "# beregn b3 ved at omkskrive t = m3 * x + b3\n",
        "\n",
        "b3 = ..."
      ],
      "execution_count": null,
      "outputs": []
    },
    {
      "cell_type": "code",
      "metadata": {
        "id": "Fp9rvcDdaE-O"
      },
      "source": [
        "# beregn alle t-værdier ved at indsætte x-værdier som blev genereret med linspace\n",
        "t = ..."
      ],
      "execution_count": null,
      "outputs": []
    },
    {
      "cell_type": "code",
      "metadata": {
        "id": "hbxpvlVKxy9N"
      },
      "source": [
        "# plot f(x) og t(x) i x3\n",
        "plt.plot(...)\n",
        "plt.plot(...)\n",
        "\n",
        "plt.plot(x3,y3,'o', c='red')"
      ],
      "execution_count": null,
      "outputs": []
    },
    {
      "cell_type": "markdown",
      "metadata": {
        "id": "0a2iHGStn2a0"
      },
      "source": [
        "### 2.4 - Find ekstrempunkter\n",
        "\n",
        "- Brug SymPy og differentering til at finde maximum og minimum i $f(x)$\n",
        "- Brug først `factor()` funktionen, som kan hjælpe med at finde ekstrempunkter \"manuelt\"\n",
        "- Vis derefter, hvordan man kan finde punkterne \"automatisk\"\n",
        "- Lav manuel test for min/max ved at se på ændinger i fortegn"
      ]
    },
    {
      "cell_type": "code",
      "metadata": {
        "id": "y0iEcYGYbY0F"
      },
      "source": [
        "# find den afledede funktion fd (sympy) og udskriv\n",
        "fd = ...\n",
        "fd"
      ],
      "execution_count": null,
      "outputs": []
    },
    {
      "cell_type": "code",
      "metadata": {
        "id": "mr91TIVI_LlR"
      },
      "source": [
        "# brug faktorisering til at se, om du kan beregne ekstrempunkter direkte\n",
        "..."
      ],
      "execution_count": null,
      "outputs": []
    },
    {
      "cell_type": "code",
      "metadata": {
        "id": "ob1jvXLTCxsc"
      },
      "source": [
        "# brug sympy til at finde de 2 ekstrempunkter\n",
        "..."
      ],
      "execution_count": null,
      "outputs": []
    },
    {
      "cell_type": "code",
      "metadata": {
        "id": "Y2h6BZzlDWZv"
      },
      "source": [
        "# generer værdier som kan bruges for at undersøge ændringer af fortegn\n",
        "sign_chart = [...]"
      ],
      "execution_count": null,
      "outputs": []
    },
    {
      "cell_type": "code",
      "metadata": {
        "id": "DeKB8eWPE0s3"
      },
      "source": [
        "# beregn hældningsværdier for forskellige x fra din sign_chart (list-comprehension) med sympy\n",
        "[...]"
      ],
      "execution_count": null,
      "outputs": []
    },
    {
      "cell_type": "code",
      "metadata": {
        "id": "M9VgeUXu_fwV"
      },
      "source": [
        "# hvilken slags punkter handler det sig om?\n",
        "\n",
        "# ..."
      ],
      "execution_count": null,
      "outputs": []
    }
  ]
}