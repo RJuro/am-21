{
  "nbformat": 4,
  "nbformat_minor": 0,
  "metadata": {
    "colab": {
      "name": "Math_1.3_Matricer",
      "provenance": [],
      "collapsed_sections": [],
      "include_colab_link": true
    },
    "kernelspec": {
      "name": "python3",
      "display_name": "Python 3"
    },
    "language_info": {
      "name": "python"
    }
  },
  "cells": [
    {
      "cell_type": "markdown",
      "metadata": {
        "id": "view-in-github",
        "colab_type": "text"
      },
      "source": [
        "<a href=\"https://colab.research.google.com/github/RJuro/am-21/blob/main/2021_05_11_HA_Math_1_3_Matricer.ipynb\" target=\"_parent\"><img src=\"https://colab.research.google.com/assets/colab-badge.svg\" alt=\"Open In Colab\"/></a>"
      ]
    },
    {
      "cell_type": "markdown",
      "metadata": {
        "id": "GL7O_EIFCoEy"
      },
      "source": [
        "### Session 3 - Matricer\n",
        "\n",
        "Ligesom vektorer har matricer deres eget sæt af algebraiske operationer. I denne del vil vi lære om de mest centrale matrixoperationer og bygge op mod at bruge nogle af dem til at løse matrixligninger. "
      ]
    },
    {
      "cell_type": "markdown",
      "metadata": {
        "id": "VKF2Xm18B_5p"
      },
      "source": [
        "#### Del 3.1\n",
        "Lad os først starte med matrixaddition og subtraktion.\n",
        "\n",
        "Hvis du husker fra sidste del om vektorer, består en matrix af en eller flere søjlevektorer.\n"
      ]
    },
    {
      "cell_type": "markdown",
      "metadata": {
        "id": "t_rvslUKOWn8"
      },
      "source": [
        "Matrix: \n",
        "$$\n",
        "\\left[\n",
        "  \\begin{matrix}\n",
        "    0.5 & 2 & 3 \\\\\n",
        "    1.4 & 4 & 4 \\\\\n",
        "    0.3 & 7 & 1 \\\\\n",
        "  \\end{matrix}\n",
        "\\right]\n",
        "$$\n",
        "\n",
        "$$\n",
        "\\swarrow\n",
        "\\downarrow\n",
        "\\searrow\n",
        "$$ \n",
        "\n",
        "Søjlevektorer:\n",
        "\n",
        "$$\n",
        "\\left[ \\begin{array}{cc}\n",
        "0.5 \\\\\n",
        "1.4 \\\\\n",
        "0.3\n",
        "\\end{array} \\right]\n",
        "%\n",
        "\\left[ \\begin{array}{cc}\n",
        "2 \\\\\n",
        "4 \\\\\n",
        "7\n",
        "\\end{array} \\right]\n",
        "%\n",
        "\\left[ \\begin{array}{cc}\n",
        "3 \\\\\n",
        "4 \\\\\n",
        "1\n",
        "\\end{array} \\right]\n",
        "$$"
      ]
    },
    {
      "cell_type": "markdown",
      "metadata": {
        "id": "RF9V27faCoG7"
      },
      "source": [
        "På grund af dette kan vi overføre operationerne fra vektorer også til matricer. Vi kan\n",
        "udføre vektoraddition og subtraktion mellem vektorer med det samme antal rækker.\n",
        "Vi kan kun udføre matrixaddition og subtraktion mellem matricer, der indeholder det samme antal rækker og kolonner. `M1.shape == M2.shape`\n",
        "\n"
      ]
    },
    {
      "cell_type": "markdown",
      "metadata": {
        "id": "bpv7wCNf8t5a"
      },
      "source": [
        "Valid summering:\n",
        "$$\n",
        "  \\begin{bmatrix}\n",
        "    0.5 & 2 \\\\\n",
        "    1.4 & 4 \\\\\n",
        "  \\end{bmatrix}\n",
        "+\n",
        "  \\begin{bmatrix}\n",
        "    4 & 4 \\\\\n",
        "    7 & 1 \\\\\n",
        "  \\end{bmatrix}\n",
        " %\n",
        " \\hspace{1cm}\n",
        "  \\begin{bmatrix}\n",
        "    0.5 & 2 \\\\\n",
        "    7 & 1.7 \\\\\n",
        "    2 & 5\n",
        "  \\end{bmatrix}\n",
        "+\n",
        "  \\begin{bmatrix}\n",
        "    0.5 & 2 \\\\\n",
        "    7 & 1.7 \\\\\n",
        "    2 & 5\n",
        "  \\end{bmatrix}\n",
        "$$"
      ]
    },
    {
      "cell_type": "markdown",
      "metadata": {
        "id": "jpzmaH6E-71k"
      },
      "source": [
        "No Go 🚫: \n",
        "$$\n",
        "  \\begin{bmatrix}\n",
        "    0.5 & 3 & 5 \\\\\n",
        "    1.4 & 3 & 9 \\\\\n",
        "  \\end{bmatrix}\n",
        "+\n",
        "  \\begin{bmatrix}\n",
        "    1 \\\\\n",
        "    4 \\\\\n",
        "    1\n",
        "  \\end{bmatrix}\n",
        "$$"
      ]
    },
    {
      "cell_type": "code",
      "metadata": {
        "id": "XT7-UVYsbeJx"
      },
      "source": [
        "import numpy as np"
      ],
      "execution_count": 1,
      "outputs": []
    },
    {
      "cell_type": "code",
      "metadata": {
        "id": "QmtjKrNrbhNR"
      },
      "source": [
        "M1 = np.array([[0.5,2],\n",
        "              [1.4,4]])\n",
        "\n",
        "M2 = np.array([[4,4],\n",
        "               [7,1]])\n",
        "\n",
        "M3 = np.array([1,4,1])"
      ],
      "execution_count": 6,
      "outputs": []
    },
    {
      "cell_type": "code",
      "metadata": {
        "colab": {
          "base_uri": "https://localhost:8080/"
        },
        "id": "pB9rIXLqIjcM",
        "outputId": "7335a5b4-8767-4022-d11a-7017d4d0b45b"
      },
      "source": [
        "M1 + M2"
      ],
      "execution_count": 7,
      "outputs": [
        {
          "output_type": "execute_result",
          "data": {
            "text/plain": [
              "array([[4.5, 6. ],\n",
              "       [8.4, 5. ]])"
            ]
          },
          "metadata": {
            "tags": []
          },
          "execution_count": 7
        }
      ]
    },
    {
      "cell_type": "code",
      "metadata": {
        "colab": {
          "base_uri": "https://localhost:8080/",
          "height": 164
        },
        "id": "la-JOcBCIqp3",
        "outputId": "eebdb257-e355-4d9f-d18c-448c938ff2d9"
      },
      "source": [
        "M1 + M3"
      ],
      "execution_count": 8,
      "outputs": [
        {
          "output_type": "error",
          "ename": "ValueError",
          "evalue": "ignored",
          "traceback": [
            "\u001b[0;31m---------------------------------------------------------------------------\u001b[0m",
            "\u001b[0;31mValueError\u001b[0m                                Traceback (most recent call last)",
            "\u001b[0;32m<ipython-input-8-eb2de951fea4>\u001b[0m in \u001b[0;36m<module>\u001b[0;34m()\u001b[0m\n\u001b[0;32m----> 1\u001b[0;31m \u001b[0mM1\u001b[0m \u001b[0;34m+\u001b[0m \u001b[0mM3\u001b[0m\u001b[0;34m\u001b[0m\u001b[0;34m\u001b[0m\u001b[0m\n\u001b[0m",
            "\u001b[0;31mValueError\u001b[0m: operands could not be broadcast together with shapes (2,2) (3,) "
          ]
        }
      ]
    },
    {
      "cell_type": "markdown",
      "metadata": {
        "id": "fNLiDaSGCyVi"
      },
      "source": [
        "Lige som med vektorer fungerer matrixaddition og subtraktion ved at fordele operationerne på tværs af de specifikke elementer og kombinere dem.\n"
      ]
    },
    {
      "cell_type": "code",
      "metadata": {
        "colab": {
          "base_uri": "https://localhost:8080/"
        },
        "id": "rXBCt90pKGqy",
        "outputId": "74424cdd-a7a7-4b38-e53f-a77df88eba89"
      },
      "source": [
        "M1 = np.array([[6,2,4],[3.5,5,7],[5,3,2]])\n",
        "M2 = np.array([[0, 3.4, 2],[3,0.2,1],[0.1, 1.1, 7]])\n",
        "\n",
        "M1 + M2"
      ],
      "execution_count": 12,
      "outputs": [
        {
          "output_type": "execute_result",
          "data": {
            "text/plain": [
              "array([[6. , 5.4, 6. ],\n",
              "       [6.5, 5.2, 8. ],\n",
              "       [5.1, 4.1, 9. ]])"
            ]
          },
          "metadata": {
            "tags": []
          },
          "execution_count": 12
        }
      ]
    },
    {
      "cell_type": "markdown",
      "metadata": {
        "id": "AYpmM8K-txzw"
      },
      "source": [
        "$$\n",
        "A + B = \n",
        "  \\begin{smallmatrix} \\textrm{A}\\\\\\begin{bmatrix}\n",
        "    6 & 2 & 4 \\\\ \n",
        "    3.5 & 5 & 7 \\\\ \n",
        "    5 & 3 & 2\n",
        "  \\end{bmatrix}\\end{smallmatrix}\n",
        "+\n",
        " \\begin{smallmatrix} \\textrm{B}\\\\\\begin{bmatrix}\n",
        "    0 & 3.4 & 2 \\\\\n",
        "    3 & 0.2 & 1 \\\\\n",
        "    0.1 & 1.1 & 7 \\\\\n",
        "  \\end{bmatrix}\\end{smallmatrix}\n",
        "=\n",
        "\\begin{smallmatrix} \\textrm{A+B}\\\\\\begin{bmatrix}\n",
        "    6 & 5.4 & 6 \\\\\n",
        "    6.5 & 5.2 & 8 \\\\\n",
        "    5.1 & 4.1 & 9 \\\\\n",
        "  \\end{bmatrix}\\end{smallmatrix}\n",
        "$$"
      ]
    },
    {
      "cell_type": "markdown",
      "metadata": {
        "id": "zP2vDKf6C24f"
      },
      "source": [
        "Endelig kan vi også multiplicere en matrix med en skalarværdi, ligesom vi kan med en vektor. "
      ]
    },
    {
      "cell_type": "markdown",
      "metadata": {
        "id": "ei-G2UbC5a10"
      },
      "source": [
        "$$\n",
        "A5 =\n",
        "  \\hspace{1cm} \\begin{smallmatrix} \\textrm{A}\\\\5 \\ * \\\n",
        "  \\begin{bmatrix}\n",
        "    6 & 2 & 4 \\\\ \n",
        "    3.5 & 5 & 7 \\\\ \n",
        "    5 & 3 & 2\n",
        "  \\end{bmatrix}\\end{smallmatrix}\n",
        "=\n",
        " \\begin{smallmatrix} \\textrm{A5}\\\\\\begin{bmatrix}\n",
        "    30 & 10 & 20 \\\\\n",
        "    17.5 & 25 & 35 \\\\\n",
        "    25 & 15 & 10 \\\\\n",
        "  \\end{bmatrix}\\end{smallmatrix}\n",
        "$$"
      ]
    },
    {
      "cell_type": "code",
      "metadata": {
        "colab": {
          "base_uri": "https://localhost:8080/"
        },
        "id": "UR6x17YzMNlt",
        "outputId": "da86dc8c-00a9-41d0-946a-7fba3db5d974"
      },
      "source": [
        "M1 * 5"
      ],
      "execution_count": 14,
      "outputs": [
        {
          "output_type": "execute_result",
          "data": {
            "text/plain": [
              "array([[30. , 10. , 20. ],\n",
              "       [17.5, 25. , 35. ],\n",
              "       [25. , 15. , 10. ]])"
            ]
          },
          "metadata": {
            "tags": []
          },
          "execution_count": 14
        }
      ]
    },
    {
      "cell_type": "markdown",
      "metadata": {
        "id": "6t7HngeQC8lR"
      },
      "source": [
        "#### Del 3.2\n",
        "Matrixligningen, vi diskuterede kort i den sidste mission, er et eksempel på matrix-vektor multiplikation. Når vi multiplicerer en matrix med en vektor, kombinerer vi i princippet hver række i matricen med søjlevektoren."
      ]
    },
    {
      "cell_type": "markdown",
      "metadata": {
        "id": "2nlI3zQXCpTd"
      },
      "source": [
        "$$\n",
        "Ac = \n",
        "  \\begin{smallmatrix} \\textrm{A}\\\\\\begin{bmatrix}\n",
        "    0.7 & 3 & 9 \\\\\n",
        "    1.7 & 2 & 9 \\\\\n",
        "    0.7 & 9 & 2 \\\\\n",
        "  \\end{bmatrix}\\end{smallmatrix}\n",
        "*\n",
        " \\begin{smallmatrix} \\textrm{c}\\\\\\begin{bmatrix}\n",
        "    1 \\\\\n",
        "    2 \\\\\n",
        "    1 \\\\\n",
        "  \\end{bmatrix}\\end{smallmatrix}\n",
        "=\n",
        "\\begin{smallmatrix} \\textrm{A * c}\\\\\\begin{bmatrix}\n",
        "    (0.7*1) & (3*2) & (9*1) \\\\\n",
        "    (1.7*1) & (2*2) & (9*1) \\\\\n",
        "    (0.7*1) & (9*2) & (2*1) \\\\\n",
        "  \\end{bmatrix}\\end{smallmatrix}\n",
        "=\n",
        "  \\begin{smallmatrix} \\textrm{Ac}\\\\\\begin{bmatrix}\n",
        "    15.7 \\\\\n",
        "    14.7 \\\\\n",
        "    20.7 \\\\\n",
        "  \\end{bmatrix}\\end{smallmatrix}\n",
        "$$"
      ]
    },
    {
      "cell_type": "markdown",
      "metadata": {
        "id": "XyVqPCgpDg7Z"
      },
      "source": [
        "For at multiplicere en matrix med en vektor skal antallet af kolonner i matrixen\n",
        "matche antallet af rækker i vektoren."
      ]
    },
    {
      "cell_type": "markdown",
      "metadata": {
        "id": "s0PiGQOuEawa"
      },
      "source": [
        "Valide produkter:\n",
        "$$\n",
        "  \\begin{bmatrix}\n",
        "    0.7 & 3 & 9 \\\\\n",
        "    1.7 & 2 & 9 \\\\\n",
        "    0.7 & 9 & 2\n",
        "  \\end{bmatrix}\n",
        "·%\n",
        "  \\begin{bmatrix}\n",
        "    1 \\\\\n",
        "    2 \\\\\n",
        "    1\n",
        "  \\end{bmatrix}\n",
        " %\n",
        " \\hspace{1cm}\n",
        "  \\begin{bmatrix}\n",
        "    0.7 & 3 & 9 \\\\\n",
        "    1.7 & 2 & 9 \\\\\n",
        "  \\end{bmatrix}\n",
        "·%\n",
        "  \\begin{bmatrix}\n",
        "    1 \\\\\n",
        "    2 \\\\\n",
        "    1\n",
        "  \\end{bmatrix} \n",
        "$$\n"
      ]
    },
    {
      "cell_type": "markdown",
      "metadata": {
        "id": "VVcEsAWPFA_s"
      },
      "source": [
        "Nope! 🚫 \n",
        "$$\n",
        "  \\begin{bmatrix}\n",
        "    0.7 & 3 & 9 \\\\\n",
        "    1.7 & 2 & 9 \\\\\n",
        "  \\end{bmatrix}\n",
        "·\n",
        "  \\begin{bmatrix}\n",
        "    1 \\\\\n",
        "    2 \\\\\n",
        "  \\end{bmatrix}\n",
        "$$"
      ]
    },
    {
      "cell_type": "markdown",
      "metadata": {
        "id": "7o-EQjqAD-59"
      },
      "source": [
        "Lige som når der er 2 vektorerkan vi bruge `numpy.dot()` eller `@` til at beregne dot-product"
      ]
    },
    {
      "cell_type": "markdown",
      "metadata": {
        "id": "bqxg_cRoFuKm"
      },
      "source": [
        "##### **Øvelse**\n",
        "Oprat følgende matrix som et NumPy-array med navnet **matrix_a**:"
      ]
    },
    {
      "cell_type": "markdown",
      "metadata": {
        "id": "de44RrHdFzpU"
      },
      "source": [
        "$$\n",
        "  \\begin{bmatrix}\n",
        "    0.7 & 3 & 9 \\\\\n",
        "    1.7 & 2 & 9 \\\\\n",
        "    0.7 & 9 & 2\n",
        "  \\end{bmatrix}\n",
        "$$"
      ]
    },
    {
      "cell_type": "code",
      "metadata": {
        "id": "5ietmHUNEM2O"
      },
      "source": [
        ""
      ],
      "execution_count": null,
      "outputs": []
    },
    {
      "cell_type": "markdown",
      "metadata": {
        "id": "DUJuh-PCEBwc"
      },
      "source": [
        "Opræt følgende vektor some et NumPy-array med navnet **vector_b**:\n",
        "\n",
        "$$\n",
        "  \\begin{bmatrix}\n",
        "    1 \\\\\n",
        "    2 \\\\\n",
        "    1\n",
        "  \\end{bmatrix}\n",
        "$$"
      ]
    },
    {
      "cell_type": "code",
      "metadata": {
        "id": "n2T0QtaUEO9v"
      },
      "source": [
        ""
      ],
      "execution_count": null,
      "outputs": []
    },
    {
      "cell_type": "markdown",
      "metadata": {
        "id": "R4XnozQYEO32"
      },
      "source": [
        "Beregn dot-product og vis resultat\n"
      ]
    },
    {
      "cell_type": "code",
      "metadata": {
        "id": "gDp-chgoNQYp"
      },
      "source": [
        ""
      ],
      "execution_count": null,
      "outputs": []
    },
    {
      "cell_type": "markdown",
      "metadata": {
        "id": "JOop5k8xETV_"
      },
      "source": [
        "#### Del 3.3\n",
        "Som vi ded består en matrix af søjlevektorer. Vi kan derfor bruge samme koncepter, vi lærte om matrixvektormultiplikation til at multiplicere matricer sammen. I matrixvektor multiplikation udførte vi et prikprodukt mellem hver række i matrixen og søjlevektoren. I matrixmultiplikation udvider vi dette til at udføre et prikprodukt mellem hver række i den første matrix og hver kolonne i den anden matrix. "
      ]
    },
    {
      "cell_type": "markdown",
      "metadata": {
        "id": "T3FWyp6MT6AX"
      },
      "source": [
        "$$\n",
        "AB = \n",
        "  \\begin{smallmatrix} \\textrm{A}\\\\\\begin{bmatrix}\n",
        "    0.7 & 3 \\\\\n",
        "    1.7 & 2 \\\\    \n",
        "  \\end{bmatrix}\\end{smallmatrix}\n",
        "+\n",
        " \\begin{smallmatrix} \\textrm{B}\\\\\\begin{bmatrix}\n",
        "    1 & 2\\\\\n",
        "    2 & 3\\\\\n",
        "  \\end{bmatrix}\\end{smallmatrix}\n",
        "=\n",
        "\\begin{smallmatrix} \\textrm{A * B}\\\\\\begin{bmatrix}\n",
        "    (0.7*1+3*2) & (0.7*2+3*3) \\\\\n",
        "    (1.7*1+*2*2) & (1.7*2+2*3) \\\\\n",
        "  \\end{bmatrix}\\end{smallmatrix}\n",
        "=\n",
        "  \\begin{smallmatrix} \\textrm{AB}\\\\\\begin{bmatrix}\n",
        "    6.7 & 10.4 \\\\\n",
        "    5.7 & 9.4 \\\\\n",
        "  \\end{bmatrix}\\end{smallmatrix}\n",
        "$$"
      ]
    },
    {
      "cell_type": "markdown",
      "metadata": {
        "id": "RbDacuj_EWyh"
      },
      "source": [
        "Som med matrixvektormultiplikation skal kolonnerne i den første matrix matche antallet af rækker i den anden matrix. "
      ]
    },
    {
      "cell_type": "code",
      "metadata": {
        "id": "0Bcl3YrCEYDS"
      },
      "source": [
        ""
      ],
      "execution_count": null,
      "outputs": []
    },
    {
      "cell_type": "markdown",
      "metadata": {
        "id": "mfkwULJCEYJi"
      },
      "source": [
        "OBS: Rækkeføgen er vigtig!"
      ]
    },
    {
      "cell_type": "markdown",
      "metadata": {
        "id": "2DGDiBzzWzjJ"
      },
      "source": [
        "$$\n",
        "BA = \n",
        "  \\begin{smallmatrix} \\textrm{B}\\\\\\begin{bmatrix}\n",
        "    1 & 2 \\\\\n",
        "    2 & 3 \\\\    \n",
        "  \\end{bmatrix}\\end{smallmatrix}\n",
        "·\n",
        " \\begin{smallmatrix} \\textrm{A}\\\\\\begin{bmatrix}\n",
        "    0.7 & 3\\\\\n",
        "    1.7 & 2\\\\\n",
        "  \\end{bmatrix}\\end{smallmatrix}\n",
        "=\n",
        "\\begin{smallmatrix} \\textrm{B * A}\\\\\\begin{bmatrix}\n",
        "    (1*0.7+2*1.7) & (1*3+2*2) \\\\\n",
        "    (2*0.7+3*1.7) & (2*3+3*2) \\\\\n",
        "  \\end{bmatrix}\\end{smallmatrix}\n",
        "=\n",
        "  \\begin{smallmatrix} \\textrm{BA}\\\\\\begin{bmatrix}\n",
        "    4.1 & 7 \\\\\n",
        "    6.5 & 12 \\\\\n",
        "  \\end{bmatrix}\\end{smallmatrix}\n",
        "$$"
      ]
    },
    {
      "cell_type": "markdown",
      "metadata": {
        "id": "wyCuUVRuEZi8"
      },
      "source": [
        "For at multiplicere matricer i NumPy bruger vi den samme numpy.dot () - funktion eller @ som vi brugte i sidste del.\n",
        "\n",
        "**Øvelse**\n",
        "\n",
        "* Multiplicer matrix_a med matrix_b, og tildel til **product_ab**.\n",
        "\n",
        "* Multiplicer matrix_b med matrix_a og tildel til **product_ba**. \n",
        "\n",
        "* Vis begge matricer. \n",
        "\n",
        "Er de ens? Betyder rækkefølge noget, når matricer multipliceres?\n"
      ]
    },
    {
      "cell_type": "code",
      "metadata": {
        "id": "IMJZB9ghXwzV"
      },
      "source": [
        ""
      ],
      "execution_count": 15,
      "outputs": []
    },
    {
      "cell_type": "markdown",
      "metadata": {
        "id": "7nrErsWRXvvx"
      },
      "source": [
        "#### Del 3.4\n",
        "Matrix transponse skifter rækker og kolonner i en matrix. Du kan tænke på transponse som en rotation. I data analytics, statistik og finance arbejdes der ofte med datatabeller i forskellige dimensioner. På grund af kravene til matrixmultiplikation skal vi nogle gange transponere en matrix så vi kan multiplicere matricer sammen, der ikke har samme antal rækker og kolonner."
      ]
    },
    {
      "cell_type": "markdown",
      "metadata": {
        "id": "8sfyyAwUZUK1"
      },
      "source": [
        "En matrix transponse kunne typis se således ud: "
      ]
    },
    {
      "cell_type": "markdown",
      "metadata": {
        "id": "Qs4DU38EZyXh"
      },
      "source": [
        "Matrix til transponse:\n",
        "$$\n",
        "  \\begin{bmatrix}\n",
        "    1 & 2\\\\\n",
        "    3 & 4 \\\\\n",
        "    5 & 6 \\\\\n",
        "  \\end{bmatrix}\n",
        "$$\n",
        "\n",
        "Transponse\n",
        "\n",
        "$$\n",
        "  \\begin{bmatrix}\n",
        "    1 & 3 & 5\\\\\n",
        "    2 & 4 & 6\\\\\n",
        "  \\end{bmatrix}\n",
        "$$"
      ]
    },
    {
      "cell_type": "markdown",
      "metadata": {
        "id": "V-zbu0p_a_-E"
      },
      "source": [
        "Matematisk bruger vi notationen $A^T$ til at skrive transponse. \n",
        "\n",
        "$A^T + B^T = C$\n",
        "\n",
        "TRansponse har nogle interessante regler, der er ret intuitive. For eksempel, når vi tager transponse af summen af to matricer, kan vi distribuere transponse til hver matrix: \n",
        "\n",
        "$(A+B)^T = A^T + B^T$\n",
        "\n",
        "Lidt mere kontraintuitiv er dog det at tage transponse af produktet af 2 matricer:\n",
        "\n",
        "$(AB)^T = B^T A^T$"
      ]
    },
    {
      "cell_type": "markdown",
      "metadata": {
        "id": "28BFL1ltdA8Q"
      },
      "source": [
        "Lad os lige se på det ved med numpy:\n",
        "Vi kan enten bruge `np.transponse()` eller bare skrive `T` efter en matrix."
      ]
    },
    {
      "cell_type": "markdown",
      "metadata": {
        "id": "BP71RDUHdMvl"
      },
      "source": [
        "**Øvelse**\n",
        "\n",
        "* Beregn transponse af **matrix_a** og tildel den til **transpose_a**. Vis **transpose_a** ved hjælp af funktionen print(). \n",
        "\n",
        "* Beregn transponse af transpose_a og vis den ved hjælp af **print()**. Matcher dette den originale matrix, **matrix_a**? \n",
        "\n",
        "* Multiplicer transponse af **matrix_b** med transponse af **matrix_a** (i den rækkefølge) og tildel til **trans_ba**: \n",
        "\n",
        "* Multiplicer transponse af **matrix_a** med transponse af **matrix_b** (i den rækkefølge) og tildel til **trans_ab**: \n",
        "\n",
        "* Multiplicer **matrix_a** og **matrix_b**, og tildel produktet\n",
        "til **product_ab**. Beregn transponse af **product_ab**, og\n",
        "få vist resultatet ved hjælp af funktionen print().\n",
        "\n",
        "* Bekræft at transponse af **product_ab** er den samme\n",
        "som **trans_ba**\n",
        "\n"
      ]
    },
    {
      "cell_type": "code",
      "metadata": {
        "id": "TBUuQ1eMe3Gx"
      },
      "source": [
        ""
      ],
      "execution_count": 20,
      "outputs": []
    },
    {
      "cell_type": "markdown",
      "metadata": {
        "id": "JzgBLorhe2m5"
      },
      "source": [
        "#### Del 3.5\n",
        "I matrixligningen, som vi så sidste gang, prøver vi at løse\n",
        "for vektoren $\\vec{x}$.\n"
      ]
    },
    {
      "cell_type": "markdown",
      "metadata": {
        "id": "-ZKLFUkOhE_n"
      },
      "source": [
        "$A\\vec{x} = \\vec{b}$"
      ]
    },
    {
      "cell_type": "markdown",
      "metadata": {
        "id": "_GVcDP_4hRJf"
      },
      "source": [
        "Her multipliceres matrixen $A$ med vektoren $\\vec{x}$, og vi har derfor brug for en måde at fjerne $A$."
      ]
    },
    {
      "cell_type": "markdown",
      "metadata": {
        "id": "qFkTeRoqhiZT"
      },
      "source": [
        "Lad os se på identitetsmatricen, som vi kort så sidst i første\n",
        "del i dette kursus. Som du kan huske, består den af 1er langs diagonalen og 0er ellers. Her ser vi en 2x2 identitetsmatrix som vi vil skrive som $I_2$:\n"
      ]
    },
    {
      "cell_type": "markdown",
      "metadata": {
        "id": "XM3asJYSirBP"
      },
      "source": [
        "$I_2 = \n",
        "  \\begin{bmatrix}\n",
        "    1 & 0\\\\\n",
        "    0 & 1 \\\\\n",
        "  \\end{bmatrix}$"
      ]
    },
    {
      "cell_type": "markdown",
      "metadata": {
        "id": "YDjaIlCOk1Bo"
      },
      "source": [
        "Når vi multiplicerer $I_2$ med en vektor, der indeholder 2 elementer, matcher den resulterende vektor den oprindelige vektor nøjagtigt:\n",
        "\n",
        "$I_2\\vec{x} = \\vec{x}$\n",
        "\n",
        "Dette skyldes, at hvert element i vektoren ganges nøjagtigt en gang med den\n",
        "diagonale $1$ værdi i identitetsmatrixen:\n",
        "\n"
      ]
    },
    {
      "cell_type": "markdown",
      "metadata": {
        "id": "7wzk3YXEliu6"
      },
      "source": [
        "Eksempel med tal: \n",
        "$$\n",
        "  \\begin{bmatrix}\n",
        "    1 & 0 \\\\\n",
        "    0 & 1 \\\\\n",
        "  \\end{bmatrix}\n",
        "%\n",
        "  \\begin{bmatrix}\n",
        "    3 \\\\\n",
        "    2 \\\\\n",
        "  \\end{bmatrix}\n",
        " %\n",
        "=\n",
        "  \\begin{bmatrix}\n",
        "    1*3 + 0*2 \\\\\n",
        "    0*3 + 1*2 \\\\\n",
        "  \\end{bmatrix}\n",
        "%\n",
        "=\n",
        "  \\begin{bmatrix}\n",
        "    3 \\\\\n",
        "    2 \\\\\n",
        "  \\end{bmatrix} \n",
        "$$"
      ]
    },
    {
      "cell_type": "markdown",
      "metadata": {
        "id": "YMyZDdCNm22L"
      },
      "source": [
        "Generel brug: \n",
        "$$\n",
        "  \\begin{bmatrix}\n",
        "    1 & 0 \\\\\n",
        "    0 & 1 \\\\\n",
        "  \\end{bmatrix}\n",
        "%\n",
        "  \\begin{bmatrix}\n",
        "    x_1 \\\\\n",
        "    x_2 \\\\\n",
        "  \\end{bmatrix}\n",
        " %\n",
        "=\n",
        "  \\begin{bmatrix}\n",
        "    1x_1 + 0x_2 \\\\\n",
        "    0x_1 + 1x_2 \\\\\n",
        "  \\end{bmatrix}\n",
        "%\n",
        "=\n",
        "  \\begin{bmatrix}\n",
        "    x_1 \\\\\n",
        "    x_2 \\\\\n",
        "  \\end{bmatrix} \n",
        "$$"
      ]
    },
    {
      "cell_type": "markdown",
      "metadata": {
        "id": "TDaxYlW3lTRX"
      },
      "source": [
        "Hvis vi kan transformere matrix $A$ og konvertere den til identitetsmatrixen, er det kun løsningsvektoren $\\vec{x}$ der vil blive tilbage. \n",
        "\n",
        "Lad os lige øve at arbejde med identitetsmatrix, før vi prøver at løse transformationen af $A$ til $I$.\n",
        "\n",
        "Vi kan oprette en hvilken som helst identitetsmatrix ved hjælp af funktionen `numpy.identity()`. Denne funktion har kun 1 parameter, `n`, som specificerer den $n * n$ identitesmatrix, vi har brug for.\n",
        "\n"
      ]
    },
    {
      "cell_type": "markdown",
      "metadata": {
        "id": "hwAIXyEjpf1_"
      },
      "source": [
        "**Øvelse** \n",
        "\n",
        "* Generer $I_2$ og tildel til **i_2**\n",
        "* Generer $I_3$ og tildel til **i_3**\n",
        "* Generer en 3 * 3 matrix og tildel til **matrix_33** brug `np.random.rand(n,n)` for at generere en random matrix (sparer tid...)\n",
        "* Generer en 2 * 3 matrix og tildel til **matrix_23**\n",
        "* Multiplicer **i_3** med **matrix_33** og tildel til **identity_33**\n",
        "* Multiplicer **i_2** med **matrix_23** og tildel til **identity_23**\n",
        "\n",
        "**identity_33** burde matche **matrix_33** og **identity_23** burde matche **matrix_23**"
      ]
    },
    {
      "cell_type": "code",
      "metadata": {
        "id": "jMGrQhJmkM5-"
      },
      "source": [
        ""
      ],
      "execution_count": 21,
      "outputs": []
    },
    {
      "cell_type": "markdown",
      "metadata": {
        "id": "O9pOdp_yp-yv"
      },
      "source": [
        "#### Del 3.6\n",
        "\n",
        "Nu ved vi lidt mere om identitetsmatricen og kan overveje hvordan vi annullerer\n",
        "koefficientmatrixen $A$. Eller sagt på en anden måde: Vi vil prøve at transformere $A$ til identitetsmatricen $I$. Dette gøres ved at multiplicere den **inverse** matrix med matricen. \n",
        "\n"
      ]
    },
    {
      "cell_type": "markdown",
      "metadata": {
        "id": "cscZKTKWrtxG"
      },
      "source": [
        "En invers matrix svarer til ideen om multiplikativ invers. Hvis vi, for eksempel, vil løse $x$ i ligningen $5x = 10$. For at gøre dette, har vi\n",
        "brug for at multiplicere begge sider med den multiplikative inverse af $5$, som er $5^{-1}$ (eller $1/5$):\n",
        "\n",
        "$5^{-1}*5x = 5^{-1} * 10$\n",
        "\n",
        "Det omvendte af $5$ forvandler det til $1$ og efterlader os med løsningen: $x = 2$. For at løse for vektoren $\\vec{x}$ i matrixligningen, er vi nødt til at gange begge sider med det inverse $A$:\n",
        "\n",
        "$A^{-1}A\\vec{x}=A^{-1}\\vec{b}$\n",
        "\n",
        "Dette kan simplificeres til $I\\vec{x}=A^{-1}\\vec{b}$, hvilket giver os formularen til at udregne løsningsvektoren:\n",
        "\n",
        "$\\vec{x} = A^{-1}\\vec{b}$"
      ]
    },
    {
      "cell_type": "markdown",
      "metadata": {
        "id": "Bew8c0w4tzAL"
      },
      "source": [
        "Selvom vi bruger *inverse matrix* til at annullere bestemte i princippet på samme måde som når man bruger multiplikativ invers, er beregningen helt anderledes. Lad os forstå beregningen for det inverse af en 2 * 2 matrix.\n",
        "\n",
        "Hvis $ A = \n",
        "  \\begin{bmatrix}\n",
        "    a & b\\\\\n",
        "    c & d \\\\\n",
        "  \\end{bmatrix}$\n",
        "så $A^{-1} = \\frac{1}{ad-bc}\\begin{bmatrix}\n",
        "    d & -b\\\\\n",
        "    -c & a \\\\\n",
        "  \\end{bmatrix}$\n",
        "\n",
        "\n",
        "Udtrykket $ad - bc$ er kendt som **determinanten** og skrives ofte som\n",
        "eller som $det(A) = ad - bc$ eller som $|A| = ad - bc$. Fordi vi deler med determinanten ved beregning af den inverse matrice, er en 2 x 2 matrix kun inverterbar, hvis determinanten ikke er lig med 0. \n",
        "\n",
        "I dette trin og det næste trin vil vi fokusere på\n",
        "at finde den inverse matrix, når $A$ er en 2 x 2 matrix. Senere vil vi gennemgå, hvordan man beregner den inverse matrix til en højere dimensionel matrix (3 x 3 og derover).\n",
        "\n",
        "Lad os implementere en invers matrix i Python før vi forsøger at løse matrixligningen. \n"
      ]
    },
    {
      "cell_type": "markdown",
      "metadata": {
        "id": "aT-jJZBGvpDF"
      },
      "source": [
        "**Øvelse**\n",
        "\n",
        "* Opret en funktion ved navn **matrix_inverse_two()**, der accepterer en 2 x\n",
        "2 matrix, som en NumPy ndarray, og returnerer en invers matrix. Denne funktion\n",
        "skal først beregne matrixens determinant.\n",
        "  * Hvis determinanten er lig med 0, skal en fejl returneres.\n",
        "  * Hvis determinanten ikke er lig med 0, skal denne funktion returnere invers matrix.\n",
        "* Beregn det inverse af **matrix_a** ved hjælp af den funktion, du lige har skrevet og tildel resultatet til **inverse_a**.\n",
        "* Multiplicer **inverse_a** med **matrix_a**, og tildel resultatet til **i_2**. Vis **i_2** ved hjælp af print() funktionen.\n",
        "\n"
      ]
    },
    {
      "cell_type": "code",
      "metadata": {
        "id": "NWsENaRPyUuZ"
      },
      "source": [
        ""
      ],
      "execution_count": 45,
      "outputs": []
    },
    {
      "cell_type": "markdown",
      "metadata": {
        "id": "RKhi8dRiyhGK"
      },
      "source": [
        "#### Del 3.7\n",
        "Nu hvor vi ved, hvordan vi beregner den inverse matrix, kan vi løse vores system ved hjælp af matrixligning $A\\vec{x} = \\vec{b}$ som nedenfor.\n",
        " \n",
        "$$\n",
        "  \\begin{bmatrix}\n",
        "    300 & -1 \\\\\n",
        "    400 & -1 \\\\\n",
        "  \\end{bmatrix}\n",
        "%\n",
        "  \\begin{bmatrix}\n",
        "    x_1 \\\\\n",
        "    x_2\\\\\n",
        "  \\end{bmatrix}\n",
        " %\n",
        "=\n",
        "  \\begin{bmatrix}\n",
        "    -2500 \\\\\n",
        "    -500 \\\\\n",
        "  \\end{bmatrix} \n",
        "$$\n",
        "\n",
        "Vi starter med at gange med $A^{-1}$ på begge sider:\n",
        "\n",
        "$$\n",
        "  \\begin{bmatrix}\n",
        "    300 & -1 \\\\\n",
        "    400 & -1 \\\\\n",
        "  \\end{bmatrix}\n",
        "^{-1}\n",
        "%\n",
        "  \\begin{bmatrix}\n",
        "    300 & -1 \\\\\n",
        "    400 & -1 \\\\\n",
        "  \\end{bmatrix}\n",
        "%\n",
        "   \\begin{bmatrix}\n",
        "    x_1\\\\\n",
        "    x_2 \\\\\n",
        "  \\end{bmatrix}\n",
        "=\n",
        "  \\begin{bmatrix}\n",
        "    300 & -1 \\\\\n",
        "    400 & -1 \\\\\n",
        "  \\end{bmatrix}\n",
        "^{-1}\n",
        "%\n",
        "  \\begin{bmatrix}\n",
        "    -2500 \\\\\n",
        "    -500 \\\\\n",
        "  \\end{bmatrix} \n",
        "$$\n",
        "\n",
        "Dette kan skrives som :\n",
        "\n",
        "$$   \n",
        "\\begin{bmatrix}\n",
        "    x_1\\\\\n",
        "    x_2 \\\\\n",
        "  \\end{bmatrix}\n",
        "=\n",
        "  \\begin{bmatrix}\n",
        "    300 & -1 \\\\\n",
        "    400 & -1 \\\\\n",
        "  \\end{bmatrix}\n",
        "^{-1}\n",
        "%\n",
        "  \\begin{bmatrix}\n",
        "    -2500 \\\\\n",
        "    -500 \\\\\n",
        "  \\end{bmatrix} \n",
        "$$\n"
      ]
    },
    {
      "cell_type": "markdown",
      "metadata": {
        "id": "Nu_ZHi_L4j0z"
      },
      "source": [
        "Lad os afslutte det sidste trin i Python. For at beregne det inverse af en NumPy ndarray, kan vi bruge funktionen **numpy.linalg.inv()**.\n",
        "\n",
        "**Øvelse**\n",
        "* Afslut beregning af ligningen, og tildel løsningsvektoren til **solution_x**:\n",
        "* Vis **solution_x** ved hjælp af **print()** funktionen\n"
      ]
    },
    {
      "cell_type": "markdown",
      "metadata": {
        "id": "nFu-EutU5Zus"
      },
      "source": [
        "#### Del 3.8\n",
        "Før vi undersøger, hvordan man beregner den inverse matrix for fler-dimensionelle matricer, skal vi først dykke dybere ned i determinanten og introducere noget mere terminologi. Indtil videre har vi for det meste arbejdet med matricer, der indeholder det samme antal rækker og kolonner. Disse matricer er kendt som kvadratmatricer, og vi kan kun beregne determinanten og den inverse matrix for kvadratmatricer. Derudover kan vi kun beregne den inverse matrix af kvadratmatricer, når determinanten **ikke** er lig med 0.\n",
        "\n",
        "For at finde determinanten for en fler-dimensionel kvadratmatrix skal vi bruge\n",
        "den mere generelle form af determinanten. Den ser sådan ud:\n",
        "\n",
        "$ det( \n",
        "  \\begin{bmatrix}\n",
        "    a & b & c\\\\\n",
        "    d & e & f \\\\\n",
        "    g & h & i\n",
        "  \\end{bmatrix}) = a* det\n",
        "  (\\begin{bmatrix}\n",
        "    e & f\\\\\n",
        "    h & i \\\\\n",
        "  \\end{bmatrix})\n",
        "  - b*det(\n",
        "  \\begin{bmatrix}\n",
        "    d & f\\\\\n",
        "    g & i \\\\\n",
        "  \\end{bmatrix}) + c* det\n",
        "  (\\begin{bmatrix}\n",
        "    d & e\\\\\n",
        "    g & h \\\\\n",
        "  \\end{bmatrix})$\n",
        "\n",
        "\n"
      ]
    },
    {
      "cell_type": "markdown",
      "metadata": {
        "id": "i1pfRqi18VN6"
      },
      "source": [
        "Determinanten for et fler-dimensionelt system er forbundet med at nedbryde den fulde\n",
        "matrix til mindre matricer. Først vælger vi en række eller kolonne (der vælges  tit den første række). For den første værdi i den valgte række \"skjuler\" vi de værdier i den række (2. og 3. værdi i rækken) og i den tilsvarende kolonne (2. og 3. værdi i kolonnen), benyt resten af elementerne som den mindre matrix, og gang den skalære værdi med determinanten for den mindre matrix. Vi gentager dette for de resterende værdier i første række. \n",
        "\n",
        "Dette diagram hjælper med at illustrere processen bedre:"
      ]
    },
    {
      "cell_type": "code",
      "metadata": {
        "id": "deEZu3xA-g-p"
      },
      "source": [
        ""
      ],
      "execution_count": null,
      "outputs": []
    },
    {
      "cell_type": "markdown",
      "metadata": {
        "id": "-9Rio0J7-hGk"
      },
      "source": [
        "Her er et konkret eksempel: \n",
        "\n",
        "$ det( \n",
        "  \\begin{bmatrix}\n",
        "    1 & 2 & 3\\\\\n",
        "    4 & 5 & 6 \\\\\n",
        "    7 & 8 & 9\n",
        "  \\end{bmatrix}) = 1* det\n",
        "  (\\begin{bmatrix}\n",
        "    5 & 6\\\\\n",
        "    8 & 9 \\\\\n",
        "  \\end{bmatrix})\n",
        "  - 2*det(\n",
        "  \\begin{bmatrix}\n",
        "    4 & 6\\\\\n",
        "    7 & 9 \\\\\n",
        "  \\end{bmatrix}) + 3* det\n",
        "  (\\begin{bmatrix}\n",
        "    4 & 5\\\\\n",
        "    7 & 8 \\\\\n",
        "  \\end{bmatrix})$"
      ]
    },
    {
      "cell_type": "markdown",
      "metadata": {
        "id": "i3e-xJ3y-91Y"
      },
      "source": [
        "For at beregne determinanten i NumPy bruger vi funktionen **numpy.linalg.det()**. Vi overlader det til dig at læse [dokumentationen](https://numpy.org/doc/stable/reference/generated/numpy.linalg.det.html) og lære, hvordan du bruger denne funktion. \n",
        "\n",
        "**Øvelse**\n",
        "* Beregn determinanten for **matrix_22**, og tildel til **det_22**.\n",
        "* Beregn determinanten for **matrix_33** og tildel til **det_33**\n"
      ]
    },
    {
      "cell_type": "code",
      "metadata": {
        "id": "2dd9RAebvArx"
      },
      "source": [
        ""
      ],
      "execution_count": null,
      "outputs": []
    },
    {
      "cell_type": "markdown",
      "metadata": {
        "id": "B2-ykGUYAOdq"
      },
      "source": [
        "#### Del 3.9\n",
        "For at beregne en invers matrix for en 3 * 3 eller større matrix, skal vi også arbejde med den mere generelle form af matrixens inverse ligning. Svarende til determinanten for fler-dimensionelle matricer fungerer den inverse matrix ved at generere mindre matricer, der er afhængige af positionen i matrixen. Her er et diagram, der beskriver den inverse matrix for en 3 * 3 matrix:\n",
        "\n",
        "\n"
      ]
    },
    {
      "cell_type": "markdown",
      "metadata": {
        "id": "kS3kxxcPBWi3"
      },
      "source": [
        "$ \n",
        "\\begin{bmatrix}\n",
        "    a & b & c\\\\\n",
        "    d & e & f \\\\\n",
        "    g & h & i\n",
        "\\end{bmatrix} ^{-1} = \n",
        "\\frac{1}{det(\\begin{bmatrix}\n",
        "    a & b & c\\\\\n",
        "    d & e & f \\\\\n",
        "    g & h & i\n",
        "\\end{bmatrix})}\n",
        "\\begin{bmatrix}\n",
        "    det(\\begin{bmatrix}\n",
        "    a & - & -\\\\ \n",
        "    - & e & f \\\\\n",
        "    - & h & i \\end{bmatrix})  \n",
        "  & ... \n",
        "  & det(\\begin{bmatrix}\n",
        "    - & - & c\\\\\n",
        "    d & e & - \\\\\n",
        "    g & h & - \\end{bmatrix}) \\\\\n",
        "... & ... & ... \\\\\n",
        "det(\\begin{bmatrix}\n",
        "    - & b & c\\\\ \n",
        "    - & e & f \\\\\n",
        "    g & - & - \\end{bmatrix})  \n",
        "  & ... \n",
        "  & det(\\begin{bmatrix}\n",
        "    a & b & -\\\\\n",
        "    d & e & - \\\\\n",
        "    - & - & i \\end{bmatrix}) \\\\\n",
        "\\end{bmatrix}\n",
        "$"
      ]
    },
    {
      "cell_type": "markdown",
      "metadata": {
        "id": "yULx4I8WA_Av"
      },
      "source": [
        "Selvom det er nyttigt at vide, hvordan man beregner det inverse på denne måde til fler-dimensionelle matricer, er mængden af omhyggelig aritmetik, du skal udføre i hånden, stor. Heldigvis, kan funktionen **numpy.linalg.inv()** arbejde med enhver n-dimensionel kvadratmatrix. \n"
      ]
    },
    {
      "cell_type": "markdown",
      "metadata": {
        "id": "P_8-NZ8OFiQe"
      },
      "source": [
        "I denne session lærte vi om de forskellige matrixoperationer, og hvordan man løser et lineært system, der er repræsenteret som en matrixligning ved hjælp af en invers matrix. I den næste session lærer vi forskellige måder,hvordan et løsningssæt kan repræsenteres på, og hvordan man beregner determinanten for en fler-dimensionel matrix."
      ]
    },
    {
      "cell_type": "markdown",
      "metadata": {
        "id": "MeRR4VgtIU7w"
      },
      "source": [
        "#### Opsummering: Matrix algebra\n"
      ]
    },
    {
      "cell_type": "code",
      "metadata": {
        "id": "SoFWCxjxIfUz"
      },
      "source": [
        "# Brug NumPy til at multiplicere en matrix med en vektor:\n",
        "matrix_a = np.asarray([\n",
        "[0.7, 3, 9],\n",
        "[1.7, 2, 9],\n",
        "[0.7, 9, 2]\n",
        "], dtype=np.float32)\n",
        "vector_b = np.asarray([\n",
        "[1], [2], [1]\n",
        "], dtype=np.float32)\n",
        "ab_product = np.dot(matrix_a, vector_b)"
      ],
      "execution_count": null,
      "outputs": []
    },
    {
      "cell_type": "code",
      "metadata": {
        "id": "bAOzObxXIpiZ"
      },
      "source": [
        "# Brug NumPy til at transponere en matrix:\n",
        "matrix_b = np.asarray([\n",
        "[113, 3, 10],\n",
        "[1, 0, 1],\n",
        "], dtype=np.float32)\n",
        "transpose_b = np.transpose(matrix_b)"
      ],
      "execution_count": null,
      "outputs": []
    },
    {
      "cell_type": "code",
      "metadata": {
        "id": "34N18LMeI9Dz"
      },
      "source": [
        "# generer inverse matrix med NumPy:\n",
        "np.identity(3) # creates the 3x3 identity matrix "
      ],
      "execution_count": null,
      "outputs": []
    },
    {
      "cell_type": "code",
      "metadata": {
        "id": "1oElwrkYJErQ"
      },
      "source": [
        "# Udregn den inverse matrix med NumPy:\n",
        "matrix_c = np.asarray([\n",
        "[30, -1],\n",
        "[50, -1]\n",
        "])\n",
        "matrix_c_inverse = np.linalg.inv(matrix_c)"
      ],
      "execution_count": null,
      "outputs": []
    },
    {
      "cell_type": "code",
      "metadata": {
        "id": "5OdVkaXoJQN_"
      },
      "source": [
        "# Udregn determinanten af en matrix med NumPy:\n",
        "matrix_22 = np.asarray([\n",
        "[8, 4],\n",
        "[4, 2]\n",
        "])\n",
        "det_22 = np.linalg.det(matrix_22)"
      ],
      "execution_count": null,
      "outputs": []
    },
    {
      "cell_type": "markdown",
      "metadata": {
        "id": "ghXT9Ci8JYnt"
      },
      "source": [
        "##### **Hovedkoncepter**\n",
        "* Mange operationer, der kan udføres på vektorer, kan også udføres på matricer. Vi kan udføre følgende operationer med matricer:\n",
        "  * Tilføje og fratrække matricer, der indeholder den samme mængde rækker og kolonner.\n",
        "  * Multiplicere en matrix med en skalær værdi.\n",
        "  * Multiplicere en matrix med en vektor og andre matricer. For at multiplicere med en vektor eller en anden matrix, skal antallet af kolonner matche med antallet af rækker in vektoren eller matricen. \n",
        "* At transponere en matrix, vender rundt på rækker og kolonner i en matrix. Matematisk, kan vi benytte notationen $A^T$ til at specificere transponeringsoperationen. \n",
        "* Identitetsmatricen ineholder værdien $1$ på diagonalen, og værdien $0$ på de resterende positioner. Identitetsmatricen er ofte repræsenteret ved $I_n$ hvor $n$ er antallet af rækker og kolonner. \n",
        "* når vi multiplicerer med en vilkårlig vektor indeholdende 2 elementer, vil den resulterende vektor matche originale vektor fuldstændig.  \n",
        "* For at transformere $A$ til en identitetsmatrice $I$ i $A\\vec{x} = \\overrightarrow{b}$, multiplicerer vi begge sider med det inverse af matrix $A$. \n",
        "* Det inverse af en 2x2 matrix kan findes ved at bruge følgende formel: \n",
        "  * $ A = \n",
        "  \\begin{bmatrix}\n",
        "    a & b\\\\\n",
        "    c & d \\\\\n",
        "  \\end{bmatrix}$\n",
        "så $A^{-1} = \\frac{1}{ad-bc}\\begin{bmatrix}\n",
        "    d & -b\\\\\n",
        "    -c & a \\\\\n",
        "  \\end{bmatrix}$\n",
        "* Hvis determinanten a en 2x2 matrix, eller $ad-bc$ er lig med 0, er matricen **ikke** inverterbar. Man kan udelukkende udregne determinanten og den inverse matrice for matricer der har den samme mængde rækker og kolonner. \n",
        "* for at udregne determinanten for andre 2x2 matricer, kan vi opdele den fulde matrice ud til mindre matricer. \n"
      ]
    }
  ]
}
