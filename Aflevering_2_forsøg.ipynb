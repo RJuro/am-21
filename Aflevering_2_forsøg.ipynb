{
  "nbformat": 4,
  "nbformat_minor": 0,
  "metadata": {
    "colab": {
      "name": "Copy of AM2021 Aflevering 2.forsøg.ipynb",
      "provenance": [],
      "authorship_tag": "ABX9TyNn3SGypY0UHHzGHG6kShFa",
      "include_colab_link": true
    },
    "kernelspec": {
      "name": "python3",
      "display_name": "Python 3"
    },
    "language_info": {
      "name": "python"
    }
  },
  "cells": [
    {
      "cell_type": "markdown",
      "metadata": {
        "id": "view-in-github",
        "colab_type": "text"
      },
      "source": [
        "<a href=\"https://colab.research.google.com/github/RJuro/am-21/blob/main/Aflevering_2_fors%C3%B8g.ipynb\" target=\"_parent\"><img src=\"https://colab.research.google.com/assets/colab-badge.svg\" alt=\"Open In Colab\"/></a>"
      ]
    },
    {
      "cell_type": "markdown",
      "metadata": {
        "id": "Dz1gXFS1f_aU"
      },
      "source": [
        "# 2. forsøg - Aflevering i Anvendt Matematik\n",
        "\n",
        "Du SKAL besvare de 2 dele for at komme videre til eksamen.\n",
        "\n",
        "## 1. Lineær Algebra\n",
        "\n",
        "![](https://source.unsplash.com/MAVgiId1FKk)\n",
        "\n",
        "Juice-kæden \"Juicy Jack\" overveje at introducere 3 nye typer af produkter og laver en lille regning for en dag for at finde uf af hvor meget de skal producere og markedsføre de forskellige produkter.\n",
        "\n",
        "### Priser\n",
        "* \"WAKE UP CALL\" - 56 dkk/kop\n",
        "* \"HAPPY FLAPPY\" - 48 dkk/kop\n",
        "* \"SLUMBER JACK\" - 62 dkk/kop\n",
        "\n",
        "### Ingredienser (per kop):\n",
        "\n",
        "1.   Æble juice:\n",
        "    * 160 ml til \"WAKE UP CALL\"\n",
        "    * 240 ml til \"HAPPY FLAPPY\"\n",
        "    * 75 ml til \"SLUMBER JACK\"\n",
        "\n",
        "2.   Ingefær juice:\n",
        "    * 11 ml til \"WAKE UP CALL\"\n",
        "    * 2.4 ml til \"HAPPY FLAPPY\"\n",
        "    * 4.6 ml til \"SLUMBER JACK\"\n",
        "\n",
        "3.   Passionsfrugt juice:\n",
        "    * 9 ml til \"WAKE UP CALL\"\n",
        "    * 72 ml til \"HAPPY FLAPPY\"\n",
        "    * 135 ml til \"SLUMBER JACK\"\n",
        "\n",
        "### Hvad der kan max produceres af de forskelliger ingredienser per uge (andel reserveret til de 3 nye produkter)\n",
        "*  105 liter Æble juice\n",
        "*   3.2 liter Ingefær juice\n",
        "*   45 liter Passionsfrugt juice"
      ]
    },
    {
      "cell_type": "markdown",
      "metadata": {
        "id": "9qIp7A0hoVsn"
      },
      "source": [
        "I denne opgave skal vi tænke på en måde, hvor ingredienser skal fordeles på de forskellige produkter f.eks:\n",
        "\n",
        "$160x + 240y + 75z = 105000$ for æblejuicen.\n",
        "\n",
        "#### 1.1 Brug sympy til at opstille ligninger for alle ingredienser\n"
      ]
    },
    {
      "cell_type": "code",
      "metadata": {
        "id": "9OmPzeuozfQR"
      },
      "source": [
        "# importer pakker\n",
        "from sympy import *\n",
        "import numpy as np\n",
        "np.set_printoptions(suppress=True)\n",
        "from scipy import linalg\n"
      ],
      "execution_count": 5,
      "outputs": []
    },
    {
      "cell_type": "code",
      "metadata": {
        "id": "FSdV_Lorf2F4"
      },
      "source": [
        "# definer symboler\n",
        "x, y, z = symbols('x, y, z')\n",
        "\n",
        "# definer ligninger\n",
        "eq1 = Eq(160*x + 240*y + 75*z, 105000) # æblejuice fordeling\n",
        "eq2 = Eq(11*x + 2.4*y + 4.6*z, 3200)   \n",
        "eq3 = Eq(9*x + 72*y + 135*z, 45000)   "
      ],
      "execution_count": 6,
      "outputs": []
    },
    {
      "cell_type": "code",
      "metadata": {
        "colab": {
          "base_uri": "https://localhost:8080/",
          "height": 38
        },
        "id": "Ub38x0BQzKgv",
        "outputId": "3941596d-e308-44a9-b2ba-97c2e6ca68f5"
      },
      "source": [
        "# vis ligning 1\n",
        "eq1"
      ],
      "execution_count": 7,
      "outputs": [
        {
          "output_type": "execute_result",
          "data": {
            "text/latex": "$\\displaystyle 160 x + 240 y + 75 z = 105000$",
            "text/plain": [
              "Eq(160*x + 240*y + 75*z, 105000)"
            ]
          },
          "metadata": {
            "tags": []
          },
          "execution_count": 7
        }
      ]
    },
    {
      "cell_type": "code",
      "metadata": {
        "colab": {
          "base_uri": "https://localhost:8080/",
          "height": 38
        },
        "id": "Kuiee96lr6s7",
        "outputId": "6088394f-147a-4637-dcfa-5060eb40ab3d"
      },
      "source": [
        "# vis ligning 2\n",
        "eq2"
      ],
      "execution_count": 8,
      "outputs": [
        {
          "output_type": "execute_result",
          "data": {
            "text/latex": "$\\displaystyle 11 x + 2.4 y + 4.6 z = 3200$",
            "text/plain": [
              "Eq(11*x + 2.4*y + 4.6*z, 3200)"
            ]
          },
          "metadata": {
            "tags": []
          },
          "execution_count": 8
        }
      ]
    },
    {
      "cell_type": "code",
      "metadata": {
        "colab": {
          "base_uri": "https://localhost:8080/",
          "height": 38
        },
        "id": "hWOFNCLNr6iW",
        "outputId": "d1f4d737-00c9-49ce-caa5-a5bd35781af6"
      },
      "source": [
        "# vis ligning 3\n",
        "eq3"
      ],
      "execution_count": 9,
      "outputs": [
        {
          "output_type": "execute_result",
          "data": {
            "text/latex": "$\\displaystyle 9 x + 72 y + 135 z = 45000$",
            "text/plain": [
              "Eq(9*x + 72*y + 135*z, 45000)"
            ]
          },
          "metadata": {
            "tags": []
          },
          "execution_count": 9
        }
      ]
    },
    {
      "cell_type": "markdown",
      "metadata": {
        "id": "GpG2INbZzofl"
      },
      "source": [
        "#### 1.2 Skriv ligninger om til matrix form.\n",
        "\n",
        "Opstil først matrix $A$ og vector $\\vec{b}$"
      ]
    },
    {
      "cell_type": "code",
      "metadata": {
        "id": "3FDsg4mVz7oi"
      },
      "source": [
        "# definer matrix A\n",
        "matrix_a = np.array([\n",
        "[160,\t240, 75],\n",
        "[11, 2.4, 4.6],\n",
        "[9, 72, 135]\n",
        "])\n",
        "\n",
        "# definer vector b\n",
        "vector_b = np.array([105000, 3200, 45000])"
      ],
      "execution_count": 10,
      "outputs": []
    },
    {
      "cell_type": "code",
      "metadata": {
        "colab": {
          "base_uri": "https://localhost:8080/",
          "height": 78
        },
        "id": "DYSiklz7124i",
        "outputId": "bf487a3c-e16e-420a-aed6-319f68c1a542"
      },
      "source": [
        "# vis matrix A\n",
        "Matrix(matrix_a)"
      ],
      "execution_count": 11,
      "outputs": [
        {
          "output_type": "execute_result",
          "data": {
            "text/latex": "$\\displaystyle \\left[\\begin{matrix}160.0 & 240.0 & 75.0\\\\11.0 & 2.4 & 4.6\\\\9.0 & 72.0 & 135.0\\end{matrix}\\right]$",
            "text/plain": [
              "Matrix([\n",
              "[160.0, 240.0,  75.0],\n",
              "[ 11.0,   2.4,   4.6],\n",
              "[  9.0,  72.0, 135.0]])"
            ]
          },
          "metadata": {
            "tags": []
          },
          "execution_count": 11
        }
      ]
    },
    {
      "cell_type": "code",
      "metadata": {
        "colab": {
          "base_uri": "https://localhost:8080/",
          "height": 78
        },
        "id": "KbFtASfs16uk",
        "outputId": "a2eba878-14ed-4113-f8b3-cb8abe1126d7"
      },
      "source": [
        "# vis vector b\n",
        "Matrix(vector_b)"
      ],
      "execution_count": 12,
      "outputs": [
        {
          "output_type": "execute_result",
          "data": {
            "text/latex": "$\\displaystyle \\left[\\begin{matrix}105000\\\\3200\\\\45000\\end{matrix}\\right]$",
            "text/plain": [
              "Matrix([\n",
              "[105000],\n",
              "[  3200],\n",
              "[ 45000]])"
            ]
          },
          "metadata": {
            "tags": []
          },
          "execution_count": 12
        }
      ]
    },
    {
      "cell_type": "markdown",
      "metadata": {
        "id": "hyPT0QU54Cc2"
      },
      "source": [
        "#### 1.3 Beregn $A^{-1}$ ved at bruge numpy funktion til dette."
      ]
    },
    {
      "cell_type": "code",
      "metadata": {
        "colab": {
          "base_uri": "https://localhost:8080/"
        },
        "id": "dFmmXE19sC-9",
        "outputId": "44e27a3a-82ae-4e26-df8e-cd31d2b5480b"
      },
      "source": [
        "# beregn inverse af A og print ud\n",
        "matrix_a_inverse = np.linalg.inv(matrix_a)\n",
        "\n",
        "print(matrix_a_inverse)"
      ],
      "execution_count": 13,
      "outputs": [
        {
          "output_type": "stream",
          "text": [
            "[[ 0.00002484  0.09315613 -0.00318801]\n",
            " [ 0.00498075 -0.072196   -0.00030707]\n",
            " [-0.00265805  0.03229412  0.00778371]]\n"
          ],
          "name": "stdout"
        }
      ]
    },
    {
      "cell_type": "markdown",
      "metadata": {
        "id": "PCkUjcSB4XfC"
      },
      "source": [
        "#### 1.4 Vis, at $A^{-1}A = I$"
      ]
    },
    {
      "cell_type": "code",
      "metadata": {
        "colab": {
          "base_uri": "https://localhost:8080/"
        },
        "id": "gDundbPa2fkD",
        "outputId": "cf55ce49-c975-43b4-afb7-5786e489f51a"
      },
      "source": [
        "# beregn dotproduct af A^-1 og matrix A, vis at det er lige med I, print I\n",
        "identity_matrix=np.dot(matrix_a_inverse, matrix_a)\n",
        "\n",
        "print(identity_matrix)"
      ],
      "execution_count": 14,
      "outputs": [
        {
          "output_type": "stream",
          "text": [
            "[[ 1.  0. -0.]\n",
            " [ 0.  1.  0.]\n",
            " [-0. -0.  1.]]\n"
          ],
          "name": "stdout"
        }
      ]
    },
    {
      "cell_type": "markdown",
      "metadata": {
        "id": "eiOtCUNX5L15"
      },
      "source": [
        "#### 1.5 Beregn $\\vec{x}$ \n",
        "Vi ved, at $I\\vec{x}=\\vec{x}$ og derfor bliver $A^{-1}A\\vec{x}=A^{-1}\\vec{b}$ til $\\vec{x} = A^{-1}\\vec{b}$"
      ]
    },
    {
      "cell_type": "code",
      "metadata": {
        "colab": {
          "base_uri": "https://localhost:8080/"
        },
        "id": "qhQCKsrJ2lGT",
        "outputId": "8ee42acc-b6ab-4bc4-be49-27b999a5e12a"
      },
      "source": [
        "# beregn vector x med løsninger for hvor mange kopper der skal juices...\n",
        "vector_x=np.dot(matrix_a_inverse,vector_b)\n",
        "\n",
        "print(vector_x) "
      ],
      "execution_count": 15,
      "outputs": [
        {
          "output_type": "stream",
          "text": [
            "[157.24754689 278.13315116 174.51248292]\n"
          ],
          "name": "stdout"
        }
      ]
    },
    {
      "cell_type": "markdown",
      "metadata": {
        "id": "xDYOQ_zh5apU"
      },
      "source": [
        "Tjek om din løsning passer ved at beregne med Scipy og Sympy"
      ]
    },
    {
      "cell_type": "code",
      "metadata": {
        "colab": {
          "base_uri": "https://localhost:8080/"
        },
        "id": "OIKxenbz22sj",
        "outputId": "e280cc7d-f0b9-425d-cc0d-0f40dc1af9ac"
      },
      "source": [
        "# tjek med sympy\n",
        "solutions = linalg.solve(matrix_a,vector_b)\n",
        "print(solutions)"
      ],
      "execution_count": 16,
      "outputs": [
        {
          "output_type": "stream",
          "text": [
            "[157.24754689 278.13315116 174.51248292]\n"
          ],
          "name": "stdout"
        }
      ]
    },
    {
      "cell_type": "code",
      "metadata": {
        "colab": {
          "base_uri": "https://localhost:8080/"
        },
        "id": "-NNYacXpru-z",
        "outputId": "ac719646-70e7-4c41-987e-b6d58135b708"
      },
      "source": [
        "# tjek med sympy\n",
        "solve((eq1, eq2, eq3), (x, y, z))"
      ],
      "execution_count": 17,
      "outputs": [
        {
          "output_type": "execute_result",
          "data": {
            "text/plain": [
              "{x: 157.247546888585, y: 278.133151161346, z: 174.512482921376}"
            ]
          },
          "metadata": {
            "tags": []
          },
          "execution_count": 17
        }
      ]
    },
    {
      "cell_type": "markdown",
      "metadata": {
        "id": "w0zw54XX5pEJ"
      },
      "source": [
        "#### 1.6 Hvor meget kan man så sælge for om ugen på disse drinks? (husk at runde ned)"
      ]
    },
    {
      "cell_type": "code",
      "metadata": {
        "colab": {
          "base_uri": "https://localhost:8080/"
        },
        "id": "_k-bdxHqture",
        "outputId": "53bd0203-89ef-465b-f7d2-a9592d46d290"
      },
      "source": [
        "# hvor mange penge sælger de for om ugen?\n",
        "157*56 + 278*48 + 62*174"
      ],
      "execution_count": 18,
      "outputs": [
        {
          "output_type": "execute_result",
          "data": {
            "text/plain": [
              "32924"
            ]
          },
          "metadata": {
            "tags": []
          },
          "execution_count": 18
        }
      ]
    },
    {
      "cell_type": "markdown",
      "metadata": {
        "id": "8GdNGHLbiX-B"
      },
      "source": [
        "# Opgave 2 - Calculus\n",
        "\n",
        "I denne del arbejder vi med funktionen $f(x) = 1+80x^3+5x^4-2x^5$"
      ]
    },
    {
      "cell_type": "code",
      "metadata": {
        "id": "XLH5llqNjPPj"
      },
      "source": [
        "# import af alle pakker, som der er brug for i opgaven\n",
        "\n",
        "import numpy as np\n",
        "import matplotlib.pyplot as plt\n",
        "from sympy import *"
      ],
      "execution_count": 19,
      "outputs": []
    },
    {
      "cell_type": "markdown",
      "metadata": {
        "id": "GEFBcUVtjeG5"
      },
      "source": [
        "### 1.1 - Plot funktionen \n",
        "\n",
        "- brug numpy og pyplot/matplotlib\n",
        "- plot for $-5 ≤ x ≤ 5$"
      ]
    },
    {
      "cell_type": "code",
      "metadata": {
        "colab": {
          "base_uri": "https://localhost:8080/",
          "height": 282
        },
        "id": "C-0wzG0xCRRO",
        "outputId": "0a956853-a888-41a1-a0c7-4ce8c68081b7"
      },
      "source": [
        "# brug np.linspace til at generere 100 værdier og plot funktionen\n",
        "x = np.linspace(-5, 5, num=100)\n",
        "y = 1 + 80*x**3 + 5*x**4 - 2*x**5\n",
        "\n",
        "plt.plot(x,y)"
      ],
      "execution_count": 20,
      "outputs": [
        {
          "output_type": "execute_result",
          "data": {
            "text/plain": [
              "[<matplotlib.lines.Line2D at 0x7f93c1d72090>]"
            ]
          },
          "metadata": {
            "tags": []
          },
          "execution_count": 20
        },
        {
          "output_type": "display_data",
          "data": {
            "image/png": "[encoded data removed]",
            "text/plain": [
              "<Figure size 432x288 with 1 Axes>"
            ]
          },
          "metadata": {
            "tags": [],
            "needs_background": "light"
          }
        }
      ]
    },
    {
      "cell_type": "markdown",
      "metadata": {
        "id": "1MT9F7Q5j26l"
      },
      "source": [
        "### 1.2 - Find sekantlinjen \n",
        "\n",
        "- Beregn den lineære ligning $s = mx+b$ der beskriver sekanten i de to punkter $x_1 = -1$ og $x_2 = 4$\n",
        "- Du skal først finde $y_1, y_2$ og $m, b$\n",
        "- plot $f(x)$ og $s(x)$\n",
        "\n",
        "OBS: der bruges lidt afvigende variablebetegnelser (fra de matematiske udtryk) i koden.\n",
        "\n"
      ]
    },
    {
      "cell_type": "code",
      "metadata": {
        "colab": {
          "base_uri": "https://localhost:8080/",
          "height": 38
        },
        "id": "nxFlgnL8Wr-Q",
        "outputId": "6bb56779-8c9e-4beb-d312-cdcd26fba44e"
      },
      "source": [
        "# definer symboler og funktionen (brug x0 i stedet for x)\n",
        "x0 = symbols('x0')\n",
        "\n",
        "f = 1 + 80*x0**3 + 5*x0**4 - 2*x0**5\n",
        "f"
      ],
      "execution_count": 21,
      "outputs": [
        {
          "output_type": "execute_result",
          "data": {
            "text/latex": "$\\displaystyle - 2 x_{0}^{5} + 5 x_{0}^{4} + 80 x_{0}^{3} + 1$",
            "text/plain": [
              "-2*x0**5 + 5*x0**4 + 80*x0**3 + 1"
            ]
          },
          "metadata": {
            "tags": []
          },
          "execution_count": 21
        }
      ]
    },
    {
      "cell_type": "code",
      "metadata": {
        "id": "o_6iBS12Wez2"
      },
      "source": [
        "# beregn y1 og y2 i SymPy\n",
        "x1 = -1\n",
        "x2 = 4\n",
        "\n",
        "y1 = f.subs(x0,x1)\n",
        "y2 = f.subs(x0,x2)"
      ],
      "execution_count": 22,
      "outputs": []
    },
    {
      "cell_type": "code",
      "metadata": {
        "colab": {
          "base_uri": "https://localhost:8080/"
        },
        "id": "dic3gYoeg4o7",
        "outputId": "5bfc1327-dc92-48fc-9bee-6d4622b6d9ec"
      },
      "source": [
        "print(y1)\n",
        "print(y2)"
      ],
      "execution_count": 23,
      "outputs": [
        {
          "output_type": "stream",
          "text": [
            "-72\n",
            "4353\n"
          ],
          "name": "stdout"
        }
      ]
    },
    {
      "cell_type": "code",
      "metadata": {
        "id": "84jT0BZhW6M3"
      },
      "source": [
        "# beregn hældningen m\n",
        "m = (y2-y1)/(x2-x1)"
      ],
      "execution_count": 26,
      "outputs": []
    },
    {
      "cell_type": "code",
      "metadata": {
        "id": "QDPC8yJpXBNT"
      },
      "source": [
        "# beregn b ved at omskrive s = m*x + b\n",
        "\n",
        "b = y1 - m* x1"
      ],
      "execution_count": 27,
      "outputs": []
    },
    {
      "cell_type": "code",
      "metadata": {
        "colab": {
          "base_uri": "https://localhost:8080/",
          "height": 37
        },
        "id": "lxR6UQPMo2ek",
        "outputId": "d21a855e-0e62-4fe9-cb5b-d9635703859d"
      },
      "source": [
        "b"
      ],
      "execution_count": 28,
      "outputs": [
        {
          "output_type": "execute_result",
          "data": {
            "text/latex": "$\\displaystyle 813$",
            "text/plain": [
              "813"
            ]
          },
          "metadata": {
            "tags": []
          },
          "execution_count": 28
        }
      ]
    },
    {
      "cell_type": "code",
      "metadata": {
        "id": "B_lOlb_OXVvY"
      },
      "source": [
        "# beregn alle s-værdier ved at indsætte x-værdier som blev genereret med linspace\n",
        "s = m*x + b"
      ],
      "execution_count": 29,
      "outputs": []
    },
    {
      "cell_type": "code",
      "metadata": {
        "id": "zTPUx8wro03i",
        "colab": {
          "base_uri": "https://localhost:8080/"
        },
        "outputId": "a44bc2e1-241e-4831-afba-37b74b1aaeee"
      },
      "source": [
        "s"
      ],
      "execution_count": 31,
      "outputs": [
        {
          "output_type": "execute_result",
          "data": {
            "text/plain": [
              "array([-3612.00000000000, -3522.60606060606, -3433.21212121212,\n",
              "       -3343.81818181818, -3254.42424242424, -3165.03030303030,\n",
              "       -3075.63636363636, -2986.24242424242, -2896.84848484848,\n",
              "       -2807.45454545455, -2718.06060606061, -2628.66666666667,\n",
              "       -2539.27272727273, -2449.87878787879, -2360.48484848485,\n",
              "       -2271.09090909091, -2181.69696969697, -2092.30303030303,\n",
              "       -2002.90909090909, -1913.51515151515, -1824.12121212121,\n",
              "       -1734.72727272727, -1645.33333333333, -1555.93939393939,\n",
              "       -1466.54545454545, -1377.15151515152, -1287.75757575758,\n",
              "       -1198.36363636364, -1108.96969696970, -1019.57575757576,\n",
              "       -930.181818181818, -840.787878787879, -751.393939393939,\n",
              "       -662.000000000000, -572.606060606061, -483.212121212121,\n",
              "       -393.818181818182, -304.424242424242, -215.030303030303,\n",
              "       -125.636363636364, -36.2424242424240, 53.1515151515148,\n",
              "       142.545454545454, 231.939393939394, 321.333333333333,\n",
              "       410.727272727272, 500.121212121212, 589.515151515152,\n",
              "       678.909090909091, 768.303030303031, 857.696969696969,\n",
              "       947.090909090909, 1036.48484848485, 1125.87878787879,\n",
              "       1215.27272727273, 1304.66666666667, 1394.06060606061,\n",
              "       1483.45454545455, 1572.84848484848, 1662.24242424242,\n",
              "       1751.63636363636, 1841.03030303030, 1930.42424242424,\n",
              "       2019.81818181818, 2109.21212121212, 2198.60606060606,\n",
              "       2288.00000000000, 2377.39393939394, 2466.78787878788,\n",
              "       2556.18181818182, 2645.57575757576, 2734.96969696970,\n",
              "       2824.36363636364, 2913.75757575758, 3003.15151515152,\n",
              "       3092.54545454545, 3181.93939393939, 3271.33333333333,\n",
              "       3360.72727272727, 3450.12121212121, 3539.51515151515,\n",
              "       3628.90909090909, 3718.30303030303, 3807.69696969697,\n",
              "       3897.09090909091, 3986.48484848485, 4075.87878787879,\n",
              "       4165.27272727273, 4254.66666666667, 4344.06060606061,\n",
              "       4433.45454545454, 4522.84848484848, 4612.24242424242,\n",
              "       4701.63636363636, 4791.03030303030, 4880.42424242424,\n",
              "       4969.81818181818, 5059.21212121212, 5148.60606060606,\n",
              "       5238.00000000000], dtype=object)"
            ]
          },
          "metadata": {
            "tags": []
          },
          "execution_count": 31
        }
      ]
    },
    {
      "cell_type": "code",
      "metadata": {
        "id": "FS6uzNf9viKk",
        "colab": {
          "base_uri": "https://localhost:8080/",
          "height": 282
        },
        "outputId": "38ddce80-ef77-4e40-d528-e94f7a584d19"
      },
      "source": [
        "# plot f(x) og s(x) som går gennem x1 og x2\n",
        "plt.plot(x,y)\n",
        "plt.plot(x,s)\n",
        "\n",
        "plt.plot([x1,x2],[y1,y2], 'o', c='red') #extra :-)"
      ],
      "execution_count": 30,
      "outputs": [
        {
          "output_type": "execute_result",
          "data": {
            "text/plain": [
              "[<matplotlib.lines.Line2D at 0x7f93c1cf5290>]"
            ]
          },
          "metadata": {
            "tags": []
          },
          "execution_count": 30
        },
        {
          "output_type": "display_data",
          "data": {
            "image/png": "[encoded data removed]",
            "text/plain": [
              "<Figure size 432x288 with 1 Axes>"
            ]
          },
          "metadata": {
            "tags": [],
            "needs_background": "light"
          }
        }
      ]
    },
    {
      "cell_type": "markdown",
      "metadata": {
        "id": "xaCAdaqdX1Eo"
      },
      "source": [
        "### 1.3 - Find tangentlinjen \n",
        "\n",
        "- Beregn den lineære ligning $t = mx+b$ der beskriver tangenten i $x_3 = -1.5$\n",
        "- Du skal først finde $y_3$\n",
        "- Brug **differenskvotienten** og beregn hældning i $x_3$ for $\\lim_{h\\to0}$\n",
        "- plot $f(x)$ og $t(x)$\n",
        "\n",
        "OBS: der bruges lidt afvigende variablebetegnelser (fra de matematiske udtryk) i koden.\n"
      ]
    },
    {
      "cell_type": "code",
      "metadata": {
        "id": "Ae5Cz0fDCga_"
      },
      "source": [
        "# beregn y3 ved at indsætte x3\n",
        "\n",
        "x3 = -1.5\n",
        "y3 = f.subs(x0, x3)"
      ],
      "execution_count": 32,
      "outputs": []
    },
    {
      "cell_type": "code",
      "metadata": {
        "id": "4glbqzMDYEvR"
      },
      "source": [
        "# definer h symbollet\n",
        "h = symbols('h')"
      ],
      "execution_count": 33,
      "outputs": []
    },
    {
      "cell_type": "code",
      "metadata": {
        "id": "qQV6fH2pY0NO"
      },
      "source": [
        "# definer f(x+h) ved at erstatte x0 for x0+h i f(x)\n",
        "fh = f.subs(x0, x0+h)"
      ],
      "execution_count": 34,
      "outputs": []
    },
    {
      "cell_type": "code",
      "metadata": {
        "colab": {
          "base_uri": "https://localhost:8080/",
          "height": 39
        },
        "id": "YJh9WB_Wanab",
        "outputId": "55cf0079-a7f9-4895-ce9c-1a50a2999f44"
      },
      "source": [
        "fh"
      ],
      "execution_count": 35,
      "outputs": [
        {
          "output_type": "execute_result",
          "data": {
            "text/latex": "$\\displaystyle - 2 \\left(h + x_{0}\\right)^{5} + 5 \\left(h + x_{0}\\right)^{4} + 80 \\left(h + x_{0}\\right)^{3} + 1$",
            "text/plain": [
              "-2*(h + x0)**5 + 5*(h + x0)**4 + 80*(h + x0)**3 + 1"
            ]
          },
          "metadata": {
            "tags": []
          },
          "execution_count": 35
        }
      ]
    },
    {
      "cell_type": "code",
      "metadata": {
        "id": "hgY4frxGY7zd"
      },
      "source": [
        "# definer ligninen for hældning af tangenten mt\n",
        "# udskriv mt og kontroler\n",
        "mt = (fh-f)/h"
      ],
      "execution_count": 36,
      "outputs": []
    },
    {
      "cell_type": "code",
      "metadata": {
        "colab": {
          "base_uri": "https://localhost:8080/",
          "height": 57
        },
        "id": "6HNrSu8kY1ZH",
        "outputId": "cd1375b7-b437-40a8-daf4-bccec54866c1"
      },
      "source": [
        "mt"
      ],
      "execution_count": 37,
      "outputs": [
        {
          "output_type": "execute_result",
          "data": {
            "text/latex": "$\\displaystyle \\frac{2 x_{0}^{5} - 5 x_{0}^{4} - 80 x_{0}^{3} - 2 \\left(h + x_{0}\\right)^{5} + 5 \\left(h + x_{0}\\right)^{4} + 80 \\left(h + x_{0}\\right)^{3}}{h}$",
            "text/plain": [
              "(2*x0**5 - 5*x0**4 - 80*x0**3 - 2*(h + x0)**5 + 5*(h + x0)**4 + 80*(h + x0)**3)/h"
            ]
          },
          "metadata": {
            "tags": []
          },
          "execution_count": 37
        }
      ]
    },
    {
      "cell_type": "markdown",
      "metadata": {
        "id": "f9HvBbl5wQ_y"
      },
      "source": [
        "Differenskvotienten burde være:\n",
        "$$\\frac{2 x_{0}^{5} - 5 x_{0}^{4} - 80 x_{0}^{3} - 2 \\left(h + x_{0}\\right)^{5} + 5 \\left(h + x_{0}\\right)^{4} + 80 \\left(h + x_{0}\\right)^{3}}{h}$$"
      ]
    },
    {
      "cell_type": "code",
      "metadata": {
        "id": "3tXALDuAZDhP"
      },
      "source": [
        "# beregn hældningen m3 i x3 ved at regne grænseværdien for h -> 0 og indsætte x3\n",
        "m3 = mt.limit(h, 0).subs(x0, x3)"
      ],
      "execution_count": 38,
      "outputs": []
    },
    {
      "cell_type": "code",
      "metadata": {
        "id": "P8_6suLLZq-2"
      },
      "source": [
        "# beregn b3 ved at omkskrive t = m3 * x + b3\n",
        "\n",
        "b3 = y3 - m3 * x3"
      ],
      "execution_count": 39,
      "outputs": []
    },
    {
      "cell_type": "code",
      "metadata": {
        "id": "Fp9rvcDdaE-O"
      },
      "source": [
        "# beregn alle t-værdier ved at indsætte x-værdier som blev genereret med linspace\n",
        "t = m3*x + b3"
      ],
      "execution_count": 40,
      "outputs": []
    },
    {
      "cell_type": "code",
      "metadata": {
        "id": "hbxpvlVKxy9N",
        "colab": {
          "base_uri": "https://localhost:8080/",
          "height": 282
        },
        "outputId": "ba71535a-7963-4aeb-c3c9-44850ede108d"
      },
      "source": [
        "# plot f(x) og t(x) i x3\n",
        "plt.plot(x,y)\n",
        "plt.plot(x,t)\n",
        "\n",
        "plt.plot(x3,y3,'o', c='red')"
      ],
      "execution_count": 41,
      "outputs": [
        {
          "output_type": "execute_result",
          "data": {
            "text/plain": [
              "[<matplotlib.lines.Line2D at 0x7f93c1b90cd0>]"
            ]
          },
          "metadata": {
            "tags": []
          },
          "execution_count": 41
        },
        {
          "output_type": "display_data",
          "data": {
            "image/png": "[encoded data removed]",
            "text/plain": [
              "<Figure size 432x288 with 1 Axes>"
            ]
          },
          "metadata": {
            "tags": [],
            "needs_background": "light"
          }
        }
      ]
    },
    {
      "cell_type": "markdown",
      "metadata": {
        "id": "0a2iHGStn2a0"
      },
      "source": [
        "### 1.4 - Find ekstrempunkter\n",
        "\n",
        "- Brug SymPy og differentering til at finde maximum og minimum i $f(x)$\n",
        "- Brug først `factor()` funktionen, som kan hjælpe med at finde ekstrempunkter \"manuelt\"\n",
        "- Vis derefter, hvordan man kan finde punkterne \"automatisk\"\n",
        "- Lav manuel test for min/max ved at se på ændinger i fortegn"
      ]
    },
    {
      "cell_type": "code",
      "metadata": {
        "colab": {
          "base_uri": "https://localhost:8080/",
          "height": 38
        },
        "id": "y0iEcYGYbY0F",
        "outputId": "de783f19-dd3f-4170-d3ce-207652c710e7"
      },
      "source": [
        "# find den afledede funktion fd (sympy) og udskriv\n",
        "fd = f.diff()\n",
        "fd"
      ],
      "execution_count": 42,
      "outputs": [
        {
          "output_type": "execute_result",
          "data": {
            "text/latex": "$\\displaystyle - 10 x_{0}^{4} + 20 x_{0}^{3} + 240 x_{0}^{2}$",
            "text/plain": [
              "-10*x0**4 + 20*x0**3 + 240*x0**2"
            ]
          },
          "metadata": {
            "tags": []
          },
          "execution_count": 42
        }
      ]
    },
    {
      "cell_type": "code",
      "metadata": {
        "colab": {
          "base_uri": "https://localhost:8080/",
          "height": 38
        },
        "id": "mr91TIVI_LlR",
        "outputId": "2eddb494-e5c6-4c35-908d-1ed69969da29"
      },
      "source": [
        "# brug faktorisering til at se, om du kan beregne ekstrempunkter direkte\n",
        "factor(fd)"
      ],
      "execution_count": 43,
      "outputs": [
        {
          "output_type": "execute_result",
          "data": {
            "text/latex": "$\\displaystyle - 10 x_{0}^{2} \\left(x_{0} - 6\\right) \\left(x_{0} + 4\\right)$",
            "text/plain": [
              "-10*x0**2*(x0 - 6)*(x0 + 4)"
            ]
          },
          "metadata": {
            "tags": []
          },
          "execution_count": 43
        }
      ]
    },
    {
      "cell_type": "code",
      "metadata": {
        "colab": {
          "base_uri": "https://localhost:8080/",
          "height": 37
        },
        "id": "ob1jvXLTCxsc",
        "outputId": "f45e37ac-078a-4b8b-89f8-10f8fc4f8fdd"
      },
      "source": [
        "# brug sympy til at finde de 2 ekstrempunkter\n",
        "solveset(fd, x0)"
      ],
      "execution_count": 44,
      "outputs": [
        {
          "output_type": "execute_result",
          "data": {
            "text/latex": "$\\displaystyle \\left\\{-4, 0, 6\\right\\}$",
            "text/plain": [
              "FiniteSet(-4, 0, 6)"
            ]
          },
          "metadata": {
            "tags": []
          },
          "execution_count": 44
        }
      ]
    },
    {
      "cell_type": "code",
      "metadata": {
        "id": "Y2h6BZzlDWZv"
      },
      "source": [
        "# generer værdier som kan bruges for at undersøge ændringer af fortegn\n",
        "sign_chart = [-5,-4,-2,-1,0,1,3,6,7]"
      ],
      "execution_count": 45,
      "outputs": []
    },
    {
      "cell_type": "code",
      "metadata": {
        "colab": {
          "base_uri": "https://localhost:8080/"
        },
        "id": "DeKB8eWPE0s3",
        "outputId": "e432b3de-3ad1-4eff-c3ba-9d5946b72880"
      },
      "source": [
        "# beregn hældningsværdier (list-comprehension)\n",
        "[fd.subs(x0,i) for i in sign_chart]"
      ],
      "execution_count": 46,
      "outputs": [
        {
          "output_type": "execute_result",
          "data": {
            "text/plain": [
              "[-2750, 0, 640, 210, 0, 250, 1890, 0, -5390]"
            ]
          },
          "metadata": {
            "tags": []
          },
          "execution_count": 46
        }
      ]
    },
    {
      "cell_type": "code",
      "metadata": {
        "id": "M9VgeUXu_fwV"
      },
      "source": [
        "# hvilken slags punkter handler det sig om?\n",
        "\n",
        "# -4 : minimum\n",
        "# 0: overgang\n",
        "# 6: maximum"
      ],
      "execution_count": null,
      "outputs": []
    },
    {
      "cell_type": "code",
      "metadata": {
        "colab": {
          "base_uri": "https://localhost:8080/",
          "height": 282
        },
        "id": "DTq-nMhveVV9",
        "outputId": "ae521b4c-584b-4783-82c1-fec0351add10"
      },
      "source": [
        "x = np.linspace(-5, 7, num=100)\n",
        "y = 1 + 80*x**3 + 5*x**4 - 2*x**5\n",
        "\n",
        "plt.plot(x,y)"
      ],
      "execution_count": 47,
      "outputs": [
        {
          "output_type": "execute_result",
          "data": {
            "text/plain": [
              "[<matplotlib.lines.Line2D at 0x7f93c1a6b890>]"
            ]
          },
          "metadata": {
            "tags": []
          },
          "execution_count": 47
        },
        {
          "output_type": "display_data",
          "data": {
            "image/png": "[encoded data removed]",
            "text/plain": [
              "<Figure size 432x288 with 1 Axes>"
            ]
          },
          "metadata": {
            "tags": [],
            "needs_background": "light"
          }
        }
      ]
    },
    {
      "cell_type": "code",
      "metadata": {
        "id": "orO7yoeqejAM"
      },
      "source": [
        ""
      ],
      "execution_count": null,
      "outputs": []
    }
  ]
}