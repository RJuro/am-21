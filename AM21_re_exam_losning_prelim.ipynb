{
  "nbformat": 4,
  "nbformat_minor": 0,
  "metadata": {
    "colab": {
      "name": "AM21-re-exam.ipynb",
      "provenance": [],
      "collapsed_sections": [],
      "authorship_tag": "ABX9TyNYjIjFcwdrPzUvh8P8G/3G",
      "include_colab_link": true
    },
    "kernelspec": {
      "name": "python3",
      "display_name": "Python 3"
    },
    "language_info": {
      "name": "python"
    }
  },
  "cells": [
    {
      "cell_type": "markdown",
      "metadata": {
        "id": "view-in-github",
        "colab_type": "text"
      },
      "source": [
        "<a href=\"https://colab.research.google.com/github/RJuro/am-21/blob/main/AM21_re_exam_losning_prelim.ipynb\" target=\"_parent\"><img src=\"https://colab.research.google.com/assets/colab-badge.svg\" alt=\"Open In Colab\"/></a>"
      ]
    },
    {
      "cell_type": "markdown",
      "metadata": {
        "id": "K1DZR6KIhI3S"
      },
      "source": [
        "# Eksamen: Anvendt Matematik\n",
        "\n",
        "Opgaven har 2 dele. Lineær algebra og calculus.\n",
        "\n",
        "#### Rules of the game:\n",
        "\n",
        "- Don't panic! - Hvis koden ikke virker (men virkede før). Gå tilbage, og kør oppefra ned. Også en god ide at tjekke, at koden er fejlfri ved at gøre denne øvelse undervejs.\n",
        "- De fleste kodefejl er dumme stavefejl. Vær omhyggelig med kommaer, punkter etc.\n",
        "- Hvis der er noget, som slet ikke kan løses, så kan du bare kommentere ud med `#`\n",
        "- Husk, at output skal kunne ses (f.eks. dine plots)\n",
        "- Play fair og lad være med at snyde!  \n",
        "- Brug objektnavne, der blev defineret i opgaven\n",
        "- Der afleveres som 👉 `ipynb` (**ikke PDF!**) - dvs, du skal bare downloade den fil du arbejder med fra colab eller bare aflevere den ipynb fil som du har åbent i Jupyter Lab."
      ]
    },
    {
      "cell_type": "code",
      "metadata": {
        "id": "aQCPCa7JO5V0"
      },
      "source": [
        "# importer pakker\n",
        "from sympy import *\n",
        "import numpy as np\n",
        "np.set_printoptions(suppress=True)\n",
        "from scipy import linalg\n",
        "import matplotlib.pyplot as plt"
      ],
      "execution_count": null,
      "outputs": []
    },
    {
      "cell_type": "markdown",
      "metadata": {
        "id": "WeGinvNbETnH"
      },
      "source": [
        "## Del 1: Lineær Algebra - Vejgaards Ruller\n",
        "\n",
        "![](https://source.unsplash.com/n1DePkKznLY)\n",
        "\n",
        "Manageren for sushistedet \"Vejgaards Ruller\" vil gerne finde ud af hvordan man kan tjene mere ved at optimere produktion af 2 forskellige sushi-typer - Vandmanden og Mågen.\n",
        "\n",
        "| Ingredienser/Type               | Vandmanden | Mågen | På lager | enhed |\n",
        "|---------------------------------|------------|-------|----------|-------|\n",
        "| Ris                             |        120 |   200 |    10000 | gram  |\n",
        "| Nori*                           |          1 |     2 |      120 | stk   |\n",
        "| Rejer                           |          4 |     8 |      500 | stk   |\n",
        "| Avokado                         |        0.5 |     1 |      100 | stk   |\n",
        "| Chef                            |       0.17 |  0.09 |        8 | timer |\n",
        "| Pris per stor rulle / anretning |         85 |   110 |          | dkk   |\n",
        "\n",
        "*Nori sushi tang er den traditionelle japanske tang, der bruges til at rulle sushi-rullerne.\n",
        "\n"
      ]
    },
    {
      "cell_type": "code",
      "metadata": {
        "id": "FHHEnY4KQZVS"
      },
      "source": [
        "# 1.1 - Grafisk løsning\n",
        "# Plot de 5 funktioner med Vandmanden på x-aksen og Mågen på y-aksen\n",
        "\n",
        "# Brug np.linspace til at generere 200 værdier mellem 0 og 250 som v_plot\n",
        "\n",
        "v_plot = np.linspace(0, 250, num=200)"
      ],
      "execution_count": null,
      "outputs": []
    },
    {
      "cell_type": "code",
      "metadata": {
        "id": "naDlTZaRQgSy"
      },
      "source": [
        "# omskriv ligninger til at beregne c-værdier(m_plot_1 - m_plot_5)\n",
        "m_plot_1=(10000-120*v_plot)/200\n",
        "m_plot_2=(120-1*v_plot)/2\n",
        "m_plot_3=(500-4*v_plot)/8\n",
        "m_plot_4=(100-0.5*v_plot)/1\n",
        "m_plot_5=(8-0.17*v_plot)/0.09"
      ],
      "execution_count": null,
      "outputs": []
    },
    {
      "cell_type": "code",
      "metadata": {
        "colab": {
          "base_uri": "https://localhost:8080/",
          "height": 300
        },
        "id": "hOi6phD5RkIo",
        "outputId": "05d60c6f-e5f4-4e4a-de86-509a32c4d181"
      },
      "source": [
        "# 1.2\n",
        "\n",
        "# Plot\n",
        "\n",
        "plt.axis([0, 250, 0, 120])\n",
        "plt.xlabel('Vandmanden')\n",
        "plt.ylabel('Mågen')\n",
        "\n",
        "plt.plot(v_plot, m_plot_1, color = \"red\") # ris\n",
        "plt.plot(v_plot, m_plot_2, color = \"gold\") # nori\n",
        "plt.plot(v_plot, m_plot_3, color = \"blue\") # rejer\n",
        "plt.plot(v_plot, m_plot_4, color = \"green\") # avokado\n",
        "plt.plot(v_plot, m_plot_5, color = \"black\") # chef"
      ],
      "execution_count": null,
      "outputs": [
        {
          "output_type": "execute_result",
          "data": {
            "text/plain": [
              "[<matplotlib.lines.Line2D at 0x7f2a6a0c0c10>]"
            ]
          },
          "metadata": {},
          "execution_count": 73
        },
        {
          "output_type": "display_data",
          "data": {
            "image/png": "[encoded data removed]",
            "text/plain": [
              "<Figure size 432x288 with 1 Axes>"
            ]
          },
          "metadata": {
            "needs_background": "light"
          }
        }
      ]
    },
    {
      "cell_type": "markdown",
      "metadata": {
        "id": "8_VrauOJJ-gq"
      },
      "source": [
        "Vi antager følgende:\n",
        "- de to typer af sushi er det eneste, som Vejgaards Ruller producerer\n",
        "- madvarer kan ikke holde længere end vores produktionscyklus\n",
        "- Vi kan ikke udvide mængder af vores inputs\n"
      ]
    },
    {
      "cell_type": "code",
      "metadata": {
        "id": "w-sDTP0HKbwX"
      },
      "source": [
        "# 1.3.1 Hvor mange ruller af de to typer kan der produceres? (aflæs cirka værdi fra grafisk løsning)\n",
        "\n",
        "q_vandmanden = 30\n",
        "q_mågen = 30"
      ],
      "execution_count": null,
      "outputs": []
    },
    {
      "cell_type": "code",
      "metadata": {
        "id": "KKUzBVtLK1G4"
      },
      "source": [
        "# 1.3.2 Hvad har vi købt for meget af? (skriv tekst)\n",
        "\n",
        "svar_1_4 = 'Avokado, Nori, Rejer'"
      ],
      "execution_count": null,
      "outputs": []
    },
    {
      "cell_type": "markdown",
      "metadata": {
        "id": "NdcGepbBLLqz"
      },
      "source": [
        "#### Løsning af matrixligningen\n",
        "\n",
        "Vi kan finde en præcis løsning af vores ligningssystem for ris og arbejde(chef) ligninger ved at løse matrixligningen $A\\vec{x} = \\vec{b}$\n",
        "Opgaven er mere frit og du skal vise, at du selv kan udføre alle trin.\n",
        "Du skal finde løsningen \"manuelt\" dvs. ikke ved at bruge `scipy.linalg.solve` eller sympy. Du må dog gerne bruge det for at tjekke, om dine beregninger passer...\n",
        "\n",
        "\n",
        "Du skal bruge følgende python objekter:\n",
        "\n",
        "\n",
        "*   $A$: `matrix_a`\n",
        "*   $A^{-1}$: `matrix_a_inv`\n",
        "*   $\\vec{b}$: `vector_b`\n",
        "* $\\vec{x}$: `vector_x`\n",
        "\n"
      ]
    },
    {
      "cell_type": "code",
      "metadata": {
        "id": "GDt_UN3tR33X"
      },
      "source": [
        "# 1.4.1\n",
        "# definer matrix A\n",
        "matrix_a = np.array([\n",
        "[0.17, 0.09],\n",
        "[120, 200]\n",
        "])\n",
        "\n",
        "# definer vector b\n",
        "vector_b = np.array([[8],[10000]])"
      ],
      "execution_count": null,
      "outputs": []
    },
    {
      "cell_type": "code",
      "metadata": {
        "id": "KkCWPsxKUttg"
      },
      "source": [
        "# 1.4.2\n",
        "# beregn A^-1\n",
        "matrix_a_inv = linalg.inv(matrix_a)"
      ],
      "execution_count": null,
      "outputs": []
    },
    {
      "cell_type": "code",
      "metadata": {
        "id": "IDipJmd-UwiV"
      },
      "source": [
        "# 1.4.3 beregn vector_x\n",
        "vector_x = matrix_a_inv @ vector_b"
      ],
      "execution_count": null,
      "outputs": []
    },
    {
      "cell_type": "code",
      "metadata": {
        "colab": {
          "base_uri": "https://localhost:8080/"
        },
        "id": "uYEofbj3UyCJ",
        "outputId": "55041bdc-8713-4a39-def6-71c30e801dc7"
      },
      "source": [
        "vector_x"
      ],
      "execution_count": null,
      "outputs": [
        {
          "output_type": "execute_result",
          "data": {
            "text/plain": [
              "array([[30.17241379],\n",
              "       [31.89655172]])"
            ]
          },
          "metadata": {},
          "execution_count": 120
        }
      ]
    },
    {
      "cell_type": "markdown",
      "metadata": {
        "id": "jYyaMnhaLyS9"
      },
      "source": [
        "#### Hvordan øger man output?\n",
        "\n",
        "Du vil rigtig gerne øge dit output til 40 ruller vandmanden / 45 ruller mågen \n",
        "dvs. $\\vec{x_{ny}} = \\begin{bmatrix}\n",
        "    40 \\\\\n",
        "    45 \\\\\n",
        "\\end{bmatrix} $\n",
        "Vi ved, at $A\\vec{x} = \\vec{b}$. Overvej, hvordan du kan finde den tilsvarende vektor $\\vec{b_{ny}}$, som viser hvor mange timer arbejde og gram ris der skal til så man kan producere den ønskede mængde."
      ]
    },
    {
      "cell_type": "code",
      "metadata": {
        "id": "W0827-kSUzKQ",
        "colab": {
          "base_uri": "https://localhost:8080/"
        },
        "outputId": "b654f37f-4ec8-43ab-eb9e-ebe579a22e44"
      },
      "source": [
        "# 1.5 beregn vector_b_ny\n",
        "vector_x_ny = np.array([[40],[45]])\n",
        "vector_b_ny = matrix_a @ vector_x_ny\n",
        "print(vector_b_ny)"
      ],
      "execution_count": null,
      "outputs": [
        {
          "output_type": "stream",
          "text": [
            "[[   10.85]\n",
            " [13800.  ]]\n"
          ],
          "name": "stdout"
        }
      ]
    },
    {
      "cell_type": "markdown",
      "metadata": {
        "id": "3TrSbmIBOxl-"
      },
      "source": [
        "#### Rækkeoperationer\n",
        "\n",
        "Der kunne findes en souschef, som vil komme ind på deltid og arbejde 3 timer - dvs. vi har nu 11 timer arbejde til rådighed. Vi kan også antage, at der kunne købes en del mere ris, således det ikke længere er en begrænsning.\n",
        "\n",
        "I denne opgave skal du bruge rækkeoperationer til at finde løsningen.\n",
        "\n",
        "1.   Du skal først definere en augmenteret matrix som `np.array` der repræsenterer ligninger for arbejde/chef og nori. \n",
        "2.   Derefter skal du bruge rækkeoperationer (kode!!!) for at omskrive til reduceret trappeform (reduceret række-echelon form).\n",
        "\n",
        "f.eks.: `augmented[0] = augmented[0]/augmented[0,0]`\n",
        "\n",
        "Til sidst har din matrix denne form: \n",
        "\n",
        "$$\\left[\\begin{array}{rr|r}\n",
        "1 & 0 & ? \\\\ \n",
        "0 & 1 & ?\n",
        "\\end{array}\\right]$$\n",
        "\n",
        "3. Her vil du kunne aflæse resultatet i søjlevektoren på højre sidde.\n",
        "\n"
      ]
    },
    {
      "cell_type": "code",
      "metadata": {
        "id": "ubD8gAaBVejp"
      },
      "source": [
        "## 1.6.1 definer augmenteret matrix\n",
        "\n",
        "augmented = np.array([\n",
        "[0.17, 0.09, 11],\n",
        "[1, 2, 120]\n",
        "\n",
        "])"
      ],
      "execution_count": null,
      "outputs": []
    },
    {
      "cell_type": "code",
      "metadata": {
        "id": "5rNCLanZXsf3"
      },
      "source": [
        "# 1.6.2\n",
        "\n",
        "# Brug rækkeoperationer (så mange som du har brug for) for at omskrive til reduceret trappeform\n",
        "# Her er den første operation, som du kan bruge\n",
        "augmented[0] = augmented[0]/augmented[0,0]"
      ],
      "execution_count": null,
      "outputs": []
    },
    {
      "cell_type": "code",
      "metadata": {
        "colab": {
          "base_uri": "https://localhost:8080/"
        },
        "id": "RP1oiI01X46n",
        "outputId": "44938e1e-060a-40bb-97c8-ba0bcb061361"
      },
      "source": [
        "# OBS: Det er en god ide at tjekke din matrix undervejs - du kan tilføje en celle, vise matrix \n",
        "# (bare skriv \"augmented\" og udfør og slette igen...)\n",
        "\n",
        "augmented"
      ],
      "execution_count": null,
      "outputs": [
        {
          "output_type": "execute_result",
          "data": {
            "text/plain": [
              "array([[  1.        ,   0.52941176,  64.70588235],\n",
              "       [  1.        ,   2.        , 120.        ]])"
            ]
          },
          "metadata": {},
          "execution_count": 83
        }
      ]
    },
    {
      "cell_type": "code",
      "metadata": {
        "id": "OFKqpkLkX5YS"
      },
      "source": [
        "augmented[1] = augmented[1] - augmented[1,0]*augmented[0]"
      ],
      "execution_count": null,
      "outputs": []
    },
    {
      "cell_type": "code",
      "metadata": {
        "colab": {
          "base_uri": "https://localhost:8080/"
        },
        "id": "KdTV9qJYX7JR",
        "outputId": "c8fd11bd-5bad-4193-bdcf-f0465c01720d"
      },
      "source": [
        "augmented"
      ],
      "execution_count": null,
      "outputs": [
        {
          "output_type": "execute_result",
          "data": {
            "text/plain": [
              "array([[ 1.        ,  0.52941176, 64.70588235],\n",
              "       [ 0.        ,  1.47058824, 55.29411765]])"
            ]
          },
          "metadata": {},
          "execution_count": 85
        }
      ]
    },
    {
      "cell_type": "code",
      "metadata": {
        "id": "pVoqUbbnX7-D"
      },
      "source": [
        "augmented[1] = augmented[1] / augmented[1,1]"
      ],
      "execution_count": null,
      "outputs": []
    },
    {
      "cell_type": "code",
      "metadata": {
        "colab": {
          "base_uri": "https://localhost:8080/"
        },
        "id": "t_VkXGISX92y",
        "outputId": "9bbe6dae-d8cf-41a2-8302-edfc0fba7383"
      },
      "source": [
        "augmented"
      ],
      "execution_count": null,
      "outputs": [
        {
          "output_type": "execute_result",
          "data": {
            "text/plain": [
              "array([[ 1.        ,  0.52941176, 64.70588235],\n",
              "       [ 0.        ,  1.        , 37.6       ]])"
            ]
          },
          "metadata": {},
          "execution_count": 87
        }
      ]
    },
    {
      "cell_type": "code",
      "metadata": {
        "id": "RUm_4b92X-n2"
      },
      "source": [
        "augmented[0] = augmented[0] - augmented[0,1]*augmented[1]"
      ],
      "execution_count": null,
      "outputs": []
    },
    {
      "cell_type": "code",
      "metadata": {
        "colab": {
          "base_uri": "https://localhost:8080/"
        },
        "id": "in5zy15SYAVI",
        "outputId": "722414ff-6d7f-4064-e303-3545ec43221b"
      },
      "source": [
        "# print resultatet der viser hvor mange ruller der nu kan laves\n",
        "print(augmented)"
      ],
      "execution_count": null,
      "outputs": [
        {
          "output_type": "stream",
          "text": [
            "[[ 1.   0.  44.8]\n",
            " [ 0.   1.  37.6]]\n"
          ],
          "name": "stdout"
        }
      ]
    },
    {
      "cell_type": "markdown",
      "metadata": {
        "id": "0_tJwfUkRQHA"
      },
      "source": [
        "#### Investering i flere inputs\n",
        "\n",
        "Manageren prøver at finde ud af om det kan betale sig, at investere i flere arbejdstimer og indkøb af mere ris (vi glemmer lige andre inputs her for nu).\n",
        "\n",
        "Du har tidligere lavet en beregning, der viser hvor meget ris og arbejde der skal til således der kan produceres 40 ruller vandmanden / 45 ruller mågen (hvis den ikke lykkedes, må du bruge 10.85 timer til din beregning her).\n",
        "Du kan også bruge 32 og 33 som værdier til de originale optimale mængder.\n",
        "\n",
        "Du kan antage følgende omkostninger for indkøb af yderlige input:\n",
        "- Ris: 60kr\n",
        "- Nori: 80kr\n",
        "- Rejer: 200kr\n",
        "\n",
        "Lav følgende beregninger for at samligne ændringen i omsætning med ændring af omkostninger\n",
        "\n",
        "*   Omsætning med oprindelige input og output mængder\n",
        "*   Omsætning med øgede mængder output\n",
        "*   Tilvækst af omsætning\n",
        "*   Omkostninger ekstra arbejde og yderlige indkøb\n",
        "\n",
        "Kan det betale sig?\n"
      ]
    },
    {
      "cell_type": "code",
      "metadata": {
        "id": "IdTMbORXZrXj"
      },
      "source": [
        "# 1.7 \n",
        "# omsætning original\n",
        "\n",
        "oms = 85*30 + 110*31"
      ],
      "execution_count": null,
      "outputs": []
    },
    {
      "cell_type": "code",
      "metadata": {
        "id": "srzZgPwIZ6T7"
      },
      "source": [
        "# omsætning ny\n",
        "\n",
        "oms_n = 85*40 + 110*45"
      ],
      "execution_count": null,
      "outputs": []
    },
    {
      "cell_type": "code",
      "metadata": {
        "id": "r_HxtOi_aKm1"
      },
      "source": [
        "# tilvækst omsætning\n",
        "\n",
        "delta_oms = oms_n-oms"
      ],
      "execution_count": null,
      "outputs": []
    },
    {
      "cell_type": "code",
      "metadata": {
        "id": "Ky4J4jvXaT4d"
      },
      "source": [
        "# tilvækst omkostninger\n",
        "\n",
        "delta_c = (10.85-8)*300+60+80+200"
      ],
      "execution_count": null,
      "outputs": []
    },
    {
      "cell_type": "code",
      "metadata": {
        "id": "Eku0CA0KahOw",
        "colab": {
          "base_uri": "https://localhost:8080/"
        },
        "outputId": "64a0785d-c0b0-45b0-f31b-7e7627f6f2d4"
      },
      "source": [
        "# ændring profit\n",
        "# Er det en god ide at udvide?\n",
        "\n",
        "delta_p = delta_oms - delta_c\n",
        "print(delta_p)"
      ],
      "execution_count": null,
      "outputs": [
        {
          "output_type": "stream",
          "text": [
            "1195.0\n"
          ],
          "name": "stdout"
        }
      ]
    },
    {
      "cell_type": "markdown",
      "metadata": {
        "id": "VNgQVHOemABj"
      },
      "source": [
        "## Calculus - Logistik og profitmaksimering\n",
        "\n",
        "![](https://source.unsplash.com/jOqJbvo1P9g)"
      ]
    },
    {
      "cell_type": "markdown",
      "metadata": {
        "id": "xoVfEY7g0y0Z"
      },
      "source": [
        "En af Danmarks mindre containerhavne overvejer, om de skal justere deres daglige kapaciteter. \n",
        "$q$ er mængden af containere, $p$ en angivet i kr. pr. container, der kommer igennem havnen.\n",
        "\n",
        "* Deres omkostningsfunktion er:\n",
        "$C(q) = 6000-25q+0.03q^{2}+0.00009q^{3}$\n",
        "* Efterspørgslen er givet som:\n",
        "$p(q) = 320+0.025q-0.00085q^{2}$ dvs. prisen er ikke konstant men ændrer sig (lidt) med ændringer af $q$\n"
      ]
    },
    {
      "cell_type": "code",
      "metadata": {
        "colab": {
          "base_uri": "https://localhost:8080/",
          "height": 296
        },
        "id": "8OJjz7_oxIyY",
        "outputId": "5ce609a3-00ec-4db7-ef50-a0b8f22cc553"
      },
      "source": [
        "# 2.1 plot C(q)\n",
        "# definer 200 punkter mellem 0 og 500 med np.linspace i objektet q_plot\n",
        "\n",
        "q_plot = np.linspace(0, 500, num=200)\n",
        "\n",
        "# beregn tilsvarende p-værdier og plot\n",
        "\n",
        "p_plot_1 = 6000-25*q_plot+0.03*q_plot**2+0.00009*q_plot**3\n",
        "\n",
        "plt.xlabel('Mængde (q)')\n",
        "plt.ylabel('Kr.')\n",
        "\n",
        "plt.plot(q_plot, p_plot_1, color = \"red\")"
      ],
      "execution_count": null,
      "outputs": [
        {
          "output_type": "execute_result",
          "data": {
            "text/plain": [
              "[<matplotlib.lines.Line2D at 0x7fafdd83a690>]"
            ]
          },
          "metadata": {},
          "execution_count": 2
        },
        {
          "output_type": "display_data",
          "data": {
            "text/plain": [
              "<Figure size 432x288 with 1 Axes>"
            ],
            "image/png": "[encoded data removed]"
          },
          "metadata": {
            "needs_background": "light"
          }
        }
      ]
    },
    {
      "cell_type": "code",
      "metadata": {
        "id": "bIJeEODi2A1K"
      },
      "source": [
        "# 2.2 Definer symboler p, q og h\n",
        "\n",
        "p, q, h = symbols('p, q, h')"
      ],
      "execution_count": null,
      "outputs": []
    },
    {
      "cell_type": "code",
      "metadata": {
        "id": "bXDGpg_o2EFb"
      },
      "source": [
        "# opstil sympy ligninger for omkostninger og efterspørgsel\n",
        "\n",
        "C_q = 6000-25*q+0.03*q**2+0.00009*q**3\n",
        "p_q = 320+0.025*q-0.00085*q**2"
      ],
      "execution_count": null,
      "outputs": []
    },
    {
      "cell_type": "code",
      "metadata": {
        "colab": {
          "base_uri": "https://localhost:8080/",
          "height": 38
        },
        "id": "GCpktc0H2PFT",
        "outputId": "775b0ecf-4b38-46db-d4b2-fa7123a2f88f"
      },
      "source": [
        "# vis C_q\n",
        "C_q"
      ],
      "execution_count": null,
      "outputs": [
        {
          "output_type": "execute_result",
          "data": {
            "text/latex": "$\\displaystyle 9.0 \\cdot 10^{-5} q^{3} + 0.03 q^{2} - 25 q + 6000$",
            "text/plain": [
              "9.0e-5*q**3 + 0.03*q**2 - 25*q + 6000"
            ]
          },
          "metadata": {},
          "execution_count": 98
        }
      ]
    },
    {
      "cell_type": "code",
      "metadata": {
        "colab": {
          "base_uri": "https://localhost:8080/",
          "height": 38
        },
        "id": "dF4PJu7k2RMy",
        "outputId": "4f76d345-3832-49d7-ae4e-a00f380ed6cd"
      },
      "source": [
        "#vis p_q\n",
        "p_q"
      ],
      "execution_count": null,
      "outputs": [
        {
          "output_type": "execute_result",
          "data": {
            "text/latex": "$\\displaystyle - 0.00085 q^{2} + 0.025 q + 320$",
            "text/plain": [
              "-0.00085*q**2 + 0.025*q + 320"
            ]
          },
          "metadata": {},
          "execution_count": 99
        }
      ]
    },
    {
      "cell_type": "markdown",
      "metadata": {
        "id": "pAEWGYSTrGSH"
      },
      "source": [
        "#### 2.3 Beregn minimum for $C(q)$\n",
        "\n",
        "* beregning skal foretages \"manuelt\" hvor du først skal finde $C'(q)$ ved at beregne $\\lim_{h \\to 0} \\frac{f(x + h) - f(x)}{h}$, hvor $C(q)$ indsættes for $f(x)$ dvs. $\\lim_{h \\to 0} \\frac{C(q + h) - C(q)}{h}$\n",
        "*$h$ blev allerede oprettet som Sympy sybol"
      ]
    },
    {
      "cell_type": "code",
      "metadata": {
        "id": "4Lbia_HAxJpo"
      },
      "source": [
        "# 2.3.1\n",
        "# definer C(q+h)\n",
        "\n",
        "C_q_h = C_q.subs(q, (q+h))"
      ],
      "execution_count": null,
      "outputs": []
    },
    {
      "cell_type": "code",
      "metadata": {
        "id": "eEE97s912T2s",
        "colab": {
          "base_uri": "https://localhost:8080/",
          "height": 38
        },
        "outputId": "9e9e84e8-5cda-41ae-931f-f2c9960ca5b4"
      },
      "source": [
        "# 2.3.2\n",
        "# beregn grænseværdien / marginalomkostninger MC\n",
        "\n",
        "MC = limit((C_q_h - C_q)/h, h, 0)\n",
        "MC"
      ],
      "execution_count": null,
      "outputs": [
        {
          "output_type": "execute_result",
          "data": {
            "text/latex": "$\\displaystyle 0.00027 q^{2} + 0.06 q - 25.0$",
            "text/plain": [
              "0.00027*q**2 + 0.06*q - 25.0"
            ]
          },
          "metadata": {},
          "execution_count": 101
        }
      ]
    },
    {
      "cell_type": "code",
      "metadata": {
        "colab": {
          "base_uri": "https://localhost:8080/",
          "height": 38
        },
        "id": "rV8JfQjB2boD",
        "outputId": "3653d0a4-f556-481e-b43f-071e5eff262c"
      },
      "source": [
        "# du kan tjekke, om grænseværdien er lige med den (automatisk) afledede funktion (sympy diff) for at være sikker...\n",
        "# hvis du ikke kan løse 2.3.2, så må du gerne definere MC som diff(C_q) og bruge det herfra\n",
        "diff(C_q)"
      ],
      "execution_count": null,
      "outputs": [
        {
          "output_type": "execute_result",
          "data": {
            "text/latex": "$\\displaystyle 0.00027 q^{2} + 0.06 q - 25$",
            "text/plain": [
              "0.00027*q**2 + 0.06*q - 25"
            ]
          },
          "metadata": {},
          "execution_count": 102
        }
      ]
    },
    {
      "cell_type": "code",
      "metadata": {
        "colab": {
          "base_uri": "https://localhost:8080/"
        },
        "id": "C1zRxF4H2gct",
        "outputId": "dea28c95-3bcf-4860-e5b1-94f74b938e57"
      },
      "source": [
        "# 2.3.3\n",
        "# hvor mange containere skal der max igennem havnen per dag, hvis man vil minimere omkostninger?\n",
        "# brug Sympy solve til a finde q, hvor C minimeres\n",
        "solutions = solve(C_lim)\n",
        "print(solutions)"
      ],
      "execution_count": null,
      "outputs": [
        {
          "output_type": "stream",
          "text": [
            "[-435.052883046961, 212.830660824739]\n"
          ],
          "name": "stdout"
        }
      ]
    },
    {
      "cell_type": "markdown",
      "metadata": {
        "id": "vyBsiZHqtIsB"
      },
      "source": [
        "#### 2.4 - Find tangentlinjen \n",
        "\n",
        "- Beregn den lineære ligning $t = mx+b$ der beskriver tangenten i $q_{t} = 100$\n",
        "- Du skal først finde $p_{t}$\n",
        "- Brug **MC** beregnet i 2.3 eller (hvis du ikke kunne finde svaret) ved at bruge sympy `diff` og beregn hældning $m$ i $q_{t}$\n",
        "- plot $C(q)$ og $t(q)$ i $q_{t} = 100$\n"
      ]
    },
    {
      "cell_type": "code",
      "metadata": {
        "colab": {
          "base_uri": "https://localhost:8080/"
        },
        "id": "d3SL5M602sVY",
        "outputId": "f2af8c6d-7fa9-489d-bd86-47509ec26d76"
      },
      "source": [
        "# 2.4.1\n",
        "# beregning y_t\n",
        "p_t = C_q.subs(q, 100)\n",
        "print(p_t)"
      ],
      "execution_count": null,
      "outputs": [
        {
          "output_type": "stream",
          "text": [
            "3890.00000000000\n"
          ],
          "name": "stdout"
        }
      ]
    },
    {
      "cell_type": "code",
      "metadata": {
        "colab": {
          "base_uri": "https://localhost:8080/"
        },
        "id": "qgXHRDTQ5zBm",
        "outputId": "b4495cfc-cdc9-43a7-ee16-ee4ec7f63ee9"
      },
      "source": [
        "# 2.4.2\n",
        "# beregning m\n",
        "m = MC.subs(q, 100)\n",
        "print(m)"
      ],
      "execution_count": null,
      "outputs": [
        {
          "output_type": "stream",
          "text": [
            "-16.3000000000000\n"
          ],
          "name": "stdout"
        }
      ]
    },
    {
      "cell_type": "code",
      "metadata": {
        "colab": {
          "base_uri": "https://localhost:8080/"
        },
        "id": "RBON0ch56h_x",
        "outputId": "2607febc-9cb0-4554-bcb7-48017370f4e5"
      },
      "source": [
        "# 2.4.3\n",
        "# beregn b\n",
        "\n",
        "b = 3890 + 16.3*100\n",
        "print(b)"
      ],
      "execution_count": null,
      "outputs": [
        {
          "output_type": "stream",
          "text": [
            "5520.0\n"
          ],
          "name": "stdout"
        }
      ]
    },
    {
      "cell_type": "code",
      "metadata": {
        "id": "fFvx5HK_7VTd"
      },
      "source": [
        "# 2.4.4\n",
        "# brug tangentlining t = mx + b for at beregne t_plot hvor du bruger q_plot (fra 2.1 som \"x\"-værdier) og de lige beregnede m og b\n",
        "t_plot = m*q_plot+b"
      ],
      "execution_count": null,
      "outputs": []
    },
    {
      "cell_type": "code",
      "metadata": {
        "colab": {
          "base_uri": "https://localhost:8080/",
          "height": 296
        },
        "id": "ZcyUfFuV7t5Y",
        "outputId": "d3526a48-cfc3-4d90-aea1-826baa4d2e21"
      },
      "source": [
        "# 2.4.5 plot C(q) og t(q)\n",
        "\n",
        "plt.xlabel('Mængde (q)')\n",
        "plt.ylabel('Kr.')\n",
        "\n",
        "plt.plot(q_plot, p_plot_1, color = \"red\")\n",
        "plt.plot(q_plot, t_plot, color = \"gold\")"
      ],
      "execution_count": null,
      "outputs": [
        {
          "output_type": "execute_result",
          "data": {
            "text/plain": [
              "[<matplotlib.lines.Line2D at 0x7f2a69fb2d10>]"
            ]
          },
          "metadata": {},
          "execution_count": 108
        },
        {
          "output_type": "display_data",
          "data": {
            "image/png": "[encoded data removed]",
            "text/plain": [
              "<Figure size 432x288 with 1 Axes>"
            ]
          },
          "metadata": {
            "needs_background": "light"
          }
        }
      ]
    },
    {
      "cell_type": "markdown",
      "metadata": {
        "id": "BFhGeUxDzjMX"
      },
      "source": [
        "\n",
        "* Indtægter: $R(q) = p(q) · q$\n",
        "* Marginalomkostninger $MC = C'(q)$ (omkostninger ved at producere +1 enhed)\n",
        "* Marginalindtægter $MR = R'(q)$ (indtægter ved at sælge +1 enhed)"
      ]
    },
    {
      "cell_type": "code",
      "metadata": {
        "id": "1lbdHuI47yzD"
      },
      "source": [
        "# 2.5.1 Definer R_q og MR (MC blev defineret tidligere)\n",
        "R_q = p_q * q\n",
        "MR = diff(R_q)"
      ],
      "execution_count": null,
      "outputs": []
    },
    {
      "cell_type": "code",
      "metadata": {
        "id": "OTIYerj5Dgbr"
      },
      "source": [
        "# 2.5.2 Opstil som ligninger MC(q) = p og MR(q) = p\n",
        "MC_eq = Eq(MC,p)\n",
        "MR_eq = Eq(MR,p)"
      ],
      "execution_count": null,
      "outputs": []
    },
    {
      "cell_type": "code",
      "metadata": {
        "colab": {
          "base_uri": "https://localhost:8080/"
        },
        "id": "S_pRenIoDwfw",
        "outputId": "0ee28d7a-2e34-417f-aae4-4784fa16c011"
      },
      "source": [
        "# Beregn monopolmænge og marginalpris hvor MC = MR med sympy solve\n",
        "solve([MC_eq,MR_eq])"
      ],
      "execution_count": null,
      "outputs": [
        {
          "output_type": "execute_result",
          "data": {
            "text/plain": [
              "[{p: -12.7244654983821, q: -351.549505738364},\n",
              " {p: 28.5789245296180, q: 348.003406447584}]"
            ]
          },
          "metadata": {},
          "execution_count": 111
        }
      ]
    }
  ]
}