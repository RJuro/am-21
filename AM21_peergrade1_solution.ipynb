{
  "nbformat": 4,
  "nbformat_minor": 0,
  "metadata": {
    "colab": {
      "name": "Peergrade - DK ",
      "provenance": [],
      "collapsed_sections": [],
      "include_colab_link": true
    },
    "kernelspec": {
      "name": "python3",
      "display_name": "Python 3"
    },
    "language_info": {
      "name": "python"
    }
  },
  "cells": [
    {
      "cell_type": "markdown",
      "metadata": {
        "id": "view-in-github",
        "colab_type": "text"
      },
      "source": [
        "<a href=\"https://colab.research.google.com/github/RJuro/am-21/blob/main/AM21_peergrade1_solution.ipynb\" target=\"_parent\"><img src=\"https://colab.research.google.com/assets/colab-badge.svg\" alt=\"Open In Colab\"/></a>"
      ]
    },
    {
      "cell_type": "markdown",
      "metadata": {
        "id": "xiE9qixMmQEb"
      },
      "source": [
        "## Peergrade Øvelse\n",
        "\n",
        "![](https://source.unsplash.com/Imwgit84NGo)\n",
        "\n",
        "Ideen med denne øvelse er at give dig en mulighed bruge (næsten) alt vi har lært indtil videre med et nyt eksempel og uden tidspres. Du må rigtig gerne arbejde sammen med din gruppe dog er det vigtigt, at du har styr på alt selv. Brug også gerne Teams til at diskuttere problemer med andre. \n",
        "Alt som skal bruges af kode findes i de notebooks, som der blev brugt til undervisning.\n",
        "\n",
        "I denne øvelse kommer I til at arbejde med lineær algebra på en lidt anden måde end tidligere, selvom tilgangen vil være den samme. I stedet for at arbejde x og y i traditionel forstand med, for eksempel, tid og pris på akserne, vil I blive introduceret til produktionsoptimering med to forskellige produkter på hver akse. Det kan være, at I har set lignende opgaver som del af mikroøkonomi.\n",
        "  \n",
        "Forestil jer, at I skriver et projekt i samarbejde med det lokale industri-bageri. I skal hjælpe butikken med at optimere produktion af cookies of muffins, for at få det maksimale udbytte. I har fået en oversigt over deres produktionsomkostninger, og skal nu forsøge at give butikken indblik i produktionsforholdet mellem muffins og cookies, ud fra forskellige parametre. \n"
      ]
    },
    {
      "cell_type": "markdown",
      "metadata": {
        "id": "uXgERBaNmbf4"
      },
      "source": [
        "**Pris** \n",
        "* Cookies bliver solgt til 32 kroner pr. kilo\n",
        "* Muffins bliver solgt til 27 kroner pr. kilo\n",
        "\n",
        "**Produktionsomkostninger**\n",
        "* Cookies koster 21.72 kroner pr. kilo at producere\n",
        "* Muffins koster 17.28 kroner pr. kilo at produere\n",
        "\n",
        "**Arbejdstimer**\n",
        "* Cookies koster 0.07 arbejdstimer at producere pr. kilo\n",
        "* Muffins koster 0.09 arbejdstimer at producere pr. kilo\n"
      ]
    },
    {
      "cell_type": "markdown",
      "metadata": {
        "id": "os6frV7rmmaO"
      },
      "source": [
        "#### Opgave 1.1:\n",
        "Bageriet har indkøbt ingredienser til muffins og cookies for 50.000kr i forbindelse med denne produktionscyklus.\n",
        "\n",
        "Start med at visualisere produktionsforholdet mellem cookies og muffins, altså, hvor mange i kan producere af henholdsvis muffins og cookies, med de 50.000, i har til rådighed. Til dette skal i bruge produktionsprisen på cookies (y) og produktionsprisen på muffins (x).\n",
        "\n",
        "Dette kan skrives i **generel form** som: $21.72*y + 17.28*x = 50000$\n",
        "\n",
        "Omskriv dette til **hældningsafskæringsform** (slope-intercept form), så y står alene, og plot linjen visuelt. \n"
      ]
    },
    {
      "cell_type": "code",
      "metadata": {
        "id": "OtxYkg4yrI5y"
      },
      "source": [
        "# pakke-import\n",
        "\n",
        "import numpy as np\n",
        "np.set_printoptions(suppress=True)\n",
        "\n",
        "import matplotlib.pyplot as plt"
      ],
      "execution_count": 1,
      "outputs": []
    },
    {
      "cell_type": "code",
      "metadata": {
        "colab": {
          "base_uri": "https://localhost:8080/",
          "height": 296
        },
        "id": "Jvz1LOgjme6a",
        "outputId": "e7f6118b-1a2b-4f3b-ab75-1adab5518864"
      },
      "source": [
        "# Start med at definere x - brug numpy's linspace funktion til generere 1000 observationer mellem 0 og 3000\n",
        "x = np.linspace(0, 3000, num=1000)\n",
        "# definer jeres y ud fra ovenstående algebraiske udtryk\n",
        "y1 = (50000-17.28*x)/21.72\n",
        "\n",
        "# Navngiv jeres x- og y-akse.\n",
        "plt.xlabel('Muffins')\n",
        "plt.ylabel('Cookies')\n",
        "\n",
        "#plot linjen \n",
        "plt.plot(x, y1, color = \"red\")"
      ],
      "execution_count": 2,
      "outputs": [
        {
          "output_type": "execute_result",
          "data": {
            "text/plain": [
              "[<matplotlib.lines.Line2D at 0x7fccc9c8e910>]"
            ]
          },
          "metadata": {
            "tags": []
          },
          "execution_count": 2
        },
        {
          "output_type": "display_data",
          "data": {
            "image/png": "[encoded data removed]",
            "text/plain": [
              "<Figure size 432x288 with 1 Axes>"
            ]
          },
          "metadata": {
            "tags": [],
            "needs_background": "light"
          }
        }
      ]
    },
    {
      "cell_type": "markdown",
      "metadata": {
        "id": "RXHLTuxMtkgS"
      },
      "source": [
        "Det første plot giver dog kun et overblik, i hvordan produktionen af muffins og cookies kan fordeles, med udgangspunkt i de tilgængelige resurser. I målet om at finde den optimale fordeling, for at få maksimalt udbytte, er der også andre ting der skal overvejes."
      ]
    },
    {
      "cell_type": "markdown",
      "metadata": {
        "id": "QOcRNAutxWF-"
      },
      "source": [
        "#### Opgave 1.2:\n",
        "Produktion af kager har flere omkostninger tilknyttet end blot ingredienser, herunder, arbejdstimer. Bageriet har tilknyttet **200** arbejdstimer til produktionen af muffins og cookies. 1 kilo cookies tager 0.07 arbejdstime at producere, hvor muffins tager 0.09 arbejdstime.\n",
        "\n",
        "Omskriv dette til den **generelle form**, og herefter til **hældningsafskæringsform**.\n",
        "\n",
        "Gentag herefter plottet fra opgave 1.1, og tilføj linjen for arbejdsomkostninger for muffins og cookies.\n",
        "\n"
      ]
    },
    {
      "cell_type": "code",
      "metadata": {
        "colab": {
          "base_uri": "https://localhost:8080/",
          "height": 298
        },
        "id": "GVVkiqgP0DO9",
        "outputId": "dfbc227f-40f8-4c3e-e06d-ef33bf9a298a"
      },
      "source": [
        "# Start med at definere x - brug numpy's linspace funktion til generere 1000 observationer mellem 0 og 3000\n",
        "x = np.linspace(0, 3000, num=1000)\n",
        "# inddrag y fra opgave 1 (y1)\n",
        "y1 = (50000-17.28*x)/21.72\n",
        "# tilføj jeres algebraiske udtryk for arbejdsomkostninger (y2)\n",
        "y2 = (200-0.09*x)/0.07\n",
        "\n",
        "# Navngiv jeres x- og y-akse.\n",
        "plt.xlabel('Muffins')\n",
        "plt.ylabel('Cookies')\n",
        "\n",
        "#plot linje y1 - giv den farven rød (\"red\")\n",
        "plt.plot(x, y1, color = \"red\")\n",
        "\n",
        "#plot linje y2 - giv den farven blå (\"blue\")\n",
        "plt.plot(x, y2, color = \"blue\")"
      ],
      "execution_count": null,
      "outputs": [
        {
          "output_type": "execute_result",
          "data": {
            "text/plain": [
              "[<matplotlib.lines.Line2D at 0x7f55ebb16050>]"
            ]
          },
          "metadata": {
            "tags": []
          },
          "execution_count": 4
        },
        {
          "output_type": "display_data",
          "data": {
            "image/png": "[encoded data removed]",
            "text/plain": [
              "<Figure size 432x288 with 1 Axes>"
            ]
          },
          "metadata": {
            "tags": [],
            "needs_background": "light"
          }
        }
      ]
    },
    {
      "cell_type": "markdown",
      "metadata": {
        "id": "QVP8-S50_GzW"
      },
      "source": [
        "Ud fra ovenstående plot, kan vi nu få et indblik i mængden af henholdsvis muffins og cookies bageriet skal producere for at optimere udbyttet, med udgangspunkt i de 2 variable i har adgang til."
      ]
    },
    {
      "cell_type": "markdown",
      "metadata": {
        "id": "fQ4mZ27uCt-g"
      },
      "source": [
        "### Opgave 1.3\n",
        "Selvom den grafiske fremstilling giver et visuelt overblik, har i brug for at finde den præcise kilomængde af muffins og cookies vi skal producere ud fra denne opstilling. Vores to lingninger kan skrives som denne augmented matrix:\n",
        "\n",
        "$$\n",
        "\\left[\n",
        "  \\begin{matrix}\n",
        "    21.72 & 17.28 \\\\\n",
        "    0.07 & 0.09 \\\\\n",
        "  \\end{matrix}\n",
        "  \\left|\n",
        "    \\,\n",
        "    \\begin{matrix}\n",
        "      50000  \\\\\n",
        "      200  \\\\\n",
        "    \\end{matrix}\n",
        "  \\right.\n",
        "\\right]\n",
        "$$\n",
        "\n",
        "- Prøv at finde løsningen 'i hånden' først ved hjælp af **eliminationsmetoden** (i numpy), i kan muligvis huske tilgangen fra første [undervisningsgang](https://colab.research.google.com/github/RJuro/am-21/blob/main/HA_Math_1_1_Linear_Systems_edited.ipynb#scrollTo=DqGpjUg71znB). Skriv gerne kommentar i koden hvilke rækkeoperationer du bruger.\n",
        "\n",
        "\n",
        "- Herefter kan i anvende sympy til at foretage udregningen direkte symbolisk.\n",
        "\n",
        "- Du kan se en ny måde at løse opgaven med scipy nederst - det er også der, hvor du kan tjekke, om din løsning passer.\n"
      ]
    },
    {
      "cell_type": "code",
      "metadata": {
        "id": "Fm3YwGsWN51N"
      },
      "source": [
        "# definer matrix først\n",
        "matrix = np.array([[21.72,17.28,50000],\n",
        "[0.07,0.09,200]])"
      ],
      "execution_count": 21,
      "outputs": []
    },
    {
      "cell_type": "code",
      "metadata": {
        "colab": {
          "base_uri": "https://localhost:8080/"
        },
        "id": "WOa_1AqveDVu",
        "outputId": "851fbb70-6754-46c3-c093-5e6aaee7fd32"
      },
      "source": [
        "matrix"
      ],
      "execution_count": 22,
      "outputs": [
        {
          "output_type": "execute_result",
          "data": {
            "text/plain": [
              "array([[   21.72,    17.28, 50000.  ],\n",
              "       [    0.07,     0.09,   200.  ]])"
            ]
          },
          "metadata": {
            "tags": []
          },
          "execution_count": 22
        }
      ]
    },
    {
      "cell_type": "code",
      "metadata": {
        "id": "NeQo6qSvN28o"
      },
      "source": [
        "# Række 1 divideres med 21.72\n",
        "matrix[0] = matrix[0]/matrix[0,0]"
      ],
      "execution_count": 23,
      "outputs": []
    },
    {
      "cell_type": "code",
      "metadata": {
        "colab": {
          "base_uri": "https://localhost:8080/"
        },
        "id": "nDf8NjYyeJEX",
        "outputId": "93bb985b-14a1-4cc4-f5d5-a7ef8fc49845"
      },
      "source": [
        "matrix"
      ],
      "execution_count": 24,
      "outputs": [
        {
          "output_type": "execute_result",
          "data": {
            "text/plain": [
              "array([[   1.        ,    0.79558011, 2302.02578269],\n",
              "       [   0.07      ,    0.09      ,  200.        ]])"
            ]
          },
          "metadata": {
            "tags": []
          },
          "execution_count": 24
        }
      ]
    },
    {
      "cell_type": "code",
      "metadata": {
        "id": "F8vb31pjOT6s"
      },
      "source": [
        "# Række2 - 0,07 gange række 1\n",
        "matrix[1] = matrix[1] - (matrix[0]*matrix[1,0])"
      ],
      "execution_count": 25,
      "outputs": []
    },
    {
      "cell_type": "code",
      "metadata": {
        "id": "1YnRG5RkOn8-",
        "colab": {
          "base_uri": "https://localhost:8080/"
        },
        "outputId": "c78438f8-c05d-4c14-93b4-846e9442cd3f"
      },
      "source": [
        "matrix"
      ],
      "execution_count": 26,
      "outputs": [
        {
          "output_type": "execute_result",
          "data": {
            "text/plain": [
              "array([[   1.        ,    0.79558011, 2302.02578269],\n",
              "       [   0.        ,    0.03430939,   38.85819521]])"
            ]
          },
          "metadata": {
            "tags": []
          },
          "execution_count": 26
        }
      ]
    },
    {
      "cell_type": "code",
      "metadata": {
        "id": "dBcLPiK9O44w"
      },
      "source": [
        "# Række 1 minus (matrix[0,1]/matrix[1,1]) gange række 2\n",
        "matrix[0] = matrix[0] - (matrix[1]*(matrix[0,1]/matrix[1,1]))"
      ],
      "execution_count": 27,
      "outputs": []
    },
    {
      "cell_type": "code",
      "metadata": {
        "colab": {
          "base_uri": "https://localhost:8080/"
        },
        "id": "p3rqlGDzefPN",
        "outputId": "701cf44a-d3b8-498f-d360-5aaf565ac64b"
      },
      "source": [
        "matrix"
      ],
      "execution_count": 28,
      "outputs": [
        {
          "output_type": "execute_result",
          "data": {
            "text/plain": [
              "array([[   1.        ,    0.        , 1400.96618357],\n",
              "       [   0.        ,    0.03430939,   38.85819521]])"
            ]
          },
          "metadata": {
            "tags": []
          },
          "execution_count": 28
        }
      ]
    },
    {
      "cell_type": "code",
      "metadata": {
        "id": "g6RuldGkdfkN"
      },
      "source": [
        "# Række 2 / matrix[1,1]\n",
        "matrix[1] = matrix[1]/matrix[1,1]"
      ],
      "execution_count": 30,
      "outputs": []
    },
    {
      "cell_type": "code",
      "metadata": {
        "colab": {
          "base_uri": "https://localhost:8080/"
        },
        "id": "GUqRJoaaPKCy",
        "outputId": "1f3c076e-d057-456d-a7df-639da68dcfe5"
      },
      "source": [
        "#tadah! 🎉\n",
        "matrix"
      ],
      "execution_count": 31,
      "outputs": [
        {
          "output_type": "execute_result",
          "data": {
            "text/plain": [
              "array([[   1.        ,    0.        , 1400.96618357],\n",
              "       [   0.        ,    1.        , 1132.58185722]])"
            ]
          },
          "metadata": {
            "tags": []
          },
          "execution_count": 31
        }
      ]
    },
    {
      "cell_type": "code",
      "metadata": {
        "colab": {
          "base_uri": "https://localhost:8080/"
        },
        "id": "Qd8uiBnf1OtU",
        "outputId": "827104e7-7f5a-4101-919f-07808538a9aa"
      },
      "source": [
        "#importer sympy pakker\n",
        "from sympy import * #importer alt fra Sympy\n",
        "from sympy.solvers.solveset import linsolve #importer linalg solver\n",
        "\n",
        "#definer vores symboler (c for cookies, m for muffins)\n",
        "c, m = symbols('c, m') \n",
        "\n",
        "# Brug linsolve til at finde den præcise skæring mellem produktionsomkostninger (y1) og arbejdsomkostninger (y2), og gem resultatet i xy_graphical\n",
        "xy_graphical=linsolve(Matrix(([21.72,17.28,50000], [0.07,0.09,200])), (c, m)) \n",
        "\n",
        "# Print resultatet: xy_graphical\n",
        "print(xy_graphical)"
      ],
      "execution_count": null,
      "outputs": [
        {
          "output_type": "stream",
          "text": [
            "FiniteSet((1400.96618357488, 1132.58185721954))\n"
          ],
          "name": "stdout"
        }
      ]
    },
    {
      "cell_type": "code",
      "metadata": {
        "colab": {
          "base_uri": "https://localhost:8080/"
        },
        "id": "sHCs04CAQBOZ",
        "outputId": "648d696d-ea5f-42f5-8e57-745e2a3386be"
      },
      "source": [
        "matrix[:,2:]"
      ],
      "execution_count": null,
      "outputs": [
        {
          "output_type": "execute_result",
          "data": {
            "text/plain": [
              "array([[50000.],\n",
              "       [  200.]])"
            ]
          },
          "metadata": {
            "tags": []
          },
          "execution_count": 17
        }
      ]
    },
    {
      "cell_type": "code",
      "metadata": {
        "id": "Kv9pUvKPPp7B"
      },
      "source": [
        "# en 3. løsning som kan bruges (ny mulighed - bare for at se, den findes)\n",
        "# vi kommer dog til at bruge sympy 👆 en del ifm calculus...og derfor er det fint lige at se på det allerede nu\n",
        "\n",
        "from scipy import linalg\n",
        "\n",
        "A = np.array([[21.72, 17.28],\n",
        "       [ 0.07,  0.09]])\n",
        "\n",
        "b = np.array([50000, 200])\n",
        "\n",
        "x = linalg.solve(A,b)"
      ],
      "execution_count": null,
      "outputs": []
    },
    {
      "cell_type": "code",
      "metadata": {
        "colab": {
          "base_uri": "https://localhost:8080/"
        },
        "id": "8nXqMfSXQfB7",
        "outputId": "7d14f1d5-2b59-4cc5-b51d-1f28d1a6115c"
      },
      "source": [
        "print(x)"
      ],
      "execution_count": null,
      "outputs": [
        {
          "output_type": "stream",
          "text": [
            "[1400.96618357 1132.58185722]\n"
          ],
          "name": "stdout"
        }
      ]
    },
    {
      "cell_type": "markdown",
      "metadata": {
        "id": "2J6GKzWGGTpP"
      },
      "source": [
        "### Opgave 1.4 \n",
        "Nu hvor vi har fundet den \"optimale\" mængde af muffins og cookies i kg (vi runder til hele kg og husk du kan ikke rigtigt runde op fordi du ikke har ingredienser til det), kan vi udregne hvor meget bageriet kommer til at tjene, baseret på vores begrænsede informationer. "
      ]
    },
    {
      "cell_type": "code",
      "metadata": {
        "colab": {
          "base_uri": "https://localhost:8080/"
        },
        "id": "tK3aVHxcG0SU",
        "outputId": "7ac23113-6d31-4ed3-99e7-3359fb25f3fa"
      },
      "source": [
        "rt# Gem mængden af cookies i variablen qcookies - husk at runde ned til hele tal. \n",
        "qcookies=1400\n",
        "# Gem mængden af muffins i variablen qmuffins - husk at runde ned til hele tal.\n",
        "qmuffins=1132\n",
        "\n",
        "#udregn den samlede omsætning for muffins (27*qmuffins) og cookies(32*qcookies)  \n",
        "result=32*qcookies+27*qmuffins\n",
        "\n",
        "#print resultatet, med teksten \"dkk er vores omsætning for denne produktionsrunde\"\n",
        "print(result, \"dkk er vores omsætning for denne produktionsrunde\")"
      ],
      "execution_count": null,
      "outputs": [
        {
          "output_type": "stream",
          "text": [
            "75504 dkk er vores omsætning for denne produktionsrunde\n"
          ],
          "name": "stdout"
        }
      ]
    },
    {
      "cell_type": "markdown",
      "metadata": {
        "id": "jUQPjZ02IU0u"
      },
      "source": [
        "### Opgave 2\n",
        "\n",
        "I opgave 1 tilgik vi problemet ved hjælp af grafisk visualisering, og løsning fra hældningsafskæringsform samt Gauss elimination  (+ automatisk løsning til tjek). I opgave 2 skal I løse samme problemstilling ved hjælp af multiplikativ invers. "
      ]
    },
    {
      "cell_type": "markdown",
      "metadata": {
        "id": "cVG_DkoHI5jt"
      },
      "source": [
        "#### Opgave 2.1\n",
        "\n",
        "Definer numpy arrays med $A$ som matrix_a og $\\vec{b}$ som vector_b. Du må gerne copy-paste fra 1.3 (scipy demo)"
      ]
    },
    {
      "cell_type": "code",
      "metadata": {
        "colab": {
          "base_uri": "https://localhost:8080/"
        },
        "id": "aaFEVfs0JZKv",
        "outputId": "faa85eb3-2321-4fea-a011-b94826af2932"
      },
      "source": [
        "# generér matrix_a\n",
        "matrix_a = np.asarray([\n",
        "[21.72,\t17.28],\n",
        "[0.07, 0.09],\n",
        "], dtype=np.float32)\n",
        "print(matrix_a)\n",
        "\n",
        "vector_b = np.asarray([\n",
        "[50000], [200]\n",
        "], dtype=np.float32)\n",
        "\n",
        "print(vector_b)"
      ],
      "execution_count": 32,
      "outputs": [
        {
          "output_type": "stream",
          "text": [
            "[[21.72 17.28]\n",
            " [ 0.07  0.09]]\n",
            "[[50000.]\n",
            " [  200.]]\n"
          ],
          "name": "stdout"
        }
      ]
    },
    {
      "cell_type": "markdown",
      "metadata": {
        "id": "W30VevEkJbEu"
      },
      "source": [
        "#### Opgave 2.2\n",
        "Beregn $A^{-1}$ ved at bruge numpy funktion til dette."
      ]
    },
    {
      "cell_type": "code",
      "metadata": {
        "colab": {
          "base_uri": "https://localhost:8080/"
        },
        "id": "P8ABkeaYJc1K",
        "outputId": "d83ecd09-a3f1-4f68-9389-194bcdd79155"
      },
      "source": [
        "#opgave 2.2.1\n",
        "matrix_a_inverse = np.linalg.inv(matrix_a)\n",
        "\n",
        "print(matrix_a_inverse)"
      ],
      "execution_count": 33,
      "outputs": [
        {
          "output_type": "stream",
          "text": [
            "[[  0.12077296 -23.188408  ]\n",
            " [ -0.09393452  29.146538  ]]\n"
          ],
          "name": "stdout"
        }
      ]
    },
    {
      "cell_type": "markdown",
      "metadata": {
        "id": "JyP_BMPaXseC"
      },
      "source": [
        "Vis, at $A^{-1}A = I$"
      ]
    },
    {
      "cell_type": "code",
      "metadata": {
        "id": "_V6siPumJgSJ",
        "colab": {
          "base_uri": "https://localhost:8080/"
        },
        "outputId": "87232b7e-0074-4dec-e4b6-3f2aa399638b"
      },
      "source": [
        "# opgave 2.2.2\n",
        "\n",
        "identity_matrix=np.dot(matrix_a_inverse, matrix_a)\n",
        "\n",
        "print(identity_matrix)"
      ],
      "execution_count": 35,
      "outputs": [
        {
          "output_type": "stream",
          "text": [
            "[[ 0.99999994 -0.00000005]\n",
            " [-0.00000004  0.9999999 ]]\n"
          ],
          "name": "stdout"
        }
      ]
    },
    {
      "cell_type": "markdown",
      "metadata": {
        "id": "jpEjxMd3ZFaT"
      },
      "source": [
        "Vi ved, at $I\\vec{x}=\\vec{x}$ og derfor bliver $A^{-1}A\\vec{x}=A^{-1}\\vec{b}$ til $\\vec{x} = A^{-1}\\vec{b}$\n",
        "\n",
        "Beregn $\\vec{b}$ "
      ]
    },
    {
      "cell_type": "code",
      "metadata": {
        "colab": {
          "base_uri": "https://localhost:8080/"
        },
        "id": "RYcaeSZdJoHH",
        "outputId": "76e4dd9e-006c-4529-95bd-22826ad66075"
      },
      "source": [
        "# opgave 2.2.3\n",
        "\n",
        "vector_x=np.dot(matrix_a_inverse,vector_b)\n",
        "\n",
        "print(vector_x) "
      ],
      "execution_count": 36,
      "outputs": [
        {
          "output_type": "stream",
          "text": [
            "[[1400.9663]\n",
            " [1132.5815]]\n"
          ],
          "name": "stdout"
        }
      ]
    }
  ]
}