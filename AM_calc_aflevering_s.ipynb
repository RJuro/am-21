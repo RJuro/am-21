{
  "nbformat": 4,
  "nbformat_minor": 0,
  "metadata": {
    "colab": {
      "name": "AM-calc_aflevering-s.ipynb",
      "provenance": [],
      "collapsed_sections": [],
      "include_colab_link": true
    },
    "kernelspec": {
      "name": "python3",
      "display_name": "Python 3"
    },
    "language_info": {
      "name": "python"
    }
  },
  "cells": [
    {
      "cell_type": "markdown",
      "metadata": {
        "id": "view-in-github",
        "colab_type": "text"
      },
      "source": [
        "<a href=\"https://colab.research.google.com/github/RJuro/am-21/blob/main/AM_calc_aflevering_s.ipynb\" target=\"_parent\"><img src=\"https://colab.research.google.com/assets/colab-badge.svg\" alt=\"Open In Colab\"/></a>"
      ]
    },
    {
      "cell_type": "markdown",
      "metadata": {
        "id": "yoIewCBrgStf"
      },
      "source": [
        "# Peer-feedback aflevering Anvendt Metematik - Calculus\n",
        "\n",
        "![](https://source.unsplash.com/GzDrm7SYQ0g)"
      ]
    },
    {
      "cell_type": "markdown",
      "metadata": {
        "id": "8GdNGHLbiX-B"
      },
      "source": [
        "# Opgave 1\n",
        "\n",
        "I denne del arbejder vi med funktionen $f(x) = x^3 - 6x^2 -63x + 42$"
      ]
    },
    {
      "cell_type": "code",
      "metadata": {
        "id": "XLH5llqNjPPj"
      },
      "source": [
        "# import af alle pakker, som der er brug for i opgaven\n",
        "\n",
        "import numpy as np\n",
        "import matplotlib.pyplot as plt\n",
        "from sympy import *"
      ],
      "execution_count": null,
      "outputs": []
    },
    {
      "cell_type": "markdown",
      "metadata": {
        "id": "GEFBcUVtjeG5"
      },
      "source": [
        "### 1.1 - Plot funktionen \n",
        "\n",
        "- brug numpy og pyplot/matplotlib\n",
        "- plot for $-15 ≤ x ≤ 15$"
      ]
    },
    {
      "cell_type": "code",
      "metadata": {
        "id": "C-0wzG0xCRRO"
      },
      "source": [
        "# brug np.linspace til at generere 100 værdier og plot funktionen\n",
        "x = ...\n",
        "y = ...\n",
        "\n",
        "plt.plot(...)"
      ],
      "execution_count": null,
      "outputs": []
    },
    {
      "cell_type": "markdown",
      "metadata": {
        "id": "1MT9F7Q5j26l"
      },
      "source": [
        "### 1.2 - Find sekantlinjen \n",
        "\n",
        "- Beregn den lineære ligning $s = mx+b$ der beskriver sekanten i de to punkter $x_1 = -10$ og $x_2 = 0$\n",
        "- Du skal først finde $y_1, y_2$ og $m, b$\n",
        "- plot $f(x)$ og $s(x)$\n",
        "\n",
        "OBS: der bruges lidt afvigende variabelbetegnelser (fra de matematiske udtryk) i koden.\n",
        "\n"
      ]
    },
    {
      "cell_type": "code",
      "metadata": {
        "id": "nxFlgnL8Wr-Q"
      },
      "source": [
        "# definer symboler og funktionen (brug x0 i stedet for x)\n",
        "x0 = symbols('x0')\n",
        "\n",
        "f = ...\n",
        "f"
      ],
      "execution_count": null,
      "outputs": []
    },
    {
      "cell_type": "code",
      "metadata": {
        "id": "o_6iBS12Wez2"
      },
      "source": [
        "# beregn y1 og y2 i SymPy\n",
        "x1 = -10\n",
        "x2 = 0\n",
        "\n",
        "y1 = f.subs(...)\n",
        "y2 = ..."
      ],
      "execution_count": null,
      "outputs": []
    },
    {
      "cell_type": "code",
      "metadata": {
        "id": "84jT0BZhW6M3"
      },
      "source": [
        "# beregn hældningen m\n",
        "m = (...)/(...)"
      ],
      "execution_count": null,
      "outputs": []
    },
    {
      "cell_type": "code",
      "metadata": {
        "id": "QDPC8yJpXBNT"
      },
      "source": [
        "# beregn b ved at omskrive s = m*x + b\n",
        "\n",
        "b = ..."
      ],
      "execution_count": null,
      "outputs": []
    },
    {
      "cell_type": "code",
      "metadata": {
        "id": "B_lOlb_OXVvY"
      },
      "source": [
        "# beregn alle s-værdier ved at indsætte x-værdier som blev genereret med linspace\n",
        "s = ..."
      ],
      "execution_count": null,
      "outputs": []
    },
    {
      "cell_type": "code",
      "metadata": {
        "id": "FS6uzNf9viKk"
      },
      "source": [
        "# plot f(x) og s(x) som går gennem x1 og x2\n",
        "plt.plot(...)\n",
        "plt.plot(...)"
      ],
      "execution_count": null,
      "outputs": []
    },
    {
      "cell_type": "markdown",
      "metadata": {
        "id": "xaCAdaqdX1Eo"
      },
      "source": [
        "### 1.3 - Find tangentlinjen \n",
        "\n",
        "- Beregn den lineære ligning $t = mx+b$ der beskriver tangenten i $x_3 = -7$\n",
        "- Du skal først finde $y_3$\n",
        "- Brug **differenskvotienten** og beregn hældning i $x_3$ for $\\lim_{h\\to0}$\n",
        "- plot $f(x)$ og $t(x)$\n",
        "\n",
        "OBS: der bruges lidt afvigende variablebetegnelser (fra de matematiske udtryk) i koden.\n"
      ]
    },
    {
      "cell_type": "code",
      "metadata": {
        "id": "Ae5Cz0fDCga_"
      },
      "source": [
        "# beregn y3 ved at indsætte x3\n",
        "\n",
        "x3 = -7\n",
        "y3 = ..."
      ],
      "execution_count": null,
      "outputs": []
    },
    {
      "cell_type": "code",
      "metadata": {
        "id": "4glbqzMDYEvR"
      },
      "source": [
        "# definer h symbollet\n",
        "h = symbols('h')"
      ],
      "execution_count": null,
      "outputs": []
    },
    {
      "cell_type": "code",
      "metadata": {
        "id": "qQV6fH2pY0NO"
      },
      "source": [
        "# definer f(x+h) ved at erstatte x0 for x0+h i f(x)\n",
        "fh = ..."
      ],
      "execution_count": null,
      "outputs": []
    },
    {
      "cell_type": "code",
      "metadata": {
        "id": "hgY4frxGY7zd"
      },
      "source": [
        "# definer ligninen for hældning af tangenten mt\n",
        "# udskriv mt og kontroler\n",
        "mt = ..."
      ],
      "execution_count": null,
      "outputs": []
    },
    {
      "cell_type": "markdown",
      "metadata": {
        "id": "f9HvBbl5wQ_y"
      },
      "source": [
        "Differenskvotienten burde være:\n",
        "$$\\frac{- 63 h - x_{0}^{3} + 6 x_{0}^{2} + \\left(h + x_{0}\\right)^{3} - 6 \\left(h + x_{0}\\right)^{2}}{h}$$"
      ]
    },
    {
      "cell_type": "code",
      "metadata": {
        "id": "3tXALDuAZDhP"
      },
      "source": [
        "# beregn hældningen m3 i x3 ved at regne grænseværdien for h -> 0 og indsætte x3\n",
        "\n",
        "h_o = mt.limit(...)\n",
        "m3 = ..."
      ],
      "execution_count": null,
      "outputs": []
    },
    {
      "cell_type": "code",
      "metadata": {
        "id": "P8_6suLLZq-2"
      },
      "source": [
        "# beregn b3 ved at omkskrive t = m3 * x + b3\n",
        "\n",
        "b3 = ..."
      ],
      "execution_count": null,
      "outputs": []
    },
    {
      "cell_type": "code",
      "metadata": {
        "id": "Fp9rvcDdaE-O"
      },
      "source": [
        "# beregn alle t-værdier ved at indsætte x-værdier som blev genereret med linspace\n",
        "t = ..."
      ],
      "execution_count": null,
      "outputs": []
    },
    {
      "cell_type": "code",
      "metadata": {
        "id": "hbxpvlVKxy9N"
      },
      "source": [
        "# plot f(x) og t(x) i x3\n",
        "plt.plot(...)\n",
        "plt.plot(...)"
      ],
      "execution_count": null,
      "outputs": []
    },
    {
      "cell_type": "markdown",
      "metadata": {
        "id": "0a2iHGStn2a0"
      },
      "source": [
        "### 1.4 - Find ekstrempunkter\n",
        "\n",
        "- Brug SymPy og differentering til at finde maximum og minimum i $f(x)$\n",
        "- Brug først `factor()` funktionen, som kan hjælpe med at finde ekstrempunkter \"manuelt\"\n",
        "- Vis derefter, hvordan man kan finde punkterne \"automatisk\"\n",
        "- Lav manuel test for min/max ved at se på ændinger i fortegn"
      ]
    },
    {
      "cell_type": "code",
      "metadata": {
        "id": "y0iEcYGYbY0F"
      },
      "source": [
        "# find den afledede funktion fd (sympy) og udskriv\n",
        "fd = ...\n",
        "fd"
      ],
      "execution_count": null,
      "outputs": []
    },
    {
      "cell_type": "code",
      "metadata": {
        "id": "5bagRSwmbGO6"
      },
      "source": [
        "# brug factor() funktionen til at faktorisere den afledede funktion; se, om du kan finde\n",
        "# de 2 ekstrempunkter uden videre beregning\n",
        "\n"
      ],
      "execution_count": null,
      "outputs": []
    },
    {
      "cell_type": "code",
      "metadata": {
        "id": "ob1jvXLTCxsc"
      },
      "source": [
        "# brug sympy til at finde de 2 ekstrempunkter\n",
        "..."
      ],
      "execution_count": null,
      "outputs": []
    },
    {
      "cell_type": "code",
      "metadata": {
        "id": "Y2h6BZzlDWZv"
      },
      "source": [
        "# generer værdier som kan bruges for at undersøge ændringer af fortegn\n",
        "sign_chart = [...]"
      ],
      "execution_count": null,
      "outputs": []
    },
    {
      "cell_type": "code",
      "metadata": {
        "id": "DeKB8eWPE0s3"
      },
      "source": [
        "# beregn hældningsværdier (list-comprehension)\n",
        "[fd.subs(...) for i in ...]"
      ],
      "execution_count": null,
      "outputs": []
    },
    {
      "cell_type": "markdown",
      "metadata": {
        "id": "jrNK0UK_o5xP"
      },
      "source": [
        "# Opgave 2 - Omkostningsminimering\n",
        "\n",
        "Efter regeringens udspil om udflytning af studier skal Viborg Kommune i gang med at bygge nye boliger i Foulum. Det viser sig, at flere studerende end antaget skal have det godt og sjovt i Foulum fra 2024 og der er nu tale om maksimalt **300** nye studieboliger, som kan bygges.\n",
        "Det er dog ikke billigt at bygge og heller ikke at vedligeholde ejendomme. $C(z) =10000 + 35z - 0.1z^2$ er funktionen, der beskriver gennemsnitlige omkostninger forbundet med vedligeholdelse per dag.\n",
        "Hvor mange boliger skal der bygges, således omkostninger kan reduceres under antagelsen, at der findes folk, som vil flytte dertil for at læse...\n",
        "\n",
        "\n"
      ]
    },
    {
      "cell_type": "markdown",
      "metadata": {
        "id": "HRdBSso6tECX"
      },
      "source": [
        "### 2.1 - Definer og plot funktionen $C(z)$\n",
        "\n",
        "- definer funktionen og gem i $c$ (symbolsk)\n",
        "- brug numpy/matplotlib til at plotte for $-100≤z≤400$"
      ]
    },
    {
      "cell_type": "code",
      "metadata": {
        "id": "gqYh-a_AssIn"
      },
      "source": [
        "# definer symbol z\n",
        "z = symbols('z')"
      ],
      "execution_count": null,
      "outputs": []
    },
    {
      "cell_type": "code",
      "metadata": {
        "id": "AwA-plT8biC0"
      },
      "source": [
        "# definer c(z) som c\n",
        "c = ...\n",
        "c"
      ],
      "execution_count": null,
      "outputs": []
    },
    {
      "cell_type": "code",
      "metadata": {
        "id": "KO5h3RgRc-af"
      },
      "source": [
        "# plot funktionen mellem -100 of 400; brug z_plot i stedet for x (som vi normalt bruger)\n",
        "z_plot = ...\n",
        "\n",
        "y = ...\n",
        "\n",
        "plt.plot(...)"
      ],
      "execution_count": null,
      "outputs": []
    },
    {
      "cell_type": "markdown",
      "metadata": {
        "id": "A7VklEFhtikB"
      },
      "source": [
        "### 2.2 - Find ekstrempunktet\n",
        "\n",
        "- Hvor er ekstrempunktet?\n",
        "- Man vil gerne bygge så mange boliger, som man kan samt minimere omkostninger: Hvor mange burde man bygge, hvis man maksimalt har plads til 300?"
      ]
    },
    {
      "cell_type": "code",
      "metadata": {
        "id": "Qj09bpaGdmE6"
      },
      "source": [
        "# find ekstremum\n",
        "..."
      ],
      "execution_count": null,
      "outputs": []
    },
    {
      "cell_type": "code",
      "metadata": {
        "id": "5u_PE1FVfXcq"
      },
      "source": [
        "# lav liste med mulige antal af boliger (f.eks. ingen, z i ekstrempunktet, maksimal antal boliger, der kan bygges)\n",
        "solutions = [...]"
      ],
      "execution_count": null,
      "outputs": []
    },
    {
      "cell_type": "code",
      "metadata": {
        "id": "O6WFCWhte4Mg"
      },
      "source": [
        "# beregn omkostninger for disse løsninger\n",
        "[c.subs(...) for i in ...]"
      ],
      "execution_count": null,
      "outputs": []
    },
    {
      "cell_type": "code",
      "metadata": {
        "id": "V9hCGQDouPEM"
      },
      "source": [
        "# man skal bygge\n",
        "\n",
        "z_optimal = ... # boliger"
      ],
      "execution_count": null,
      "outputs": []
    }
  ]
}
