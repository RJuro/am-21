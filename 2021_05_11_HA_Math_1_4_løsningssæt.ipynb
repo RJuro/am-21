{
  "nbformat": 4,
  "nbformat_minor": 0,
  "metadata": {
    "colab": {
      "name": "HA_Math_1.4_Løsningssæt",
      "provenance": [],
      "collapsed_sections": [],
      "include_colab_link": true
    },
    "kernelspec": {
      "name": "python3",
      "display_name": "Python 3"
    },
    "language_info": {
      "name": "python"
    }
  },
  "cells": [
    {
      "cell_type": "markdown",
      "metadata": {
        "id": "view-in-github",
        "colab_type": "text"
      },
      "source": [
        "<a href=\"https://colab.research.google.com/github/RJuro/am-21/blob/main/2021_05_11_HA_Math_1_4_l%C3%B8sningss%C3%A6t.ipynb\" target=\"_parent\"><img src=\"https://colab.research.google.com/assets/colab-badge.svg\" alt=\"Open In Colab\"/></a>"
      ]
    },
    {
      "cell_type": "markdown",
      "metadata": {
        "id": "aVOJu_HhVNcp"
      },
      "source": [
        "### Del 4 - Løsningssæt\n",
        "\n",
        "I dette kursus har vi set på to forskellige måder at finde løsningen på $A\\vec{x} = \\vec{b}$  når $b$ ikke er en vektor, der udelukkende indeholder nuller ($b \\neq 0$). Den første metode vi så, var Gauss eliminering, som bruger  rækkeoperationer til at transformere augmented matrix repræsentation af et lineært system til echelonform og derefter til sidst til reduceret rækkeechelonform. Den anden måde vi har set, var at beregne den inverse matrix af $A$ og så gange begge sider af ligningen for at finde $\\vec{x}$ \n",
        "\n",
        "Selvom vi kan bruge disse teknikker til at løse de fleste af de lineære systemer, vi møder, er vi nødt til at lære, hvad vi skal gøre, når:\n",
        "* Løsningssættet for et lineært system ikke eksisterer\n",
        "* Løsningssættet for for lineært system ikke er en enkelt vektor\n",
        "* $\\vec{b}$ er lig med $\\vec{0}$\n",
        "\n",
        "I denne session vil vi afslutte vores gennemgang af lineær algebra ved at undersøge alle disse situationer. \n"
      ]
    },
    {
      "cell_type": "markdown",
      "metadata": {
        "id": "dRtNwsdUXdU_"
      },
      "source": [
        "#### Del 4.1\n",
        "Ikke alle ligningssystemer har en løsning. Disse systemer er **inkonsistente**. Et inkonsistent system har to eller flere ligninger der ikke overlapper i værider, og bliver derved umulige at løse. \n",
        "\n",
        "Lad os kigge på et konkret eksempel:\n",
        " \n",
        "$\n",
        "\\left[\n",
        "  \\begin{matrix}\n",
        "    8 & 4 \\\\\n",
        "    4 & 2 \\\\\n",
        "  \\end{matrix}\n",
        "  \\left|\n",
        "    \\,\n",
        "    \\begin{matrix}\n",
        "      5  \\\\\n",
        "      5  \\\\\n",
        "    \\end{matrix}\n",
        "  \\right.\n",
        "\\right]\n",
        "$\n"
      ]
    },
    {
      "cell_type": "markdown",
      "metadata": {
        "id": "6JeX1wZdYzeE"
      },
      "source": [
        "Lad os prøve at reducere denne matrix til echelonform. Vi kan dividere den første række med to:\n",
        "\n",
        "$\n",
        "\\left[\n",
        "  \\begin{matrix}\n",
        "    4 & 2 \\\\\n",
        "    4 & 2 \\\\\n",
        "  \\end{matrix}\n",
        "\\left|\n",
        "  \\begin{matrix}\n",
        "    2.5  \\\\\n",
        "    5  \\\\\n",
        "  \\end{matrix}\n",
        "\\right.\n",
        "\\right]\n",
        "$"
      ]
    },
    {
      "cell_type": "markdown",
      "metadata": {
        "id": "fjiLO8BHZX57"
      },
      "source": [
        "Hvis vi trækker den øverste række fra den nederste (R2 - R1) og divderer den første række med 4 (R1 / 4), har den augmented matrix nuller for koefficienterne i R2. \n",
        "\n",
        "$\n",
        "\\left[\n",
        "  \\begin{matrix}\n",
        "    1 & 1/2 \\\\\n",
        "    0 & 0 \\\\\n",
        "  \\end{matrix}\n",
        "\\left|\n",
        "  \\begin{matrix}\n",
        "    0.625  \\\\\n",
        "    2.5  \\\\\n",
        "  \\end{matrix}\n",
        "\\right.\n",
        "\\right]\n",
        "$\n",
        "\n",
        "Hvis vi plotter begge disse lineære ligninger, bliver det tydeligt hvorfor der ikke findes en løsning til dette lineære system."
      ]
    },
    {
      "cell_type": "markdown",
      "metadata": {
        "id": "wPhhvhSeakax"
      },
      "source": [
        "**Øvelse**\n",
        "\n",
        "* Brug papir og blyant til at skrive ligningerne fra den augmented matrix $\\left[\\begin{matrix}8 & 4 \\\\ 4 & 2 \\\\\\end{matrix}\\left|\\,\\begin{matrix}5\\\\5\\\\ \\end{matrix}\\right.\\right]$ og skriv dem som i slope-intercept form: $y = mx + b$\n",
        "* Brug numpy.linspace() til at generere 1000 lige fordelte værdier mellem 0 og 20 som $x$. \n",
        "* transformer $x$ ved at benytte den første ligning = **y1**.\n",
        "* transformer $x$ ved at benytte den anden ligning = **y2**. \n",
        "* Generer 2 line plots i det samme subplot, hvor begge linjer har farven blå (\"blue\").\n",
        " * En med $x$ på x-aksen og **y1** på y-aksen.\n",
        " * En med $x$ på x-aksen og **y2** på y-aksen.\n",
        "* Undlad at vælge en rækkevidde for x- og y-akserne, og lad i stedet matplotlib vælge automatisk, baseret på data. "
      ]
    },
    {
      "cell_type": "code",
      "metadata": {
        "id": "Vg9CMUw0UKCZ"
      },
      "source": [
        ""
      ],
      "execution_count": null,
      "outputs": []
    },
    {
      "cell_type": "markdown",
      "metadata": {
        "id": "4WFKCjjDd64M"
      },
      "source": [
        "#### Del 4.2 \n",
        "Fra plottet for det lineære system kan vi se, at det lineære system ikke har nogen løsning, fordi begge linjer er parallelle og ikke skærer hinanden. Fordi begge ligninger har samme hældning (-2) men forskellige y-skæringsværdier (5/2 og 5/4), dette burde matche vores intuition. Selvom vi kan plotte ligningerne, når vi kun arbejder med to variabler for at bestemme, at der ikke findes nogen løsning, har vi brug for en mere generel måde, der bygger på det, vi har lært i lineær algebra.\n",
        "\n",
        "Lad os først se på, hvordan vi håndterer dette i forhold til kvadratmatricer."
      ]
    },
    {
      "cell_type": "markdown",
      "metadata": {
        "id": "8K_riQOhgUUg"
      },
      "source": [
        "I den session lærte vi om den inverse matrice, og hvordan den inverse kun eksisterer, hvis matricens determinant ikke er lig med 0. Når vi arbejder med en kvadratmatrix, hvor antallet af rækker og antallet af kolonner er lige, kan vi beregne determinanten, og hvis den er lig med 0, siger vi, at matricen er **singulær** eller ikke indeholder nogen invers.\n",
        "\n",
        "Hvis vi beregner determinanten for koefficientmatricen fra det sidste trin, kan vi se, at matricen er singulær, og at det lineære system ikke indeholder en løsning.\n",
        "\n",
        "$A=\\begin{bmatrix}8 & 4\\\\4 & 2\\end{bmatrix}$\n",
        "\n",
        "Husk, at formlen for determinanten for en 2x2 kvadratmatrix er: \n",
        "\n",
        "$det(A) = ad - bc$\n",
        "\n",
        "Hvis vi kan substituere værdierne, kan vi få en determinant på 0:\n",
        "\n",
        "$det(A) = 8 * 2 - 4 * 4 = 0$"
      ]
    },
    {
      "cell_type": "markdown",
      "metadata": {
        "id": "U4i7bQQKgU3g"
      },
      "source": [
        "#### Del 4.3\n",
        "Indtil videre har vi kun kigget på lineære systemer hvor konstantens vektor ($\\vec{b}$) ikke udelukkende har værdien 0. Disse lineære systemer er kendt som **ikke-homogene systemer**. \n",
        "\n",
        "Her kan i se det ikke-homogene system fra tidligere:\n",
        "\n",
        "$\\left[\\begin{matrix}8 & 4 \\\\ 4 & 2 \\\\\\end{matrix}\\left|\\,\\begin{matrix}5\\\\5\\\\ \\end{matrix}\\right.\\right]$\n",
        "\n",
        "I modsat fald, når den konstante vektor er lig med nul-vektoren, er systemet kendt som et **homogent system**.\n",
        "\n",
        "Her er et eksempel: \n",
        "\n",
        "$\\left[\\begin{matrix}8 & 4 \\\\ 4 & 2 \\\\\\end{matrix}\\left|\\,\\begin{matrix}0\\\\0\\\\ \\end{matrix}\\right.\\right]$"
      ]
    },
    {
      "cell_type": "markdown",
      "metadata": {
        "id": "8uacPKYxjgA9"
      },
      "source": [
        "Distinktionen mellem de to systemer findes, fordi homogene systemer **altid** har en løsning, nul-vektoren. Vi kommer til at kigge nærmere på homogene systemer, men først skal vi se lidt mere på ikke-homogene systemer. "
      ]
    },
    {
      "cell_type": "markdown",
      "metadata": {
        "id": "0YdQ95iUkAxk"
      },
      "source": [
        "##### Kvadratiske, ikke-homogene systemer\n",
        "for denne typer af systemer, er der 3 mulige løsninger: \n",
        "* Ingen løsning\n",
        "* én løsning\n",
        "* uendeligt mange løsninger\n",
        "\n",
        "Her kan i se en oversigt over de 3 mulige løsninger, præsenteret som et simpelt 2D, ikke-homogent lineært system. Disse koncepter kan også tilføres til fler-dimensionelle ligninger, men det er lettest at danne en intuitiv forståelse fra 2 dimensioner. "
      ]
    },
    {
      "cell_type": "code",
      "metadata": {
        "id": "7qr6ZWEgkuU9",
        "colab": {
          "base_uri": "https://localhost:8080/",
          "height": 282
        },
        "outputId": "3a70ef61-e35d-479b-cf4a-effb3a56f3bf"
      },
      "source": [
        "import numpy as np\n",
        "\n",
        "import matplotlib.pyplot as plt\n",
        "x = np.linspace(-10, 20, num=1000)\n",
        "\n",
        "y1 = -2*x +1.25\n",
        "y2 = -2*x +2.5\n",
        "\n",
        "plt.plot(x, y1, color = \"blue\")\n",
        "plt.plot(x, y2, color = 'blue')"
      ],
      "execution_count": 7,
      "outputs": [
        {
          "output_type": "execute_result",
          "data": {
            "text/plain": [
              "[<matplotlib.lines.Line2D at 0x7fb30e0a1150>]"
            ]
          },
          "metadata": {
            "tags": []
          },
          "execution_count": 7
        },
        {
          "output_type": "display_data",
          "data": {
            "image/png": "[encoded data removed]",
            "text/plain": [
              "<Figure size 432x288 with 1 Axes>"
            ]
          },
          "metadata": {
            "tags": [],
            "needs_background": "light"
          }
        }
      ]
    },
    {
      "cell_type": "code",
      "metadata": {
        "colab": {
          "base_uri": "https://localhost:8080/",
          "height": 282
        },
        "id": "f0sKrk3Y5w1j",
        "outputId": "1101233a-6543-41ae-c08f-7b966bc9ae65"
      },
      "source": [
        "y1 = -2*x +1.25\n",
        "y2 = 2*x +2.5\n",
        "\n",
        "plt.plot(x, y1, color = \"blue\")\n",
        "plt.plot(x, y2, color = 'blue')"
      ],
      "execution_count": 9,
      "outputs": [
        {
          "output_type": "execute_result",
          "data": {
            "text/plain": [
              "[<matplotlib.lines.Line2D at 0x7fb30dff76d0>]"
            ]
          },
          "metadata": {
            "tags": []
          },
          "execution_count": 9
        },
        {
          "output_type": "display_data",
          "data": {
            "image/png": "[encoded data removed]",
            "text/plain": [
              "<Figure size 432x288 with 1 Axes>"
            ]
          },
          "metadata": {
            "tags": [],
            "needs_background": "light"
          }
        }
      ]
    },
    {
      "cell_type": "code",
      "metadata": {
        "colab": {
          "base_uri": "https://localhost:8080/",
          "height": 282
        },
        "id": "I9-fpUjo6gjD",
        "outputId": "ad49217f-2bc3-466a-ddc2-700548143bbc"
      },
      "source": [
        "y1 = -2*x +2.5\n",
        "y2 = -2*x +2.5\n",
        "\n",
        "plt.plot(x, y1, color = \"blue\")\n",
        "plt.plot(x, y2, color = 'blue')"
      ],
      "execution_count": 10,
      "outputs": [
        {
          "output_type": "execute_result",
          "data": {
            "text/plain": [
              "[<matplotlib.lines.Line2D at 0x7fb30df75450>]"
            ]
          },
          "metadata": {
            "tags": []
          },
          "execution_count": 10
        },
        {
          "output_type": "display_data",
          "data": {
            "image/png": "[encoded data removed]",
            "text/plain": [
              "<Figure size 432x288 with 1 Axes>"
            ]
          },
          "metadata": {
            "tags": [],
            "needs_background": "light"
          }
        }
      ]
    },
    {
      "cell_type": "markdown",
      "metadata": {
        "id": "vVT2GaQEkvF3"
      },
      "source": [
        "##### Rektangulære, ikke-homogene systemer\n",
        "For denne type system er der 2 mulige løsninger: \n",
        "* ingen løsning\n",
        "* uendeligt mange løsninger\n",
        "\n",
        "Lad os tage et fler-dimensionelt eksempel: \n",
        "\n",
        "$\\left[\\begin{matrix}1 & 0 & 3 \\\\ 1 & 2 & 1\\\\\\end{matrix}\\left|\\,\\begin{matrix}1\\\\2\\\\ \\end{matrix}\\right.\\right]$\n",
        "\n",
        "Det første vi skal gøre, for at transformere denne matrix til echelonform, er at fratrække række 1 fra række 2 (R2 - R1):\n",
        "\n",
        "$\\left[\\begin{matrix}1 & 0 & 3 \\\\ 0 & 2 & -2\\\\\\end{matrix}\\left|\\,\\begin{matrix}1\\\\1\\\\ \\end{matrix}\\right.\\right]$\n",
        "\n",
        "Det næste vi skal gøre, er at dividere række 2 med 2 (R2/2):\n",
        "\n",
        "$\\left[\\begin{matrix}1 & 0 & 3 \\\\ 0 & 1 & -1\\\\\\end{matrix}\\left|\\,\\begin{matrix}1\\\\1/2\\\\ \\end{matrix}\\right.\\right]$\n",
        "\n",
        "Hvis vi konverterer dette system tilbage til ligningsform, får vi følgende løsning:\n",
        "\n",
        "$x_1 + 3x_3 = 1$\n",
        "\n",
        "$x_2 - x_3 = 1/2$\n",
        "\n",
        "Hvis vi beregner løsningen for hver variabel, får vi følgende løsning:\n",
        "\n",
        "$x_1 = 1 - 3x_3$\n",
        "\n",
        "$x_2 = 1/2 + x_3$\n",
        "\n"
      ]
    },
    {
      "cell_type": "markdown",
      "metadata": {
        "id": "-_X59C6Zoweo"
      },
      "source": [
        "$x_3$ er også kendt som en **fri variabel**, fordi den har mulighed for fri bevægelse. Man kan observere, at både $x_1$ og $x_2$ begge er skrevet i relation til $x_3$. System har uendeligt mange løsninger, fordi vi for enhver ægte værdi som vi sætter ind i $x_3$, får  forskellige værdier for $x_1$ og $x_2$. \n",
        "\n",
        "Dermed kan vi konstatere, at der er uendelige løsninger i dette system, fordi der en uendelig mængde værdier som $x_3$ kan tage, der ville gøre systemet sandt. Dette sæt af uendelige løsninger er kendt som en **løsningsrum** (solution space)."
      ]
    },
    {
      "cell_type": "markdown",
      "metadata": {
        "id": "u2SZecB2qVq_"
      },
      "source": [
        "#### Del 4.4\n",
        "Vi kan løse ethvert homogent system, $A\\vec{x} = 0$ ved at sætte $x$ til nulvektoren $\\vec{0}$. Dette er kendt som den **trivielle løsning**, da det ikke er en særlig nyttig løsning for os eller hvem der ellers vil have en 🤷‍♂️. For homogene systemer er vi mere interesserede i at afgøre, om der findes uendeligt mange løsninger eller ej. Lad os se på et konkret eksempel:\n",
        "\n",
        "$\\left[\\begin{matrix}6 & 10 & -8 \\\\ -6 & -4 & 8\\\\ 3 & 1/2 & -4\\end{matrix}\\left|\\,\\begin{matrix}0\\\\0\\\\0\\\\ \\end{matrix}\\right.\\right]$\n",
        "\n",
        "Efter traditionel rækkereduktion til echelonform, vil matricen se således ud:\n",
        "\n",
        "$\\left[\\begin{matrix}3 & 5 & -4 \\\\ 0 & 3 & 0\\\\ 0 & 0 & 0\\end{matrix}\\left|\\,\\begin{matrix}0\\\\0\\\\0\\\\ \\end{matrix}\\right.\\right]$\n",
        "\n",
        "I dette tilfælde er den sidste række ligningen $0 = 0$. Hvis den sidste række indeholdt en usand ligning som $0 = 3$ ville systemet ikke have en løsning. For dette system derimod, kan vi fortsætte med at reducere ind til vi finder løsningsrummet. Vi får til sidst denne matrix: \n",
        "\n",
        "$\\left[\\begin{matrix}1 & 0 & -4/3 \\\\ 0 & 1 & 0\\\\ 0 & 0 & 0\\end{matrix}\\left|\\,\\begin{matrix}0\\\\0\\\\0\\\\ \\end{matrix}\\right.\\right]$\n",
        "\n",
        "Hvis vi omdannet dette til ligningsform, får vi:\n",
        "\n",
        "$x_1 - \\frac{4}{3}x_3 = 0$\n",
        "\n",
        "$x_2 = 0$"
      ]
    },
    {
      "cell_type": "markdown",
      "metadata": {
        "id": "h8WKtB1Cs3Km"
      },
      "source": [
        "I dette system er $x_3$ en fri variabel, $x_1 = \\frac{4}{3}x_3$ og $x_2 = 0$. Ændringer på $x_3$ resulterer i en anden, valid løsning. Fordi $x_3$ kan være ethvert ægte tal (som der er ret mange $\\infty$ af), er det muligt at finde et uendeligt antal løsninger på systemet.   "
      ]
    },
    {
      "cell_type": "markdown",
      "metadata": {
        "id": "p-BTKUd_t777"
      },
      "source": [
        "Når løsningen er et løsningsrum (og ikke bare et unikt sæt af værdier), omskrives løsningen, som regel, til parametrisk vektorform, som ser således ud:\n",
        "\n",
        "$\\vec{x} = x_3 * \\begin{bmatrix}4/3\\\\0\\\\1\\\\\\end{bmatrix}$\n",
        "\n",
        "Den parametriske vektorform af løsningsrummet kan forhåbentlig gøre det uendelig format af løsningsrummet mere håndgribeligt. \n"
      ]
    },
    {
      "cell_type": "markdown",
      "metadata": {
        "id": "QLs7WzTVuzAV"
      },
      "source": [
        "**Øvelse**\n",
        "* Opret en funktion ved navn **test_homog()**, der accepterer en enkelt parameter: **x3**.\n",
        " * Denne funktion skal først bruge parameterværdien til at beregne $x_1$ og $x_2$. Anvend løsningsfunktionerne vi lige har udregnet og tildel til **x1** og **x2**\n",
        " * Derefter skal denne funktion tilslutte **x1**, **x2** og **x3** til det originale lineære system (du er velkommen til at bruge echelonformen i stedet, giver mere kompakthed) og returnere True, hvis begge ligninger er sande og ellers falsk. Du skal først konvertere den indledende, forstørrede matrixrepræsentation til systemet til standardformularen manuelt.\n",
        "* Brug funktionen **test_homog()** til at se, om i får True ved at indstille $x_3$ til 1. Tildel resultatet af denne funktion til b_one.\n",
        "* Brug funktionen **test_homog()** til at se, om i får True ved at indstille $x_3$ til -10. Tildel resultatet til b_two."
      ]
    },
    {
      "cell_type": "code",
      "metadata": {
        "id": "jIibwm5dMZED"
      },
      "source": [
        ""
      ],
      "execution_count": 11,
      "outputs": []
    },
    {
      "cell_type": "markdown",
      "metadata": {
        "id": "VGXp39EZw04E"
      },
      "source": [
        "#### Del 4.5\n",
        "I dette kursus har vi undersøgt et par forskellige måder at klassificere lineære systemer på."
      ]
    },
    {
      "cell_type": "markdown",
      "metadata": {
        "id": "-9mLWt0vxBlv"
      },
      "source": [
        "##### **Kvadratisk vs. rektangulær**:\n",
        "Når $A$ er en kvadratmatrix, kan vi beregne determinanten for at bestemme, om der er en løsning, og den inverse matrix hvis determinanten ikke er lig med $0$. Desværre er beregning af determinanten og den inverse matrix meget beregningsintensiv og bør kun bruges til lavdimensionelle matricer. Disse teknikker er dog utroligt nyttige, når man arbejder med små lineære systemer manuelt.\n",
        "\n",
        "Når $A$ er en rektangulær matrix, ser vi efter, om systemet ikke har nogen løsninger eller uendeligt mange løsninger, ved hjælp af Gauss eliminering. Ved sidstnævnte plejer man at skrive løsningsrummet i parametrisk vektorform."
      ]
    },
    {
      "cell_type": "markdown",
      "metadata": {
        "id": "BEAp6SeSx2Jn"
      },
      "source": [
        "##### **ikke-homogene vs. homogene**\n",
        "Når $A$ er ikke-homogent, kan det lineære system indeholde nul, én, eller uendelig mange løsninger. Men hvis $A$ er rektangulær og ikke-homogen, kan den ikke kun indeholde en unik løsning (der vil altid være en fri variabel).\n",
        " \n",
        " \n",
        "Når $A$ er homogen, indeholder det lineære system altid den trivielle løsning (nulvektoren). For at afgøre, om der er et løsningsrum, skal vi bruge Gauss eliminering for at se, om der er inkonsistente ligninger. Hvis ikke, kan vi udtrykke løsningsrummet i parametrisk form ved hjælp af den frie variabel."
      ]
    },
    {
      "cell_type": "markdown",
      "metadata": {
        "id": "AJrGutshykzZ"
      },
      "source": [
        "##### Afrunding\n",
        "I denne session så vi nogle lineære systemer, der ikke havde noget løsningssæt, havde et løsningssæt, der ikke var en vektor, og hvor $b$ er lig med $\\vec{0}$. Vi har nu et solidt fundament af lineær algebra, som vi kan bygge videre på for at få en yderligere forståelse for den bagvedliggende matematik der anvendes i mange cases. Dette gør vi igennem calculus, også kendt som infinitesimalregning, som vi kommer til at møde i næste session (efter peer-feedback opgaven).  "
      ]
    },
    {
      "cell_type": "markdown",
      "metadata": {
        "id": "TGC-k6_fyoO_"
      },
      "source": [
        "#### Del 4: Opsummering"
      ]
    },
    {
      "cell_type": "markdown",
      "metadata": {
        "id": "E7ZBjPfQzW9n"
      },
      "source": [
        "**Hovedkoncepter**\n",
        "* Et inkonsistent system har to eller flere ligninger, hvor ingen løsninger eksisterer, når den augmenterede matrix er i reduceret echelonform.\n",
        " * Eksempel på et inkonsistent system: $\\left[\\begin{matrix}8 & 4 \\\\ 4 & 2 \\\\\\end{matrix}\\left|\\,\\begin{matrix}5\\\\5\\\\ \\end{matrix}\\right.\\right]$\n",
        "\n",
        "* Når determinanten er lig med nul, siger man, at matricen er singulær, eller at den ikke indeholder nogen invers.\n",
        "  * Eksempel på en singulær matrix: $\\begin{bmatrix}8 & 4\\\\4 & 2\\end{bmatrix}$\n",
        "  * Formlen for determinanten af en 2x2 kvadratmatrix er: $det(A) = ad - bc$\n",
        "  * Hvis vi erstatter værdierne, får vi en determinant på nul: $det(A) = ad - bc = 8 * 2 - 4*4 = 16-16 = 0$\n",
        "* Et ikke-homogent system er et system, hvor konstantvektoren ($\\vec{b}$) ikke udelukkende indeholder nuller. \n",
        "  * Eksempel på et ikke-homogent system: $\\left[\\begin{matrix}8 & 4 \\\\ 4 & 2 \\\\\\end{matrix}\\left|\\,\\begin{matrix}5\\\\5\\\\ \\end{matrix}\\right.\\right]$\n",
        "* Et homogent system er et system, hvor konstantvektoren ($\\vec{b}$) er lig med nulvektoren.\n",
        "  * Eksempel på et homogent system: $\\left[\\begin{matrix}8 & 4 \\\\ 4 & 2 \\\\\\end{matrix}\\left|\\,\\begin{matrix}0\\\\0\\\\ \\end{matrix}\\right.\\right]$\n",
        "  * Et homogent system indeholder altid den trivielle løsning: nulvektoren.\n",
        "* For et ikke-homogent system, der indeholder det samme antal rækker og kolonner, er der 3 mulige løsninger: \n",
        " * Ingen løsning\n",
        " * Èn løsning\n",
        " * Uendelig mængde løsninger\n",
        "* For rektangulære (ikke-kvadratiske, ikke-homogene) systemer er der to mulige løsninger:\n",
        "  * Ingen løsning\n",
        "  * Uendelig mængde løsninger\n",
        "* Hvis $Ax = b$ er et lineært system, så er enhver vektor, $\\vec{x}$, der tilfredsstiller systemet, en løsningsvektor af det lineære system. Sættet med løsningsvektorer i systemet kaldes løsningsrummet for det lineære system. \n",
        "* Når løsningen er et løsningsrum (og ikke kun et unikt sæt værdier), er det normalt at omskrive det til parametrisk vektorform.\n",
        "  * Eksempel på en vektor i parametisk vektorform: $\\overrightarrow{x} = x_3 * \\begin{bmatrix}4/3\\\\0\\\\1\\\\\\end{bmatrix}$\n",
        "\n",
        "\n",
        "\n",
        "\n"
      ]
    }
  ]
}