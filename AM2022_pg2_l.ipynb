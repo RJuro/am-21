{
  "nbformat": 4,
  "nbformat_minor": 0,
  "metadata": {
    "colab": {
      "name": "AM2022_pg2_l.ipynb",
      "provenance": [],
      "authorship_tag": "ABX9TyMIy+Scwcy/CyFagUpshrUm",
      "include_colab_link": true
    },
    "kernelspec": {
      "name": "python3",
      "display_name": "Python 3"
    },
    "language_info": {
      "name": "python"
    }
  },
  "cells": [
    {
      "cell_type": "markdown",
      "metadata": {
        "id": "view-in-github",
        "colab_type": "text"
      },
      "source": [
        "<a href=\"https://colab.research.google.com/github/RJuro/am-21/blob/main/AM2022_pg2_l.ipynb\" target=\"_parent\"><img src=\"https://colab.research.google.com/assets/colab-badge.svg\" alt=\"Open In Colab\"/></a>"
      ]
    },
    {
      "cell_type": "markdown",
      "metadata": {
        "id": "yoIewCBrgStf"
      },
      "source": [
        "# Peer-feedback aflevering Anvendt Metematik - Calculus\n",
        "\n"
      ]
    },
    {
      "cell_type": "markdown",
      "metadata": {
        "id": "8GdNGHLbiX-B"
      },
      "source": [
        "# Opgave 1\n",
        "\n",
        "I denne del arbejder vi med funktionen $f(x) = 0.5x^3 + 5x^2 -37x + 89$"
      ]
    },
    {
      "cell_type": "code",
      "metadata": {
        "id": "XLH5llqNjPPj"
      },
      "source": [
        "# import af alle pakker, som der er brug for i opgaven\n",
        "\n",
        "import numpy as np\n",
        "import matplotlib.pyplot as plt\n",
        "from sympy import *"
      ],
      "execution_count": 1,
      "outputs": []
    },
    {
      "cell_type": "markdown",
      "metadata": {
        "id": "GEFBcUVtjeG5"
      },
      "source": [
        "### 1.1 - Plot funktionen \n",
        "\n",
        "- brug numpy og pyplot/matplotlib\n",
        "- plot for $-15 ≤ x ≤ 15$"
      ]
    },
    {
      "cell_type": "code",
      "metadata": {
        "colab": {
          "base_uri": "https://localhost:8080/",
          "height": 282
        },
        "id": "C-0wzG0xCRRO",
        "outputId": "866eab38-4eaa-427e-d5a9-b24381188022"
      },
      "source": [
        "# brug np.linspace til at generere 100 værdier og plot funktionen\n",
        "x = np.linspace(-15, 15, num=100)\n",
        "y = 0.5*x**3 + 5*x**2 -37*x + 89\n",
        "\n",
        "plt.plot(x,y)"
      ],
      "execution_count": 2,
      "outputs": [
        {
          "output_type": "execute_result",
          "data": {
            "text/plain": [
              "[<matplotlib.lines.Line2D at 0x7f17769c5290>]"
            ]
          },
          "metadata": {},
          "execution_count": 2
        },
        {
          "output_type": "display_data",
          "data": {
            "text/plain": [
              "<Figure size 432x288 with 1 Axes>"
            ],
            "image/png": "[encoded data removed]"
          },
          "metadata": {
            "needs_background": "light"
          }
        }
      ]
    },
    {
      "cell_type": "markdown",
      "metadata": {
        "id": "1MT9F7Q5j26l"
      },
      "source": [
        "### 1.2 - Find sekantlinjen \n",
        "\n",
        "- Beregn den lineære ligning $s = mx+b$ der beskriver sekanten i de to punkter $x_1 = -10$ og $x_2 = 0$\n",
        "- Du skal først finde $y_1, y_2$ og $m, b$\n",
        "- plot $f(x)$ og $s(x)$\n",
        "\n",
        "OBS: der bruges lidt afvigende variablebetegnelser (fra de matematiske udtryk) i koden.\n",
        "\n"
      ]
    },
    {
      "cell_type": "code",
      "metadata": {
        "colab": {
          "base_uri": "https://localhost:8080/",
          "height": 39
        },
        "id": "nxFlgnL8Wr-Q",
        "outputId": "4f46a916-728d-49c3-e015-5378fcce2d97"
      },
      "source": [
        "# definer symboler og funktionen (brug x0 i stedet for x)\n",
        "x0 = symbols('x0')\n",
        "\n",
        "f = 0.5*x0**3 + 5*x0**2 -37*x0 + 89\n",
        "f"
      ],
      "execution_count": 3,
      "outputs": [
        {
          "output_type": "execute_result",
          "data": {
            "text/plain": [
              "0.5*x0**3 + 5*x0**2 - 37*x0 + 89"
            ],
            "text/latex": "$\\displaystyle 0.5 x_{0}^{3} + 5 x_{0}^{2} - 37 x_{0} + 89$"
          },
          "metadata": {},
          "execution_count": 3
        }
      ]
    },
    {
      "cell_type": "code",
      "metadata": {
        "id": "o_6iBS12Wez2"
      },
      "source": [
        "# beregn y1 og y2 i SymPy\n",
        "x1 = -10\n",
        "x2 = 0\n",
        "\n",
        "y1 = f.subs(x0,x1)\n",
        "y2 = f.subs(x0,x2)"
      ],
      "execution_count": 4,
      "outputs": []
    },
    {
      "cell_type": "code",
      "metadata": {
        "colab": {
          "base_uri": "https://localhost:8080/"
        },
        "id": "dic3gYoeg4o7",
        "outputId": "c672cbf1-5e24-493e-9b76-06d79db36be8"
      },
      "source": [
        "print(y1)\n",
        "print(y2)"
      ],
      "execution_count": 5,
      "outputs": [
        {
          "output_type": "stream",
          "name": "stdout",
          "text": [
            "459.000000000000\n",
            "89\n"
          ]
        }
      ]
    },
    {
      "cell_type": "code",
      "metadata": {
        "id": "84jT0BZhW6M3"
      },
      "source": [
        "# beregn hældningen m\n",
        "m = (y2-y1)/(x2-x1)"
      ],
      "execution_count": 6,
      "outputs": []
    },
    {
      "cell_type": "code",
      "metadata": {
        "id": "QDPC8yJpXBNT"
      },
      "source": [
        "# beregn b ved at omskrive s = m*x + b\n",
        "\n",
        "b = y1 - m* x1"
      ],
      "execution_count": 7,
      "outputs": []
    },
    {
      "cell_type": "code",
      "metadata": {
        "colab": {
          "base_uri": "https://localhost:8080/",
          "height": 38
        },
        "id": "lxR6UQPMo2ek",
        "outputId": "9f3423cd-dfe1-4602-cfcb-0d1e918b5a61"
      },
      "source": [
        "b"
      ],
      "execution_count": 8,
      "outputs": [
        {
          "output_type": "execute_result",
          "data": {
            "text/plain": [
              "89.0000000000000"
            ],
            "text/latex": "$\\displaystyle 89.0$"
          },
          "metadata": {},
          "execution_count": 8
        }
      ]
    },
    {
      "cell_type": "code",
      "metadata": {
        "id": "B_lOlb_OXVvY"
      },
      "source": [
        "# beregn alle s-værdier ved at indsætte x-værdier som blev genereret med linspace\n",
        "s = m*x + b"
      ],
      "execution_count": 9,
      "outputs": []
    },
    {
      "cell_type": "code",
      "metadata": {
        "id": "zTPUx8wro03i",
        "colab": {
          "base_uri": "https://localhost:8080/"
        },
        "outputId": "939f6d5d-c96f-485d-b209-703675db8319"
      },
      "source": [
        "s"
      ],
      "execution_count": 10,
      "outputs": [
        {
          "output_type": "execute_result",
          "data": {
            "text/plain": [
              "array([644.000000000000, 632.787878787879, 621.575757575758,\n",
              "       610.363636363636, 599.151515151515, 587.939393939394,\n",
              "       576.727272727273, 565.515151515152, 554.303030303030,\n",
              "       543.090909090909, 531.878787878788, 520.666666666667,\n",
              "       509.454545454545, 498.242424242424, 487.030303030303,\n",
              "       475.818181818182, 464.606060606061, 453.393939393939,\n",
              "       442.181818181818, 430.969696969697, 419.757575757576,\n",
              "       408.545454545455, 397.333333333333, 386.121212121212,\n",
              "       374.909090909091, 363.696969696970, 352.484848484848,\n",
              "       341.272727272727, 330.060606060606, 318.848484848485,\n",
              "       307.636363636364, 296.424242424242, 285.212121212121,\n",
              "       274.000000000000, 262.787878787879, 251.575757575758,\n",
              "       240.363636363636, 229.151515151515, 217.939393939394,\n",
              "       206.727272727273, 195.515151515152, 184.303030303030,\n",
              "       173.090909090909, 161.878787878788, 150.666666666667,\n",
              "       139.454545454545, 128.242424242424, 117.030303030303,\n",
              "       105.818181818182, 94.6060606060606, 83.3939393939394,\n",
              "       72.1818181818182, 60.9696969696970, 49.7575757575757,\n",
              "       38.5454545454546, 27.3333333333333, 16.1212121212122,\n",
              "       4.90909090909088, -6.30303030303038, -17.5151515151515,\n",
              "       -28.7272727272728, -39.9393939393939, -51.1515151515152,\n",
              "       -62.3636363636363, -73.5757575757576, -84.7878787878789,\n",
              "       -96.0000000000000, -107.212121212121, -118.424242424242,\n",
              "       -129.636363636364, -140.848484848485, -152.060606060606,\n",
              "       -163.272727272727, -174.484848484848, -185.696969696970,\n",
              "       -196.909090909091, -208.121212121212, -219.333333333333,\n",
              "       -230.545454545455, -241.757575757576, -252.969696969697,\n",
              "       -264.181818181818, -275.393939393939, -286.606060606061,\n",
              "       -297.818181818182, -309.030303030303, -320.242424242424,\n",
              "       -331.454545454545, -342.666666666667, -353.878787878788,\n",
              "       -365.090909090909, -376.303030303030, -387.515151515152,\n",
              "       -398.727272727273, -409.939393939394, -421.151515151515,\n",
              "       -432.363636363636, -443.575757575758, -454.787878787879,\n",
              "       -466.000000000000], dtype=object)"
            ]
          },
          "metadata": {},
          "execution_count": 10
        }
      ]
    },
    {
      "cell_type": "code",
      "metadata": {
        "id": "FS6uzNf9viKk",
        "colab": {
          "base_uri": "https://localhost:8080/",
          "height": 282
        },
        "outputId": "830d17d5-3761-474f-cdc7-f855b4c84b24"
      },
      "source": [
        "# plot f(x) og s(x) som går gennem x1 og x2\n",
        "plt.plot(x,y)\n",
        "plt.plot(x,s)\n",
        "\n",
        "plt.plot([x1,x2],[y1,y2], 'o', c='red') #extra :-)"
      ],
      "execution_count": 11,
      "outputs": [
        {
          "output_type": "execute_result",
          "data": {
            "text/plain": [
              "[<matplotlib.lines.Line2D at 0x7f176c506590>]"
            ]
          },
          "metadata": {},
          "execution_count": 11
        },
        {
          "output_type": "display_data",
          "data": {
            "text/plain": [
              "<Figure size 432x288 with 1 Axes>"
            ],
            "image/png": "[encoded data removed]"
          },
          "metadata": {
            "needs_background": "light"
          }
        }
      ]
    },
    {
      "cell_type": "markdown",
      "metadata": {
        "id": "xaCAdaqdX1Eo"
      },
      "source": [
        "### 1.3 - Find tangentlinjen \n",
        "\n",
        "- Beregn den lineære ligning $t = mx+b$ der beskriver tangenten i $x_3 = -6$\n",
        "- Du skal først finde $y_3$\n",
        "- Brug **differenskvotienten** og beregn hældning i $x_3$ for $\\lim_{h\\to0}$\n",
        "- plot $f(x)$ og $t(x)$\n",
        "\n",
        "OBS: der bruges lidt afvigende variablebetegnelser (fra de matematiske udtryk) i koden.\n"
      ]
    },
    {
      "cell_type": "code",
      "metadata": {
        "id": "Ae5Cz0fDCga_"
      },
      "source": [
        "# beregn y3 ved at indsætte x3\n",
        "\n",
        "x3 = -6\n",
        "y3 = f.subs(x0, x3)"
      ],
      "execution_count": 12,
      "outputs": []
    },
    {
      "cell_type": "code",
      "metadata": {
        "id": "4glbqzMDYEvR"
      },
      "source": [
        "# definer h symbollet\n",
        "h = symbols('h')"
      ],
      "execution_count": 13,
      "outputs": []
    },
    {
      "cell_type": "code",
      "metadata": {
        "id": "qQV6fH2pY0NO"
      },
      "source": [
        "# definer f(x+h) ved at erstatte x0 for x0+h i f(x)\n",
        "fh = f.subs(x0, x0+h)"
      ],
      "execution_count": 14,
      "outputs": []
    },
    {
      "cell_type": "code",
      "metadata": {
        "colab": {
          "base_uri": "https://localhost:8080/",
          "height": 40
        },
        "id": "YJh9WB_Wanab",
        "outputId": "e9a7720a-1334-4f15-972f-406a81c5be2f"
      },
      "source": [
        "fh"
      ],
      "execution_count": 15,
      "outputs": [
        {
          "output_type": "execute_result",
          "data": {
            "text/plain": [
              "-37*h - 37*x0 + 0.5*(h + x0)**3 + 5*(h + x0)**2 + 89"
            ],
            "text/latex": "$\\displaystyle - 37 h - 37 x_{0} + 0.5 \\left(h + x_{0}\\right)^{3} + 5 \\left(h + x_{0}\\right)^{2} + 89$"
          },
          "metadata": {},
          "execution_count": 15
        }
      ]
    },
    {
      "cell_type": "code",
      "metadata": {
        "id": "hgY4frxGY7zd"
      },
      "source": [
        "# definer ligninen for hældning af tangenten mt\n",
        "# udskriv mt og kontroler\n",
        "mt = (fh-f)/h"
      ],
      "execution_count": 16,
      "outputs": []
    },
    {
      "cell_type": "code",
      "metadata": {
        "colab": {
          "base_uri": "https://localhost:8080/",
          "height": 56
        },
        "id": "6HNrSu8kY1ZH",
        "outputId": "18fa9314-dd95-4b91-e4a3-0e8c6f14b7ca"
      },
      "source": [
        "mt"
      ],
      "execution_count": 17,
      "outputs": [
        {
          "output_type": "execute_result",
          "data": {
            "text/plain": [
              "(-37*h - 0.5*x0**3 - 5*x0**2 + 0.5*(h + x0)**3 + 5*(h + x0)**2)/h"
            ],
            "text/latex": "$\\displaystyle \\frac{- 37 h - 0.5 x_{0}^{3} - 5 x_{0}^{2} + 0.5 \\left(h + x_{0}\\right)^{3} + 5 \\left(h + x_{0}\\right)^{2}}{h}$"
          },
          "metadata": {},
          "execution_count": 17
        }
      ]
    },
    {
      "cell_type": "code",
      "metadata": {
        "id": "3tXALDuAZDhP"
      },
      "source": [
        "# beregn hældningen m3 i x3 ved at regne grænseværdien for h -> 0 og indsætte x3\n",
        "m3 = mt.limit(h, 0).subs(x0, x3)"
      ],
      "execution_count": 18,
      "outputs": []
    },
    {
      "cell_type": "code",
      "metadata": {
        "id": "P8_6suLLZq-2"
      },
      "source": [
        "# beregn b3 ved at omkskrive t = m3 * x + b3\n",
        "\n",
        "b3 = y3 - m3 * x3"
      ],
      "execution_count": 19,
      "outputs": []
    },
    {
      "cell_type": "code",
      "metadata": {
        "id": "Fp9rvcDdaE-O"
      },
      "source": [
        "# beregn alle t-værdier ved at indsætte x-værdier som blev genereret med linspace\n",
        "t = m3*x + b3"
      ],
      "execution_count": 20,
      "outputs": []
    },
    {
      "cell_type": "code",
      "metadata": {
        "id": "hbxpvlVKxy9N",
        "colab": {
          "base_uri": "https://localhost:8080/",
          "height": 282
        },
        "outputId": "84611398-4023-4374-a3ad-db8898f4abdb"
      },
      "source": [
        "# plot f(x) og t(x) i x3\n",
        "plt.plot(x,y)\n",
        "plt.plot(x,t)\n",
        "\n",
        "plt.plot(x3,y3,'o', c='red')"
      ],
      "execution_count": 21,
      "outputs": [
        {
          "output_type": "execute_result",
          "data": {
            "text/plain": [
              "[<matplotlib.lines.Line2D at 0x7f176c42d7d0>]"
            ]
          },
          "metadata": {},
          "execution_count": 21
        },
        {
          "output_type": "display_data",
          "data": {
            "text/plain": [
              "<Figure size 432x288 with 1 Axes>"
            ],
            "image/png": "[encoded data removed]"
          },
          "metadata": {
            "needs_background": "light"
          }
        }
      ]
    },
    {
      "cell_type": "markdown",
      "metadata": {
        "id": "0a2iHGStn2a0"
      },
      "source": [
        "### 1.4 - Find ekstrempunkter\n",
        "\n",
        "- Brug SymPy og differentering til at finde maximum og minimum i $f(x)$\n",
        "- Brug først `factor()` funktionen, som kan hjælpe med at finde ekstrempunkter \"manuelt\"\n",
        "- Vis derefter, hvordan man kan finde punkterne \"automatisk\"\n",
        "- Lav manuel test for min/max ved at se på ændinger i fortegn"
      ]
    },
    {
      "cell_type": "code",
      "metadata": {
        "colab": {
          "base_uri": "https://localhost:8080/",
          "height": 39
        },
        "id": "y0iEcYGYbY0F",
        "outputId": "0465c570-e6c5-449c-c7b4-d42ce1d52eb6"
      },
      "source": [
        "# find den afledede funktion fd (sympy) og udskriv\n",
        "fd = f.diff()\n",
        "fd"
      ],
      "execution_count": 22,
      "outputs": [
        {
          "output_type": "execute_result",
          "data": {
            "text/plain": [
              "1.5*x0**2 + 10*x0 - 37"
            ],
            "text/latex": "$\\displaystyle 1.5 x_{0}^{2} + 10 x_{0} - 37$"
          },
          "metadata": {},
          "execution_count": 22
        }
      ]
    },
    {
      "cell_type": "code",
      "metadata": {
        "colab": {
          "base_uri": "https://localhost:8080/",
          "height": 39
        },
        "id": "5bagRSwmbGO6",
        "outputId": "552608b5-73cb-4d6e-a972-30a95baea560"
      },
      "source": [
        "# brug factor() funktionen til at faktorisere den afledede funktion; se, om du kan find\n",
        "# de 2 ekstrempunkter uden videre beregning\n",
        "fd.factor()"
      ],
      "execution_count": 23,
      "outputs": [
        {
          "output_type": "execute_result",
          "data": {
            "text/plain": [
              "37.0*(0.0405405405405405*x0**2 + 0.27027027027027*x0 - 1.0)"
            ],
            "text/latex": "$\\displaystyle 37.0 \\left(0.0405405405405405 x_{0}^{2} + 0.27027027027027 x_{0} - 1.0\\right)$"
          },
          "metadata": {},
          "execution_count": 23
        }
      ]
    },
    {
      "cell_type": "code",
      "metadata": {
        "colab": {
          "base_uri": "https://localhost:8080/",
          "height": 38
        },
        "id": "ob1jvXLTCxsc",
        "outputId": "b00d51a9-ae51-4fdf-ee38-f8b38a9ed854"
      },
      "source": [
        "# brug sympy til at finde de 2 ekstrempunkter\n",
        "solveset(fd, x0)"
      ],
      "execution_count": 24,
      "outputs": [
        {
          "output_type": "execute_result",
          "data": {
            "text/plain": [
              "FiniteSet(-9.31478614830879, 2.64811948164212)"
            ],
            "text/latex": "$\\displaystyle \\left\\{-9.31478614830879, 2.64811948164212\\right\\}$"
          },
          "metadata": {},
          "execution_count": 24
        }
      ]
    },
    {
      "cell_type": "code",
      "metadata": {
        "id": "Y2h6BZzlDWZv"
      },
      "source": [
        "# generer værdier som kan bruges for at undersøge ændringer af fortegn\n",
        "sign_chart = [-12,-9.3,0,2.6,4]"
      ],
      "execution_count": 27,
      "outputs": []
    },
    {
      "cell_type": "code",
      "metadata": {
        "colab": {
          "base_uri": "https://localhost:8080/"
        },
        "id": "DeKB8eWPE0s3",
        "outputId": "fc49d96a-1559-4c38-9e5c-4f20ec2658ac"
      },
      "source": [
        "# beregn hældningsværdier (list-comprehension)\n",
        "[fd.subs(x0,i) for i in sign_chart]"
      ],
      "execution_count": 28,
      "outputs": [
        {
          "output_type": "execute_result",
          "data": {
            "text/plain": [
              "[59.0000000000000,\n",
              " -0.264999999999986,\n",
              " -37,\n",
              " -0.859999999999999,\n",
              " 27.0000000000000]"
            ]
          },
          "metadata": {},
          "execution_count": 28
        }
      ]
    },
    {
      "cell_type": "markdown",
      "source": [
        "-9.315 er maximum; 2.65 er minimum"
      ],
      "metadata": {
        "id": "KKprrQ4PFZvm"
      }
    }
  ]
}