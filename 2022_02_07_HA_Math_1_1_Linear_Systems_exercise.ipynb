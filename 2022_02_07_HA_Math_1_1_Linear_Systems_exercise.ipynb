{
  "nbformat": 4,
  "nbformat_minor": 0,
  "metadata": {
    "colab": {
      "name": "HA_Math_1.1_Linear Systems_exercise",
      "provenance": [],
      "authorship_tag": "ABX9TyNryDGLWGmEF1GLiDeOsc3P",
      "include_colab_link": true
    },
    "kernelspec": {
      "name": "python3",
      "display_name": "Python 3"
    },
    "language_info": {
      "name": "python"
    }
  },
  "cells": [
    {
      "cell_type": "markdown",
      "metadata": {
        "id": "view-in-github",
        "colab_type": "text"
      },
      "source": [
        "<a href=\"https://colab.research.google.com/github/RJuro/am-21/blob/main/HA_Math_1_1_Linear_Systems_exercise.ipynb\" target=\"_parent\"><img src=\"https://colab.research.google.com/assets/colab-badge.svg\" alt=\"Open In Colab\"/></a>"
      ]
    },
    {
      "cell_type": "markdown",
      "source": [
        "$\\begin{align*}x - 7y & =  - 11\\\\ 5x + 2y & =  - 18\\end{align*}\n",
        "$"
      ],
      "metadata": {
        "id": "AcjRbXuwZ05P"
      }
    },
    {
      "cell_type": "markdown",
      "source": [
        "grafisk løsning"
      ],
      "metadata": {
        "id": "vkl_GseBaAF2"
      }
    },
    {
      "cell_type": "code",
      "execution_count": 35,
      "metadata": {
        "id": "rdiOfE9wZuvJ"
      },
      "outputs": [],
      "source": [
        "# Importer NumPy som np og Matplotlib.pyplot som plt\n",
        "import numpy as np\n",
        "np.set_printoptions(suppress=True)\n",
        "\n",
        "import matplotlib.pyplot as plt"
      ]
    },
    {
      "cell_type": "code",
      "source": [
        "x = np.linspace(-5, 0, num=100)"
      ],
      "metadata": {
        "id": "kWHAYGodaFCq"
      },
      "execution_count": 41,
      "outputs": []
    },
    {
      "cell_type": "code",
      "source": [
        "y1 = (-11-x) / -7"
      ],
      "metadata": {
        "id": "pHp8yG5MaLMF"
      },
      "execution_count": 42,
      "outputs": []
    },
    {
      "cell_type": "code",
      "source": [
        "y2 = (-18-5*x)/2"
      ],
      "metadata": {
        "id": "Ed069Tywaxjr"
      },
      "execution_count": 43,
      "outputs": []
    },
    {
      "cell_type": "code",
      "source": [
        "plt.plot(x, y1, color = \"orange\")\n",
        "plt.plot(x, y2, color = 'blue')"
      ],
      "metadata": {
        "colab": {
          "base_uri": "https://localhost:8080/",
          "height": 285
        },
        "id": "BOPfRhIga3Jv",
        "outputId": "af6c8b5a-826e-4909-e61e-1c802d5ca986"
      },
      "execution_count": 44,
      "outputs": [
        {
          "output_type": "execute_result",
          "data": {
            "text/plain": [
              "[<matplotlib.lines.Line2D at 0x7fe3ccfa3350>]"
            ]
          },
          "metadata": {},
          "execution_count": 44
        },
        {
          "output_type": "display_data",
          "data": {
            "image/png": "[encoded data removed]",
            "text/plain": [
              "<Figure size 432x288 with 1 Axes>"
            ]
          },
          "metadata": {
            "needs_background": "light"
          }
        }
      ]
    },
    {
      "cell_type": "markdown",
      "source": [
        "Rækkeoperationer"
      ],
      "metadata": {
        "id": "H3Nh8sSrdvPs"
      }
    },
    {
      "cell_type": "code",
      "source": [
        "matrix = np.array([[1,    -7, -11], [5, 2, -18]], , dtype = np.float32)"
      ],
      "metadata": {
        "id": "XOUb9B6scGU7"
      },
      "execution_count": 45,
      "outputs": []
    },
    {
      "cell_type": "code",
      "source": [
        "matrix"
      ],
      "metadata": {
        "colab": {
          "base_uri": "https://localhost:8080/"
        },
        "id": "BgYrItsycgPP",
        "outputId": "8ddec6c9-b9f2-47cf-b829-54377917ff32"
      },
      "execution_count": 52,
      "outputs": [
        {
          "output_type": "execute_result",
          "data": {
            "text/plain": [
              "array([[ 1,  0, -4],\n",
              "       [ 0,  1,  1]])"
            ]
          },
          "metadata": {},
          "execution_count": 52
        }
      ]
    },
    {
      "cell_type": "code",
      "source": [
        "matrix[1] = matrix[1] - 5*matrix[0]"
      ],
      "metadata": {
        "id": "o5eQuHuBchyY"
      },
      "execution_count": 47,
      "outputs": []
    },
    {
      "cell_type": "code",
      "source": [
        "matrix[1] = matrix[1] * (1/matrix[1,1])"
      ],
      "metadata": {
        "id": "mz_acOV6cqIb"
      },
      "execution_count": 49,
      "outputs": []
    },
    {
      "cell_type": "code",
      "source": [
        "matrix[0] = matrix[0] - matrix[0,1] * matrix[1]"
      ],
      "metadata": {
        "id": "sLNBPQiQcrUt"
      },
      "execution_count": 51,
      "outputs": []
    },
    {
      "cell_type": "markdown",
      "source": [
        "Sympy"
      ],
      "metadata": {
        "id": "5oEuyeI-dtjn"
      }
    },
    {
      "cell_type": "code",
      "source": [
        "# vi kan bruge SymPy til at tjekke vores beregninger\n",
        "\n",
        "from sympy import * #importer alt fra Sympy\n",
        "from sympy.solvers.solveset import linsolve #importer linalg solver\n",
        "\n",
        "x, y = symbols('x, y') #definer vores symboler\n",
        "\n",
        "linsolve(Matrix(([1,    -7, -11], [5, 2, -18])), (x, y)) #definer matrix og hvad der skal løses"
      ],
      "metadata": {
        "colab": {
          "base_uri": "https://localhost:8080/",
          "height": 37
        },
        "id": "p30Qb4KDa8Ar",
        "outputId": "45b8d064-c87b-4ae4-f8d6-1e2925f7fbe5"
      },
      "execution_count": 53,
      "outputs": [
        {
          "output_type": "execute_result",
          "data": {
            "text/latex": "$\\displaystyle \\left\\{\\left( -4, \\  1\\right)\\right\\}$",
            "text/plain": [
              "FiniteSet((-4, 1))"
            ]
          },
          "metadata": {},
          "execution_count": 53
        }
      ]
    },
    {
      "cell_type": "markdown",
      "source": [
        "$\\begin{align*}2x + 3y & = 20\\\\ 7x + 2y & = 53\\end{align*}\n",
        "$"
      ],
      "metadata": {
        "id": "xWZuk4S-jSfc"
      }
    },
    {
      "cell_type": "code",
      "source": [
        "x = np.linspace(6, 8, num=100)"
      ],
      "metadata": {
        "id": "McYotUCIkAOh"
      },
      "execution_count": 92,
      "outputs": []
    },
    {
      "cell_type": "code",
      "source": [
        "y1 = (20-2*x) / 3\n",
        "y2 = (53-7*x) / 2"
      ],
      "metadata": {
        "id": "0i_2omp8kU2I"
      },
      "execution_count": 93,
      "outputs": []
    },
    {
      "cell_type": "code",
      "source": [
        "plt.plot(x, y1, color = \"orange\")\n",
        "plt.plot(x, y2, color = 'blue')"
      ],
      "metadata": {
        "colab": {
          "base_uri": "https://localhost:8080/",
          "height": 283
        },
        "id": "dIwTS6Zykiro",
        "outputId": "b74733cc-9085-4e51-bf06-3586faa430e8"
      },
      "execution_count": 94,
      "outputs": [
        {
          "output_type": "execute_result",
          "data": {
            "text/plain": [
              "[<matplotlib.lines.Line2D at 0x7fe3ccc3fd50>]"
            ]
          },
          "metadata": {},
          "execution_count": 94
        },
        {
          "output_type": "display_data",
          "data": {
            "image/png": "[encoded data removed]",
            "text/plain": [
              "<Figure size 432x288 with 1 Axes>"
            ]
          },
          "metadata": {
            "needs_background": "light"
          }
        }
      ]
    },
    {
      "cell_type": "code",
      "source": [
        "x, y = symbols('x, y') #definer vores symboler\n",
        "\n",
        "linsolve(Matrix(([2, 3, 20], [7, 2, 53])), (x, y)) #definer matrix og hvad der skal løses"
      ],
      "metadata": {
        "colab": {
          "base_uri": "https://localhost:8080/",
          "height": 37
        },
        "id": "wDL6xBVbklIU",
        "outputId": "9315bedc-390e-44ba-886b-cb8bd2705457"
      },
      "execution_count": 95,
      "outputs": [
        {
          "output_type": "execute_result",
          "data": {
            "text/latex": "$\\displaystyle \\left\\{\\left( 7, \\  2\\right)\\right\\}$",
            "text/plain": [
              "FiniteSet((7, 2))"
            ]
          },
          "metadata": {},
          "execution_count": 95
        }
      ]
    },
    {
      "cell_type": "code",
      "source": [
        "matrix = np.array([[2,    3, 20], [7, 2, 53]], dtype = np.float32)"
      ],
      "metadata": {
        "id": "woLurvoPk8AR"
      },
      "execution_count": 96,
      "outputs": []
    },
    {
      "cell_type": "code",
      "source": [
        "matrix"
      ],
      "metadata": {
        "colab": {
          "base_uri": "https://localhost:8080/"
        },
        "id": "msvIG8C5lNpB",
        "outputId": "82be8c71-946d-4b23-f075-8d670513df4b"
      },
      "execution_count": 103,
      "outputs": [
        {
          "output_type": "execute_result",
          "data": {
            "text/plain": [
              "array([[ 1. ,  1.5, 10. ],\n",
              "       [-0. ,  1. ,  2. ]], dtype=float32)"
            ]
          },
          "metadata": {},
          "execution_count": 103
        }
      ]
    },
    {
      "cell_type": "code",
      "source": [
        "matrix[0] = matrix[0] / matrix[0,0]"
      ],
      "metadata": {
        "id": "9LQRqQu7lOSE"
      },
      "execution_count": 98,
      "outputs": []
    },
    {
      "cell_type": "code",
      "source": [
        "matrix[1] = matrix[1] - matrix[1,0]*matrix[0]"
      ],
      "metadata": {
        "id": "p9MiLmh5lUMC"
      },
      "execution_count": 100,
      "outputs": []
    },
    {
      "cell_type": "code",
      "source": [
        "matrix[1] = matrix[1] * (1/matrix[1,1])"
      ],
      "metadata": {
        "id": "tzhrHefSlX3i"
      },
      "execution_count": 102,
      "outputs": []
    },
    {
      "cell_type": "code",
      "source": [
        "matrix[0] = matrix[0] - matrix[0,1] * matrix[1]"
      ],
      "metadata": {
        "id": "0E5PEX81l4sr"
      },
      "execution_count": 104,
      "outputs": []
    },
    {
      "cell_type": "code",
      "source": [
        "matrix"
      ],
      "metadata": {
        "colab": {
          "base_uri": "https://localhost:8080/"
        },
        "id": "nYCi2ck0l6e-",
        "outputId": "861e0366-4f6b-41e3-b079-85eb092603dc"
      },
      "execution_count": 105,
      "outputs": [
        {
          "output_type": "execute_result",
          "data": {
            "text/plain": [
              "array([[ 1.,  0.,  7.],\n",
              "       [-0.,  1.,  2.]], dtype=float32)"
            ]
          },
          "metadata": {},
          "execution_count": 105
        }
      ]
    }
  ]
}