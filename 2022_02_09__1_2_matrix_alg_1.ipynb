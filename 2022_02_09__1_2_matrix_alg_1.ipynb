{
  "nbformat": 4,
  "nbformat_minor": 0,
  "metadata": {
    "colab": {
      "name": "HA_Math_1.2_Vektor",
      "provenance": [],
      "authorship_tag": "ABX9TyPS1vQdOOZ2VNk3xWFzSxLw",
      "include_colab_link": true
    },
    "kernelspec": {
      "name": "python3",
      "display_name": "Python 3"
    },
    "language_info": {
      "name": "python"
    }
  },
  "cells": [
    {
      "cell_type": "markdown",
      "metadata": {
        "id": "view-in-github",
        "colab_type": "text"
      },
      "source": [
        "<a href=\"https://colab.research.google.com/github/RJuro/am-21/blob/main/2022_02_09__1_2_matrix_alg_1.ipynb\" target=\"_parent\"><img src=\"https://colab.research.google.com/assets/colab-badge.svg\" alt=\"Open In Colab\"/></a>"
      ]
    },
    {
      "cell_type": "markdown",
      "metadata": {
        "id": "deVRlqtRgcUa"
      },
      "source": [
        "# Vektorer\n",
        "\n",
        "Sidste gang så vi, hvordan man bruger en **augnented matrix** og rækkeoperationer, der bevarer forholdene i et system til at løse et system med lineære funktioner. \n",
        "\n",
        "En matrix er i sidste ende en måde at repræsentere en tabel med tal. Alle matricer, vi arbejdede med sidste gang, havde 2 rækker og 3 kolonner. Her er den første, der opsætter vores lineære system\n",
        "\n",
        "$$\n",
        "\\left[\n",
        "  \\begin{matrix}\n",
        "    300 & -1 \\\\\n",
        "    400 & -1 \\\\\n",
        "  \\end{matrix}\n",
        "  \\left|\n",
        "    \\,\n",
        "    \\begin{matrix}\n",
        "      -2500  \\\\\n",
        "      -500  \\\\\n",
        "    \\end{matrix}\n",
        "  \\right.\n",
        "\\right]\n",
        "$$\n",
        "\n",
        "Det er en $2x3$ matrix og per konvention er det først rækker og så kolonner som vi tæller - det afspejler sig også i den måde vi tilgå en matrix via NumPy eller tabeller i Pandas.\n",
        "\n",
        "\n",
        "Hver af vore rækker og kolonner i denne matrix er repræsenteret som en **liste** af tal. En liste med tal er kendt som en **vektor**. En række fra en matrix er kendt som en rækkevektor, mens en søjle er kendt som en søjlevektor. Her er rækkevektorerne:\n",
        "\n",
        "\n",
        "  \\begin{bmatrix}\n",
        "    300 & -1 & -2500\\\\\n",
        "  \\end{bmatrix}\n",
        "\n",
        "\\\\\n",
        "\n",
        "  \\begin{bmatrix}\n",
        "    400 & -1 & -500\\\\\n",
        "  \\end{bmatrix}\n",
        "\n",
        "Og her er vores søjlevektor:\n",
        "\n",
        "\\begin{bmatrix}\n",
        "300\\\\ \n",
        "400\\\\ \n",
        "\\end{bmatrix}\n",
        "\n",
        "\\begin{bmatrix}\n",
        "-1\\\\ \n",
        "-1\\\\ \n",
        "\\end{bmatrix}\n",
        "\n",
        "\\begin{bmatrix}\n",
        "-2500\\\\ \n",
        "-500\\\\ \n",
        "\\end{bmatrix}\n",
        "\n",
        "I dette afsnitt lærer vi mere om søjlevektor og hvad man kan \"gøre med dem\" hvilket burde hjælpe os med at forstå visse egenskaber af lineære systemer.\n",
        "\n",
        "Vi afslutter med at underbygge den tilgang, vi brugte i sidste gang for at løse det lineære system ved at kombinere nøgleideer omkring matricer og vektorer.\n",
        "\n",
        "Vi starter med at opbygge en geometrisk intuition af vektorer. Generelt henviser ordet vektor til søjlevektoren (som en ordnet liste over elementer i en enkelt kolonne), og vi vil henvise til søjlevektoren på den måde gennem resten af ​​dette kursus."
      ]
    },
    {
      "cell_type": "markdown",
      "metadata": {
        "id": "3nIy4-WVkILS"
      },
      "source": [
        "\n",
        "Når en vektor indeholder 2 eller 3 elementer, kan vi nemt visualisere den i et 2D koordinatsysem. \n",
        "\n",
        "Typisk visualiseres en vektor i et koordinatsystem ved hjælp af pile og ikke med koordinater (punkter). For en vektor, der indeholder to elementer, beskriver den første værdi $x$ mens den anden beskriver $y$. Vektorer tegnes normalt fra begyndelsespunktet eller origo $(0,0)$ til det punkt, der er beskrevet af vektoren:\n",
        "\n",
        "\\begin{bmatrix}\n",
        "3\\\\ \n",
        "4\\\\ \n",
        "\\end{bmatrix}\n",
        "\n",
        "\\begin{bmatrix}\n",
        "-1\\\\ \n",
        "-1\\\\ \n",
        "\\end{bmatrix}\n",
        "\n",
        "\\begin{bmatrix}\n",
        "-4\\\\ \n",
        "7\\\\ \n",
        "\\end{bmatrix}"
      ]
    },
    {
      "cell_type": "code",
      "metadata": {
        "id": "baphO34glD4B"
      },
      "source": [
        "# pakker\n",
        "\n",
        "import matplotlib.pyplot as plt\n",
        "import numpy as np"
      ],
      "execution_count": null,
      "outputs": []
    },
    {
      "cell_type": "code",
      "metadata": {
        "id": "4Dm4ZsE-eeMX"
      },
      "source": [
        "# koordinatsysem\n",
        "\n",
        "plt.axhline(0, c='black', lw=0.5)\n",
        "plt.axvline(0, c='black', lw=0.5)\n",
        "plt.xlim(-5,7)\n",
        "plt.ylim(-4,8)\n",
        "\n",
        "# vektorer\n",
        "\n",
        "plt.quiver(0, 0, 3, 4, angles='xy', scale_units='xy', scale=1, color='blue')\n",
        "plt.quiver(0, 0, -1, -1, angles='xy', scale_units='xy', scale=1, color='red')\n",
        "plt.quiver(0, 0, -4, 7, angles='xy', scale_units='xy', scale=1, color='gold')\n"
      ],
      "execution_count": null,
      "outputs": []
    },
    {
      "cell_type": "markdown",
      "metadata": {
        "id": "W0ZA-4pumAWq"
      },
      "source": [
        "Pile bruges til at visualisere individuelle vektorer, fordi de understreger de to nøgleegenskaber for en vektor - **retning** og **længde**. \n",
        "Retningen af ​​en vektor beskriver hvilken vej den peger og længden burde være selv-forklarende. \n",
        "\n",
        "I de følgende visualiseringer finder du eksempler på 2 vektorer med samme retning, men forskellig størrelse og 2 eksempler på vektorer med samme størrelse, men forskellige retninger."
      ]
    },
    {
      "cell_type": "code",
      "metadata": {
        "id": "fMm-3Y-DlB-i"
      },
      "source": [
        "plt.axhline(0, c='black', lw=0.5)\n",
        "plt.axvline(0, c='black', lw=0.5)\n",
        "plt.xlim(-5,5)\n",
        "plt.ylim(-5,5)\n",
        "\n",
        "plt.quiver(0, 0, 3, 3, angles='xy', scale_units='xy', scale=1, color='blue')"
      ],
      "execution_count": null,
      "outputs": []
    },
    {
      "cell_type": "code",
      "metadata": {
        "id": "tpRdVLBfnAbo"
      },
      "source": [
        "plt.axhline(0, c='black', lw=0.5)\n",
        "plt.axvline(0, c='black', lw=0.5)\n",
        "plt.xlim(-5,5)\n",
        "plt.ylim(-5,5)\n",
        "\n",
        "plt.quiver(0, 0, 2, 2, angles='xy', scale_units='xy', scale=1, color='red')"
      ],
      "execution_count": null,
      "outputs": []
    },
    {
      "cell_type": "code",
      "metadata": {
        "id": "8wnADIFAnSKg"
      },
      "source": [
        "plt.axhline(0, c='black', lw=0.5)\n",
        "plt.axvline(0, c='black', lw=0.5)\n",
        "plt.xlim(-5,5)\n",
        "plt.ylim(-5,5)\n",
        "\n",
        "plt.quiver(0, 0, 2, 2, angles='xy', scale_units='xy', scale=1, color='blue')"
      ],
      "execution_count": null,
      "outputs": []
    },
    {
      "cell_type": "code",
      "metadata": {
        "id": "RX97BsHQnVTc"
      },
      "source": [
        "plt.axhline(0, c='black', lw=0.5)\n",
        "plt.axvline(0, c='black', lw=0.5)\n",
        "plt.xlim(-5,5)\n",
        "plt.ylim(-5,5)\n",
        "\n",
        "plt.quiver(0, 0, -2, -2, angles='xy', scale_units='xy', scale=1, color='red')"
      ],
      "execution_count": null,
      "outputs": []
    },
    {
      "cell_type": "markdown",
      "metadata": {
        "id": "PkAKr3TpnycS"
      },
      "source": [
        "Som du kan se i koden, kan vi visualisere vektorer med `plt.quiver()`\n",
        "Her bruger vi for nu altid `angles='xy', scale_units='xy', scale=1` som parameter her, \n",
        "Vi kan bruge `color='red'` til at sætte en farve..."
      ]
    },
    {
      "cell_type": "markdown",
      "metadata": {
        "id": "W2kUdrmaoMVh"
      },
      "source": [
        "Øvelse: Prøv at visualisere - husk at tilpasse koordinatsystemet\n",
        "\n",
        "\\begin{bmatrix}\n",
        "6\\\\ \n",
        "2\\\\ \n",
        "\\end{bmatrix}\n",
        "\n",
        "\\begin{bmatrix}\n",
        "-3\\\\ \n",
        "-1\\\\ \n",
        "\\end{bmatrix}\n",
        "\n",
        "\\begin{bmatrix}\n",
        "-4\\\\ \n",
        "10\\\\ \n",
        "\\end{bmatrix}"
      ]
    },
    {
      "cell_type": "markdown",
      "metadata": {
        "id": "4e3MAHcQo1Qy"
      },
      "source": [
        "**addition**\n",
        "\n",
        "Ligesom rækker i en matrix kan vektorer lægges sammen og trækkes fra. Når vi adderer eller substraherer vektorer, tilføjes eller trækkes elementer i samme position, og der dannes en ny vektor. Her er et eksempel på, hvor to vektorer adderes:\n",
        "\n",
        "$$\n",
        "\\begin{bmatrix}\n",
        "5\\\\ \n",
        "1\n",
        "\\end{bmatrix} + \\begin{bmatrix}\n",
        "1\\\\ \n",
        "3\n",
        "\\end{bmatrix} = \n",
        "\\begin{bmatrix}\n",
        "6\\\\ \n",
        "4\n",
        "\\end{bmatrix}\n",
        "$$\n",
        "\n",
        "\n",
        "\\\\\n",
        "For at visualisere vektoraddition er skal man \"forbinde\" vektorerne  i stedet for at visualisere alle vektorerne fra $(0,0)$. "
      ]
    },
    {
      "cell_type": "code",
      "metadata": {
        "id": "jvpD4L54np2S"
      },
      "source": [
        "plt.axhline(0, c='black', lw=0.5)\n",
        "plt.axvline(0, c='black', lw=0.5)\n",
        "plt.xlim(0,7)\n",
        "plt.ylim(0,5)\n",
        "\n",
        "plt.quiver(0, 0, 5, 1, angles='xy', scale_units='xy', scale=1, color='blue')\n",
        "plt.quiver(5, 1, 1, 3, angles='xy', scale_units='xy', scale=1, color='blue')"
      ],
      "execution_count": null,
      "outputs": []
    },
    {
      "cell_type": "markdown",
      "metadata": {
        "id": "3Omp_mxJtfgN"
      },
      "source": [
        "som man kan se, starter vektor 1 i $(0,0)$ mens vektor to starter i $(5,1)$ hvor vektor 1 ender."
      ]
    },
    {
      "cell_type": "code",
      "metadata": {
        "id": "bHyMIfWGspP3"
      },
      "source": [
        "plt.axhline(0, c='black', lw=0.5)\n",
        "plt.axvline(0, c='black', lw=0.5)\n",
        "plt.xlim(0,7)\n",
        "plt.ylim(0,5)\n",
        "\n",
        "plt.quiver(0, 0, 5, 1, angles='xy', scale_units='xy', scale=1, color='blue')\n",
        "plt.quiver(5, 1, 1, 3, angles='xy', scale_units='xy', scale=1, color='blue')\n",
        "plt.quiver(0, 0, 6, 4, angles='xy', scale_units='xy', scale=1, color='red')\n"
      ],
      "execution_count": null,
      "outputs": []
    },
    {
      "cell_type": "markdown",
      "metadata": {
        "id": "iUz6-B9LuA5J"
      },
      "source": [
        "Det samme (bare omvendt) med at substrahere vektorer:\n",
        "\n",
        "\n",
        "$$\n",
        "\\begin{bmatrix}\n",
        "5\\\\ \n",
        "1\n",
        "\\end{bmatrix} - \\begin{bmatrix}\n",
        "1\\\\ \n",
        "3\n",
        "\\end{bmatrix} = \n",
        "\\begin{bmatrix}\n",
        "4\\\\ \n",
        "-2\n",
        "\\end{bmatrix}\n",
        "$$"
      ]
    },
    {
      "cell_type": "code",
      "metadata": {
        "id": "fgcesF41tUS9"
      },
      "source": [
        "plt.axhline(0, c='black', lw=0.5)\n",
        "plt.axvline(0, c='black', lw=0.5)\n",
        "plt.xlim(-3,7)\n",
        "plt.ylim(-3,3)\n",
        "\n",
        "plt.quiver(0, 0, 5, 1, angles='xy', scale_units='xy', scale=1, color='blue')\n",
        "plt.quiver(5, 1, -1, -3, angles='xy', scale_units='xy', scale=1, color='blue')\n",
        "plt.quiver(0, 0, 4, -2, angles='xy', scale_units='xy', scale=1, color='red')\n"
      ],
      "execution_count": null,
      "outputs": []
    },
    {
      "cell_type": "markdown",
      "metadata": {
        "id": "jLOsprHSuq8g"
      },
      "source": [
        "Øvelse: Visualiser\n",
        "\n",
        "$$\n",
        "\\begin{bmatrix}\n",
        "5\\\\ \n",
        "2\n",
        "\\end{bmatrix} + \\begin{bmatrix}\n",
        "2\\\\ \n",
        "3\n",
        "\\end{bmatrix} = \n",
        "\\begin{bmatrix}\n",
        "?\\\\ \n",
        "?\n",
        "\\end{bmatrix}\n",
        "$$"
      ]
    },
    {
      "cell_type": "markdown",
      "metadata": {
        "id": "xuUQsYZNvGDf"
      },
      "source": [
        "**At gange vektorer**\n",
        "\n",
        "Vi kan også skalere vektorer ved at gange eller dividere med en skalar (et reelt tal). Når vi gør det, multipliceres eller deles hvert element i vektoren med skalaren:\n",
        "\n",
        "$$\n",
        "4* \\begin{bmatrix}\n",
        "5\\\\\n",
        "2\n",
        "\\end{bmatrix} =\n",
        "\\begin{bmatrix}\n",
        "20\\\\\n",
        "8\n",
        "\\end{bmatrix}\n",
        "$$\n",
        "\n",
        "\n",
        "Kombinationen af disse regneregler gør det muligt at kombinere vektorer for at opnå nye. Det er en af centrale ideer i linear algebra:\n",
        "\n",
        "$$\n",
        "4* \\begin{bmatrix}\n",
        "5\\\\\n",
        "2\n",
        "\\end{bmatrix} - \n",
        "\\begin{bmatrix}\n",
        "6\\\\ \n",
        "3\n",
        "\\end{bmatrix}=\n",
        "\\begin{bmatrix}\n",
        "14\\\\\n",
        "5\n",
        "\\end{bmatrix}\n",
        "$$"
      ]
    },
    {
      "cell_type": "code",
      "metadata": {
        "id": "b_3YCMbWuXc7"
      },
      "source": [
        "# eller med numpy (quick and dirty)\n",
        "4*np.array([5,2])-np.array([6,3])"
      ],
      "execution_count": null,
      "outputs": []
    },
    {
      "cell_type": "markdown",
      "metadata": {
        "id": "kiAQj1jLxsX5"
      },
      "source": [
        "Lad os prøve at beregne\n",
        "\n",
        "$$\n",
        "4* \\begin{bmatrix}\n",
        "2\\\\\n",
        "1\\\\\n",
        "2\n",
        "\\end{bmatrix} - 2*\n",
        "\\begin{bmatrix}\n",
        "3\\\\ \n",
        "3\\\\\n",
        "1\n",
        "\\end{bmatrix}=\n",
        "\\begin{bmatrix}\n",
        "?\\\\\n",
        "?\\\\\n",
        "?\n",
        "\\end{bmatrix}\n",
        "$$\n",
        "\n",
        "#### om `shape`\n",
        "\n",
        "Shape funktionen viser os hvor mange rækker/kolonner der er i en matrix. Hvis vi arbejder med en rækkevektor, så er shape $(1,n)$; ved en søjlevektor er det $(n,1)$. \n",
        "At beskrive en søjlevektor i Python er ikke smart fordi man skal skrive  `[[1], [2],[3]]` man kan så bruge `reshape(-1,1)` til at omforme en række til en søjlevektor.\n"
      ]
    },
    {
      "cell_type": "code",
      "metadata": {
        "id": "GSAHosAbxIXn"
      },
      "source": [
        "#def vektor 1 og lav om til søjle\n",
        "v1 = np.array([2,1,2], dtype=np.float32)\n",
        "v1 = v1.reshape(-1,1)\n",
        "\n",
        "#def vektor 2 og lav om til søjle\n",
        "v2 = np.array([3,3,1], dtype=np.float32)\n",
        "v2 = v2.reshape(-1,1)\n",
        "\n",
        "v_result = v1*4 - v2*2"
      ],
      "execution_count": null,
      "outputs": []
    },
    {
      "cell_type": "code",
      "metadata": {
        "id": "brTT37RAydlL"
      },
      "source": [
        "v_result"
      ],
      "execution_count": null,
      "outputs": []
    },
    {
      "cell_type": "markdown",
      "metadata": {
        "id": "nH5CKSZF0Ozz"
      },
      "source": [
        "Den sidste vigtite vektoroperation er prikproduktet/skalarproduktet. \n",
        "Det er ikke mulight at multipicere vektorer direkte. \n",
        "Prikprodukt ligner multiplikation, men elementerne i vektorerne multipliceres på en bestemt måde. \n",
        "Begge disse vektorer skal indeholde det samme antal elementer, hvilket er et krav, som de andre operationer, vi hidtil har lært, også har. \n",
        "For at beregne prikproduktet skal vi sammenfatte produkterne med de 2 værdier i hver position i hver vektor:\n",
        "\n",
        "$$\\vec{a} * \\vec{b} = \\sum_{i=1}^{n} a_i b_i = a_1b_1 + a_2b_2 + ... + a_nb_n$$\n",
        "\n",
        "$$\n",
        "\\begin{bmatrix}\n",
        "2\\\\\n",
        "1\\\\\n",
        "2\n",
        "\\end{bmatrix} *\n",
        "\\begin{bmatrix}\n",
        "3\\\\ \n",
        "3\\\\\n",
        "1\n",
        "\\end{bmatrix}= (2·3)+(1·3)+(2·1) = 11\n",
        "$$"
      ]
    },
    {
      "cell_type": "code",
      "metadata": {
        "id": "PyJUpbeEITQW"
      },
      "source": [
        "# forkert\n",
        "np.array([2,1,2]) * np.array([3,3,1])"
      ],
      "execution_count": null,
      "outputs": []
    },
    {
      "cell_type": "code",
      "metadata": {
        "id": "4WrAOVYVICWR"
      },
      "source": [
        "# rigtigt\n",
        "np.array([2,1,2]).dot(np.array([3,3,1]))"
      ],
      "execution_count": null,
      "outputs": []
    },
    {
      "cell_type": "code",
      "metadata": {
        "id": "I97yjA3VIuVO"
      },
      "source": [
        "# eller:\n",
        "\n",
        "a = np.array([2,1,2]).reshape(-1,1)\n",
        "b = np.array([3,3,1]).reshape(-1,1)\n",
        "\n",
        "a[:,0]@b"
      ],
      "execution_count": null,
      "outputs": []
    },
    {
      "cell_type": "code",
      "metadata": {
        "id": "7RBHB_JyI-Dp"
      },
      "source": [
        "# eller \n",
        "\n",
        "np.dot(a[:,0],b)"
      ],
      "execution_count": null,
      "outputs": []
    },
    {
      "cell_type": "code",
      "metadata": {
        "id": "cFJBHU3aLeUB"
      },
      "source": [
        "# elelr\n",
        "\n",
        "from sympy import * #importer alt fra Sympy\n",
        "from sympy.matrices import Matrix #importer matrix\n",
        "\n",
        "M = Matrix([2,1,2])\n",
        "N = Matrix([3,3,1])\n",
        "\n",
        "M.dot(N)"
      ],
      "execution_count": null,
      "outputs": []
    },
    {
      "cell_type": "markdown",
      "metadata": {
        "id": "esj-3VeeJfil"
      },
      "source": [
        "I modsætning til de andre vektoroperationer er resultatet her en skalær værdi, ikke en vektor. Selvom vi ikke udnytter prikproduktet med det samme, vil det være centralt i næste session, når vi lærer, hvordan vi multiplicerer en matrix og en vektor sammen."
      ]
    },
    {
      "cell_type": "markdown",
      "metadata": {
        "id": "eI8lwRowKAnc"
      },
      "source": [
        "Øvelse: Beregn i hånden, numpy og sympy\n",
        "\n",
        "$$\n",
        "\\begin{bmatrix}\n",
        "3\\\\\n",
        "5\\\\\n",
        "1\n",
        "\\end{bmatrix} *\n",
        "\\begin{bmatrix}\n",
        "2\\\\ \n",
        "1\\\\\n",
        "3\n",
        "\\end{bmatrix}= \n",
        "$$"
      ]
    },
    {
      "cell_type": "markdown",
      "metadata": {
        "id": "VGAdAzHGL8Hg"
      },
      "source": [
        "Vi har indtil videre set, at vi kan multiplicere vektorer med en skalær værdi og kombinere vektorer ved hjælp af +/-. \n",
        "\n",
        "Ved hjælp af disse operationer kan vi bestemme, om en bestemt vektor kan findes ved at kombinere andre vektorer. For eksempel vil vi måske vide, om vi kan kombinere vektorerne $\\begin{bmatrix} 2\\\\ 3 \\end{bmatrix}$ og $\\begin{bmatrix} 3\\\\ 1 \\end{bmatrix}$ til opnå $\\begin{bmatrix} 1\\\\ 5 \\end{bmatrix}$\n",
        "\n",
        "Vi kan skrive vores problem som:\n",
        "\n",
        "$$c_1 \\begin{bmatrix} 2\\\\ 3 \\end{bmatrix} + c_2 \\begin{bmatrix} 3\\\\ 1 \\end{bmatrix}  = \\begin{bmatrix} 1\\\\ 5 \\end{bmatrix}$$\n",
        "\n",
        "$c_1$ og $c_2$ er variable, som skalerer hvores vektorer og vi vil gerne finde en løsning, hvor vores ligning går op.\n",
        "\n",
        "Det at kunne skalere vektorer ved hjælp af skalær multiplikation og derefter tilføje eller trække disse skalerede vektorer er kendt som **lineær kombination**. \n",
        "\n",
        "Konceptet er afgørende for at kunne anvende lineær algebra til at løse nyttige problemer. Ved hjælp af begrebet lineær kombination kan vi omformulere vores problem til det følgende:\n",
        "\n",
        "er $\\begin{bmatrix} 1\\\\ 5 \\end{bmatrix}$ en lineær kombination af $\\begin{bmatrix} 3\\\\ 1 \\end{bmatrix}$ og $\\begin{bmatrix} 2\\\\ 3 \\end{bmatrix}$?"
      ]
    },
    {
      "cell_type": "code",
      "metadata": {
        "id": "OoTCXiMnP8_M"
      },
      "source": [
        "plt.axhline(0, c='black', lw=0.5)\n",
        "plt.axvline(0, c='black', lw=0.5)\n",
        "plt.xlim(-2,6)\n",
        "plt.ylim(-2,7)\n",
        "\n",
        "plt.quiver(0, 0, 1, 5, angles='xy', scale_units='xy', scale=1, color='red')\n",
        "plt.quiver(0, 0, 2, 3, angles='xy', scale_units='xy', scale=1, color='blue')\n",
        "plt.quiver(0, 0, 3, 1, angles='xy', scale_units='xy', scale=1, color='green')\n"
      ],
      "execution_count": null,
      "outputs": []
    },
    {
      "cell_type": "code",
      "metadata": {
        "id": "iNEZ0clSPPQU"
      },
      "source": [
        "plt.axhline(0, c='black', lw=0.5)\n",
        "plt.axvline(0, c='black', lw=0.5)\n",
        "plt.xlim(-2,6)\n",
        "plt.ylim(-2,7)\n",
        "\n",
        "plt.quiver(0, 0, 4, 6, angles='xy', scale_units='xy', scale=1, color='blue')\n",
        "plt.quiver(4, 6, -3, -1, angles='xy', scale_units='xy', scale=1, color='green')\n",
        "plt.quiver(0, 0, 1, 5, angles='xy', scale_units='xy', scale=1, color='red')\n",
        "\n",
        "plt.quiver(0, 0, 2, 3, angles='xy', scale_units='xy', scale=1, color='gold')\n",
        "plt.quiver(0, 0, 3, 1, angles='xy', scale_units='xy', scale=1, color='gold')\n"
      ],
      "execution_count": null,
      "outputs": []
    },
    {
      "cell_type": "markdown",
      "metadata": {
        "id": "DdfFy_wGQy3J"
      },
      "source": [
        "$c_1 = 2$; $c_2 = -1$"
      ]
    },
    {
      "cell_type": "markdown",
      "metadata": {
        "id": "gzwtvlxsRHnW"
      },
      "source": [
        "Sidste gang talte så vi på lønoptimering og endte med at skrive de 2 ligninger, som representerer jobtilbud i matrix-form:\n",
        "\n",
        "**augmented matrix**\n",
        "\n",
        "$$\n",
        "\\left[\n",
        "  \\begin{matrix}\n",
        "    300 & -1 \\\\\n",
        "    400 & -1 \\\\\n",
        "  \\end{matrix}\n",
        "  \\left|\n",
        "    \\,\n",
        "    \\begin{matrix}\n",
        "      -2500  \\\\\n",
        "      -500  \\\\\n",
        "    \\end{matrix}\n",
        "  \\right.\n",
        "\\right]\n",
        "$$\n",
        "\n",
        "**nu kan vi prøve at forbinde denne matrix til ideen om liniær kombination, som vi lige har set**\n",
        "\n",
        "Vi vil så gerne vide, om $\\begin{bmatrix} -2500\\\\ -500 \\end{bmatrix}$ er en liniær kombination af $\\begin{bmatrix} 300\\\\ 400 \\end{bmatrix}$ og $\\begin{bmatrix} -1\\\\ -1 \\end{bmatrix}$\n",
        "\n",
        "for at finde løsningen, skal vi så finde værdier til $x$ og $y$ hvor følgende gælder:\n",
        "\n",
        "$$x \\begin{bmatrix} 300\\\\ 400 \\end{bmatrix} + y \\begin{bmatrix} -1\\\\ -1 \\end{bmatrix} = \\begin{bmatrix} -2500\\\\ -500 \\end{bmatrix}$$\n",
        "\n",
        "Sidste gang fandt vi en løsning ved at bruge rækkeoperationer indtil vi kom frem til:\n",
        "\n",
        "$$\\left[\\begin{array}{rr|r}\n",
        "1 & 0 & x\\\\ \n",
        "0 & 1 & y\n",
        "\\end{array}\\right]$$"
      ]
    },
    {
      "cell_type": "markdown",
      "metadata": {
        "id": "pL-8UQCGTCI6"
      },
      "source": [
        "Det sidste koncept, vi kort introducerer her, er matrixligningen. Matrixligningen er repræsentationen af ​​et lineært system, der kun bruger matricer og vektorer. Her er den augmented matrix, vi startede med:\n",
        "\n",
        "$$\n",
        "\\left[\n",
        "  \\begin{matrix}\n",
        "    300 & -1 \\\\\n",
        "    400 & -1 \\\\\n",
        "  \\end{matrix}\n",
        "  \\left|\n",
        "    \\,\n",
        "    \\begin{matrix}\n",
        "      -2500  \\\\\n",
        "      -500  \\\\\n",
        "    \\end{matrix}\n",
        "  \\right.\n",
        "\\right]\n",
        "$$\n",
        "\n",
        "som er en forkortelse af\n",
        "\n",
        "$$\\left[\\begin{array}{rr|r}\n",
        "300 & -1 \\\\ \n",
        "400 & -1 \n",
        "\\end{array}\\right] \\begin{bmatrix} x\\\\ y \\end{bmatrix} =  \\begin{bmatrix} -2500\\\\ -500 \\end{bmatrix}$$\n",
        "\n",
        "\n",
        "På venstre side multiplicerer vi en matrix med koefficienterne, med vektoren, der indeholder variablerne. \n",
        "\n",
        "Højre side holder de konstante værdier. \n",
        "\n",
        "Denne adskillelse af koefficienter og variabler fra konstanterne bude være bekendt. Dette er præcis, hvad vi også gjorde i den generelle form!\n",
        "\n",
        "\n",
        "Man plejer at bruge $x_1,x_2,...x_n$ i stedet for $x,y$ når man skal repræsentere individuelle værdier af en løsningsvektor. Det giver os muligheden at arbejde med så mange værdier som vi har lyst til (ikke kun ~26).\n",
        "\n",
        "$$\\left[\\begin{array}{rr|r}\n",
        "300 & -1 \\\\ \n",
        "400 & -1 \n",
        "\\end{array}\\right] \\begin{bmatrix} x_1\\\\ x_2 \\end{bmatrix} =  \\begin{bmatrix} -2500\\\\ -500 \\end{bmatrix}$$\n",
        "\n",
        "\n",
        "Vi kan nu også introducere den aritmetiske repræsentation af matrixligningen: $A\\vec{x} = \\vec{b}$\n",
        "\n",
        "\n",
        "Hvor $A$ repræsenterer koefficientmatrix, $\\vec{x}$ repræsenterer løsningsvektoren, og $\\vec{b}$ repræsenterer konstanterne. OBS $\\vec{b}$ kan ikke være en vektor, der kun holder nuller, også kendt som nulfaktoren $\\vec{0}$.\n",
        "\n",
        "Før vi kan arbejde med denne form for systemer, skal vi lære om følgende emner i det næste afstnitt:\n",
        "\n",
        "- regler, der beskriver, hvordan matricer kan kombineres\n",
        "- hvordan man multiplicerer en matrix med en vektor\n",
        "- hvordan man beregner løsningsvektor $\\vec{x}$\n",
        " uden at bruge Gauss-eliminering.\n"
      ]
    },
    {
      "cell_type": "markdown",
      "metadata": {
        "id": "y_MOMJtiKKKb"
      },
      "source": [
        "## Husk:\n",
        "\n",
        "\n",
        "\n",
        "*   Når vi taler om matricer, så er det først rækker og så kolonner, der tælles - en $2x3$ matrix har 2 rækker og 3 kolonner.\n",
        "*   En liste af tal fra en matrix er en vektor. En række - en rækkevektor, en kolonne - en søjlevektor\n",
        "* En Vektor visualiseres tit ved at bruge piler, der starter i $(0,0)$ for at understrege, længten og rettning som dets egenskaber.\n",
        "* Lige som rækker i en matrix, vi kan også summe og trække fra med vektorer. Man kan også skalere op vektorer ved at multiplicere med tal > 1 og < -1; og ned ved at multimplicere med tal mellem -1 og 1.\n",
        "* dot-product elle prikprodukt beregnes ved at summe produkter af de 2 værdier for alle positioner i de vektorer der skal multipliceres. $$\\vec{a} * \\vec{b} = \\sum_{i=1}^{n} a_i b_i = a_1b_1 + a_2b_2 + ... + a_nb_n$$\n",
        "\n",
        "* En lineær kombination er vektorer, som bliver skaleret og bagefter lagt sammen eller trukket fra.\n",
        "\n",
        "* Den aritmetiske repræsentation af matrixligningen er $A\\vec{x} = \\vec{b}$ hvor $A$ repræsenterer koefficientmatrix, $\\vec{x}$ repræsenterer løsningsvektoren, og $\\vec{b}$ repræsenterer konstanterne. OBS $\\vec{b}$ kan ikke være en vektor, der kun holder nuller, også kendt som nulfaktoren $\\vec{0}$.\n",
        "\n",
        "\n",
        "\n",
        "\n"
      ]
    }
  ]
}