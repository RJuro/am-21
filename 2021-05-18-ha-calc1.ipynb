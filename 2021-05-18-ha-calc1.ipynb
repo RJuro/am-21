{
  "nbformat": 4,
  "nbformat_minor": 0,
  "metadata": {
    "colab": {
      "name": "AM2021 - Calculus, part 1",
      "provenance": [],
      "collapsed_sections": [],
      "include_colab_link": true
    },
    "kernelspec": {
      "name": "python3",
      "display_name": "Python 3"
    },
    "language_info": {
      "name": "python"
    }
  },
  "cells": [
    {
      "cell_type": "markdown",
      "metadata": {
        "id": "view-in-github",
        "colab_type": "text"
      },
      "source": [
        "<a href=\"https://colab.research.google.com/github/RJuro/am-21/blob/main/2021-05-18-ha-calc1.ipynb\" target=\"_parent\"><img src=\"https://colab.research.google.com/assets/colab-badge.svg\" alt=\"Open In Colab\"/></a>"
      ]
    },
    {
      "cell_type": "markdown",
      "metadata": {
        "id": "ASP4ES_kBnCj"
      },
      "source": [
        "### Calculus - Session 1\n",
        "I den første del af kurset lærte vi om lineær algebra. For at få yderligere forståelse for de underliggende matematiske koncepter, er vi nødt til at bruge lidt tid på at forstå hovedideerne fra **calculus**, eller infinitesimalregning, som er den samlede betegnelse for differential- og integralregning.\n",
        "\n",
        "De 3 sessioner i dette kursus er, lige som linkeær algebra har været, for det meste en opfriskning af matematik som I burde have set før på B nievau.\n",
        "\n",
        "#### Del 1.1\n",
        "Calculus giver en ramme for at forstå mekanikken af matematiske funktioner. Calculus hjælper os med at:\n",
        "* Forstå hældning i forskellige punkter\n",
        "* Finde ekstreme punkter i en funktion\n",
        "* Bestemme den optimale funktion, der bedst repræsenterer et datasæt (link til statistik / data science)\n",
        "\n",
        "Vi starter med et lille eksempel fra beskrivende statistik (eksamen) for at vise hvor calculus giver os en base for at arbejde videre med kvantitative metoder på 3. semester og bagefter."
      ]
    },
    {
      "cell_type": "code",
      "metadata": {
        "id": "x275H_tHAJuw"
      },
      "source": [
        "# pakker importeres\n",
        "import pandas as pd\n",
        "import seaborn as sns\n",
        "sns.set()"
      ],
      "execution_count": 22,
      "outputs": []
    },
    {
      "cell_type": "code",
      "metadata": {
        "id": "aAsnCVWwAMmW"
      },
      "source": [
        "# Indlæs data\n",
        "df = pd.read_csv('https://sds-aau.github.io/IntroStat/Data/airbnb.csv.gz', compression='gzip')\n",
        "\n",
        "# Udsmid manglende værdier i variable hvor der mangler op til og med 103 observationer \n",
        "# dvs. variable med flere manglende observationer end 103 skal ikke renses for manglende observationer\n",
        "\n",
        "df.dropna(subset=['name', 'bathrooms', 'bedrooms', 'beds'], inplace=True)\n",
        "\n",
        "# Her omdannes \"price\" til en float (numerisk variabel) og får fjernet \"$\" og \",\" - det har vi gjort for jer.\n",
        "df.price = df.price.replace('[\\$,]', '', regex=True).astype(float)\n",
        "\n",
        "# Med udgangspunkt i \"price\", beskær datasættet til 95. percentil (95 inkl.)\n",
        "df = df[df.price <= df.price.quantile(.95)]\n",
        "\n",
        "# filrer data, således der kun beholdes observationer af de 3 hyppigste kategorier\n",
        "# her bruger vi \"isin\" komando for at definere tilladte kategorier\n",
        "\n",
        "df = df[df.property_type.isin(['Apartment', 'Condominium', 'House'])]\n",
        "\n",
        "# fortag den samme filtrering for \"room_type\", hvor der kun beholdes de 2 hyppigste kategorier\n",
        "df = df[df.room_type.isin(['Entire home/apt', 'Private room'])]\n",
        "\n",
        "# Ligesom med price variablen, skal \"cleaning_fee\" også have fjernet \"$\" og \",\", og gøres til en float (numerisk variabel) \n",
        "df.cleaning_fee = df.cleaning_fee.replace('[\\$,]', '', regex=True).astype(float)\n",
        "\n",
        "# Udfyld manglende observationer i cleaning fee med 0\n",
        "\n",
        "df.cleaning_fee.fillna(0, inplace=True)\n",
        "\n",
        "# Lav en ny variabel \"total_price\" ud fra \"price\" og \"cleaning_fee\" (sammenlæg de to værdier fra )\n",
        "df['total_price'] = df.price + df.cleaning_fee\n",
        "\n",
        "# definer en dataframe hvor der kun medtages observationer med > 10 reviews \"number_of_reviews\"\n",
        "# samlign korrelationer mellem total_price/price vs accomodates\n",
        "# fortolk de to korrelationskoefficienter\n",
        "\n",
        "\n",
        "df = df[df.number_of_reviews > 10]"
      ],
      "execution_count": 23,
      "outputs": []
    },
    {
      "cell_type": "code",
      "metadata": {
        "colab": {
          "base_uri": "https://localhost:8080/"
        },
        "id": "4zbhWJsFA_1x",
        "outputId": "cc9af12a-19ff-4bba-ef20-845c5087b981"
      },
      "source": [
        "# korrelation (fra eksamen)\n",
        "\n",
        "df.bedrooms.corr(df.cleaning_fee)"
      ],
      "execution_count": 24,
      "outputs": [
        {
          "output_type": "execute_result",
          "data": {
            "text/plain": [
              "0.34365365744585047"
            ]
          },
          "metadata": {
            "tags": []
          },
          "execution_count": 24
        }
      ]
    },
    {
      "cell_type": "code",
      "metadata": {
        "id": "38gh2_V4SGeu",
        "colab": {
          "base_uri": "https://localhost:8080/",
          "height": 399
        },
        "outputId": "18e66fd6-f1a1-4676-8285-3cff0f97071c"
      },
      "source": [
        "# vi kan bruge seaborn til at plotte alle vores observationer og en \"trendline\"\n",
        "\n",
        "sns.lmplot(x=\"bedrooms\", y=\"total_price\", data=df)"
      ],
      "execution_count": 17,
      "outputs": [
        {
          "output_type": "execute_result",
          "data": {
            "text/plain": [
              "<seaborn.axisgrid.FacetGrid at 0x7fdaf1e449d0>"
            ]
          },
          "metadata": {
            "tags": []
          },
          "execution_count": 17
        },
        {
          "output_type": "display_data",
          "data": {
            "image/png": "[encoded data removed]",
            "text/plain": [
              "<Figure size 360x360 with 1 Axes>"
            ]
          },
          "metadata": {
            "tags": []
          }
        }
      ]
    },
    {
      "cell_type": "code",
      "metadata": {
        "colab": {
          "base_uri": "https://localhost:8080/"
        },
        "id": "GiJOg3ueBN5K",
        "outputId": "2f427119-58d6-4eaf-9d77-d3a225e9f394"
      },
      "source": [
        "# Vi kan bruge OLS (lineær regression) til at finde den linkeære funtion der best beskriver vores data (vi lærer hvordan det fungerer på 3. semester)\n",
        "\n",
        "import statsmodels.api as sm\n",
        "\n",
        "X = sm.add_constant(df.bedrooms)\n",
        "\n",
        "model = sm.OLS(df.total_price, X)\n",
        "results = model.fit()\n",
        "print(results.summary())"
      ],
      "execution_count": 25,
      "outputs": [
        {
          "output_type": "stream",
          "text": [
            "                            OLS Regression Results                            \n",
            "==============================================================================\n",
            "Dep. Variable:            total_price   R-squared:                       0.262\n",
            "Model:                            OLS   Adj. R-squared:                  0.262\n",
            "Method:                 Least Squares   F-statistic:                     3030.\n",
            "Date:                Mon, 17 May 2021   Prob (F-statistic):               0.00\n",
            "Time:                        15:56:30   Log-Likelihood:                -62678.\n",
            "No. Observations:                8553   AIC:                         1.254e+05\n",
            "Df Residuals:                    8551   BIC:                         1.254e+05\n",
            "Df Model:                           1                                         \n",
            "Covariance Type:            nonrobust                                         \n",
            "==============================================================================\n",
            "                 coef    std err          t      P>|t|      [0.025      0.975]\n",
            "------------------------------------------------------------------------------\n",
            "const        548.1718      8.465     64.758      0.000     531.579     564.765\n",
            "bedrooms     291.1737      5.290     55.044      0.000     280.804     301.543\n",
            "==============================================================================\n",
            "Omnibus:                      581.214   Durbin-Watson:                   1.966\n",
            "Prob(Omnibus):                  0.000   Jarque-Bera (JB):              741.603\n",
            "Skew:                           0.632   Prob(JB):                    9.18e-162\n",
            "Kurtosis:                       3.697   Cond. No.                         4.51\n",
            "==============================================================================\n",
            "\n",
            "Warnings:\n",
            "[1] Standard Errors assume that the covariance matrix of the errors is correctly specified.\n"
          ],
          "name": "stdout"
        }
      ]
    },
    {
      "cell_type": "markdown",
      "metadata": {
        "id": "w0gUUUBWC2fK"
      },
      "source": [
        "Vi kan se, at vores data kan best beskrives med den lineære funktion $\\text{total_price} = 548.17 + 291.17*\\text{bedrooms}$. Dvs vi betaler 548.17kr/nat lige meget hvad og hver gang der er 1 soveværelse mere i en AirBnb lejlighed kan vi forvente, at prisen stiger med 291.17kr/nat. Det er selfvølglig kun noget gennemsnitligt. Man kan også godt se i vores plot, at reele priser afviger en del.\n",
        "\n",
        "Som sagt, skal vi ikke snakke meget mere om statistik og økonometri her - det kommer på 3. semester. Det, som vi skal have styr på er selve funktioner..."
      ]
    },
    {
      "cell_type": "markdown",
      "metadata": {
        "id": "aM_LiNlBVrQf"
      },
      "source": [
        "Vi starter med at oprette et gennemgående problem, som vi hele tiden henviser til i dette afsnit. Problemet er ikke et økonomisk, så vi kan fokusere på matematikken for nu. Lad os antage, at vi får følgende ligning, som beskriver banens bane, efter at den er sparket af en fodboldspiller:\n",
        "\n",
        "$y = (-x^2) + 3x -1$\n",
        "\n",
        "$x$ er tid i sekunder, mens $y$ er boldens vertikale position. Naturligvis vil vi gerne kende den højeste position, bolden nåede, og hvornår det skete. Vi kan tegne ligningen og estimere resultatet visuelt, men hvis vi ønsker det præcise tidspunkt og vertikale position skal vi bruge calculus. I dette kursus undersøger vi de forskellige beregningskoncepter, der er nødvendige for at bygge op til at være i stand til at finde dette punkt.\n",
        "\n",
        "Lad os starte med at visualisere denne funktion.\n",
        "\n"
      ]
    },
    {
      "cell_type": "markdown",
      "metadata": {
        "id": "qsHa-vr-XLAB"
      },
      "source": [
        "**Øvelse**\n",
        "\n",
        "* Brug numpy.linspace() til at generere en Numpy array indeholdene **100** værdier fra **0** til **3** og tildel til $x$.\n",
        "* Transformer $x$ ved at anvende funktionen: $y = (-x^2) + 3x -1$. Tildel resultatet til $y$\n",
        "* Brug pyplot.plot() til at generere et linjediagram med $x$ på x-aksen og $y$ på y-aksen.\n",
        "* Overvej, hvordan man kan udregne max højden, og det præcise tidspunkt det skete. "
      ]
    },
    {
      "cell_type": "code",
      "metadata": {
        "id": "vhDyhw7eEixi"
      },
      "source": [
        "import numpy as np\n",
        "import matplotlib.pyplot as plt\n",
        "\n",
        "x = \n",
        "y = \n",
        "\n",
        "plt.plot(x,y)"
      ],
      "execution_count": null,
      "outputs": []
    },
    {
      "cell_type": "code",
      "metadata": {
        "colab": {
          "base_uri": "https://localhost:8080/",
          "height": 293
        },
        "id": "1H8uxreQFXmo",
        "outputId": "d1653755-97c3-4f31-f2dc-2f7f5388d77b"
      },
      "source": [
        "# alternativ...\n",
        "\n",
        "from sympy import symbols\n",
        "from sympy.plotting import plot\n",
        "x = symbols('x')\n",
        "p1 = plot(-(x**2)+3*x-1, xlim=[0,3], ylim=[-1,1.5], show=True)"
      ],
      "execution_count": 32,
      "outputs": [
        {
          "output_type": "display_data",
          "data": {
            "image/png": "[encoded data removed]",
            "text/plain": [
              "<Figure size 432x288 with 1 Axes>"
            ]
          },
          "metadata": {
            "tags": []
          }
        }
      ]
    },
    {
      "cell_type": "markdown",
      "metadata": {
        "id": "GerIKc3GYOL0"
      },
      "source": [
        "#### Del 1.2\n",
        "Før vi dykker ned i at analysere kurven for en bolds højde, skal vi forstå nogle få centrale koncepter først. Vi vil udforske disse koncepter ved hjælp af enkle, lige linjer først og derefter opbygge at anvende disse begreber på kurver. En enkel, lige linje defineres tydeligere som en lineær funktion. Alle lineære funktioner kan skrives i følgende form:\n",
        "\n",
        "$y = mx + b$\n",
        "\n",
        "For en bestemt lineær funktion, m og b er konstante værdier, mens $x$ og $y$ er variabler. $y = 3x + 1$ og $y = 5$ er begge eksempler på lineære funktioner.\n",
        "\n",
        "Lad os fokusere på funktionen $y = 3x + 1$ indtil videre. Denne funktion multiplicerer enhver $x$ værdi, vi tilføjer med 3 og forhøjer derefter værdien med 1. "
      ]
    },
    {
      "cell_type": "markdown",
      "metadata": {
        "id": "uFRfiqe1ZOFQ"
      },
      "source": [
        "Lad os starte med at få en geometrisk forståelse af lineære funktioner. Nedenfor finder du et billede, der kan hjælpe dig med at forstå, hvordan linjen forskydes eller ændres, når du ændrer værdier på $m$ og/eller $b$.\n",
        "* Hvordan ændres linjen, når du holder $m$ fast, men varierer $b$?\n",
        "* Hvordan ændres linjen, når du holder $b$ fast, men varierer $m$?\n",
        "*\tHvilken værdi styrer linjens stejlhed?\n",
        "*\tHvad sker der med linjen, når $m$ er indstillet til 0?"
      ]
    },
    {
      "cell_type": "code",
      "metadata": {
        "colab": {
          "base_uri": "https://localhost:8080/"
        },
        "id": "MdB8j_3AHHtJ",
        "outputId": "054a3d09-440c-4a4d-a4d9-3ef31600594b"
      },
      "source": [
        "x = np.linspace(-5,6,10)\n",
        "x = np.array([int(i) for i in x])\n",
        "print(x)"
      ],
      "execution_count": 43,
      "outputs": [
        {
          "output_type": "stream",
          "text": [
            "[-5 -3 -2 -1  0  1  2  3  4  6]\n"
          ],
          "name": "stdout"
        }
      ]
    },
    {
      "cell_type": "code",
      "metadata": {
        "colab": {
          "base_uri": "https://localhost:8080/"
        },
        "id": "_it6BSx0HRx1",
        "outputId": "eb1502e1-0970-479e-995c-c95439ab3434"
      },
      "source": [
        "y = 3*x + 1\n",
        "print(y)"
      ],
      "execution_count": 45,
      "outputs": [
        {
          "output_type": "stream",
          "text": [
            "[-14  -8  -5  -2   1   4   7  10  13  19]\n"
          ],
          "name": "stdout"
        }
      ]
    },
    {
      "cell_type": "code",
      "metadata": {
        "id": "sqaxzAEQZtFl"
      },
      "source": [
        "import IPython"
      ],
      "execution_count": 33,
      "outputs": []
    },
    {
      "cell_type": "code",
      "metadata": {
        "colab": {
          "base_uri": "https://localhost:8080/",
          "height": 523
        },
        "id": "4sZhz20BG7Xk",
        "outputId": "7f227278-5abe-48fa-e193-dce97eeba069"
      },
      "source": [
        "iframe = '<iframe src=\"https://www.desmos.com/calculator/efglhmyz8f\" width=\"1000px\" height=\"500px\" style=\"border: 1px solid #ccc\" frameborder=0></iframe>'\n",
        "IPython.display.HTML(iframe)"
      ],
      "execution_count": 62,
      "outputs": [
        {
          "output_type": "execute_result",
          "data": {
            "text/html": [
              "<iframe src=\"https://www.desmos.com/calculator/efglhmyz8f\" width=\"1000px\" height=\"500px\" style=\"border: 1px solid #ccc\" frameborder=0></iframe>"
            ],
            "text/plain": [
              "<IPython.core.display.HTML object>"
            ]
          },
          "metadata": {
            "tags": []
          },
          "execution_count": 62
        }
      ]
    },
    {
      "cell_type": "markdown",
      "metadata": {
        "id": "sjIsQliAZmog"
      },
      "source": [
        "#### Del 1.3\n",
        "Fra det forrige trin kan vi fortælle, at konstanten $m$ bestemmer, hvor *stejl* linjen er.\n",
        "Når m er lig med 0, er linjen helt flad og er parallel med x-aksen. Når $m$ og $b$ begge er indstillet til 0, svarer linjen til x-aksen.\n",
        "\n",
        "$m$-værdien styrer en linjes hældning, mens $b$-værdien styrer en linjens y-skæring. Disse udtryk vil blive uddybet yderligere. Y-skæringspunktet er den værdi, hvor linjen skærer y-aksen. Når man fastholder $m$, men varierede b, har du muligvis bemærket, at det punkt, hvor linjen krydsede y-aksen, varierede. Linjen skærer y-aksen når $x$ er 0. For $y = 3x$, er y-skæringspunktet:\n",
        "\n",
        "$f(0) = 3(0) + 1 = 1$\n",
        "\n",
        "Mens y-skæringspunktet beskriver, hvor en linje skærer y-aksen, beskriver hældningen linjens stejlhed. I det sidste trin, når vi indstiller $m$ til en positiv værdi, er y-værdierne steget efterhånden som x-værdierne steg. Når vi indstiller $m$ til en negativ værdi, falder y-værdierne, som x-værdierne steg. Når $m$ var 0, var y-værdien konsistent (og tilsvarende y-skæringspunktet). \n"
      ]
    },
    {
      "cell_type": "markdown",
      "metadata": {
        "id": "6THHAOEra4tM"
      },
      "source": [
        "En anden måde at tænke på hældning er **ændringshastighed** (*rate of change*). Ændringshastigheden er, hvor meget y-aksen ændrer sig, for en bestemt ændring i x-aksen.\n",
        "\n",
        "$m = \\frac{\\text{change in y}}{\\text{change in x}} = \\frac{\\Delta y}{\\Delta x}$\n",
        "\n",
        "Her er hældningsberegningen mellem punkterne (1,4) og (4,14), som begge er punkter på linjen $y = 3x + 1$:\n",
        "\n",
        "$m = \\frac{\\text{change in y}}{\\text{change in x}} = \\frac{13-4}{4-1} = 3$\n",
        "\n",
        "Når der skal skrives unikke $x$ og $y$ koordinater, tilføjes der normalt en tal intex (subscript). For eksempel kan punkterne (1,4) og (4,13) fra den sidste beregning være kaldt ($x_1, y_1$) og ($x_2, y_2$). Hvis vi ikke specificerer hvad ($x_1, y_1$) og ($x_2, y_2$) er, handler de som variabler. Vi understreger dette yderligere i billedet til dette trin, og når vi undersøger i beregningerne i næste trin.\n",
        "\n",
        "Det følgende billede indeholder en visualisering af $y = 3x + 1$ med 2 koordinater fremhævet. Prøv at variere $x_1$ og $x_2$ værdierne og observer visualiseringen af ændringshastigheden. Både koordinaterne ($x_1, y_1$) og ($x_2, y_2$) er fremhævet på linjen. Beregningen af ændringshastigheden vises også i plottets titel. Du vil bemærke, at\n",
        "ligegyldigt hvad koordinaterne er, er ændringshastigheden mellem dem altid 3.\n"
      ]
    },
    {
      "cell_type": "code",
      "metadata": {
        "id": "r0ajAx7iVnzT",
        "colab": {
          "base_uri": "https://localhost:8080/",
          "height": 523
        },
        "outputId": "6b522525-eb99-4651-f589-5834cb1eec2f"
      },
      "source": [
        "iframe = '<iframe src=\"https://www.desmos.com/calculator/jh1zb3n9al\" width=\"1000px\" height=\"500px\" style=\"border: 1px solid #ccc\" frameborder=0></iframe>'\n",
        "IPython.display.HTML(iframe)\n",
        "\n"
      ],
      "execution_count": 60,
      "outputs": [
        {
          "output_type": "execute_result",
          "data": {
            "text/html": [
              "<iframe src=\"https://www.desmos.com/calculator/jh1zb3n9al\" width=\"1000px\" height=\"500px\" style=\"border: 1px solid #ccc\" frameborder=0></iframe>"
            ],
            "text/plain": [
              "<IPython.core.display.HTML object>"
            ]
          },
          "metadata": {
            "tags": []
          },
          "execution_count": 60
        }
      ]
    },
    {
      "cell_type": "markdown",
      "metadata": {
        "id": "sTq_Eo-JeNy-"
      },
      "source": [
        "#### Del 1.4\n",
        "Hvis vi beregner ændringshastigheden mellem punkter på en linje, vil den altid være lig funktionens hældning. Lad os vise dette for det mere generelle tilfælde. I det følgende repræsenterer ($x_1, y_1$) og ($x_2, y_2$) 2 tilfædlige koordinater på en linje:\n",
        "\n",
        "$y_1 = mx_1 + b$\n",
        "\n",
        "$y_2 = mx_2 + b$\n",
        "\n",
        "Vi kan trække begge disse ligninger fra for at få:\n",
        "\n",
        "$y_1 - y_2 = mx_1 - mx_2 + b - b$\n",
        "\n",
        "$y_1 - y_2 = m(x_1 - x_2)$\n",
        "\n",
        "$m = (y_1 - y_2)/(x_1 - x_2)$\n",
        "\n",
        "$y_1 - y_2$ repræsenterer her $\\Delta y$, og $x_1 - x_2$ repræsenterer $\\Delta x$. Lad os udregne hældningen for nogle flere punkter der ligger på $y = 3x + 1$. \n"
      ]
    },
    {
      "cell_type": "markdown",
      "metadata": {
        "id": "2yaAk5qRf2oo"
      },
      "source": [
        "**Øvelse**\n",
        "* Skriv en funktion med navnet slope(), der beregner ændringshastigheden mellem to koordinater.\n",
        "* Denne funktion skal acceptere 4 parametre, der repræsenterer 2 x-værdier og 2 y-værdier for 2 forskellige punkter: $x1$, $x2$, $y1$, $y2$\n",
        "* Beregn ændringshastigheden mellem (0,1) og (4,13) og tildel\n",
        "til slope_1.\n",
        "* Beregn ændringshastigheden mellem (5,16) og (-1, -2) og tildel til slope_2.\n",
        "* Beregn ændringshastigheden mellem 2 punkter fra visualiseringen\n",
        "\n"
      ]
    },
    {
      "cell_type": "code",
      "metadata": {
        "id": "EuQWu-OsgYDm"
      },
      "source": [
        "def slope(x1, x2, y1, y2):\n",
        "  "
      ],
      "execution_count": 49,
      "outputs": []
    },
    {
      "cell_type": "markdown",
      "metadata": {
        "id": "wpb5Rft5gYMN"
      },
      "source": [
        "#### Del 1.5\n",
        "Indtil videre har vi arbejdet med lineære funktioner, hvor vi kan bestemme hældningen på funktion fra selve ligningen. Men hvis vi vender tilbage til vores ligning med boldens bane, vil du bemærke, at det ikke matcher formularen $y = mx + b$:\n",
        "\n",
        "$y = -(x^2) + 3x - 1$\n",
        "\n",
        "Dette skyldes, at denne funktion er en **ikke-lineær funktion**. Ikke-lineære funktioner repræsenterer ikke lige linjer - de repræsenterer kurver som den, vi fremlagde i det første trin i denne mission. Outputs fra en ikke-lineær funktion er ikke proportionale med inputværdierne $x$. Et inkrement i $x$ resulterer ikke i konstant inkrement i $y$.\n",
        "\n",
        "Når $x$ hæves til en styrke, der ikke er lig med $1$, har vi en ikke-lineær funktion. Her er nogle flere eksempler på ikke-lineære funktioner:\n",
        "\n",
        "$y = x^3$\n",
        "\n",
        "$y = x^3 + 3x^2 + 2x -1$\n",
        "\n",
        "$y = \\frac{1}{-x^2}$\n",
        "\n",
        "$y = \\sqrt{x}$\n",
        "\n",
        "I det følgende billede kan du observere, hvordan hældningen ændrer sig med forskellige værdier for $x_1$ og $x_2$ her bruger jeg lige $a$ og $b$ pga interface."
      ]
    },
    {
      "cell_type": "code",
      "metadata": {
        "id": "yruKRD5Bi0ux",
        "colab": {
          "base_uri": "https://localhost:8080/",
          "height": 523
        },
        "outputId": "c4043fdc-7b7e-4896-b316-b336d4b58ca3"
      },
      "source": [
        "iframe = '<iframe src=\"https://www.desmos.com/calculator/wiirw9ca6h\" width=\"1000\" height=\"500px\" style=\"border: 1px solid #ccc\" frameborder=0></iframe>'\n",
        "IPython.display.HTML(iframe)\n"
      ],
      "execution_count": 59,
      "outputs": [
        {
          "output_type": "execute_result",
          "data": {
            "text/html": [
              "<iframe src=\"https://www.desmos.com/calculator/wiirw9ca6h\" width=\"1000\" height=\"500px\" style=\"border: 1px solid #ccc\" frameborder=0></iframe>"
            ],
            "text/plain": [
              "<IPython.core.display.HTML object>"
            ]
          },
          "metadata": {
            "tags": []
          },
          "execution_count": 59
        }
      ]
    },
    {
      "cell_type": "markdown",
      "metadata": {
        "id": "liaYcjaGi13w"
      },
      "source": [
        "#### Del 1.6\n",
        "Efterhånden som i ændrede $x_1$ og $x_2$, varierede hældningen mellem de 2 punkter drastisk. Fordi lineære funktioner har en konstant hældning igennem, og dermer kender vi hældningen for alle punkter på linjen. Hvis vi vidste, at forholdet mellem temperatur og vindhastighed var lineær, kunne vi forudsige, hvad vindhastigheden ville være ved en hvilken som helst temperatur ved at prøve to punkter og beregne hældningen.\n",
        "\n",
        "Hvis forholdet i stedet var ikke-lineært, kunne vi ikke forudsige, hvad vindhastighedenville være ved en hvilken som helst bestemt temperatur ved blot at måle 2 punkter og regne hældning mellem dem (fordi hældningen ændrer sig drastisk afhængigt af hvilke 2 punkter du vælger). Når vi beregner hældningen mellem 2 punkter på en kurve, beregner vi i virkeligheden hældningen mellem linjen, der skærer begge disse punkter.\n",
        "\n",
        "Som I ved er ligningen for en lineær funktion er $y = mx + b$. Hvis vi kender værdierne for $m$, $x$ og $y$, kan vi beregne $b$, eller y-skæringen, ved hjælp af noget aritmetik. Lad os gå gennem beregningen for linjen, der forbinder punkterne ved x-værdierne $0$ og $1$.\n",
        "\n",
        "Først angiver vi, hvad vi ved.\n",
        "\n",
        "$y = -(x^2) + 3x -1$\n",
        "\n",
        "$x_1 = 0$\n",
        "\n",
        "$x_2 = 1$\n",
        "\n",
        "Vi bruger $y = -(x^2) + 3x -1$ til at beregne $y_1$ og $y_2$.\n",
        "\n",
        "$y_1 = 0 + 0 - 1 = -1$\n",
        "\n",
        "$y_2 = -1 +3 -1 = 1$\n",
        "\n",
        "Vi bruger koordinaterne (x,y) til at løse hældningen.\n",
        "\n",
        "$m = \\frac{y_2 - y_1}{x_2 - x_1} = \\frac{2}{1} = 2$\n",
        "\n",
        "Fordi både ($x_1, y_1$) og ($x_2, y_2$) er punkter på linjen, kan vi bruge både den ene og den anden til at beregne y-skæringsværdien ($b$).\n",
        "\n",
        "$y_1 = mx_1 + b$\n",
        "\n",
        "$-1 = 2(0) + b$\n",
        "\n",
        "$b = -1$\n",
        "\n",
        "Endelig kan vi bruge hældningen og y-skæringen til at udforme ligningen for\n",
        "linjen, der forbinder begge punkter:\n",
        "\n",
        "$y = 2x -1$\n",
        "\n",
        "En linje, der skærer 2 punkter på en kurve, er kendt som en **sekantlinje**. Lad os øve at skabe nogle sekantlinjer til vores kurve.Vi har lavet lidt forarbejde til at danne en funktione **draw_secant()**, som lige nu bare plotter vores ikke-lineære funktion mellem x-værdierne -20 og 30.\n"
      ]
    },
    {
      "cell_type": "markdown",
      "metadata": {
        "id": "EZA-Yhtrmf_N"
      },
      "source": [
        "**øvelse** \n",
        "\n",
        "Lad os prøve at definere funktionen **draw_secant()**, som accepterer 2 x-værdier som en liste\n",
        "og tegner sekantlinjen, der forbinder disse 2 punkter. Denne funktion skal:\n",
        "\n",
        "* Bestemme y-værdierne for disse 2 x-værdier ved hjælp af vores ikke-lineære funktion.\n",
        "* Beregne hældningen mellem disse 2 punkter.\n",
        "* Beregne y-skæringspunktet ved hjælp af aritmetik.\n",
        "* Plotte sekantlinjen ved hjælp af farven \"grøn\".\n",
        "* Vise alle plottene i funktionen.\n",
        "\n",
        "Brug funktionen draw_secant() til at generere 3 plot:\n",
        "* En visualisering af sekantlinjen mellem x-værdierne 3 og 5.\n",
        "* En visualisering af sekantlinjen mellem x-værdierne 3 og 10.\n",
        "* En visualisering af sekantlinjen mellem x-værdierne 3 og 15\n"
      ]
    },
    {
      "cell_type": "code",
      "metadata": {
        "id": "uVwvJFn5nDYr"
      },
      "source": [
        "import seaborn\n",
        "seaborn.set(style='darkgrid')\n",
        "\n",
        "def draw_secant(x_values):\n",
        "    x = np.linspace(-20,30,100)\n",
        "    y = -1*(x**2) + x*3 - 1\n",
        "    plt.plot(x,y)\n",
        "\n",
        "    \n",
        "#draw_secant([3,15])"
      ],
      "execution_count": null,
      "outputs": []
    },
    {
      "cell_type": "code",
      "metadata": {
        "colab": {
          "base_uri": "https://localhost:8080/",
          "height": 523
        },
        "id": "HQAHxE1pel7b",
        "outputId": "ee8f2237-3d55-405f-eb9a-a4a51efb6cf5"
      },
      "source": [
        "iframe = '<iframe src=\"https://www.desmos.com/calculator/i4s0yotljp\" width=\"1000px\" height=\"500px\" style=\"border: 1px solid #ccc\" frameborder=0></iframe>'\n",
        "IPython.display.HTML(iframe)\n"
      ],
      "execution_count": 65,
      "outputs": [
        {
          "output_type": "execute_result",
          "data": {
            "text/html": [
              "<iframe src=\"https://www.desmos.com/calculator/i4s0yotljp\" width=\"1000px\" height=\"500px\" style=\"border: 1px solid #ccc\" frameborder=0></iframe>"
            ],
            "text/plain": [
              "<IPython.core.display.HTML object>"
            ]
          },
          "metadata": {
            "tags": []
          },
          "execution_count": 65
        }
      ]
    },
    {
      "cell_type": "markdown",
      "metadata": {
        "id": "1AExEik4nRdk"
      },
      "source": [
        "#### Del 1.7\n",
        "I det delafsnit plottede vi sekantlinjer mellem den faste $x_1$ værdi og stadig større $x_2$ værdier. Da afstanden mellem $x_1$ og $x_2$ var lille, *krydsede* sekantlinjen nemt med vores kurve. Da vi øgede afstanden mellem de 2 x-værdier, begyndte sekantlinjen at afvige fra vores kurve. Denne observation er kritisk for at forstå hvordan hældning fungerer for kurver.\n",
        "\n",
        "Hældningen på en kurve på et bestemt punkt forstås bedst som hældningen af sekantlinjen med stadig mindre intervaller af $[x_1, x_2]$. Jo mindre forskellen mellem $x_1$ og $x_2$, jo mere præcist tilnærmer sekantlinjen hældningen på det punkt på vores kurve.\n",
        "\n",
        "Gå tilbage til den interaktive visualisering og hold $a$ ved 3 mens du ændrer $h$, som her er afstand mellem de to punkter  $[x_1, x_2]$.\n",
        "Skift værdier mellem 2.5 til 3 og fra 3.5 til 3. Hvilken værdi nærmer hældningen sig? Hvad sker når $x_1$ og $x_2$ er de samme?\n"
      ]
    },
    {
      "cell_type": "markdown",
      "metadata": {
        "id": "TuiihteUpGKR"
      },
      "source": [
        "#### Del 1.8\n",
        "Når $x_1$ og $x_2$ har samme værdi, er hældningsværdien **udefineret**. Dette skyldes, at **deling med 0** ingen mening har i matematiske beregninger.\n",
        "\n",
        "$m = \\frac{-1--1}{3-3} = \\frac{0}{0} = \\text{undefined}$\n",
        "\n",
        "Når $x_2$ nærmer sig $x_1$ fra hvilken som helst side af kurven, er hældningen af den sekante linje imidlertid nær -3. Her er en tabel, der viser hældningsværdierne for stadig smalere huller mellem $x_1$ og $x_0$:\n",
        "\n",
        "\n",
        "$$\n",
        "\\begin{matrix}\n",
        "\\hline\n",
        "\\textbf{x2} & \\textbf{x1} & \\textbf{m} \\\\ \\hline\n",
        "2.9         & 3           & -2.9       \\\\\n",
        "2.99        & 3           & -2.99      \\\\\n",
        "2.999       & 3           & -2.999     \\\\\n",
        "3.01        & 3           & -3.01      \\\\\n",
        "3.001       & 3           & -3.001     \\\\\n",
        "3.0001      & 3           & -3.0001    \\\\ \\hline\n",
        "\\end{matrix}\n",
        "$$\n"
      ]
    },
    {
      "cell_type": "markdown",
      "metadata": {
        "id": "vAB-lsCxqTb7"
      },
      "source": [
        "Selvom vi ikke kan beregne hældningen på det punkt, hvor $x_0 = x_1 = 3$, kan vi udlede fra tabellen og grafen fra det sidste trin, at den nærmer sig -3. Denne værdi er kendt som **den øjeblikkelige vækstrate**, fordi den beskriver hældningen på et bestemt punkt. I lineære funktioner, er den øjeblikkelige vækstrate på ethvert punkt på linjen den samme. I\n",
        "ikke-lineære funktioner, beskriver den øjeblikkelige ændringshastighed grafens stejlhed af funktionen på et bestemt punkt.\n",
        "\n",
        "Denne linje er kendt som **tangenten**, og i modsætning til sekantlinjen skærer den kun vores funktion på ét tidspunkt. Indtil videre har vi arbejdet med sekantlinjer, der forbinder 2 punkter, der er tættere sammen. Du kan tænke på tangentlinjen som sekantlinjen når begge punkter er de samme. For nu bliver vi nødt til at lære at arbejde med den udefenerede værdi, som vi får når vi prøver at beregne tangentlinjen direkte.\n"
      ]
    },
    {
      "cell_type": "markdown",
      "metadata": {
        "id": "2c3vxe9XrWKW"
      },
      "source": [
        "#### Del 1.x - Opsummering\n",
        "\n"
      ]
    },
    {
      "cell_type": "markdown",
      "metadata": {
        "id": "bK8GyloWrtZu"
      },
      "source": [
        "##### Syntaks:\n",
        "\n",
        "* Generer et Numpy array med 100 værdier mellem 0 og 3: "
      ]
    },
    {
      "cell_type": "code",
      "metadata": {
        "id": "VOOC8F66rvKD"
      },
      "source": [
        "import numpy as np\n",
        "x = np.linspace(0, 3, 100)"
      ],
      "execution_count": null,
      "outputs": []
    },
    {
      "cell_type": "markdown",
      "metadata": {
        "id": "cd1rRaWnsF6U"
      },
      "source": [
        "* Plot $y = -(x^2) + 3x - 1$:"
      ]
    },
    {
      "cell_type": "code",
      "metadata": {
        "id": "G4ewZKzNr6a7"
      },
      "source": [
        "y = -1 * (x ** 2) + 3*x - 1\n",
        "plt.plot(x,y)"
      ],
      "execution_count": null,
      "outputs": []
    },
    {
      "cell_type": "markdown",
      "metadata": {
        "id": "jMLy7n5rsWUE"
      },
      "source": [
        "* Plot en sekantlinje:"
      ]
    },
    {
      "cell_type": "code",
      "metadata": {
        "id": "kaXZ9H51sOvq"
      },
      "source": [
        " x_0 = x_values[0]\n",
        " x_1 = x_values[1]\n",
        " y_0 = -1*(x_0**2) + x_0*3 - 1\n",
        " y_1 = -1*(x_1**2) + x_1*3 - 1\n",
        " m = (y_1 - y_0) / (x_1 - x_0)\n",
        " b = y_1 - m*x_1 \n",
        " y_secant = x*m + b\n",
        " plt.plot(x, y_secant, c='green')\n",
        " plt.show()"
      ],
      "execution_count": null,
      "outputs": []
    },
    {
      "cell_type": "markdown",
      "metadata": {
        "id": "LvrYPTCCskKS"
      },
      "source": [
        "##### Hovedkoncepter:\n",
        "\n",
        "* Calculus hjælper os med at:\n",
        "  * Forstå stejlheden på forskellige punkter.\n",
        "  * Finde de ekstreme punkter i en funktion.\n",
        "  * Bestemme den optimale funktion, der bedst repræsenterer et datasæt.\n",
        "* En lineær funktion er en lige linje.\n",
        "* Hvis $m$ og $b$ er konstante værdier, hvor $x$ og $y$ er variabler, så er funktionen for en lineær funktion:\n",
        "\n",
        "$y = mx + b$\n",
        "\n",
        "* I en lineær funktion styrer $m$ værdien, hvor stejl en linje er, mens $b$ værdien styrer en linjes y-skæring, eller hvor linjen krydser $y$ aksen.\n",
        "\n",
        "* En måde at tænke på hældning er som en ændringshastighed. Mere konkret, hældning er hvor meget y-aksen ændrer sig for en bestemt ændring i x-aksen. Hvis ($x_1, y_1$) og ($x_2, y_2$) er 2 koordinater på en linje er hældningsligningen:\n",
        "\n",
        "$m = \\frac{y_1 - y_2}{x_1 - x_2}$\n",
        "\n",
        "* Når $x_1$ og $x_2$ er ækvivalente, er hældningen udefineret, fordi delingen af 0 ikke har nogen betydning i matematik.\n",
        "\n",
        "* Ikke-lineære funktioner repræsenterer kurver, og deres outputværdier ($y$) er ikke proportionale med deres inputværdier ($x$).\n",
        "\n",
        "* Eksempler på ikke-lineære funktioner inkluderer:\n",
        "  * $y = x^3$\n",
        "  * $y = x^3 + 3x^2 + 2x - 1$\n",
        "  * $y = \\frac{1}{-x^2}$\n",
        "  * $y = \\sqrt{x}$\n",
        "\n",
        "* En linje, der skærer to punkter på en kurve, er kendt som en sekantlinie.\n",
        "\n",
        "* Hældningen mellem to givne punkter er kendt som den øjeblikkelige ændringshastighed. For lineære funktioner, er ændringshastigheden den samme på ethvert punkt på linjen. For ikke-lineær funktion, beskriver øjeblikkelig ændringshastighed hældningen af linjen, der er vinkelret på den ikke-lineære\n",
        "funktion på et bestemt punkt.\n",
        "\n",
        "* Linjen, der er vinkelret på den ikke-lineære funktion på et bestemt punkt, er kendt som tangentlinien og skærer kun funktionen på ét tidspunkt.\n"
      ]
    }
  ]
}