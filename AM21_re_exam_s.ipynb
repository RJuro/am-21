{
  "nbformat": 4,
  "nbformat_minor": 0,
  "metadata": {
    "colab": {
      "name": "AM21-re-exam-s.ipynb",
      "provenance": [],
      "collapsed_sections": [],
      "authorship_tag": "ABX9TyNet7oxMYYPG1ZP9z6ePJtt",
      "include_colab_link": true
    },
    "kernelspec": {
      "name": "python3",
      "display_name": "Python 3"
    },
    "language_info": {
      "name": "python"
    }
  },
  "cells": [
    {
      "cell_type": "markdown",
      "metadata": {
        "id": "view-in-github",
        "colab_type": "text"
      },
      "source": [
        "<a href=\"https://colab.research.google.com/github/RJuro/am-21/blob/main/AM21_re_exam_s.ipynb\" target=\"_parent\"><img src=\"https://colab.research.google.com/assets/colab-badge.svg\" alt=\"Open In Colab\"/></a>"
      ]
    },
    {
      "cell_type": "markdown",
      "metadata": {
        "id": "K1DZR6KIhI3S"
      },
      "source": [
        "# Eksamen: Anvendt Matematik\n",
        "\n",
        "Opgaven har 2 dele. Lineær algebra og calculus.\n",
        "\n",
        "#### Rules of the game:\n",
        "\n",
        "- Don't panic! - Hvis koden ikke virker (men virkede før). Gå tilbage, og kør oppefra ned. Også en god ide at tjekke, at koden er fejlfri ved at gøre denne øvelse undervejs.\n",
        "- ... erstattes med kode\n",
        "- De fleste kodefejl er dumme stavefejl. Vær omhyggelig med kommaer, punkter etc.\n",
        "- Hvis der er noget, som slet ikke kan løses, så kan du bare kommentere ud med `#`\n",
        "- Husk, at output skal kunne ses (f.eks. dine plots)\n",
        "- Play fair og lad være med at snyde!  \n",
        "- Brug objektnavne, der blev defineret i opgaven\n",
        "- Der afleveres som 👉 `ipynb` (**ikke PDF!**) - dvs, du skal bare downloade den fil du arbejder med fra colab eller bare aflevere den ipynb fil som du har åbent i Jupyter Lab."
      ]
    },
    {
      "cell_type": "code",
      "metadata": {
        "id": "aQCPCa7JO5V0"
      },
      "source": [
        "# importer pakker\n",
        "from sympy import *\n",
        "import numpy as np\n",
        "np.set_printoptions(suppress=True)\n",
        "from scipy import linalg\n",
        "import matplotlib.pyplot as plt"
      ],
      "execution_count": null,
      "outputs": []
    },
    {
      "cell_type": "markdown",
      "metadata": {
        "id": "WeGinvNbETnH"
      },
      "source": [
        "## Del 1: Lineær Algebra - Vejgaards Ruller\n",
        "\n",
        "![](https://source.unsplash.com/n1DePkKznLY)\n",
        "\n",
        "Manageren for sushistedet \"Vejgaards Ruller\" vil gerne finde ud af hvordan man kan tjene mere ved at optimere produktion af 2 forskellige sushi-typer - Vandmanden og Mågen.\n",
        "\n",
        "| Ingredienser/Type               | Vandmanden | Mågen | På lager**| enhed |\n",
        "|---------------------------------|------------|-------|----------|-------|\n",
        "| Ris                             |        120 |   200 |    10000 | gram  |\n",
        "| Nori*                           |          1 |     2 |      120 | stk   |\n",
        "| Rejer                           |          4 |     8 |      500 | stk   |\n",
        "| Avokado                         |        0.5 |     1 |      100 | stk   |\n",
        "| Chef                            |       0.17 |  0.09 |        8 | timer |\n",
        "| Pris per stor rulle / anretning |         85 |   110 |          | dkk   |\n",
        "\n",
        "*Nori sushi tang er den traditionelle japanske tang, der bruges til at rulle sushi-rullerne.\n",
        "\n",
        "** Viser hvor meget der er til rådighed per produktionscyklus\n",
        "\n"
      ]
    },
    {
      "cell_type": "code",
      "metadata": {
        "id": "FHHEnY4KQZVS"
      },
      "source": [
        "# 1.1 - Grafisk løsning\n",
        "# Plot de 5 funktioner med Vandmanden (v_plot værdier) på x-aksen og Mågen på y-aksen\n",
        "\n",
        "# Brug np.linspace til at generere 200 værdier mellem 0 og 250 som v_plot\n",
        "\n",
        "v_plot = ..."
      ],
      "execution_count": null,
      "outputs": []
    },
    {
      "cell_type": "code",
      "metadata": {
        "id": "naDlTZaRQgSy"
      },
      "source": [
        "# omskriv ligninger til at beregne m-værdier (m_plot_1 - m_plot_5 som i mågen-værdier)\n",
        "# måske en god idé lige at skrive ligninger på papir først\n",
        "\n",
        "m_plot_1= ...\n",
        "m_plot_2= ...\n",
        "m_plot_3= ...\n",
        "m_plot_4= ...\n",
        "m_plot_5= ..."
      ],
      "execution_count": null,
      "outputs": []
    },
    {
      "cell_type": "code",
      "metadata": {
        "id": "hOi6phD5RkIo"
      },
      "source": [
        "# 1.2\n",
        "\n",
        "# Plot\n",
        "\n",
        "plt.axis([0, 250, 0, 120])\n",
        "plt.xlabel('Vandmanden')\n",
        "plt.ylabel('Mågen')\n",
        "\n",
        "plt.plot(..., ..., color = \"red\") # ris\n",
        "plt.plot(..., ..., color = \"gold\") # nori\n",
        "plt.plot(..., ..., color = \"blue\") # rejer\n",
        "plt.plot(..., ..., color = \"green\") # avokado\n",
        "plt.plot(..., ..., color = \"black\") # arbejde/chef"
      ],
      "execution_count": null,
      "outputs": []
    },
    {
      "cell_type": "markdown",
      "metadata": {
        "id": "8_VrauOJJ-gq"
      },
      "source": [
        "Vi antager følgende (mht 1.3.1 og 1.3.2):\n",
        "- de to typer af sushi er det eneste, som Vejgaards Ruller producerer\n",
        "- madvarer kan ikke holde længere end vores produktionscyklus\n",
        "- Vi kan ikke udvide mængder af vores inputs\n"
      ]
    },
    {
      "cell_type": "code",
      "metadata": {
        "id": "w-sDTP0HKbwX"
      },
      "source": [
        "# 1.3.1 Hvor mange ruller af de to typer kan der produceres? (aflæs cirka værdi fra grafisk løsning)\n",
        "\n",
        "q_vandmanden = ...\n",
        "q_mågen = ..."
      ],
      "execution_count": null,
      "outputs": []
    },
    {
      "cell_type": "code",
      "metadata": {
        "id": "KKUzBVtLK1G4"
      },
      "source": [
        "# 1.3.2 Hvad har vi købt for meget af? (skriv tekst; flere svar OK)\n",
        "\n",
        "svar_1_4 = '...'"
      ],
      "execution_count": null,
      "outputs": []
    },
    {
      "cell_type": "markdown",
      "metadata": {
        "id": "NdcGepbBLLqz"
      },
      "source": [
        "#### Løsning af matrixligningen\n",
        "\n",
        "Vi kan finde en præcis løsning af vores ligningssystem for ris og arbejde(chef) ligninger ved at løse matrixligningen $A\\vec{x} = \\vec{b}$\n",
        "Opgaven er mere frit og du skal vise, at du selv kan udføre alle trin.\n",
        "Du skal finde løsningen \"manuelt\" dvs. ikke ved at bruge `scipy.linalg.solve` eller sympy. Du må dog gerne bruge det for at tjekke, om dine beregninger passer...\n",
        "\n",
        "\n",
        "Du skal bruge følgende python objekter:\n",
        "\n",
        "\n",
        "*   $A$: `matrix_a`\n",
        "*   $A^{-1}$: `matrix_a_inv`\n",
        "*   $\\vec{b}$: `vector_b`\n",
        "* $\\vec{x}$: `vector_x`\n",
        "\n"
      ]
    },
    {
      "cell_type": "code",
      "metadata": {
        "id": "GDt_UN3tR33X"
      },
      "source": [
        "# 1.4.1\n",
        "# definer matrix A\n",
        "matrix_a = ...\n",
        "\n",
        "# definer vector b\n",
        "vector_b = ..."
      ],
      "execution_count": null,
      "outputs": []
    },
    {
      "cell_type": "code",
      "metadata": {
        "id": "KkCWPsxKUttg"
      },
      "source": [
        "# 1.4.2\n",
        "# beregn A^-1\n",
        "matrix_a_inv = ..."
      ],
      "execution_count": null,
      "outputs": []
    },
    {
      "cell_type": "code",
      "metadata": {
        "id": "IDipJmd-UwiV"
      },
      "source": [
        "# 1.4.3 beregn vector_x\n",
        "vector_x = ...\n",
        "print(vector_x)"
      ],
      "execution_count": null,
      "outputs": []
    },
    {
      "cell_type": "markdown",
      "metadata": {
        "id": "jYyaMnhaLyS9"
      },
      "source": [
        "#### Hvordan øger man output?\n",
        "\n",
        "Du vil rigtig gerne øge dit output til 40 ruller vandmanden / 45 ruller mågen \n",
        "dvs. $\\vec{x_{ny}} = \\begin{bmatrix}\n",
        "    40 \\\\\n",
        "    45 \\\\\n",
        "\\end{bmatrix} $\n",
        "Vi ved, at $A\\vec{x} = \\vec{b}$. Overvej, hvordan du kan finde den tilsvarende vektor $\\vec{b_{ny}}$, som viser hvor mange timer arbejde og gram ris der skal til så man kan producere den ønskede mængde."
      ]
    },
    {
      "cell_type": "code",
      "metadata": {
        "id": "W0827-kSUzKQ"
      },
      "source": [
        "# 1.5 beregn vector_b_ny\n",
        "vector_x_ny = ...\n",
        "vector_b_ny = ...\n",
        "print(vector_b_ny)"
      ],
      "execution_count": null,
      "outputs": []
    },
    {
      "cell_type": "markdown",
      "metadata": {
        "id": "3TrSbmIBOxl-"
      },
      "source": [
        "#### Rækkeoperationer\n",
        "\n",
        "Der kunne findes en souschef, som vil komme ind på deltid og arbejde 3 timer - dvs. vi har nu 11 timer arbejde til rådighed. Vi kan også antage, at der kunne købes en del mere ris, således det ikke længere er en begrænsning.\n",
        "\n",
        "I denne opgave skal du bruge rækkeoperationer til at finde løsningen.\n",
        "\n",
        "1.   Du skal først definere en augmenteret matrix som `np.array` der repræsenterer de 2 ligninger for **arbejde(chef) og nori**. \n",
        "2.   Derefter skal du bruge rækkeoperationer (kode!!!) for at omskrive til reduceret trappeform (reduceret række-echelon form).\n",
        "\n",
        "f.eks.: `augmented[0] = augmented[0]/augmented[0,0]`\n",
        "\n",
        "Til sidst har din matrix denne form: \n",
        "\n",
        "$$\\left[\\begin{array}{rr|r}\n",
        "1 & 0 & ? \\\\ \n",
        "0 & 1 & ?\n",
        "\\end{array}\\right]$$\n",
        "\n",
        "3. Her vil du kunne aflæse resultatet i søjlevektoren på højre sidde.\n",
        "\n"
      ]
    },
    {
      "cell_type": "code",
      "metadata": {
        "id": "ubD8gAaBVejp"
      },
      "source": [
        "## 1.6.1 definer augmenteret matrix\n",
        "\n",
        "augmented = "
      ],
      "execution_count": null,
      "outputs": []
    },
    {
      "cell_type": "code",
      "metadata": {
        "id": "5rNCLanZXsf3"
      },
      "source": [
        "# 1.6.2\n",
        "\n",
        "# Brug rækkeoperationer (så mange som du har brug for) for at omskrive til reduceret trappeform\n",
        "# Her er den første operation, som du kan bruge\n",
        "# Tilføj så mange cells som du har brug for...\n",
        "augmented[0] = augmented[0]/augmented[0,0]"
      ],
      "execution_count": null,
      "outputs": []
    },
    {
      "cell_type": "code",
      "metadata": {
        "id": "RP1oiI01X46n"
      },
      "source": [
        "# OBS: Det er en god ide at tjekke din matrix undervejs - du kan tilføje en celle, vise matrix \n",
        "# (bare skriv \"augmented\" og udfør og slet igen...)\n",
        "\n",
        "augmented"
      ],
      "execution_count": null,
      "outputs": []
    },
    {
      "cell_type": "code",
      "metadata": {
        "id": "in5zy15SYAVI"
      },
      "source": [
        "# print resultatet der viser hvor mange ruller der nu kan laves\n",
        "print(augmented)"
      ],
      "execution_count": null,
      "outputs": []
    },
    {
      "cell_type": "markdown",
      "metadata": {
        "id": "0_tJwfUkRQHA"
      },
      "source": [
        "#### Investering i flere inputs\n",
        "\n",
        "Manageren prøver at finde ud af om det kan betale sig, at **investere i flere arbejdstimer og indkøb af mere ris** (vi glemmer lige andre inputs her for nu).\n",
        "\n",
        "Du har tidligere lavet en beregning, der viser hvor meget ris og arbejde der skal til således der kan produceres 40 ruller vandmanden / 45 ruller mågen (hvis den ikke lykkedes, må du bruge 10.85 timer til din beregning her).\n",
        "Du kan også bruge 32 og 33 som værdier til de originale optimale mængder.\n",
        "\n",
        "Du kan antage følgende omkostninger for indkøb af yderlige input:\n",
        "- Ris: 60kr\n",
        "- Nori: 80kr\n",
        "- Rejer: 200kr\n",
        "\n",
        "Lav følgende beregninger for at samligne ændringen i omsætning med ændring af omkostninger\n",
        "\n",
        "*   Omsætning med oprindelige input og output mængder\n",
        "*   Omsætning med øgede mængder output\n",
        "*   Tilvækst af omsætning\n",
        "*   Omkostninger ekstra arbejde og yderlige indkøb\n",
        "\n",
        "Kan det betale sig?\n"
      ]
    },
    {
      "cell_type": "code",
      "metadata": {
        "id": "IdTMbORXZrXj"
      },
      "source": [
        "# 1.7 \n",
        "# omsætning original (brug priser fra tabel)\n",
        "\n",
        "oms = ..."
      ],
      "execution_count": null,
      "outputs": []
    },
    {
      "cell_type": "code",
      "metadata": {
        "id": "srzZgPwIZ6T7"
      },
      "source": [
        "# omsætning ny\n",
        "\n",
        "oms_n = ..."
      ],
      "execution_count": null,
      "outputs": []
    },
    {
      "cell_type": "code",
      "metadata": {
        "id": "r_HxtOi_aKm1"
      },
      "source": [
        "# tilvækst omsætning\n",
        "\n",
        "delta_oms = ..."
      ],
      "execution_count": null,
      "outputs": []
    },
    {
      "cell_type": "code",
      "metadata": {
        "id": "Ky4J4jvXaT4d"
      },
      "source": [
        "# tilvækst omkostninger\n",
        "\n",
        "delta_c = ..."
      ],
      "execution_count": null,
      "outputs": []
    },
    {
      "cell_type": "code",
      "metadata": {
        "id": "Eku0CA0KahOw"
      },
      "source": [
        "# ændring profit\n",
        "# Er det en god ide at udvide?\n",
        "\n",
        "delta_p = ...\n",
        "print(delta_p)"
      ],
      "execution_count": null,
      "outputs": []
    },
    {
      "cell_type": "markdown",
      "metadata": {
        "id": "VNgQVHOemABj"
      },
      "source": [
        "## Calculus - Logistik og profitmaksimering\n",
        "\n",
        "![](https://source.unsplash.com/jOqJbvo1P9g)"
      ]
    },
    {
      "cell_type": "markdown",
      "metadata": {
        "id": "xoVfEY7g0y0Z"
      },
      "source": [
        "En af Danmarks mindre containerhavne overvejer, om de skal justere deres daglige kapaciteter. \n",
        "$q$ er mængden af containere, $p$ en angivet i kr. pr. container, der kommer igennem havnen.\n",
        "\n",
        "* Deres omkostningsfunktion er:\n",
        "$C(q) = 6000-25q+0.03q^{2}+0.00009q^{3}$\n",
        "* Efterspørgslen er givet som:\n",
        "$p(q) = 320+0.025q-0.00085q^{2}$ dvs. prisen er ikke konstant men ændrer sig (lidt) med ændringer af $q$\n"
      ]
    },
    {
      "cell_type": "code",
      "metadata": {
        "id": "8OJjz7_oxIyY"
      },
      "source": [
        "# 2.1 plot C(q)\n",
        "# definer 200 punkter mellem 0 og 500 med np.linspace i objektet q_plot\n",
        "\n",
        "q_plot = ...\n",
        "\n",
        "# beregn tilsvarende p-værdier ud fra q_plot og plot C(q)\n",
        "\n",
        "p_plot_1 = ...\n",
        "\n",
        "plt.xlabel('Mængde (q)')\n",
        "plt.ylabel('Kr.')\n",
        "\n",
        "plt.plot(q_plot, p_plot_1, color = \"red\")"
      ],
      "execution_count": null,
      "outputs": []
    },
    {
      "cell_type": "code",
      "metadata": {
        "id": "bIJeEODi2A1K"
      },
      "source": [
        "# 2.2 Definer symboler p, q og h (kør bare)\n",
        "\n",
        "p, q, h = symbols('p, q, h')"
      ],
      "execution_count": null,
      "outputs": []
    },
    {
      "cell_type": "code",
      "metadata": {
        "id": "bXDGpg_o2EFb"
      },
      "source": [
        "# opstil sympy ligninger for omkostninger C(q) og efterspørgsel p(q)\n",
        "\n",
        "C_q = ...\n",
        "p_q = ..."
      ],
      "execution_count": null,
      "outputs": []
    },
    {
      "cell_type": "code",
      "metadata": {
        "id": "GCpktc0H2PFT"
      },
      "source": [
        "# vis C_q\n",
        "C_q"
      ],
      "execution_count": null,
      "outputs": []
    },
    {
      "cell_type": "code",
      "metadata": {
        "id": "dF4PJu7k2RMy"
      },
      "source": [
        "# vis p_q\n",
        "p_q"
      ],
      "execution_count": null,
      "outputs": []
    },
    {
      "cell_type": "markdown",
      "metadata": {
        "id": "pAEWGYSTrGSH"
      },
      "source": [
        "#### 2.3 Beregn minimum for $C(q)$\n",
        "\n",
        "* beregning skal foretages \"manuelt\" hvor du først skal finde $C'(q)$ ved at beregne $\\lim_{h \\to 0} \\frac{f(x + h) - f(x)}{h}$, hvor $C(q)$ indsættes for $f(x)$ dvs. $\\lim_{h \\to 0} \\frac{C(q + h) - C(q)}{h}$\n",
        "*$h$ blev allerede oprettet som Sympy symbol"
      ]
    },
    {
      "cell_type": "code",
      "metadata": {
        "id": "4Lbia_HAxJpo"
      },
      "source": [
        "# 2.3.1\n",
        "# definer C(q+h)\n",
        "\n",
        "C_q_h = C_q.subs(..., ...)"
      ],
      "execution_count": null,
      "outputs": []
    },
    {
      "cell_type": "code",
      "metadata": {
        "id": "eEE97s912T2s"
      },
      "source": [
        "# 2.3.2\n",
        "# beregn grænseværdien / marginalomkostninger MC\n",
        "\n",
        "MC = limit(..., ..., ...)\n",
        "MC"
      ],
      "execution_count": null,
      "outputs": []
    },
    {
      "cell_type": "code",
      "metadata": {
        "id": "rV8JfQjB2boD"
      },
      "source": [
        "# du kan tjekke, om grænseværdien er lige med den (automatisk) afledede funktion (sympy diff) for at være sikker...\n",
        "\n",
        "diff(C_q)\n",
        "\n",
        "# hvis du ikke kan løse 2.3.2, så må du gerne definere MC som diff(C_q) og bruge det herfra (bare uncomment)\n",
        "# MC = diff(C_q)"
      ],
      "execution_count": null,
      "outputs": []
    },
    {
      "cell_type": "code",
      "metadata": {
        "id": "C1zRxF4H2gct"
      },
      "source": [
        "# 2.3.3\n",
        "# hvor mange containere skal der igennem havnen per dag, hvis man vil minimere omkostninger?\n",
        "# brug Sympy solve til a finde q, hvor C minimeres\n",
        "solutions = solve(...)\n",
        "print(solutions)"
      ],
      "execution_count": null,
      "outputs": []
    },
    {
      "cell_type": "markdown",
      "metadata": {
        "id": "vyBsiZHqtIsB"
      },
      "source": [
        "#### 2.4 - Find tangentlinjen \n",
        "\n",
        "- Beregn den generelle lineære ligning $t = mx+b$  (eller hvis man bruger vores variabler, $p = mq + b $) der beskriver tangenten i $q_{t} = 100$\n",
        "- Du skal først finde $p_{t}$\n",
        "- Brug **MC** beregnet i 2.3 eller (hvis du ikke kunne finde svaret) ved at bruge sympy `diff` og beregn hældning $m$ i $q_{t}$\n",
        "- plot $C(q)$ og $t(q)$ i $q_{t} = 100$\n"
      ]
    },
    {
      "cell_type": "code",
      "metadata": {
        "id": "d3SL5M602sVY"
      },
      "source": [
        "# 2.4.1\n",
        "# beregning p_t\n",
        "p_t = C_q.subs(..., ...)\n",
        "print(p_t)"
      ],
      "execution_count": null,
      "outputs": []
    },
    {
      "cell_type": "code",
      "metadata": {
        "id": "qgXHRDTQ5zBm"
      },
      "source": [
        "# 2.4.2\n",
        "# beregning m\n",
        "m = MC.subs(..., ...)\n",
        "print(m)"
      ],
      "execution_count": null,
      "outputs": []
    },
    {
      "cell_type": "code",
      "metadata": {
        "id": "RBON0ch56h_x"
      },
      "source": [
        "# 2.4.3\n",
        "# beregn b\n",
        "\n",
        "b = ...\n",
        "print(b)"
      ],
      "execution_count": null,
      "outputs": []
    },
    {
      "cell_type": "code",
      "metadata": {
        "id": "fFvx5HK_7VTd"
      },
      "source": [
        "# 2.4.4\n",
        "# brug tangentlining t = mx + b for at beregne p_plot_t hvor du bruger q_plot (fra 2.1 som \"x\"-værdier) og de lige beregnede m og b\n",
        "p_plot_t = ..."
      ],
      "execution_count": null,
      "outputs": []
    },
    {
      "cell_type": "code",
      "metadata": {
        "id": "ZcyUfFuV7t5Y"
      },
      "source": [
        "# plot C(q) og t(q) - Bare udfør uden ændringer\n",
        "\n",
        "plt.xlabel('Mængde (q)')\n",
        "plt.ylabel('Kr.')\n",
        "\n",
        "plt.plot(q_plot, p_plot_1, color = \"red\")\n",
        "plt.plot(q_plot, p_plot_t, color = \"gold\")"
      ],
      "execution_count": null,
      "outputs": []
    },
    {
      "cell_type": "markdown",
      "metadata": {
        "id": "BFhGeUxDzjMX"
      },
      "source": [
        "\n",
        "* Indtægter: $R(q) = p(q) · q$\n",
        "* Marginalomkostninger $MC = C'(q)$ (omkostninger ved at producere +1 enhed)\n",
        "* Marginalindtægter $MR = R'(q)$ (indtægter ved at sælge +1 enhed)\n",
        "\n",
        "Monopol mængte er $q_{m}$ hvor $MC = MR$"
      ]
    },
    {
      "cell_type": "code",
      "metadata": {
        "id": "1lbdHuI47yzD"
      },
      "source": [
        "# 2.5.1 Definer R_q og MR (MC blev defineret tidligere)\n",
        "R_q = ...\n",
        "MR = ..."
      ],
      "execution_count": null,
      "outputs": []
    },
    {
      "cell_type": "code",
      "metadata": {
        "id": "OTIYerj5Dgbr"
      },
      "source": [
        "# 2.5.2 Opstil som ligninger MC(q) = p og MR(q) = p\n",
        "MC_eq = Eq(...,...)\n",
        "MR_eq = Eq(...,...)"
      ],
      "execution_count": null,
      "outputs": []
    },
    {
      "cell_type": "code",
      "metadata": {
        "id": "S_pRenIoDwfw"
      },
      "source": [
        "# Beregn monopolmænge og marginalpris hvor MC = MR med sympy solve\n",
        "solve([...,...])"
      ],
      "execution_count": null,
      "outputs": []
    }
  ]
}