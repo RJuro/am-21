{
  "cells": [
    {
      "cell_type": "markdown",
      "metadata": {
        "id": "view-in-github",
        "colab_type": "text"
      },
      "source": [
        "<a href=\"https://colab.research.google.com/github/RJuro/am-21/blob/main/AM2022_peergrade1_ed.ipynb\" target=\"_parent\"><img src=\"https://colab.research.google.com/assets/colab-badge.svg\" alt=\"Open In Colab\"/></a>"
      ]
    },
    {
      "cell_type": "markdown",
      "metadata": {
        "id": "SvW_VeLTxRHw"
      },
      "source": [
        "# Anvendt Matematik 2022 - Peergrade Opgave1\n",
        "\n",
        "- Du må gerne arbejde sammen med din gruppe eller andre.\n",
        "- Din aflevering er individuel\n",
        "- Du skal selv oprette jupyter celler\n",
        "- Brug notebooks fra undervisningen som eksempel mht. navngivning af objekter, kommentering af kode etc.\n",
        "- Opgaven er i den mere udfordrende ende og kan ikke løses ved ”bare” at reproducere fra undervisningen. Der er dog ingen nye typer af beregniger/matematik, som ikke blev præsenteret i undervisningen.\n",
        "- Der afleveres som **PDF**!\n"
      ]
    },
    {
      "cell_type": "markdown",
      "metadata": {
        "id": "vodAWH4NjXw0"
      },
      "source": [
        "#1. FjordBikes\n",
        "\n",
        "![](https://source.unsplash.com/lYL_IlgaJVc)\n",
        "\n",
        "Varsomheden FjordBikes vil gerne udvide deres tilbud med en ny type el-cykel.\n",
        "\n",
        "Økonomiafdelingen har leveret tal for hvad en ny produktionslinje vil koste og hvilken omsætning de kan forvente.\n",
        "\n",
        "- Omkostningsfunktionen er ifølge deres tal $ C(x) = 5.576x + 229600 $; \n",
        "- Indtægter kan forventes at være $ R(x) = 10.168x $\n",
        "\n",
        "$C(x)$ og $R(x)$ kan skrives som $y$ og er givet i kr. ; $x$ beskriver antal af producerede cykler.\n",
        "\n",
        "Din opgave er at bruge forskellige løsningstilgange til at finde deres Break-Even punkt."
      ]
    },
    {
      "cell_type": "code",
      "execution_count": 1,
      "metadata": {
        "id": "SJbmE8r3VdsB"
      },
      "outputs": [],
      "source": [
        "# Pakker, der skal bruges i opgaven\n",
        "\n",
        "import numpy as np\n",
        "import matplotlib.pyplot as plt\n",
        "\n",
        "np.set_printoptions(suppress=True)"
      ]
    },
    {
      "cell_type": "markdown",
      "metadata": {
        "id": "CB01ty0hkeY7"
      },
      "source": [
        "## 1.1 Grafisk løsning\n",
        "\n",
        "Lav en plot, som viser deres Break-Even punkt. \n",
        "OBS: Du kan definere 1000 x-værdier mellem 0 og 60000."
      ]
    },
    {
      "cell_type": "code",
      "source": [
        "x_plot = np.linspace(0, 60000, num = 1000)"
      ],
      "metadata": {
        "id": "Y1O8Pqnl9Z4U"
      },
      "execution_count": 3,
      "outputs": []
    },
    {
      "cell_type": "code",
      "source": [
        "y_plot_1 = 229600 + 5.576*x_plot\n",
        "y_plot_2 = 10.168*x_plot"
      ],
      "metadata": {
        "id": "jby1Muae-DH1"
      },
      "execution_count": 5,
      "outputs": []
    },
    {
      "cell_type": "code",
      "source": [
        "# Plot\n",
        "\n",
        "plt.xlabel('X')\n",
        "plt.ylabel('Y')\n",
        "\n",
        "plt.plot(x_plot, y_plot_1, color = \"red\") # Cost\n",
        "plt.plot(x_plot, y_plot_2, color = \"gold\") # Revenue"
      ],
      "metadata": {
        "id": "NMDxVhtg-dPM",
        "outputId": "645823d4-5072-4df6-bce2-626cd21bb384",
        "colab": {
          "base_uri": "https://localhost:8080/",
          "height": 297
        }
      },
      "execution_count": 6,
      "outputs": [
        {
          "output_type": "execute_result",
          "data": {
            "text/plain": [
              "[<matplotlib.lines.Line2D at 0x7f57095ddb50>]"
            ]
          },
          "metadata": {},
          "execution_count": 6
        },
        {
          "output_type": "display_data",
          "data": {
            "image/png": "[encoded data removed]",
            "text/plain": [
              "<Figure size 432x288 with 1 Axes>"
            ]
          },
          "metadata": {
            "needs_background": "light"
          }
        }
      ]
    },
    {
      "cell_type": "markdown",
      "metadata": {
        "id": "94JfmXu8lWd6"
      },
      "source": [
        "## 1.2 Rækkeoperationer\n",
        "\n",
        "Definér augmented matrix ud fra de 2 funktioner. Brug rækkeoperationer til at omskrive til trappeform (række-echelon form) og finde en løsning."
      ]
    },
    {
      "cell_type": "code",
      "source": [
        "augmented = np.array([[5.576, -1, -229600], \n",
        "         [10.168, -1, 0]])"
      ],
      "metadata": {
        "id": "FwxvOIDg-tXs"
      },
      "execution_count": 7,
      "outputs": []
    },
    {
      "cell_type": "code",
      "source": [
        "augmented[0] = augmented[0] / augmented[0,0]"
      ],
      "metadata": {
        "id": "NnypNyeS-29r"
      },
      "execution_count": 8,
      "outputs": []
    },
    {
      "cell_type": "code",
      "source": [
        "augmented"
      ],
      "metadata": {
        "id": "G0xXl2v7_Bus",
        "outputId": "09fe014e-8e72-4754-d254-3f00c59477df",
        "colab": {
          "base_uri": "https://localhost:8080/"
        }
      },
      "execution_count": 14,
      "outputs": [
        {
          "output_type": "execute_result",
          "data": {
            "text/plain": [
              "array([[     1.,      0.,  50000.],\n",
              "       [     0.,      1., 508400.]])"
            ]
          },
          "metadata": {},
          "execution_count": 14
        }
      ]
    },
    {
      "cell_type": "code",
      "source": [
        "augmented[1] = augmented[1] - (augmented[1,0]*augmented[0])"
      ],
      "metadata": {
        "id": "_N06RmmP_Ehh"
      },
      "execution_count": 10,
      "outputs": []
    },
    {
      "cell_type": "code",
      "source": [
        "augmented[1] = augmented[1] / augmented[1,1]"
      ],
      "metadata": {
        "id": "S_qccaTF_RVl"
      },
      "execution_count": 12,
      "outputs": []
    },
    {
      "cell_type": "code",
      "source": [
        "augmented[0] =  augmented[0] - (augmented[0,1]*augmented[1])"
      ],
      "metadata": {
        "id": "mRo73Wph_VsH"
      },
      "execution_count": 13,
      "outputs": []
    },
    {
      "cell_type": "markdown",
      "metadata": {
        "id": "ASa0mwVZmS1U"
      },
      "source": [
        "## 1.3a Løsning via matrix ligning\n",
        "\n",
        "Opstil matrix ligning\n",
        "\n",
        "$A\\vec{x} = \\vec{b}$\n",
        "\n",
        "\n",
        "Du skal bruge følgende python objekter:\n",
        "\n",
        "\n",
        "*   $A$: `A1`\n",
        "*   $A^{-1}$: `A1_inv`\n",
        "*   $\\vec{b}$: `vector_b1`\n",
        "* $\\vec{x}$: `vector_x1`"
      ]
    },
    {
      "cell_type": "code",
      "source": [
        "A1 = np.array([[5.576, -1],\n",
        "                [10.168, -1]])"
      ],
      "metadata": {
        "id": "gQiI7pgr_psR"
      },
      "execution_count": 15,
      "outputs": []
    },
    {
      "cell_type": "code",
      "source": [
        "vector_b1 = np.array([[-229600], \n",
        "         [0]]).reshape(-1,1)"
      ],
      "metadata": {
        "id": "LY0odzE6_6Ni"
      },
      "execution_count": 32,
      "outputs": []
    },
    {
      "cell_type": "code",
      "source": [
        "vector_x1 = np.linalg.inv(A1) @ vector_b1"
      ],
      "metadata": {
        "id": "q6bJ0kArADre"
      },
      "execution_count": 33,
      "outputs": []
    },
    {
      "cell_type": "code",
      "source": [
        "vector_x1"
      ],
      "metadata": {
        "id": "jTr4WQrwAErr",
        "outputId": "cfdb9411-afa4-42c2-91da-bc3164162dbe",
        "colab": {
          "base_uri": "https://localhost:8080/"
        }
      },
      "execution_count": 34,
      "outputs": [
        {
          "output_type": "execute_result",
          "data": {
            "text/plain": [
              "array([[ 50000.],\n",
              "       [508400.]])"
            ]
          },
          "metadata": {},
          "execution_count": 34
        }
      ]
    },
    {
      "cell_type": "markdown",
      "metadata": {
        "id": "W1-LpBnoorF_"
      },
      "source": [
        "# 1.3b Lavere faste omkostninger\n",
        "\n",
        "Deres aktuelle faste omkostniner er $229600 kr.$ \n",
        "Hvor langt skal disse ned, således man kan opnå Break-Even ved at producere $40.000$ cykler.\n",
        "\n",
        "Brug matrix regning og følgende nye objekter:\n",
        "\n",
        "*   $\\vec{b_n}$: `vector_b1_ny`\n",
        "* $\\vec{x_n}$: `vector_x1_ny`"
      ]
    },
    {
      "cell_type": "code",
      "source": [
        "40000 * 10.168"
      ],
      "metadata": {
        "id": "vNIyoVYqAh02",
        "outputId": "d63aaa90-37b1-459a-df1a-57d90927ea20",
        "colab": {
          "base_uri": "https://localhost:8080/"
        }
      },
      "execution_count": 35,
      "outputs": [
        {
          "output_type": "execute_result",
          "data": {
            "text/plain": [
              "406719.99999999994"
            ]
          },
          "metadata": {},
          "execution_count": 35
        }
      ]
    },
    {
      "cell_type": "code",
      "source": [
        "vector_x1_new = np.array([[ 40000.],\n",
        "       [406720.]]).reshape(-1,1)"
      ],
      "metadata": {
        "id": "IU1CvHB2Aq9I"
      },
      "execution_count": 36,
      "outputs": []
    },
    {
      "cell_type": "code",
      "source": [
        "b1_new = A1 @ vector_x1_new"
      ],
      "metadata": {
        "id": "Dd2ZP7YbA2rr"
      },
      "execution_count": 37,
      "outputs": []
    },
    {
      "cell_type": "code",
      "source": [
        "b1_new"
      ],
      "metadata": {
        "id": "ACWX5QOlA6mG",
        "outputId": "27c22f91-3a44-4c6a-ac18-a4a6d94ddd31",
        "colab": {
          "base_uri": "https://localhost:8080/"
        }
      },
      "execution_count": 38,
      "outputs": [
        {
          "output_type": "execute_result",
          "data": {
            "text/plain": [
              "array([[-183680.],\n",
              "       [     -0.]])"
            ]
          },
          "metadata": {},
          "execution_count": 38
        }
      ]
    },
    {
      "cell_type": "markdown",
      "metadata": {
        "id": "mowzHAC4p8fH"
      },
      "source": [
        "# 2. Investering\n",
        "\n",
        "![](https://source.unsplash.com/9opiHRPIvR0)\n",
        "\n",
        "Jonas startede på AAU i september 2020. Han har igennem gymnasietiden og 1 semester på bachelor haft en del fritidsjobs samt indtægter som Influencer på Instagram og andre platforme. I alt har han sparet $165000 kr.$ som han investerede i januar 2021. Han har lært en del om investering og fordelte penge på aktier, ETF og investeringsforeninger.\n",
        "\n",
        "Efter et år har det givet følgende afkast: aktier 9%, ETF 5.6%, investeringsforeninger 5%. I alt tjener Jonas $10470 kr.$ efter et år. Vi ved derudover, at der blev investeret $20000$ mere i ETF end Investeringsforeninger.\n",
        "\n",
        "Hvad var fordelingen i hans portføjle?\n",
        "\n",
        "- Opstil 3 ligninger med 3 ubekendte\n",
        "- Omskriv til matrix ligning af type\n",
        "$A\\vec{x} = \\vec{b}$\n",
        "- Beregn $\\vec{x}$\n",
        "\n",
        "Du skal bruge følgende python objekter:\n",
        "\n",
        "\n",
        "*   $A$: `A2`\n",
        "*   $A^{-1}$: `A2_inv`\n",
        "*   $\\vec{b}$: `vector_b2`\n",
        "* $\\vec{x}$: `vector_x2`"
      ]
    },
    {
      "cell_type": "markdown",
      "source": [
        "$x + y + z = 165000$\n",
        "\n",
        "$0.09*x + 0.056*y + 0.05*z = 10470$\n",
        "\n",
        "$y - z = 20000$\n"
      ],
      "metadata": {
        "id": "2OCQ7yE9Bz5G"
      }
    },
    {
      "cell_type": "code",
      "source": [
        "A2 = np.array([[1,1,1],\n",
        "              [0.09,0.056,0.05],\n",
        "              [0,1,-1]])"
      ],
      "metadata": {
        "id": "B-Dz4NwcBzIE"
      },
      "execution_count": 23,
      "outputs": []
    },
    {
      "cell_type": "code",
      "source": [
        "vector_b2 = np.array([165000,10470, 20000]).reshape(-1,1)"
      ],
      "metadata": {
        "id": "l3oj-VmjC4HJ"
      },
      "execution_count": 39,
      "outputs": []
    },
    {
      "cell_type": "code",
      "source": [
        "vector_x2 = np.linalg.inv(A2) @ vector_b2"
      ],
      "metadata": {
        "id": "TnPczw97DCaI"
      },
      "execution_count": 40,
      "outputs": []
    },
    {
      "cell_type": "code",
      "source": [
        "vector_x2"
      ],
      "metadata": {
        "id": "zM_lUsrXDRzP",
        "outputId": "2ce1a1b6-979a-480a-b319-c963fcf31fe4",
        "colab": {
          "base_uri": "https://localhost:8080/"
        }
      },
      "execution_count": 41,
      "outputs": [
        {
          "output_type": "execute_result",
          "data": {
            "text/plain": [
              "array([[45000.],\n",
              "       [70000.],\n",
              "       [50000.]])"
            ]
          },
          "metadata": {},
          "execution_count": 41
        }
      ]
    }
  ],
  "metadata": {
    "colab": {
      "collapsed_sections": [],
      "name": "AM2022_peergrade1_s.ipynb",
      "provenance": [],
      "include_colab_link": true
    },
    "kernelspec": {
      "display_name": "Python 3",
      "name": "python3"
    },
    "language_info": {
      "name": "python"
    }
  },
  "nbformat": 4,
  "nbformat_minor": 0
}