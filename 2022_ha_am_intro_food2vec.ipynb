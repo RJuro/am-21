{
  "cells": [
    {
      "cell_type": "markdown",
      "metadata": {
        "id": "view-in-github",
        "colab_type": "text"
      },
      "source": [
        "<a href=\"https://colab.research.google.com/github/RJuro/am-21/blob/main/2022_ha_am_intro_food2vec.ipynb\" target=\"_parent\"><img src=\"https://colab.research.google.com/assets/colab-badge.svg\" alt=\"Open In Colab\"/></a>"
      ]
    },
    {
      "cell_type": "markdown",
      "metadata": {
        "id": "xiOWOHbyqVa1"
      },
      "source": [
        "# Intro til Anvendt Matematik og Python opfriskning\n",
        "\n",
        "\n",
        "- Matematik bruges i finance, økonomistyring, data science, tech og meget andet - men også helt sikkert senere hvis I skal videre med en kandidat.\n",
        "- Analytiske skills er meget [eftertragtede på arbejdsmarkedet](https://youtu.be/u2oupkbxddc \n",
        ") \n",
        "> [DI-analyse viser](https://www.danskindustri.dk/tech-der-taller/analysearkiv/analyser/2020/10/kompetencer-til-et-digitalt-arbejdsliv/), at den digitale omstilling i virksomheder ikke kan drives af it-specialisterne alene. Der er i stærkt stigende omfang behov for, at samfundsvidenskabelige profiler også har gode digitale kompetencer.\n"
      ]
    },
    {
      "cell_type": "markdown",
      "metadata": {
        "id": "zkpGMgOTr1eT"
      },
      "source": [
        "### Hvad sker her fra idag til 13 April?\n",
        "\n",
        "- overblik over lineær algebra og calculus (ikke meget mere end B niveau)\n",
        "- Brug gerne fx https://www.webmatematik.dk/ \n",
        "- $\\LaTeX$ [cheat-sheet](http://tug.ctan.org/info/undergradmath/undergradmath.pdf)\n",
        "- [Markdown cheatsheet](https://www.markdownguide.org/cheat-sheet/)\n",
        "- Lære at **bruge** matematik - ikke være matematiker¨\n",
        "- lære fra et data/computer science perspektiv, hvor det handler mest at kunne implementere matematik direkte og bruge til fx at bygge en søgemaskine, recommender system, visualisere eller automatisere BI \n",
        "- \"computational tilgang\" - Python som tool\n",
        "- Danglish"
      ]
    },
    {
      "cell_type": "markdown",
      "metadata": {
        "id": "gsygonndQP7f"
      },
      "source": [
        "### Pingvin Motivation og Intuition - Fra Data og Statistik til Liniær Algebra"
      ]
    },
    {
      "cell_type": "markdown",
      "metadata": {
        "id": "PPHyBrDOHJBv"
      },
      "source": [
        "Pinguin data: https://github.com/allisonhorst/palmerpenguins\n",
        "![](https://github.com/allisonhorst/palmerpenguins/raw/master/man/figures/lter_penguins.png)\n",
        "\n",
        "Vi bygger en søgemaskine til pingviner 🤔\n",
        "\n",
        "Antagelse:\n",
        "- Pingviner kan bedst lide at være sammen med dem, der ligner dem mest\n"
      ]
    },
    {
      "cell_type": "code",
      "execution_count": null,
      "metadata": {
        "id": "GZ40xDOXNau-"
      },
      "outputs": [],
      "source": [
        "import pandas as pd\n",
        "import numpy as np\n",
        "\n",
        "np.set_printoptions(suppress=True)\n",
        "\n",
        "import seaborn as sns\n",
        "sns.set(color_codes=True, rc={'figure.figsize':(10,8)})"
      ]
    },
    {
      "cell_type": "code",
      "execution_count": null,
      "metadata": {
        "id": "XfQG6XzHQMIA"
      },
      "outputs": [],
      "source": [
        "pinguins = pd.read_csv(\"https://github.com/allisonhorst/palmerpenguins/raw/5b5891f01b52ae26ad8cb9755ec93672f49328a8/data/penguins_size.csv\")"
      ]
    },
    {
      "cell_type": "code",
      "execution_count": null,
      "metadata": {
        "id": "dns4ru0pPxN7"
      },
      "outputs": [],
      "source": [
        "pinguins.head()"
      ]
    },
    {
      "cell_type": "code",
      "execution_count": null,
      "metadata": {
        "id": "bQX8ibJ2P83O"
      },
      "outputs": [],
      "source": [
        "pinguins = pinguins.dropna()\n",
        "pinguins.species_short.value_counts()"
      ]
    },
    {
      "cell_type": "code",
      "execution_count": null,
      "metadata": {
        "id": "F-4jI1HSd38w"
      },
      "outputs": [],
      "source": [
        "pinguins.index = range(len(pinguins))"
      ]
    },
    {
      "cell_type": "code",
      "execution_count": null,
      "metadata": {
        "id": "HwmeRp9DQAIN"
      },
      "outputs": [],
      "source": [
        "# Hvordan ser vores data ud?\n",
        "\n",
        "sns.pairplot(pinguins, hue='species_short', kind=\"reg\", corner=True, markers=[\"o\", \"s\", \"D\"], plot_kws={'line_kws':{'color':'white'}})"
      ]
    },
    {
      "cell_type": "markdown",
      "metadata": {
        "id": "vfscWKkwQ3fA"
      },
      "source": [
        "Vi danner alle variable om til Z-scores (så de er på samme skala)\n",
        "\n",
        "$Z = \\frac{x-\\mu}{\\sigma} $\n",
        "\n",
        "x = værdi, \n",
        "$\\mu$ = gennemsnit, $\\sigma$ = stadnardafvigelse\n"
      ]
    },
    {
      "cell_type": "code",
      "execution_count": null,
      "metadata": {
        "id": "-mIH0WT5Qmxr"
      },
      "outputs": [],
      "source": [
        "# scaling - vi tager kun de 4 nummeriske variable\n",
        "\n",
        "from sklearn.preprocessing import StandardScaler\n",
        "scaled_pinguins = StandardScaler().fit_transform(pinguins.loc[:,'culmen_length_mm':'body_mass_g'])"
      ]
    },
    {
      "cell_type": "code",
      "execution_count": null,
      "metadata": {
        "id": "N-DzmjDxR27Q"
      },
      "outputs": [],
      "source": [
        "# plot af alle skalerede variable, som nu har gennemsnit ~ 0 og std ~ 1\n",
        "\n",
        "for i in range(4):\n",
        "  sns.kdeplot(scaled_pinguins[:,i])"
      ]
    },
    {
      "cell_type": "code",
      "execution_count": null,
      "metadata": {
        "id": "25cQ5cYZUZL8"
      },
      "outputs": [],
      "source": [
        "print(scaled_pinguins.shape)\n",
        "scaled_pinguins"
      ]
    },
    {
      "cell_type": "code",
      "execution_count": null,
      "metadata": {
        "id": "6XsXSJ17UhpO"
      },
      "outputs": [],
      "source": [
        "# pinguin 1 kan representeres som en 4D række-vektor\n",
        "\n",
        "scaled_pinguins[0,:]"
      ]
    },
    {
      "cell_type": "markdown",
      "metadata": {
        "id": "UCBSjDyLU46v"
      },
      "source": [
        "Nu bruger vi noget, som vi måske kommer til at se på helt til sidst i Liniær Algebra, næmlig Principal Component Analysis eller PCA.\n",
        "- læs mere om PCA og hvordan man [bygger det fra bunden](https://towardsdatascience.com/principal-component-analysis-pca-from-scratch-in-python-7f3e2a540c51))\n",
        "- Hvis du er meget interesseret - [læs her](https://jakevdp.github.io/PythonDataScienceHandbook/05.09-principal-component-analysis.html)\n",
        "\n",
        "Vi bruger 2 components (dvs. vores 4D vektorer bliver skrumpet til 2D hvor PCA forsøger at beholde så meget information som muligt\n",
        "\n"
      ]
    },
    {
      "cell_type": "code",
      "execution_count": null,
      "metadata": {
        "id": "SrPFncJyVlIA"
      },
      "outputs": [],
      "source": [
        "# import PCA\n",
        "from sklearn.decomposition import PCA\n",
        "pca = PCA(n_components=2)"
      ]
    },
    {
      "cell_type": "code",
      "execution_count": null,
      "metadata": {
        "id": "GnOOM_bCWsmN"
      },
      "outputs": [],
      "source": [
        "# Transform penguin matrix med PCA\n",
        "\n",
        "pca_pinguins = pca.fit_transform(scaled_pinguins)"
      ]
    },
    {
      "cell_type": "code",
      "execution_count": null,
      "metadata": {
        "id": "48dOObkaWyok"
      },
      "outputs": [],
      "source": [
        "print(pca_pinguins.shape)\n",
        "pca_pinguins"
      ]
    },
    {
      "cell_type": "markdown",
      "metadata": {
        "id": "lto_aTeTXmCd"
      },
      "source": [
        "Nu bruger vi denne 2D matrix og plotter, hvor 1.kollonne = x; 2. kolonne = y; vi bruger farver fra pingvin-arter i vores start-data"
      ]
    },
    {
      "cell_type": "code",
      "execution_count": null,
      "metadata": {
        "id": "kDDXidYzX3dO"
      },
      "outputs": [],
      "source": [
        "sns.scatterplot(x = pca_pinguins[:,0], y = pca_pinguins[:,1], hue = pinguins['species_short'] )"
      ]
    },
    {
      "cell_type": "markdown",
      "metadata": {
        "id": "SL4PG9bpYtvh"
      },
      "source": [
        "Hvordan finder vi så en buddy for en given pingvin?\n",
        "\n",
        "- det er den, der er tættest på 🤖\n",
        "\n",
        "**Eucledian Distance**\n",
        "\n",
        "![](https://upload.wikimedia.org/wikipedia/commons/5/55/Euclidean_distance_2d.svg)\n",
        "\n",
        "**Vi kan også gå fra 2D til n-D**\n",
        "\n",
        "$d(\\vec{u}, \\vec{v}) = \\| \\vec{u} - \\vec{v} \\| = \\sqrt{(u_1 - v_1)^2 + (u_2 - v_2)^2 ... (u_n - v_n)^2}$\n",
        "\n",
        "fx\n",
        "\n",
        "Vi kan regne ED mellem\n",
        "$\\vec{u} = (2, 3, 4, 2)$ \n",
        "\n",
        "og \n",
        "\n",
        "$\\vec{v} = (1, -2, 1, 3)$\n",
        "\n",
        "$\\begin{align} d(\\vec{u}, \\vec{v}) = \\| \\vec{u} - \\vec{v} \\| = \\sqrt{(2-1)^2 + (3+2)^2 + (4-1)^2 + (2-3)^2} \\\\ d(\\vec{u}, \\vec{v}) = \\| \\vec{u} - \\vec{v} \\| = \\sqrt{1 + 25 + 9 + 1} \\\\ d(\\vec{u}, \\vec{v}) = \\| \\vec{u} - \\vec{v} \\| = \\sqrt{36} \\\\ d(\\vec{u}, \\vec{v}) = \\| \\vec{u} - \\vec{v} \\| = 6 \\end{align}$"
      ]
    },
    {
      "cell_type": "code",
      "execution_count": null,
      "metadata": {
        "id": "x3wjkyNSbZQs"
      },
      "outputs": [],
      "source": [
        "# hvor tæt er de første 2\n",
        "print(scaled_pinguins[0,:])\n",
        "print(scaled_pinguins[1,:])"
      ]
    },
    {
      "cell_type": "code",
      "execution_count": null,
      "metadata": {
        "id": "_mz2osB3bteN"
      },
      "outputs": [],
      "source": [
        "# kvardarod er ikke standard og skal importeres\n",
        "from math import sqrt"
      ]
    },
    {
      "cell_type": "code",
      "execution_count": null,
      "metadata": {
        "id": "BzBDiwA5b0N5"
      },
      "outputs": [],
      "source": [
        "# manuelt\n",
        "sqrt((-0.89765322--0.82429023)**2 + (0.78348666-0.12189602)**2 + (-1.42952144--1.07240838)**2 + (-0.57122888--0.50901123)**2)"
      ]
    },
    {
      "cell_type": "code",
      "execution_count": null,
      "metadata": {
        "id": "HxQe8Z9ccPN_"
      },
      "outputs": [],
      "source": [
        "# med numpy\n",
        "np.linalg.norm(scaled_pinguins[0,:] - scaled_pinguins[1,:])"
      ]
    },
    {
      "cell_type": "code",
      "execution_count": null,
      "metadata": {
        "id": "EM_049J_dJkI"
      },
      "outputs": [],
      "source": [
        "np.linalg.norm(scaled_pinguins[0,:] - scaled_pinguins[2,:])"
      ]
    },
    {
      "cell_type": "code",
      "execution_count": null,
      "metadata": {
        "id": "-3Lwqh29dMIx"
      },
      "outputs": [],
      "source": [
        "pinguins.iloc[:5,:]"
      ]
    },
    {
      "cell_type": "code",
      "execution_count": null,
      "metadata": {
        "id": "xjMpQZnNeJyQ"
      },
      "outputs": [],
      "source": [
        "pinguins.iloc[-5:,:]"
      ]
    },
    {
      "cell_type": "code",
      "execution_count": null,
      "metadata": {
        "id": "Ii5Y1wYVdmna"
      },
      "outputs": [],
      "source": [
        "np.linalg.norm(scaled_pinguins[0,:] - scaled_pinguins[333,:])"
      ]
    },
    {
      "cell_type": "code",
      "execution_count": null,
      "metadata": {
        "id": "Z6CQr2Tndvzv"
      },
      "outputs": [],
      "source": [
        "np.linalg.norm(scaled_pinguins[0,:] - scaled_pinguins[331,:])"
      ]
    },
    {
      "cell_type": "code",
      "execution_count": null,
      "metadata": {
        "id": "9g_AO6cYIdgM"
      },
      "outputs": [],
      "source": [
        "import matplotlib.pyplot as plt"
      ]
    },
    {
      "cell_type": "code",
      "execution_count": null,
      "metadata": {
        "id": "yhmIrMP3HmM6"
      },
      "outputs": [],
      "source": [
        "# This code draws the x and y axis as lines.\n",
        "\n",
        "points = [0,1,2,333,331]\n",
        "\n",
        "\n",
        "fig, ax = plt.subplots()\n",
        "\n",
        "ax.scatter(pca_pinguins[[points],0], pca_pinguins[[points],1])\n",
        "\n",
        "plt.axhline(0, c='black', lw=0.5)\n",
        "plt.axvline(0, c='black', lw=0.5)\n",
        "plt.xlim(-2,3)\n",
        "plt.ylim(-1,1)\n",
        "\n",
        "plt.quiver(0, 0, pca_pinguins[0,0], pca_pinguins[0,1], angles='xy', scale_units='xy', scale=1, color='blue')\n",
        "plt.quiver(0, 0, pca_pinguins[1,0], pca_pinguins[1,1], angles='xy', scale_units='xy', scale=1, color='green')\n",
        "plt.quiver(0, 0, pca_pinguins[2,0], pca_pinguins[2,1], angles='xy', scale_units='xy', scale=1, color='yellow')\n",
        "plt.quiver(0, 0, pca_pinguins[333,0], pca_pinguins[333,1], angles='xy', scale_units='xy', scale=1, color='violet')\n",
        "plt.quiver(0, 0, pca_pinguins[331,0], pca_pinguins[331,1], angles='xy', scale_units='xy', scale=1, color='black')\n",
        "\n",
        "for i in points:\n",
        "    ax.annotate(str(i), (pca_pinguins[i,0], pca_pinguins[i,1]))"
      ]
    },
    {
      "cell_type": "markdown",
      "metadata": {
        "id": "qcA7adNNdILA"
      },
      "source": [
        "Man kunne nu enten skrive noget, som gentager denne beregning for alle kombinationer...eller"
      ]
    },
    {
      "cell_type": "code",
      "execution_count": null,
      "metadata": {
        "id": "YXX3jMVRdHSo"
      },
      "outputs": [],
      "source": [
        "from sklearn.metrics.pairwise import euclidean_distances"
      ]
    },
    {
      "cell_type": "code",
      "execution_count": null,
      "metadata": {
        "id": "NVlWIKGdeloD"
      },
      "outputs": [],
      "source": [
        "euclidean_matrix = euclidean_distances(scaled_pinguins)"
      ]
    },
    {
      "cell_type": "code",
      "execution_count": null,
      "metadata": {
        "id": "LX4ci5xHeqig"
      },
      "outputs": [],
      "source": [
        "print(euclidean_matrix.shape)\n",
        "euclidean_matrix"
      ]
    },
    {
      "cell_type": "code",
      "execution_count": null,
      "metadata": {
        "id": "BU-Ip2hKe6fV"
      },
      "outputs": [],
      "source": [
        "np.argmin(euclidean_matrix[0,:])"
      ]
    },
    {
      "cell_type": "code",
      "execution_count": null,
      "metadata": {
        "id": "_O6M3-WYfmm8"
      },
      "outputs": [],
      "source": [
        "np.argsort(euclidean_matrix[0,:])[:3]"
      ]
    },
    {
      "cell_type": "code",
      "execution_count": null,
      "metadata": {
        "id": "rH-5gnNVfrxu"
      },
      "outputs": [],
      "source": [
        "scaled_pinguins[[0,139,16],:]"
      ]
    },
    {
      "cell_type": "code",
      "execution_count": null,
      "metadata": {
        "id": "hSmQ_FEwf294"
      },
      "outputs": [],
      "source": [
        "euclidean_distances(scaled_pinguins[[0,139,16],:])"
      ]
    },
    {
      "cell_type": "markdown",
      "source": [
        "## Food2Vec - kan vi omdanne mad til vektor?\n",
        "[food2vec - Augmented cooking with machine intelligence](https://jaan.io/food2vec-augmented-cooking-machine-intelligence/)\n",
        "\n",
        "Hvad vi laver:\n",
        "\n",
        "\n",
        "*   Download data (opskrifter) + lidt data-munging\n",
        "*   Træn Word2Vec model - enkelte madvarer bliver lavet om til vektorer\n",
        "*   Lav 2D vektorer ved at bruge [UMAP](https://umap-learn.readthedocs.io/en/latest/)\n",
        "*   Beregn \"relation\" mellem enkelte madvarer og opskrivter/køkkener\n",
        "*   Visualiser via interaktiv plot\n",
        "  \n",
        "\n",
        "*Det her er et ret avanceret stykke Data Science og absolut ikke del af pensum...\n"
      ],
      "metadata": {
        "id": "e9tZBbyF0xkO"
      }
    },
    {
      "cell_type": "code",
      "source": [
        "# Vi har brug for lidt mere fancy dimensionality reduction\n",
        "!pip install umap-learn -q"
      ],
      "metadata": {
        "id": "WtxmE1jz0w9Y"
      },
      "execution_count": null,
      "outputs": []
    },
    {
      "cell_type": "code",
      "source": [
        "!pip install --upgrade tbb -q"
      ],
      "metadata": {
        "id": "bJA35xG-_Cb_"
      },
      "execution_count": null,
      "outputs": []
    },
    {
      "cell_type": "code",
      "source": [
        "!wget https://github.com/altosaar/food2vec/raw/master/dat/kaggle_recipes.csv"
      ],
      "metadata": {
        "id": "xZ0ynB2Uh_4_"
      },
      "execution_count": null,
      "outputs": []
    },
    {
      "cell_type": "code",
      "source": [
        "food = open('/content/kaggle_recipes.csv', 'r').readlines()"
      ],
      "metadata": {
        "id": "ojJnNkdFhtHx"
      },
      "execution_count": null,
      "outputs": []
    },
    {
      "cell_type": "code",
      "source": [
        "food[0]"
      ],
      "metadata": {
        "id": "bb81zMpG4Xs6"
      },
      "execution_count": null,
      "outputs": []
    },
    {
      "cell_type": "code",
      "source": [
        "food[0].strip().split(',')"
      ],
      "metadata": {
        "id": "6y285LQKiKZi"
      },
      "execution_count": null,
      "outputs": []
    },
    {
      "cell_type": "code",
      "source": [
        "food_list = [f.strip().split(',') for f in food]"
      ],
      "metadata": {
        "id": "Kflc8Y1Hibiv"
      },
      "execution_count": null,
      "outputs": []
    },
    {
      "cell_type": "code",
      "source": [
        "food_list[:5]"
      ],
      "metadata": {
        "id": "0aAoGa6C4hv2"
      },
      "execution_count": null,
      "outputs": []
    },
    {
      "cell_type": "code",
      "source": [
        "cuisines = [f[0] for f in food_list]\n",
        "ingredients = [f[1:] for f in food_list]"
      ],
      "metadata": {
        "id": "cBexT76oijkI"
      },
      "execution_count": null,
      "outputs": []
    },
    {
      "cell_type": "code",
      "source": [
        "from gensim.models import Word2Vec"
      ],
      "metadata": {
        "id": "h1w_lugM5rYg"
      },
      "execution_count": null,
      "outputs": []
    },
    {
      "cell_type": "code",
      "source": [
        "longest_list = np.max([len(f) for f in ingredients])"
      ],
      "metadata": {
        "id": "HOMlQeaX6MQc"
      },
      "execution_count": null,
      "outputs": []
    },
    {
      "cell_type": "code",
      "source": [
        "model = Word2Vec(ingredients, size=64, window=longest_list, min_count=1)"
      ],
      "metadata": {
        "id": "9NnJ_gDA5tns"
      },
      "execution_count": null,
      "outputs": []
    },
    {
      "cell_type": "code",
      "source": [
        "model.wv['pepper']"
      ],
      "metadata": {
        "id": "PSHWBBZM6hXj"
      },
      "execution_count": null,
      "outputs": []
    },
    {
      "cell_type": "code",
      "source": [
        "model.wv.most_similar('pepper')"
      ],
      "metadata": {
        "id": "5LkS0qlG6taQ"
      },
      "execution_count": null,
      "outputs": []
    },
    {
      "cell_type": "code",
      "source": [
        "ingredients[99]"
      ],
      "metadata": {
        "id": "rQo-iEiv7nAK"
      },
      "execution_count": null,
      "outputs": []
    },
    {
      "cell_type": "code",
      "source": [
        "v = np.average([model.wv[w] for w in ingredients[99]], axis=0)"
      ],
      "metadata": {
        "id": "PPtRAQua724Q"
      },
      "execution_count": null,
      "outputs": []
    },
    {
      "cell_type": "code",
      "source": [
        "v"
      ],
      "metadata": {
        "id": "UQdj3GW48NSm"
      },
      "execution_count": null,
      "outputs": []
    },
    {
      "cell_type": "code",
      "source": [
        "model.wv.similar_by_vector(v)"
      ],
      "metadata": {
        "id": "1Ukga2l88Q72"
      },
      "execution_count": null,
      "outputs": []
    },
    {
      "cell_type": "code",
      "source": [
        "edges = []\n",
        "for i in range(len(cuisines)):\n",
        "  ing = ingredients[i]\n",
        "  cuis = cuisines[i]\n",
        "  edges.extend(list(zip(len(ing)*[cuis],ing)))"
      ],
      "metadata": {
        "id": "0VESgZP_s3dG"
      },
      "execution_count": null,
      "outputs": []
    },
    {
      "cell_type": "code",
      "source": [
        "edges = pd.DataFrame(edges, columns = ['cuisine','ingredient'])"
      ],
      "metadata": {
        "id": "cupcyscAtk85"
      },
      "execution_count": null,
      "outputs": []
    },
    {
      "cell_type": "code",
      "source": [
        "country_dict = pd.crosstab(edges['cuisine'], edges['ingredient'], normalize=1).idxmax().to_dict()"
      ],
      "metadata": {
        "id": "Td826ZhluWMv"
      },
      "execution_count": null,
      "outputs": []
    },
    {
      "cell_type": "code",
      "source": [
        "vecs = np.vstack([model.wv[w] for w in list(model.wv.vocab.keys())])\n",
        "vecs"
      ],
      "metadata": {
        "id": "h5BcurGDqQXU"
      },
      "execution_count": null,
      "outputs": []
    },
    {
      "cell_type": "code",
      "source": [
        "import umap\n",
        "import altair as alt"
      ],
      "metadata": {
        "id": "B_R8tI4d-Wok"
      },
      "execution_count": null,
      "outputs": []
    },
    {
      "cell_type": "code",
      "source": [
        "umap_reducer= umap.UMAP(random_state=42, n_components=2)\n",
        "ingredient_embeddings_2d = umap_reducer.fit_transform(vecs)"
      ],
      "metadata": {
        "id": "7NgCvHE0lnv0"
      },
      "execution_count": null,
      "outputs": []
    },
    {
      "cell_type": "code",
      "source": [
        "ingredient_embeddings_2d.shape"
      ],
      "metadata": {
        "id": "87tBYXK2mJIj"
      },
      "execution_count": null,
      "outputs": []
    },
    {
      "cell_type": "code",
      "source": [
        "df_plot = pd.DataFrame(ingredient_embeddings_2d, columns=['x','y'])"
      ],
      "metadata": {
        "id": "nx5KkFhPm4JC"
      },
      "execution_count": null,
      "outputs": []
    },
    {
      "cell_type": "code",
      "source": [
        "df_plot"
      ],
      "metadata": {
        "id": "5sS0ZbY8_PE8"
      },
      "execution_count": null,
      "outputs": []
    },
    {
      "cell_type": "code",
      "source": [
        "model.wv.vocab.keys()"
      ],
      "metadata": {
        "id": "yNGbeJeanFlS"
      },
      "execution_count": null,
      "outputs": []
    },
    {
      "cell_type": "code",
      "source": [
        "df_plot['name'] = list(model.wv.vocab.keys())"
      ],
      "metadata": {
        "id": "f6zN2ez7nECA"
      },
      "execution_count": null,
      "outputs": []
    },
    {
      "cell_type": "code",
      "source": [
        "df_plot['cuisine'] = df_plot['name'].map(lambda t: country_dict[t])"
      ],
      "metadata": {
        "id": "5CEZ22AJnNm8"
      },
      "execution_count": null,
      "outputs": []
    },
    {
      "cell_type": "code",
      "source": [
        "alt.Chart(df_plot).mark_circle(size=60).encode(\n",
        "    x='x',\n",
        "    y='y',\n",
        "    color='cuisine',\n",
        "    tooltip=['name','cuisine']\n",
        ").properties(\n",
        "    width=800,\n",
        "    height=600\n",
        ").interactive()"
      ],
      "metadata": {
        "id": "rsl0U_pUm1TC"
      },
      "execution_count": null,
      "outputs": []
    },
    {
      "cell_type": "markdown",
      "metadata": {
        "id": "fCYzvrtAsdKk"
      },
      "source": [
        "### Python fresh-up\n",
        "\n",
        "- Simple datatyper\n",
        "- Grundlæggende matematiske operationer\n",
        "- Lister\n",
        "- Funktioner\n",
        "- Control Flow\n"
      ]
    },
    {
      "cell_type": "markdown",
      "metadata": {
        "id": "CURX7B8MErQB"
      },
      "source": [
        "#### Simple datatyper\n",
        "- Integers - hele tal **6**\n",
        "- Floating-Point Numbers - decimaltal **3.2**\n",
        "- Boolean - digital data type / bit **True / False**\n",
        "- String - text **Roman*"
      ]
    },
    {
      "cell_type": "code",
      "execution_count": null,
      "metadata": {
        "id": "B6REsp_PDnSu"
      },
      "outputs": [],
      "source": [
        "i = 6\n",
        "print(i, type(i))"
      ]
    },
    {
      "cell_type": "code",
      "execution_count": null,
      "metadata": {
        "id": "zGSsNf0HDnSu"
      },
      "outputs": [],
      "source": [
        "x = 3.2\n",
        "print(x, type(x))"
      ]
    },
    {
      "cell_type": "code",
      "execution_count": null,
      "metadata": {
        "id": "hUEiXuqFFyEJ"
      },
      "outputs": [],
      "source": [
        "t = i == 6\n",
        "print(t, type(t))"
      ]
    },
    {
      "cell_type": "code",
      "execution_count": null,
      "metadata": {
        "id": "4XLozuqmDnSv"
      },
      "outputs": [],
      "source": [
        "s = 'Hello'\n",
        "print(s, type(s))"
      ]
    },
    {
      "cell_type": "markdown",
      "metadata": {
        "id": "OUbaOzCNGhZ8"
      },
      "source": [
        "#### Grundlæggende matematiske operationer"
      ]
    },
    {
      "cell_type": "code",
      "execution_count": null,
      "metadata": {
        "id": "BQTuxXmTDnSw"
      },
      "outputs": [],
      "source": [
        "a = 2.0\n",
        "b = 3.0\n",
        "print(a+b, a*b, a-b, a/b, a**2, a+b**2, (a+b)**2)"
      ]
    },
    {
      "cell_type": "code",
      "execution_count": null,
      "metadata": {
        "id": "itozIzkcG8HE"
      },
      "outputs": [],
      "source": [
        "c = a + b\n",
        "print(c)"
      ]
    },
    {
      "cell_type": "code",
      "execution_count": null,
      "metadata": {
        "id": "Bge7gG0WPJrD"
      },
      "outputs": [],
      "source": [
        "a + b == c"
      ]
    },
    {
      "cell_type": "code",
      "execution_count": null,
      "metadata": {
        "id": "PhCZm_-jPMfC"
      },
      "outputs": [],
      "source": [
        "a + b < c"
      ]
    },
    {
      "cell_type": "markdown",
      "metadata": {
        "id": "cWONRfDiP9Ka"
      },
      "source": [
        "#### Lister\n",
        "\n",
        "man kan pakke alt i en liste :-)"
      ]
    },
    {
      "cell_type": "code",
      "execution_count": null,
      "metadata": {
        "id": "ruE3G1bkQBjl"
      },
      "outputs": [],
      "source": [
        "l = ['Daniel', 1.0, sqrt]\n",
        "type(l)"
      ]
    },
    {
      "cell_type": "code",
      "execution_count": null,
      "metadata": {
        "id": "8EqId_HKQLga"
      },
      "outputs": [],
      "source": [
        "l[2]"
      ]
    },
    {
      "cell_type": "code",
      "execution_count": null,
      "metadata": {
        "id": "GbE9PAtlQOQ1"
      },
      "outputs": [],
      "source": [
        "l[0]"
      ]
    },
    {
      "cell_type": "code",
      "execution_count": null,
      "metadata": {
        "id": "kcJfx16YQRjc"
      },
      "outputs": [],
      "source": [
        "l.append('Roman')"
      ]
    },
    {
      "cell_type": "code",
      "execution_count": null,
      "metadata": {
        "id": "HGGJ8RYqQTc2"
      },
      "outputs": [],
      "source": [
        "l"
      ]
    },
    {
      "cell_type": "code",
      "execution_count": null,
      "metadata": {
        "id": "sC4vvCtwQUpG"
      },
      "outputs": [],
      "source": [
        "l.extend(['Marie',37])"
      ]
    },
    {
      "cell_type": "code",
      "execution_count": null,
      "metadata": {
        "id": "_86NPdToQb5M"
      },
      "outputs": [],
      "source": [
        "l"
      ]
    },
    {
      "cell_type": "code",
      "execution_count": null,
      "metadata": {
        "id": "jvB_UegHQdN4"
      },
      "outputs": [],
      "source": [
        "l.pop(2)"
      ]
    },
    {
      "cell_type": "code",
      "execution_count": null,
      "metadata": {
        "id": "-chlUUU7Qk_Q"
      },
      "outputs": [],
      "source": [
        "l"
      ]
    },
    {
      "cell_type": "markdown",
      "metadata": {
        "id": "9OX29mYHQ4Hg"
      },
      "source": [
        "#### Funktioner\n",
        "\n",
        "Funktioner har (normalt) in og outputs. $a$ og $b$ er vores input her og funktionen producerer $\\sqrt{a^2 + b^2}$ som output.\n",
        "\n",
        "Vi prøver lige ...\n",
        "\n",
        "$\\begin{align} a^2 + b^2 = c^2 \\rightarrow c = \\sqrt{a^2 + b^2} \\end{align}$ "
      ]
    },
    {
      "cell_type": "code",
      "execution_count": null,
      "metadata": {
        "id": "uoljW9OmQ5zk"
      },
      "outputs": [],
      "source": [
        "def pythagoras(a, b):\n",
        "    return sqrt(a**2 + b**2)"
      ]
    },
    {
      "cell_type": "code",
      "execution_count": null,
      "metadata": {
        "id": "z9h9q8EDTLm5"
      },
      "outputs": [],
      "source": [
        "pythagoras(1,2)"
      ]
    },
    {
      "cell_type": "code",
      "execution_count": null,
      "metadata": {
        "id": "_uJ4UQ0XTVit"
      },
      "outputs": [],
      "source": [
        "# Hvis man gør det rigtigt, så er det en god ide at kommentere hvad der sker. \n",
        "# Her er det en no-brainer men funktioner kan blive indviklede og\n",
        "# det er good-practice at skrive \"docstrings\" til en anden eller en selv (i)\n",
        "\n",
        "def pythagoras(a, b):\n",
        "    \"\"\"\n",
        "    Computes the length of the hypotenuse of a right triangle\n",
        "    \n",
        "    Arguments\n",
        "    a, b: the two lengths of the right triangle\n",
        "    \"\"\"\n",
        "    \n",
        "    return sqrt(a**2 + b**2)"
      ]
    },
    {
      "cell_type": "markdown",
      "metadata": {
        "id": "5Pr3ESb0TvT2"
      },
      "source": [
        "##### Mini-assignment\n",
        "* Lav en funktion, som tager to punkter $(x_1, y_1), (x_2, y_2)$ på en linje og beregner hældning $a$\n",
        "\n",
        "$$ y = ax + b$$\n",
        "\n",
        "$$ a = \\frac{y_2- y_1}{x_2 - x_1}$$"
      ]
    },
    {
      "cell_type": "code",
      "execution_count": null,
      "metadata": {
        "id": "fh4kJ7IVUyRa"
      },
      "outputs": [],
      "source": [
        "plt.plot((1,2), (2,3), 'ro-')\n",
        "plt.plot((1,2), (2,2), 'bo-')\n",
        "plt.plot((2,2), (2,3), 'bo-')"
      ]
    },
    {
      "cell_type": "code",
      "execution_count": null,
      "metadata": {
        "id": "qy97WE5rVyea"
      },
      "outputs": [],
      "source": [
        ""
      ]
    },
    {
      "cell_type": "code",
      "execution_count": null,
      "metadata": {
        "id": "TvFUIXjQWWTT"
      },
      "outputs": [],
      "source": [
        "# slope(1,2,2,3)"
      ]
    },
    {
      "cell_type": "markdown",
      "metadata": {
        "id": "XC1zOcA4QsWr"
      },
      "source": [
        "#### Control flow"
      ]
    },
    {
      "cell_type": "code",
      "execution_count": null,
      "metadata": {
        "id": "ygJEozBgQuPz"
      },
      "outputs": [],
      "source": [
        "def isNegative(n):\n",
        "    if n < 0:\n",
        "        return True\n",
        "    else:\n",
        "        return False"
      ]
    },
    {
      "cell_type": "markdown",
      "metadata": {
        "id": "kMAqK3nWXsit"
      },
      "source": [
        "##### Mini-assignment\n",
        "* Lav en funktion `KtoC` som regner Kelvin om til Celcius\n",
        "$$ C = K - 273.15 \\quad \\text{ved} \\quad C\\geq - 273.15$$\n",
        "Funktionen udgiver `None` hvis $C < -273.15$"
      ]
    },
    {
      "cell_type": "code",
      "execution_count": null,
      "metadata": {
        "id": "l2f5BtM3Y7Tx"
      },
      "outputs": [],
      "source": [
        "list(range(10))"
      ]
    },
    {
      "cell_type": "code",
      "execution_count": null,
      "metadata": {
        "id": "sIgL1stnYyqH"
      },
      "outputs": [],
      "source": [
        "# for-loop\n",
        "\n",
        "even = [] # tom liste\n",
        "for i in range(10):\n",
        "    even.append(i*2)\n",
        "\n",
        "\n",
        "print(even)"
      ]
    },
    {
      "cell_type": "code",
      "execution_count": null,
      "metadata": {
        "id": "LbP_odmPZJz_"
      },
      "outputs": [],
      "source": [
        "# list-comprehension \n",
        "\n",
        "even = [2*i for i in range(10)]\n",
        "\n",
        "print(even)"
      ]
    },
    {
      "cell_type": "markdown",
      "metadata": {
        "id": "CTY9Xdb_ZZRr"
      },
      "source": [
        "##### Mini-assignment\n",
        "1. Beregn summen af integers  1 ... 100 ved at bruge `sum`, list-comprehension, for-loop\n",
        "2. Beregn summen af integers  1 ... 100 ved at bruge partial-sum formula\n",
        "$$ \\sum_{k=1}^n k = 1 + 2 + \\cdots + (n-1) + n = \\frac{n(n+1)}{2}$$"
      ]
    },
    {
      "cell_type": "markdown",
      "metadata": {
        "id": "gvY6us0dt0DB"
      },
      "source": [
        "### Matematik fresh-up\n",
        "alle øvelser taget fra https://tutorial.math.lamar.edu/Problems/Alg/Preliminaries.aspx\n",
        "\n",
        "Erfaringen viser, at det er en god idé at få sig en god routine med at løse matematiske problemer.\n",
        "\n",
        "- Integer Exponents\n",
        "- Rational Exponents\n",
        "- Radicals\n",
        "- Polynomials\n",
        "\n",
        "Vi arbejder old-school med papir men bruger også `SymPy` for at tjekke vores løsninger"
      ]
    },
    {
      "cell_type": "markdown",
      "metadata": {
        "id": "tRD-SXDjxo_e"
      },
      "source": [
        "#### Integer Exponents\n",
        "\n",
        "$- {6^2} + 4 \\cdot {3^2}$\n",
        "\n",
        "${\\left( {2{w^4}{v^{ - 5}}} \\right)^{ - 2}}$ (løsning med kun positive eksponenter!)"
      ]
    },
    {
      "cell_type": "code",
      "execution_count": null,
      "metadata": {
        "id": "-NwimLZgygAm"
      },
      "outputs": [],
      "source": [
        "from sympy import *"
      ]
    },
    {
      "cell_type": "code",
      "execution_count": null,
      "metadata": {
        "id": "ltgcIXThyk5H"
      },
      "outputs": [],
      "source": [
        "simplify(-6**2+4*3**2)"
      ]
    },
    {
      "cell_type": "code",
      "execution_count": null,
      "metadata": {
        "id": "opLp_rD7ysbv"
      },
      "outputs": [],
      "source": [
        "w, v = symbols('w v')\n",
        "simplify((2*w**4*v**-5)**-2)"
      ]
    },
    {
      "cell_type": "markdown",
      "metadata": {
        "id": "8hJszpNc1n6M"
      },
      "source": [
        "#### Rational Exponents\n",
        "${\\left( { - 125} \\right)^{\\frac{1}{3}}}$\n",
        "\n",
        "${\\left( {{a^3}\\,{b^{ - \\,\\,\\frac{1}{4}}}} \\right)^{\\frac{2}{3}}}$"
      ]
    },
    {
      "cell_type": "code",
      "execution_count": null,
      "metadata": {
        "id": "d8rY974e8O9D"
      },
      "outputs": [],
      "source": [
        "simplify(-125**(1/3), rational=True)"
      ]
    },
    {
      "cell_type": "code",
      "execution_count": null,
      "metadata": {
        "id": "mbGwQ_wg4pNm"
      },
      "outputs": [],
      "source": [
        "a, b = symbols('a b')\n",
        "simplify((a**3*b**(-1/4))**(2/3), rational=True)"
      ]
    },
    {
      "cell_type": "markdown",
      "metadata": {
        "id": "PiUROziJbJPC"
      },
      "source": [
        "#### Radicals\n",
        "$$\\begin{array}{c} \\sqrt[7]{y}\\\\ \\sqrt[3]{{{x^2}}} \\\\ \\sqrt[3]{{ - 512}} \\\\ \\sqrt x \\left( {4 - 3\\sqrt x } \\right)\\end{array}$$"
      ]
    },
    {
      "cell_type": "code",
      "execution_count": null,
      "metadata": {
        "id": "PvmM6IODdVQT"
      },
      "outputs": [],
      "source": [
        "x, y, z = symbols('x, y , z')"
      ]
    },
    {
      "cell_type": "code",
      "execution_count": null,
      "metadata": {
        "id": "aiwT042tLbY7"
      },
      "outputs": [],
      "source": [
        "simplify((x**2)**(1/3), rational=True)"
      ]
    },
    {
      "cell_type": "code",
      "execution_count": null,
      "metadata": {
        "id": "gmRpNR1WdPHg"
      },
      "outputs": [],
      "source": [
        "simplify(-512**(1/3), rational=True)"
      ]
    },
    {
      "cell_type": "code",
      "execution_count": null,
      "metadata": {
        "id": "W565yrskdwn8"
      },
      "outputs": [],
      "source": [
        "simplify(sqrt(x)*(4 - 3*sqrt(x)), rational = True)"
      ]
    },
    {
      "cell_type": "markdown",
      "metadata": {
        "id": "P3ek1Cjafwui"
      },
      "source": [
        "#### Polynomials\n",
        "\n",
        "$$(4{x^3} - 2{x^2} + 1) + (7{x^2} + 12x)$$\n"
      ]
    },
    {
      "cell_type": "code",
      "execution_count": null,
      "metadata": {
        "id": "9VNfxEeMfLDI"
      },
      "outputs": [],
      "source": [
        "simplify((4*x**3-2*x**2+1)+(7*x**2+12*x))"
      ]
    },
    {
      "cell_type": "markdown",
      "metadata": {
        "id": "P_517b2wgd_S"
      },
      "source": [
        "## Homework 😳\n",
        "\n",
        "![95aaf5684af9cbfe3b1fe0cf66e8b05b.jpeg](data:image/jpeg;base64,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)\n",
        "\n",
        "https://tutorial.math.lamar.edu/Problems/Alg/Preliminaries.aspx\n",
        "\n",
        "- Integer Exponents\n",
        "- Rational Exponents\n",
        "- Radicals\n",
        "- Polynomials\n",
        "\n",
        "\n"
      ]
    },
    {
      "cell_type": "code",
      "execution_count": null,
      "metadata": {
        "id": "WUpot4KJhcFH"
      },
      "outputs": [],
      "source": [
        ""
      ]
    }
  ],
  "metadata": {
    "colab": {
      "name": "2022-ha-am-intro-food2vec.ipynb",
      "provenance": [],
      "collapsed_sections": [
        "fCYzvrtAsdKk",
        "CURX7B8MErQB",
        "OUbaOzCNGhZ8",
        "cWONRfDiP9Ka",
        "9OX29mYHQ4Hg",
        "XC1zOcA4QsWr",
        "gvY6us0dt0DB",
        "tRD-SXDjxo_e",
        "8hJszpNc1n6M",
        "PiUROziJbJPC",
        "P3ek1Cjafwui"
      ],
      "include_colab_link": true
    },
    "kernelspec": {
      "display_name": "Python 3",
      "name": "python3"
    },
    "language_info": {
      "name": "python"
    }
  },
  "nbformat": 4,
  "nbformat_minor": 0
}