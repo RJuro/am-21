{
  "nbformat": 4,
  "nbformat_minor": 0,
  "metadata": {
    "colab": {
      "name": "HA_Math_1.1_Linear Systems_edited",
      "provenance": [],
      "collapsed_sections": [],
      "include_colab_link": true
    },
    "kernelspec": {
      "name": "python3",
      "display_name": "Python 3"
    },
    "language_info": {
      "name": "python"
    }
  },
  "cells": [
    {
      "cell_type": "markdown",
      "metadata": {
        "id": "view-in-github",
        "colab_type": "text"
      },
      "source": [
        "<a href=\"https://colab.research.google.com/github/RJuro/am-21/blob/main/HA_Math_1_1_Linear_Systems_edited.ipynb\" target=\"_parent\"><img src=\"https://colab.research.google.com/assets/colab-badge.svg\" alt=\"Open In Colab\"/></a>"
      ]
    },
    {
      "cell_type": "markdown",
      "metadata": {
        "id": "3h7CQKdSGwaW"
      },
      "source": [
        " # Lineære ligningssystemer"
      ]
    },
    {
      "cell_type": "markdown",
      "metadata": {
        "id": "vrTedTa4wgyP"
      },
      "source": [
        "#### Del 1.1\n",
        "I dette kursus vil vi fokusere på forståelse af lineære funktioner. Specifikt vil vi undersøge rammerne for **lineær algebra**, som giver en måde at repræsentere og forstå løsningerne på **systemer med lineære ligninger**. Et system med lineære ligninger består af flere relaterede funktioner med et fælles sæt variabler. Ordet **lineær ligning** bruges ofte ombytteligt med **lineær funktion**. Mange processer fra den virkelige verden kan modelleres ved hjælp af flere relaterede lineære ligninger. Vi begynder med at udforske et konkret eksempel på et lineært system, et andet ord for system med lineære ligninger, inden vi dykker længere ned i lineær algebra. "
      ]
    },
    {
      "cell_type": "markdown",
      "metadata": {
        "id": "Kqk3bNmnxh36"
      },
      "source": [
        "#### Optimering af løn\n",
        "Lad os sige, at vi skal vælge mellem 2 forskellige jobtilbud. Det første jobtilbud har en ugentlig basisløn på 2500 kr og betaler 300 kr i timen. Vi kan repræsentere dette tilbud som $y = 2500 + 300x$, hvor $y$ repræsenterer kroner optjent den uge og $x$ repræsenterer arbejdstimer den uge. Det andet jobtilbud har en ugentlig basisløn på 500 kr og betaler 400 kr i timen. Vi kan repræsentere dette tilbud som $y = 500 + 400x$, hvor $y$ også repræsenterer kr tjent den uge og $x$ også repræsenterer arbejdstimer den uge. "
      ]
    },
    {
      "cell_type": "markdown",
      "metadata": {
        "id": "U9MwgpUeyJXX"
      },
      "source": [
        "Vi ønsker at forstå, hvilket jobtilbud der er bedre. Hvis vi ved nøjagtigt det beløb, vi gerne vil tjene hver uge ($y$), kan vi erstatte denne værdi i begge ligninger og løse for at identificere, hvilket job der kræver, at vi arbejder færre timer. Hvis vi ved nøjagtigt det antal timer, vi vil arbejde hver uge ($x$), kan vi erstatte denne værdi i begge ligninger og løse for at identificere, hvilket job der giver os flere penge for den samme mængde arbejdede timer."
      ]
    },
    {
      "cell_type": "markdown",
      "metadata": {
        "id": "bUFeQ7pvybWQ"
      },
      "source": [
        "**Vi ønsker i stedet at finde ud af:**\n",
        "* Ved hvilket antal arbejdede timer kan vi forvente at tjene det samme beløb på begge job? \n",
        "* Hvor mange timer skal vi arbejde for at tjene flere penge på det første job end det andet job?\n",
        "\n",
        "For at besvare det første spørgsmål skal vi finde værdien, hvor begge værdier er ækvivalente. Når vi først ved, hvor de krydser hinanden, kan vi let finde ud af svar på det andet spørgsmål. "
      ]
    },
    {
      "cell_type": "markdown",
      "metadata": {
        "id": "Wae9zPZXzMlY"
      },
      "source": [
        "Lad os starte med at visualisere begge disse ligninger på et plot og få en visuel forståelse for, hvor de krydser hinanden.\n",
        "\n",
        "* Brug numpy.linspace() til at generere 1000 jævnt fordelte værdier mellem 0 og 50 og tildel til $x$.\n",
        "* Transformér $x$ ved hjælp af ligningen $y = 300x + 2500$, og tildel resultatet til y1.  \n",
        "* Transformér $x$ ved hjælp af ligningen $y = 400x + 500$, og tildel resultatet til y2. \n",
        "* Generer 2 linjediagrammer på samme delplot: \n",
        "  - En med $x$ på x-aksen og y1 på y-aksen. Indstil linjefarven til \"orange\". \n",
        "  - En med $x$ på x-aksen og y2 på y-aksen. Indstil linjefarven til \"blue\". \n",
        "\n",
        "Undgå at vælge et værdiinterval for x- og y-akserne, og lad i stedet matplotlib vælge automatisk baseret på data."
      ]
    },
    {
      "cell_type": "code",
      "metadata": {
        "id": "RPsMDYP-GWc1"
      },
      "source": [
        "# Importer NumPy som np og Matplotlib.pyplot som plt\n",
        "import numpy as np\n",
        "np.set_printoptions(suppress=True)\n",
        "\n",
        "import matplotlib.pyplot as plt"
      ],
      "execution_count": 1,
      "outputs": []
    },
    {
      "cell_type": "code",
      "metadata": {
        "id": "uMIQRfXN1YpZ"
      },
      "source": [
        "x = np.linspace(0, 50, num=1000)"
      ],
      "execution_count": 4,
      "outputs": []
    },
    {
      "cell_type": "code",
      "metadata": {
        "colab": {
          "base_uri": "https://localhost:8080/"
        },
        "id": "KLiz1H-9_eki",
        "outputId": "556f4abd-cffe-4100-f3f9-5c3b65fe5a0b"
      },
      "source": [
        "len(x)"
      ],
      "execution_count": 5,
      "outputs": [
        {
          "output_type": "execute_result",
          "data": {
            "text/plain": [
              "1000"
            ]
          },
          "metadata": {
            "tags": []
          },
          "execution_count": 5
        }
      ]
    },
    {
      "cell_type": "code",
      "metadata": {
        "id": "--OeGn2-5x0v"
      },
      "source": [
        "y1 = 300*x + 2500"
      ],
      "execution_count": 6,
      "outputs": []
    },
    {
      "cell_type": "code",
      "metadata": {
        "id": "PWbUE9qY6sqx"
      },
      "source": [
        "y2 = 400*x+500"
      ],
      "execution_count": 7,
      "outputs": []
    },
    {
      "cell_type": "code",
      "metadata": {
        "colab": {
          "base_uri": "https://localhost:8080/",
          "height": 282
        },
        "id": "62PK6pam6xa8",
        "outputId": "19c036e0-377c-477f-fc35-cdd1bbad2fed"
      },
      "source": [
        "plt.plot(x, y1, color = \"gold\")\n",
        "plt.plot(x, y2, color = 'blue')"
      ],
      "execution_count": 9,
      "outputs": [
        {
          "output_type": "execute_result",
          "data": {
            "text/plain": [
              "[<matplotlib.lines.Line2D at 0x7f1f16174bd0>]"
            ]
          },
          "metadata": {
            "tags": []
          },
          "execution_count": 9
        },
        {
          "output_type": "display_data",
          "data": {
            "image/png": "[encoded data removed]",
            "text/plain": [
              "<Figure size 432x288 with 1 Axes>"
            ]
          },
          "metadata": {
            "tags": [],
            "needs_background": "light"
          }
        }
      ]
    },
    {
      "cell_type": "markdown",
      "metadata": {
        "id": "9I9uDxju1Y35"
      },
      "source": [
        "#### Del 1.2\n",
        "Fra plottet vi genererede i del 1.1, kan vi fortælle, at begge funktioner skærer hinanden et sted nær punktet (20)"
      ]
    },
    {
      "cell_type": "markdown",
      "metadata": {
        "id": "7yB536zv1dxL"
      },
      "source": [
        "Dette punkt, hvor begge ligninger krydser, er kendt som en **løsning** på systemet, fordi at erstatte $x$ og $y$ i begge funktioner i systemet gør dem begge sande. Sagt på en anden måde, ved at tilslutte $x$ værdien af løsningen til begge funktioner giver den samme $y$ værdi. "
      ]
    },
    {
      "cell_type": "markdown",
      "metadata": {
        "id": "DqGpjUg71znB"
      },
      "source": [
        "Lad os undersøge, hvordan man løser dette system manuelt. Fordi begge funktioner deler de samme variabler, kan vi repræsentere en af variablerne, for eksempel $y$ med hensyn til den anden variabel og løse $x$ værdien. Derefter kan vi erstatte denne $x$ værdi i begge ligninger for at bestemme $y$ værdien. Denne proces er kendt som **løsning ved eliminering** eller **eliminationsmetoden**. Lad os gennemgå, hvordan vi anvender denne proces på vores system."
      ]
    },
    {
      "cell_type": "markdown",
      "metadata": {
        "id": "ryGCuFMP2I29"
      },
      "source": [
        "Først erstatter vi $y$ i den anden funktion med den første funktion:"
      ]
    },
    {
      "cell_type": "markdown",
      "metadata": {
        "id": "2d4TQI7XNjmS"
      },
      "source": [
        "\n",
        "\\begin{equation}\n",
        "\\begin{split}\n",
        "y & = {2500 + 300x} \\\\\n",
        "y & = {500 + 400x}\n",
        "\\end{split}\n",
        "\\rightarrow 2500 - 500 = 400x - 300x \\rightarrow 2000 = 100x \\rightarrow 20 = x\n",
        "\\end{equation} "
      ]
    },
    {
      "cell_type": "markdown",
      "metadata": {
        "id": "z8HuM3pr5U0U"
      },
      "source": [
        "Bemærk, at rækkefølge ikke er vigtig, og vi kunne også have erstattet $y$ i den første funktion med den anden funktion. Nu hvor vi ved at $x = 20$, kan vi erstatte dette i begge ligninger for at bestemme $y$."
      ]
    },
    {
      "cell_type": "markdown",
      "metadata": {
        "id": "5oYGzkY0hu5O"
      },
      "source": [
        "\\begin{equation}\n",
        "\\begin{split}\n",
        "y & = {2500 + 300(20)} \\\\\n",
        "y & = {500 + 400(20)}\n",
        "\\end{split}\n",
        "\\rightarrow \n",
        "\\begin{split} \n",
        "y & = 8500 \\\\\n",
        "y & = 8500\n",
        "\\end{split}\n",
        "\\end{equation} "
      ]
    },
    {
      "cell_type": "markdown",
      "metadata": {
        "id": "k1lZBda65geo"
      },
      "source": [
        "Løsningen på vores system er (20, 8500). Dette betyder, at hvis vi arbejder nøjagtigt 20 timer om ugen, tjener vi det samme beløb på begge job: 8500. "
      ]
    },
    {
      "cell_type": "markdown",
      "metadata": {
        "id": "nLN-3prPK7zU"
      },
      "source": [
        "Mens vi kan løse et lineært system som dette manuelt ved hjælp af aritmetik, kan vi ikke bruge den samme teknik til at løse meget mere komplekse systemer. Mange processer i den virkelige verden er modelleret ved hjælp af langt flere end 2 variabler og funktioner, og det er umuligt at løse manuelt. Disse typer systemer kan løses ved hjælp af lineær algebra ved hjælp af en variation af aritmetisk eliminering kaldet **Gauss-elimination**. Vi gennemgår, hvordan man udfører Gauss-elimination i resten af denne mission for at finde en løsning på vores lineære system."
      ]
    },
    {
      "cell_type": "markdown",
      "metadata": {
        "id": "lGgGeRGOLGmQ"
      },
      "source": [
        "#### Del 1.3\n",
        "Lineær algebra giver en måde at repræsentere et lineært system på kompakt måde, kendt som en **matrix**, og et sæt regler til manipulation af denne repræsentation, også kendt som en **algebra**. En matrix bruger rækker og kolonner til kun at repræsentere koefficienterne i et lineært system, og det svarer til den måde, data er repræsenteret i et regneark eller en dataramme. Før vi kan repræsentere vores system i en matrix, er vi nødt til at om-arrangere hver af vores funktioner i den **generelle form**. \n"
      ]
    },
    {
      "cell_type": "markdown",
      "metadata": {
        "id": "4j1ZisAqLiGh"
      },
      "source": [
        "Dem der kan huske calculus (gymnasietiden) ved at lineære funktioner ofte skrives i hældningsafskæringsform (slope-intercept form):\n",
        "> $y = mx + b$\n",
        "\n",
        "I lineær algebra repræsenterer vi normalt lineære funktioner i den generelle form:\n",
        "> $Ax + By = c$\n",
        "\n",
        "I den generelle form er variablerne og deres koefficienter på *venstre* side, mens det konstante term er på *højre* side. Vi kan skifte fra punkt-hældningsform til den generelle form ved at om-arrangere:\n",
        "> $mx − y = −b$\n",
        "\n",
        "Sådan ser den første funktion ud i generel form:\n",
        "> $300x − y = -2500$\n",
        "\n",
        "Sådan ser den anden funktion ud i generel form:\n",
        "> $400x − y = -500$\n",
        "\n",
        "\n"
      ]
    },
    {
      "cell_type": "markdown",
      "metadata": {
        "id": "0EteAzX1MrOh"
      },
      "source": [
        "For at repræsentere begge lineære funktioner i et system bruger vi en **augmenteret matrix**:\n",
        "\n",
        "\n",
        "\n",
        "$$\n",
        "\\left[\n",
        "  \\begin{matrix}\n",
        "    300 & -1 \\\\\n",
        "    400 & -1 \\\\\n",
        "  \\end{matrix}\n",
        "  \\left|\n",
        "    \\,\n",
        "    \\begin{matrix}\n",
        "      -2500  \\\\\n",
        "      -500  \\\\\n",
        "    \\end{matrix}\n",
        "  \\right.\n",
        "\\right]\n",
        "$$\n"
      ]
    },
    {
      "cell_type": "markdown",
      "metadata": {
        "id": "JfmcUXbFMsLB"
      },
      "source": [
        "I en augmenteret matrix er koefficienterne fra venstre side af funktionerne på venstre side af bjælken (|), mens konstanterne fra højre side af funktionerne er på højre side. En augmenteret matrix giver os mulighed for at repræsentere et lineært system, der kun bruger det reelle antal koefficienter og konstanter. \n",
        "\n",
        "Her er et resumé af de 3 forskellige repræsentationer af det lineære system, vi lige har diskuteret:\n",
        "\n",
        "**slope-intercept form**\n",
        "$$ \n",
        "y  = 2500 + 300x \\\\\n",
        "y  = 500 + 400x \n",
        "$$\n",
        "\n",
        "**general form**\n",
        "\n",
        " $$300x − y = -2500\\\\\n",
        " 400x − y = -500 $$\n",
        "\n",
        "**augmented matrix**\n",
        "\n",
        "$$\n",
        "\\left[\n",
        "  \\begin{matrix}\n",
        "    300 & -1 \\\\\n",
        "    400 & -1 \\\\\n",
        "  \\end{matrix}\n",
        "  \\left|\n",
        "    \\,\n",
        "    \\begin{matrix}\n",
        "      -2500  \\\\\n",
        "      -500  \\\\\n",
        "    \\end{matrix}\n",
        "  \\right.\n",
        "\\right]\n",
        "$$"
      ]
    },
    {
      "cell_type": "markdown",
      "metadata": {
        "id": "_96OGU0yM15H"
      },
      "source": [
        "I den næste del gennemgår vi, hvordan vi repræsenterer denne augmenterede matrix i **NumPy**. I senere sessioner lærer vi reglerne for matrixmanipulation og hvordan vi anvender dem for at nå frem til systemets løsning."
      ]
    },
    {
      "cell_type": "markdown",
      "metadata": {
        "id": "LJTPYsK_M_Q-"
      },
      "source": [
        "#### Del 1.4\n",
        "For at repræsentere en augmenteret matrix kan vi bruge `numpy.asarray()` funktionen og videregive hver række som en liste fra den øverste række til den nederste række. Den følgende kode repræsenterer en matrix med 2 rækker og 3 kolonner, der udelukkende indeholder 0'er:\n"
      ]
    },
    {
      "cell_type": "markdown",
      "metadata": {
        "id": "7Kzft2a0-Huw"
      },
      "source": [
        "lad os bruge vores værdier fra casen"
      ]
    },
    {
      "cell_type": "code",
      "metadata": {
        "id": "t5iPhBunTzgT"
      },
      "source": [
        "random_matrix_med_mange_0 = np.asarray([\n",
        "                         [0, 0, 0],\n",
        "                         [0, 0, 0]\n",
        "])"
      ],
      "execution_count": 10,
      "outputs": []
    },
    {
      "cell_type": "markdown",
      "metadata": {
        "id": "H3-IPn2B-cj2"
      },
      "source": [
        "en numpy matrix (array) har en shape og der er flere inbyggede funktioner som man kan bruge til at manipulere en matrix."
      ]
    },
    {
      "cell_type": "code",
      "metadata": {
        "colab": {
          "base_uri": "https://localhost:8080/"
        },
        "id": "sAclLQUm-byV",
        "outputId": "fc47e85f-3548-4220-830d-6278cdf7dcbb"
      },
      "source": [
        "random_matrix_med_mange_0.shape"
      ],
      "execution_count": 11,
      "outputs": [
        {
          "output_type": "execute_result",
          "data": {
            "text/plain": [
              "(2, 3)"
            ]
          },
          "metadata": {
            "tags": []
          },
          "execution_count": 11
        }
      ]
    },
    {
      "cell_type": "markdown",
      "metadata": {
        "id": "clc4GT1AUQRS"
      },
      "source": [
        "her kan vi se, at der er 2 rækker og 3 kolonner\n",
        "Opret nu en NumPy 2d-**array** af vores augmenterede case-matrix \"`matrix_one`\""
      ]
    },
    {
      "cell_type": "code",
      "metadata": {
        "id": "hKTFWn9oTtVY",
        "colab": {
          "base_uri": "https://localhost:8080/"
        },
        "outputId": "9723d54a-b513-4ffd-eab8-2d050ef5a3f4"
      },
      "source": [
        "matrix_one = np.asarray([\n",
        "                         [300, -1, -2500],\n",
        "                         [400, -1, -500]\n",
        "], dtype=np.float32)\n",
        "matrix_one"
      ],
      "execution_count": 12,
      "outputs": [
        {
          "output_type": "execute_result",
          "data": {
            "text/plain": [
              "array([[  300.,    -1., -2500.],\n",
              "       [  400.,    -1.,  -500.]], dtype=float32)"
            ]
          },
          "metadata": {
            "tags": []
          },
          "execution_count": 12
        }
      ]
    },
    {
      "cell_type": "markdown",
      "metadata": {
        "id": "L71-YckU-pAD"
      },
      "source": [
        "`np.array` eller `np.asarray`kan også bruges til at danne en matrix med udganspunkt i en `pandas` dataframe.\n",
        "Pandas dataframes selv har også en funktion, som hedder `to_numpy` - hvilket vil gøre det samme.\n",
        "Dvs. det er rigtig nemt at gå fra tabular data til matrix og omvendt, gvor man kan bruge `pd.DataFrame` til at lave en matrix om til en dataframe.\n",
        "\n",
        "\n",
        "\n"
      ]
    },
    {
      "cell_type": "code",
      "metadata": {
        "id": "p3AitEPf_jVd"
      },
      "source": [
        "import pandas as pd"
      ],
      "execution_count": 13,
      "outputs": []
    },
    {
      "cell_type": "code",
      "metadata": {
        "colab": {
          "base_uri": "https://localhost:8080/",
          "height": 110
        },
        "id": "F7ZN4UGB_k_K",
        "outputId": "9c29c753-42b0-4fa6-d478-a52855b52c22"
      },
      "source": [
        "df = pd.DataFrame([[300, -1, -2500],\n",
        "                         [400, -1, -500]], columns=['v1','v2','v3'])\n",
        "df"
      ],
      "execution_count": 14,
      "outputs": [
        {
          "output_type": "execute_result",
          "data": {
            "text/html": [
              "<div>\n",
              "<style scoped>\n",
              "    .dataframe tbody tr th:only-of-type {\n",
              "        vertical-align: middle;\n",
              "    }\n",
              "\n",
              "    .dataframe tbody tr th {\n",
              "        vertical-align: top;\n",
              "    }\n",
              "\n",
              "    .dataframe thead th {\n",
              "        text-align: right;\n",
              "    }\n",
              "</style>\n",
              "<table border=\"1\" class=\"dataframe\">\n",
              "  <thead>\n",
              "    <tr style=\"text-align: right;\">\n",
              "      <th></th>\n",
              "      <th>v1</th>\n",
              "      <th>v2</th>\n",
              "      <th>v3</th>\n",
              "    </tr>\n",
              "  </thead>\n",
              "  <tbody>\n",
              "    <tr>\n",
              "      <th>0</th>\n",
              "      <td>300</td>\n",
              "      <td>-1</td>\n",
              "      <td>-2500</td>\n",
              "    </tr>\n",
              "    <tr>\n",
              "      <th>1</th>\n",
              "      <td>400</td>\n",
              "      <td>-1</td>\n",
              "      <td>-500</td>\n",
              "    </tr>\n",
              "  </tbody>\n",
              "</table>\n",
              "</div>"
            ],
            "text/plain": [
              "    v1  v2    v3\n",
              "0  300  -1 -2500\n",
              "1  400  -1  -500"
            ]
          },
          "metadata": {
            "tags": []
          },
          "execution_count": 14
        }
      ]
    },
    {
      "cell_type": "code",
      "metadata": {
        "colab": {
          "base_uri": "https://localhost:8080/"
        },
        "id": "sRQ3gKOj_3Jd",
        "outputId": "91eaaf6c-3cbc-43b6-fb92-e922f2bb8deb"
      },
      "source": [
        "df.to_numpy()"
      ],
      "execution_count": 15,
      "outputs": [
        {
          "output_type": "execute_result",
          "data": {
            "text/plain": [
              "array([[  300,    -1, -2500],\n",
              "       [  400,    -1,  -500]])"
            ]
          },
          "metadata": {
            "tags": []
          },
          "execution_count": 15
        }
      ]
    },
    {
      "cell_type": "markdown",
      "metadata": {
        "id": "wkyLJY-7Uicf"
      },
      "source": [
        "#### Del 1.5\n",
        "Det vigtige spørgsmål er nu, hvordan når vi frem til den samme løsning, som vi gjorde tidligere med aritmetik? Tidligere brugte vi aritmetik til at beregne løsningen på systemet og repræsenterede det som et koordinatpar: (20, 8500). \n",
        "\n",
        "Når vi arbejder med matrixrepræsentationen, kan løsningen skrives som:\n",
        "\n",
        "$$\n",
        "\\left[\\begin{array}{rr|r}\n",
        "1 & 0 & 20 \\\\ \n",
        "0 & 1 & 8500\n",
        "\\end{array}\\right]\n",
        "$$\n",
        "\n",
        "\n",
        "Intuition kan ses her:\n",
        "\n",
        "\n",
        "**Hvis det kan oversættes til**\n",
        "\n",
        "$$\n",
        "\\begin{align}\n",
        "300x − y = -2500\\\\\n",
        "400x − y = -500 \\\\\n",
        "\\end{align}\n",
        "$$\n",
        "\n",
        "**det her**\n",
        "\n",
        "$$\n",
        "\\left[\n",
        "  \\begin{matrix}\n",
        "    300 & -1 \\\\\n",
        "    400 & -1 \\\\\n",
        "  \\end{matrix}\n",
        "  \\left|\n",
        "    \\,\n",
        "    \\begin{matrix}\n",
        "      -2500  \\\\\n",
        "      -500  \\\\\n",
        "    \\end{matrix}\n",
        "  \\right.\n",
        "\\right]\n",
        "$$\n",
        "\n",
        "**så kan man vel skrive**\n",
        "\n",
        "$$\n",
        "\\left[\\begin{array}{rr|r}\n",
        "1 & 0 & 20 \\\\ \n",
        "0 & 1 & 8500\n",
        "\\end{array}\\right]\n",
        "$$\n",
        "\n",
        "**som**\n",
        "\n",
        "$$\n",
        "\\begin{align}\n",
        "1x + 0y = 20\\\\\n",
        "0x + 1y = 8500 \\\\\n",
        "\\end{align}\n",
        "$$\n",
        "\n",
        "\n"
      ]
    },
    {
      "cell_type": "markdown",
      "metadata": {
        "id": "ebsR_T-JFsFu"
      },
      "source": [
        "For at løse et lineært system er vi nødt til at udføre en række transformationer for at forsøge at udvikle matrixen til denne form (hvor løsningen præsenteres). Ikke alle lineære systemer har dog løsninger, og vi vil undersøge dette nærmere i løbet af dette kursus."
      ]
    },
    {
      "cell_type": "markdown",
      "metadata": {
        "id": "n7J0vSSWFyDj"
      },
      "source": [
        "#### Del 1.6\n",
        "\n",
        "For at bevare forholdene i det lineære system kan vi kun bruge følgende rækkeoperationer:"
      ]
    },
    {
      "cell_type": "markdown",
      "metadata": {
        "id": "Ai7LhXTwGEFT"
      },
      "source": [
        "1. rækker kan udbyttes\n",
        "\n",
        "$$\n",
        "\\left[\\begin{array}{rr|r}\n",
        "300 & -1 & -2500 \\\\ \n",
        "400 & -1 & -500\n",
        "\\end{array}\\right]\n",
        "$$\n",
        "\n",
        "$$\\downarrow \\text{Byt } R_1\\  \\& \\  R_2$$\n",
        "\n",
        "$$\n",
        "\\left[\\begin{array}{rr|r}\n",
        "400 & -1 & -500\\\\\n",
        "300 & -1 & -2500\n",
        "\\end{array}\\right]\n",
        "$$"
      ]
    },
    {
      "cell_type": "markdown",
      "metadata": {
        "id": "YmCTXuYfGH_X"
      },
      "source": [
        "2. Enhver række kan multipliceres med en konstant der ikke er 0:\n",
        "\n",
        "$$\n",
        "\\left[\\begin{array}{rr|r}\n",
        "300 & -1 & -2500 \\\\ \n",
        "400 & -1 & -500\n",
        "\\end{array}\\right]\n",
        "$$\n",
        "\n",
        "$$\\downarrow 2·R_1\\  3·R_2 $$\n",
        "\n",
        "$$\n",
        "\\left[\\begin{array}{rr|r}\n",
        "600 & -2 & -5000\\\\\n",
        "1200 & -3 & -1500\n",
        "\\end{array}\\right]\n",
        "$$"
      ]
    },
    {
      "cell_type": "markdown",
      "metadata": {
        "id": "LOg0iaL9GO1X"
      },
      "source": [
        "3. Enhver række kan tilføjes en anden række\n",
        "\n",
        "$$\n",
        "\\left[\\begin{array}{rr|r}\n",
        "300 & -1 & -2500 \\\\ \n",
        "400 & -1 & -500\n",
        "\\end{array}\\right]\n",
        "$$\n",
        "\n",
        "$$\\downarrow R_2 = R_1 + R_2 $$\n",
        "\n",
        "$$\n",
        "\\left[\\begin{array}{rr|r}\n",
        "300 & -1 & -2500\\\\\n",
        "700 & -2 & -3000\n",
        "\\end{array}\\right]\n",
        "$$"
      ]
    },
    {
      "cell_type": "markdown",
      "metadata": {
        "id": "EeJZw2z2GNHW"
      },
      "source": [
        "Selvom disse kan virke nye, er rækkeoperationerne de samme tilladte operationer, som vi kan udføre, når funktionerne er i ligningsform. Før vi dykker ned i, hvordan vi løser vores lineære system ved hjælp af disse rækkeoperationer, kan vi først øve os på at udføre disse transformationer i NumPy. \n",
        "\n",
        "For at bytte 2 rækker i et NumPy ndarray-objekt skal vi bruge dobbelt parentesnotation til at angive ændringen i rækkefølgen:\n"
      ]
    },
    {
      "cell_type": "code",
      "metadata": {
        "id": "4s9IlnkaFzxc"
      },
      "source": [
        "matrix = np.asarray([\n",
        "                     [20, 4],\n",
        "                     [66, 7]\n",
        "])"
      ],
      "execution_count": 16,
      "outputs": []
    },
    {
      "cell_type": "code",
      "metadata": {
        "colab": {
          "base_uri": "https://localhost:8080/"
        },
        "id": "B8ASzO2VDjPF",
        "outputId": "b7e1f0f8-de9c-4b69-f34f-247d07a1a5bf"
      },
      "source": [
        "matrix"
      ],
      "execution_count": 17,
      "outputs": [
        {
          "output_type": "execute_result",
          "data": {
            "text/plain": [
              "array([[20,  4],\n",
              "       [66,  7]])"
            ]
          },
          "metadata": {
            "tags": []
          },
          "execution_count": 17
        }
      ]
    },
    {
      "cell_type": "code",
      "metadata": {
        "colab": {
          "base_uri": "https://localhost:8080/"
        },
        "id": "WL8B_Ls3Dtgy",
        "outputId": "2085ce70-8c75-4415-a0ae-0dfc097f1c24"
      },
      "source": [
        "#vis R1\n",
        "matrix[0,:]"
      ],
      "execution_count": 18,
      "outputs": [
        {
          "output_type": "execute_result",
          "data": {
            "text/plain": [
              "array([20,  4])"
            ]
          },
          "metadata": {
            "tags": []
          },
          "execution_count": 18
        }
      ]
    },
    {
      "cell_type": "code",
      "metadata": {
        "colab": {
          "base_uri": "https://localhost:8080/"
        },
        "id": "6jIbEhT5Dxkn",
        "outputId": "b91affb9-6580-49c1-aae2-ef81ed1a00c2"
      },
      "source": [
        "# Vis R2\n",
        "matrix[1,:]"
      ],
      "execution_count": 19,
      "outputs": [
        {
          "output_type": "execute_result",
          "data": {
            "text/plain": [
              "array([66,  7])"
            ]
          },
          "metadata": {
            "tags": []
          },
          "execution_count": 19
        }
      ]
    },
    {
      "cell_type": "code",
      "metadata": {
        "colab": {
          "base_uri": "https://localhost:8080/"
        },
        "id": "aGScS3O8D0O0",
        "outputId": "b3caa061-827c-4ff6-dddb-7ec9f25de12f"
      },
      "source": [
        "# Vis K1\n",
        "matrix[:,0]"
      ],
      "execution_count": 20,
      "outputs": [
        {
          "output_type": "execute_result",
          "data": {
            "text/plain": [
              "array([20, 66])"
            ]
          },
          "metadata": {
            "tags": []
          },
          "execution_count": 20
        }
      ]
    },
    {
      "cell_type": "code",
      "metadata": {
        "colab": {
          "base_uri": "https://localhost:8080/"
        },
        "id": "heeOHCZyDrLV",
        "outputId": "6846973d-e896-459a-ca02-8ed29281a681"
      },
      "source": [
        "# Vis det hele\n",
        "matrix"
      ],
      "execution_count": 21,
      "outputs": [
        {
          "output_type": "execute_result",
          "data": {
            "text/plain": [
              "array([[20,  4],\n",
              "       [66,  7]])"
            ]
          },
          "metadata": {
            "tags": []
          },
          "execution_count": 21
        }
      ]
    },
    {
      "cell_type": "code",
      "metadata": {
        "id": "V3at5DyBD5WN"
      },
      "source": [
        "# Byt R1 & R2\n",
        "matrix_swap = matrix[[1,0],:]"
      ],
      "execution_count": 25,
      "outputs": []
    },
    {
      "cell_type": "code",
      "metadata": {
        "colab": {
          "base_uri": "https://localhost:8080/"
        },
        "id": "tuVVRj1AD8WD",
        "outputId": "10d80473-4311-447c-a3ed-4b00f1f85280"
      },
      "source": [
        "matrix_swap"
      ],
      "execution_count": 24,
      "outputs": [
        {
          "output_type": "execute_result",
          "data": {
            "text/plain": [
              "array([[66,  7],\n",
              "       [20,  4]])"
            ]
          },
          "metadata": {
            "tags": []
          },
          "execution_count": 24
        }
      ]
    },
    {
      "cell_type": "markdown",
      "metadata": {
        "id": "qOaRefzHG8Xr"
      },
      "source": [
        "For at multiplicere en række med en ikke-nul konstant vælger vi rækken, bruger * operatoren til at multiplicere alle værdierne med en skalær værdi og tildeler derefter den transformerede række tilbage:"
      ]
    },
    {
      "cell_type": "code",
      "metadata": {
        "id": "WiTzUMOnG6dl"
      },
      "source": [
        "# Multiplicer anden række med 2:\n",
        "matrix[1] = 2*matrix[1]"
      ],
      "execution_count": 26,
      "outputs": []
    },
    {
      "cell_type": "markdown",
      "metadata": {
        "id": "w_wDNu_BHJoi"
      },
      "source": [
        "For at tilføje en række til en anden række skal vi tilføje begge rækker og derefter tildele den tilbage til den række, vi vil overskrive:"
      ]
    },
    {
      "cell_type": "code",
      "metadata": {
        "id": "6kz_AuUfHWF3"
      },
      "source": [
        "# Tilføj den anden række til den første: \n",
        "matrix[1] = matrix[1] + matrix[0]"
      ],
      "execution_count": 27,
      "outputs": []
    },
    {
      "cell_type": "markdown",
      "metadata": {
        "id": "5ryBskcOHn-X"
      },
      "source": [
        "Endelig kan vi kombinere og kæde disse regler for at udføre mere komplekse rækkeomdannelser:"
      ]
    },
    {
      "cell_type": "code",
      "metadata": {
        "id": "yf5VWQpqHpt2"
      },
      "source": [
        "matrix[1] = 0.5*matrix[1] + matrix[0] + matrix[1]"
      ],
      "execution_count": 29,
      "outputs": []
    },
    {
      "cell_type": "markdown",
      "metadata": {
        "id": "tvJs50JtH1VI"
      },
      "source": [
        "Bemærk, at du ikke kan gange eller dele med andre rækker.\n",
        "\n",
        "Del den første række fra matrix_one med 300.\n"
      ]
    },
    {
      "cell_type": "code",
      "metadata": {
        "colab": {
          "base_uri": "https://localhost:8080/"
        },
        "id": "VXyxZYywIVXY",
        "outputId": "a7175f9e-5714-4401-9112-b881961d4aa1"
      },
      "source": [
        "matrix_one = np.asarray([\n",
        "                         [300, -1, -2500],\n",
        "                         [400, -1, -500]\n",
        "], dtype=np.float32)\n",
        "matrix_one"
      ],
      "execution_count": 30,
      "outputs": [
        {
          "output_type": "execute_result",
          "data": {
            "text/plain": [
              "array([[  300.,    -1., -2500.],\n",
              "       [  400.,    -1.,  -500.]], dtype=float32)"
            ]
          },
          "metadata": {
            "tags": []
          },
          "execution_count": 30
        }
      ]
    },
    {
      "cell_type": "code",
      "metadata": {
        "id": "WwNUlTGZH2nq",
        "colab": {
          "base_uri": "https://localhost:8080/"
        },
        "outputId": "eeef8c1b-d456-4e42-c0ed-556f400ebb2c"
      },
      "source": [
        "matrix_one"
      ],
      "execution_count": 31,
      "outputs": [
        {
          "output_type": "execute_result",
          "data": {
            "text/plain": [
              "array([[  300.,    -1., -2500.],\n",
              "       [  400.,    -1.,  -500.]], dtype=float32)"
            ]
          },
          "metadata": {
            "tags": []
          },
          "execution_count": 31
        }
      ]
    },
    {
      "cell_type": "code",
      "metadata": {
        "id": "26c3Yr6MEgoF"
      },
      "source": [
        "matrix_one[0] = matrix_one[0]/300"
      ],
      "execution_count": 32,
      "outputs": []
    },
    {
      "cell_type": "code",
      "metadata": {
        "colab": {
          "base_uri": "https://localhost:8080/"
        },
        "id": "Pc4e_DJ1GH-7",
        "outputId": "5a17c05f-27cf-4f45-a811-4eb39833463e"
      },
      "source": [
        "matrix_one"
      ],
      "execution_count": 33,
      "outputs": [
        {
          "output_type": "execute_result",
          "data": {
            "text/plain": [
              "array([[   1.        ,   -0.00333333,   -8.333333  ],\n",
              "       [ 400.        ,   -1.        , -500.        ]], dtype=float32)"
            ]
          },
          "metadata": {
            "tags": []
          },
          "execution_count": 33
        }
      ]
    },
    {
      "cell_type": "markdown",
      "metadata": {
        "id": "FM1ezlM-H2vg"
      },
      "source": [
        "#### Del 1.7\n",
        "For at finde løsningerne i en matrix er der to hovedtrin, vi skal tage. Det første trin er at om-arrangere matrixen i **echelon-form**. I denne form er værdierne på de diagonale placeringer alle lig med 1, og værdierne under diagonalen er alle lig med 0.\n",
        "\n",
        "$$\n",
        "\\left[\\begin{array}{rr|r}\n",
        "1 & ? & ? \\\\ \n",
        "0 & 1 & ?\n",
        "\\end{array}\\right]\n",
        "$$"
      ]
    },
    {
      "cell_type": "markdown",
      "metadata": {
        "id": "wAVtIy4uH6w3"
      },
      "source": [
        "Vi kan først dele den første række med 300, så den diagonale værdi på den første række bliver 1\n",
        "\n",
        "$$R_1 = R_1 / 300$$\n",
        "\n",
        "det har vi lige klaret 👏"
      ]
    },
    {
      "cell_type": "markdown",
      "metadata": {
        "id": "GPyYHrFjICap"
      },
      "source": [
        "Lad os derefter trække 400 gange den første række fra anden række:"
      ]
    },
    {
      "cell_type": "code",
      "metadata": {
        "id": "XcqJDCbEIGGd"
      },
      "source": [
        "matrix_one[1] = matrix_one[1] - 400*matrix_one[0]"
      ],
      "execution_count": 34,
      "outputs": []
    },
    {
      "cell_type": "code",
      "metadata": {
        "colab": {
          "base_uri": "https://localhost:8080/"
        },
        "id": "Suw0gXAEHFc3",
        "outputId": "b68b3567-f368-4b8b-c3a2-c33e2f187672"
      },
      "source": [
        "matrix_one"
      ],
      "execution_count": 35,
      "outputs": [
        {
          "output_type": "execute_result",
          "data": {
            "text/plain": [
              "array([[   1.        ,   -0.00333333,   -8.333333  ],\n",
              "       [   0.        ,    0.33333337, 2833.3333    ]], dtype=float32)"
            ]
          },
          "metadata": {
            "tags": []
          },
          "execution_count": 35
        }
      ]
    },
    {
      "cell_type": "markdown",
      "metadata": {
        "id": "ZnOMWk0OIGNr"
      },
      "source": [
        "Lad os udføre de sidste transformationer for at få matrixen til echelon-form"
      ]
    },
    {
      "cell_type": "code",
      "metadata": {
        "id": "ai2yd8AqIIkC"
      },
      "source": [
        "matrix_one[1] = matrix_one[1] * (1/matrix_one[1,1])"
      ],
      "execution_count": 36,
      "outputs": []
    },
    {
      "cell_type": "code",
      "metadata": {
        "id": "posV3PTwIImQ",
        "colab": {
          "base_uri": "https://localhost:8080/"
        },
        "outputId": "74533adf-35a9-48cb-9529-bd8427e0aa04"
      },
      "source": [
        "matrix_one"
      ],
      "execution_count": 37,
      "outputs": [
        {
          "output_type": "execute_result",
          "data": {
            "text/plain": [
              "array([[   1.        ,   -0.00333333,   -8.333333  ],\n",
              "       [   0.        ,    1.        , 8499.999     ]], dtype=float32)"
            ]
          },
          "metadata": {
            "tags": []
          },
          "execution_count": 37
        }
      ]
    },
    {
      "cell_type": "code",
      "metadata": {
        "id": "4MqII-PcI08q"
      },
      "source": [
        "matrix_one[0] = matrix_one[0] - (matrix_one[1] * matrix_one[0,1])"
      ],
      "execution_count": 38,
      "outputs": []
    },
    {
      "cell_type": "code",
      "metadata": {
        "colab": {
          "base_uri": "https://localhost:8080/"
        },
        "id": "8pqMB8woJU4n",
        "outputId": "11685ed9-759f-4e0b-e73e-7b6bf7f53d8f"
      },
      "source": [
        "matrix_one"
      ],
      "execution_count": 39,
      "outputs": [
        {
          "output_type": "execute_result",
          "data": {
            "text/plain": [
              "array([[   1.      ,    0.      ,   19.999996],\n",
              "       [   0.      ,    1.      , 8499.999   ]], dtype=float32)"
            ]
          },
          "metadata": {
            "tags": []
          },
          "execution_count": 39
        }
      ]
    },
    {
      "cell_type": "code",
      "metadata": {
        "colab": {
          "base_uri": "https://localhost:8080/",
          "height": 321
        },
        "id": "Qvhyy4E6Qweu",
        "outputId": "1eda3ff0-6486-4674-8d80-df3b5f82ff39"
      },
      "source": [
        "from IPython.display import YouTubeVideo\n",
        "YouTubeVideo('PK_yguLapgA?t=62')"
      ],
      "execution_count": null,
      "outputs": [
        {
          "output_type": "execute_result",
          "data": {
            "text/html": [
              "\n",
              "        <iframe\n",
              "            width=\"400\"\n",
              "            height=\"300\"\n",
              "            src=\"https://www.youtube.com/embed/PK_yguLapgA?t=62\"\n",
              "            frameborder=\"0\"\n",
              "            allowfullscreen\n",
              "        ></iframe>\n",
              "        "
            ],
            "text/plain": [
              "<IPython.lib.display.YouTubeVideo at 0x7f1b5e3a5e50>"
            ]
          },
          "metadata": {
            "tags": []
          },
          "execution_count": 81
        }
      ]
    },
    {
      "cell_type": "markdown",
      "metadata": {
        "id": "3dZETMGjQbBj"
      },
      "source": [
        "A space error: $370 million for an integer overflow\n",
        "\n",
        "Man må gerne nørde videre [her](https://nbviewer.jupyter.org/github/fastai/numerical-linear-algebra/blob/master/nbs/1.%20Why%20are%20we%20here.ipynb#Floating-Point-Arithmetic):\n",
        "\n"
      ]
    },
    {
      "cell_type": "markdown",
      "metadata": {
        "id": "wp4WTGcbKlng"
      },
      "source": [
        "$$\\left[\\begin{array}{rr|r}\n",
        "1 & 0 & ? \\\\ \n",
        "0 & 1 & ?\n",
        "\\end{array}\\right]$$\n",
        "\n",
        "Nu kan vi sige, at $x = 20$ og $y =8500$\n",
        "\n",
        "sjovt nok ikke helt pga floating-point-error"
      ]
    },
    {
      "cell_type": "code",
      "metadata": {
        "id": "WIsFgHD0Ioju",
        "colab": {
          "base_uri": "https://localhost:8080/",
          "height": 37
        },
        "outputId": "07fcbb4f-a266-4835-ff72-aaa7ef038df2"
      },
      "source": [
        "# vi kan bruge SymPy til at tjekke vores beregninger\n",
        "\n",
        "from sympy import * #importer alt fra Sympy\n",
        "from sympy.solvers.solveset import linsolve #importer linalg solver\n",
        "\n",
        "x, y = symbols('x, y') #definer vores symboler\n",
        "\n",
        "linsolve(Matrix(([300,    -1, -2500], [400, -1, -500])), (x, y)) #definer matrix og hvad der skal løses"
      ],
      "execution_count": 40,
      "outputs": [
        {
          "output_type": "execute_result",
          "data": {
            "text/latex": "$\\displaystyle \\left\\{\\left( 20, \\  8500\\right)\\right\\}$",
            "text/plain": [
              "FiniteSet((20, 8500))"
            ]
          },
          "metadata": {
            "tags": []
          },
          "execution_count": 40
        }
      ]
    },
    {
      "cell_type": "markdown",
      "metadata": {
        "id": "iB2M4S2LIopG"
      },
      "source": [
        "#### Del 1.9\n",
        "I de fleste situationer i den virkelige verden er den afhængige variabel forbundet med flere uafhængige variabler, ikke kun et enkelt x. For at repræsentere disse funktioner skal vi arbejde med en anden version af den generelle form:\n",
        "\n",
        "$a_1x_1 + a_2x_2 + a_3x_3 + … + a_nx_n = c$\n",
        "\n",
        "\n",
        "I denne form er $a_1…a_n$ koefficienterne og $c$ er en konstant værdi.\n",
        "\n",
        "$$\n",
        "\\begin{align*}2x_1 + 5x_2 + 2x_3 &=  - 38\\\\  3x_1 - 2x_2 + 4x_3 &= 17\\\\   - 6x_1 + x_2 - 7x_3 &=  - 12\\end{align*}\n",
        "$$\n",
        "\n",
        "\\\\\n",
        "\n",
        "$$\\left[\\begin{array}{rrr|r}\n",
        "2 & 5 & 2 & -38\\\\ \n",
        "3 & -2 & 4 & 17\\\\\n",
        "-6 & 1 & -7 & -12\n",
        "\\end{array}\\right]$$\n"
      ]
    },
    {
      "cell_type": "code",
      "metadata": {
        "id": "LvUuzghkQEsy"
      },
      "source": [
        "matrix_3x4 = np.asarray([[2,5,2,-38],\n",
        "                         [3,-2,4,17],\n",
        "                         [-6,1,-7,-12]] , dtype = np.float32)"
      ],
      "execution_count": 41,
      "outputs": []
    },
    {
      "cell_type": "code",
      "metadata": {
        "id": "C4d1LVHsKD5i",
        "colab": {
          "base_uri": "https://localhost:8080/",
          "height": 37
        },
        "outputId": "d035461d-7be7-4804-8c55-d46aa66e01d7"
      },
      "source": [
        "x1, x2, x3 = symbols('x1, x2, x3') # som her kan være alt man har lyst til...men lad os bruge x1...n\n",
        "\n",
        "linsolve(Matrix(matrix_3x4), (x1, x2, x3))"
      ],
      "execution_count": 42,
      "outputs": [
        {
          "output_type": "execute_result",
          "data": {
            "text/latex": "$\\displaystyle \\left\\{\\left( 3.0, \\  -8.0, \\  -2.0\\right)\\right\\}$",
            "text/plain": [
              "FiniteSet((3.0, -8.0, -2.0))"
            ]
          },
          "metadata": {
            "tags": []
          },
          "execution_count": 42
        }
      ]
    },
    {
      "cell_type": "markdown",
      "metadata": {
        "id": "yi332QLTKEAW"
      },
      "source": [
        "Hvis vi har et system med mere end 3 variabler, kan vi ikke visualisere det let. Derudover bliver det meget mere problematisk at udføre Gaussiss-eliminering. I de næste par sessioner vil vi udvikle mere af teorien og den geometriske intuition bag lineær algebra og bygge videre på det for at løse disse mere komplekse lineære systemer."
      ]
    },
    {
      "cell_type": "markdown",
      "metadata": {
        "id": "u3SYN8ISKKPh"
      },
      "source": [
        "#### Opsummering\n",
        "\n",
        "**Syntaks** "
      ]
    },
    {
      "cell_type": "code",
      "metadata": {
        "id": "wWNXiY-7KYAa"
      },
      "source": [
        "# Repræsentér en matrix som en array\n",
        "Import numpy as np\n",
        "matrix_one = np.asarray([\n",
        "[0, 0, 0],\n",
        "[0, 0, 0]\n",
        "], dtype = np.float32)"
      ],
      "execution_count": null,
      "outputs": []
    },
    {
      "cell_type": "code",
      "metadata": {
        "id": "y0nsRAQiKiT6"
      },
      "source": [
        "# Multiplicér en række med en ikke-nul konstant\n",
        "matrix[1] = 2*matrix[1]"
      ],
      "execution_count": null,
      "outputs": []
    },
    {
      "cell_type": "code",
      "metadata": {
        "id": "W-rne_UfKzqm"
      },
      "source": [
        "#\tTilføj en række til en anden række:\n",
        "matrix[1] = matrix[1] + matrix[0]"
      ],
      "execution_count": null,
      "outputs": []
    },
    {
      "cell_type": "code",
      "metadata": {
        "id": "8FMoy0rxK4ic"
      },
      "source": [
        "# Kombination og sammenkædning af rækkeoperationer: \n",
        "matrix[1] = 0.5*matrix[2] + matrix[1] + matrix[3]"
      ],
      "execution_count": null,
      "outputs": []
    },
    {
      "cell_type": "markdown",
      "metadata": {
        "id": "fYbpLMCEK8fW"
      },
      "source": [
        "**Begreber**\n",
        "\n",
        "* Lineær algebra giver en måde at repræsentere og forstå løsninger på systemer med lineære ligninger. Vi repræsenterer lineære ligninger i den generelle form $Ax + By = c$.\n",
        "\n",
        "* Et system med lineære ligninger består af flere relaterede funktioner med et fælles sæt variabler. Det punkt, hvor ligningerne krydser hinanden, er kendt som en løsning på systemet.\n",
        "\n",
        "* Elimineringsmetoden indebærer at repræsentere en af vores variabler med hensyn til en ønsket variabel og erstatte ligningen, der er i form af den ønskede variabel.\n",
        "\n",
        "  * Antag, at vi har ligningerne $y = 1000 + 30x$ og $y = 100 + 50x$. Da begge er lig med y, kan man bytte den anden funktion med den første. Følgende er trinene til løsning af vores eksempel ved hjælp af eliminationsmetoden: \n",
        "    * $y 1000 + 30x = 100 + 50x$ \n",
        "    * $900 = 20x$ \n",
        "    * $45 = x$\n",
        "\n",
        "* En matrix bruger rækker og kolonner til udelukkende at repræsentere koefficienterne i et lineært system, og det svarer til den måde, hvorpå data er repræsenteret i et regneark eller en DataFrame.\n",
        "\n",
        "* Gaussisk eliminering bruges til at løse ligningssystemer, der er modelleret af mange variabler og ligninger.\n",
        "\n",
        "* I en augmenteret matrix er koefficienterne fra funktionens venstre side på venstre side af bjælken (|), mens konstanterne fra funktionens højre side er på højre side.\n",
        "\n",
        "* For at bevare forholdene i det lineære system kan vi bruge følgende rækkeoperationer:\n",
        "  * Enhver række kan byttes med en anden.\n",
        "  * Enhver række kan ganges med en ikke-nul konstant.\n",
        "  * Enhver række kan føjes til en anden række.\n"
      ]
    },
    {
      "cell_type": "markdown",
      "metadata": {
        "id": "t-fEFqYPTTV6"
      },
      "source": [
        "# Homework\n",
        "\n",
        "Til næste gang - lav øvelser herfra:\n",
        "\n",
        "pen & paper / prøv at løse disse liniære systemer i Python ved at bruge koder fra notebooken her.\n",
        "\n",
        "- [Linear Systems with Two Variables](https://tutorial.math.lamar.edu/Problems/Alg/SystemsTwoVrble.aspx)\n",
        "- [Linear Systems with Three Variables](https://tutorial.math.lamar.edu/Problems/Alg/SystemsThreeVrble.aspx)\n",
        "- [Augmented Matrices](https://tutorial.math.lamar.edu/Problems/Alg/AugmentedMatrix.aspx)"
      ]
    }
  ]
}