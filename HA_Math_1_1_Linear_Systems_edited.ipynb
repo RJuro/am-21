{
  "nbformat": 4,
  "nbformat_minor": 0,
  "metadata": {
    "colab": {
      "name": "HA_Math_1.1_Linear Systems_edited",
      "provenance": [],
      "collapsed_sections": [],
      "include_colab_link": true
    },
    "kernelspec": {
      "name": "python3",
      "display_name": "Python 3"
    },
    "language_info": {
      "name": "python"
    }
  },
  "cells": [
    {
      "cell_type": "markdown",
      "metadata": {
        "id": "view-in-github",
        "colab_type": "text"
      },
      "source": [
        "<a href=\"https://colab.research.google.com/github/RJuro/am-21/blob/main/HA_Math_1_1_Linear_Systems_edited.ipynb\" target=\"_parent\"><img src=\"https://colab.research.google.com/assets/colab-badge.svg\" alt=\"Open In Colab\"/></a>"
      ]
    },
    {
      "cell_type": "markdown",
      "metadata": {
        "id": "3h7CQKdSGwaW"
      },
      "source": [
        " # Lineære ligningssystemer"
      ]
    },
    {
      "cell_type": "markdown",
      "metadata": {
        "id": "vrTedTa4wgyP"
      },
      "source": [
        "#### Del 1.1\n",
        "I dette kursus vil vi fokusere på forståelse af lineære funktioner. Specifikt vil vi undersøge rammerne for **lineær algebra**, som giver en måde at repræsentere og forstå løsningerne på **systemer med lineære ligninger**. Et system med lineære ligninger består af flere relaterede funktioner med et fælles sæt variabler. Ordet **lineær ligning** bruges ofte ombytteligt med **lineær funktion**. Mange processer fra den virkelige verden kan modelleres ved hjælp af flere relaterede lineære ligninger. Vi begynder med at udforske et konkret eksempel på et lineært system, et andet ord for system med lineære ligninger, inden vi dykker længere ned i lineær algebra."
      ]
    },
    {
      "cell_type": "markdown",
      "metadata": {
        "id": "Kqk3bNmnxh36"
      },
      "source": [
        "#### Optimering af løn\n",
        "Lad os sige, at vi skal vælge mellem 2 forskellige jobtilbud. Det første jobtilbud har en ugentlig basisløn på 2500 kr og betaler 300 kr i timen. Vi kan repræsentere dette tilbud som $y = 2500 + 300x$, hvor $y$ repræsenterer kroner optjent den uge og $x$ repræsenterer arbejdstimer den uge. Det andet jobtilbud har en ugentlig basisløn på 500 kr og betaler 400 kr i timen. Vi kan repræsentere dette tilbud som $y = 500 + 400x$, hvor $y$ også repræsenterer kr tjent den uge og $x$ også repræsenterer arbejdstimer den uge. "
      ]
    },
    {
      "cell_type": "markdown",
      "metadata": {
        "id": "U9MwgpUeyJXX"
      },
      "source": [
        "Vi ønsker at forstå, hvilket jobtilbud der er bedre. Hvis vi ved nøjagtigt det beløb, vi gerne vil tjene hver uge ($y$), kan vi erstatte denne værdi i begge ligninger og løse for at identificere, hvilket job der kræver, at vi arbejder færre timer. Hvis vi ved nøjagtigt det antal timer, vi vil arbejde hver uge ($x$), kan vi erstatte denne værdi i begge ligninger og løse for at identificere, hvilket job der giver os flere penge for den samme mængde arbejdede timer."
      ]
    },
    {
      "cell_type": "markdown",
      "metadata": {
        "id": "bUFeQ7pvybWQ"
      },
      "source": [
        "**Vi ønsker i stedet at finde ud af:**\n",
        "* Ved hvilket antal arbejdede timer kan vi forvente at tjene det samme beløb på begge job? \n",
        "* Hvor mange timer skal vi arbejde for at tjene flere penge på det første job end det andet job?\n",
        "\n",
        "For at besvare det første spørgsmål skal vi finde værdien, hvor begge værdier er ækvivalente. Når vi først ved, hvor de krydser hinanden, kan vi let finde ud af svar på det andet spørgsmål. "
      ]
    },
    {
      "cell_type": "markdown",
      "metadata": {
        "id": "Wae9zPZXzMlY"
      },
      "source": [
        "Lad os starte med at visualisere begge disse ligninger på et plot og få en visuel forståelse for, hvor de krydser hinanden.\n",
        "\n",
        "* Brug numpy.linspace() til at generere 1000 jævnt fordelte værdier mellem 0 og 50 og tildel til $x$.\n",
        "* Transformér $x$ ved hjælp af ligningen $y = 300x + 2500$, og tildel resultatet til y1.  \n",
        "* Transformér $x$ ved hjælp af ligningen $y = 400x + 500$, og tildel resultatet til y2. \n",
        "* Generer 2 linjediagrammer på samme delplot: \n",
        "  - En med $x$ på x-aksen og y1 på y-aksen. Indstil linjefarven til \"orange\". \n",
        "  - En med $x$ på x-aksen og y2 på y-aksen. Indstil linjefarven til \"blue\". \n",
        "\n",
        "Undgå at vælge et værdiinterval for x- og y-akserne, og lad i stedet matplotlib vælge automatisk baseret på data."
      ]
    },
    {
      "cell_type": "code",
      "metadata": {
        "id": "RPsMDYP-GWc1"
      },
      "source": [
        "# Importer NumPy som np og Matplotlib.pyplot som plt\n",
        "import numpy as np\n",
        "np.set_printoptions(suppress=True)\n",
        "\n",
        "import matplotlib.pyplot as plt"
      ],
      "execution_count": 1,
      "outputs": []
    },
    {
      "cell_type": "code",
      "metadata": {
        "id": "uMIQRfXN1YpZ"
      },
      "source": [
        "x = np.linspace(0, 50, num=1000)"
      ],
      "execution_count": 13,
      "outputs": []
    },
    {
      "cell_type": "code",
      "source": [
        "len(x)"
      ],
      "metadata": {
        "colab": {
          "base_uri": "https://localhost:8080/"
        },
        "id": "09v8rWBLEWxQ",
        "outputId": "ce089d7f-7a76-4899-f96f-b17242cbaae0"
      },
      "execution_count": 14,
      "outputs": [
        {
          "output_type": "execute_result",
          "data": {
            "text/plain": [
              "1000"
            ]
          },
          "metadata": {},
          "execution_count": 14
        }
      ]
    },
    {
      "cell_type": "code",
      "metadata": {
        "id": "--OeGn2-5x0v"
      },
      "source": [
        "y1 = 300*x + 2500"
      ],
      "execution_count": 15,
      "outputs": []
    },
    {
      "cell_type": "code",
      "metadata": {
        "id": "PWbUE9qY6sqx"
      },
      "source": [
        "y2 = 400*x+500"
      ],
      "execution_count": 16,
      "outputs": []
    },
    {
      "cell_type": "code",
      "metadata": {
        "id": "62PK6pam6xa8",
        "colab": {
          "base_uri": "https://localhost:8080/",
          "height": 283
        },
        "outputId": "5d1fd093-d1eb-4447-eaf1-f37eabb27834"
      },
      "source": [
        "plt.plot(x, y1, color = \"orange\")\n",
        "plt.plot(x, y2, color = 'blue')"
      ],
      "execution_count": 17,
      "outputs": [
        {
          "output_type": "execute_result",
          "data": {
            "text/plain": [
              "[<matplotlib.lines.Line2D at 0x7f7b0d1819d0>]"
            ]
          },
          "metadata": {},
          "execution_count": 17
        },
        {
          "output_type": "display_data",
          "data": {
            "image/png": "[encoded data removed]",
            "text/plain": [
              "<Figure size 432x288 with 1 Axes>"
            ]
          },
          "metadata": {
            "needs_background": "light"
          }
        }
      ]
    },
    {
      "cell_type": "markdown",
      "metadata": {
        "id": "9I9uDxju1Y35"
      },
      "source": [
        "#### Del 1.2\n",
        "Fra plottet vi genererede i del 1.1, kan vi fortælle, at begge funktioner skærer hinanden et sted nær punktet (20)"
      ]
    },
    {
      "cell_type": "markdown",
      "metadata": {
        "id": "7yB536zv1dxL"
      },
      "source": [
        "Dette punkt, hvor begge ligninger krydser, er kendt som en **løsning** på systemet, fordi at erstatte $x$ og $y$ i begge funktioner i systemet gør dem begge sande. Sagt på en anden måde, ved at tilslutte $x$ værdien af løsningen til begge funktioner giver den samme $y$ værdi. "
      ]
    },
    {
      "cell_type": "markdown",
      "metadata": {
        "id": "DqGpjUg71znB"
      },
      "source": [
        "Lad os undersøge, hvordan man løser dette system manuelt. Fordi begge funktioner deler de samme variabler, kan vi repræsentere en af variablerne, for eksempel $y$ med hensyn til den anden variabel og løse $x$ værdien. Derefter kan vi erstatte denne $x$ værdi i begge ligninger for at bestemme $y$ værdien. Denne proces er kendt som **løsning ved eliminering** eller **eliminationsmetoden**. Lad os gennemgå, hvordan vi anvender denne proces på vores system."
      ]
    },
    {
      "cell_type": "markdown",
      "metadata": {
        "id": "ryGCuFMP2I29"
      },
      "source": [
        "Først erstatter vi $y$ i den anden funktion med den første funktion:"
      ]
    },
    {
      "cell_type": "markdown",
      "metadata": {
        "id": "2d4TQI7XNjmS"
      },
      "source": [
        "\n",
        "\\begin{equation}\n",
        "\\begin{split}\n",
        "y & = {2500 + 300x} \\\\\n",
        "y & = {500 + 400x}\n",
        "\\end{split}\n",
        "\\rightarrow 2500 - 500 = 400x - 300x \\rightarrow 2000 = 100x \\rightarrow 20 = x\n",
        "\\end{equation} "
      ]
    },
    {
      "cell_type": "markdown",
      "metadata": {
        "id": "z8HuM3pr5U0U"
      },
      "source": [
        "Bemærk, at rækkefølge ikke er vigtig, og vi kunne også have erstattet $y$ i den første funktion med den anden funktion. Nu hvor vi ved at $x = 20$, kan vi erstatte dette i begge ligninger for at bestemme $y$."
      ]
    },
    {
      "cell_type": "markdown",
      "metadata": {
        "id": "5oYGzkY0hu5O"
      },
      "source": [
        "\\begin{equation}\n",
        "\\begin{split}\n",
        "y & = {2500 + 300(20)} \\\\\n",
        "y & = {500 + 400(20)}\n",
        "\\end{split}\n",
        "\\rightarrow \n",
        "\\begin{split} \n",
        "y & = 8500 \\\\\n",
        "y & = 8500\n",
        "\\end{split}\n",
        "\\end{equation} "
      ]
    },
    {
      "cell_type": "markdown",
      "metadata": {
        "id": "k1lZBda65geo"
      },
      "source": [
        "Løsningen på vores system er (20, 8500). Dette betyder, at hvis vi arbejder nøjagtigt 20 timer om ugen, tjener vi det samme beløb på begge job: 8500. "
      ]
    },
    {
      "cell_type": "markdown",
      "metadata": {
        "id": "nLN-3prPK7zU"
      },
      "source": [
        "Mens vi kan løse et lineært system som dette manuelt ved hjælp af aritmetik, kan vi ikke bruge den samme teknik til at løse meget mere komplekse systemer. Mange processer i den virkelige verden er modelleret ved hjælp af langt flere end 2 variabler og funktioner, og det er umuligt at løse manuelt. Disse typer systemer kan løses ved hjælp af lineær algebra ved hjælp af en variation af aritmetisk eliminering kaldet **Gauss-elimination**. Vi gennemgår, hvordan man udfører Gauss-elimination i resten af denne mission for at finde en løsning på vores lineære system."
      ]
    },
    {
      "cell_type": "markdown",
      "metadata": {
        "id": "lGgGeRGOLGmQ"
      },
      "source": [
        "#### Del 1.3\n",
        "Lineær algebra giver en måde at repræsentere et lineært system på kompakt måde, kendt som en **matrix**, og et sæt regler til manipulation af denne repræsentation, også kendt som en **algebra**. En matrix bruger rækker og kolonner til kun at repræsentere koefficienterne i et lineært system, og det svarer til den måde, data er repræsenteret i et regneark eller en dataramme. Før vi kan repræsentere vores system i en matrix, er vi nødt til at om-arrangere hver af vores funktioner i den **generelle form**. \n"
      ]
    },
    {
      "cell_type": "markdown",
      "metadata": {
        "id": "4j1ZisAqLiGh"
      },
      "source": [
        "Dem der kan huske calculus (gymnasietiden) ved at lineære funktioner ofte skrives i hældningsafskæringsform (slope-intercept form):\n",
        "> $y = mx + b$\n",
        "\n",
        "I lineær algebra repræsenterer vi normalt lineære funktioner i den generelle form:\n",
        "> $Ax + By = c$\n",
        "\n",
        "I den generelle form er variablerne og deres koefficienter på *venstre* side, mens det konstante term er på *højre* side. Vi kan skifte fra punkt-hældningsform til den generelle form ved at om-arrangere:\n",
        "> $mx − y = −b$\n",
        "\n",
        "Sådan ser den første funktion ud i generel form:\n",
        "> $300x − y = -2500$\n",
        "\n",
        "Sådan ser den anden funktion ud i generel form:\n",
        "> $400x − y = -500$\n",
        "\n",
        "\n"
      ]
    },
    {
      "cell_type": "markdown",
      "metadata": {
        "id": "0EteAzX1MrOh"
      },
      "source": [
        "For at repræsentere begge lineære funktioner i et system bruger vi en **augmenteret matrix**:\n",
        "\n",
        "\n",
        "\n",
        "$$\n",
        "\\left[\n",
        "  \\begin{matrix}\n",
        "    300 & -1 \\\\\n",
        "    400 & -1 \\\\\n",
        "  \\end{matrix}\n",
        "  \\left|\n",
        "    \\,\n",
        "    \\begin{matrix}\n",
        "      -2500  \\\\\n",
        "      -500  \\\\\n",
        "    \\end{matrix}\n",
        "  \\right.\n",
        "\\right]\n",
        "$$\n"
      ]
    },
    {
      "cell_type": "markdown",
      "metadata": {
        "id": "JfmcUXbFMsLB"
      },
      "source": [
        "I en augmenteret matrix er koefficienterne fra venstre side af funktionerne på venstre side af bjælken (|), mens konstanterne fra højre side af funktionerne er på højre side. En augmenteret matrix giver os mulighed for at repræsentere et lineært system, der kun bruger det reelle antal koefficienter og konstanter. \n",
        "\n",
        "Her er et resumé af de 3 forskellige repræsentationer af det lineære system, vi lige har diskuteret:\n",
        "\n",
        "**slope-intercept form**\n",
        "$$ \n",
        "y  = 2500 + 300x \\\\\n",
        "y  = 500 + 400x \n",
        "$$\n",
        "\n",
        "**general form**\n",
        "\n",
        " $$300x − y = -2500\\\\\n",
        " 400x − y = -500 $$\n",
        "\n",
        "**augmented matrix**\n",
        "\n",
        "$$\n",
        "\\left[\n",
        "  \\begin{matrix}\n",
        "    300 & -1 \\\\\n",
        "    400 & -1 \\\\\n",
        "  \\end{matrix}\n",
        "  \\left|\n",
        "    \\,\n",
        "    \\begin{matrix}\n",
        "      -2500  \\\\\n",
        "      -500  \\\\\n",
        "    \\end{matrix}\n",
        "  \\right.\n",
        "\\right]\n",
        "$$"
      ]
    },
    {
      "cell_type": "markdown",
      "metadata": {
        "id": "_96OGU0yM15H"
      },
      "source": [
        "I den næste del gennemgår vi, hvordan vi repræsenterer denne augmenterede matrix i **NumPy**. I senere sessioner lærer vi reglerne for matrixmanipulation og hvordan vi anvender dem for at nå frem til systemets løsning."
      ]
    },
    {
      "cell_type": "markdown",
      "metadata": {
        "id": "LJTPYsK_M_Q-"
      },
      "source": [
        "#### Del 1.4\n",
        "For at repræsentere en augmenteret matrix kan vi bruge `numpy.asarray()` funktionen og videregive hver række som en liste fra den øverste række til den nederste række. Den følgende kode repræsenterer en matrix med 2 rækker og 3 kolonner, der udelukkende indeholder 0'er:\n"
      ]
    },
    {
      "cell_type": "markdown",
      "metadata": {
        "id": "7Kzft2a0-Huw"
      },
      "source": [
        "lad os bruge vores værdier fra casen"
      ]
    },
    {
      "cell_type": "code",
      "metadata": {
        "id": "t5iPhBunTzgT"
      },
      "source": [
        "random_matrix_med_mange_0 = np.asarray([\n",
        "                         [0, 0, 0],\n",
        "                         [0, 0, 0]\n",
        "])"
      ],
      "execution_count": 18,
      "outputs": []
    },
    {
      "cell_type": "code",
      "source": [
        "random_matrix_med_mange_0"
      ],
      "metadata": {
        "colab": {
          "base_uri": "https://localhost:8080/"
        },
        "id": "m27cNyAYMtJC",
        "outputId": "e0cbde51-0ba6-4cd8-98e4-fadb5b78f96a"
      },
      "execution_count": 19,
      "outputs": [
        {
          "output_type": "execute_result",
          "data": {
            "text/plain": [
              "array([[0, 0, 0],\n",
              "       [0, 0, 0]])"
            ]
          },
          "metadata": {},
          "execution_count": 19
        }
      ]
    },
    {
      "cell_type": "markdown",
      "metadata": {
        "id": "H3-IPn2B-cj2"
      },
      "source": [
        "en numpy matrix (array) har en shape og der er flere inbyggede funktioner som man kan bruge til at manipulere en matrix."
      ]
    },
    {
      "cell_type": "code",
      "metadata": {
        "id": "sAclLQUm-byV",
        "colab": {
          "base_uri": "https://localhost:8080/"
        },
        "outputId": "45a41278-204c-4849-ee7c-3cc20c12dcc9"
      },
      "source": [
        "random_matrix_med_mange_0.shape"
      ],
      "execution_count": 20,
      "outputs": [
        {
          "output_type": "execute_result",
          "data": {
            "text/plain": [
              "(2, 3)"
            ]
          },
          "metadata": {},
          "execution_count": 20
        }
      ]
    },
    {
      "cell_type": "markdown",
      "metadata": {
        "id": "clc4GT1AUQRS"
      },
      "source": [
        "her kan vi se, at der er 2 rækker og 3 kolonner\n",
        "Opret nu en NumPy 2d-**array** af vores augmenterede case-matrix \"`matrix_one`\""
      ]
    },
    {
      "cell_type": "code",
      "metadata": {
        "id": "hKTFWn9oTtVY",
        "colab": {
          "base_uri": "https://localhost:8080/"
        },
        "outputId": "45a86594-616c-4cd5-a435-e3d19f6619fb"
      },
      "source": [
        "matrix_one = np.asarray([\n",
        "                         [300, -1, -2500],\n",
        "                         [400, -1, -500]\n",
        "], dtype=np.float32)\n",
        "\n",
        "\n",
        "matrix_one"
      ],
      "execution_count": 21,
      "outputs": [
        {
          "output_type": "execute_result",
          "data": {
            "text/plain": [
              "array([[  300.,    -1., -2500.],\n",
              "       [  400.,    -1.,  -500.]], dtype=float32)"
            ]
          },
          "metadata": {},
          "execution_count": 21
        }
      ]
    },
    {
      "cell_type": "markdown",
      "metadata": {
        "id": "L71-YckU-pAD"
      },
      "source": [
        "`np.array` eller `np.asarray`kan også bruges til at danne en matrix med udganspunkt i en `pandas` dataframe.\n",
        "Pandas dataframes selv har også en funktion, som hedder `to_numpy` - hvilket vil gøre det samme.\n",
        "Dvs. det er rigtig nemt at gå fra tabular data til matrix og omvendt, gvor man kan bruge `pd.DataFrame` til at lave en matrix om til en dataframe.\n",
        "\n",
        "\n",
        "\n"
      ]
    },
    {
      "cell_type": "code",
      "metadata": {
        "id": "p3AitEPf_jVd"
      },
      "source": [
        "import pandas as pd"
      ],
      "execution_count": 22,
      "outputs": []
    },
    {
      "cell_type": "code",
      "metadata": {
        "id": "F7ZN4UGB_k_K",
        "colab": {
          "base_uri": "https://localhost:8080/",
          "height": 112
        },
        "outputId": "4d2ecb7f-8128-4557-c956-bff14c9a71f2"
      },
      "source": [
        "df = pd.DataFrame([[300, -1, -2500],\n",
        "                         [400, -1, -500]], columns=['v1','v2','v3'])\n",
        "df"
      ],
      "execution_count": 23,
      "outputs": [
        {
          "output_type": "execute_result",
          "data": {
            "text/html": [
              "\n",
              "  <div id=\"df-55152d14-5eb5-4eb4-93de-7101da57810c\">\n",
              "    <div class=\"colab-df-container\">\n",
              "      <div>\n",
              "<style scoped>\n",
              "    .dataframe tbody tr th:only-of-type {\n",
              "        vertical-align: middle;\n",
              "    }\n",
              "\n",
              "    .dataframe tbody tr th {\n",
              "        vertical-align: top;\n",
              "    }\n",
              "\n",
              "    .dataframe thead th {\n",
              "        text-align: right;\n",
              "    }\n",
              "</style>\n",
              "<table border=\"1\" class=\"dataframe\">\n",
              "  <thead>\n",
              "    <tr style=\"text-align: right;\">\n",
              "      <th></th>\n",
              "      <th>v1</th>\n",
              "      <th>v2</th>\n",
              "      <th>v3</th>\n",
              "    </tr>\n",
              "  </thead>\n",
              "  <tbody>\n",
              "    <tr>\n",
              "      <th>0</th>\n",
              "      <td>300</td>\n",
              "      <td>-1</td>\n",
              "      <td>-2500</td>\n",
              "    </tr>\n",
              "    <tr>\n",
              "      <th>1</th>\n",
              "      <td>400</td>\n",
              "      <td>-1</td>\n",
              "      <td>-500</td>\n",
              "    </tr>\n",
              "  </tbody>\n",
              "</table>\n",
              "</div>\n",
              "      <button class=\"colab-df-convert\" onclick=\"convertToInteractive('df-55152d14-5eb5-4eb4-93de-7101da57810c')\"\n",
              "              title=\"Convert this dataframe to an interactive table.\"\n",
              "              style=\"display:none;\">\n",
              "        \n",
              "  <svg xmlns=\"http://www.w3.org/2000/svg\" height=\"24px\"viewBox=\"0 0 24 24\"\n",
              "       width=\"24px\">\n",
              "    <path d=\"M0 0h24v24H0V0z\" fill=\"none\"/>\n",
              "    <path d=\"M18.56 5.44l.94 2.06.94-2.06 2.06-.94-2.06-.94-.94-2.06-.94 2.06-2.06.94zm-11 1L8.5 8.5l.94-2.06 2.06-.94-2.06-.94L8.5 2.5l-.94 2.06-2.06.94zm10 10l.94 2.06.94-2.06 2.06-.94-2.06-.94-.94-2.06-.94 2.06-2.06.94z\"/><path d=\"M17.41 7.96l-1.37-1.37c-.4-.4-.92-.59-1.43-.59-.52 0-1.04.2-1.43.59L10.3 9.45l-7.72 7.72c-.78.78-.78 2.05 0 2.83L4 21.41c.39.39.9.59 1.41.59.51 0 1.02-.2 1.41-.59l7.78-7.78 2.81-2.81c.8-.78.8-2.07 0-2.86zM5.41 20L4 18.59l7.72-7.72 1.47 1.35L5.41 20z\"/>\n",
              "  </svg>\n",
              "      </button>\n",
              "      \n",
              "  <style>\n",
              "    .colab-df-container {\n",
              "      display:flex;\n",
              "      flex-wrap:wrap;\n",
              "      gap: 12px;\n",
              "    }\n",
              "\n",
              "    .colab-df-convert {\n",
              "      background-color: #E8F0FE;\n",
              "      border: none;\n",
              "      border-radius: 50%;\n",
              "      cursor: pointer;\n",
              "      display: none;\n",
              "      fill: #1967D2;\n",
              "      height: 32px;\n",
              "      padding: 0 0 0 0;\n",
              "      width: 32px;\n",
              "    }\n",
              "\n",
              "    .colab-df-convert:hover {\n",
              "      background-color: #E2EBFA;\n",
              "      box-shadow: 0px 1px 2px rgba(60, 64, 67, 0.3), 0px 1px 3px 1px rgba(60, 64, 67, 0.15);\n",
              "      fill: #174EA6;\n",
              "    }\n",
              "\n",
              "    [theme=dark] .colab-df-convert {\n",
              "      background-color: #3B4455;\n",
              "      fill: #D2E3FC;\n",
              "    }\n",
              "\n",
              "    [theme=dark] .colab-df-convert:hover {\n",
              "      background-color: #434B5C;\n",
              "      box-shadow: 0px 1px 3px 1px rgba(0, 0, 0, 0.15);\n",
              "      filter: drop-shadow(0px 1px 2px rgba(0, 0, 0, 0.3));\n",
              "      fill: #FFFFFF;\n",
              "    }\n",
              "  </style>\n",
              "\n",
              "      <script>\n",
              "        const buttonEl =\n",
              "          document.querySelector('#df-55152d14-5eb5-4eb4-93de-7101da57810c button.colab-df-convert');\n",
              "        buttonEl.style.display =\n",
              "          google.colab.kernel.accessAllowed ? 'block' : 'none';\n",
              "\n",
              "        async function convertToInteractive(key) {\n",
              "          const element = document.querySelector('#df-55152d14-5eb5-4eb4-93de-7101da57810c');\n",
              "          const dataTable =\n",
              "            await google.colab.kernel.invokeFunction('convertToInteractive',\n",
              "                                                     [key], {});\n",
              "          if (!dataTable) return;\n",
              "\n",
              "          const docLinkHtml = 'Like what you see? Visit the ' +\n",
              "            '<a target=\"_blank\" href=https://colab.research.google.com/notebooks/data_table.ipynb>data table notebook</a>'\n",
              "            + ' to learn more about interactive tables.';\n",
              "          element.innerHTML = '';\n",
              "          dataTable['output_type'] = 'display_data';\n",
              "          await google.colab.output.renderOutput(dataTable, element);\n",
              "          const docLink = document.createElement('div');\n",
              "          docLink.innerHTML = docLinkHtml;\n",
              "          element.appendChild(docLink);\n",
              "        }\n",
              "      </script>\n",
              "    </div>\n",
              "  </div>\n",
              "  "
            ],
            "text/plain": [
              "    v1  v2    v3\n",
              "0  300  -1 -2500\n",
              "1  400  -1  -500"
            ]
          },
          "metadata": {},
          "execution_count": 23
        }
      ]
    },
    {
      "cell_type": "code",
      "metadata": {
        "id": "sRQ3gKOj_3Jd"
      },
      "source": [
        "matrix_df = df.to_numpy()"
      ],
      "execution_count": 43,
      "outputs": []
    },
    {
      "cell_type": "code",
      "source": [
        "df.iloc[0,0]"
      ],
      "metadata": {
        "colab": {
          "base_uri": "https://localhost:8080/"
        },
        "id": "P7ShOksyQoZk",
        "outputId": "6d2f462a-528c-48f7-9ddd-ad4b57d51422"
      },
      "execution_count": 50,
      "outputs": [
        {
          "output_type": "execute_result",
          "data": {
            "text/plain": [
              "300"
            ]
          },
          "metadata": {},
          "execution_count": 50
        }
      ]
    },
    {
      "cell_type": "code",
      "source": [
        "matrix_df[1]"
      ],
      "metadata": {
        "colab": {
          "base_uri": "https://localhost:8080/"
        },
        "id": "E2JJB-UQQe9a",
        "outputId": "e575d49b-b28a-4154-a5cb-0c1b974dd398"
      },
      "execution_count": 46,
      "outputs": [
        {
          "output_type": "execute_result",
          "data": {
            "text/plain": [
              "array([ 400,   -1, -500])"
            ]
          },
          "metadata": {},
          "execution_count": 46
        }
      ]
    },
    {
      "cell_type": "markdown",
      "metadata": {
        "id": "wkyLJY-7Uicf"
      },
      "source": [
        "#### Del 1.5\n",
        "Det vigtige spørgsmål er nu, hvordan når vi frem til den samme løsning, som vi gjorde tidligere med aritmetik? Tidligere brugte vi aritmetik til at beregne løsningen på systemet og repræsenterede det som et koordinatpar: (20, 8500). \n",
        "\n",
        "Når vi arbejder med matrixrepræsentationen, kan løsningen skrives som:\n",
        "\n",
        "$$\n",
        "\\left[\\begin{array}{rr|r}\n",
        "1 & 0 & 20 \\\\ \n",
        "0 & 1 & 8500\n",
        "\\end{array}\\right]\n",
        "$$\n",
        "\n",
        "\n",
        "Intuition kan ses her:\n",
        "\n",
        "\n",
        "**Hvis det kan oversættes til**\n",
        "\n",
        "$$\n",
        "\\begin{align}\n",
        "300x − y = -2500\\\\\n",
        "400x − y = -500 \\\\\n",
        "\\end{align}\n",
        "$$\n",
        "\n",
        "**det her**\n",
        "\n",
        "$$\n",
        "\\left[\n",
        "  \\begin{matrix}\n",
        "    300 & -1 \\\\\n",
        "    400 & -1 \\\\\n",
        "  \\end{matrix}\n",
        "  \\left|\n",
        "    \\,\n",
        "    \\begin{matrix}\n",
        "      -2500  \\\\\n",
        "      -500  \\\\\n",
        "    \\end{matrix}\n",
        "  \\right.\n",
        "\\right]\n",
        "$$\n",
        "\n",
        "**så kan man vel skrive**\n",
        "\n",
        "$$\n",
        "\\left[\\begin{array}{rr|r}\n",
        "1 & 0 & 20 \\\\ \n",
        "0 & 1 & 8500\n",
        "\\end{array}\\right]\n",
        "$$\n",
        "\n",
        "**som**\n",
        "\n",
        "$$\n",
        "\\begin{align}\n",
        "1x + 0y = 20\\\\\n",
        "0x + 1y = 8500 \\\\\n",
        "\\end{align}\n",
        "$$\n",
        "\n",
        "\n"
      ]
    },
    {
      "cell_type": "markdown",
      "metadata": {
        "id": "ebsR_T-JFsFu"
      },
      "source": [
        "For at løse et lineært system er vi nødt til at udføre en række transformationer for at forsøge at udvikle matrixen til denne form (hvor løsningen præsenteres). Ikke alle lineære systemer har dog løsninger, og vi vil undersøge dette nærmere i løbet af dette kursus."
      ]
    },
    {
      "cell_type": "markdown",
      "metadata": {
        "id": "n7J0vSSWFyDj"
      },
      "source": [
        "#### Del 1.6\n",
        "\n",
        "For at bevare forholdene i det lineære system kan vi kun bruge følgende rækkeoperationer:"
      ]
    },
    {
      "cell_type": "markdown",
      "metadata": {
        "id": "Ai7LhXTwGEFT"
      },
      "source": [
        "1. rækker kan udbyttes\n",
        "\n",
        "$$\n",
        "\\left[\\begin{array}{rr|r}\n",
        "300 & -1 & -2500 \\\\ \n",
        "400 & -1 & -500\n",
        "\\end{array}\\right]\n",
        "$$\n",
        "\n",
        "$$\\downarrow \\text{Byt } R_1\\  \\& \\  R_2$$\n",
        "\n",
        "$$\n",
        "\\left[\\begin{array}{rr|r}\n",
        "400 & -1 & -500\\\\\n",
        "300 & -1 & -2500\n",
        "\\end{array}\\right]\n",
        "$$"
      ]
    },
    {
      "cell_type": "markdown",
      "metadata": {
        "id": "YmCTXuYfGH_X"
      },
      "source": [
        "2. Enhver række kan multipliceres med en konstant der ikke er 0:\n",
        "\n",
        "$$\n",
        "\\left[\\begin{array}{rr|r}\n",
        "300 & -1 & -2500 \\\\ \n",
        "400 & -1 & -500\n",
        "\\end{array}\\right]\n",
        "$$\n",
        "\n",
        "$$\\downarrow 2·R_1\\  3·R_2 $$\n",
        "\n",
        "$$\n",
        "\\left[\\begin{array}{rr|r}\n",
        "600 & -2 & -5000\\\\\n",
        "1200 & -3 & -1500\n",
        "\\end{array}\\right]\n",
        "$$"
      ]
    },
    {
      "cell_type": "markdown",
      "metadata": {
        "id": "LOg0iaL9GO1X"
      },
      "source": [
        "3. Enhver række kan tilføjes en anden række\n",
        "\n",
        "$$\n",
        "\\left[\\begin{array}{rr|r}\n",
        "300 & -1 & -2500 \\\\ \n",
        "400 & -1 & -500\n",
        "\\end{array}\\right]\n",
        "$$\n",
        "\n",
        "$$\\downarrow R_2 = R_1 + R_2 $$\n",
        "\n",
        "$$\n",
        "\\left[\\begin{array}{rr|r}\n",
        "300 & -1 & -2500\\\\\n",
        "700 & -2 & -3000\n",
        "\\end{array}\\right]\n",
        "$$"
      ]
    },
    {
      "cell_type": "markdown",
      "metadata": {
        "id": "EeJZw2z2GNHW"
      },
      "source": [
        "Selvom disse kan virke nye, er rækkeoperationerne de samme tilladte operationer, som vi kan udføre, når funktionerne er i ligningsform. Før vi dykker ned i, hvordan vi løser vores lineære system ved hjælp af disse rækkeoperationer, kan vi først øve os på at udføre disse transformationer i NumPy. \n",
        "\n",
        "For at bytte 2 rækker i et NumPy ndarray-objekt skal vi bruge dobbelt parentesnotation til at angive ændringen i rækkefølgen:\n"
      ]
    },
    {
      "cell_type": "code",
      "metadata": {
        "id": "4s9IlnkaFzxc"
      },
      "source": [
        "matrix = np.asarray([\n",
        "                     [20, 4],\n",
        "                     [66, 7]\n",
        "])"
      ],
      "execution_count": 40,
      "outputs": []
    },
    {
      "cell_type": "code",
      "metadata": {
        "id": "B8ASzO2VDjPF",
        "colab": {
          "base_uri": "https://localhost:8080/"
        },
        "outputId": "a99b9322-3e52-4b25-b33b-a4fcb9ab49ba"
      },
      "source": [
        "matrix"
      ],
      "execution_count": 26,
      "outputs": [
        {
          "output_type": "execute_result",
          "data": {
            "text/plain": [
              "array([[20,  4],\n",
              "       [66,  7]])"
            ]
          },
          "metadata": {},
          "execution_count": 26
        }
      ]
    },
    {
      "cell_type": "code",
      "metadata": {
        "id": "WL8B_Ls3Dtgy",
        "colab": {
          "base_uri": "https://localhost:8080/"
        },
        "outputId": "1e471731-6218-4f1b-f852-47ebeefd1d89"
      },
      "source": [
        "#vis R1\n",
        "matrix[0,:]"
      ],
      "execution_count": 27,
      "outputs": [
        {
          "output_type": "execute_result",
          "data": {
            "text/plain": [
              "array([20,  4])"
            ]
          },
          "metadata": {},
          "execution_count": 27
        }
      ]
    },
    {
      "cell_type": "code",
      "metadata": {
        "id": "6jIbEhT5Dxkn",
        "colab": {
          "base_uri": "https://localhost:8080/"
        },
        "outputId": "d75d42b1-db0f-4621-daf3-261fb1d7b87f"
      },
      "source": [
        "# Vis R2\n",
        "matrix[1,:]"
      ],
      "execution_count": 41,
      "outputs": [
        {
          "output_type": "execute_result",
          "data": {
            "text/plain": [
              "array([66,  7])"
            ]
          },
          "metadata": {},
          "execution_count": 41
        }
      ]
    },
    {
      "cell_type": "code",
      "source": [
        "matrix[1]"
      ],
      "metadata": {
        "colab": {
          "base_uri": "https://localhost:8080/"
        },
        "id": "U0i0NPiHQRrh",
        "outputId": "3f15d056-b698-4c1c-ea5b-5c8f0fe8c6d8"
      },
      "execution_count": 42,
      "outputs": [
        {
          "output_type": "execute_result",
          "data": {
            "text/plain": [
              "array([66,  7])"
            ]
          },
          "metadata": {},
          "execution_count": 42
        }
      ]
    },
    {
      "cell_type": "code",
      "metadata": {
        "id": "aGScS3O8D0O0",
        "colab": {
          "base_uri": "https://localhost:8080/"
        },
        "outputId": "d09aa54f-7453-499d-da8c-7ec88946c4ad"
      },
      "source": [
        "# Vis K1\n",
        "matrix[:,0]"
      ],
      "execution_count": 29,
      "outputs": [
        {
          "output_type": "execute_result",
          "data": {
            "text/plain": [
              "array([20, 66])"
            ]
          },
          "metadata": {},
          "execution_count": 29
        }
      ]
    },
    {
      "cell_type": "code",
      "metadata": {
        "id": "heeOHCZyDrLV",
        "colab": {
          "base_uri": "https://localhost:8080/"
        },
        "outputId": "49c36c63-e449-411d-a101-467fdcaf9a8c"
      },
      "source": [
        "# Vis det hele\n",
        "matrix"
      ],
      "execution_count": 30,
      "outputs": [
        {
          "output_type": "execute_result",
          "data": {
            "text/plain": [
              "array([[20,  4],\n",
              "       [66,  7]])"
            ]
          },
          "metadata": {},
          "execution_count": 30
        }
      ]
    },
    {
      "cell_type": "code",
      "metadata": {
        "id": "V3at5DyBD5WN"
      },
      "source": [
        "# Byt R2 & R2\n",
        "matrix_swap = matrix[[1,0],:]"
      ],
      "execution_count": 31,
      "outputs": []
    },
    {
      "cell_type": "code",
      "metadata": {
        "id": "tuVVRj1AD8WD",
        "colab": {
          "base_uri": "https://localhost:8080/"
        },
        "outputId": "b24d9331-047e-400e-96eb-1c6345c85b25"
      },
      "source": [
        "matrix_swap"
      ],
      "execution_count": 32,
      "outputs": [
        {
          "output_type": "execute_result",
          "data": {
            "text/plain": [
              "array([[66,  7],\n",
              "       [20,  4]])"
            ]
          },
          "metadata": {},
          "execution_count": 32
        }
      ]
    },
    {
      "cell_type": "markdown",
      "metadata": {
        "id": "qOaRefzHG8Xr"
      },
      "source": [
        "For at multiplicere en række med en ikke-nul konstant vælger vi rækken, bruger * operatoren til at multiplicere alle værdierne med en skalær værdi og tildeler derefter den transformerede række tilbage:"
      ]
    },
    {
      "cell_type": "code",
      "metadata": {
        "id": "WiTzUMOnG6dl"
      },
      "source": [
        "# Multiplicer anden række med 2:\n",
        "matrix[1] = 2*matrix[1]"
      ],
      "execution_count": 51,
      "outputs": []
    },
    {
      "cell_type": "markdown",
      "metadata": {
        "id": "w_wDNu_BHJoi"
      },
      "source": [
        "For at tilføje en række til en anden række skal vi tilføje begge rækker og derefter tildele den tilbage til den række, vi vil overskrive:"
      ]
    },
    {
      "cell_type": "code",
      "metadata": {
        "id": "6kz_AuUfHWF3"
      },
      "source": [
        "# Tilføj den anden række til den første: \n",
        "matrix[1] = matrix[1] + matrix[0]"
      ],
      "execution_count": 52,
      "outputs": []
    },
    {
      "cell_type": "markdown",
      "metadata": {
        "id": "5ryBskcOHn-X"
      },
      "source": [
        "Endelig kan vi kombinere og kæde disse regler for at udføre mere komplekse rækkeomdannelser:"
      ]
    },
    {
      "cell_type": "code",
      "metadata": {
        "id": "yf5VWQpqHpt2"
      },
      "source": [
        "matrix[1] = 0.5*matrix[0] + matrix[1] + matrix[0]"
      ],
      "execution_count": 53,
      "outputs": []
    },
    {
      "cell_type": "markdown",
      "metadata": {
        "id": "tvJs50JtH1VI"
      },
      "source": [
        "Bemærk, at du ikke kan gange eller dele med andre rækker.\n",
        "\n",
        "Del den første række fra matrix_one med 300.\n"
      ]
    },
    {
      "cell_type": "code",
      "metadata": {
        "id": "VXyxZYywIVXY",
        "colab": {
          "base_uri": "https://localhost:8080/"
        },
        "outputId": "bd6f717d-1ddd-455d-dc3c-50eeca9eadd5"
      },
      "source": [
        "matrix_one = np.asarray([\n",
        "                         [300, -1, -2500],\n",
        "                         [400, -1, -500]\n",
        "], dtype=np.float32)\n",
        "matrix_one"
      ],
      "execution_count": 55,
      "outputs": [
        {
          "output_type": "execute_result",
          "data": {
            "text/plain": [
              "array([[  300.,    -1., -2500.],\n",
              "       [  400.,    -1.,  -500.]], dtype=float32)"
            ]
          },
          "metadata": {},
          "execution_count": 55
        }
      ]
    },
    {
      "cell_type": "code",
      "metadata": {
        "id": "WwNUlTGZH2nq",
        "colab": {
          "base_uri": "https://localhost:8080/"
        },
        "outputId": "cb89873c-c4b6-4082-a426-62b714090140"
      },
      "source": [
        "matrix_one"
      ],
      "execution_count": 56,
      "outputs": [
        {
          "output_type": "execute_result",
          "data": {
            "text/plain": [
              "array([[  300.,    -1., -2500.],\n",
              "       [  400.,    -1.,  -500.]], dtype=float32)"
            ]
          },
          "metadata": {},
          "execution_count": 56
        }
      ]
    },
    {
      "cell_type": "code",
      "metadata": {
        "id": "26c3Yr6MEgoF"
      },
      "source": [
        "matrix_one[0] = matrix_one[0]/300"
      ],
      "execution_count": 57,
      "outputs": []
    },
    {
      "cell_type": "code",
      "metadata": {
        "id": "Pc4e_DJ1GH-7",
        "colab": {
          "base_uri": "https://localhost:8080/"
        },
        "outputId": "3aa3b66b-695a-4e31-8742-f89cf8674e23"
      },
      "source": [
        "matrix_one"
      ],
      "execution_count": 58,
      "outputs": [
        {
          "output_type": "execute_result",
          "data": {
            "text/plain": [
              "array([[   1.        ,   -0.00333333,   -8.333333  ],\n",
              "       [ 400.        ,   -1.        , -500.        ]], dtype=float32)"
            ]
          },
          "metadata": {},
          "execution_count": 58
        }
      ]
    },
    {
      "cell_type": "markdown",
      "metadata": {
        "id": "FM1ezlM-H2vg"
      },
      "source": [
        "#### Del 1.7\n",
        "For at finde løsningerne i en matrix er der to hovedtrin, vi skal tage. Det første trin er at om-arrangere matrixen i **echelon-form**. I denne form er værdierne på de diagonale placeringer alle lig med 1, og værdierne under diagonalen er alle lig med 0.\n",
        "\n",
        "$$\n",
        "\\left[\\begin{array}{rr|r}\n",
        "1 & ? & ? \\\\ \n",
        "0 & 1 & ?\n",
        "\\end{array}\\right]\n",
        "$$"
      ]
    },
    {
      "cell_type": "markdown",
      "metadata": {
        "id": "wAVtIy4uH6w3"
      },
      "source": [
        "Vi kan først dele den første række med 300, så den diagonale værdi på den første række bliver 1\n",
        "\n",
        "$$R_1 = R_1 / 300$$\n",
        "\n",
        "det har vi lige klaret 👏"
      ]
    },
    {
      "cell_type": "markdown",
      "metadata": {
        "id": "GPyYHrFjICap"
      },
      "source": [
        "Lad os derefter trække 400 gange den første række fra anden række:"
      ]
    },
    {
      "cell_type": "code",
      "metadata": {
        "id": "XcqJDCbEIGGd"
      },
      "source": [
        "matrix_one[1] = matrix_one[1] - 400*matrix_one[0]"
      ],
      "execution_count": 59,
      "outputs": []
    },
    {
      "cell_type": "code",
      "metadata": {
        "id": "Suw0gXAEHFc3",
        "colab": {
          "base_uri": "https://localhost:8080/"
        },
        "outputId": "4ef4eb26-9e28-43d5-c528-41551aae6b84"
      },
      "source": [
        "matrix_one"
      ],
      "execution_count": 60,
      "outputs": [
        {
          "output_type": "execute_result",
          "data": {
            "text/plain": [
              "array([[   1.        ,   -0.00333333,   -8.333333  ],\n",
              "       [   0.        ,    0.33333337, 2833.3333    ]], dtype=float32)"
            ]
          },
          "metadata": {},
          "execution_count": 60
        }
      ]
    },
    {
      "cell_type": "markdown",
      "metadata": {
        "id": "ZnOMWk0OIGNr"
      },
      "source": [
        "Lad os udføre de sidste transformationer for at få matrixen til echelon-form"
      ]
    },
    {
      "cell_type": "code",
      "metadata": {
        "id": "ai2yd8AqIIkC"
      },
      "source": [
        "matrix_one[1] = matrix_one[1] * (1/matrix_one[1,1])"
      ],
      "execution_count": 61,
      "outputs": []
    },
    {
      "cell_type": "code",
      "metadata": {
        "id": "posV3PTwIImQ",
        "colab": {
          "base_uri": "https://localhost:8080/"
        },
        "outputId": "0b80a934-c99b-4d77-c4ee-ca276120feb7"
      },
      "source": [
        "matrix_one"
      ],
      "execution_count": 62,
      "outputs": [
        {
          "output_type": "execute_result",
          "data": {
            "text/plain": [
              "array([[   1.        ,   -0.00333333,   -8.333333  ],\n",
              "       [   0.        ,    1.        , 8499.999     ]], dtype=float32)"
            ]
          },
          "metadata": {},
          "execution_count": 62
        }
      ]
    },
    {
      "cell_type": "code",
      "metadata": {
        "id": "4MqII-PcI08q"
      },
      "source": [
        "matrix_one[0] = matrix_one[0] - (matrix_one[1] * matrix_one[0,1])"
      ],
      "execution_count": 63,
      "outputs": []
    },
    {
      "cell_type": "code",
      "metadata": {
        "id": "8pqMB8woJU4n",
        "colab": {
          "base_uri": "https://localhost:8080/"
        },
        "outputId": "7f0e8517-c348-472f-b618-2378106fa3ff"
      },
      "source": [
        "matrix_one"
      ],
      "execution_count": 64,
      "outputs": [
        {
          "output_type": "execute_result",
          "data": {
            "text/plain": [
              "array([[   1.      ,    0.      ,   19.999996],\n",
              "       [   0.      ,    1.      , 8499.999   ]], dtype=float32)"
            ]
          },
          "metadata": {},
          "execution_count": 64
        }
      ]
    },
    {
      "cell_type": "code",
      "metadata": {
        "id": "Qvhyy4E6Qweu",
        "colab": {
          "base_uri": "https://localhost:8080/",
          "height": 321
        },
        "outputId": "2b4d9739-0d39-4236-abbd-aae1e5d532bd"
      },
      "source": [
        "from IPython.display import YouTubeVideo\n",
        "YouTubeVideo('PK_yguLapgA?t=62')"
      ],
      "execution_count": 65,
      "outputs": [
        {
          "output_type": "execute_result",
          "data": {
            "text/html": [
              "\n",
              "        <iframe\n",
              "            width=\"400\"\n",
              "            height=\"300\"\n",
              "            src=\"https://www.youtube.com/embed/PK_yguLapgA?t=62\"\n",
              "            frameborder=\"0\"\n",
              "            allowfullscreen\n",
              "        ></iframe>\n",
              "        "
            ],
            "text/plain": [
              "<IPython.lib.display.YouTubeVideo at 0x7f7b0b137b90>"
            ]
          },
          "metadata": {},
          "execution_count": 65
        }
      ]
    },
    {
      "cell_type": "markdown",
      "metadata": {
        "id": "3dZETMGjQbBj"
      },
      "source": [
        "A space error: $370 million for an integer overflow\n",
        "\n",
        "Man må gerne nørde videre [her](https://nbviewer.jupyter.org/github/fastai/numerical-linear-algebra/blob/master/nbs/1.%20Why%20are%20we%20here.ipynb#Floating-Point-Arithmetic):\n",
        "\n"
      ]
    },
    {
      "cell_type": "markdown",
      "metadata": {
        "id": "wp4WTGcbKlng"
      },
      "source": [
        "$$\\left[\\begin{array}{rr|r}\n",
        "1 & 0 & ? \\\\ \n",
        "0 & 1 & ?\n",
        "\\end{array}\\right]$$\n",
        "\n",
        "Nu kan vi sige, at $x = 20$ og $y =8500$\n",
        "\n",
        "sjovt nok ikke helt pga floating-point-error"
      ]
    },
    {
      "cell_type": "code",
      "metadata": {
        "id": "WIsFgHD0Ioju",
        "colab": {
          "base_uri": "https://localhost:8080/",
          "height": 37
        },
        "outputId": "b99d393c-5033-4eb3-cd80-148e77449f34"
      },
      "source": [
        "# vi kan bruge SymPy til at tjekke vores beregninger\n",
        "\n",
        "from sympy import * #importer alt fra Sympy\n",
        "from sympy.solvers.solveset import linsolve #importer linalg solver\n",
        "\n",
        "x, y = symbols('x, y') #definer vores symboler\n",
        "\n",
        "linsolve(Matrix(([300,    -1, -2500], [400, -1, -500])), (x, y)) #definer matrix og hvad der skal løses"
      ],
      "execution_count": 66,
      "outputs": [
        {
          "output_type": "execute_result",
          "data": {
            "text/latex": "$\\displaystyle \\left\\{\\left( 20, \\  8500\\right)\\right\\}$",
            "text/plain": [
              "FiniteSet((20, 8500))"
            ]
          },
          "metadata": {},
          "execution_count": 66
        }
      ]
    },
    {
      "cell_type": "markdown",
      "metadata": {
        "id": "iB2M4S2LIopG"
      },
      "source": [
        "#### Del 1.9\n",
        "I de fleste situationer i den virkelige verden er den afhængige variabel forbundet med flere uafhængige variabler, ikke kun et enkelt x. For at repræsentere disse funktioner skal vi arbejde med en anden version af den generelle form:\n",
        "\n",
        "$a_1x_1 + a_2x_2 + a_3x_3 + … + a_nx_n = c$\n",
        "\n",
        "\n",
        "I denne form er $a_1…a_n$ koefficienterne og $c$ er en konstant værdi.\n",
        "\n",
        "$$\n",
        "\\begin{align*}2x_1 + 5x_2 + 2x_3 &=  - 38\\\\  3x_1 - 2x_2 + 4x_3 &= 17\\\\   - 6x_1 + x_2 - 7x_3 &=  - 12\\end{align*}\n",
        "$$\n",
        "\n",
        "\\\\\n",
        "\n",
        "$$\\left[\\begin{array}{rrr|r}\n",
        "2 & 5 & 2 & -38\\\\ \n",
        "3 & -2 & 4 & 17\\\\\n",
        "-6 & 1 & -7 & -12\n",
        "\\end{array}\\right]$$\n"
      ]
    },
    {
      "cell_type": "code",
      "metadata": {
        "id": "LvUuzghkQEsy"
      },
      "source": [
        "matrix_3x4 = np.asarray([[2,5,2,-38],\n",
        "                         [3,-2,4,17],\n",
        "                         [-6,1,-7,-12]] , dtype = np.float32)"
      ],
      "execution_count": 67,
      "outputs": []
    },
    {
      "cell_type": "code",
      "metadata": {
        "id": "C4d1LVHsKD5i",
        "colab": {
          "base_uri": "https://localhost:8080/",
          "height": 37
        },
        "outputId": "a5d455f4-9aa5-489d-e908-233e17488e39"
      },
      "source": [
        "x1, x2, x3 = symbols('x1, x2, x3') # som her kan være alt man har lyst til...men lad os bruge x1...n\n",
        "\n",
        "linsolve(Matrix(matrix_3x4), (x1, x2, x3))"
      ],
      "execution_count": 70,
      "outputs": [
        {
          "output_type": "execute_result",
          "data": {
            "text/latex": "$\\displaystyle \\left\\{\\left( 3.0, \\  -8.0, \\  -2.0\\right)\\right\\}$",
            "text/plain": [
              "FiniteSet((3.0, -8.0, -2.0))"
            ]
          },
          "metadata": {},
          "execution_count": 70
        }
      ]
    },
    {
      "cell_type": "markdown",
      "metadata": {
        "id": "yi332QLTKEAW"
      },
      "source": [
        "Hvis vi har et system med mere end 3 variabler, kan vi ikke visualisere det let. Derudover bliver det meget mere problematisk at udføre Gaussiss-eliminering. I de næste par sessioner vil vi udvikle mere af teorien og den geometriske intuition bag lineær algebra og bygge videre på det for at løse disse mere komplekse lineære systemer."
      ]
    },
    {
      "cell_type": "markdown",
      "metadata": {
        "id": "u3SYN8ISKKPh"
      },
      "source": [
        "#### Opsummering\n",
        "\n",
        "**Syntaks** "
      ]
    },
    {
      "cell_type": "code",
      "metadata": {
        "id": "wWNXiY-7KYAa"
      },
      "source": [
        "# Repræsentér en matrix som en array\n",
        "import numpy as np\n",
        "matrix_one = np.asarray([\n",
        "[0, 0, 0],\n",
        "[0, 0, 0]\n",
        "], dtype = np.float32)"
      ],
      "execution_count": 72,
      "outputs": []
    },
    {
      "cell_type": "code",
      "metadata": {
        "id": "y0nsRAQiKiT6"
      },
      "source": [
        "# Multiplicér en række med en ikke-nul konstant\n",
        "matrix[1] = 2*matrix[1]"
      ],
      "execution_count": 73,
      "outputs": []
    },
    {
      "cell_type": "code",
      "metadata": {
        "id": "W-rne_UfKzqm"
      },
      "source": [
        "#\tTilføj en række til en anden række:\n",
        "matrix[1] = matrix[1] + matrix[0]"
      ],
      "execution_count": 74,
      "outputs": []
    },
    {
      "cell_type": "code",
      "metadata": {
        "id": "8FMoy0rxK4ic"
      },
      "source": [
        "# Kombination og sammenkædning af rækkeoperationer: \n",
        "matrix[1] = 0.5*matrix[0] + matrix[1] + matrix[1]"
      ],
      "execution_count": 76,
      "outputs": []
    },
    {
      "cell_type": "markdown",
      "metadata": {
        "id": "fYbpLMCEK8fW"
      },
      "source": [
        "**Begreber**\n",
        "\n",
        "* Lineær algebra giver en måde at repræsentere og forstå løsninger på systemer med lineære ligninger. Vi repræsenterer lineære ligninger i den generelle form $Ax + By = c$.\n",
        "\n",
        "* Et system med lineære ligninger består af flere relaterede funktioner med et fælles sæt variabler. Det punkt, hvor ligningerne krydser hinanden, er kendt som en løsning på systemet.\n",
        "\n",
        "* Elimineringsmetoden indebærer at repræsentere en af vores variabler med hensyn til en ønsket variabel og erstatte ligningen, der er i form af den ønskede variabel.\n",
        "\n",
        "  * Antag, at vi har ligningerne $y = 1000 + 30x$ og $y = 100 + 50x$. Da begge er lig med y, kan man bytte den anden funktion med den første. Følgende er trinene til løsning af vores eksempel ved hjælp af eliminationsmetoden: \n",
        "    * $y 1000 + 30x = 100 + 50x$ \n",
        "    * $900 = 20x$ \n",
        "    * $45 = x$\n",
        "\n",
        "* En matrix bruger rækker og kolonner til udelukkende at repræsentere koefficienterne i et lineært system, og det svarer til den måde, hvorpå data er repræsenteret i et regneark eller en DataFrame.\n",
        "\n",
        "* Gaussisk eliminering bruges til at løse ligningssystemer, der er modelleret af mange variabler og ligninger.\n",
        "\n",
        "* I en augmenteret matrix er koefficienterne fra funktionens venstre side på venstre side af bjælken (|), mens konstanterne fra funktionens højre side er på højre side.\n",
        "\n",
        "* For at bevare forholdene i det lineære system kan vi bruge følgende rækkeoperationer:\n",
        "  * Enhver række kan byttes med en anden.\n",
        "  * Enhver række kan ganges med en ikke-nul konstant.\n",
        "  * Enhver række kan føjes til en anden række.\n"
      ]
    },
    {
      "cell_type": "markdown",
      "metadata": {
        "id": "t-fEFqYPTTV6"
      },
      "source": [
        "# Homework\n",
        "\n",
        "Til næste gang - lav øvelser herfra:\n",
        "\n",
        "pen & paper / prøv at løse disse liniære systemer i Python ved at bruge koder fra notebooken her.\n",
        "\n",
        "- [Linear Systems with Two Variables](https://tutorial.math.lamar.edu/Problems/Alg/SystemsTwoVrble.aspx)\n",
        "- [Linear Systems with Three Variables](https://tutorial.math.lamar.edu/Problems/Alg/SystemsThreeVrble.aspx)\n",
        "- [Augmented Matrices](https://tutorial.math.lamar.edu/Problems/Alg/AugmentedMatrix.aspx)"
      ]
    }
  ]
}