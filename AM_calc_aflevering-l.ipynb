{
  "nbformat": 4,
  "nbformat_minor": 0,
  "metadata": {
    "colab": {
      "name": "AM-calc_aflevering.ipynb",
      "provenance": [],
      "collapsed_sections": [],
      "include_colab_link": true
    },
    "kernelspec": {
      "name": "python3",
      "display_name": "Python 3"
    },
    "language_info": {
      "name": "python"
    }
  },
  "cells": [
    {
      "cell_type": "markdown",
      "metadata": {
        "id": "view-in-github",
        "colab_type": "text"
      },
      "source": [
        "<a href=\"https://colab.research.google.com/github/RJuro/am-21/blob/main/AM_calc_aflevering-l.ipynb\" target=\"_parent\"><img src=\"https://colab.research.google.com/assets/colab-badge.svg\" alt=\"Open In Colab\"/></a>"
      ]
    },
    {
      "cell_type": "markdown",
      "metadata": {
        "id": "yoIewCBrgStf"
      },
      "source": [
        "# Peer-feedback aflevering Anvendt Metematik - Calculus\n",
        "\n",
        "![](https://source.unsplash.com/GzDrm7SYQ0g)"
      ]
    },
    {
      "cell_type": "markdown",
      "metadata": {
        "id": "8GdNGHLbiX-B"
      },
      "source": [
        "# Opgave 1\n",
        "\n",
        "I denne del arbejder vi med funktionen $f(x) = x^3 - 6x^2 -63x + 42$"
      ]
    },
    {
      "cell_type": "code",
      "metadata": {
        "id": "XLH5llqNjPPj"
      },
      "source": [
        "# import af alle pakker, som der er brug for i opgaven\n",
        "\n",
        "import numpy as np\n",
        "import matplotlib.pyplot as plt\n",
        "from sympy import *"
      ],
      "execution_count": 1,
      "outputs": []
    },
    {
      "cell_type": "markdown",
      "metadata": {
        "id": "GEFBcUVtjeG5"
      },
      "source": [
        "### 1.1 - Plot funktionen \n",
        "\n",
        "- brug numpy og pyplot/matplotlib\n",
        "- plot for $-15 ≤ x ≤ 15$"
      ]
    },
    {
      "cell_type": "code",
      "metadata": {
        "colab": {
          "base_uri": "https://localhost:8080/",
          "height": 283
        },
        "id": "C-0wzG0xCRRO",
        "outputId": "1411397a-ea3c-4e3c-f225-c60fefa43aed"
      },
      "source": [
        "# brug np.linspace til at generere 100 værdier og plot funktionen\n",
        "x = np.linspace(-15, 15, num=100)\n",
        "y = x**3 - 6*x**2 -63*x +42\n",
        "\n",
        "plt.plot(x,y)"
      ],
      "execution_count": 2,
      "outputs": [
        {
          "output_type": "execute_result",
          "data": {
            "text/plain": [
              "[<matplotlib.lines.Line2D at 0x7ff803fe5210>]"
            ]
          },
          "metadata": {
            "tags": []
          },
          "execution_count": 2
        },
        {
          "output_type": "display_data",
          "data": {
            "image/png": "[encoded data removed]",
            "text/plain": [
              "<Figure size 432x288 with 1 Axes>"
            ]
          },
          "metadata": {
            "tags": [],
            "needs_background": "light"
          }
        }
      ]
    },
    {
      "cell_type": "markdown",
      "metadata": {
        "id": "1MT9F7Q5j26l"
      },
      "source": [
        "### 1.2 - Find sekantlinjen \n",
        "\n",
        "- Beregn den lineære ligning $s = mx+b$ der beskriver sekanten i de to punkter $x_1 = -10$ og $x_2 = 0$\n",
        "- Du skal først finde $y_1, y_2$ og $m, b$\n",
        "- plot $f(x)$ og $s(x)$\n",
        "\n",
        "OBS: der bruges lidt afvigende variablebetegnelser (fra de matematiske udtryk) i koden.\n",
        "\n"
      ]
    },
    {
      "cell_type": "code",
      "metadata": {
        "colab": {
          "base_uri": "https://localhost:8080/",
          "height": 39
        },
        "id": "nxFlgnL8Wr-Q",
        "outputId": "a618f244-000d-4dc9-e581-0b212386bdf0"
      },
      "source": [
        "# definer symboler og funktionen (brug x0 i stedet for x)\n",
        "x0 = symbols('x0')\n",
        "\n",
        "f = x0**3 - 6*x0**2 -63*x0 +42\n",
        "f"
      ],
      "execution_count": 3,
      "outputs": [
        {
          "output_type": "execute_result",
          "data": {
            "text/latex": "$\\displaystyle x_{0}^{3} - 6 x_{0}^{2} - 63 x_{0} + 42$",
            "text/plain": [
              "x0**3 - 6*x0**2 - 63*x0 + 42"
            ]
          },
          "metadata": {
            "tags": []
          },
          "execution_count": 3
        }
      ]
    },
    {
      "cell_type": "code",
      "metadata": {
        "id": "o_6iBS12Wez2"
      },
      "source": [
        "# beregn y1 og y2 i SymPy\n",
        "x1 = -10\n",
        "x2 = 0\n",
        "\n",
        "y1 = f.subs(x0,x1)\n",
        "y2 = f.subs(x0,x2)"
      ],
      "execution_count": 4,
      "outputs": []
    },
    {
      "cell_type": "code",
      "metadata": {
        "colab": {
          "base_uri": "https://localhost:8080/"
        },
        "id": "dic3gYoeg4o7",
        "outputId": "a3e69683-7df7-4988-d963-babff28448cd"
      },
      "source": [
        "print(y1)\n",
        "print(y2)"
      ],
      "execution_count": 6,
      "outputs": [
        {
          "output_type": "stream",
          "text": [
            "-928\n",
            "42\n"
          ],
          "name": "stdout"
        }
      ]
    },
    {
      "cell_type": "code",
      "metadata": {
        "id": "84jT0BZhW6M3"
      },
      "source": [
        "# beregn hældningen m\n",
        "m = (y2-y1)/(x2-x1)"
      ],
      "execution_count": 7,
      "outputs": []
    },
    {
      "cell_type": "code",
      "metadata": {
        "id": "QDPC8yJpXBNT"
      },
      "source": [
        "# beregn b ved at omskrive s = m*x + b\n",
        "\n",
        "b = y1 - m* x1"
      ],
      "execution_count": 9,
      "outputs": []
    },
    {
      "cell_type": "code",
      "metadata": {
        "colab": {
          "base_uri": "https://localhost:8080/",
          "height": 37
        },
        "id": "lxR6UQPMo2ek",
        "outputId": "cbaa49cf-4569-495d-a902-6a1953dda4be"
      },
      "source": [
        "b"
      ],
      "execution_count": 10,
      "outputs": [
        {
          "output_type": "execute_result",
          "data": {
            "text/latex": "$\\displaystyle 42$",
            "text/plain": [
              "42"
            ]
          },
          "metadata": {
            "tags": []
          },
          "execution_count": 10
        }
      ]
    },
    {
      "cell_type": "code",
      "metadata": {
        "id": "B_lOlb_OXVvY"
      },
      "source": [
        "# beregn alle s-værdier ved at indsætte x-værdier som blev genereret med linspace\n",
        "s = m*x + b"
      ],
      "execution_count": 12,
      "outputs": []
    },
    {
      "cell_type": "code",
      "metadata": {
        "id": "zTPUx8wro03i"
      },
      "source": [
        "s"
      ],
      "execution_count": null,
      "outputs": []
    },
    {
      "cell_type": "code",
      "metadata": {
        "id": "FS6uzNf9viKk",
        "colab": {
          "base_uri": "https://localhost:8080/",
          "height": 283
        },
        "outputId": "159a02d5-ac6f-4a32-89e1-6f37b0bc6c39"
      },
      "source": [
        "# plot f(x) og s(x) som går gennem x1 og x2\n",
        "plt.plot(x,y)\n",
        "plt.plot(x,s)\n",
        "\n",
        "plt.plot([x1,x2],[y1,y2], 'o', c='red') #extra :-)"
      ],
      "execution_count": 14,
      "outputs": [
        {
          "output_type": "execute_result",
          "data": {
            "text/plain": [
              "[<matplotlib.lines.Line2D at 0x7ff802fb4bd0>]"
            ]
          },
          "metadata": {
            "tags": []
          },
          "execution_count": 14
        },
        {
          "output_type": "display_data",
          "data": {
            "image/png": "[encoded data removed]",
            "text/plain": [
              "<Figure size 432x288 with 1 Axes>"
            ]
          },
          "metadata": {
            "tags": [],
            "needs_background": "light"
          }
        }
      ]
    },
    {
      "cell_type": "markdown",
      "metadata": {
        "id": "xaCAdaqdX1Eo"
      },
      "source": [
        "### 1.3 - Find tangentlinjen \n",
        "\n",
        "- Beregn den lineære ligning $t = mx+b$ der beskriver tangenten i $x_3 = -7$\n",
        "- Du skal først finde $y_3$\n",
        "- Brug **differenskvotienten** og beregn hældning i $x_3$ for $\\lim_{h\\to0}$\n",
        "- plot $f(x)$ og $t(x)$\n",
        "\n",
        "OBS: der bruges lidt afvigende variablebetegnelser (fra de matematiske udtryk) i koden.\n"
      ]
    },
    {
      "cell_type": "code",
      "metadata": {
        "id": "Ae5Cz0fDCga_"
      },
      "source": [
        "# beregn y3 ved at indsætte x3\n",
        "\n",
        "x3 = -7\n",
        "y3 = f.subs(x0, x3)"
      ],
      "execution_count": 15,
      "outputs": []
    },
    {
      "cell_type": "code",
      "metadata": {
        "id": "4glbqzMDYEvR"
      },
      "source": [
        "# definer h symbollet\n",
        "h = symbols('h')"
      ],
      "execution_count": 16,
      "outputs": []
    },
    {
      "cell_type": "code",
      "metadata": {
        "id": "qQV6fH2pY0NO"
      },
      "source": [
        "# definer f(x+h) ved at erstatte x0 for x0+h i f(x)\n",
        "fh = f.subs(x0, x0+h)"
      ],
      "execution_count": 17,
      "outputs": []
    },
    {
      "cell_type": "code",
      "metadata": {
        "colab": {
          "base_uri": "https://localhost:8080/",
          "height": 39
        },
        "id": "YJh9WB_Wanab",
        "outputId": "622e86fd-abcf-4812-c43b-4076594663b8"
      },
      "source": [
        "fh"
      ],
      "execution_count": 18,
      "outputs": [
        {
          "output_type": "execute_result",
          "data": {
            "text/latex": "$\\displaystyle - 63 h - 63 x_{0} + \\left(h + x_{0}\\right)^{3} - 6 \\left(h + x_{0}\\right)^{2} + 42$",
            "text/plain": [
              "-63*h - 63*x0 + (h + x0)**3 - 6*(h + x0)**2 + 42"
            ]
          },
          "metadata": {
            "tags": []
          },
          "execution_count": 18
        }
      ]
    },
    {
      "cell_type": "code",
      "metadata": {
        "id": "hgY4frxGY7zd"
      },
      "source": [
        "# definer ligninen for hældning af tangenten mt\n",
        "# udskriv mt og kontroler\n",
        "mt = (fh-f)/h"
      ],
      "execution_count": 19,
      "outputs": []
    },
    {
      "cell_type": "code",
      "metadata": {
        "colab": {
          "base_uri": "https://localhost:8080/",
          "height": 56
        },
        "id": "6HNrSu8kY1ZH",
        "outputId": "b80489ed-138f-48b1-9573-4a6af37e1933"
      },
      "source": [
        "mt"
      ],
      "execution_count": 20,
      "outputs": [
        {
          "output_type": "execute_result",
          "data": {
            "text/latex": "$\\displaystyle \\frac{- 63 h - x_{0}^{3} + 6 x_{0}^{2} + \\left(h + x_{0}\\right)^{3} - 6 \\left(h + x_{0}\\right)^{2}}{h}$",
            "text/plain": [
              "(-63*h - x0**3 + 6*x0**2 + (h + x0)**3 - 6*(h + x0)**2)/h"
            ]
          },
          "metadata": {
            "tags": []
          },
          "execution_count": 20
        }
      ]
    },
    {
      "cell_type": "markdown",
      "metadata": {
        "id": "f9HvBbl5wQ_y"
      },
      "source": [
        "Differenskvotienten burde være:\n",
        "$$\\frac{- 63 h - x_{0}^{3} + 6 x_{0}^{2} + \\left(h + x_{0}\\right)^{3} - 6 \\left(h + x_{0}\\right)^{2}}{h}$$"
      ]
    },
    {
      "cell_type": "code",
      "metadata": {
        "id": "3tXALDuAZDhP"
      },
      "source": [
        "# beregn hældningen m3 i x3 ved at regne grænseværdien for h -> 0 og indsætte x3\n",
        "m3 = mt.limit(h, 0).subs(x0, x3)"
      ],
      "execution_count": 22,
      "outputs": []
    },
    {
      "cell_type": "code",
      "metadata": {
        "id": "P8_6suLLZq-2"
      },
      "source": [
        "# beregn b3 ved at omkskrive t = m3 * x + b3\n",
        "\n",
        "b3 = y3 - m3 * x3"
      ],
      "execution_count": 24,
      "outputs": []
    },
    {
      "cell_type": "code",
      "metadata": {
        "id": "Fp9rvcDdaE-O"
      },
      "source": [
        "# beregn alle t-værdier ved at indsætte x-værdier som blev genereret med linspace\n",
        "t = m3*x + b3"
      ],
      "execution_count": 25,
      "outputs": []
    },
    {
      "cell_type": "code",
      "metadata": {
        "id": "hbxpvlVKxy9N",
        "colab": {
          "base_uri": "https://localhost:8080/",
          "height": 283
        },
        "outputId": "89535cc9-2359-4c93-99b9-15e809b7a42e"
      },
      "source": [
        "# plot f(x) og t(x) i x3\n",
        "plt.plot(x,y)\n",
        "plt.plot(x,t)\n",
        "\n",
        "plt.plot(x3,y3,'o', c='red')"
      ],
      "execution_count": 26,
      "outputs": [
        {
          "output_type": "execute_result",
          "data": {
            "text/plain": [
              "[<matplotlib.lines.Line2D at 0x7ff802b89690>]"
            ]
          },
          "metadata": {
            "tags": []
          },
          "execution_count": 26
        },
        {
          "output_type": "display_data",
          "data": {
            "image/png": "[encoded data removed]",
            "text/plain": [
              "<Figure size 432x288 with 1 Axes>"
            ]
          },
          "metadata": {
            "tags": [],
            "needs_background": "light"
          }
        }
      ]
    },
    {
      "cell_type": "markdown",
      "metadata": {
        "id": "0a2iHGStn2a0"
      },
      "source": [
        "### 1.4 - Find ekstrempunkter\n",
        "\n",
        "- Brug SymPy og differentering til at finde maximum og minimum i $f(x)$\n",
        "- Brug først `factor()` funktionen, som kan hjælpe med at finde ekstrempunkter \"manuelt\"\n",
        "- Vis derefter, hvordan man kan finde punkterne \"automatisk\"\n",
        "- Lav manuel test for min/max ved at se på ændinger i fortegn"
      ]
    },
    {
      "cell_type": "code",
      "metadata": {
        "colab": {
          "base_uri": "https://localhost:8080/",
          "height": 39
        },
        "id": "y0iEcYGYbY0F",
        "outputId": "0f6478f3-3e9b-4f13-fa48-3d32df6be69a"
      },
      "source": [
        "# find den afledede funktion fd (sympy) og udskriv\n",
        "fd = f.diff()\n",
        "fd"
      ],
      "execution_count": 27,
      "outputs": [
        {
          "output_type": "execute_result",
          "data": {
            "text/latex": "$\\displaystyle 3 x_{0}^{2} - 12 x_{0} - 63$",
            "text/plain": [
              "3*x0**2 - 12*x0 - 63"
            ]
          },
          "metadata": {
            "tags": []
          },
          "execution_count": 27
        }
      ]
    },
    {
      "cell_type": "code",
      "metadata": {
        "colab": {
          "base_uri": "https://localhost:8080/",
          "height": 39
        },
        "id": "5bagRSwmbGO6",
        "outputId": "0601ed18-35de-4d96-a3ad-e4040d919587"
      },
      "source": [
        "# brug factor() funktionen til at faktorisere den afledede funktion; se, om du kan find\n",
        "# de 2 ekstrempunkter uden videre beregning\n",
        "fd.factor()"
      ],
      "execution_count": 28,
      "outputs": [
        {
          "output_type": "execute_result",
          "data": {
            "text/latex": "$\\displaystyle 3 \\left(x_{0} - 7\\right) \\left(x_{0} + 3\\right)$",
            "text/plain": [
              "3*(x0 - 7)*(x0 + 3)"
            ]
          },
          "metadata": {
            "tags": []
          },
          "execution_count": 28
        }
      ]
    },
    {
      "cell_type": "code",
      "metadata": {
        "colab": {
          "base_uri": "https://localhost:8080/",
          "height": 37
        },
        "id": "ob1jvXLTCxsc",
        "outputId": "e3232f39-e563-4be2-b0f4-2e6a3523dfad"
      },
      "source": [
        "# brug sympy til at finde de 2 ekstrempunkter\n",
        "solveset(fd, x0)"
      ],
      "execution_count": 29,
      "outputs": [
        {
          "output_type": "execute_result",
          "data": {
            "text/latex": "$\\displaystyle \\left\\{-3, 7\\right\\}$",
            "text/plain": [
              "FiniteSet(-3, 7)"
            ]
          },
          "metadata": {
            "tags": []
          },
          "execution_count": 29
        }
      ]
    },
    {
      "cell_type": "code",
      "metadata": {
        "id": "Y2h6BZzlDWZv"
      },
      "source": [
        "# generer værdier som kan bruges for at undersøge ændringer af fortegn\n",
        "sign_chart = [-4,-3,6,7,8]"
      ],
      "execution_count": 30,
      "outputs": []
    },
    {
      "cell_type": "code",
      "metadata": {
        "colab": {
          "base_uri": "https://localhost:8080/"
        },
        "id": "DeKB8eWPE0s3",
        "outputId": "d9f0b371-8c9b-4d07-ae71-49307eac1cf3"
      },
      "source": [
        "# beregn hældningsværdier (list-comprehension)\n",
        "[fd.subs(x0,i) for i in sign_chart]"
      ],
      "execution_count": 31,
      "outputs": [
        {
          "output_type": "execute_result",
          "data": {
            "text/plain": [
              "[33, 0, -27, 0, 33]"
            ]
          },
          "metadata": {
            "tags": []
          },
          "execution_count": 31
        }
      ]
    },
    {
      "cell_type": "markdown",
      "metadata": {
        "id": "jrNK0UK_o5xP"
      },
      "source": [
        "# Opgave 2 - Omkostningsminimering\n",
        "\n",
        "Efter regeringens udspil om udflytning af studier skal Viborg Kommune i gang med at bygge nye boliger i Foulum. Det viser sig, at flere studerende end antaget skal have det godt og sjovt i Foulum fra 2024 og der er nu tale om maksimalt **300** nye studieboliger, som kan bygges.\n",
        "Det er dog ikke billigt at bygge og heller ikke at veligeholde ejendomme. $C(z) =10000 + 35z - 0.1z^2$ er funktionen, der beskriver gennemsnitlige omkostninger forbundet med veligeholdelse per dag.\n",
        "Hvor mange boliger skal er bygges, således omkostninger kan reduceres under antagelsen, at der findes folk, som vil flytte dertil for at læse...\n",
        "\n",
        "\n"
      ]
    },
    {
      "cell_type": "markdown",
      "metadata": {
        "id": "HRdBSso6tECX"
      },
      "source": [
        "### 2.1 - Definer og plot funktionen $C(z)$\n",
        "\n",
        "- definer funktionen og gem i $c$ (symbolsk)\n",
        "- brug numpy/matplotlib til at plotte for $-100≤z≤400$"
      ]
    },
    {
      "cell_type": "code",
      "metadata": {
        "id": "gqYh-a_AssIn"
      },
      "source": [
        "# definer symbol z\n",
        "z = symbols('z')"
      ],
      "execution_count": 32,
      "outputs": []
    },
    {
      "cell_type": "code",
      "metadata": {
        "id": "AwA-plT8biC0",
        "colab": {
          "base_uri": "https://localhost:8080/",
          "height": 39
        },
        "outputId": "71780533-207b-415d-ce38-cca86711a79c"
      },
      "source": [
        "# definer c(z) som c\n",
        "c = 10000 + 35*z - 0.1*z**2\n",
        "c"
      ],
      "execution_count": 33,
      "outputs": [
        {
          "output_type": "execute_result",
          "data": {
            "text/latex": "$\\displaystyle - 0.1 z^{2} + 35 z + 10000$",
            "text/plain": [
              "-0.1*z**2 + 35*z + 10000"
            ]
          },
          "metadata": {
            "tags": []
          },
          "execution_count": 33
        }
      ]
    },
    {
      "cell_type": "code",
      "metadata": {
        "id": "KO5h3RgRc-af",
        "colab": {
          "base_uri": "https://localhost:8080/",
          "height": 283
        },
        "outputId": "4350f93e-295e-4722-9685-82f9dca4e568"
      },
      "source": [
        "# plot funktionen mellem -100 of 400; brug z_plot i stedet for x (som vi eller bruger)\n",
        "z_plot = np.linspace(-100, 400, num=100)\n",
        "\n",
        "y = 10000 + 35*z_plot - 0.1*z_plot**2\n",
        "\n",
        "plt.plot(z_plot,y)"
      ],
      "execution_count": 34,
      "outputs": [
        {
          "output_type": "execute_result",
          "data": {
            "text/plain": [
              "[<matplotlib.lines.Line2D at 0x7ff802aca250>]"
            ]
          },
          "metadata": {
            "tags": []
          },
          "execution_count": 34
        },
        {
          "output_type": "display_data",
          "data": {
            "image/png": "[encoded data removed]",
            "text/plain": [
              "<Figure size 432x288 with 1 Axes>"
            ]
          },
          "metadata": {
            "tags": [],
            "needs_background": "light"
          }
        }
      ]
    },
    {
      "cell_type": "markdown",
      "metadata": {
        "id": "A7VklEFhtikB"
      },
      "source": [
        "### 2.2 - Find ekstrempunktet\n",
        "\n",
        "- Hvor er ekstrempunktet?\n",
        "- Man vil gerne bygge så mange boliger, som man kan samt minimere omkostninger: Hvor mange burde man bygge, hvis man maksimalt har plads til 300?"
      ]
    },
    {
      "cell_type": "code",
      "metadata": {
        "id": "Qj09bpaGdmE6",
        "colab": {
          "base_uri": "https://localhost:8080/",
          "height": 37
        },
        "outputId": "c1373e77-c2b4-4848-e43d-1ce211fd0248"
      },
      "source": [
        "# find ekstremum\n",
        "solveset(c.diff())"
      ],
      "execution_count": 35,
      "outputs": [
        {
          "output_type": "execute_result",
          "data": {
            "text/latex": "$\\displaystyle \\left\\{175.0\\right\\}$",
            "text/plain": [
              "FiniteSet(175.0)"
            ]
          },
          "metadata": {
            "tags": []
          },
          "execution_count": 35
        }
      ]
    },
    {
      "cell_type": "code",
      "metadata": {
        "id": "5u_PE1FVfXcq"
      },
      "source": [
        "# lav liste med mulige antal af boliger (f.eks. ingen, z i ekstrempunktet, maksimal antal boliger, der kan bygges)\n",
        "solutions = [0, 175, 300]"
      ],
      "execution_count": 36,
      "outputs": []
    },
    {
      "cell_type": "code",
      "metadata": {
        "id": "O6WFCWhte4Mg",
        "colab": {
          "base_uri": "https://localhost:8080/"
        },
        "outputId": "b4eb15e0-eba8-425a-a3d1-89fe74af6710"
      },
      "source": [
        "# beregn omkostninger for disse løsninger\n",
        "[c.subs(z, i) for i in solutions]"
      ],
      "execution_count": 37,
      "outputs": [
        {
          "output_type": "execute_result",
          "data": {
            "text/plain": [
              "[10000, 13062.5000000000, 11500.0000000000]"
            ]
          },
          "metadata": {
            "tags": []
          },
          "execution_count": 37
        }
      ]
    },
    {
      "cell_type": "code",
      "metadata": {
        "colab": {
          "base_uri": "https://localhost:8080/",
          "height": 283
        },
        "id": "dWEmkZJZs3hw",
        "outputId": "1859328c-ad57-4b58-9551-e987771448c1"
      },
      "source": [
        "z_plot = np.linspace(-100, 400, num=100)\n",
        "\n",
        "y = 10000 + 35*z_plot - 0.1*z_plot**2\n",
        "\n",
        "plt.plot(z_plot,y)\n",
        "plt.plot(solutions, [c.subs(z, i) for i in solutions], 'o', c='r')"
      ],
      "execution_count": 38,
      "outputs": [
        {
          "output_type": "execute_result",
          "data": {
            "text/plain": [
              "[<matplotlib.lines.Line2D at 0x7ff802a480d0>]"
            ]
          },
          "metadata": {
            "tags": []
          },
          "execution_count": 38
        },
        {
          "output_type": "display_data",
          "data": {
            "image/png": "[encoded data removed]",
            "text/plain": [
              "<Figure size 432x288 with 1 Axes>"
            ]
          },
          "metadata": {
            "tags": [],
            "needs_background": "light"
          }
        }
      ]
    },
    {
      "cell_type": "code",
      "metadata": {
        "id": "V9hCGQDouPEM"
      },
      "source": [
        "# man skal bygge\n",
        "\n",
        "z_optimal = 300 # boliger"
      ],
      "execution_count": null,
      "outputs": []
    }
  ]
}