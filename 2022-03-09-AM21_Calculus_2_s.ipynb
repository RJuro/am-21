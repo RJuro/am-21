{
  "nbformat": 4,
  "nbformat_minor": 0,
  "metadata": {
    "colab": {
      "name": "AM21 - Calculus 2 - s",
      "provenance": [],
      "collapsed_sections": [],
      "include_colab_link": true
    },
    "kernelspec": {
      "name": "python3",
      "display_name": "Python 3"
    },
    "language_info": {
      "name": "python"
    }
  },
  "cells": [
    {
      "cell_type": "markdown",
      "metadata": {
        "id": "view-in-github",
        "colab_type": "text"
      },
      "source": [
        "<a href=\"https://colab.research.google.com/github/RJuro/am-21/blob/main/2022-03-09-AM21_Calculus_2_s.ipynb\" target=\"_parent\"><img src=\"https://colab.research.google.com/assets/colab-badge.svg\" alt=\"Open In Colab\"/></a>"
      ]
    },
    {
      "cell_type": "markdown",
      "metadata": {
        "id": "ZHIW45rm7iWE"
      },
      "source": [
        "### Calculus - Part 2\n",
        "\n",
        "#### Del 2.1\n",
        "I slutningen af den sidste session fik vi fikseret et første punkt på vores kurve, trak en sekant linje mellem det første punkt og et andet punkt og observerede, hvad der skete, da vi flyttede det andet punkt tættere på det første punkt langs kurven. Jo større intervallet mellem de 2 punkter på x-aksen er, desto mere afviger sekantlinjens hældning fra kurvens hældning. Jo tættere intervallet er, desto mere begyndte sekantlinjen at matche stejlheden ved det første punkt på kurven.\n",
        "\n",
        "I denne mission formaliserer vi ideen om hældning yderligere og ser, hvordan man beregner hældningen for ikke-lineære ligninger på et givet punkt. Når du gennemgår resten af dette kursus, anbefaler at følge den matematik, der præsenteres, ved hjælp af blyant og papir. Vi starter med at introducere en matematisk notation, der formaliserer den observation, vi lavede i slutningen af den sidste session.\n",
        "Det kan være du har hørt tidligere (gymnasiet) om det under betegnelsen differenskvotient. Differenskvotienten er funktionstilvæksten ($y_2-y_1$) divideret med $(x_2-x_1)$ som tit også skrives som $h$. Og dermer:\n",
        " \n",
        " $$a_s=\\frac{y_2-y_1}{x_2-x_1}=\\frac{f(x_0+h)-f(x_0)}{(x_0+h)-x_0}=\\frac{f(x_0+h)-f(x_0)}{h}$$\n",
        "\n",
        " eller\n",
        "\n",
        " $$a_s=\\frac{\\Delta y}{h}=\\frac{f(x_0+h)-f(x_0)}{h}$$\n",
        "\n",
        " Hvis vi forsøger at \"samle\" vores $x_1$ og $x_2$ værdier – dvs. $x_1 = x_2$ –  så løber vi ind i division-med-nul-problemet:\n",
        "\n",
        "$$m = \\frac{f(x_2)-f(x_1)}{x_2 - x_1} = \\frac{0}{0}$$\n",
        "\n",
        "Selvom hældningen er udefineret når $x_1$ og $x_2$ er ækvivalente, vil vi stadig være i stand til at redegøre for og begrunde, hvilken værdi hældningen nærmer sig når $x_1$ nærmer sig $x_2$. For at gøre det skal vi omformulere problemet som en **grænseværdi** (*limit*). Grænseværdien beskriver værdien, som en funktion nærmer sig, når inputvariablen til funktionen nærmer sig en bestemt værdi. I vores tilfælde er inputvariablen $x_2$ og vores funktion er $m = \\frac{f(x_2)-f(x_1)}{x_2 - x_1}$. Den følgende matematiske notation formaliserer udsagnet \"når $x_2$ nærmer sig $3$, nærmer hældningen mellem $x_1$ og $x_2$ sig $-3$\", ved brug af grænseværdien: \n",
        "\n",
        "$$\\lim_{x2\\to3}\\frac{f(x_2)-f(x_1)}{x_2 - x_1} = -3$$"
      ]
    },
    {
      "cell_type": "markdown",
      "metadata": {
        "id": "sP0kDH-_DxpT"
      },
      "source": [
        "$\\lim_{x_2\\to3}$ er en anden måde at sige \"når $x_2$ nærmer sig $3$\". Fordi vi fikserede $x_1$ til $3$, kan vi erstatte $x_1$ med $3$ i funktionen:\n",
        "\n",
        "$$\\lim_{x_2\\to3}(\\frac{f(x_2)-f(3)}{x_2 - 3}) = \\lim_{x2\\to3}\\frac{f(x_2)+1)}{x_2 - 3} = -3$$\n",
        "\n",
        "Formelt kan vi også sige, at **differentialkvotienten** er grænseværdien af **differenskvotienten** for h gående mod 0.\n",
        "\n",
        "$$a_t=\\lim_{h\\to0}(a_s)=\\lim_{h\\to0}(\\frac{\\Delta y}{h})$$\n",
        "\n",
        "Vi skal stadig bevise, at denne grænseværdi faktisk svarer til $-3$, hvilket vi vil bruge resten af dagens session til at kigge på. \n",
        "\n"
      ]
    },
    {
      "cell_type": "markdown",
      "metadata": {
        "id": "7Ykae8NVEILu"
      },
      "source": [
        "#### Del 2.2\n",
        "Der er to slags grænseværdier - **definerede grænseværdier** og **udefinerede grænseværdier**. Som du nok kan gætte, var den grænseværdi, vi kiggede på i den sidste afsnit, en udefineret grænseværdi, fordi det at indsætte $3$ som $x_2$ resulterer i en udefineret værdi. En defineret grænseværdi kan evalueres bare ved at erstatte værdien i grænseværdi.\n",
        "\n",
        "$$\n",
        "\\begin{matrix}\n",
        "\\hline\n",
        "\\textbf{x2} & \\textbf{x1} & \\textbf{m} \\\\ \\hline\n",
        "2.9         & 3           & -2.9       \\\\\n",
        "2.99        & 3           & -2.99      \\\\\n",
        "2.999       & 3           & -2.999     \\\\\n",
        "3.01        & 3           & -3.01      \\\\\n",
        "3.001       & 3           & -3.001     \\\\\n",
        "3.0001      & 3           & -3.0001    \\\\ \\hline\n",
        "\\end{matrix}\n",
        "$$\n",
        "\n",
        "Lad os starte med at forstå, hvordan definerede grænser fungerer. Når den resulterende værdi af en grænseværdi defineres til den værdi, inputvariablen nærmer sig, siger vi, at grænseværdien er defineret. I den sidste session genererede vi en tabel med værdier, der viste hældningerne af sekantlinjerne mellem tættere og tættere punkter på $x_1 = 3$:\n"
      ]
    },
    {
      "cell_type": "markdown",
      "metadata": {
        "id": "ISGvQ2jIEuI9"
      },
      "source": [
        "For at beregne hver af disse hældninger brugte vi begge værdier i hældningsligningen. Her er beregningen for hældningen af sekantlinjen mellem punkterne ved $x_1 = 3$ og $x_2 = 2.9$ hvor $f(x) = -(x^2) + 3x -1$:\n",
        "\n",
        "$$m = \\frac{f(2.9) - f(3)}{2.9-3} = -2.9$$\n",
        "\n",
        "Vi kan faktisk omskrive hver af disse som definerede grænseværdier. For eksempel beskriver den følgende definerede grænseværdi hældningen af sekantlinjen mellem de samme 2 punkter:\n",
        "\n",
        "$$\\lim_{x2\\to2.9}\\frac{f(x_2) - f(x_1)}{x_2-x1}$$\n",
        "\n",
        "Siden vi fikserede $x_1$ til værdien $3$, kan vi erstatte $x_1$ med $3$ og $f(x_1)$ med $-1$:\n",
        "\n",
        "$$\\lim_{x2\\to2.9}\\frac{f(x_2) - (-1)}{x_2-3}$$\n",
        "\n",
        "For at løse for grænseværdien kan direkte indsætte $2.9$ for $x_2$. Dette skyldes, at grænseværdien er defineret for den specifikke værdi ($2.9$) som inputvariablen nærmer sig ($x_2$). Når vi kan erstatte inputvariablen med den værdi, den nærmer sig i grænseværdien, konverteres problemet til et almindeligt aritmetisk problem: \n",
        "\n",
        "$$\\frac{f(2.9) - (-1)}{2.9-3} = -2.9$$\n",
        "\n",
        "Forhåbentlig har denne proces vist, hvordan vi kan løse udefinerede grænseværdier som den, vi præsenterede i første afsnit. **Ved at omskrive og konvertere en udefineret grænseværdi til en defineret grænseværdi, kan vi løse grænseværdien ved hjælp af direkte substitution og standard aritmetik**.\n",
        "\n",
        "Før vi dykker ned i, hvordan man konverterer en udefineret grænseværdi til en defineret grænseværdi, skal vi lige undersøge, hvordan man beregner grænseværdier ved hjælp af Python for at verificere vores tilgang.\n"
      ]
    },
    {
      "cell_type": "markdown",
      "metadata": {
        "id": "pxu5ULs-HFvN"
      },
      "source": [
        "#### Del 2.3\n",
        "SymPy-pakken har en række funktioner, der lader os beregne grænseværdier. Syntaks for SymPy følger ret nøje matematisk notation. For at starte er vi nødt til at importere pakken og bruge sympy.symbols() til at definere de variabler, vi ønsker at arbejde med, som symboler for at SymPy kan operere med dem:"
      ]
    },
    {
      "cell_type": "code",
      "metadata": {
        "id": "VvNMIkQOHYAp"
      },
      "source": [
        "import sympy\n",
        "x,y = sympy.symbols('x y')"
      ],
      "execution_count": null,
      "outputs": []
    },
    {
      "cell_type": "markdown",
      "metadata": {
        "id": "b0_axxn4HanO"
      },
      "source": [
        "I den sidste mission visualiserede vi en funktion ved at generere mange $x$ værdier (og definerede dem som objektet x), transformerede disse $x$ værdier til $y$ værdier (og definerede dem som objektet y), ved at benytte basic Python aritmetik operatorer og ved hjælp af matplotlib til at plotte begge lister af tal:"
      ]
    },
    {
      "cell_type": "code",
      "metadata": {
        "id": "bhCvINt2HaDS"
      },
      "source": [
        "import numpy as np\n",
        "import matplotlib.pyplot as plt\n",
        "\n",
        "x = np.linspace(0, 3, 100)\n",
        "y = -1*(x**2) + x*3 - 1\n",
        "plt.plot(x,y)"
      ],
      "execution_count": null,
      "outputs": []
    },
    {
      "cell_type": "code",
      "metadata": {
        "id": "AblOoZDbveMj"
      },
      "source": [
        "print(type(x))"
      ],
      "execution_count": null,
      "outputs": []
    },
    {
      "cell_type": "markdown",
      "metadata": {
        "id": "HThGHfplHx1T"
      },
      "source": [
        "I SymPy er arbejdsgangen anderledes, og de Python-variabler, vi bruger, holder ikke direkte specifikke værdier. I SymPy linkes Python-variabler direkte til variabler i matematik. Vi udtrykker en matematisk funktion som en transformation af Python-variablen. Når man benytter sympy.symbols() og tildeler x, peger x på et specielt SymPy-objekt (ikke en liste):"
      ]
    },
    {
      "cell_type": "code",
      "metadata": {
        "id": "Ppqan3rdvaZI"
      },
      "source": [
        "x,y = sympy.symbols('x y')"
      ],
      "execution_count": null,
      "outputs": []
    },
    {
      "cell_type": "code",
      "metadata": {
        "id": "JplqjqjHIIl9"
      },
      "source": [
        "print(type(x))"
      ],
      "execution_count": null,
      "outputs": []
    },
    {
      "cell_type": "markdown",
      "metadata": {
        "id": "d4J0eWiJIM7D"
      },
      "source": [
        "Det vi skal nu er at skrive den matematiske funktion i SymPy. Vi bruger standard Python-aritmetiske operatorer til dette:"
      ]
    },
    {
      "cell_type": "code",
      "metadata": {
        "id": "uZH6t1stIRYR"
      },
      "source": [
        "y = x**2 + 3*x"
      ],
      "execution_count": null,
      "outputs": []
    },
    {
      "cell_type": "markdown",
      "metadata": {
        "id": "u-rAk_6FIUMc"
      },
      "source": [
        "**Øvelse:**\n",
        "\n",
        "* Importer SymPy og definer x og y som SymPy-symboler.\n",
        "* Prøv at udtrykke $y = x^2 + 1$ ved at bruge '**' for at skrive $x^2$. \n",
        "* Visualiser y ved hjælp af print() funktionen. Hvad er resultatet? \n",
        "* Hvad sker der, når du kører $y = 3(x)$ i Python? "
      ]
    },
    {
      "cell_type": "code",
      "metadata": {
        "id": "caQatI0YIS22"
      },
      "source": [
        ""
      ],
      "execution_count": null,
      "outputs": []
    },
    {
      "cell_type": "markdown",
      "metadata": {
        "id": "VKExIT91I1ep"
      },
      "source": [
        "#### Del 2.4\n",
        "Når vi har defineret variablerne og den matematiske funktion i SymPy, bruger vi sympy.limit() funktionen til at beregne grænseværdien. Denne funktion tager 3 parametre:\n",
        "* Den funktion, vi søger grænseværdien til\n",
        "* Inputvariablen\n",
        "* Den værdi, som inputvariablen nærmer sig\n",
        "\n",
        "Herfra arbejder vi med nogle nye grænseproblemer for at forstå de grundlæggende ideer. Lad os sige, at vi ønskede at løse følgende definerede grænseværdi:\n",
        "\n",
        "$$\\lim_{x\\to1}x^2 + 1$$\n",
        "\n",
        "For dette problem er inputvariablen $x$ og grænsekriteriet er $\\lim{x\\to1}$. Her kan man se, hvordan dette kan udtrykkes i SymPy:"
      ]
    },
    {
      "cell_type": "code",
      "metadata": {
        "id": "-ABJkr6RKL1Y"
      },
      "source": [
        "limit_one = sympy.limit(x**2 +1, x, 1)"
      ],
      "execution_count": null,
      "outputs": []
    },
    {
      "cell_type": "code",
      "metadata": {
        "id": "IHrjKO6izeBo"
      },
      "source": [
        "limit_one"
      ],
      "execution_count": null,
      "outputs": []
    },
    {
      "cell_type": "markdown",
      "metadata": {
        "id": "sbU0QE7QKQJe"
      },
      "source": [
        "Lad os øve at bruge SymPy.\n",
        "\n",
        "**Øvelse:**\n",
        "* Brug SymPy til at bekræfte at $\\lim_{x_2\\to2.9}\\frac{f(x_2) - (-1)}{x_2 -3} = -2.9$. Du skal definere $x_2 = 2.9$ samt $f(x) = - (x^2) + 3x - 1$ før du passerer grænsefunktionen i sympy.limit(). \n",
        "* Resultatet af grænseværdiberegningen defineres som objekt **limit_one**. Visualiser ved hjælp af print() funktionen. "
      ]
    },
    {
      "cell_type": "code",
      "metadata": {
        "id": "rzJyV3c8LjoY"
      },
      "source": [
        ""
      ],
      "execution_count": null,
      "outputs": []
    },
    {
      "cell_type": "markdown",
      "metadata": {
        "id": "-ftttH8u1W_-"
      },
      "source": [
        "Vi kan skrive det også en smule mere smart ved at definere $f(x)$ som objekt først."
      ]
    },
    {
      "cell_type": "code",
      "metadata": {
        "id": "9X1Pn5wb1jJF"
      },
      "source": [
        ""
      ],
      "execution_count": null,
      "outputs": []
    },
    {
      "cell_type": "code",
      "metadata": {
        "id": "p4VXvx2k1x7F"
      },
      "source": [
        ""
      ],
      "execution_count": null,
      "outputs": []
    },
    {
      "cell_type": "markdown",
      "metadata": {
        "id": "7h1-1F07LiFe"
      },
      "source": [
        "#### del 2.5\n",
        "SymPy bregner $-2.9$ som hældningen på sekantlinjen, der matcher vores beregning ved hjælp af hældningsformlen. Før vi kan konvertere udefinerede grænseværdier til definerede grænseværdier, skal vi først forstå nogle  egenskaber ved grænseværdier. Ved hjælp af disse egenskaber kan vi omdanne udefinerede grænseværdier til definerede grænseværdier og løse dem. Her er den første egenskab:\n",
        "\n",
        "$$\\lim_{x\\to a}[f(x) + g(x)] = \\lim_{x\\to a}f(x) + \\lim_{x\\to a}g(x)$$\n",
        "\n",
        "Denne egenskab giver os mulighed for at opdele grænseværdier, der opsummeres i deres individuelle komponenter. Dette gælder også for subtraktion:\n",
        "\n",
        "\n",
        "$$\\lim_{x\\to a}[f(x) - g(x)] = \\lim_{x\\to a}f(x) - \\lim_{x\\to a}g(x)$$\n",
        "\n",
        "Vi kan anvende disse regler for at opdele følgende grænseværdi i mindre komponenter:\n",
        "\n",
        "$$\\lim_{x\\to 1}[3x^2 + 3x - 3]$$\n",
        "\n",
        "Selvom dette er en defineret grænseværdi, og vi kan løse det ved hjælp af direkte erstatning, er det et godt eksempel for at forstå, hvordan man anvender disse egenskaber. Ved at anvende den egenskab, vi lige har lært, opdeles ligningen i:\n",
        "\n",
        "$$\\lim_{x\\to 1}[3x^2] + \\lim_{x\\to 1}[3x] - \\lim_{x\\to 1}[3]$$\n",
        "\n",
        "Lad os nu indsætte $x = 1$ i hver af disse grænsetermer.\n",
        "\n",
        "$$3 + 3 - 3 = 3$$\n",
        "\n",
        "Selvom vi ikke dykker ned i beviserne for disse grænsegenskaber i denne session, kan du læse mere om dem [her](https://tutorial.math.lamar.edu/Classes/CalcI/LimitProofs.aspx#Extras_Limit_LimitProp). Lad os bruge SymPy til at bekræfte dette resultat."
      ]
    },
    {
      "cell_type": "markdown",
      "metadata": {
        "id": "_b8mbcjlQfDt"
      },
      "source": [
        "**Øvelse**\n",
        "\n",
        "* Brug SymPy til at udregne $lim_{x\\rightarrow 1}[3x^2 + 3x -3]$.\n",
        "* Tildel resultatet til **limit_two**, og visualiser ved hjælp af print() funktionen. "
      ]
    },
    {
      "cell_type": "code",
      "metadata": {
        "id": "LAhtSoElQ5cG"
      },
      "source": [
        ""
      ],
      "execution_count": null,
      "outputs": []
    },
    {
      "cell_type": "markdown",
      "metadata": {
        "id": "3Whb5pLcQ7q8"
      },
      "source": [
        "#### Del 2.6\n",
        "Den anden egenskab giver os mulighed for at opdele vilkår, der ganges med en konstant:\n",
        "\n",
        "$\\lim_{x \\to a} [cf(x)] = c \\lim_{x \\to a} f(x)$\n",
        "\n",
        "Her er grænsen fra sidste afsnit, før vi udførte direkte erstatning:\n",
        "\n",
        "$\\lim_{x \\to 1} [3x^2] + \\lim_{x \\to 1} [3x] - \\lim_{x \\to 1} [3]$\n",
        "\n",
        "Hvis vi anvender grænsegenskaben fra dette afsnit, omdannes grænsebetingelserne til: \n",
        "\n",
        "$3 \\lim_{x \\to 1} [x^2] + 3 \\lim_{x \\to 1} [x] - 3 \\lim_{x \\to 1} [1]$\n",
        "\n",
        "Hvis vi bruger direkte erstatning, får vi det samme svar som det sidste afsnit: $3 + 3 - 3 = 3$\n",
        "\n",
        "Når i bliver mere fortrolige med disse egenskaber, kan i anvende flere egenskaber på én gang og konvertere følgende grænseværdi:\n",
        "\n",
        "$\\lim_{x \\to 1} [3x^2 + 3x - 3]$\n",
        "\n",
        "Og den forenklede form:\n",
        "\n",
        "$3 \\lim_{x \\to 1} [x^2] + 3 \\lim_{x \\to 1} [x] - 3 \\lim_{x \\to 1} [1]$"
      ]
    },
    {
      "cell_type": "markdown",
      "metadata": {
        "id": "Phl6PH6OS3Gd"
      },
      "source": [
        "**Øvelse:**\n",
        "* Brug de grænseegenskaber, du lige har lært, til at løse følgende grænse: $\\lim_{x \\to -1} [x^3 + 2x^2 - 10x]$.\n",
        "* Beregn det  først manuelt og derefter ved hjælp af SymPy.\n",
        "* Gem resultatet som **limit_three** og visualiser ved hjælp af print()."
      ]
    },
    {
      "cell_type": "code",
      "metadata": {
        "id": "kkMck1x7TmdV"
      },
      "source": [
        ""
      ],
      "execution_count": null,
      "outputs": []
    },
    {
      "cell_type": "code",
      "metadata": {
        "id": "RH2JjNMi44fy"
      },
      "source": [
        ""
      ],
      "execution_count": null,
      "outputs": []
    },
    {
      "cell_type": "markdown",
      "metadata": {
        "id": "bdvlZ_NiTp1W"
      },
      "source": [
        "#### Del 2.7\n",
        "For at afslutte denne session, kan vi konvertere den oprindelige udefinerede grænseværdi, der beregnede hældningen ved $x = 3$, til en defineret grænse:\n",
        "\n",
        "$$\\lim_{x_2 \\to 3} \\frac{f(x_2) + 1}{x_2 - 3} =$$\n",
        "\n",
        "Fordi $f(x) = -(x^2) + 3x - 1$, kan vi udvide $f(x_2)$.\n",
        "\n",
        "$$\\lim_{x_2 \\to 3} \\frac{-x_2^2+3x_2 -1 + 1}{x_2 - 3}$$\n",
        "\n",
        "Dette kan reduceres til: \n",
        "\n",
        "$$\\lim_{x_2 \\to 3} \\frac{-x_2^2+3x_2 }{x_2 - 3}$$\n",
        "\n",
        "Vi kan stadig ikke indsætte direkte for at løse denne grænse på grund af nævneren. Vi skal finde en tilgang til at annullere nævneren eller konvertere den til en form, der giver os mulighed at indsætte $3$ for $x_2$. Hvis sætter $x_2$ udenfor parentes (faktoriserer) i tælleren, kan vi se noget interessant: \n",
        "\n",
        "$$\\lim_{x_2 \\to 3} \\frac{x_2(-x_2 + 3) }{x_2 - 3}$$\n",
        "\n",
        "Hvis vi også faktoriserer $-1$, kan vi annullere $x_2 -3$ fra nævneren med den samme term i tælleren: \n",
        "\n",
        "$$\\lim_{x_2 \\to 3} \\frac{-x_2(x_2 - 3) }{x_2 - 3}$$\n",
        "\n",
        "Dette kan omskrives til:\n",
        "\n",
        "$$\\lim_{x_2 \\to 3} -x_2$$\n",
        "\n",
        "Nu kan vi indsætte direkte hvilket giver os $-3$. I dette tilfælde behøvede vi ikke at bruge egenskaberne af grænser, som vi kiggede på tidligere. I den næste del ser vi på hvordan vi kan udlede den generelle funktion, der giver os hældningen til enhver tid på kurven, og der bliver nødt til at bruge disse egenskaber. Lad os for nu tjekke hvad vi lige har set på \"i hånden\" ved hjælp af SymPy.\n"
      ]
    },
    {
      "cell_type": "markdown",
      "metadata": {
        "id": "oxLxt-6ZGRI8"
      },
      "source": [
        "**Øvelse**\n",
        "\n",
        "- Brug SymPy til at finde $\\lim_{x_2 \\to 3} \\frac{f(x_2) + 1}{x_2 - 3}$\n",
        "- Gem løsningen som **limit_four**"
      ]
    },
    {
      "cell_type": "code",
      "metadata": {
        "id": "3blNJwwfWy92"
      },
      "source": [
        ""
      ],
      "execution_count": null,
      "outputs": []
    },
    {
      "cell_type": "markdown",
      "metadata": {
        "id": "Hk1Fnv5lW65O"
      },
      "source": [
        "I denne session lærte vi, hvordan man beregner hældningen af tangentlinjen på et bestemt punkt ved hjælp af grænseværdier. I den næste session lærer vi om afledningen, som er en funktion, der beskriver, hvordan hældningen varierer på forskellige punkter i vores udgangsfunktion."
      ]
    },
    {
      "cell_type": "markdown",
      "metadata": {
        "id": "6IGb8cX7J1k3"
      },
      "source": [
        "# Øvelser\n",
        "fra (https://tutorial.math.lamar.edu/Problems/CalcI/ComputingLimits.aspx)\n",
        "\n",
        "Beregn grænseværdier (hvis de findes) \"i hånden\". Brug SymPy limit kun til at tjekke, om beregningen er korrekte. Man må dog gerne bruge andre SymPy funktioner her for at omskrive og reducere."
      ]
    },
    {
      "cell_type": "markdown",
      "metadata": {
        "id": "I4C7HV-PLzQv"
      },
      "source": [
        "$\\mathop {\\lim }\\limits_{x \\to 2} \\left( {8 - 3x + 12{x^2}} \\right)$"
      ]
    },
    {
      "cell_type": "code",
      "metadata": {
        "id": "zgysV2l9Kbe4"
      },
      "source": [
        ""
      ],
      "execution_count": null,
      "outputs": []
    },
    {
      "cell_type": "code",
      "metadata": {
        "id": "9iIzhKm7LiR0"
      },
      "source": [
        ""
      ],
      "execution_count": null,
      "outputs": []
    },
    {
      "cell_type": "code",
      "metadata": {
        "id": "L9qWWJJMLrXz"
      },
      "source": [
        ""
      ],
      "execution_count": null,
      "outputs": []
    },
    {
      "cell_type": "markdown",
      "metadata": {
        "id": "RYOdNaEBL3Us"
      },
      "source": [
        "$\\displaystyle \\mathop {\\lim }\\limits_{x \\to \\, - 5} \\frac{{{x^2} - 25}}{{{x^2} + 2x - 15}}$"
      ]
    },
    {
      "cell_type": "code",
      "metadata": {
        "id": "MjHNOqiZMQtE"
      },
      "source": [
        ""
      ],
      "execution_count": null,
      "outputs": []
    },
    {
      "cell_type": "code",
      "metadata": {
        "id": "TgeVft29Mlho"
      },
      "source": [
        ""
      ],
      "execution_count": null,
      "outputs": []
    },
    {
      "cell_type": "code",
      "metadata": {
        "id": "7Dy4Dkt8N24K"
      },
      "source": [
        ""
      ],
      "execution_count": null,
      "outputs": []
    },
    {
      "cell_type": "code",
      "metadata": {
        "id": "cp8k2EFBMgC4"
      },
      "source": [
        ""
      ],
      "execution_count": null,
      "outputs": []
    },
    {
      "cell_type": "code",
      "metadata": {
        "id": "zhp2Z4cON4oX"
      },
      "source": [
        ""
      ],
      "execution_count": null,
      "outputs": []
    },
    {
      "cell_type": "markdown",
      "metadata": {
        "id": "bnEs-Av7Nvhv"
      },
      "source": [
        "$\\mathop {\\lim }\\limits_{x \\to \\, - 5} \\frac{{{x^2} - 25}}{{{x^2} + 2x - 15}} = \\mathop {\\lim }\\limits_{x \\to \\, - 5} \\frac{{\\left( {x - 5} \\right)\\left( {x + 5} \\right)}}{{\\left( {x - 3} \\right)\\left( {x + 5} \\right)}} = \\mathop {\\lim }\\limits_{x \\to \\, - 5} \\frac{{x - 5}}{{x - 3}} = \\require{bbox} \\bbox[2pt,border:1px solid black]{{\\frac{5}{4}}}$"
      ]
    },
    {
      "cell_type": "markdown",
      "metadata": {
        "id": "v9rRcC1sOF4r"
      },
      "source": [
        "$\\displaystyle \\mathop {\\lim }\\limits_{x \\to 0} \\frac{x}{{3 - \\sqrt {x + 9} }}$"
      ]
    },
    {
      "cell_type": "code",
      "metadata": {
        "id": "6tAdxScZOXds"
      },
      "source": [
        ""
      ],
      "execution_count": null,
      "outputs": []
    },
    {
      "cell_type": "code",
      "metadata": {
        "id": "yJGxawIjOexI"
      },
      "source": [
        ""
      ],
      "execution_count": null,
      "outputs": []
    },
    {
      "cell_type": "markdown",
      "metadata": {
        "id": "3Pm93wcaW4X9"
      },
      "source": [
        "#### Del 2.x - Opsummering\n",
        "##### Syntaks\n",
        "\n",
        "* Importer SymPy og udnævn variablene til symboler"
      ]
    },
    {
      "cell_type": "code",
      "metadata": {
        "id": "0AGTikIpXIhX"
      },
      "source": [
        "import sympy\n",
        "x,y = sympy.symbols('x y')"
      ],
      "execution_count": null,
      "outputs": []
    },
    {
      "cell_type": "markdown",
      "metadata": {
        "id": "0mX1Ak7mXc5d"
      },
      "source": [
        "* Brug SymPy til at udregne en grænse"
      ]
    },
    {
      "cell_type": "code",
      "metadata": {
        "id": "IlTAhBuIXhEU"
      },
      "source": [
        "limit_one = sympy.limit(x**2 +1, x, 1)"
      ],
      "execution_count": null,
      "outputs": []
    },
    {
      "cell_type": "markdown",
      "metadata": {
        "id": "ayQ5HgtIXjI2"
      },
      "source": [
        "##### Koncepter\n",
        "* En grænseværdi beskriver værdien, som en funktion nærmer sig, når inputvariablen til funktionen\n",
        "nærmer sig en bestemt værdi. En funktion på et bestemt punkt kan have en grænseværdi, selvom punktet er udefineret.\n",
        "* Den følgende matematiske notation formaliserer påstanden \"Når $x_2$ nærmer sig $3$, nærmer hældningen mellem $x_1$ og $x_2$ sig $-3$, ved brug af en grænse: $\\lim_{x2\\to3}\\frac{f(x_2)-f(x_1)}{x_2 - x_1} = -3$\n",
        "* En defineret grænseværdi kan evalueres ved at erstatte værdien ved grænsen. Når den resulterende værdi ved en grænse defineres til den værdi, inputvariablen nærmer sig, siger man, at grænseværdien er defineret.\n",
        "* SymPy-pakken har en række funktioner, der lader os beregne grænseværdier. Når du bruger SymPy, er det det vigtigt at erklære de Python-variabler, du vil bruge som symboler, da Sympy kortlægger Python variabler direkte til variabler i matematik, når du sender dem gennem sympy.symbols().\n",
        "* Sympy.limit() funktionen modtager tre parametre: \n",
        "  * Den funktion, vi tager grænseværdien for\n",
        "  * Inputvariablen\n",
        "  * Den værdi inputvariablen nærmer sig\n",
        "* Egenskaber for grænseværdier:\n",
        "  * Summeringsregel: $\\lim_{x\\to a}[f(x) + g(x)] = \\lim_{x\\to a}f(x) + \\lim_{x\\to a}g(x)$\n",
        "  * Fratrækningsregel: $\\lim_{x\\to a}[f(x) - g(x)] = \\lim_{x\\to a}f(x) - \\lim_{x\\to a}g(x)$\n",
        "  * Konstant funktionsregel: $\\\\lim_{x \\to a} [cf(x)] = c \\lim_{x \\to a} f(x)$\n",
        "\n",
        "\n"
      ]
    }
  ]
}