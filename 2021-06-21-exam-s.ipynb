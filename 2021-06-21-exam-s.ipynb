{
  "nbformat": 4,
  "nbformat_minor": 0,
  "metadata": {
    "colab": {
      "name": "Eksamen AM 21 - s.ipynb",
      "provenance": [],
      "collapsed_sections": [],
      "authorship_tag": "ABX9TyPm9vAl7ZDGN+Oig/Vtt8e6",
      "include_colab_link": true
    },
    "kernelspec": {
      "name": "python3",
      "display_name": "Python 3"
    },
    "language_info": {
      "name": "python"
    }
  },
  "cells": [
    {
      "cell_type": "markdown",
      "metadata": {
        "id": "view-in-github",
        "colab_type": "text"
      },
      "source": [
        "<a href=\"https://colab.research.google.com/github/RJuro/am-21/blob/main/2021-06-21-exam-s.ipynb\" target=\"_parent\"><img src=\"https://colab.research.google.com/assets/colab-badge.svg\" alt=\"Open In Colab\"/></a>"
      ]
    },
    {
      "cell_type": "markdown",
      "metadata": {
        "id": "jQQcFjWO_OPx"
      },
      "source": [
        "# Eksamen: Anvendt Matematik\n",
        "\n",
        "Opgaven har 2 dele. Lineær algebra og calculus.\n",
        "\n",
        "\n",
        "#### Rules of the game:\n",
        "\n",
        "- Don't panic! - Hvis koden ikke virker (men virkede før). Gå tilbage, og kør oppefra ned. Også en god ide at tjekke, at koden er fejlfri ved at gøre denne øvelse undervejs.\n",
        "- De fleste kodefejl er dumme stavefejl. Vær omhyggelig med kommaer, punkter etc.\n",
        "- Hvis der er noget, som slet ikke kan løses, så kan du bare kommentere ud med `#`\n",
        "- Brug objektnavne, der blev defineret i opgaven\n",
        "- Der afleveres som 👉 `ipynb` (**ikke PDF!**)"
      ]
    },
    {
      "cell_type": "code",
      "metadata": {
        "id": "80zZyD9i0QF7"
      },
      "source": [
        "# importer pakker\n",
        "from sympy import *\n",
        "import numpy as np\n",
        "np.set_printoptions(suppress=True)\n",
        "from scipy import linalg\n",
        "import matplotlib.pyplot as plt\n"
      ],
      "execution_count": null,
      "outputs": []
    },
    {
      "cell_type": "markdown",
      "metadata": {
        "id": "7J2qIFxT_YNO"
      },
      "source": [
        "## Del 1: Lineær Algebra - Ninja Grind\n",
        "\n",
        "![](https://source.unsplash.com/X4RJG4aNi8o)\n",
        "\n",
        "Den lokale manager for kaffekæden \"Ninja Grind\" vil gerne finde ud af hvor mange glas/krus Latte og Luksus-Cappuccino der skal produceres hver dag givet de standard-leveringer af mælk og espressobønner, som kan garanteres pt.\n",
        "\n",
        "Der er ansat en fultids-barista (8 timer/dag).\n",
        "Der kan bruges 12 liter mælk og 2.5 liter espresso om dagen.\n",
        "\n",
        "\n",
        "#### Fordeling af inputs:\n",
        "\n",
        "1.   Espresso:\n",
        "    *  36 ml / latte\n",
        "    *  72 ml / luksus cappuccino\n",
        "2.   Mælk:\n",
        "    *  244 ml / latte\n",
        "    *  278 ml / luksus cappuccino\n",
        "3.   Barista arbejde:\n",
        "    *  0.08 timer / latte\n",
        "    *  0.12 timer / luksus cappuccino\n",
        "\n"
      ]
    },
    {
      "cell_type": "code",
      "metadata": {
        "id": "ty6GAl7N0gy4"
      },
      "source": [
        "# 1.1\n",
        "# Opstil ligninger, som beskriver vores optimeringsproblem i SymPy\n",
        "# Brug symboler l (latte) og c (cappuccino)\n",
        "\n",
        "# definer symboler\n",
        "l, c = \n",
        "\n",
        "# definer ligninger\n",
        "eq1 = Eq(..., ...) #Espresso\n",
        "eq2 = ... #Mælk \n",
        "eq3 = ... #Arbejdstimer"
      ],
      "execution_count": null,
      "outputs": []
    },
    {
      "cell_type": "code",
      "metadata": {
        "id": "kRjg1QG9156Y"
      },
      "source": [
        "# print de 3 ligninger (1 cell / ligning)\n",
        "eq1"
      ],
      "execution_count": null,
      "outputs": []
    },
    {
      "cell_type": "code",
      "metadata": {
        "id": "sfpEewni19uH"
      },
      "source": [
        "eq2"
      ],
      "execution_count": null,
      "outputs": []
    },
    {
      "cell_type": "code",
      "metadata": {
        "id": "Yy-x9UH11-N1"
      },
      "source": [
        "eq3"
      ],
      "execution_count": null,
      "outputs": []
    },
    {
      "cell_type": "code",
      "metadata": {
        "id": "8qztas80wqD_"
      },
      "source": [
        "# 1.2.1 - Grafisk løsning\n",
        "# plot de 3 funktioner med Latta på x-aksen og Cappuccino på y-aksen\n",
        "\n",
        "# Brug np.linspace til at generere 100 værdier mellem 0 og 100 som l_plot\n",
        "\n",
        "l_plot = ...\n",
        "\n",
        "# obskriv ligninger til at beregne c-værdier(c_plot_1, c_plot_2, c_plot_3)\n",
        "c_plot_1=...\n",
        "c_plot_2=...\n",
        "c_plot_3=..."
      ],
      "execution_count": null,
      "outputs": []
    },
    {
      "cell_type": "code",
      "metadata": {
        "id": "QNh-qMq01_3g"
      },
      "source": [
        "# 1.2.2\n",
        "# Plot, Espresso (red), Mælk (gold), Arbejde (blue)\n",
        "plt.axis([0, 110, 0, 80])\n",
        "plt.xlabel('Latte')\n",
        "plt.ylabel('Luksus Cappuccino')\n",
        "\n",
        "..."
      ],
      "execution_count": null,
      "outputs": []
    },
    {
      "cell_type": "markdown",
      "metadata": {
        "id": "fZpjcfmi_IOk"
      },
      "source": [
        "Hvor mange Latte / Cappuccino skal der produceres ved optimal udnyttelse af ingredienser (ikke præcise tal)? (1 svar)\n",
        "\n",
        "\n",
        "1.   30 latte / 19 cappuccino\n",
        "2.   ~23 af hver\n",
        "3.   50 latte / 30 cappuccino\n",
        "\n"
      ]
    },
    {
      "cell_type": "code",
      "metadata": {
        "id": "5e5HCNGcAjE3"
      },
      "source": [
        "# 1.2.3\n",
        "# Skriv dit svar som tal her f.eks s1 = 5\n",
        "s1 = "
      ],
      "execution_count": null,
      "outputs": []
    },
    {
      "cell_type": "markdown",
      "metadata": {
        "id": "dp2HZYXsBJ0z"
      },
      "source": [
        "Hvad kan man sige om arbejdstimernes \"rolle\" i denne kontekst - dvs. ikke teoretisk men givet vores espresso og mælke forsyning? (1 svar)\n",
        "\n",
        "1.   Hvis der var flere arbejdstimer, kunne der produceres mere.\n",
        "2.   Vores barista kan lave omkring 100 latte og næsten 70 cappuccino om dagen.\n",
        "3.   Baristaen har mere end nok tid til at producere den optimale mængde af latte og cappuccino givet de ingredienser som der er til rådighed.\n"
      ]
    },
    {
      "cell_type": "code",
      "metadata": {
        "id": "zjWLIjLyK8Gg"
      },
      "source": [
        "# 1.2.4\n",
        "# Skriv dit svar som tal her\n",
        "s2 = "
      ],
      "execution_count": null,
      "outputs": []
    },
    {
      "cell_type": "markdown",
      "metadata": {
        "id": "gx1Gh7NMHOWB"
      },
      "source": [
        "#### Rækkeoperationer\n",
        "I denne opgave skal du bruge rækkeoperationer til at finde løsningen.\n",
        "\n",
        "1.   Du skal først definere en augmenteret matrix som np.array der repræsenterer de første 2 ligninger (mælk og espresso). \n",
        "2.   Derefter skal du bruge rækkeoperationer (kode!!!) for at omskrive til reduceret trappeform (reduceret række-echelon form).\n",
        "\n",
        "f.eks.: `augmented[0] = augmented[0]/augmented[0,0]`\n",
        "\n",
        "Til sidst har din matrix denne form: \n",
        "\n",
        "$$\\left[\\begin{array}{rr|r}\n",
        "1 & 0 & ? \\\\ \n",
        "0 & 1 & ?\n",
        "\\end{array}\\right]$$\n",
        "\n",
        "3. Her vil du kunne aflæse resultatet i søjlevektoren på højre sidde.\n",
        "\n"
      ]
    },
    {
      "cell_type": "code",
      "metadata": {
        "id": "d8soqF7655p_"
      },
      "source": [
        "# 1.3.1\n",
        "\n",
        "## definer augmenteret matrix\n",
        "\n",
        "augmented = "
      ],
      "execution_count": null,
      "outputs": []
    },
    {
      "cell_type": "code",
      "metadata": {
        "id": "JDZlI-py6RFw"
      },
      "source": [
        "# 1.3.2\n",
        "\n",
        "# Brug rækkeoperationer (så mange som du har brug for) for at omskrive til reduceret trappeform\n",
        "# Her er den første operation, som du kan bruge\n",
        "augmented[0] = augmented[0]/augmented[0,0]"
      ],
      "execution_count": null,
      "outputs": []
    },
    {
      "cell_type": "code",
      "metadata": {
        "id": "d1duAVS2L3-2"
      },
      "source": [
        "# OBS: Det er en god ide at tjekke din matrix undervejs - du kan tilføje en celle, vise matrix \n",
        "# (bare skriv \"augmented\" og udfør og slette igen...)\n",
        "\n",
        "augmented"
      ],
      "execution_count": null,
      "outputs": []
    },
    {
      "cell_type": "code",
      "metadata": {
        "id": "BoNM9c9H6Z9h"
      },
      "source": [
        ""
      ],
      "execution_count": null,
      "outputs": []
    },
    {
      "cell_type": "code",
      "metadata": {
        "id": "WXmbfbj06jBz"
      },
      "source": [
        ""
      ],
      "execution_count": null,
      "outputs": []
    },
    {
      "cell_type": "code",
      "metadata": {
        "id": "xi7Yo7bo6sfe"
      },
      "source": [
        ""
      ],
      "execution_count": null,
      "outputs": []
    },
    {
      "cell_type": "code",
      "metadata": {
        "id": "BkcRm_WP68DM"
      },
      "source": [
        "# print den færdige matrix i reduceret række-echelon form\n",
        "augmented"
      ],
      "execution_count": null,
      "outputs": []
    },
    {
      "cell_type": "markdown",
      "metadata": {
        "id": "sLbnjK-vMs5M"
      },
      "source": [
        "#### Løsning af matrixligningen\n",
        "\n",
        "Vi kan finde en løsning til vores ligningssystem ved at løse matrixligningen $A\\vec{x} = \\vec{b}$\n",
        "Opgaven er mere frit og du skal vise, at du selv kan udføre alle trin.\n",
        "Du skal finde løsningen \"manuelt\" dvs. ikke ved at bruge `scipy.linalg.solve` eller sympy. Du må dog gerne bruge det for at tjekke, om dine beregninger passer...\n",
        "\n",
        "\n",
        "Du skal bruge følgende python objekter:\n",
        "\n",
        "\n",
        "*   $A$: `matrix_a`\n",
        "*   $A^{-1}$: `matrix_a_inv`\n",
        "*   $\\vec{b}$: `vector_b`\n",
        "* $\\vec{x}$: `vector_x`\n",
        "\n"
      ]
    },
    {
      "cell_type": "code",
      "metadata": {
        "id": "FMy2Vq2yHEbv"
      },
      "source": [
        "# 1.4.1\n",
        "\n",
        "# definer matrix A\n",
        "matrix_a = \n",
        "\n",
        "# definer vector b\n",
        "vector_b = "
      ],
      "execution_count": null,
      "outputs": []
    },
    {
      "cell_type": "code",
      "metadata": {
        "id": "PlOHS8sW3EiO"
      },
      "source": [
        "# beregn A^-1\n",
        "matrix_a_inv = "
      ],
      "execution_count": null,
      "outputs": []
    },
    {
      "cell_type": "code",
      "metadata": {
        "id": "8xjJFgrm9QR7"
      },
      "source": [
        "# 1.4.2\n",
        "# beregn vector_x\n",
        "vector_x = \n",
        "print(vector_x)"
      ],
      "execution_count": null,
      "outputs": []
    },
    {
      "cell_type": "code",
      "metadata": {
        "id": "Lw1wR4qO3cbi"
      },
      "source": [
        "# 1.5: Beregn de daglige indtægter ved optimal produktion\n",
        "# husk at runde ned\n",
        "\n",
        "qLatte =\n",
        "qCappuccino =\n",
        "\n",
        "result = \n",
        "\n",
        "print(\"vores indtægter per dag ved optimal produktion er DKK\", result)"
      ],
      "execution_count": null,
      "outputs": []
    },
    {
      "cell_type": "code",
      "metadata": {
        "id": "m7-CybsX9st-"
      },
      "source": [
        "# 1.6: Beregn hvor meget tid baristaen bruger på at lave \n",
        "# Latte og Luksus Cappuccino ved optimal produktion\n",
        "# husk at runde ned\n",
        "\n",
        "time = \n",
        "print(time)"
      ],
      "execution_count": null,
      "outputs": []
    },
    {
      "cell_type": "markdown",
      "metadata": {
        "id": "HmosrHaURv3o"
      },
      "source": [
        "## Indsutri og profitmaksimering\n",
        "\n",
        "![](https://source.unsplash.com/SLIFI67jv5k)"
      ]
    },
    {
      "cell_type": "markdown",
      "metadata": {
        "id": "g6Nc5aTCTxtT"
      },
      "source": [
        "En mindre Nordjysk virksomhed producerer komponenter til landbrugsmaskiner og vil gerne se, om de muligvis skal justere deres daglige produktionskapacitet. \n",
        "$q$ er mængden af disse komponenter, $p$ en angivet i kr. pr. enhed.\n",
        "\n",
        "* Deres omkostningsfunktion er:\n",
        "$C(q) = 3000-22q+0.06q^{2}+0.00005q^{3}$\n",
        "* Efterspørgslen er givet som:\n",
        "$p(q) = 230+0.015q-0.0009q^{2}$ dvs. prisen er ikke konstant men ændrer sig (lidt) med ændringer af $q$\n"
      ]
    },
    {
      "cell_type": "code",
      "metadata": {
        "id": "4uirDHb0XGoi"
      },
      "source": [
        "# 2.1 Definer symboler p, q og h\n",
        "\n",
        "p, q, h = symbols('p, q, h')"
      ],
      "execution_count": null,
      "outputs": []
    },
    {
      "cell_type": "code",
      "metadata": {
        "id": "nKYXu2Y0nsZl"
      },
      "source": [
        "# opstil ligninger for omkostinger og efterspørgsel\n",
        "\n",
        "C_q = \n",
        "p_q = "
      ],
      "execution_count": null,
      "outputs": []
    },
    {
      "cell_type": "code",
      "metadata": {
        "id": "hI-HO_RRnsZl"
      },
      "source": [
        "# print\n",
        "C_q"
      ],
      "execution_count": null,
      "outputs": []
    },
    {
      "cell_type": "code",
      "metadata": {
        "id": "rSe_2Ir3nsZm"
      },
      "source": [
        "p_q"
      ],
      "execution_count": null,
      "outputs": []
    },
    {
      "cell_type": "code",
      "metadata": {
        "id": "_Wca9rKbYn-6"
      },
      "source": [
        "# 2.2 plot C(q)\n",
        "# definer 200 punkter mellem 0 og 500 med np.linspace i objektet q_plot\n",
        "\n",
        "q_plot = \n",
        "\n",
        "# beregn tilsvarende p-værdier og plot\n",
        "\n",
        "p_plot_1 = \n",
        "\n",
        "plt.xlabel('Mængde (q)')\n",
        "plt.ylabel('Kr.')\n",
        "\n",
        "plt.plot(..., ..., color = \"red\")"
      ],
      "execution_count": null,
      "outputs": []
    },
    {
      "cell_type": "markdown",
      "metadata": {
        "id": "_JhiXa1nmg9S"
      },
      "source": [
        "#### 2.3 Beregn minimum for $C(q)$\n",
        "\n",
        "* beregning skal foretages \"manuelt\" hvor du først skal finde $C'(q)$ ved at beregne $\\lim_{h \\to 0} \\frac{f(x + h) - f(x)}{h}$, hvor $C(q)$ indsættes for $f(x)$ dvs. $\\lim_{h \\to 0} \\frac{C(q + h) - C(q)}{h}$\n",
        "*$h$ blev allerede oprettet som Sympy sybol"
      ]
    },
    {
      "cell_type": "code",
      "metadata": {
        "id": "bDFi2pk6oKfH"
      },
      "source": [
        "# 2.3.1\n",
        "# definer C(q+h)\n",
        "C_q_h = ..."
      ],
      "execution_count": null,
      "outputs": []
    },
    {
      "cell_type": "code",
      "metadata": {
        "id": "rBoQfrr1o3yK"
      },
      "source": [
        "# 2.3.2\n",
        "# beregn grænseværdi\n",
        "\n",
        "C_lim = limit(...)"
      ],
      "execution_count": null,
      "outputs": []
    },
    {
      "cell_type": "code",
      "metadata": {
        "id": "w1f4PEBcpNfg"
      },
      "source": [
        "# du kan tjekke, om grænseværdien er lige \n",
        "C_lim"
      ],
      "execution_count": null,
      "outputs": []
    },
    {
      "cell_type": "code",
      "metadata": {
        "id": "F4GPwN1tpVTy"
      },
      "source": [
        "# med den (automatisk) afledede funktion (sympy diff) for at være sikker...\n",
        "diff(C_q)"
      ],
      "execution_count": null,
      "outputs": []
    },
    {
      "cell_type": "code",
      "metadata": {
        "id": "ijqZppANoKfH"
      },
      "source": [
        "# 2.3.3\n",
        "# brug Sympy solve til a finde q, hvor C minimeres\n",
        "solutions = solve(...)\n",
        "print(solutions)"
      ],
      "execution_count": null,
      "outputs": []
    },
    {
      "cell_type": "markdown",
      "metadata": {
        "id": "tr4PCWG0qmvK"
      },
      "source": [
        "#### 2.4 Profitmaksimering\n",
        "\n",
        "Derudover ved vi (f.eks. fra mikroøkonomi):\n",
        "\n",
        "* Indtægter: $R(q) = p(q) · q$\n",
        "* Profit: $P(q) = R(q) - C(q)$\n",
        "\n",
        "* Marginalomkostninger $MC = C'(q)$ (omkostninger ved at producere +1 enhed)\n",
        "* Marginalindtægter $MR = R'(q)$ (indtægter ved at sælge +1 enhed)\n",
        "* Marginalprofit $MP = P'(q)$ (profit ved at sælge +1 enhed - de omkostninger  forbundet med produktion af +1 enhed)"
      ]
    },
    {
      "cell_type": "code",
      "metadata": {
        "id": "I7aaEvU7q89C"
      },
      "source": [
        "# 2.4.1\n",
        "# Definer funktiner for indtægter R(q) og profit P(q)\n",
        "\n",
        "R_q = ...\n",
        "P_q = ...\n",
        "\n",
        "print(expand(R_q)) # her hjælper expand med læsbarheden...\n",
        "print(expand(P_q)) # her hjælper expand med læsbarheden..."
      ],
      "execution_count": null,
      "outputs": []
    },
    {
      "cell_type": "code",
      "metadata": {
        "id": "ZXNE3AxttA7S"
      },
      "source": [
        "# 2.4.2\n",
        "# Definer (ved at differentere) MC, MR og MP (brug sympy til det.)\n",
        "\n",
        "MC = ...\n",
        "MR = ...\n",
        "MP = ...\n",
        "\n",
        "# du kan printe disse ligninger og og copy-paste dem i den næste opgave (husk at erstætte q med q_plot)\n",
        "print(MC)\n",
        "print(expand(MR)) # her hjælper expand med læsbarheden...\n",
        "print(expand(MP)) # her hjælper expand med læsbarheden..."
      ],
      "execution_count": null,
      "outputs": []
    },
    {
      "cell_type": "markdown",
      "metadata": {
        "id": "S6p6Uzrx0ZSF"
      },
      "source": [
        "Vi antager, vores virksomhed har monopol på disse komponenter og dermed kan der profitmaksimeres ved at sætte $MC = MR$\n",
        "\n",
        "Vis, at mængden $q$ ved $MC = MR$ er den samme som den, hvor profit $P$ maksimeres, dvs. $MP = 0$"
      ]
    },
    {
      "cell_type": "code",
      "metadata": {
        "id": "DPKAp_OWtP8D"
      },
      "source": [
        "# 2.4.3\n",
        "# Plot MC (red) og MR (gold)\n",
        "# du kan genbruge q_plot værdier fra sidste plot\n",
        "\n",
        "plt.xlabel('Mængde (q)')\n",
        "plt.ylabel('Kr.')\n",
        "\n",
        "#beregn p_værdier\n",
        "p_plot_2 = ...\n",
        "p_plot_3 = ...\n",
        "\n",
        "\n",
        "plt.plot(...) # MC\n",
        "plt.plot(...) # MR"
      ],
      "execution_count": null,
      "outputs": []
    },
    {
      "cell_type": "code",
      "metadata": {
        "id": "bkyO6cit13ez"
      },
      "source": [
        "# 2.4.4\n",
        "# Definer MC = p og MR = p som Sympy ligninger\n",
        "# p er allerede defineret som symbol (tidligere)\n",
        "\n",
        "MC_eq = Eq(...,...)\n",
        "MR_eq = ..."
      ],
      "execution_count": null,
      "outputs": []
    },
    {
      "cell_type": "code",
      "metadata": {
        "id": "Wgsl3r4W2b8Q"
      },
      "source": [
        "# brug sympy solve til at finde løsninger for MC = MR\n",
        "solve([...,...])"
      ],
      "execution_count": null,
      "outputs": []
    },
    {
      "cell_type": "code",
      "metadata": {
        "id": "qA0BLWHA232e"
      },
      "source": [
        "q_monopoly = ... # copy-paste den realistiske q-værdi"
      ],
      "execution_count": null,
      "outputs": []
    },
    {
      "cell_type": "code",
      "metadata": {
        "id": "ivhAulVi3Aq0"
      },
      "source": [
        "# 2.4.5\n",
        "# beregn max-værdien for profit-funktionen\n",
        "\n",
        "solve(...)"
      ],
      "execution_count": null,
      "outputs": []
    }
  ]
}