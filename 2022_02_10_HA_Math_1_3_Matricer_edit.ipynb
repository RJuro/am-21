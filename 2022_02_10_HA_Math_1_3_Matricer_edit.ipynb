{
  "nbformat": 4,
  "nbformat_minor": 0,
  "metadata": {
    "colab": {
      "name": "Math_1.3_Matricer",
      "provenance": [],
      "collapsed_sections": [],
      "include_colab_link": true
    },
    "kernelspec": {
      "name": "python3",
      "display_name": "Python 3"
    },
    "language_info": {
      "name": "python"
    }
  },
  "cells": [
    {
      "cell_type": "markdown",
      "metadata": {
        "id": "view-in-github",
        "colab_type": "text"
      },
      "source": [
        "<a href=\"https://colab.research.google.com/github/RJuro/am-21/blob/main/2022_02_10_HA_Math_1_3_Matricer_edit.ipynb\" target=\"_parent\"><img src=\"https://colab.research.google.com/assets/colab-badge.svg\" alt=\"Open In Colab\"/></a>"
      ]
    },
    {
      "cell_type": "markdown",
      "metadata": {
        "id": "GL7O_EIFCoEy"
      },
      "source": [
        "### Session 3 - Matricer\n",
        "\n",
        "Ligesom vektorer har matricer deres eget sæt af algebraiske operationer. I denne del vil vi lære om de mest centrale matrixoperationer og bygge op mod at bruge nogle af dem til at løse matrixligninger. "
      ]
    },
    {
      "cell_type": "markdown",
      "metadata": {
        "id": "VKF2Xm18B_5p"
      },
      "source": [
        "#### Del 3.1\n",
        "Lad os først starte med matrixaddition og subtraktion.\n",
        "\n",
        "Hvis du husker fra sidste del om vektorer, består en matrix af en eller flere søjlevektorer.\n"
      ]
    },
    {
      "cell_type": "markdown",
      "metadata": {
        "id": "t_rvslUKOWn8"
      },
      "source": [
        "Matrix: \n",
        "$$\n",
        "\\left[\n",
        "  \\begin{matrix}\n",
        "    0.5 & 2 & 3 \\\\\n",
        "    1.4 & 4 & 4 \\\\\n",
        "    0.3 & 7 & 1 \\\\\n",
        "  \\end{matrix}\n",
        "\\right]\n",
        "$$\n",
        "\n",
        "$$\n",
        "\\swarrow\n",
        "\\downarrow\n",
        "\\searrow\n",
        "$$ \n",
        "\n",
        "Søjlevektorer:\n",
        "\n",
        "$$\n",
        "\\left[ \\begin{array}{cc}\n",
        "0.5 \\\\\n",
        "1.4 \\\\\n",
        "0.3\n",
        "\\end{array} \\right]\n",
        "%\n",
        "\\left[ \\begin{array}{cc}\n",
        "2 \\\\\n",
        "4 \\\\\n",
        "7\n",
        "\\end{array} \\right]\n",
        "%\n",
        "\\left[ \\begin{array}{cc}\n",
        "3 \\\\\n",
        "4 \\\\\n",
        "1\n",
        "\\end{array} \\right]\n",
        "$$"
      ]
    },
    {
      "cell_type": "markdown",
      "metadata": {
        "id": "RF9V27faCoG7"
      },
      "source": [
        "På grund af dette kan vi overføre operationerne fra vektorer også til matricer. Vi kan\n",
        "udføre vektoraddition og subtraktion mellem vektorer med det samme antal rækker.\n",
        "Vi kan kun udføre matrixaddition og subtraktion mellem matricer, der indeholder det samme antal rækker og kolonner. `M1.shape == M2.shape`\n",
        "\n"
      ]
    },
    {
      "cell_type": "markdown",
      "metadata": {
        "id": "bpv7wCNf8t5a"
      },
      "source": [
        "Valid summering:\n",
        "$$\n",
        "  \\begin{bmatrix}\n",
        "    0.5 & 2 \\\\\n",
        "    1.4 & 4 \\\\\n",
        "  \\end{bmatrix}\n",
        "+\n",
        "  \\begin{bmatrix}\n",
        "    4 & 4 \\\\\n",
        "    7 & 1 \\\\\n",
        "  \\end{bmatrix}\n",
        " %\n",
        " \\hspace{1cm}\n",
        "  \\begin{bmatrix}\n",
        "    0.5 & 2 \\\\\n",
        "    7 & 1.7 \\\\\n",
        "    2 & 5\n",
        "  \\end{bmatrix}\n",
        "+\n",
        "  \\begin{bmatrix}\n",
        "    0.5 & 2 \\\\\n",
        "    7 & 1.7 \\\\\n",
        "    2 & 5\n",
        "  \\end{bmatrix}\n",
        "$$"
      ]
    },
    {
      "cell_type": "markdown",
      "metadata": {
        "id": "jpzmaH6E-71k"
      },
      "source": [
        "No Go 🚫: \n",
        "$$\n",
        "  \\begin{bmatrix}\n",
        "    0.5 & 3 & 5 \\\\\n",
        "    1.4 & 3 & 9 \\\\\n",
        "  \\end{bmatrix}\n",
        "+\n",
        "  \\begin{bmatrix}\n",
        "    1 \\\\\n",
        "    4 \\\\\n",
        "    1\n",
        "  \\end{bmatrix}\n",
        "$$"
      ]
    },
    {
      "cell_type": "code",
      "metadata": {
        "id": "XT7-UVYsbeJx"
      },
      "source": [
        "import numpy as np"
      ],
      "execution_count": 1,
      "outputs": []
    },
    {
      "cell_type": "code",
      "metadata": {
        "id": "QmtjKrNrbhNR"
      },
      "source": [
        "M1 = np.array([[0.5,2],\n",
        "              [1.4,4]])\n",
        "\n",
        "M2 = np.array([[4,4],\n",
        "               [7,1]])\n",
        "\n",
        "M3 = np.array([1,4,1])"
      ],
      "execution_count": 3,
      "outputs": []
    },
    {
      "cell_type": "code",
      "metadata": {
        "colab": {
          "base_uri": "https://localhost:8080/"
        },
        "id": "pB9rIXLqIjcM",
        "outputId": "a22b98d5-d134-42b7-a43d-ae24b12d37e0"
      },
      "source": [
        "M1 + M2"
      ],
      "execution_count": 6,
      "outputs": [
        {
          "output_type": "execute_result",
          "data": {
            "text/plain": [
              "array([[4.5, 6. ],\n",
              "       [8.4, 5. ]])"
            ]
          },
          "metadata": {},
          "execution_count": 6
        }
      ]
    },
    {
      "cell_type": "code",
      "metadata": {
        "colab": {
          "base_uri": "https://localhost:8080/",
          "height": 166
        },
        "id": "la-JOcBCIqp3",
        "outputId": "b858eebf-351f-4c82-dc13-062611ddbe1a"
      },
      "source": [
        "M1 + M3"
      ],
      "execution_count": 7,
      "outputs": [
        {
          "output_type": "error",
          "ename": "ValueError",
          "evalue": "ignored",
          "traceback": [
            "\u001b[0;31m---------------------------------------------------------------------------\u001b[0m",
            "\u001b[0;31mValueError\u001b[0m                                Traceback (most recent call last)",
            "\u001b[0;32m<ipython-input-7-eb2de951fea4>\u001b[0m in \u001b[0;36m<module>\u001b[0;34m()\u001b[0m\n\u001b[0;32m----> 1\u001b[0;31m \u001b[0mM1\u001b[0m \u001b[0;34m+\u001b[0m \u001b[0mM3\u001b[0m\u001b[0;34m\u001b[0m\u001b[0;34m\u001b[0m\u001b[0m\n\u001b[0m",
            "\u001b[0;31mValueError\u001b[0m: operands could not be broadcast together with shapes (2,2) (3,) "
          ]
        }
      ]
    },
    {
      "cell_type": "markdown",
      "metadata": {
        "id": "fNLiDaSGCyVi"
      },
      "source": [
        "Lige som med vektorer fungerer matrixaddition og subtraktion ved at fordele operationerne på tværs af de specifikke elementer og kombinere dem.\n"
      ]
    },
    {
      "cell_type": "code",
      "metadata": {
        "colab": {
          "base_uri": "https://localhost:8080/"
        },
        "id": "rXBCt90pKGqy",
        "outputId": "e364404b-a88a-4c51-eb3a-e1d0c74a9209"
      },
      "source": [
        "M1 = np.array([[6,2,4],[3.5,5,7],[5,3,2]])\n",
        "M2 = np.array([[0, 3.4, 2],[3,0.2,1],[0.1, 1.1, 7]])\n",
        "\n",
        "M1 + M2"
      ],
      "execution_count": 10,
      "outputs": [
        {
          "output_type": "execute_result",
          "data": {
            "text/plain": [
              "array([[6. , 5.4, 6. ],\n",
              "       [6.5, 5.2, 8. ],\n",
              "       [5.1, 4.1, 9. ]])"
            ]
          },
          "metadata": {},
          "execution_count": 10
        }
      ]
    },
    {
      "cell_type": "markdown",
      "metadata": {
        "id": "AYpmM8K-txzw"
      },
      "source": [
        "$$\n",
        "A + B = \n",
        "  \\begin{smallmatrix} \\textrm{A}\\\\\\begin{bmatrix}\n",
        "    6 & 2 & 4 \\\\ \n",
        "    3.5 & 5 & 7 \\\\ \n",
        "    5 & 3 & 2\n",
        "  \\end{bmatrix}\\end{smallmatrix}\n",
        "+\n",
        " \\begin{smallmatrix} \\textrm{B}\\\\\\begin{bmatrix}\n",
        "    0 & 3.4 & 2 \\\\\n",
        "    3 & 0.2 & 1 \\\\\n",
        "    0.1 & 1.1 & 7 \\\\\n",
        "  \\end{bmatrix}\\end{smallmatrix}\n",
        "=\n",
        "\\begin{smallmatrix} \\textrm{A+B}\\\\\\begin{bmatrix}\n",
        "    6 & 5.4 & 6 \\\\\n",
        "    6.5 & 5.2 & 8 \\\\\n",
        "    5.1 & 4.1 & 9 \\\\\n",
        "  \\end{bmatrix}\\end{smallmatrix}\n",
        "$$"
      ]
    },
    {
      "cell_type": "markdown",
      "metadata": {
        "id": "zP2vDKf6C24f"
      },
      "source": [
        "Endelig kan vi også multiplicere en matrix med en skalarværdi, ligesom vi kan med en vektor. "
      ]
    },
    {
      "cell_type": "markdown",
      "metadata": {
        "id": "ei-G2UbC5a10"
      },
      "source": [
        "$$\n",
        "A5 =\n",
        "  \\hspace{1cm} \\begin{smallmatrix} \\textrm{A}\\\\5 \\ * \\\n",
        "  \\begin{bmatrix}\n",
        "    6 & 2 & 4 \\\\ \n",
        "    3.5 & 5 & 7 \\\\ \n",
        "    5 & 3 & 2\n",
        "  \\end{bmatrix}\\end{smallmatrix}\n",
        "=\n",
        " \\begin{smallmatrix} \\textrm{A5}\\\\\\begin{bmatrix}\n",
        "    30 & 10 & 20 \\\\\n",
        "    17.5 & 25 & 35 \\\\\n",
        "    25 & 15 & 10 \\\\\n",
        "  \\end{bmatrix}\\end{smallmatrix}\n",
        "$$"
      ]
    },
    {
      "cell_type": "code",
      "metadata": {
        "colab": {
          "base_uri": "https://localhost:8080/"
        },
        "id": "UR6x17YzMNlt",
        "outputId": "120dbe17-bf70-4fd8-9ab6-90f5a9d2c100"
      },
      "source": [
        "M1 * 5"
      ],
      "execution_count": 11,
      "outputs": [
        {
          "output_type": "execute_result",
          "data": {
            "text/plain": [
              "array([[30. , 10. , 20. ],\n",
              "       [17.5, 25. , 35. ],\n",
              "       [25. , 15. , 10. ]])"
            ]
          },
          "metadata": {},
          "execution_count": 11
        }
      ]
    },
    {
      "cell_type": "markdown",
      "metadata": {
        "id": "6t7HngeQC8lR"
      },
      "source": [
        "#### Del 3.2\n",
        "Matrixligningen, vi diskuterede kort i den sidste mission, er et eksempel på matrix-vektor multiplikation. Når vi multiplicerer en matrix med en vektor, kombinerer vi i princippet hver række i matricen med søjlevektoren."
      ]
    },
    {
      "cell_type": "markdown",
      "metadata": {
        "id": "2nlI3zQXCpTd"
      },
      "source": [
        "$$\n",
        "Ac = \n",
        "  \\begin{smallmatrix} \\textrm{A}\\\\\\begin{bmatrix}\n",
        "    0.7 & 3 & 9 \\\\\n",
        "    1.7 & 2 & 9 \\\\\n",
        "    0.7 & 9 & 2 \\\\\n",
        "  \\end{bmatrix}\\end{smallmatrix}\n",
        "*\n",
        " \\begin{smallmatrix} \\textrm{c}\\\\\\begin{bmatrix}\n",
        "    1 \\\\\n",
        "    2 \\\\\n",
        "    1 \\\\\n",
        "  \\end{bmatrix}\\end{smallmatrix}\n",
        "=\n",
        "\\begin{smallmatrix} \\textrm{A * c}\\\\\\begin{bmatrix}\n",
        "    (0.7*1) &+& (3*2) &+& (9*1) \\\\\n",
        "    (1.7*1) &+& (2*2) &+& (9*1) \\\\\n",
        "    (0.7*1) &+& (9*2) &+& (2*1) \\\\\n",
        "  \\end{bmatrix}\\end{smallmatrix}\n",
        "=\n",
        "  \\begin{smallmatrix} \\textrm{Ac}\\\\\\begin{bmatrix}\n",
        "    15.7 \\\\\n",
        "    14.7 \\\\\n",
        "    20.7 \\\\\n",
        "  \\end{bmatrix}\\end{smallmatrix}\n",
        "$$"
      ]
    },
    {
      "cell_type": "code",
      "source": [
        "np.array([[0.7,3,9],[1.7,2,9],[0.7,9,2]]) @ np.array([1,2,1]).reshape(-1,1)"
      ],
      "metadata": {
        "id": "sUYUX28Ng39F",
        "outputId": "34fe4de0-097d-45b6-989d-9490bc733a97",
        "colab": {
          "base_uri": "https://localhost:8080/"
        }
      },
      "execution_count": 30,
      "outputs": [
        {
          "output_type": "execute_result",
          "data": {
            "text/plain": [
              "array([[15.7],\n",
              "       [14.7],\n",
              "       [20.7]])"
            ]
          },
          "metadata": {},
          "execution_count": 30
        }
      ]
    },
    {
      "cell_type": "markdown",
      "metadata": {
        "id": "XyVqPCgpDg7Z"
      },
      "source": [
        "For at multiplicere en matrix med en vektor skal antallet af kolonner i matrixen\n",
        "matche antallet af rækker i vektoren."
      ]
    },
    {
      "cell_type": "markdown",
      "metadata": {
        "id": "s0PiGQOuEawa"
      },
      "source": [
        "Valide produkter:\n",
        "$$\n",
        "  \\begin{bmatrix}\n",
        "    0.7 & 3 & 9 \\\\\n",
        "    1.7 & 2 & 9 \\\\\n",
        "    0.7 & 9 & 2\n",
        "  \\end{bmatrix}\n",
        "·%\n",
        "  \\begin{bmatrix}\n",
        "    1 \\\\\n",
        "    2 \\\\\n",
        "    1\n",
        "  \\end{bmatrix}\n",
        " %\n",
        " \\hspace{1cm}\n",
        "  \\begin{bmatrix}\n",
        "    0.7 & 3 & 9 \\\\\n",
        "    1.7 & 2 & 9 \\\\\n",
        "  \\end{bmatrix}\n",
        "·%\n",
        "  \\begin{bmatrix}\n",
        "    1 \\\\\n",
        "    2 \\\\\n",
        "    1\n",
        "  \\end{bmatrix} \n",
        "$$\n"
      ]
    },
    {
      "cell_type": "markdown",
      "metadata": {
        "id": "VVcEsAWPFA_s"
      },
      "source": [
        "Nope! 🚫 \n",
        "$$\n",
        "  \\begin{bmatrix}\n",
        "    0.7 & 3 & 9 \\\\\n",
        "    1.7 & 2 & 9 \\\\\n",
        "  \\end{bmatrix}\n",
        "·\n",
        "  \\begin{bmatrix}\n",
        "    1 \\\\\n",
        "    2 \\\\\n",
        "  \\end{bmatrix}\n",
        "$$"
      ]
    },
    {
      "cell_type": "markdown",
      "metadata": {
        "id": "7o-EQjqAD-59"
      },
      "source": [
        "Lige som når der er 2 vektorerkan vi bruge `numpy.dot()` eller `@` til at beregne dot-product"
      ]
    },
    {
      "cell_type": "markdown",
      "metadata": {
        "id": "bqxg_cRoFuKm"
      },
      "source": [
        "##### **Øvelse**\n",
        "Opræt følgende matrix som et NumPy-array med navnet **matrix_a**:"
      ]
    },
    {
      "cell_type": "markdown",
      "metadata": {
        "id": "de44RrHdFzpU"
      },
      "source": [
        "$$\n",
        "  \\begin{bmatrix}\n",
        "    0.7 & 3 & 9 \\\\\n",
        "    1.7 & 2 & 9 \\\\\n",
        "    0.7 & 9 & 2\n",
        "  \\end{bmatrix}\n",
        "$$"
      ]
    },
    {
      "cell_type": "code",
      "metadata": {
        "id": "5ietmHUNEM2O"
      },
      "source": [
        "matrix_a = np.array([[0.7,3,9],\n",
        "                     [1.7, 2, 9],\n",
        "                    [0.7, 9, 2]])"
      ],
      "execution_count": 41,
      "outputs": []
    },
    {
      "cell_type": "markdown",
      "metadata": {
        "id": "DUJuh-PCEBwc"
      },
      "source": [
        "Opræt følgende vektor some et NumPy-array med navnet **vector_b**:\n",
        "\n",
        "$$\n",
        "  \\begin{bmatrix}\n",
        "    1 \\\\\n",
        "    2 \\\\\n",
        "    1\n",
        "  \\end{bmatrix}\n",
        "$$"
      ]
    },
    {
      "cell_type": "code",
      "metadata": {
        "id": "n2T0QtaUEO9v"
      },
      "source": [
        "vector_b = np.array([1,2,1]).reshape(-1,1)"
      ],
      "execution_count": 33,
      "outputs": []
    },
    {
      "cell_type": "markdown",
      "metadata": {
        "id": "R4XnozQYEO32"
      },
      "source": [
        "Beregn dot-product og vis resultat\n"
      ]
    },
    {
      "cell_type": "code",
      "metadata": {
        "id": "gDp-chgoNQYp",
        "outputId": "c528e1f4-9f7a-43c7-e4dc-7c6e93fecfe3",
        "colab": {
          "base_uri": "https://localhost:8080/"
        }
      },
      "source": [
        "matrix_a @ vector_b"
      ],
      "execution_count": 34,
      "outputs": [
        {
          "output_type": "execute_result",
          "data": {
            "text/plain": [
              "array([[15.7],\n",
              "       [14.7],\n",
              "       [20.7]])"
            ]
          },
          "metadata": {},
          "execution_count": 34
        }
      ]
    },
    {
      "cell_type": "code",
      "metadata": {
        "id": "_wv6kNUTWeHZ",
        "outputId": "6abdf384-eb59-4220-f685-36f3386ae90c",
        "colab": {
          "base_uri": "https://localhost:8080/"
        }
      },
      "source": [
        "np.dot(matrix_a, vector_b)"
      ],
      "execution_count": 35,
      "outputs": [
        {
          "output_type": "execute_result",
          "data": {
            "text/plain": [
              "array([[15.7],\n",
              "       [14.7],\n",
              "       [20.7]])"
            ]
          },
          "metadata": {},
          "execution_count": 35
        }
      ]
    },
    {
      "cell_type": "markdown",
      "metadata": {
        "id": "JOop5k8xETV_"
      },
      "source": [
        "#### Del 3.3\n",
        "Som vi ded består en matrix af søjlevektorer. Vi kan derfor bruge samme koncepter, vi lærte om matrixvektormultiplikation til at multiplicere matricer sammen. I matrixvektor multiplikation udførte vi et prikprodukt mellem hver række i matrixen og søjlevektoren. I matrixmultiplikation udvider vi dette til at udføre et prikprodukt mellem hver række i den første matrix og hver kolonne i den anden matrix. "
      ]
    },
    {
      "cell_type": "markdown",
      "metadata": {
        "id": "T3FWyp6MT6AX"
      },
      "source": [
        "$$\n",
        "AB = \n",
        "  \\begin{smallmatrix} \\textrm{A}\\\\\\begin{bmatrix}\n",
        "    0.7 & 3 \\\\\n",
        "    1.7 & 2 \\\\    \n",
        "  \\end{bmatrix}\\end{smallmatrix}\n",
        "·\n",
        " \\begin{smallmatrix} \\textrm{B}\\\\\\begin{bmatrix}\n",
        "    1 & 2\\\\\n",
        "    2 & 3\\\\\n",
        "  \\end{bmatrix}\\end{smallmatrix}\n",
        "=\n",
        "\\begin{smallmatrix} \\textrm{A * B}\\\\\\begin{bmatrix}\n",
        "    (0.7*1+3*2) & (0.7*2+3*3) \\\\\n",
        "    (1.7*1+*2*2) & (1.7*2+2*3) \\\\\n",
        "  \\end{bmatrix}\\end{smallmatrix}\n",
        "=\n",
        "  \\begin{smallmatrix} \\textrm{AB}\\\\\\begin{bmatrix}\n",
        "    6.7 & 10.4 \\\\\n",
        "    5.7 & 9.4 \\\\\n",
        "  \\end{bmatrix}\\end{smallmatrix}\n",
        "$$"
      ]
    },
    {
      "cell_type": "markdown",
      "metadata": {
        "id": "RbDacuj_EWyh"
      },
      "source": [
        "Som med matrixvektormultiplikation skal kolonnerne i den første matrix matche antallet af rækker i den anden matrix. "
      ]
    },
    {
      "cell_type": "code",
      "metadata": {
        "id": "0Bcl3YrCEYDS",
        "outputId": "ef771885-3890-483d-d0d0-fbc19db8db98",
        "colab": {
          "base_uri": "https://localhost:8080/"
        }
      },
      "source": [
        "A = np.array([[0.7, 3],\n",
        "              [1.7 , 2]])\n",
        "\n",
        "B = np.array([[1, 2],\n",
        "              [2 , 3]])\n",
        "\n",
        "A @ B"
      ],
      "execution_count": 36,
      "outputs": [
        {
          "output_type": "execute_result",
          "data": {
            "text/plain": [
              "array([[ 6.7, 10.4],\n",
              "       [ 5.7,  9.4]])"
            ]
          },
          "metadata": {},
          "execution_count": 36
        }
      ]
    },
    {
      "cell_type": "markdown",
      "metadata": {
        "id": "mfkwULJCEYJi"
      },
      "source": [
        "OBS: Rækkeføgen er vigtig!"
      ]
    },
    {
      "cell_type": "markdown",
      "metadata": {
        "id": "2DGDiBzzWzjJ"
      },
      "source": [
        "$$\n",
        "BA = \n",
        "  \\begin{smallmatrix} \\textrm{B}\\\\\\begin{bmatrix}\n",
        "    1 & 2 \\\\\n",
        "    2 & 3 \\\\    \n",
        "  \\end{bmatrix}\\end{smallmatrix}\n",
        "·\n",
        " \\begin{smallmatrix} \\textrm{A}\\\\\\begin{bmatrix}\n",
        "    0.7 & 3\\\\\n",
        "    1.7 & 2\\\\\n",
        "  \\end{bmatrix}\\end{smallmatrix}\n",
        "=\n",
        "\\begin{smallmatrix} \\textrm{B * A}\\\\\\begin{bmatrix}\n",
        "    (1*0.7+2*1.7) & (1*3+2*2) \\\\\n",
        "    (2*0.7+3*1.7) & (2*3+3*2) \\\\\n",
        "  \\end{bmatrix}\\end{smallmatrix}\n",
        "=\n",
        "  \\begin{smallmatrix} \\textrm{BA}\\\\\\begin{bmatrix}\n",
        "    4.1 & 7 \\\\\n",
        "    6.5 & 12 \\\\\n",
        "  \\end{bmatrix}\\end{smallmatrix}\n",
        "$$"
      ]
    },
    {
      "cell_type": "markdown",
      "metadata": {
        "id": "wyCuUVRuEZi8"
      },
      "source": [
        "For at multiplicere matricer i NumPy bruger vi den samme numpy.dot () - funktion eller @ som vi brugte i sidste del.\n",
        "\n",
        "**Øvelse**\n",
        "\n",
        "* Multiplicer matrix_a med matrix_b, og tildel til **product_ab**.\n",
        "\n",
        "* Multiplicer matrix_b med matrix_a og tildel til **product_ba**. \n",
        "\n",
        "* Vis begge matricer. \n",
        "\n",
        "Er de ens? Betyder rækkefølge noget, når matricer multipliceres?\n"
      ]
    },
    {
      "cell_type": "code",
      "metadata": {
        "id": "IMJZB9ghXwzV"
      },
      "source": [
        "matrix_b = np.array([[1,2],\n",
        "                     [2,3]])\n",
        "\n",
        "matrix_a = np.array([[0.7,3],\n",
        "                     [1.7,2]])\n",
        "\n",
        "product_ab = matrix_a @ matrix_b\n",
        "\n",
        "product_ba = matrix_b @ matrix_a"
      ],
      "execution_count": 48,
      "outputs": []
    },
    {
      "cell_type": "code",
      "metadata": {
        "id": "tKg-sh8Oc_aw",
        "outputId": "1b397cac-f484-4a5a-dbfc-302c19bbfd8d",
        "colab": {
          "base_uri": "https://localhost:8080/"
        }
      },
      "source": [
        "product_ab"
      ],
      "execution_count": 39,
      "outputs": [
        {
          "output_type": "execute_result",
          "data": {
            "text/plain": [
              "array([[ 6.7, 10.4],\n",
              "       [ 5.7,  9.4]])"
            ]
          },
          "metadata": {},
          "execution_count": 39
        }
      ]
    },
    {
      "cell_type": "code",
      "metadata": {
        "id": "UrOjeIuydFB3",
        "outputId": "9a74446d-6108-4b96-b5ac-219178c36ed5",
        "colab": {
          "base_uri": "https://localhost:8080/"
        }
      },
      "source": [
        "product_ba"
      ],
      "execution_count": 40,
      "outputs": [
        {
          "output_type": "execute_result",
          "data": {
            "text/plain": [
              "array([[ 4.1,  7. ],\n",
              "       [ 6.5, 12. ]])"
            ]
          },
          "metadata": {},
          "execution_count": 40
        }
      ]
    },
    {
      "cell_type": "markdown",
      "metadata": {
        "id": "7nrErsWRXvvx"
      },
      "source": [
        "#### Del 3.4\n",
        "Matrix transponse skifter rækker og kolonner i en matrix. Du kan tænke på transponse som en rotation. I data analytics, statistik og finance arbejdes der ofte med datatabeller i forskellige dimensioner. På grund af kravene til matrixmultiplikation skal vi nogle gange transponere en matrix så vi kan multiplicere matricer sammen, der ikke har samme antal rækker og kolonner."
      ]
    },
    {
      "cell_type": "markdown",
      "metadata": {
        "id": "8sfyyAwUZUK1"
      },
      "source": [
        "En matrix transponse kunne typis se således ud: "
      ]
    },
    {
      "cell_type": "markdown",
      "metadata": {
        "id": "Qs4DU38EZyXh"
      },
      "source": [
        "Matrix til transponse:\n",
        "$$\n",
        "  \\begin{bmatrix}\n",
        "    1 & 2\\\\\n",
        "    3 & 4 \\\\\n",
        "    5 & 6 \\\\\n",
        "  \\end{bmatrix}\n",
        "$$\n",
        "\n",
        "Transponse\n",
        "\n",
        "$$\n",
        "  \\begin{bmatrix}\n",
        "    1 & 3 & 5\\\\\n",
        "    2 & 4 & 6\\\\\n",
        "  \\end{bmatrix}\n",
        "$$"
      ]
    },
    {
      "cell_type": "markdown",
      "metadata": {
        "id": "V-zbu0p_a_-E"
      },
      "source": [
        "Matematisk bruger vi notationen $A^T$ til at skrive transponse. \n",
        "\n",
        "$A^T + B^T = C$\n",
        "\n",
        "TRansponse har nogle interessante regler, der er ret intuitive. For eksempel, når vi tager transponse af summen af to matricer, kan vi distribuere transponse til hver matrix: \n",
        "\n",
        "$(A+B)^T = A^T + B^T$\n",
        "\n",
        "Lidt mere kontraintuitiv er dog det at tage transponse af produktet af 2 matricer:\n",
        "\n",
        "$(AB)^T = B^T A^T$"
      ]
    },
    {
      "cell_type": "markdown",
      "metadata": {
        "id": "28BFL1ltdA8Q"
      },
      "source": [
        "Lad os lige se på det ved med numpy:\n",
        "Vi kan enten bruge `np.transpose()` eller bare skrive `T` efter en matrix."
      ]
    },
    {
      "cell_type": "code",
      "metadata": {
        "id": "6EdKXdaBghz_",
        "outputId": "61be70a7-aeba-406a-986d-afbb2d53cac4",
        "colab": {
          "base_uri": "https://localhost:8080/"
        }
      },
      "source": [
        "M1"
      ],
      "execution_count": 43,
      "outputs": [
        {
          "output_type": "execute_result",
          "data": {
            "text/plain": [
              "array([[6. , 2. , 4. ],\n",
              "       [3.5, 5. , 7. ],\n",
              "       [5. , 3. , 2. ]])"
            ]
          },
          "metadata": {},
          "execution_count": 43
        }
      ]
    },
    {
      "cell_type": "code",
      "metadata": {
        "id": "HMzPqLwEgksM",
        "outputId": "090fda83-f79e-4346-9df3-b5c7227f63f9",
        "colab": {
          "base_uri": "https://localhost:8080/"
        }
      },
      "source": [
        "M1.T"
      ],
      "execution_count": 44,
      "outputs": [
        {
          "output_type": "execute_result",
          "data": {
            "text/plain": [
              "array([[6. , 3.5, 5. ],\n",
              "       [2. , 5. , 3. ],\n",
              "       [4. , 7. , 2. ]])"
            ]
          },
          "metadata": {},
          "execution_count": 44
        }
      ]
    },
    {
      "cell_type": "code",
      "metadata": {
        "id": "ZOwrsXjrg1Qo",
        "outputId": "ef3ce61d-7cc7-4408-925e-987443e97b09",
        "colab": {
          "base_uri": "https://localhost:8080/"
        }
      },
      "source": [
        "print(M1)\n",
        "print()\n",
        "print(M1.T)"
      ],
      "execution_count": 45,
      "outputs": [
        {
          "output_type": "stream",
          "name": "stdout",
          "text": [
            "[[6.  2.  4. ]\n",
            " [3.5 5.  7. ]\n",
            " [5.  3.  2. ]]\n",
            "\n",
            "[[6.  3.5 5. ]\n",
            " [2.  5.  3. ]\n",
            " [4.  7.  2. ]]\n"
          ]
        }
      ]
    },
    {
      "cell_type": "markdown",
      "metadata": {
        "id": "BP71RDUHdMvl"
      },
      "source": [
        "**Øvelse**\n",
        "\n",
        "* Beregn transponse af **matrix_a** og tildel den til **transpose_a**. Vis **transpose_a** ved hjælp af funktionen print(). \n",
        "\n",
        "* Beregn transponse af transpose_a og vis den ved hjælp af **print()**. Matcher dette den originale matrix, **matrix_a**? \n",
        "\n",
        "* Multiplicer transponse af **matrix_b** med transponse af **matrix_a** (i den rækkefølge) og tildel til **trans_ba**: \n",
        "\n",
        "* Multiplicer transponse af **matrix_a** med transponse af **matrix_b** (i den rækkefølge) og tildel til **trans_ab**: \n",
        "\n",
        "* Multiplicer **matrix_a** og **matrix_b**, og tildel produktet\n",
        "til **product_ab**. Beregn transponse af **product_ab**, og\n",
        "få vist resultatet ved hjælp af funktionen print().\n",
        "\n",
        "* Bekræft at transponse af **product_ab** er den samme\n",
        "som **trans_ba**\n",
        "\n"
      ]
    },
    {
      "cell_type": "code",
      "metadata": {
        "id": "TBUuQ1eMe3Gx",
        "outputId": "2fead9b4-cfb2-4149-dc7f-22325e703424",
        "colab": {
          "base_uri": "https://localhost:8080/"
        }
      },
      "source": [
        "transpose_a = matrix_a.T\n",
        "print('A.T')\n",
        "print(transpose_a)\n",
        "print('A')\n",
        "print(matrix_a)\n",
        "print('A.T.T')\n",
        "print(transpose_a.T)"
      ],
      "execution_count": 49,
      "outputs": [
        {
          "output_type": "stream",
          "name": "stdout",
          "text": [
            "A.T\n",
            "[[0.7 1.7]\n",
            " [3.  2. ]]\n",
            "A\n",
            "[[0.7 3. ]\n",
            " [1.7 2. ]]\n",
            "A.T.T\n",
            "[[0.7 3. ]\n",
            " [1.7 2. ]]\n"
          ]
        }
      ]
    },
    {
      "cell_type": "code",
      "metadata": {
        "id": "bzKqplxmiXBX"
      },
      "source": [
        "trans_ba = matrix_b.T @ matrix_a.T\n",
        "trans_ab = matrix_a.T @ matrix_b.T\n",
        "\n",
        "product_ab = matrix_a @ matrix_b"
      ],
      "execution_count": 50,
      "outputs": []
    },
    {
      "cell_type": "code",
      "metadata": {
        "id": "4llYJY0uitwy",
        "outputId": "51c1acb7-6e9f-4fdb-e461-d932286b0558",
        "colab": {
          "base_uri": "https://localhost:8080/"
        }
      },
      "source": [
        "product_ab.T"
      ],
      "execution_count": 52,
      "outputs": [
        {
          "output_type": "execute_result",
          "data": {
            "text/plain": [
              "array([[ 6.7,  5.7],\n",
              "       [10.4,  9.4]])"
            ]
          },
          "metadata": {},
          "execution_count": 52
        }
      ]
    },
    {
      "cell_type": "code",
      "metadata": {
        "id": "LC1n5Dnuiv_Y",
        "outputId": "127acace-f945-4b24-fe94-357efe2df88b",
        "colab": {
          "base_uri": "https://localhost:8080/"
        }
      },
      "source": [
        "trans_ba"
      ],
      "execution_count": 53,
      "outputs": [
        {
          "output_type": "execute_result",
          "data": {
            "text/plain": [
              "array([[ 6.7,  5.7],\n",
              "       [10.4,  9.4]])"
            ]
          },
          "metadata": {},
          "execution_count": 53
        }
      ]
    },
    {
      "cell_type": "code",
      "metadata": {
        "id": "5SQe-JWRizpV",
        "outputId": "a0540cbb-ccf2-4258-895c-1044a937cf47",
        "colab": {
          "base_uri": "https://localhost:8080/"
        }
      },
      "source": [
        "trans_ba == product_ab.T"
      ],
      "execution_count": 54,
      "outputs": [
        {
          "output_type": "execute_result",
          "data": {
            "text/plain": [
              "array([[ True,  True],\n",
              "       [ True,  True]])"
            ]
          },
          "metadata": {},
          "execution_count": 54
        }
      ]
    },
    {
      "cell_type": "code",
      "source": [
        "stor_matrix_a = np.random.rand(5,5)"
      ],
      "metadata": {
        "id": "kKgrUgkutXb5"
      },
      "execution_count": 56,
      "outputs": []
    },
    {
      "cell_type": "code",
      "source": [
        "stor_matrix_b = np.random.rand(5,5)"
      ],
      "metadata": {
        "id": "dDVNCgF7tevb"
      },
      "execution_count": 57,
      "outputs": []
    },
    {
      "cell_type": "code",
      "source": [
        "print(stor_matrix_a)\n",
        "print()\n",
        "print(stor_matrix_b)\n"
      ],
      "metadata": {
        "id": "W4hf4oumtgwe",
        "outputId": "f6c37a83-1a1e-407e-fe07-1a97705a3920",
        "colab": {
          "base_uri": "https://localhost:8080/"
        }
      },
      "execution_count": 59,
      "outputs": [
        {
          "output_type": "stream",
          "name": "stdout",
          "text": [
            "[[0.08657091 0.02725466 0.42565498 0.70109595 0.44379553]\n",
            " [0.62628805 0.55185881 0.12290087 0.99942796 0.82246553]\n",
            " [0.10414375 0.52595523 0.8962205  0.3006249  0.68063652]\n",
            " [0.95021294 0.8132976  0.2415254  0.33292125 0.01023137]\n",
            " [0.99922322 0.99060962 0.84962635 0.47182237 0.76864392]]\n",
            "\n",
            "[[0.90404893 0.27281604 0.0452877  0.55941399 0.63328519]\n",
            " [0.69131523 0.54202536 0.69221013 0.60031105 0.44783797]\n",
            " [0.46608845 0.29380917 0.26883757 0.05936628 0.62733176]\n",
            " [0.50546839 0.3064229  0.65251338 0.92215741 0.3467335 ]\n",
            " [0.24061169 0.84018844 0.4069928  0.83169448 0.11594074]]\n"
          ]
        }
      ]
    },
    {
      "cell_type": "code",
      "source": [
        "S_ab_t = stor_matrix_a.T @ stor_matrix_b.T"
      ],
      "metadata": {
        "id": "qyJETtxRtxQs"
      },
      "execution_count": 61,
      "outputs": []
    },
    {
      "cell_type": "code",
      "source": [
        "S_ba = stor_matrix_b @ stor_matrix_a"
      ],
      "metadata": {
        "id": "Xh8eD7Eht_aC"
      },
      "execution_count": 62,
      "outputs": []
    },
    {
      "cell_type": "code",
      "source": [
        "S_ba.T"
      ],
      "metadata": {
        "id": "kgaWkIOruGrQ",
        "outputId": "1b601764-974b-41fe-86c4-ce27431627e7",
        "colab": {
          "base_uri": "https://localhost:8080/"
        }
      },
      "execution_count": 63,
      "outputs": [
        {
          "output_type": "execute_result",
          "data": {
            "text/plain": [
              "array([[1.41819788, 1.48931459, 0.93561171, 1.52633313, 1.49555326],\n",
              "       [1.28132324, 1.61389871, 0.98596413, 1.61953732, 1.47555032],\n",
              "       [1.13209849, 1.50673537, 1.02277608, 1.354929  , 0.86981439],\n",
              "       [1.40513856, 1.64564549, 1.01698655, 1.32739365, 1.46234408],\n",
              "       [1.14891351, 1.57411322, 1.11427871, 1.19642085, 1.17244911]])"
            ]
          },
          "metadata": {},
          "execution_count": 63
        }
      ]
    },
    {
      "cell_type": "code",
      "source": [
        "S_ab_t"
      ],
      "metadata": {
        "id": "JXTofM8AuJEv",
        "outputId": "a35704c0-aedd-41aa-d04f-a176b7e53163",
        "colab": {
          "base_uri": "https://localhost:8080/"
        }
      },
      "execution_count": 64,
      "outputs": [
        {
          "output_type": "execute_result",
          "data": {
            "text/plain": [
              "array([[1.41819788, 1.48931459, 0.93561171, 1.52633313, 1.49555326],\n",
              "       [1.28132324, 1.61389871, 0.98596413, 1.61953732, 1.47555032],\n",
              "       [1.13209849, 1.50673537, 1.02277608, 1.354929  , 0.86981439],\n",
              "       [1.40513856, 1.64564549, 1.01698655, 1.32739365, 1.46234408],\n",
              "       [1.14891351, 1.57411322, 1.11427871, 1.19642085, 1.17244911]])"
            ]
          },
          "metadata": {},
          "execution_count": 64
        }
      ]
    },
    {
      "cell_type": "code",
      "source": [
        "S_ba.T == S_ab_t"
      ],
      "metadata": {
        "id": "K5wcKnu1uNHV",
        "outputId": "434fc247-bfe0-4eb9-ac84-acbe7db43161",
        "colab": {
          "base_uri": "https://localhost:8080/"
        }
      },
      "execution_count": 65,
      "outputs": [
        {
          "output_type": "execute_result",
          "data": {
            "text/plain": [
              "array([[ True,  True,  True,  True,  True],\n",
              "       [ True,  True,  True,  True,  True],\n",
              "       [ True,  True,  True,  True,  True],\n",
              "       [ True,  True,  True,  True,  True],\n",
              "       [ True,  True,  True,  True,  True]])"
            ]
          },
          "metadata": {},
          "execution_count": 65
        }
      ]
    },
    {
      "cell_type": "markdown",
      "metadata": {
        "id": "JzgBLorhe2m5"
      },
      "source": [
        "#### Del 3.5\n",
        "I matrixligningen, som vi så sidste gang, prøver vi at løse\n",
        "for vektoren $\\vec{x}$.\n"
      ]
    },
    {
      "cell_type": "markdown",
      "metadata": {
        "id": "-ZKLFUkOhE_n"
      },
      "source": [
        "$A\\vec{x} = \\vec{b}$"
      ]
    },
    {
      "cell_type": "markdown",
      "metadata": {
        "id": "_GVcDP_4hRJf"
      },
      "source": [
        "Her multipliceres matrixen $A$ med vektoren $\\vec{x}$, og vi har derfor brug for en måde at fjerne $A$."
      ]
    },
    {
      "cell_type": "markdown",
      "metadata": {
        "id": "qFkTeRoqhiZT"
      },
      "source": [
        "Lad os se på identitetsmatricen, som vi kort så sidst i første\n",
        "del i dette kursus. Som du kan huske, består den af 1er langs diagonalen og 0er ellers. Her ser vi en 2x2 identitetsmatrix som vi vil skrive som $I_2$:\n"
      ]
    },
    {
      "cell_type": "markdown",
      "metadata": {
        "id": "XM3asJYSirBP"
      },
      "source": [
        "$I_2 = \n",
        "  \\begin{bmatrix}\n",
        "    1 & 0\\\\\n",
        "    0 & 1 \\\\\n",
        "  \\end{bmatrix}$"
      ]
    },
    {
      "cell_type": "markdown",
      "metadata": {
        "id": "YDjaIlCOk1Bo"
      },
      "source": [
        "Når vi multiplicerer $I_2$ med en vektor, der indeholder 2 elementer, matcher den resulterende vektor den oprindelige vektor nøjagtigt:\n",
        "\n",
        "$I_2\\vec{x} = \\vec{x}$\n",
        "\n",
        "Dette skyldes, at hvert element i vektoren ganges nøjagtigt en gang med den\n",
        "diagonale $1$ værdi i identitetsmatrixen:\n",
        "\n"
      ]
    },
    {
      "cell_type": "markdown",
      "metadata": {
        "id": "7wzk3YXEliu6"
      },
      "source": [
        "Eksempel med tal: \n",
        "$$\n",
        "  \\begin{bmatrix}\n",
        "    1 & 0 \\\\\n",
        "    0 & 1 \\\\\n",
        "  \\end{bmatrix}\n",
        "%\n",
        "  \\begin{bmatrix}\n",
        "    3 \\\\\n",
        "    2 \\\\\n",
        "  \\end{bmatrix}\n",
        " %\n",
        "=\n",
        "  \\begin{bmatrix}\n",
        "    1*3 + 0*2 \\\\\n",
        "    0*3 + 1*2 \\\\\n",
        "  \\end{bmatrix}\n",
        "%\n",
        "=\n",
        "  \\begin{bmatrix}\n",
        "    3 \\\\\n",
        "    2 \\\\\n",
        "  \\end{bmatrix} \n",
        "$$"
      ]
    },
    {
      "cell_type": "markdown",
      "metadata": {
        "id": "YMyZDdCNm22L"
      },
      "source": [
        "Generel brug: \n",
        "$$\n",
        "  \\begin{bmatrix}\n",
        "    1 & 0 \\\\\n",
        "    0 & 1 \\\\\n",
        "  \\end{bmatrix}\n",
        "%\n",
        "  \\begin{bmatrix}\n",
        "    x_1 \\\\\n",
        "    x_2 \\\\\n",
        "  \\end{bmatrix}\n",
        " %\n",
        "=\n",
        "  \\begin{bmatrix}\n",
        "    1x_1 + 0x_2 \\\\\n",
        "    0x_1 + 1x_2 \\\\\n",
        "  \\end{bmatrix}\n",
        "%\n",
        "=\n",
        "  \\begin{bmatrix}\n",
        "    x_1 \\\\\n",
        "    x_2 \\\\\n",
        "  \\end{bmatrix} \n",
        "$$"
      ]
    },
    {
      "cell_type": "markdown",
      "metadata": {
        "id": "TDaxYlW3lTRX"
      },
      "source": [
        "Hvis vi kan transformere matrix $A$ og konvertere den til identitetsmatrixen, er det kun løsningsvektoren $\\vec{x}$ der vil blive tilbage. \n",
        "\n",
        "Lad os lige øve at arbejde med identitetsmatrix, før vi prøver at løse transformationen af $A$ til $I$.\n",
        "\n",
        "Vi kan oprette en hvilken som helst identitetsmatrix ved hjælp af funktionen `numpy.identity()`. Denne funktion har kun 1 parameter, `n`, som specificerer den $n * n$ identitesmatrix, vi har brug for.\n",
        "\n"
      ]
    },
    {
      "cell_type": "markdown",
      "metadata": {
        "id": "hwAIXyEjpf1_"
      },
      "source": [
        "**Øvelse** \n",
        "\n",
        "* Generer $I_2$ og tildel til **i_2**\n",
        "* Generer $I_3$ og tildel til **i_3**\n",
        "* Generer en 3 * 3 matrix og tildel til **matrix_33** brug `np.random.rand(n,n)` for at generere en random matrix (sparer tid...)\n",
        "* Generer en 2 * 3 matrix og tildel til **matrix_23**\n",
        "* Multiplicer **i_3** med **matrix_33** og tildel til **identity_33**\n",
        "* Multiplicer **i_2** med **matrix_23** og tildel til **identity_23**\n",
        "\n",
        "**identity_33** burde matche **matrix_33** og **identity_23** burde matche **matrix_23**"
      ]
    },
    {
      "cell_type": "code",
      "source": [
        "I1 = np.random.rand(5,5)"
      ],
      "metadata": {
        "id": "ZSxwu3LywmII"
      },
      "execution_count": 73,
      "outputs": []
    },
    {
      "cell_type": "code",
      "source": [
        "I1"
      ],
      "metadata": {
        "id": "v83WuutzwrR4",
        "outputId": "6953743d-0da3-4f1c-992f-e2b7bf383a1c",
        "colab": {
          "base_uri": "https://localhost:8080/"
        }
      },
      "execution_count": 74,
      "outputs": [
        {
          "output_type": "execute_result",
          "data": {
            "text/plain": [
              "array([[0.90056731, 0.76919621, 0.51579187, 0.59832356, 0.81980747],\n",
              "       [0.5817935 , 0.64025132, 0.97827999, 0.82016261, 0.41992677],\n",
              "       [0.16230352, 0.45410943, 0.02841592, 0.61522723, 0.76681775],\n",
              "       [0.37291314, 0.23432615, 0.22143766, 0.3374279 , 0.77849177],\n",
              "       [0.50769996, 0.20980579, 0.24999391, 0.02303152, 0.11978607]])"
            ]
          },
          "metadata": {},
          "execution_count": 74
        }
      ]
    },
    {
      "cell_type": "code",
      "source": [
        "(np.identity(5) @ I1) == I1"
      ],
      "metadata": {
        "id": "rQ1kPnd8wccp",
        "outputId": "886e3fb1-55d7-48ea-d595-8c298ad2cadf",
        "colab": {
          "base_uri": "https://localhost:8080/"
        }
      },
      "execution_count": 76,
      "outputs": [
        {
          "output_type": "execute_result",
          "data": {
            "text/plain": [
              "array([[ True,  True,  True,  True,  True],\n",
              "       [ True,  True,  True,  True,  True],\n",
              "       [ True,  True,  True,  True,  True],\n",
              "       [ True,  True,  True,  True,  True],\n",
              "       [ True,  True,  True,  True,  True]])"
            ]
          },
          "metadata": {},
          "execution_count": 76
        }
      ]
    },
    {
      "cell_type": "code",
      "metadata": {
        "id": "jMGrQhJmkM5-"
      },
      "source": [
        "i_2 = np.identity(2)\n",
        "i_3 = np.identity(3)\n",
        "\n",
        "matrix_33 = np.random.rand(3,3)\n",
        "matrix_23 = np.random.rand(2,3)\n",
        "\n",
        "identity_33 = i_3 @ matrix_33\n",
        "identity_23 = i_2 @ matrix_23"
      ],
      "execution_count": 77,
      "outputs": []
    },
    {
      "cell_type": "code",
      "metadata": {
        "id": "g9_ATibnmL1s",
        "outputId": "41cf7f9e-080b-42b0-e70f-55a28e50793b",
        "colab": {
          "base_uri": "https://localhost:8080/"
        }
      },
      "source": [
        "identity_33 == matrix_33"
      ],
      "execution_count": 78,
      "outputs": [
        {
          "output_type": "execute_result",
          "data": {
            "text/plain": [
              "array([[ True,  True,  True],\n",
              "       [ True,  True,  True],\n",
              "       [ True,  True,  True]])"
            ]
          },
          "metadata": {},
          "execution_count": 78
        }
      ]
    },
    {
      "cell_type": "code",
      "metadata": {
        "id": "nfQxF-CUmO_O",
        "outputId": "20336540-3f62-433a-cc94-20d3f169d5b8",
        "colab": {
          "base_uri": "https://localhost:8080/"
        }
      },
      "source": [
        "identity_23 == matrix_23"
      ],
      "execution_count": 79,
      "outputs": [
        {
          "output_type": "execute_result",
          "data": {
            "text/plain": [
              "array([[ True,  True,  True],\n",
              "       [ True,  True,  True]])"
            ]
          },
          "metadata": {},
          "execution_count": 79
        }
      ]
    },
    {
      "cell_type": "markdown",
      "metadata": {
        "id": "O9pOdp_yp-yv"
      },
      "source": [
        "#### Del 3.6\n",
        "\n",
        "Nu ved vi lidt mere om identitetsmatricen og kan overveje hvordan vi annullerer\n",
        "koefficientmatrixen $A$. Eller sagt på en anden måde: Vi vil prøve at transformere $A$ til identitetsmatricen $I$. Dette gøres ved at multiplicere den **inverse** matrix med matricen. \n",
        "\n"
      ]
    },
    {
      "cell_type": "markdown",
      "metadata": {
        "id": "cscZKTKWrtxG"
      },
      "source": [
        "En invers matrix svarer til ideen om multiplikativ invers. Hvis vi, for eksempel, vil løse $x$ i ligningen $5x = 10$. For at gøre dette, har vi\n",
        "brug for at multiplicere begge sider med den multiplikative inverse af $5$, som er $5^{-1}$ (eller $1/5$):\n",
        "\n",
        "$5^{-1}*5x = 5^{-1} * 10$\n",
        "\n",
        "Det omvendte af $5$ forvandler det til $1$ og efterlader os med løsningen: $x = 2$. For at løse for vektoren $\\vec{x}$ i matrixligningen, er vi nødt til at gange begge sider med det inverse $A$:\n",
        "\n",
        "$A^{-1}A\\vec{x}=A^{-1}\\vec{b}$\n",
        "\n",
        "Dette kan simplificeres til $I\\vec{x}=A^{-1}\\vec{b}$, hvilket giver os formularen til at udregne løsningsvektoren:\n",
        "\n",
        "$\\vec{x} = A^{-1}\\vec{b}$"
      ]
    },
    {
      "cell_type": "markdown",
      "metadata": {
        "id": "Bew8c0w4tzAL"
      },
      "source": [
        "Selvom vi bruger *inverse matrix* til at annullere bestemte termer i princippet på samme måde som når man bruger multiplikativ invers, er beregningen helt anderledes. Lad os forstå beregningen for det inverse af en 2 * 2 matrix.\n",
        "\n",
        "Hvis $ A = \n",
        "  \\begin{bmatrix}\n",
        "    a & b\\\\\n",
        "    c & d \\\\\n",
        "  \\end{bmatrix}$\n",
        "så $A^{-1} = \\frac{1}{ad-bc}\\begin{bmatrix}\n",
        "    d & -b\\\\\n",
        "    -c & a \\\\\n",
        "  \\end{bmatrix}$\n",
        "\n",
        "\n",
        "Udtrykket $ad - bc$ er kendt som **determinanten** og skrives ofte som $det(A) = ad - bc$ eller som $|A| = ad - bc$. Fordi vi deler med determinanten ved beregning af den inverse matrice, er en 2 x 2 matrix kun inverterbar, hvis determinanten ikke er lig med 0. \n",
        "\n",
        "I dette trin og det næste trin vil vi fokusere på\n",
        "at finde den inverse matrix, når $A$ er en 2 x 2 matrix. Senere vil vi gennemgå, hvordan man beregner den inverse matrix til en højere dimensionel matrix (3 x 3 og derover).\n",
        "\n",
        "Lad os implementere en invers matrix i Python før vi forsøger at løse matrixligningen. \n"
      ]
    },
    {
      "cell_type": "markdown",
      "metadata": {
        "id": "aT-jJZBGvpDF"
      },
      "source": [
        "**Øvelse**\n",
        "\n",
        "* Opret en funktion ved navn **matrix_inverse_two()**, der accepterer en 2 x\n",
        "2 matrix, som en NumPy ndarray, og returnerer en invers matrix. Denne funktion\n",
        "skal først beregne matrixens determinant.\n",
        "  * Hvis determinanten er lig med 0, skal en fejl returneres.\n",
        "  * Hvis determinanten ikke er lig med 0, skal denne funktion returnere invers matrix.\n",
        "* Beregn det inverse af **matrix_a** ved hjælp af den funktion, du lige har skrevet og tildel resultatet til **inverse_a**.\n",
        "* Multiplicer **inverse_a** med **matrix_a**, og tildel resultatet til **i_2**. Vis **i_2** ved hjælp af print() funktionen.\n",
        "\n"
      ]
    },
    {
      "cell_type": "code",
      "metadata": {
        "id": "NWsENaRPyUuZ"
      },
      "source": [
        "def matrix_inverse_two(M):\n",
        "  det = M[0,0]*M[1,1] - M[0,1]*M[1,0]\n",
        "  if det == 0:\n",
        "    return ValueError('Determinant = 0 - nope dude!!!')\n",
        "  else:\n",
        "    return 1/det * np.array([[M[1,1],-M[0,1]],\n",
        "                             [-M[1,0],M[0,0]]])"
      ],
      "execution_count": 80,
      "outputs": []
    },
    {
      "cell_type": "code",
      "metadata": {
        "id": "XhxDILOhucEm"
      },
      "source": [
        "matrix_a = np.array([[1,2],\n",
        "                     [3,4]])"
      ],
      "execution_count": 81,
      "outputs": []
    },
    {
      "cell_type": "code",
      "metadata": {
        "id": "QyNAFBmutSPV"
      },
      "source": [
        "inverse_a = matrix_inverse_two(matrix_a)"
      ],
      "execution_count": 82,
      "outputs": []
    },
    {
      "cell_type": "code",
      "metadata": {
        "id": "WU7ih55ltbi3",
        "outputId": "2cadcd8c-d146-4e26-de15-828fd816fb91",
        "colab": {
          "base_uri": "https://localhost:8080/"
        }
      },
      "source": [
        "inverse_a @ matrix_a"
      ],
      "execution_count": 83,
      "outputs": [
        {
          "output_type": "execute_result",
          "data": {
            "text/plain": [
              "array([[1., 0.],\n",
              "       [0., 1.]])"
            ]
          },
          "metadata": {},
          "execution_count": 83
        }
      ]
    },
    {
      "cell_type": "code",
      "metadata": {
        "id": "-Ax_OJZtttil",
        "outputId": "d121396a-0829-4178-a737-bc7974a8faa9",
        "colab": {
          "base_uri": "https://localhost:8080/"
        }
      },
      "source": [
        "np.linalg.inv(matrix_a) @ matrix_a"
      ],
      "execution_count": 84,
      "outputs": [
        {
          "output_type": "execute_result",
          "data": {
            "text/plain": [
              "array([[1.00000000e+00, 0.00000000e+00],\n",
              "       [1.11022302e-16, 1.00000000e+00]])"
            ]
          },
          "metadata": {},
          "execution_count": 84
        }
      ]
    },
    {
      "cell_type": "markdown",
      "metadata": {
        "id": "RKhi8dRiyhGK"
      },
      "source": [
        "#### Del 3.7\n",
        "Nu hvor vi ved, hvordan vi beregner den inverse matrix, kan vi løse vores system ved hjælp af matrixligning $A\\vec{x} = \\vec{b}$ som nedenfor.\n",
        " \n",
        "$$\n",
        "  \\begin{bmatrix}\n",
        "    300 & -1 \\\\\n",
        "    400 & -1 \\\\\n",
        "  \\end{bmatrix}\n",
        "%\n",
        "  \\begin{bmatrix}\n",
        "    x_1 \\\\\n",
        "    x_2\\\\\n",
        "  \\end{bmatrix}\n",
        " %\n",
        "=\n",
        "  \\begin{bmatrix}\n",
        "    -2500 \\\\\n",
        "    -500 \\\\\n",
        "  \\end{bmatrix} \n",
        "$$\n",
        "\n",
        "Vi starter med at gange med $A^{-1}$ på begge sider:\n",
        "\n",
        "$$\n",
        "  \\begin{bmatrix}\n",
        "    300 & -1 \\\\\n",
        "    400 & -1 \\\\\n",
        "  \\end{bmatrix}\n",
        "^{-1}\n",
        "%\n",
        "  \\begin{bmatrix}\n",
        "    300 & -1 \\\\\n",
        "    400 & -1 \\\\\n",
        "  \\end{bmatrix}\n",
        "%\n",
        "   \\begin{bmatrix}\n",
        "    x_1\\\\\n",
        "    x_2 \\\\\n",
        "  \\end{bmatrix}\n",
        "=\n",
        "  \\begin{bmatrix}\n",
        "    300 & -1 \\\\\n",
        "    400 & -1 \\\\\n",
        "  \\end{bmatrix}\n",
        "^{-1}\n",
        "%\n",
        "  \\begin{bmatrix}\n",
        "    -2500 \\\\\n",
        "    -500 \\\\\n",
        "  \\end{bmatrix} \n",
        "$$\n",
        "\n",
        "Dette kan skrives som :\n",
        "\n",
        "$$   \n",
        "\\begin{bmatrix}\n",
        "    x_1\\\\\n",
        "    x_2 \\\\\n",
        "  \\end{bmatrix}\n",
        "=\n",
        "  \\begin{bmatrix}\n",
        "    300 & -1 \\\\\n",
        "    400 & -1 \\\\\n",
        "  \\end{bmatrix}\n",
        "^{-1}\n",
        "%\n",
        "  \\begin{bmatrix}\n",
        "    -2500 \\\\\n",
        "    -500 \\\\\n",
        "  \\end{bmatrix} \n",
        "$$\n"
      ]
    },
    {
      "cell_type": "markdown",
      "metadata": {
        "id": "Nu_ZHi_L4j0z"
      },
      "source": [
        "Lad os afslutte det sidste trin i Python. For at beregne det inverse af en NumPy ndarray, kan vi bruge funktionen **numpy.linalg.inv()**.\n",
        "\n",
        "**Øvelse**\n",
        "* Afslut beregning af ligningen, og tildel løsningsvektoren til **solution_x**:\n",
        "* Vis **solution_x** ved hjælp af **print()** funktionen\n"
      ]
    },
    {
      "cell_type": "code",
      "source": [
        "A = np.array([[300, -1],\n",
        "              [400, -1]])\n",
        "\n",
        "A"
      ],
      "metadata": {
        "id": "Vh5B9zF14ew6",
        "outputId": "1cfaaca3-d933-449a-f012-6c406af6bfee",
        "colab": {
          "base_uri": "https://localhost:8080/"
        }
      },
      "execution_count": 85,
      "outputs": [
        {
          "output_type": "execute_result",
          "data": {
            "text/plain": [
              "array([[300,  -1],\n",
              "       [400,  -1]])"
            ]
          },
          "metadata": {},
          "execution_count": 85
        }
      ]
    },
    {
      "cell_type": "code",
      "source": [
        "b = np.array([-2500, -500])\n",
        "b"
      ],
      "metadata": {
        "id": "gp4gIhpj4irX",
        "outputId": "6467b965-3a29-44b0-972b-d892b8390af0",
        "colab": {
          "base_uri": "https://localhost:8080/"
        }
      },
      "execution_count": 87,
      "outputs": [
        {
          "output_type": "execute_result",
          "data": {
            "text/plain": [
              "array([-2500,  -500])"
            ]
          },
          "metadata": {},
          "execution_count": 87
        }
      ]
    },
    {
      "cell_type": "code",
      "metadata": {
        "id": "y45IVOuuvfpb",
        "outputId": "8554d688-8693-4894-b99e-1934e6ba763c",
        "colab": {
          "base_uri": "https://localhost:8080/"
        }
      },
      "source": [
        "np.linalg.inv(A) @ b"
      ],
      "execution_count": 88,
      "outputs": [
        {
          "output_type": "execute_result",
          "data": {
            "text/plain": [
              "array([  20., 8500.])"
            ]
          },
          "metadata": {},
          "execution_count": 88
        }
      ]
    },
    {
      "cell_type": "markdown",
      "metadata": {
        "id": "nFu-EutU5Zus"
      },
      "source": [
        "#### Del 3.8\n",
        "Før vi undersøger, hvordan man beregner den inverse matrix for fler-dimensionelle matricer, skal vi først dykke dybere ned i determinanten og introducere noget mere terminologi. Indtil videre har vi for det meste arbejdet med matricer, der indeholder det samme antal rækker og kolonner. Disse matricer er kendt som kvadratmatricer, og vi kan kun beregne determinanten og den inverse matrix for kvadratmatricer. Derudover kan vi kun beregne den inverse matrix af kvadratmatricer, når determinanten **ikke** er lig med 0.\n",
        "\n",
        "For at finde determinanten for en fler-dimensionel kvadratmatrix skal vi bruge\n",
        "den mere generelle form af determinanten. Den ser sådan ud:\n",
        "\n",
        "$ det( \n",
        "  \\begin{bmatrix}\n",
        "    a & b & c\\\\\n",
        "    d & e & f \\\\\n",
        "    g & h & i\n",
        "  \\end{bmatrix}) = a* det\n",
        "  (\\begin{bmatrix}\n",
        "    e & f\\\\\n",
        "    h & i \\\\\n",
        "  \\end{bmatrix})\n",
        "  - b*det(\n",
        "  \\begin{bmatrix}\n",
        "    d & f\\\\\n",
        "    g & i \\\\\n",
        "  \\end{bmatrix}) + c* det\n",
        "  (\\begin{bmatrix}\n",
        "    d & e\\\\\n",
        "    g & h \\\\\n",
        "  \\end{bmatrix})$\n",
        "\n",
        "\n"
      ]
    },
    {
      "cell_type": "markdown",
      "metadata": {
        "id": "i1pfRqi18VN6"
      },
      "source": [
        "Determinanten for et fler-dimensionelt system er forbundet med at nedbryde den fulde\n",
        "matrix til mindre matricer. Først vælger vi en række eller kolonne (der vælges  tit den første række). For den første værdi i den valgte række \"skjuler\" vi de værdier i den række (2. og 3. værdi i rækken) og i den tilsvarende kolonne (2. og 3. værdi i kolonnen), benyt resten af elementerne som den mindre matrix, og gang den skalære værdi med determinanten for den mindre matrix. Vi gentager dette for de resterende værdier i første række. \n",
        "\n",
        "Dette diagram hjælper med at illustrere processen bedre:"
      ]
    },
    {
      "cell_type": "code",
      "metadata": {
        "id": "deEZu3xA-g-p",
        "colab": {
          "base_uri": "https://localhost:8080/"
        },
        "outputId": "5d1a8423-4a48-4e69-b911-da5be77f8ac7"
      },
      "source": [
        "matrix_33"
      ],
      "execution_count": 89,
      "outputs": [
        {
          "output_type": "execute_result",
          "data": {
            "text/plain": [
              "array([[0.16266885, 0.35745338, 0.9165215 ],\n",
              "       [0.25415405, 0.68384591, 0.03640596],\n",
              "       [0.29685485, 0.98777466, 0.50521041]])"
            ]
          },
          "metadata": {},
          "execution_count": 89
        }
      ]
    },
    {
      "cell_type": "markdown",
      "metadata": {
        "id": "-9Rio0J7-hGk"
      },
      "source": [
        "Her er et konkret eksempel: \n",
        "\n",
        "$ det( \n",
        "  \\begin{bmatrix}\n",
        "    1 & 2 & 3\\\\\n",
        "    4 & 5 & 6 \\\\\n",
        "    7 & 8 & 9\n",
        "  \\end{bmatrix}) = 1* det\n",
        "  (\\begin{bmatrix}\n",
        "    5 & 6\\\\\n",
        "    8 & 9 \\\\\n",
        "  \\end{bmatrix})\n",
        "  - 2*det(\n",
        "  \\begin{bmatrix}\n",
        "    4 & 6\\\\\n",
        "    7 & 9 \\\\\n",
        "  \\end{bmatrix}) + 3* det\n",
        "  (\\begin{bmatrix}\n",
        "    4 & 5\\\\\n",
        "    7 & 8 \\\\\n",
        "  \\end{bmatrix})$"
      ]
    },
    {
      "cell_type": "markdown",
      "metadata": {
        "id": "i3e-xJ3y-91Y"
      },
      "source": [
        "For at beregne determinanten i NumPy bruger vi funktionen **numpy.linalg.det()**. Vi overlader det til dig at læse [dokumentationen](https://numpy.org/doc/stable/reference/generated/numpy.linalg.det.html) og lære, hvordan du bruger denne funktion. \n",
        "\n",
        "**Øvelse**\n",
        "* Beregn determinanten for **matrix_22**, og tildel til **det_22**.\n",
        "* Beregn determinanten for **matrix_33** og tildel til **det_33**\n"
      ]
    },
    {
      "cell_type": "code",
      "metadata": {
        "id": "2dd9RAebvArx",
        "outputId": "6c40588a-1671-425a-cf48-b5b7014c6d51",
        "colab": {
          "base_uri": "https://localhost:8080/"
        }
      },
      "source": [
        "np.linalg.inv(matrix_33) @ matrix_33"
      ],
      "execution_count": 91,
      "outputs": [
        {
          "output_type": "execute_result",
          "data": {
            "text/plain": [
              "array([[ 1.00000000e+00,  1.14623812e-15,  4.46350761e-16],\n",
              "       [ 1.09370613e-16,  1.00000000e+00, -3.56640139e-16],\n",
              "       [ 1.79929373e-17, -3.11988946e-17,  1.00000000e+00]])"
            ]
          },
          "metadata": {},
          "execution_count": 91
        }
      ]
    },
    {
      "cell_type": "markdown",
      "metadata": {
        "id": "B2-ykGUYAOdq"
      },
      "source": [
        "#### Del 3.9\n",
        "For at beregne en invers matrix for en 3 * 3 eller større matrix, skal vi også arbejde med den mere generelle form af matrixens inverse ligning. Svarende til determinanten for fler-dimensionelle matricer fungerer den inverse matrix ved at generere mindre matricer, der er afhængige af positionen i matrixen. Her er et diagram, der beskriver den inverse matrix for en 3 * 3 matrix:\n",
        "\n",
        "\n"
      ]
    },
    {
      "cell_type": "markdown",
      "metadata": {
        "id": "kS3kxxcPBWi3"
      },
      "source": [
        "$ \n",
        "\\begin{bmatrix}\n",
        "    a & b & c\\\\\n",
        "    d & e & f \\\\\n",
        "    g & h & i\n",
        "\\end{bmatrix} ^{-1} = \n",
        "\\frac{1}{det(\\begin{bmatrix}\n",
        "    a & b & c\\\\\n",
        "    d & e & f \\\\\n",
        "    g & h & i\n",
        "\\end{bmatrix})}\n",
        "\\begin{bmatrix}\n",
        "    det(\\begin{bmatrix}\n",
        "    a & - & -\\\\ \n",
        "    - & e & f \\\\\n",
        "    - & h & i \\end{bmatrix})  \n",
        "  & ... \n",
        "  & det(\\begin{bmatrix}\n",
        "    - & - & c\\\\\n",
        "    d & e & - \\\\\n",
        "    g & h & - \\end{bmatrix}) \\\\\n",
        "... & ... & ... \\\\\n",
        "det(\\begin{bmatrix}\n",
        "    - & b & c\\\\ \n",
        "    - & e & f \\\\\n",
        "    g & - & - \\end{bmatrix})  \n",
        "  & ... \n",
        "  & det(\\begin{bmatrix}\n",
        "    a & b & -\\\\\n",
        "    d & e & - \\\\\n",
        "    - & - & i \\end{bmatrix}) \\\\\n",
        "\\end{bmatrix}\n",
        "$"
      ]
    },
    {
      "cell_type": "markdown",
      "metadata": {
        "id": "yULx4I8WA_Av"
      },
      "source": [
        "Selvom det er nyttigt at vide, hvordan man beregner det inverse på denne måde til fler-dimensionelle matricer, er mængden af omhyggelig aritmetik, du skal udføre i hånden, stor. Heldigvis, kan funktionen **numpy.linalg.inv()** arbejde med enhver n-dimensionel kvadratmatrix. \n"
      ]
    },
    {
      "cell_type": "markdown",
      "metadata": {
        "id": "P_8-NZ8OFiQe"
      },
      "source": [
        "I denne session lærte vi om de forskellige matrixoperationer, og hvordan man løser et lineært system, der er repræsenteret som en matrixligning ved hjælp af en invers matrix. I den næste session lærer vi forskellige måder,hvordan et løsningssæt kan repræsenteres på, og hvordan man beregner determinanten for en fler-dimensionel matrix."
      ]
    },
    {
      "cell_type": "markdown",
      "metadata": {
        "id": "YZwXz8mszLCM"
      },
      "source": [
        "# Om random seeds\n",
        "\n",
        "man kan bruge random tal fra numpy og aligevel få de samme resultater hver gang hvis man bruger\n",
        "\n",
        "`np.random.seed(42)`"
      ]
    },
    {
      "cell_type": "code",
      "metadata": {
        "id": "vQAynCY3zWTt"
      },
      "source": [
        "np.random.seed(42)\n",
        "np.random.rand(2,2)"
      ],
      "execution_count": null,
      "outputs": []
    },
    {
      "cell_type": "markdown",
      "metadata": {
        "id": "MeRR4VgtIU7w"
      },
      "source": [
        "#### Opsummering: Matrix algebra\n"
      ]
    },
    {
      "cell_type": "code",
      "metadata": {
        "id": "SoFWCxjxIfUz"
      },
      "source": [
        "# Brug NumPy til at multiplicere en matrix med en vektor:\n",
        "matrix_a = np.asarray([\n",
        "[0.7, 3, 9],\n",
        "[1.7, 2, 9],\n",
        "[0.7, 9, 2]\n",
        "], dtype=np.float32)\n",
        "vector_b = np.asarray([\n",
        "[1], [2], [1]\n",
        "], dtype=np.float32)\n",
        "ab_product = np.dot(matrix_a, vector_b)"
      ],
      "execution_count": null,
      "outputs": []
    },
    {
      "cell_type": "code",
      "metadata": {
        "id": "bAOzObxXIpiZ"
      },
      "source": [
        "# Brug NumPy til at transponere en matrix:\n",
        "matrix_b = np.asarray([\n",
        "[113, 3, 10],\n",
        "[1, 0, 1],\n",
        "], dtype=np.float32)\n",
        "transpose_b = np.transpose(matrix_b)"
      ],
      "execution_count": null,
      "outputs": []
    },
    {
      "cell_type": "code",
      "metadata": {
        "id": "34N18LMeI9Dz"
      },
      "source": [
        "# generer inverse matrix med NumPy:\n",
        "np.identity(3) # creates the 3x3 identity matrix "
      ],
      "execution_count": null,
      "outputs": []
    },
    {
      "cell_type": "code",
      "metadata": {
        "id": "1oElwrkYJErQ"
      },
      "source": [
        "# Udregn den inverse matrix med NumPy:\n",
        "matrix_c = np.asarray([\n",
        "[30, -1],\n",
        "[50, -1]\n",
        "])\n",
        "matrix_c_inverse = np.linalg.inv(matrix_c)"
      ],
      "execution_count": null,
      "outputs": []
    },
    {
      "cell_type": "code",
      "metadata": {
        "id": "5OdVkaXoJQN_"
      },
      "source": [
        "# Udregn determinanten af en matrix med NumPy:\n",
        "matrix_22 = np.asarray([\n",
        "[8, 4],\n",
        "[4, 2]\n",
        "])\n",
        "det_22 = np.linalg.det(matrix_22)"
      ],
      "execution_count": null,
      "outputs": []
    },
    {
      "cell_type": "markdown",
      "metadata": {
        "id": "ghXT9Ci8JYnt"
      },
      "source": [
        "##### **Hovedkoncepter**\n",
        "* Mange operationer, der kan udføres på vektorer, kan også udføres på matricer. Vi kan udføre følgende operationer med matricer:\n",
        "  * Tilføje og fratrække matricer, der indeholder den samme mængde rækker og kolonner.\n",
        "  * Multiplicere en matrix med en skalær værdi.\n",
        "  * Multiplicere en matrix med en vektor og andre matricer. For at multiplicere med en vektor eller en anden matrix, skal antallet af kolonner matche med antallet af rækker in vektoren eller matricen. \n",
        "* At transponere en matrix, vender rundt på rækker og kolonner i en matrix. Matematisk, kan vi benytte notationen $A^T$ til at specificere transponeringsoperationen. \n",
        "* Identitetsmatricen ineholder værdien $1$ på diagonalen, og værdien $0$ på de resterende positioner. Identitetsmatricen er ofte repræsenteret ved $I_n$ hvor $n$ er antallet af rækker og kolonner. \n",
        "* når vi multiplicerer med en vilkårlig vektor indeholdende 2 elementer, vil den resulterende vektor matche originale vektor fuldstændig.  \n",
        "* For at transformere $A$ til en identitetsmatrice $I$ i $A\\vec{x} = \\overrightarrow{b}$, multiplicerer vi begge sider med det inverse af matrix $A$. \n",
        "* Det inverse af en 2x2 matrix kan findes ved at bruge følgende formel: \n",
        "  * $ A = \n",
        "  \\begin{bmatrix}\n",
        "    a & b\\\\\n",
        "    c & d \\\\\n",
        "  \\end{bmatrix}$\n",
        "så $A^{-1} = \\frac{1}{ad-bc}\\begin{bmatrix}\n",
        "    d & -b\\\\\n",
        "    -c & a \\\\\n",
        "  \\end{bmatrix}$\n",
        "* Hvis determinanten a en 2x2 matrix, eller $ad-bc$ er lig med 0, er matricen **ikke** inverterbar. Man kan udelukkende udregne determinanten og den inverse matrice for matricer der har den samme mængde rækker og kolonner. \n",
        "* for at udregne determinanten for andre 2x2 matricer, kan vi opdele den fulde matrice ud til mindre matricer. \n"
      ]
    }
  ]
}