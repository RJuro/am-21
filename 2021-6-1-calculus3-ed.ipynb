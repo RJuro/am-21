{
  "nbformat": 4,
  "nbformat_minor": 0,
  "metadata": {
    "colab": {
      "name": "Calculus, del 3, Ekstreme punkter-s",
      "provenance": [],
      "collapsed_sections": [],
      "include_colab_link": true
    },
    "kernelspec": {
      "name": "python3",
      "display_name": "Python 3"
    },
    "language_info": {
      "name": "python"
    }
  },
  "cells": [
    {
      "cell_type": "markdown",
      "metadata": {
        "id": "view-in-github",
        "colab_type": "text"
      },
      "source": [
        "<a href=\"https://colab.research.google.com/github/RJuro/am-21/blob/main/2021-6-1-calculus3-ed.ipynb\" target=\"_parent\"><img src=\"https://colab.research.google.com/assets/colab-badge.svg\" alt=\"Open In Colab\"/></a>"
      ]
    },
    {
      "cell_type": "markdown",
      "metadata": {
        "id": "3U5glBgL3iJ7"
      },
      "source": [
        "##Recap - Beregning og plot af tangente\n",
        "\n",
        "Hvordan beregner og plotter vi (med de værktæjer vi har indtil videre) tangenten for $x_0 = 0.5$ ?"
      ]
    },
    {
      "cell_type": "code",
      "metadata": {
        "colab": {
          "base_uri": "https://localhost:8080/",
          "height": 282
        },
        "id": "3WOv0QwO3sj-",
        "outputId": "c3161091-68ae-41fc-8612-c9eb244929ab"
      },
      "source": [
        "# Vores funktion som plot - same same...\n",
        "\n",
        "import numpy as np\n",
        "import matplotlib.pyplot as plt\n",
        "\n",
        "x = np.linspace(0, 3, num=100)\n",
        "y = -(x**2)+3*x-1\n",
        "\n",
        "plt.plot(x,y)\n",
        "plt.plot(0.5, 0.25, 'x', color='red')"
      ],
      "execution_count": 18,
      "outputs": [
        {
          "output_type": "execute_result",
          "data": {
            "text/plain": [
              "[<matplotlib.lines.Line2D at 0x7f1349829190>]"
            ]
          },
          "metadata": {
            "tags": []
          },
          "execution_count": 18
        },
        {
          "output_type": "display_data",
          "data": {
            "image/png": "[encoded data removed]",
            "text/plain": [
              "<Figure size 432x288 with 1 Axes>"
            ]
          },
          "metadata": {
            "tags": [],
            "needs_background": "light"
          }
        }
      ]
    },
    {
      "cell_type": "code",
      "metadata": {
        "colab": {
          "base_uri": "https://localhost:8080/"
        },
        "id": "ozxPlTm23y8v",
        "outputId": "ab28c1a7-035f-4748-e8e7-01c56ed5fb5b"
      },
      "source": [
        "# 1. bregening af y0\n",
        "x0 = 0.5\n",
        "\n",
        "y0 = -(x0**2)+3*x0-1\n",
        "\n",
        "print(y0)"
      ],
      "execution_count": 3,
      "outputs": [
        {
          "output_type": "stream",
          "text": [
            "0.25\n"
          ],
          "name": "stdout"
        }
      ]
    },
    {
      "cell_type": "markdown",
      "metadata": {
        "id": "TWTtS_aK4qep"
      },
      "source": [
        " Husk at vi kan beregne hældning i $x_0$ \n",
        " \n",
        " $$a_s=\\frac{y_2-y_1}{x_2-x_1}=\\frac{f(x_0+h)-f(x_0)}{(x_0+h)-x_0}=\\frac{f(x_0+h)-f(x_0)}{h}$$\n",
        "\n",
        " eller\n",
        "\n",
        " $$a_s=\\frac{\\Delta y}{h}=\\frac{f(x_0+h)-f(x_0)}{h}$$"
      ]
    },
    {
      "cell_type": "code",
      "metadata": {
        "id": "6Cj4OboF4Vjd"
      },
      "source": [
        "# opstilling af differenskvotient\n",
        "\n",
        "from sympy import *\n",
        "\n",
        "x0, h = symbols('x0, h')\n",
        "\n",
        "f_x0 = -(x0**2)+3*x0-1\n",
        "\n",
        "f_x0h = f_x0.subs(x0, x0+h)"
      ],
      "execution_count": 4,
      "outputs": []
    },
    {
      "cell_type": "code",
      "metadata": {
        "colab": {
          "base_uri": "https://localhost:8080/",
          "height": 38
        },
        "id": "8U-P3eFH5d_Z",
        "outputId": "e422f176-1b96-487a-ea4a-af9e3d69fded"
      },
      "source": [
        "f_x0"
      ],
      "execution_count": 5,
      "outputs": [
        {
          "output_type": "execute_result",
          "data": {
            "text/latex": "$\\displaystyle - x_{0}^{2} + 3 x_{0} - 1$",
            "text/plain": [
              "-x0**2 + 3*x0 - 1"
            ]
          },
          "metadata": {
            "tags": []
          },
          "execution_count": 5
        }
      ]
    },
    {
      "cell_type": "code",
      "metadata": {
        "colab": {
          "base_uri": "https://localhost:8080/",
          "height": 39
        },
        "id": "0-83fxZM5g23",
        "outputId": "7d4cf09c-d8f2-4cc0-da51-5288edea250e"
      },
      "source": [
        "f_x0h"
      ],
      "execution_count": 6,
      "outputs": [
        {
          "output_type": "execute_result",
          "data": {
            "text/latex": "$\\displaystyle 3 h + 3 x_{0} - \\left(h + x_{0}\\right)^{2} - 1$",
            "text/plain": [
              "3*h + 3*x0 - (h + x0)**2 - 1"
            ]
          },
          "metadata": {
            "tags": []
          },
          "execution_count": 6
        }
      ]
    },
    {
      "cell_type": "code",
      "metadata": {
        "id": "O8vWHmA55nMj"
      },
      "source": [
        "# vi bruger lige m ikke, a_s\n",
        "m = (f_x0h-f_x0)/h"
      ],
      "execution_count": 7,
      "outputs": []
    },
    {
      "cell_type": "code",
      "metadata": {
        "colab": {
          "base_uri": "https://localhost:8080/",
          "height": 56
        },
        "id": "jag_VPEG5yRR",
        "outputId": "d7038329-b1ad-4982-abc2-150d76d340de"
      },
      "source": [
        "m"
      ],
      "execution_count": 8,
      "outputs": [
        {
          "output_type": "execute_result",
          "data": {
            "text/latex": "$\\displaystyle \\frac{3 h + x_{0}^{2} - \\left(h + x_{0}\\right)^{2}}{h}$",
            "text/plain": [
              "(3*h + x0**2 - (h + x0)**2)/h"
            ]
          },
          "metadata": {
            "tags": []
          },
          "execution_count": 8
        }
      ]
    },
    {
      "cell_type": "code",
      "metadata": {
        "colab": {
          "base_uri": "https://localhost:8080/",
          "height": 38
        },
        "id": "B836eWFldo7k",
        "outputId": "8c213024-18e4-42f4-96e4-00473ab52553"
      },
      "source": [
        "# træk h udenfor parantes. OK! :-)\n",
        "factor(f_x0h-f_x0)"
      ],
      "execution_count": 9,
      "outputs": [
        {
          "output_type": "execute_result",
          "data": {
            "text/latex": "$\\displaystyle - h \\left(h + 2 x_{0} - 3\\right)$",
            "text/plain": [
              "-h*(h + 2*x0 - 3)"
            ]
          },
          "metadata": {
            "tags": []
          },
          "execution_count": 9
        }
      ]
    },
    {
      "cell_type": "code",
      "metadata": {
        "colab": {
          "base_uri": "https://localhost:8080/",
          "height": 38
        },
        "id": "g8BnHi5weNq7",
        "outputId": "baffc053-e0dd-4b64-dfae-3faf92396f43"
      },
      "source": [
        "# eller med hele differenskvotient\n",
        "factor(m)"
      ],
      "execution_count": 10,
      "outputs": [
        {
          "output_type": "execute_result",
          "data": {
            "text/latex": "$\\displaystyle - h - 2 x_{0} + 3$",
            "text/plain": [
              "-h - 2*x0 + 3"
            ]
          },
          "metadata": {
            "tags": []
          },
          "execution_count": 10
        }
      ]
    },
    {
      "cell_type": "code",
      "metadata": {
        "id": "IaSVcXfm5kHM"
      },
      "source": [
        "# eller: brug grænseværdi udregning direkte\n",
        "\n",
        "m_x0 = limit(m, h, 0)"
      ],
      "execution_count": 11,
      "outputs": []
    },
    {
      "cell_type": "code",
      "metadata": {
        "colab": {
          "base_uri": "https://localhost:8080/",
          "height": 38
        },
        "id": "zpMFQBk855yB",
        "outputId": "90ec1495-ca0d-4435-c6d0-afcebb8c4366"
      },
      "source": [
        "m_x0"
      ],
      "execution_count": 12,
      "outputs": [
        {
          "output_type": "execute_result",
          "data": {
            "text/latex": "$\\displaystyle 3 - 2 x_{0}$",
            "text/plain": [
              "3 - 2*x0"
            ]
          },
          "metadata": {
            "tags": []
          },
          "execution_count": 12
        }
      ]
    },
    {
      "cell_type": "code",
      "metadata": {
        "colab": {
          "base_uri": "https://localhost:8080/",
          "height": 37
        },
        "id": "8VyoYhA959e3",
        "outputId": "d061c8cb-cb0e-4660-a63b-bb8a0ad7aa2a"
      },
      "source": [
        "m_x0.subs(x0, 0.5)"
      ],
      "execution_count": 13,
      "outputs": [
        {
          "output_type": "execute_result",
          "data": {
            "text/latex": "$\\displaystyle 2.0$",
            "text/plain": [
              "2.00000000000000"
            ]
          },
          "metadata": {
            "tags": []
          },
          "execution_count": 13
        }
      ]
    },
    {
      "cell_type": "code",
      "metadata": {
        "colab": {
          "base_uri": "https://localhost:8080/"
        },
        "id": "GiwJ4Ebu6Nx1",
        "outputId": "e7b53222-6123-445d-8c45-f3a441c89737"
      },
      "source": [
        "# tangent - super almindlig linear funktion fx: t = mx + b; Vi kan indsætte fo x0 og y0\n",
        "\n",
        "# 0.25 = 2*0.5 + b\n",
        "\n",
        "b = 0.25 - 2*0.5\n",
        "print(b)"
      ],
      "execution_count": 14,
      "outputs": [
        {
          "output_type": "stream",
          "text": [
            "-0.75\n"
          ],
          "name": "stdout"
        }
      ]
    },
    {
      "cell_type": "markdown",
      "metadata": {
        "id": "AXfeZIWb67YK"
      },
      "source": [
        "Dermed er vores tangent i $x_0:$ $t = 2x - 0.75$ og nu kan vi også plotte det"
      ]
    },
    {
      "cell_type": "code",
      "metadata": {
        "colab": {
          "base_uri": "https://localhost:8080/",
          "height": 282
        },
        "id": "LFQrMG8D66o3",
        "outputId": "661c4f62-ca03-43e4-b8a6-a77ac2ac2fb8"
      },
      "source": [
        "x = np.linspace(0, 3, num=100)\n",
        "y = -(x**2)+3*x-1\n",
        "\n",
        "plt.plot(x,y)\n",
        "\n",
        "t = 2*x - 0.75\n",
        "\n",
        "plt.plot(x,t, color='green')"
      ],
      "execution_count": 15,
      "outputs": [
        {
          "output_type": "execute_result",
          "data": {
            "text/plain": [
              "[<matplotlib.lines.Line2D at 0x7f134e1f7810>]"
            ]
          },
          "metadata": {
            "tags": []
          },
          "execution_count": 15
        },
        {
          "output_type": "display_data",
          "data": {
            "image/png": "[encoded data removed]",
            "text/plain": [
              "<Figure size 432x288 with 1 Axes>"
            ]
          },
          "metadata": {
            "tags": [],
            "needs_background": "light"
          }
        }
      ]
    },
    {
      "cell_type": "markdown",
      "metadata": {
        "id": "JAMXm8tHdJLO"
      },
      "source": [
        "### Calculus - Part 3 - Ekstreme punkter\n",
        "####Del 3.1\n",
        "\n",
        "I den sidste session lærte vi, hvordan man bruger grænseværdier til at beregne det punkt, en funktion nærmer sig, når inputværdien nærmer sig en bestemt værdi. Vi anvendte denne teknik til at beregne hældningen af tangentlinjen på et bestemt punkt på vores ikke-lineære funktion: $y=-(x^2)+3x-1$. Hvis I husker fra den første calculus session, er vi interesseret i at finde det højeste punkt på denne kurve.\n",
        "\n",
        "Hvis du nogensinde har vandret ud bjergene, vil du hvordan stien skråner op, indtil man når toppen. Når du først er på toppen, går alle stierne tilbage ned ad skråningen. At forstå, hvordan hældningen varierer i forskellige dele af en kurve, giver en nyttig synsvinkel til at bestemmelse det maksimale punkt på en kurve.\n",
        "\n",
        "Vi starter med at opbygge en visuel intuition til, hvordan en funktions hældning og dens maksimale punkt er relateret. På billedet nedenfor har vi genereret to plot. Som $x$ varierer, visualiserer plottet til venstre, **hvordan tangentlinjen for kurven ændres**, mens plottet til højre visualiserer, **hvordan hældningen af denne tangentlinje ændres**."
      ]
    },
    {
      "cell_type": "code",
      "metadata": {
        "id": "diC0LfgFl3nB",
        "colab": {
          "base_uri": "https://localhost:8080/",
          "height": 523
        },
        "outputId": "08779bdc-bf0a-4185-b0fa-37862f1e848b"
      },
      "source": [
        "import IPython\n",
        "iframe = '<iframe src=\"https://www.desmos.com/calculator/kxlspqhjaj\" width=\"1000px\" height=\"500px\" style=\"border: 1px solid #ccc\" frameborder=0></iframe>'\n",
        "IPython.display.HTML(iframe)\n"
      ],
      "execution_count": null,
      "outputs": [
        {
          "output_type": "execute_result",
          "data": {
            "text/html": [
              "<iframe src=\"https://www.desmos.com/calculator/kxlspqhjaj\" width=\"1000px\" height=\"500px\" style=\"border: 1px solid #ccc\" frameborder=0></iframe>"
            ],
            "text/plain": [
              "<IPython.core.display.HTML object>"
            ]
          },
          "metadata": {
            "tags": []
          },
          "execution_count": 13
        }
      ]
    },
    {
      "cell_type": "markdown",
      "metadata": {
        "id": "AC1eW3O4l3IW"
      },
      "source": [
        "#### Del 3.2\n",
        "Når $x$ er mindre end $1.5$, er hældningen positiv. Som $x$ nærmer sig $1.5$ fra venstre side falder hældningen og nærmer sig $0$. Ved $x=1.5$, er hældningen af tangentlinjen nøjagtigt 0. Når vi hæver $x$ forbi $1.5$ bliver tangentlinjens hældning mere og mere negativ. Det højeste punkt på vores kurve fungerer som en slags overgangspunkt fra positiv hældning til negativ hældning. Vi diskuterer dette nærmere senere i denne mission. \n",
        "\n",
        "Ved at plotte m-værdiene for mange forskellige $x$ værdier, kan vi se, at de følger en lige linje. Denne linje kan beskrives som sin egen funktion og er kendt som **afledede funktion**. En funktions afledete kan fortælle os hældningen af tangentlinjen for enhver $x$ værdi langs funktionen."
      ]
    },
    {
      "cell_type": "code",
      "metadata": {
        "colab": {
          "base_uri": "https://localhost:8080/",
          "height": 523
        },
        "id": "fl_xYl6o-4rO",
        "outputId": "c5db4004-87e5-4702-bcfe-f3cfd3d38406"
      },
      "source": [
        "iframe = '<iframe src=\"https://www.desmos.com/calculator/mqxu3c6nrf\" width=\"1000px\" height=\"500px\" style=\"border: 1px solid #ccc\" frameborder=0></iframe>'\n",
        "IPython.display.HTML(iframe)\n",
        "\n"
      ],
      "execution_count": null,
      "outputs": [
        {
          "output_type": "execute_result",
          "data": {
            "text/html": [
              "<iframe src=\"https://www.desmos.com/calculator/mqxu3c6nrf\" width=\"1000px\" height=\"500px\" style=\"border: 1px solid #ccc\" frameborder=0></iframe>"
            ],
            "text/plain": [
              "<IPython.core.display.HTML object>"
            ]
          },
          "metadata": {
            "tags": []
          },
          "execution_count": 14
        }
      ]
    },
    {
      "cell_type": "markdown",
      "metadata": {
        "id": "nk1yvMr8nN_l"
      },
      "source": [
        "Indtil videre har vi løst hældningen på bestemte punkter ved at indsætte den specifikke $x$ værdi i hældningsligningen som udtrykt af grænseværdien. For at finde den generelle funktion, der beskriver hældningen til enhver tid, skal vi løse grænseværdien ved hjælp af den oprindelige variabel i stedet for at erstatte med en bestemt $x$ værdi.\n",
        "\n",
        "Lad os først starte med at omskrive hældningsligningen til den mere almindelige form. I stedet for at bruge $x_1$ og $x_2$ i hældningsligningen, bruger vi $x$ og $x + h$. Denne version af hældningsligningen er, hvordan de fleste lærebøger og ressourcer henviser til hældning:\n",
        "\n",
        "$$\\lim_{h \\to 0} \\frac{f(x + h) - f(x)}{h}$$\n",
        "\n",
        "I denne form repræsenterer $h$ afstanden mellem 2 punkter: $x$ og $h$. Hældningen er værdien, grænsen nærmer sig, som $h$ nærmer sig $0$. Observer den følgende visualisering, for at få en bedre forståelse for denne form for hældning. I næste afsnit kigger vi mere på at finde den afledede funktion. "
      ]
    },
    {
      "cell_type": "markdown",
      "metadata": {
        "id": "u6lX4kCyof3-"
      },
      "source": [
        "#### Del 3.3\n",
        "Processen med at finde en funktions afledede funktion er kendt som **differentiering**. I stedet for at vælge en bestemt $x$ værdi, efterlader vi $x$ hvor det er, og udvider ligningen for at løse for den afledede. Ved at indsætte $f(x) = x(x)^2 + 3x -1$, bliver det hele til: \n",
        "\n",
        "$\\lim_{h \\to 0} \\frac{(-(x + h)^2 + 3(x + h) - 1) - (-(x)^2 + 3x - 1)}{h}$\n",
        "\n",
        "Hvis vi fortsætter med at udvide ligningen til individuelle udtryk, får vi:\n",
        "\n",
        "$\\lim_{h \\to 0} \\frac{-x^2 - 2xh - h^2 +3x + 3h - 1 + x^2 - 3x + 1}{h}$\n",
        "\n",
        "Efter at annullere modsatte udtryk får vi følgende ligning:\n",
        "\n",
        "$\\lim_{h \\to 0} \\frac{-2xh - h^2 + 3h}{h}$\n",
        "\n",
        "Når vi fraregner $h$ i alle udtryk i tælleren og nævneren, får vi:\n",
        "\n",
        "$\\lim_{h \\to 0} \\frac{h(-2x - h + 3)}{h}$\n",
        "\n",
        "Hvis vi annullerer $h$ på både tælleren og nævneren får vi en defineret grænseværdi.\n",
        "\n",
        "$\\lim_{h \\to 0} -2x - h + 3$\n",
        "\n",
        "Vi kan nu løse i det sidste trin ved at indsætte, som vi så i den sidste session. Bemærk, at resultatet af denne grænseværdi ikke vil være en enkelt værdi, men i stedet en ny funktion.\n",
        "\n",
        "\n"
      ]
    },
    {
      "cell_type": "markdown",
      "metadata": {
        "id": "SdTpB5r2VCeJ"
      },
      "source": [
        "Bare en kort gennemgang (ikke noget nyt) af hvordan man kan gøre det i Sympy"
      ]
    },
    {
      "cell_type": "code",
      "metadata": {
        "colab": {
          "base_uri": "https://localhost:8080/",
          "height": 38
        },
        "id": "frA_xs57TF4t",
        "outputId": "adf9c4d0-2264-40e3-bbcd-1f431d5edf7d"
      },
      "source": [
        "# fra tangent-eksempel\n",
        "f_x0"
      ],
      "execution_count": 19,
      "outputs": [
        {
          "output_type": "execute_result",
          "data": {
            "text/latex": "$\\displaystyle - x_{0}^{2} + 3 x_{0} - 1$",
            "text/plain": [
              "-x0**2 + 3*x0 - 1"
            ]
          },
          "metadata": {
            "tags": []
          },
          "execution_count": 19
        }
      ]
    },
    {
      "cell_type": "code",
      "metadata": {
        "colab": {
          "base_uri": "https://localhost:8080/",
          "height": 39
        },
        "id": "puqbZISpUayd",
        "outputId": "2bbecc9f-7235-42a8-f056-7bdffd7fc780"
      },
      "source": [
        "f_x0h"
      ],
      "execution_count": 20,
      "outputs": [
        {
          "output_type": "execute_result",
          "data": {
            "text/latex": "$\\displaystyle 3 h + 3 x_{0} - \\left(h + x_{0}\\right)^{2} - 1$",
            "text/plain": [
              "3*h + 3*x0 - (h + x0)**2 - 1"
            ]
          },
          "metadata": {
            "tags": []
          },
          "execution_count": 20
        }
      ]
    },
    {
      "cell_type": "code",
      "metadata": {
        "colab": {
          "base_uri": "https://localhost:8080/",
          "height": 56
        },
        "id": "Ld8FAH7TU4Js",
        "outputId": "7947826f-b237-4174-f516-17c8003a5e7c"
      },
      "source": [
        "# m = (f_x0h-f_x0)/h\n",
        "m"
      ],
      "execution_count": 23,
      "outputs": [
        {
          "output_type": "execute_result",
          "data": {
            "text/latex": "$\\displaystyle \\frac{3 h + x_{0}^{2} - \\left(h + x_{0}\\right)^{2}}{h}$",
            "text/plain": [
              "(3*h + x0**2 - (h + x0)**2)/h"
            ]
          },
          "metadata": {
            "tags": []
          },
          "execution_count": 23
        }
      ]
    },
    {
      "cell_type": "code",
      "metadata": {
        "colab": {
          "base_uri": "https://localhost:8080/",
          "height": 38
        },
        "id": "O3n5P6beUcZa",
        "outputId": "3830329b-324c-495a-d107-842d28738374"
      },
      "source": [
        "m.simplify()"
      ],
      "execution_count": 25,
      "outputs": [
        {
          "output_type": "execute_result",
          "data": {
            "text/latex": "$\\displaystyle - h - 2 x_{0} + 3$",
            "text/plain": [
              "-h - 2*x0 + 3"
            ]
          },
          "metadata": {
            "tags": []
          },
          "execution_count": 25
        }
      ]
    },
    {
      "cell_type": "markdown",
      "metadata": {
        "id": "2vP9fOOoqOe9"
      },
      "source": [
        "**Øvelse:**\n",
        "\n",
        "* Forenkl ligningen ved at idsætte direkte for at løse grænsenværdien.\n",
        "\n",
        "* Brug numpy.linspace() til at generere **110** værdier fra **-5** til **6** og gem det som **x**.\n",
        "* Transformer **x** ved hjælp af ligningen, du lige har løst, og dem i **y**.\n",
        "* Generer et linjediagram af **x** og **y**.\n",
        "\n"
      ]
    },
    {
      "cell_type": "code",
      "metadata": {
        "id": "8qWBCN8nbVw8",
        "colab": {
          "base_uri": "https://localhost:8080/",
          "height": 282
        },
        "outputId": "9fd940d9-94cb-47b1-fbc7-bcbbf64b1b65"
      },
      "source": [
        "import matplotlib.pyplot as plt\n",
        "import numpy as np\n",
        "\n",
        "x = np.linspace(-5, 6, 110)\n",
        "y = -2*x+3\n",
        "plt.plot(x,y)"
      ],
      "execution_count": 27,
      "outputs": [
        {
          "output_type": "execute_result",
          "data": {
            "text/plain": [
              "[<matplotlib.lines.Line2D at 0x7f1349735c50>]"
            ]
          },
          "metadata": {
            "tags": []
          },
          "execution_count": 27
        },
        {
          "output_type": "display_data",
          "data": {
            "image/png": "[encoded data removed]",
            "text/plain": [
              "<Figure size 432x288 with 1 Axes>"
            ]
          },
          "metadata": {
            "tags": [],
            "needs_background": "light"
          }
        }
      ]
    },
    {
      "cell_type": "markdown",
      "metadata": {
        "id": "zL8TJldtqpMw"
      },
      "source": [
        "#### Del 3.4\n",
        "Linjeplottet, vi lige lavede  matcher det set tidligere, der visualiserer, hvordan hældningen ændrer sig for forskellige $x$ værdier. Vi bruger følgende notation til at specificere at $-2x +3$ er vores kurves afledede:\n",
        "\n",
        "$y' = -2x + 3$\n",
        "\n",
        "Det følgende er en alternativ form for at skriver det, som gør det klart, at det afledede af $y$ er en funktion af $x$:\n",
        "\n",
        "$f'(x) = -2x + 3$\n",
        "\n",
        "Den sidste almindelige notation er følgende, som kan læses som \"aflede ift. x er\":\n",
        "\n",
        "$\\frac{d}{dx}[ -x^2 + 3x - 1 ] =  -2x + 3$\n",
        "\n",
        "Tidligere så vi, hvordan hældningen ved $x = 1,5$ var $0$ og fungerede som et overgangspunkt fra positiv hældning til negativ hældning. Dette er formelt kendt som et **kritisk punkt**. På en funktions kritiske punkt er hældningen enten 0 eller udefineret. Ikke alle kritiske punkter fungerer dog som overgangspunkter for hældninger. Det følgende billede visualiserer hældningen for $y = x^3$ og giver mulighed at undersøge, hvordan hældningen ændres før og efter det kritiske punkt. I kan se, hvordan hældningen forbliver positiv før og efter det kritiske punkt.\n"
      ]
    },
    {
      "cell_type": "code",
      "metadata": {
        "id": "n6mDauBHsLS5",
        "colab": {
          "base_uri": "https://localhost:8080/",
          "height": 523
        },
        "outputId": "9eca5452-b466-42a2-ffe0-7892d9c1ec33"
      },
      "source": [
        "iframe = '<iframe src=\"https://www.desmos.com/calculator/8jtzsafbsz\" width=\"1000px\" height=\"500px\" style=\"border: 1px solid #ccc\" frameborder=0></iframe>'\n",
        "IPython.display.HTML(iframe)"
      ],
      "execution_count": null,
      "outputs": [
        {
          "output_type": "execute_result",
          "data": {
            "text/html": [
              "<iframe src=\"https://www.desmos.com/calculator/8jtzsafbsz\" width=\"1000px\" height=\"500px\" style=\"border: 1px solid #ccc\" frameborder=0></iframe>"
            ],
            "text/plain": [
              "<IPython.core.display.HTML object>"
            ]
          },
          "metadata": {
            "tags": []
          },
          "execution_count": 29
        }
      ]
    },
    {
      "cell_type": "markdown",
      "metadata": {
        "id": "igsrBvUCsLc6"
      },
      "source": [
        "#### Del 3.5\n",
        "Vi kan se hvordan hældningen ikke skifteder fra positiv til negativ på det kritiske punkt. Kritiske punkter er interessante for os, når de repræsenterer **ekstreme værdier**. Ekstreme værdier kan opdeles i 2 kategorier - minimum og maksimum. Som vi så i starten af dorelæsningen, kan et kritisk punkt være en minimumsværdi, hvis hældningen går fra negativ til positiv på det tidspunkt. Når hældningen overgår fra positiv til negativ på et punkt, kan det være en maksimal værdi. Hvis hældningen ikke \"skifter\" fortegn på et kritisk punkt, som ved $x = 0$ for $y = x^3$ i det sidste billede, kan det ikke være et minimum eller et maksimalt punkt.\n",
        "\n",
        "En kurve kan have flere kritiske punkter og flere kandidater til minimums- og maksimumværdier. Den følgende kurve har 4 kritiske punkter, og alle 4 opfylder kriterierne for overgang af hældning fra positiv til negativ eller negativ til positiv. Lokale minima er tegnet ind.\n",
        "\n"
      ]
    },
    {
      "cell_type": "code",
      "metadata": {
        "id": "5vAfUlJMsjCz",
        "colab": {
          "base_uri": "https://localhost:8080/",
          "height": 265
        },
        "outputId": "819f7d15-21b4-4540-aa59-2a4f3a278928"
      },
      "source": [
        "# !!!OBS!!!: avanceret kode og matematik bare til visualisering - ikke relevant / ikke del af pensum\n",
        "\n",
        "import numpy as np\n",
        "from matplotlib.pyplot import *\n",
        "\n",
        "# define polynomial function\n",
        "c = np.poly1d([2,-4,-28,62,122,-256,-196,140,392,240,72])\n",
        "\n",
        "crit = c.deriv().r\n",
        "r_crit = crit[crit.imag==0].real\n",
        "test = c.deriv(2)(r_crit) \n",
        "\n",
        "\n",
        "# compute local minima \n",
        "# excluding range boundaries\n",
        "x_min = r_crit[test>0]\n",
        "y_min = c(x_min)\n",
        "plot( x_min, y_min, 'o' )\n",
        "\n",
        "xc = np.arange(-2.5, 2.6, 0.02)\n",
        "yc = c(xc)\n",
        "plot( xc, yc)\n",
        "\n",
        "xlim([-2.5,2.5])\n",
        "show()"
      ],
      "execution_count": 28,
      "outputs": [
        {
          "output_type": "display_data",
          "data": {
            "image/png": "[encoded data removed]",
            "text/plain": [
              "<Figure size 432x288 with 1 Axes>"
            ]
          },
          "metadata": {
            "tags": [],
            "needs_background": "light"
          }
        }
      ]
    },
    {
      "cell_type": "markdown",
      "metadata": {
        "id": "luC5LDQ0sjH0"
      },
      "source": [
        "Disse værdier er kendt som lokale ekstrema, da de er den laveste eller højeste værdi i intervallet omkring hvert punkt. Hvis et kritisk punkt er det laveste punkt i intervallet omkring det, er det kendt som et **relativt minimum**. Hvis det er det højeste punkt i kvarteret, er det kendt som et **relativt maksimum**."
      ]
    },
    {
      "cell_type": "markdown",
      "metadata": {
        "id": "KbEJlEAWsvSv"
      },
      "source": [
        "Vi ved, at relative minimum og maksimum kan forekomme, når hældningen er $0$. Derfor kan vi finde kritiske punkter ved hjælp af aritmetik (i stedet for kun at stole på grafen). For at beregne det kritiske punkt for vores oprindelige kurve skal vi sætte vores aflede funktion = $0$ og løse for $x$.\n",
        "\n",
        "$-2x + 3 = 0$\n",
        "\n",
        "Efter at have flyttet $-2x$ til højre og delt begge sider med $2$, får vi:\n",
        "\n",
        "$x = 1.5$\n",
        "\n",
        "Dette matcher den værdi, vi observerede visuelt i første calculus forelæsning. Da denne kurve kun havde 1 kritisk punkt, og hældningen overgik fra positiv til negativ, kan vi med sikkerhed sige, at dette er et relativt maksimum."
      ]
    },
    {
      "cell_type": "markdown",
      "metadata": {
        "id": "tGVK881dtK_B"
      },
      "source": [
        "#### Del 3.6\n",
        "Vi beregnede afledede for vores kurve ved hjælp af en grænseværdi og udregning med aritmetikken. Vi sætter derefter den afledede funktion til 0 og beregner de kritiske punkter. Tilgangen kældes også for \"tretrinsreglen\". Denne tilgang er nok ikke den bedste for mere komplekse funktioner som $y = x^5 − x$, fordi vi bliver nødt til at erstatte $x$ med $x + h$ og udvide eksponenten $(x+h)^5$:\n",
        "\n",
        "$$f'(x) = \\lim_{h \\to 0} \\frac{((x + h)^5 - (x + h)) - (x^5 - x) }{h}$$\n",
        "\n",
        "Vi kan i stedet bruge nogle regler for at differentiere. Disse regler har beviser som hænger sammen med vores tidligere tilgang, der ligger uden for pensum, men i kan selv søge yderligere information efter behov f.eks. [her](https://tutorial.math.lamar.edu/classes/calci/DerivativeProofs.aspx)\n",
        "\n",
        "Den første regel, vi introducerer er det der hedder *power rule* på engelsk (tror ikke der er navne til enkelte regler på dansk), som hjælper os med at tage aflededed funktioner med eksponenter.\n",
        "\n",
        "$f'(x) = r x^{r-1}$\n",
        "\n",
        "Hvis vores oprindelige funktion var $f(x) = x^2$, ville $r$ være $2$. Den afledede ville være $f'(x) = 2x^{2-1}$ eller $f'(x) = 2x$ kort. Funktionen for vores oprindelige kurve er en lignende værdi $(-x^2)$ tilføjet til $3x-1$:\n",
        "\n",
        "$f(x) = -(x)^2 + 3x - 1$\n",
        "\n",
        "Når vi beregner afledede af en funktion, beregner og løser vi i virkeligheden en grænseværdi. Vi kan bruge egenskaberne for grænseværdier til at nedbryde funktionen i 3 forskellige differentialer. Vi kan derefter anvende reglen på hver komponent:\n",
        "\n",
        "$f'(x) = -2x + 3$\n",
        "\n",
        "Dette matcher den afledede funktion, vi har beregnet manuelt ved hjælp af grænseværdier. Lad os øve at anvende reglen på nogle flere funktioner.\n"
      ]
    },
    {
      "cell_type": "markdown",
      "metadata": {
        "id": "OiMPiKHxwDkj"
      },
      "source": [
        "**Øvelse:**\n",
        "* Beregn den afledede af $f(x) = x^5$ ved hjælp af blyant og papir (? eller bare i hoved). Brug den den afledede til at udregne hældningen ved $x = 2$ og gem som **slope_one**.\n",
        "\n",
        "* Beregn den afledede af $f(x) = x^9$ ved hjælp af blyant og papir. Brug den afledede funktion til at udregne hældningen ved $x = 0$ og gem som **slope_two**.\n"
      ]
    },
    {
      "cell_type": "code",
      "metadata": {
        "id": "MQcoIfycwvSO",
        "colab": {
          "base_uri": "https://localhost:8080/"
        },
        "outputId": "6ea0ae48-591c-43d1-d8da-e6184068a1af"
      },
      "source": [
        "derivative_one = \"5x**4\"\n",
        "derivative_two = \"9x**8\"\n",
        "\n",
        "slope_one = 5*2**4\n",
        "slope_two = 9*0**8\n",
        "\n",
        "print(slope_one)\n",
        "print(slope_two)"
      ],
      "execution_count": 30,
      "outputs": [
        {
          "output_type": "stream",
          "text": [
            "80\n",
            "0\n"
          ],
          "name": "stdout"
        }
      ]
    },
    {
      "cell_type": "code",
      "metadata": {
        "id": "sULNJp501LwJ"
      },
      "source": [
        "# beregning i sympy\n",
        "\n",
        "x = symbols('x')\n",
        "\n",
        "f1 = x**5\n",
        "f2 = x**9"
      ],
      "execution_count": 31,
      "outputs": []
    },
    {
      "cell_type": "code",
      "metadata": {
        "colab": {
          "base_uri": "https://localhost:8080/",
          "height": 38
        },
        "id": "FtFO6iXMsEWh",
        "outputId": "bb45cda8-9b5b-43de-9ef6-ff57e2459512"
      },
      "source": [
        "derivative_one = diff(f1)\n",
        "derivative_one"
      ],
      "execution_count": 35,
      "outputs": [
        {
          "output_type": "execute_result",
          "data": {
            "text/latex": "$\\displaystyle 5 x^{4}$",
            "text/plain": [
              "5*x**4"
            ]
          },
          "metadata": {
            "tags": []
          },
          "execution_count": 35
        }
      ]
    },
    {
      "cell_type": "code",
      "metadata": {
        "colab": {
          "base_uri": "https://localhost:8080/",
          "height": 38
        },
        "id": "ukxyVpuosRPg",
        "outputId": "06550367-1103-4272-b46c-b293da875055"
      },
      "source": [
        "derivative_two = diff(f2)\n",
        "derivative_two"
      ],
      "execution_count": 36,
      "outputs": [
        {
          "output_type": "execute_result",
          "data": {
            "text/latex": "$\\displaystyle 9 x^{8}$",
            "text/plain": [
              "9*x**8"
            ]
          },
          "metadata": {
            "tags": []
          },
          "execution_count": 36
        }
      ]
    },
    {
      "cell_type": "code",
      "metadata": {
        "colab": {
          "base_uri": "https://localhost:8080/",
          "height": 37
        },
        "id": "q1DWwTpesagt",
        "outputId": "02929dd8-bd17-4cbd-88fa-8fbabf91bdb1"
      },
      "source": [
        "derivative_one.subs(x, 2)"
      ],
      "execution_count": 37,
      "outputs": [
        {
          "output_type": "execute_result",
          "data": {
            "text/latex": "$\\displaystyle 80$",
            "text/plain": [
              "80"
            ]
          },
          "metadata": {
            "tags": []
          },
          "execution_count": 37
        }
      ]
    },
    {
      "cell_type": "code",
      "metadata": {
        "colab": {
          "base_uri": "https://localhost:8080/",
          "height": 37
        },
        "id": "fJXPb4c9si5c",
        "outputId": "70e7d995-6ca8-45dc-8e03-071713814fac"
      },
      "source": [
        "derivative_two.subs(x, 0)"
      ],
      "execution_count": 38,
      "outputs": [
        {
          "output_type": "execute_result",
          "data": {
            "text/latex": "$\\displaystyle 0$",
            "text/plain": [
              "0"
            ]
          },
          "metadata": {
            "tags": []
          },
          "execution_count": 38
        }
      ]
    },
    {
      "cell_type": "markdown",
      "metadata": {
        "id": "-nqWgPMVw_za"
      },
      "source": [
        "#### Del 3.7\n",
        "Et andet vigtigt regelsæt er **linearitet af differentiering**. Vi skifter til at bruge notationen $\\frac{d}{dx}$, når vi diskuterer disse regler. Som med grænseværdifunktioner kan vi adskille matematiske termer, der tilføjes eller trækkes fra, og differentiere dem separat.\n",
        "\n",
        "Lineæritet af differentiering består af 2 regler. Først er summeringsreglen:\n",
        "\n",
        "$\\frac {d}{dx} [f(x) + g(x)] = \\frac {d}{dx} [f(x)] + \\frac {d}{dx} [g(x)]$\n",
        "\n",
        "For det andet er den konstante faktorregel, som lader os trække konstanter ud af den afledede:\n",
        "\n",
        "$\\frac {d}{dx} [cf(x)] = c\\frac {d}{dx} [f(x)]$\n",
        "\n",
        "Ved at kombinere begge disse regler kan vi finde afledede for en lang række funktioner. For eksempel:\n",
        "\n",
        "$\\frac {d}{dx} [-x^3 + x^2 ] =  \\frac {d}{dx} [-x^3] + \\frac {d}{dx} [x^2] = -3x^2 + 2x$\n"
      ]
    },
    {
      "cell_type": "markdown",
      "metadata": {
        "id": "QROxwhCbyfRb"
      },
      "source": [
        "**Øvelse:**\n",
        "* Beregn afledede af $f(x) = x^5 − x$ ved hjælp af blyant og papir. Brug den afledede funktion til at udregne hældningen ved $x = 1$ og gem som **slope_tree**.\n",
        "* Beregn afledede af $f(x) = x^3 − x^2$ ved hjælp af blyant og papir. Brug den afledede funktion til at udregne hældningen ved $x = 2$ og gem som  **slope_four**.\n"
      ]
    },
    {
      "cell_type": "code",
      "metadata": {
        "id": "fm626hUvy5pe"
      },
      "source": [
        "derivative_three = \"5x**4-1\"\n",
        "derivative_four = \"3x**2-2x\"\n",
        "slope_three = 5*1**4-1\n",
        "slope_four = 3*2**2-2*2"
      ],
      "execution_count": 43,
      "outputs": []
    },
    {
      "cell_type": "code",
      "metadata": {
        "colab": {
          "base_uri": "https://localhost:8080/"
        },
        "id": "hSpGU0jqtW4m",
        "outputId": "3d4d5df5-8bfe-4658-fcc5-5213a0a00e93"
      },
      "source": [
        "print(slope_three)\n",
        "print(slope_four)"
      ],
      "execution_count": 44,
      "outputs": [
        {
          "output_type": "stream",
          "text": [
            "4\n",
            "8\n"
          ],
          "name": "stdout"
        }
      ]
    },
    {
      "cell_type": "code",
      "metadata": {
        "id": "y27cRK851SOa"
      },
      "source": [
        "# beregning i sympy"
      ],
      "execution_count": null,
      "outputs": []
    },
    {
      "cell_type": "code",
      "metadata": {
        "id": "0PemVayPsp4-"
      },
      "source": [
        "f3 = x**5-x\n",
        "f4 = x**3-x**2\n",
        "\n",
        "derivative_three = f3.diff()\n",
        "\n",
        "derivative_four = f4.diff()"
      ],
      "execution_count": 46,
      "outputs": []
    },
    {
      "cell_type": "code",
      "metadata": {
        "colab": {
          "base_uri": "https://localhost:8080/",
          "height": 38
        },
        "id": "MGk92f5us5BN",
        "outputId": "bde6e538-bd2b-4c4d-d1ce-d5bb42dbbb1e"
      },
      "source": [
        "derivative_three"
      ],
      "execution_count": 47,
      "outputs": [
        {
          "output_type": "execute_result",
          "data": {
            "text/latex": "$\\displaystyle 5 x^{4} - 1$",
            "text/plain": [
              "5*x**4 - 1"
            ]
          },
          "metadata": {
            "tags": []
          },
          "execution_count": 47
        }
      ]
    },
    {
      "cell_type": "code",
      "metadata": {
        "colab": {
          "base_uri": "https://localhost:8080/",
          "height": 38
        },
        "id": "AeiXTwA0s68s",
        "outputId": "a462778f-7473-4ff8-a22b-aa76e79bd6f8"
      },
      "source": [
        "derivative_four"
      ],
      "execution_count": 48,
      "outputs": [
        {
          "output_type": "execute_result",
          "data": {
            "text/latex": "$\\displaystyle 3 x^{2} - 2 x$",
            "text/plain": [
              "3*x**2 - 2*x"
            ]
          },
          "metadata": {
            "tags": []
          },
          "execution_count": 48
        }
      ]
    },
    {
      "cell_type": "code",
      "metadata": {
        "colab": {
          "base_uri": "https://localhost:8080/",
          "height": 37
        },
        "id": "AOHwQ-PotfnD",
        "outputId": "94077d5d-30b9-4ad9-b12f-14e56bbce529"
      },
      "source": [
        "derivative_three.subs(x, 1)"
      ],
      "execution_count": 49,
      "outputs": [
        {
          "output_type": "execute_result",
          "data": {
            "text/latex": "$\\displaystyle 4$",
            "text/plain": [
              "4"
            ]
          },
          "metadata": {
            "tags": []
          },
          "execution_count": 49
        }
      ]
    },
    {
      "cell_type": "code",
      "metadata": {
        "colab": {
          "base_uri": "https://localhost:8080/",
          "height": 37
        },
        "id": "VwBkYaZzttcb",
        "outputId": "8555ccaa-bf93-4010-e89e-94e586c9bfe3"
      },
      "source": [
        "derivative_four.subs(x, 2)"
      ],
      "execution_count": 50,
      "outputs": [
        {
          "output_type": "execute_result",
          "data": {
            "text/latex": "$\\displaystyle 8$",
            "text/plain": [
              "8"
            ]
          },
          "metadata": {
            "tags": []
          },
          "execution_count": 50
        }
      ]
    },
    {
      "cell_type": "markdown",
      "metadata": {
        "id": "YMqZvwDGy7jS"
      },
      "source": [
        "#### Del 3.8\n",
        "Tidligere startede vi med at tegne kurven og visuelt observere, hvor de kritiske punkter kunne være. Denne gang vil vi ikke plotte men finde de ekstreme værdier ved udregning.\n",
        "\n",
        "Du skal først sætte $3x^2−2x$ = $0$ og løse for $x$. Når du har fundet det/de kritiske punkt(er), kan du analysere hældningen omkring punkterne for at se, om hældningen overgår fra positiv til negativ eller omvendt.\n",
        "\n",
        "For at analysere hældningsretningen kan vi bruge et [**fortegns-diagramm**](http://www.rasmus.is/uk/t/F/Su53k02.htm)(*sign chart*).  Her er vi kun interesserede i, om et givet punkt i et område kommer positivt eller negativt ud. Dette værktøj gør det nemt at analysere hældningsretningen (positiv eller negativ).\n",
        "\n",
        "Vi kan teste punkter omkring vores interessepunkter for at se, om der er et fortegnsændring og hvad ændringen er.\n"
      ]
    },
    {
      "cell_type": "markdown",
      "metadata": {
        "id": "F5c8_7dPz_S6"
      },
      "source": [
        "**Øvelse**\n",
        "* brug sympy\n",
        "* Find kritiske punkter for $f(x) = x^3 − x^2$.\n",
        "* find ud om det handler om relativ minimum eller maksimum"
      ]
    },
    {
      "cell_type": "code",
      "metadata": {
        "id": "DJw4tpnX0Wew",
        "colab": {
          "base_uri": "https://localhost:8080/",
          "height": 38
        },
        "outputId": "18b576b8-fae9-45e2-c5c7-f623b4e75c89"
      },
      "source": [
        "f = x**3-x**2\n",
        "\n",
        "fd = diff(f)\n",
        "fd"
      ],
      "execution_count": 55,
      "outputs": [
        {
          "output_type": "execute_result",
          "data": {
            "text/latex": "$\\displaystyle 3 x^{2} - 2 x$",
            "text/plain": [
              "3*x**2 - 2*x"
            ]
          },
          "metadata": {
            "tags": []
          },
          "execution_count": 55
        }
      ]
    },
    {
      "cell_type": "code",
      "metadata": {
        "colab": {
          "base_uri": "https://localhost:8080/",
          "height": 38
        },
        "id": "LKZzc-RVxJdW",
        "outputId": "46a154d4-708b-4830-c906-665fc54e3871"
      },
      "source": [
        "factor(fd)"
      ],
      "execution_count": 56,
      "outputs": [
        {
          "output_type": "execute_result",
          "data": {
            "text/latex": "$\\displaystyle x \\left(3 x - 2\\right)$",
            "text/plain": [
              "x*(3*x - 2)"
            ]
          },
          "metadata": {
            "tags": []
          },
          "execution_count": 56
        }
      ]
    },
    {
      "cell_type": "code",
      "metadata": {
        "colab": {
          "base_uri": "https://localhost:8080/",
          "height": 58
        },
        "id": "8Hwmsz4nxfi-",
        "outputId": "235a59bf-7af9-4a97-b846-db3263fe999f"
      },
      "source": [
        "solveset(fd)"
      ],
      "execution_count": 60,
      "outputs": [
        {
          "output_type": "execute_result",
          "data": {
            "text/latex": "$\\displaystyle \\left\\{0, \\frac{2}{3}\\right\\}$",
            "text/plain": [
              "FiniteSet(0, 2/3)"
            ]
          },
          "metadata": {
            "tags": []
          },
          "execution_count": 60
        }
      ]
    },
    {
      "cell_type": "code",
      "metadata": {
        "id": "D-CrkrAvxzfQ"
      },
      "source": [
        "sign_chart = [-0.5, 0, 1/3, 2/3, 1]"
      ],
      "execution_count": 61,
      "outputs": []
    },
    {
      "cell_type": "code",
      "metadata": {
        "colab": {
          "base_uri": "https://localhost:8080/"
        },
        "id": "bWXtPK6gyIrW",
        "outputId": "7e9c82b4-e3aa-416c-9445-1890ca33abc1"
      },
      "source": [
        "[fd.subs(x,i) for i in sign_chart]"
      ],
      "execution_count": 62,
      "outputs": [
        {
          "output_type": "execute_result",
          "data": {
            "text/plain": [
              "[1.75000000000000, 0, -0.333333333333333, 0, 1]"
            ]
          },
          "metadata": {
            "tags": []
          },
          "execution_count": 62
        }
      ]
    },
    {
      "cell_type": "markdown",
      "metadata": {
        "id": "FJaywntq3GT8"
      },
      "source": [
        "lidt visualisering"
      ]
    },
    {
      "cell_type": "code",
      "metadata": {
        "id": "L0gShWuL0MPz"
      },
      "source": [
        "p1_space = np.linspace(-0.1, 0.1, 10)\n",
        "p1_y = 3*p1_space**2 - 2*p1_space"
      ],
      "execution_count": 63,
      "outputs": []
    },
    {
      "cell_type": "code",
      "metadata": {
        "colab": {
          "base_uri": "https://localhost:8080/",
          "height": 286
        },
        "id": "7uN28Snt1hok",
        "outputId": "b2989a88-1b30-4f1c-8a07-a4ae8e44fffc"
      },
      "source": [
        "plt.plot(p1_space,p1_y, color='green')\n",
        "plt.axhline(y=0.0, color='r', linestyle='-')"
      ],
      "execution_count": 64,
      "outputs": [
        {
          "output_type": "execute_result",
          "data": {
            "text/plain": [
              "<matplotlib.lines.Line2D at 0x7f13492ad690>"
            ]
          },
          "metadata": {
            "tags": []
          },
          "execution_count": 64
        },
        {
          "output_type": "display_data",
          "data": {
            "image/png": "[encoded data removed]",
            "text/plain": [
              "<Figure size 432x288 with 1 Axes>"
            ]
          },
          "metadata": {
            "tags": [],
            "needs_background": "light"
          }
        }
      ]
    },
    {
      "cell_type": "code",
      "metadata": {
        "id": "RnHoMnSl2Qqx"
      },
      "source": [
        "p2_space = np.linspace(1/3, 3/3, 10)\n",
        "p2_y = 3*p2_space**2 - 2*p2_space"
      ],
      "execution_count": 66,
      "outputs": []
    },
    {
      "cell_type": "code",
      "metadata": {
        "colab": {
          "base_uri": "https://localhost:8080/",
          "height": 282
        },
        "id": "9-Ei2QQM2cra",
        "outputId": "2db951cd-b4b4-4f5c-8f8f-cae51f2d98b1"
      },
      "source": [
        "plt.plot(p2_space,p2_y, color='green')\n",
        "plt.axhline(y=0.0, color='r', linestyle='-')"
      ],
      "execution_count": 67,
      "outputs": [
        {
          "output_type": "execute_result",
          "data": {
            "text/plain": [
              "<matplotlib.lines.Line2D at 0x7f1349256f10>"
            ]
          },
          "metadata": {
            "tags": []
          },
          "execution_count": 67
        },
        {
          "output_type": "display_data",
          "data": {
            "image/png": "[encoded data removed]",
            "text/plain": [
              "<Figure size 432x288 with 1 Axes>"
            ]
          },
          "metadata": {
            "tags": [],
            "needs_background": "light"
          }
        }
      ]
    },
    {
      "cell_type": "markdown",
      "metadata": {
        "id": "i9KNtgcR2s_X"
      },
      "source": [
        "## Vi kan selfølgelig bruge SymPy til al differentering"
      ]
    },
    {
      "cell_type": "code",
      "metadata": {
        "colab": {
          "base_uri": "https://localhost:8080/",
          "height": 38
        },
        "id": "TxZNnZTu2zkO",
        "outputId": "ed166269-0a59-48d5-c9d3-e56dd1fd0dc3"
      },
      "source": [
        "from sympy import *\n",
        "\n",
        "x = symbols('x')\n",
        "\n",
        "#f = -(x**3)+3*x**2-1\n",
        "\n",
        "f = x**3-x**2\n",
        "\n",
        "f"
      ],
      "execution_count": 68,
      "outputs": [
        {
          "output_type": "execute_result",
          "data": {
            "text/latex": "$\\displaystyle x^{3} - x^{2}$",
            "text/plain": [
              "x**3 - x**2"
            ]
          },
          "metadata": {
            "tags": []
          },
          "execution_count": 68
        }
      ]
    },
    {
      "cell_type": "code",
      "metadata": {
        "colab": {
          "base_uri": "https://localhost:8080/",
          "height": 38
        },
        "id": "JFvU4AsN3CWq",
        "outputId": "b689f9dd-4619-48a8-930a-7eb645f8c42d"
      },
      "source": [
        "# 😎\n",
        "\n",
        "f.diff()"
      ],
      "execution_count": 69,
      "outputs": [
        {
          "output_type": "execute_result",
          "data": {
            "text/latex": "$\\displaystyle 3 x^{2} - 2 x$",
            "text/plain": [
              "3*x**2 - 2*x"
            ]
          },
          "metadata": {
            "tags": []
          },
          "execution_count": 69
        }
      ]
    },
    {
      "cell_type": "code",
      "metadata": {
        "id": "2tlP2xZ-3NWU"
      },
      "source": [
        "fd = f.diff()"
      ],
      "execution_count": 70,
      "outputs": []
    },
    {
      "cell_type": "code",
      "metadata": {
        "colab": {
          "base_uri": "https://localhost:8080/",
          "height": 58
        },
        "id": "H0-xKPHy33Yl",
        "outputId": "098743f7-2b20-4ea4-b091-554f20281934"
      },
      "source": [
        "solveset(fd, x)"
      ],
      "execution_count": 71,
      "outputs": [
        {
          "output_type": "execute_result",
          "data": {
            "text/latex": "$\\displaystyle \\left\\{0, \\frac{2}{3}\\right\\}$",
            "text/plain": [
              "FiniteSet(0, 2/3)"
            ]
          },
          "metadata": {
            "tags": []
          },
          "execution_count": 71
        }
      ]
    },
    {
      "cell_type": "code",
      "metadata": {
        "id": "L3NMuzeTDhyS"
      },
      "source": [
        "sign_chart = [-1, -0.5, 0, 1/3, 2/3, 1, 1.5]"
      ],
      "execution_count": 73,
      "outputs": []
    },
    {
      "cell_type": "code",
      "metadata": {
        "colab": {
          "base_uri": "https://localhost:8080/"
        },
        "id": "OCOyrfqbDuKe",
        "outputId": "820c8a72-8eed-4bd4-eb51-26702492f85d"
      },
      "source": [
        "# list comprehension hvor vi beregner hældning for alle værdier i sign_chart\n",
        "[fd.subs(x, i) for i in sign_chart]"
      ],
      "execution_count": 76,
      "outputs": [
        {
          "output_type": "execute_result",
          "data": {
            "text/plain": [
              "[5, 1.75000000000000, 0, -0.333333333333333, 0, 1, 3.75000000000000]"
            ]
          },
          "metadata": {
            "tags": []
          },
          "execution_count": 76
        }
      ]
    },
    {
      "cell_type": "code",
      "metadata": {
        "colab": {
          "base_uri": "https://localhost:8080/",
          "height": 37
        },
        "id": "-ZzUsGeW6-O7",
        "outputId": "79bce62a-491b-43fa-914d-5bda59597103"
      },
      "source": [
        "# men ikke\n",
        "\n",
        "fd.subs(x, 0)"
      ],
      "execution_count": 77,
      "outputs": [
        {
          "output_type": "execute_result",
          "data": {
            "text/latex": "$\\displaystyle 0$",
            "text/plain": [
              "0"
            ]
          },
          "metadata": {
            "tags": []
          },
          "execution_count": 77
        }
      ]
    },
    {
      "cell_type": "markdown",
      "metadata": {
        "id": "x6R33ysa7m92"
      },
      "source": [
        "## Øvelse\n",
        "\n",
        "En virksomhed kan maximalt producere 1300 pumper af en specifik type per år. Hvor mange pumper skal produceres for at maksimere profit in DKK, som er givet ved:\n",
        "\n",
        "$$ P = 60000000 - 720000x + 1500*x^2 - \\frac{2}{3}x^3$$\n",
        "\n",
        "Løs med SymPy\n"
      ]
    },
    {
      "cell_type": "code",
      "metadata": {
        "colab": {
          "base_uri": "https://localhost:8080/",
          "height": 38
        },
        "id": "VjBvQ0Zb7XXZ",
        "outputId": "ae20d4f0-b38a-4437-bdf2-4ca986fddf63"
      },
      "source": [
        "# definer funktion\n",
        "\n",
        "x = symbols('x')\n",
        "f = 60000000 - 720000*x + 1500*x**2 - (2/3*x**3)\n",
        "\n",
        "f"
      ],
      "execution_count": 78,
      "outputs": [
        {
          "output_type": "execute_result",
          "data": {
            "text/latex": "$\\displaystyle - 0.666666666666667 x^{3} + 1500 x^{2} - 720000 x + 60000000$",
            "text/plain": [
              "-0.666666666666667*x**3 + 1500*x**2 - 720000*x + 60000000"
            ]
          },
          "metadata": {
            "tags": []
          },
          "execution_count": 78
        }
      ]
    },
    {
      "cell_type": "code",
      "metadata": {
        "id": "W4UC2oUU-zSA",
        "colab": {
          "base_uri": "https://localhost:8080/",
          "height": 38
        },
        "outputId": "05445451-7f10-4e97-ee2f-c763bd455efd"
      },
      "source": [
        "# find f'(x)\n",
        "fd = diff(f)\n",
        "fd"
      ],
      "execution_count": 79,
      "outputs": [
        {
          "output_type": "execute_result",
          "data": {
            "text/latex": "$\\displaystyle - 2.0 x^{2} + 3000 x - 720000$",
            "text/plain": [
              "-2.0*x**2 + 3000*x - 720000"
            ]
          },
          "metadata": {
            "tags": []
          },
          "execution_count": 79
        }
      ]
    },
    {
      "cell_type": "code",
      "metadata": {
        "colab": {
          "base_uri": "https://localhost:8080/",
          "height": 37
        },
        "id": "X1cvyfrK9LvO",
        "outputId": "eada9a5b-c0a4-4a69-e606-0f40447ab7b7"
      },
      "source": [
        "# find ekstrempunkter \n",
        "\n",
        "solutions = solveset(fd, x)\n",
        "solutions"
      ],
      "execution_count": 81,
      "outputs": [
        {
          "output_type": "execute_result",
          "data": {
            "text/latex": "$\\displaystyle \\left\\{300.0, 1200.0\\right\\}$",
            "text/plain": [
              "FiniteSet(300.0, 1200.0)"
            ]
          },
          "metadata": {
            "tags": []
          },
          "execution_count": 81
        }
      ]
    },
    {
      "cell_type": "code",
      "metadata": {
        "id": "DqaoZ3veETCp"
      },
      "source": [
        "sign_chart = [200, 300, 500, 1200, 1300]"
      ],
      "execution_count": 82,
      "outputs": []
    },
    {
      "cell_type": "code",
      "metadata": {
        "id": "oLOJy1CbEeaG",
        "colab": {
          "base_uri": "https://localhost:8080/"
        },
        "outputId": "47228dd0-ff03-49ea-f6ce-92cd3140b37d"
      },
      "source": [
        "[fd.subs(x, i) for i in sign_chart]"
      ],
      "execution_count": 83,
      "outputs": [
        {
          "output_type": "execute_result",
          "data": {
            "text/plain": [
              "[-200000.000000000, 0, 280000.000000000, 0, -200000.000000000]"
            ]
          },
          "metadata": {
            "tags": []
          },
          "execution_count": 83
        }
      ]
    },
    {
      "cell_type": "code",
      "metadata": {
        "id": "P90nTESE-7q1",
        "colab": {
          "base_uri": "https://localhost:8080/"
        },
        "outputId": "9f94886b-bdd5-4f99-8144-d33b6d7bf11b"
      },
      "source": [
        "[f.subs(x, s) for s in solutions]"
      ],
      "execution_count": 84,
      "outputs": [
        {
          "output_type": "execute_result",
          "data": {
            "text/plain": [
              "[-39000000.0000000, 204000000.000000]"
            ]
          },
          "metadata": {
            "tags": []
          },
          "execution_count": 84
        }
      ]
    },
    {
      "cell_type": "code",
      "metadata": {
        "id": "wnA4KEcD1KyH"
      },
      "source": [
        "# der skal produceres\n",
        "\n",
        "pumper = 1200"
      ],
      "execution_count": 85,
      "outputs": []
    },
    {
      "cell_type": "markdown",
      "metadata": {
        "id": "MrjFc66m0W82"
      },
      "source": [
        "#### Del 3.x - Opsummering\n",
        "* En afledede funktion er hældningen af tangentlinjen på et hvilket som helst punkt langs en kurve.\n",
        "* Lad $x$ være et punkt på kurven og $h$ være afstanden mellem to punkter, så er den matematiske formel for hældningen, når $h$ nærmer sig nul, givet som: $f'(x) = \\lim_{h \\to 0}\\frac{f(x+h)-f(x)}{h}$\n",
        "* Differientering er en proces for at finde en funktions afledede.\n",
        "* For at finde afledede af: $f(x) = -(x)^2 + 3x -1$:\n",
        "  * $y' = \\lim_{h \\to 0} \\frac{(-(x + h)^2 + 3(x + h) - 1) - (-(x)^2 + 3x - 1)}{h}$\n",
        "  * $y' = \\lim_{h \\to 0} \\frac{-x^2 - 2xh - h^2 +3x + 3h - 1 + x^2 - 3x + 1}{h}$\n",
        "  * $y' = \\lim_{h \\to 0} \\frac{h(-2x - h+3)}{h}$\n",
        "  * $y' = \\lim_{h \\to 0} -2x - h + 3$\n",
        "  * $y' = 2x +3$\n",
        "* Tre måder at annotere en kurves afledede:\n",
        "  * $y' = -2x + 3$\n",
        "  $f'(x) = -2x +3$ *Brug kun hvis derivativet er en funktion\n",
        "  * $\\frac{d}{dx}[-x^2 + 3x -1] = -2x + 3$\n",
        "* Et kritisk punkt er et punkt, hvor hældningen ændrer retning fra negativ hældning til positiv hældning eller omvendt. Kritiske punkter repræsenterer ekstreme værdier, som kan klassificeres som et minimum eller ekstrem værdi.\n",
        "* Klassificering af kritisk punkt: \n",
        "  * Når hældningen ændrer retning fra positiv til negativ, er det en maksimumsværdi.\n",
        "  * Når hældningen ændrer retning fra negativ til positiv, er det en minimumsværdi.\n",
        "  * Hvis hældningen ikke ændrer retning, som for eksempel ved $x = 0$ for $y = x^3$, kan det ikke være et minimum eller maksimumsværdi.\n",
        "* Hvert maksimums- eller minimumværdipunkt er kendt som lokalt ekstremum.\n",
        "* Klassificering af lokalt ekstrema:\n",
        "  * Et punkt er et relativt minimum, hvis et kritisk punkt er det laveste punkt i et givet interval.\n",
        "  * Et punkt er et relativt maksimum, hvis et kritisk punkt er det højeste punkt i et givet interval.\n",
        "* I stedet for at bruge definitionen af afledede kan vi anvende nogle regler for let at beregne\n",
        "de afledte funktioner.\n",
        "* Regler: \n",
        "  * Power rule: Lad $r$ være en potens, så er $f'(x) = rx^{r-1}$\n",
        "    * Eksempel: I vores funktion $f(x) = x^2$, vil vores $r$ være $2$. Ved at bruge power rule, ville den afledede være $f'(x) = 2x^{2-1}$, eller, $f'(x) =2x$.\n",
        "  * Summeringsregel: $\\frac {d}{dx} [f(x) + g(x)] = \\frac {d}{dx} [f(x)] + \\frac {d}{dx} [g(x)]$\n",
        "    * Eksempel: $\\frac {d}{dx} [-x^3 + x^2 ] =  \\frac {d}{dx} [-x^3] + \\frac {d}{dx} [x^2] = -3x^2 + 2x$\n",
        "  * Konstant faktorregel: $\\frac{d}{dx}[3x] = 3\\frac{d}{dx}x = 3i = 3$\n",
        "* Afledede af $x$ er altid $1$, og den afledede af $1$ er altid $0$  \n",
        "* Når du har fundet de kritiske punkter i en funktion, kan du analysere hældningsretningen omkring punkterne ved hjælp af et tegndiagram for at klassificere punktet som et minimum eller et maksimum. Vi kan teste punkter omkring vores interessepunkter for at se om der er et tegnændring såvel som hvad ændringen er.\n",
        "\n",
        "  \n"
      ]
    }
  ]
}