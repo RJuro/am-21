{
  "nbformat": 4,
  "nbformat_minor": 0,
  "metadata": {
    "colab": {
      "name": "AM2021 - Calculus, part 1",
      "provenance": [],
      "collapsed_sections": [],
      "include_colab_link": true
    },
    "kernelspec": {
      "name": "python3",
      "display_name": "Python 3"
    },
    "language_info": {
      "name": "python"
    }
  },
  "cells": [
    {
      "cell_type": "markdown",
      "metadata": {
        "id": "view-in-github",
        "colab_type": "text"
      },
      "source": [
        "<a href=\"https://colab.research.google.com/github/RJuro/am-21/blob/main/AM2021_Calculus_p1_edit.ipynb\" target=\"_parent\"><img src=\"https://colab.research.google.com/assets/colab-badge.svg\" alt=\"Open In Colab\"/></a>"
      ]
    },
    {
      "cell_type": "markdown",
      "metadata": {
        "id": "ASP4ES_kBnCj"
      },
      "source": [
        "### Calculus - Session 1\n",
        "I den første del af kurset lærte vi om lineær algebra. For at få yderligere forståelse for de underliggende matematiske koncepter, er vi nødt til at bruge lidt tid på at forstå hovedideerne fra **calculus**, eller infinitesimalregning, som er den samlede betegnelse for differential- og integralregning.\n",
        "\n",
        "De 3 sessioner i dette kursus er, lige som linkeær algebra har været, for det meste en opfriskning af matematik som I burde have set før på B nievau.\n",
        "\n",
        "#### Del 1.1\n",
        "Calculus giver en ramme for at forstå mekanikken af matematiske funktioner. Calculus hjælper os med at:\n",
        "* Forstå hældning i forskellige punkter\n",
        "* Finde ekstreme punkter i en funktion\n",
        "* Bestemme den optimale funktion, der bedst repræsenterer et datasæt (link til statistik / data science)\n",
        "\n",
        "Vi starter med et lille eksempel fra beskrivende statistik (eksamen) for at vise hvor calculus giver os en base for at arbejde videre med kvantitative metoder på 3. semester og bagefter."
      ]
    },
    {
      "cell_type": "code",
      "metadata": {
        "id": "x275H_tHAJuw"
      },
      "source": [
        "# pakker importeres\n",
        "import pandas as pd\n",
        "import seaborn as sns\n",
        "sns.set()"
      ],
      "execution_count": null,
      "outputs": []
    },
    {
      "cell_type": "code",
      "metadata": {
        "id": "aAsnCVWwAMmW"
      },
      "source": [
        "# Indlæs data\n",
        "df = pd.read_csv('https://sds-aau.github.io/IntroStat/Data/airbnb.csv.gz', compression='gzip')\n",
        "\n",
        "# Udsmid manglende værdier i variable hvor der mangler op til og med 103 observationer \n",
        "# dvs. variable med flere manglende observationer end 103 skal ikke renses for manglende observationer\n",
        "\n",
        "df.dropna(subset=['name', 'bathrooms', 'bedrooms', 'beds'], inplace=True)\n",
        "\n",
        "# Her omdannes \"price\" til en float (numerisk variabel) og får fjernet \"$\" og \",\" - det har vi gjort for jer.\n",
        "df.price = df.price.replace('[\\$,]', '', regex=True).astype(float)\n",
        "\n",
        "# Med udgangspunkt i \"price\", beskær datasættet til 95. percentil (95 inkl.)\n",
        "df = df[df.price <= df.price.quantile(.95)]\n",
        "\n",
        "# filrer data, således der kun beholdes observationer af de 3 hyppigste kategorier\n",
        "# her bruger vi \"isin\" komando for at definere tilladte kategorier\n",
        "\n",
        "df = df[df.property_type.isin(['Apartment', 'Condominium', 'House'])]\n",
        "\n",
        "# fortag den samme filtrering for \"room_type\", hvor der kun beholdes de 2 hyppigste kategorier\n",
        "df = df[df.room_type.isin(['Entire home/apt', 'Private room'])]\n",
        "\n",
        "# Ligesom med price variablen, skal \"cleaning_fee\" også have fjernet \"$\" og \",\", og gøres til en float (numerisk variabel) \n",
        "df.cleaning_fee = df.cleaning_fee.replace('[\\$,]', '', regex=True).astype(float)\n",
        "\n",
        "# Udfyld manglende observationer i cleaning fee med 0\n",
        "\n",
        "df.cleaning_fee.fillna(0, inplace=True)\n",
        "\n",
        "# Lav en ny variabel \"total_price\" ud fra \"price\" og \"cleaning_fee\" (sammenlæg de to værdier fra )\n",
        "df['total_price'] = df.price + df.cleaning_fee\n",
        "\n",
        "# definer en dataframe hvor der kun medtages observationer med > 10 reviews \"number_of_reviews\"\n",
        "# samlign korrelationer mellem total_price/price vs accomodates\n",
        "# fortolk de to korrelationskoefficienter\n",
        "\n",
        "\n",
        "df = df[df.number_of_reviews > 10]"
      ],
      "execution_count": null,
      "outputs": []
    },
    {
      "cell_type": "code",
      "metadata": {
        "colab": {
          "base_uri": "https://localhost:8080/",
          "height": 909
        },
        "id": "I8-JUAwvV2ns",
        "outputId": "82f40e75-8975-43c9-892d-78a3851f92c0"
      },
      "source": [
        "df"
      ],
      "execution_count": null,
      "outputs": [
        {
          "output_type": "execute_result",
          "data": {
            "text/html": [
              "<div>\n",
              "<style scoped>\n",
              "    .dataframe tbody tr th:only-of-type {\n",
              "        vertical-align: middle;\n",
              "    }\n",
              "\n",
              "    .dataframe tbody tr th {\n",
              "        vertical-align: top;\n",
              "    }\n",
              "\n",
              "    .dataframe thead th {\n",
              "        text-align: right;\n",
              "    }\n",
              "</style>\n",
              "<table border=\"1\" class=\"dataframe\">\n",
              "  <thead>\n",
              "    <tr style=\"text-align: right;\">\n",
              "      <th></th>\n",
              "      <th>id</th>\n",
              "      <th>name</th>\n",
              "      <th>host_id</th>\n",
              "      <th>host_name</th>\n",
              "      <th>host_since</th>\n",
              "      <th>host_location</th>\n",
              "      <th>host_acceptance_rate</th>\n",
              "      <th>host_is_superhost</th>\n",
              "      <th>host_listings_count</th>\n",
              "      <th>street</th>\n",
              "      <th>neighbourhood</th>\n",
              "      <th>neighbourhood_cleansed</th>\n",
              "      <th>city</th>\n",
              "      <th>property_type</th>\n",
              "      <th>room_type</th>\n",
              "      <th>accommodates</th>\n",
              "      <th>bathrooms</th>\n",
              "      <th>bedrooms</th>\n",
              "      <th>beds</th>\n",
              "      <th>bed_type</th>\n",
              "      <th>amenities</th>\n",
              "      <th>square_feet</th>\n",
              "      <th>price</th>\n",
              "      <th>security_deposit</th>\n",
              "      <th>cleaning_fee</th>\n",
              "      <th>minimum_nights</th>\n",
              "      <th>maximum_nights</th>\n",
              "      <th>number_of_reviews</th>\n",
              "      <th>review_scores_rating</th>\n",
              "      <th>cancellation_policy</th>\n",
              "      <th>calculated_host_listings_count</th>\n",
              "      <th>reviews_per_month</th>\n",
              "      <th>total_price</th>\n",
              "    </tr>\n",
              "  </thead>\n",
              "  <tbody>\n",
              "    <tr>\n",
              "      <th>0</th>\n",
              "      <td>6983</td>\n",
              "      <td>Copenhagen 'N Livin'</td>\n",
              "      <td>16774</td>\n",
              "      <td>Simon</td>\n",
              "      <td>2009-05-12</td>\n",
              "      <td>Copenhagen, Capital Region of Denmark, Denmark</td>\n",
              "      <td>33%</td>\n",
              "      <td>f</td>\n",
              "      <td>1.0</td>\n",
              "      <td>Copenhagen, Hovedstaden, Denmark</td>\n",
              "      <td>Nørrebro</td>\n",
              "      <td>Nrrebro</td>\n",
              "      <td>Copenhagen</td>\n",
              "      <td>Apartment</td>\n",
              "      <td>Private room</td>\n",
              "      <td>2</td>\n",
              "      <td>1.0</td>\n",
              "      <td>1.0</td>\n",
              "      <td>1.0</td>\n",
              "      <td>Real Bed</td>\n",
              "      <td>{TV,\"Cable TV\",Wifi,Kitchen,\"Paid parking off ...</td>\n",
              "      <td>97.0</td>\n",
              "      <td>365.0</td>\n",
              "      <td>$0.00</td>\n",
              "      <td>33.0</td>\n",
              "      <td>2</td>\n",
              "      <td>15</td>\n",
              "      <td>168</td>\n",
              "      <td>96.0</td>\n",
              "      <td>moderate</td>\n",
              "      <td>1</td>\n",
              "      <td>1.28</td>\n",
              "      <td>398.0</td>\n",
              "    </tr>\n",
              "    <tr>\n",
              "      <th>3</th>\n",
              "      <td>29118</td>\n",
              "      <td>Best Location in Cool Istedgade</td>\n",
              "      <td>125230</td>\n",
              "      <td>Nana</td>\n",
              "      <td>2010-05-15</td>\n",
              "      <td>Copenhagen, Capital Region of Denmark, Denmark</td>\n",
              "      <td>17%</td>\n",
              "      <td>f</td>\n",
              "      <td>1.0</td>\n",
              "      <td>Copenhagen, Hovedstaden, Denmark</td>\n",
              "      <td>Vesterbro</td>\n",
              "      <td>Vesterbro-Kongens Enghave</td>\n",
              "      <td>Copenhagen</td>\n",
              "      <td>Apartment</td>\n",
              "      <td>Entire home/apt</td>\n",
              "      <td>2</td>\n",
              "      <td>1.0</td>\n",
              "      <td>1.0</td>\n",
              "      <td>1.0</td>\n",
              "      <td>Real Bed</td>\n",
              "      <td>{Wifi,Kitchen,\"Paid parking off premises\",Heat...</td>\n",
              "      <td>NaN</td>\n",
              "      <td>797.0</td>\n",
              "      <td>NaN</td>\n",
              "      <td>300.0</td>\n",
              "      <td>7</td>\n",
              "      <td>14</td>\n",
              "      <td>22</td>\n",
              "      <td>98.0</td>\n",
              "      <td>strict_14_with_grace_period</td>\n",
              "      <td>1</td>\n",
              "      <td>0.18</td>\n",
              "      <td>1097.0</td>\n",
              "    </tr>\n",
              "    <tr>\n",
              "      <th>4</th>\n",
              "      <td>29618</td>\n",
              "      <td>Artsy and familyfriendly home in lovely Copenh...</td>\n",
              "      <td>127577</td>\n",
              "      <td>Simon And Anna</td>\n",
              "      <td>2010-05-18</td>\n",
              "      <td>Copenhagen, Capital Region of Denmark, Denmark</td>\n",
              "      <td>NaN</td>\n",
              "      <td>f</td>\n",
              "      <td>1.0</td>\n",
              "      <td>Copenhagen, Hovedstaden, Denmark</td>\n",
              "      <td>Østerbro</td>\n",
              "      <td>sterbro</td>\n",
              "      <td>Copenhagen</td>\n",
              "      <td>Apartment</td>\n",
              "      <td>Entire home/apt</td>\n",
              "      <td>4</td>\n",
              "      <td>1.0</td>\n",
              "      <td>3.0</td>\n",
              "      <td>3.0</td>\n",
              "      <td>Real Bed</td>\n",
              "      <td>{TV,Internet,Wifi,Kitchen,\"Buzzer/wireless int...</td>\n",
              "      <td>NaN</td>\n",
              "      <td>857.0</td>\n",
              "      <td>NaN</td>\n",
              "      <td>75.0</td>\n",
              "      <td>7</td>\n",
              "      <td>31</td>\n",
              "      <td>90</td>\n",
              "      <td>94.0</td>\n",
              "      <td>moderate</td>\n",
              "      <td>1</td>\n",
              "      <td>0.75</td>\n",
              "      <td>932.0</td>\n",
              "    </tr>\n",
              "    <tr>\n",
              "      <th>5</th>\n",
              "      <td>31094</td>\n",
              "      <td>Very central and cozy, new kitchen</td>\n",
              "      <td>129976</td>\n",
              "      <td>Ebbe</td>\n",
              "      <td>2010-05-22</td>\n",
              "      <td>Copenhagen, Capital Region of Denmark, Denmark</td>\n",
              "      <td>NaN</td>\n",
              "      <td>f</td>\n",
              "      <td>1.0</td>\n",
              "      <td>Copenhagen, Capital Region of Denmark, Denmark</td>\n",
              "      <td>Vesterbro</td>\n",
              "      <td>Vesterbro-Kongens Enghave</td>\n",
              "      <td>Copenhagen</td>\n",
              "      <td>Apartment</td>\n",
              "      <td>Entire home/apt</td>\n",
              "      <td>3</td>\n",
              "      <td>1.0</td>\n",
              "      <td>1.0</td>\n",
              "      <td>3.0</td>\n",
              "      <td>Real Bed</td>\n",
              "      <td>{TV,\"Cable TV\",Internet,Wifi,Kitchen,\"Buzzer/w...</td>\n",
              "      <td>689.0</td>\n",
              "      <td>751.0</td>\n",
              "      <td>$1,000.00</td>\n",
              "      <td>0.0</td>\n",
              "      <td>2</td>\n",
              "      <td>10</td>\n",
              "      <td>17</td>\n",
              "      <td>97.0</td>\n",
              "      <td>strict_14_with_grace_period</td>\n",
              "      <td>1</td>\n",
              "      <td>0.14</td>\n",
              "      <td>751.0</td>\n",
              "    </tr>\n",
              "    <tr>\n",
              "      <th>6</th>\n",
              "      <td>32379</td>\n",
              "      <td>120 m2  artist flat on Vesterbro</td>\n",
              "      <td>140105</td>\n",
              "      <td>Lise</td>\n",
              "      <td>2010-06-07</td>\n",
              "      <td>Copenhagen, Capital Region of Denmark, Denmark</td>\n",
              "      <td>97%</td>\n",
              "      <td>f</td>\n",
              "      <td>3.0</td>\n",
              "      <td>Copenhagen, Hovedstaden, Denmark</td>\n",
              "      <td>Vesterbro</td>\n",
              "      <td>Vesterbro-Kongens Enghave</td>\n",
              "      <td>Copenhagen</td>\n",
              "      <td>Apartment</td>\n",
              "      <td>Entire home/apt</td>\n",
              "      <td>3</td>\n",
              "      <td>2.0</td>\n",
              "      <td>1.0</td>\n",
              "      <td>2.0</td>\n",
              "      <td>Real Bed</td>\n",
              "      <td>{TV,\"Cable TV\",Internet,Wifi,Kitchen,\"Paid par...</td>\n",
              "      <td>NaN</td>\n",
              "      <td>930.0</td>\n",
              "      <td>$0.00</td>\n",
              "      <td>0.0</td>\n",
              "      <td>3</td>\n",
              "      <td>365</td>\n",
              "      <td>73</td>\n",
              "      <td>98.0</td>\n",
              "      <td>moderate</td>\n",
              "      <td>1</td>\n",
              "      <td>0.61</td>\n",
              "      <td>930.0</td>\n",
              "    </tr>\n",
              "    <tr>\n",
              "      <th>...</th>\n",
              "      <td>...</td>\n",
              "      <td>...</td>\n",
              "      <td>...</td>\n",
              "      <td>...</td>\n",
              "      <td>...</td>\n",
              "      <td>...</td>\n",
              "      <td>...</td>\n",
              "      <td>...</td>\n",
              "      <td>...</td>\n",
              "      <td>...</td>\n",
              "      <td>...</td>\n",
              "      <td>...</td>\n",
              "      <td>...</td>\n",
              "      <td>...</td>\n",
              "      <td>...</td>\n",
              "      <td>...</td>\n",
              "      <td>...</td>\n",
              "      <td>...</td>\n",
              "      <td>...</td>\n",
              "      <td>...</td>\n",
              "      <td>...</td>\n",
              "      <td>...</td>\n",
              "      <td>...</td>\n",
              "      <td>...</td>\n",
              "      <td>...</td>\n",
              "      <td>...</td>\n",
              "      <td>...</td>\n",
              "      <td>...</td>\n",
              "      <td>...</td>\n",
              "      <td>...</td>\n",
              "      <td>...</td>\n",
              "      <td>...</td>\n",
              "      <td>...</td>\n",
              "    </tr>\n",
              "    <tr>\n",
              "      <th>26972</th>\n",
              "      <td>41056781</td>\n",
              "      <td>Skøn ny lejlighed med to altaner</td>\n",
              "      <td>231002568</td>\n",
              "      <td>Allan</td>\n",
              "      <td>2018-12-16</td>\n",
              "      <td>Copenhagen, Denmark</td>\n",
              "      <td>100%</td>\n",
              "      <td>f</td>\n",
              "      <td>1.0</td>\n",
              "      <td>Copenhagen, Denmark</td>\n",
              "      <td>Amager Vest</td>\n",
              "      <td>Amager Vest</td>\n",
              "      <td>København</td>\n",
              "      <td>Condominium</td>\n",
              "      <td>Entire home/apt</td>\n",
              "      <td>3</td>\n",
              "      <td>1.0</td>\n",
              "      <td>2.0</td>\n",
              "      <td>3.0</td>\n",
              "      <td>Real Bed</td>\n",
              "      <td>{Kitchen,\"Free parking on premises\",Elevator,H...</td>\n",
              "      <td>NaN</td>\n",
              "      <td>498.0</td>\n",
              "      <td>NaN</td>\n",
              "      <td>0.0</td>\n",
              "      <td>1</td>\n",
              "      <td>30</td>\n",
              "      <td>13</td>\n",
              "      <td>83.0</td>\n",
              "      <td>flexible</td>\n",
              "      <td>1</td>\n",
              "      <td>2.71</td>\n",
              "      <td>498.0</td>\n",
              "    </tr>\n",
              "    <tr>\n",
              "      <th>27057</th>\n",
              "      <td>41260940</td>\n",
              "      <td>Nice room 2 minutes to Metro station</td>\n",
              "      <td>1740731</td>\n",
              "      <td>Anja</td>\n",
              "      <td>2012-02-12</td>\n",
              "      <td>Lunsen, Uppsala län, Sweden</td>\n",
              "      <td>100%</td>\n",
              "      <td>f</td>\n",
              "      <td>3.0</td>\n",
              "      <td>Copenhagen, Denmark</td>\n",
              "      <td>Vesterbro</td>\n",
              "      <td>Vesterbro-Kongens Enghave</td>\n",
              "      <td>København</td>\n",
              "      <td>Apartment</td>\n",
              "      <td>Private room</td>\n",
              "      <td>2</td>\n",
              "      <td>1.0</td>\n",
              "      <td>1.0</td>\n",
              "      <td>1.0</td>\n",
              "      <td>Real Bed</td>\n",
              "      <td>{TV,\"Cable TV\",Wifi,\"Paid parking off premises...</td>\n",
              "      <td>NaN</td>\n",
              "      <td>551.0</td>\n",
              "      <td>NaN</td>\n",
              "      <td>0.0</td>\n",
              "      <td>1</td>\n",
              "      <td>1125</td>\n",
              "      <td>13</td>\n",
              "      <td>94.0</td>\n",
              "      <td>moderate</td>\n",
              "      <td>1</td>\n",
              "      <td>2.24</td>\n",
              "      <td>551.0</td>\n",
              "    </tr>\n",
              "    <tr>\n",
              "      <th>27181</th>\n",
              "      <td>41513485</td>\n",
              "      <td>Central clean city apartment in quiet area</td>\n",
              "      <td>82430368</td>\n",
              "      <td>Sassia</td>\n",
              "      <td>2016-07-08</td>\n",
              "      <td>Copenhagen, Denmark</td>\n",
              "      <td>96%</td>\n",
              "      <td>f</td>\n",
              "      <td>3.0</td>\n",
              "      <td>Copenhagen, Denmark</td>\n",
              "      <td>Amager</td>\n",
              "      <td>Amager st</td>\n",
              "      <td>København</td>\n",
              "      <td>Apartment</td>\n",
              "      <td>Entire home/apt</td>\n",
              "      <td>2</td>\n",
              "      <td>1.0</td>\n",
              "      <td>1.0</td>\n",
              "      <td>1.0</td>\n",
              "      <td>Real Bed</td>\n",
              "      <td>{TV,Wifi,Kitchen,Heating,Essentials,\"Hair drye...</td>\n",
              "      <td>NaN</td>\n",
              "      <td>598.0</td>\n",
              "      <td>$0.00</td>\n",
              "      <td>100.0</td>\n",
              "      <td>1</td>\n",
              "      <td>1125</td>\n",
              "      <td>18</td>\n",
              "      <td>89.0</td>\n",
              "      <td>strict_14_with_grace_period</td>\n",
              "      <td>3</td>\n",
              "      <td>3.31</td>\n",
              "      <td>698.0</td>\n",
              "    </tr>\n",
              "    <tr>\n",
              "      <th>27349</th>\n",
              "      <td>41810588</td>\n",
              "      <td>Close to city, airport and beach! Free parking!</td>\n",
              "      <td>22235426</td>\n",
              "      <td>Matteo</td>\n",
              "      <td>2014-10-07</td>\n",
              "      <td>Copenhagen, Denmark</td>\n",
              "      <td>84%</td>\n",
              "      <td>f</td>\n",
              "      <td>0.0</td>\n",
              "      <td>Copenhagen, Denmark</td>\n",
              "      <td>Amagerbro</td>\n",
              "      <td>Amager st</td>\n",
              "      <td>København</td>\n",
              "      <td>Apartment</td>\n",
              "      <td>Entire home/apt</td>\n",
              "      <td>5</td>\n",
              "      <td>1.0</td>\n",
              "      <td>2.0</td>\n",
              "      <td>3.0</td>\n",
              "      <td>Real Bed</td>\n",
              "      <td>{TV,Wifi,Kitchen,\"Smoking allowed\",\"Pets allow...</td>\n",
              "      <td>NaN</td>\n",
              "      <td>751.0</td>\n",
              "      <td>$0.00</td>\n",
              "      <td>0.0</td>\n",
              "      <td>1</td>\n",
              "      <td>1125</td>\n",
              "      <td>11</td>\n",
              "      <td>98.0</td>\n",
              "      <td>flexible</td>\n",
              "      <td>2</td>\n",
              "      <td>2.26</td>\n",
              "      <td>751.0</td>\n",
              "    </tr>\n",
              "    <tr>\n",
              "      <th>27376</th>\n",
              "      <td>41848710</td>\n",
              "      <td>PERFECTLY LOCATED PRIVATE ROOM IN COPENHAGEN</td>\n",
              "      <td>330806892</td>\n",
              "      <td>Nail</td>\n",
              "      <td>2020-01-26</td>\n",
              "      <td>Copenhagen, Denmark</td>\n",
              "      <td>100%</td>\n",
              "      <td>f</td>\n",
              "      <td>0.0</td>\n",
              "      <td>Copenhagen, Denmark</td>\n",
              "      <td>Nørrebro</td>\n",
              "      <td>Nrrebro</td>\n",
              "      <td>København</td>\n",
              "      <td>Apartment</td>\n",
              "      <td>Private room</td>\n",
              "      <td>1</td>\n",
              "      <td>1.0</td>\n",
              "      <td>1.0</td>\n",
              "      <td>1.0</td>\n",
              "      <td>Real Bed</td>\n",
              "      <td>{Wifi,Kitchen,\"Free parking on premises\",Heati...</td>\n",
              "      <td>NaN</td>\n",
              "      <td>252.0</td>\n",
              "      <td>NaN</td>\n",
              "      <td>0.0</td>\n",
              "      <td>1</td>\n",
              "      <td>30</td>\n",
              "      <td>12</td>\n",
              "      <td>95.0</td>\n",
              "      <td>moderate</td>\n",
              "      <td>1</td>\n",
              "      <td>2.38</td>\n",
              "      <td>252.0</td>\n",
              "    </tr>\n",
              "  </tbody>\n",
              "</table>\n",
              "<p>8553 rows × 33 columns</p>\n",
              "</div>"
            ],
            "text/plain": [
              "             id  ... total_price\n",
              "0          6983  ...       398.0\n",
              "3         29118  ...      1097.0\n",
              "4         29618  ...       932.0\n",
              "5         31094  ...       751.0\n",
              "6         32379  ...       930.0\n",
              "...         ...  ...         ...\n",
              "26972  41056781  ...       498.0\n",
              "27057  41260940  ...       551.0\n",
              "27181  41513485  ...       698.0\n",
              "27349  41810588  ...       751.0\n",
              "27376  41848710  ...       252.0\n",
              "\n",
              "[8553 rows x 33 columns]"
            ]
          },
          "metadata": {
            "tags": []
          },
          "execution_count": 3
        }
      ]
    },
    {
      "cell_type": "code",
      "metadata": {
        "colab": {
          "base_uri": "https://localhost:8080/"
        },
        "id": "4zbhWJsFA_1x",
        "outputId": "ffaf3660-81a8-4f5d-d39d-dc64fe697e2f"
      },
      "source": [
        "# korrelation (fra eksamen)\n",
        "\n",
        "df.bedrooms.corr(df.cleaning_fee)"
      ],
      "execution_count": null,
      "outputs": [
        {
          "output_type": "execute_result",
          "data": {
            "text/plain": [
              "0.3436536574458501"
            ]
          },
          "metadata": {
            "tags": []
          },
          "execution_count": 4
        }
      ]
    },
    {
      "cell_type": "code",
      "metadata": {
        "colab": {
          "base_uri": "https://localhost:8080/"
        },
        "id": "IN70yEyaWKSg",
        "outputId": "dd42ac9a-1953-4b7f-d2a1-39b04c319a47"
      },
      "source": [
        "df.bedrooms.corr(df.total_price)"
      ],
      "execution_count": null,
      "outputs": [
        {
          "output_type": "execute_result",
          "data": {
            "text/plain": [
              "0.5114951369328756"
            ]
          },
          "metadata": {
            "tags": []
          },
          "execution_count": 5
        }
      ]
    },
    {
      "cell_type": "code",
      "metadata": {
        "id": "38gh2_V4SGeu",
        "colab": {
          "base_uri": "https://localhost:8080/",
          "height": 399
        },
        "outputId": "18e66fd6-f1a1-4676-8285-3cff0f97071c"
      },
      "source": [
        "# vi kan bruge seaborn til at plotte alle vores observationer og en \"trendline\"\n",
        "\n",
        "sns.lmplot(x=\"bedrooms\", y=\"total_price\", data=df)"
      ],
      "execution_count": null,
      "outputs": [
        {
          "output_type": "execute_result",
          "data": {
            "text/plain": [
              "<seaborn.axisgrid.FacetGrid at 0x7fdaf1e449d0>"
            ]
          },
          "metadata": {
            "tags": []
          },
          "execution_count": 17
        },
        {
          "output_type": "display_data",
          "data": {
            "image/png": "[encoded data removed]",
            "text/plain": [
              "<Figure size 360x360 with 1 Axes>"
            ]
          },
          "metadata": {
            "tags": []
          }
        }
      ]
    },
    {
      "cell_type": "code",
      "metadata": {
        "colab": {
          "base_uri": "https://localhost:8080/"
        },
        "id": "GiJOg3ueBN5K",
        "outputId": "40ef7c2b-3965-4744-f859-297590372cee"
      },
      "source": [
        "# Vi kan bruge OLS (lineær regression) til at finde den linkeære funtion der best beskriver vores data (vi lærer hvordan det fungerer på 3. semester)\n",
        "\n",
        "import statsmodels.api as sm\n",
        "\n",
        "X = sm.add_constant(df.bedrooms)\n",
        "\n",
        "model = sm.OLS(df.total_price, X)\n",
        "results = model.fit()\n",
        "print(results.summary())"
      ],
      "execution_count": null,
      "outputs": [
        {
          "output_type": "stream",
          "text": [
            "/usr/local/lib/python3.7/dist-packages/statsmodels/tools/_testing.py:19: FutureWarning: pandas.util.testing is deprecated. Use the functions in the public API at pandas.testing instead.\n",
            "  import pandas.util.testing as tm\n"
          ],
          "name": "stderr"
        },
        {
          "output_type": "stream",
          "text": [
            "                            OLS Regression Results                            \n",
            "==============================================================================\n",
            "Dep. Variable:            total_price   R-squared:                       0.262\n",
            "Model:                            OLS   Adj. R-squared:                  0.262\n",
            "Method:                 Least Squares   F-statistic:                     3030.\n",
            "Date:                Tue, 18 May 2021   Prob (F-statistic):               0.00\n",
            "Time:                        07:24:58   Log-Likelihood:                -62678.\n",
            "No. Observations:                8553   AIC:                         1.254e+05\n",
            "Df Residuals:                    8551   BIC:                         1.254e+05\n",
            "Df Model:                           1                                         \n",
            "Covariance Type:            nonrobust                                         \n",
            "==============================================================================\n",
            "                 coef    std err          t      P>|t|      [0.025      0.975]\n",
            "------------------------------------------------------------------------------\n",
            "const        548.1718      8.465     64.758      0.000     531.579     564.765\n",
            "bedrooms     291.1737      5.290     55.044      0.000     280.804     301.543\n",
            "==============================================================================\n",
            "Omnibus:                      581.214   Durbin-Watson:                   1.966\n",
            "Prob(Omnibus):                  0.000   Jarque-Bera (JB):              741.603\n",
            "Skew:                           0.632   Prob(JB):                    9.18e-162\n",
            "Kurtosis:                       3.697   Cond. No.                         4.51\n",
            "==============================================================================\n",
            "\n",
            "Warnings:\n",
            "[1] Standard Errors assume that the covariance matrix of the errors is correctly specified.\n"
          ],
          "name": "stdout"
        }
      ]
    },
    {
      "cell_type": "markdown",
      "metadata": {
        "id": "w0gUUUBWC2fK"
      },
      "source": [
        "Vi kan se, at vores data kan best beskrives med den lineære funktion $\\text{total_price} = 548.17 + 291.17*\\text{bedrooms}$. Dvs vi betaler 548.17kr/nat lige meget hvad og hver gang der er 1 soveværelse mere i en AirBnb lejlighed kan vi forvente, at prisen stiger med 291.17kr/nat. Det er selfvølglig kun noget gennemsnitligt. Man kan også godt se i vores plot, at reele priser afviger en del.\n",
        "\n",
        "Som sagt, skal vi ikke snakke meget mere om statistik og økonometri her - det kommer på 3. semester. Det, som vi skal have styr på er selve funktioner..."
      ]
    },
    {
      "cell_type": "markdown",
      "metadata": {
        "id": "aM_LiNlBVrQf"
      },
      "source": [
        "Vi starter med at oprette et gennemgående problem, som vi hele tiden henviser til i dette afsnit. Problemet er ikke et økonomisk, så vi kan fokusere på matematikken for nu. Lad os antage, at vi får følgende ligning, som beskriver banens bane, efter at den er sparket af en fodboldspiller:\n",
        "\n",
        "$y = (-x^2) + 3x -1$\n",
        "\n",
        "$x$ er tid i sekunder, mens $y$ er boldens vertikale position. Naturligvis vil vi gerne kende den højeste position, bolden nåede, og hvornår det skete. Vi kan tegne ligningen og estimere resultatet visuelt, men hvis vi ønsker det præcise tidspunkt og vertikale position skal vi bruge calculus. I dette kursus undersøger vi de forskellige beregningskoncepter, der er nødvendige for at bygge op til at være i stand til at finde dette punkt.\n",
        "\n",
        "Lad os starte med at visualisere denne funktion.\n",
        "\n"
      ]
    },
    {
      "cell_type": "markdown",
      "metadata": {
        "id": "qsHa-vr-XLAB"
      },
      "source": [
        "**Øvelse**\n",
        "\n",
        "* Brug numpy.linspace() til at generere en Numpy array indeholdene **100** værdier fra **0** til **3** og tildel til $x$.\n",
        "* Transformer $x$ ved at anvende funktionen: $y = (-x^2) + 3x -1$. Tildel resultatet til $y$\n",
        "* Brug pyplot.plot() til at generere et linjediagram med $x$ på x-aksen og $y$ på y-aksen.\n",
        "* Overvej, hvordan man kan udregne max højden, og det præcise tidspunkt det skete. "
      ]
    },
    {
      "cell_type": "code",
      "metadata": {
        "id": "vhDyhw7eEixi",
        "colab": {
          "base_uri": "https://localhost:8080/",
          "height": 285
        },
        "outputId": "99bb03a4-8f91-4001-b7fc-04f741ed375c"
      },
      "source": [
        "import numpy as np\n",
        "import matplotlib.pyplot as plt\n",
        "\n",
        "x = np.linspace(0, 3, num=100)\n",
        "y = -(x**2)+3*x-1\n",
        "\n",
        "plt.plot(x,y)"
      ],
      "execution_count": null,
      "outputs": [
        {
          "output_type": "execute_result",
          "data": {
            "text/plain": [
              "[<matplotlib.lines.Line2D at 0x7fe3db001d10>]"
            ]
          },
          "metadata": {
            "tags": []
          },
          "execution_count": 11
        },
        {
          "output_type": "display_data",
          "data": {
            "image/png": "[encoded data removed]",
            "text/plain": [
              "<Figure size 432x288 with 1 Axes>"
            ]
          },
          "metadata": {
            "tags": [],
            "needs_background": "light"
          }
        }
      ]
    },
    {
      "cell_type": "code",
      "metadata": {
        "colab": {
          "base_uri": "https://localhost:8080/",
          "height": 297
        },
        "id": "1H8uxreQFXmo",
        "outputId": "eab485c3-0a8a-405a-bd75-3a11d4a7b7fc"
      },
      "source": [
        "# alternativ...\n",
        "\n",
        "from sympy import symbols\n",
        "from sympy.plotting import plot\n",
        "x = symbols('x')\n",
        "p1 = plot(-(x**2)+3*x-1, xlim=[0,3], ylim=[-1,1.5], show=True)"
      ],
      "execution_count": null,
      "outputs": [
        {
          "output_type": "display_data",
          "data": {
            "image/png": "[encoded data removed]",
            "text/plain": [
              "<Figure size 432x288 with 1 Axes>"
            ]
          },
          "metadata": {
            "tags": [],
            "needs_background": "light"
          }
        }
      ]
    },
    {
      "cell_type": "markdown",
      "metadata": {
        "id": "GerIKc3GYOL0"
      },
      "source": [
        "#### Del 1.2\n",
        "Før vi dykker ned i at analysere kurven for en bolds højde, skal vi forstå nogle få centrale koncepter først. Vi vil udforske disse koncepter ved hjælp af enkle, lige linjer først og derefter opbygge at anvende disse begreber på kurver. En enkel, lige linje defineres tydeligere som en lineær funktion. Alle lineære funktioner kan skrives i følgende form:\n",
        "\n",
        "$y = mx + b$\n",
        "\n",
        "For en bestemt lineær funktion, m og b er konstante værdier, mens $x$ og $y$ er variabler. $y = 3x + 1$ og $y = 5$ er begge eksempler på lineære funktioner.\n",
        "\n",
        "Lad os fokusere på funktionen $y = 3x + 1$ indtil videre. Denne funktion multiplicerer enhver $x$ værdi, vi tilføjer med 3 og forhøjer derefter værdien med 1. "
      ]
    },
    {
      "cell_type": "markdown",
      "metadata": {
        "id": "uFRfiqe1ZOFQ"
      },
      "source": [
        "Lad os starte med at få en geometrisk forståelse af lineære funktioner. Nedenfor finder du et billede, der kan hjælpe dig med at forstå, hvordan linjen forskydes eller ændres, når du ændrer værdier på $m$ og/eller $b$.\n",
        "* Hvordan ændres linjen, når du holder $m$ fast, men varierer $b$?\n",
        "* Hvordan ændres linjen, når du holder $b$ fast, men varierer $m$?\n",
        "*\tHvilken værdi styrer linjens stejlhed?\n",
        "*\tHvad sker der med linjen, når $m$ er indstillet til 0?"
      ]
    },
    {
      "cell_type": "code",
      "metadata": {
        "colab": {
          "base_uri": "https://localhost:8080/"
        },
        "id": "MdB8j_3AHHtJ",
        "outputId": "4bb11b35-7673-45ad-a99f-024f15f8d0b5"
      },
      "source": [
        "x = np.linspace(-5,6,10)\n",
        "x = np.array([int(i) for i in x])\n",
        "print(x)"
      ],
      "execution_count": null,
      "outputs": [
        {
          "output_type": "stream",
          "text": [
            "[-5 -3 -2 -1  0  1  2  3  4  6]\n"
          ],
          "name": "stdout"
        }
      ]
    },
    {
      "cell_type": "code",
      "metadata": {
        "colab": {
          "base_uri": "https://localhost:8080/"
        },
        "id": "_it6BSx0HRx1",
        "outputId": "c28118bd-c1a1-4cf3-cc7c-41082e4daf2c"
      },
      "source": [
        "y = 3*x + 1\n",
        "print(y)"
      ],
      "execution_count": null,
      "outputs": [
        {
          "output_type": "stream",
          "text": [
            "[-14  -8  -5  -2   1   4   7  10  13  19]\n"
          ],
          "name": "stdout"
        }
      ]
    },
    {
      "cell_type": "code",
      "metadata": {
        "id": "sqaxzAEQZtFl"
      },
      "source": [
        "import IPython"
      ],
      "execution_count": null,
      "outputs": []
    },
    {
      "cell_type": "code",
      "metadata": {
        "colab": {
          "base_uri": "https://localhost:8080/",
          "height": 523
        },
        "id": "4sZhz20BG7Xk",
        "outputId": "c78013ed-2418-4833-8f01-758686aa89ea"
      },
      "source": [
        "iframe = '<iframe src=\"https://www.desmos.com/calculator/efglhmyz8f\" width=\"1000px\" height=\"500px\" style=\"border: 1px solid #ccc\" frameborder=0></iframe>'\n",
        "IPython.display.HTML(iframe)"
      ],
      "execution_count": null,
      "outputs": [
        {
          "output_type": "execute_result",
          "data": {
            "text/html": [
              "<iframe src=\"https://www.desmos.com/calculator/efglhmyz8f\" width=\"1000px\" height=\"500px\" style=\"border: 1px solid #ccc\" frameborder=0></iframe>"
            ],
            "text/plain": [
              "<IPython.core.display.HTML object>"
            ]
          },
          "metadata": {
            "tags": []
          },
          "execution_count": 14
        }
      ]
    },
    {
      "cell_type": "markdown",
      "metadata": {
        "id": "sjIsQliAZmog"
      },
      "source": [
        "#### Del 1.3\n",
        "Fra det forrige trin kan vi fortælle, at konstanten $m$ bestemmer, hvor *stejl* linjen er.\n",
        "Når m er lig med 0, er linjen helt flad og er parallel med x-aksen. Når $m$ og $b$ begge er indstillet til 0, svarer linjen til x-aksen.\n",
        "\n",
        "$m$-værdien styrer en linjes hældning, mens $b$-værdien styrer en linjens y-skæring. Disse udtryk vil blive uddybet yderligere. Y-skæringspunktet er den værdi, hvor linjen skærer y-aksen. Når man fastholder $m$, men varierede b, har du muligvis bemærket, at det punkt, hvor linjen krydsede y-aksen, varierede. Linjen skærer y-aksen når $x$ er 0. For $y = 3x$, er y-skæringspunktet:\n",
        "\n",
        "$f(0) = 3(0) + 1 = 1$\n",
        "\n",
        "Mens y-skæringspunktet beskriver, hvor en linje skærer y-aksen, beskriver hældningen linjens stejlhed. I det sidste trin, når vi indstiller $m$ til en positiv værdi, er y-værdierne steget efterhånden som x-værdierne steg. Når vi indstiller $m$ til en negativ værdi, falder y-værdierne, som x-værdierne steg. Når $m$ var 0, var y-værdien konsistent (og tilsvarende y-skæringspunktet). \n"
      ]
    },
    {
      "cell_type": "markdown",
      "metadata": {
        "id": "6THHAOEra4tM"
      },
      "source": [
        "En anden måde at tænke på hældning er **ændringshastighed** (*rate of change*). Ændringshastigheden er, hvor meget y-aksen ændrer sig, for en bestemt ændring i x-aksen.\n",
        "\n",
        "$m = \\frac{\\text{change in y}}{\\text{change in x}} = \\frac{\\Delta y}{\\Delta x}$\n",
        "\n",
        "Her er hældningsberegningen mellem punkterne (1,4) og (4,14), som begge er punkter på linjen $y = 3x + 1$:\n",
        "\n",
        "$m = \\frac{\\text{change in y}}{\\text{change in x}} = \\frac{13-4}{4-1} = 3$\n",
        "\n",
        "Når der skal skrives unikke $x$ og $y$ koordinater, tilføjes der normalt en tal intex (subscript). For eksempel kan punkterne (1,4) og (4,13) fra den sidste beregning være kaldt ($x_1, y_1$) og ($x_2, y_2$). Hvis vi ikke specificerer hvad ($x_1, y_1$) og ($x_2, y_2$) er, handler de som variabler. Vi understreger dette yderligere i billedet til dette trin, og når vi undersøger i beregningerne i næste trin.\n",
        "\n",
        "Det følgende billede indeholder en visualisering af $y = 3x + 1$ med 2 koordinater fremhævet. Prøv at variere $x_1$ og $x_2$ værdierne og observer visualiseringen af ændringshastigheden. Både koordinaterne ($x_1, y_1$) og ($x_2, y_2$) er fremhævet på linjen. Beregningen af ændringshastigheden vises også i plottets titel. Du vil bemærke, at\n",
        "ligegyldigt hvad koordinaterne er, er ændringshastigheden mellem dem altid 3.\n"
      ]
    },
    {
      "cell_type": "code",
      "metadata": {
        "id": "r0ajAx7iVnzT",
        "colab": {
          "base_uri": "https://localhost:8080/",
          "height": 523
        },
        "outputId": "6b522525-eb99-4651-f589-5834cb1eec2f"
      },
      "source": [
        "iframe = '<iframe src=\"https://www.desmos.com/calculator/jh1zb3n9al\" width=\"1000px\" height=\"500px\" style=\"border: 1px solid #ccc\" frameborder=0></iframe>'\n",
        "IPython.display.HTML(iframe)\n",
        "\n"
      ],
      "execution_count": null,
      "outputs": [
        {
          "output_type": "execute_result",
          "data": {
            "text/html": [
              "<iframe src=\"https://www.desmos.com/calculator/jh1zb3n9al\" width=\"1000px\" height=\"500px\" style=\"border: 1px solid #ccc\" frameborder=0></iframe>"
            ],
            "text/plain": [
              "<IPython.core.display.HTML object>"
            ]
          },
          "metadata": {
            "tags": []
          },
          "execution_count": 60
        }
      ]
    },
    {
      "cell_type": "markdown",
      "metadata": {
        "id": "sTq_Eo-JeNy-"
      },
      "source": [
        "#### Del 1.4\n",
        "Hvis vi beregner ændringshastigheden mellem punkter på en linje, vil den altid være lig funktionens hældning. Lad os vise dette for det mere generelle tilfælde. I det følgende repræsenterer ($x_1, y_1$) og ($x_2, y_2$) 2 tilfædlige koordinater på en linje:\n",
        "\n",
        "$y_1 = mx_1 + b$\n",
        "\n",
        "$y_2 = mx_2 + b$\n",
        "\n",
        "Vi kan trække begge disse ligninger fra for at få:\n",
        "\n",
        "$y_1 - y_2 = mx_1 - mx_2 + b - b$\n",
        "\n",
        "$y_1 - y_2 = m(x_1 - x_2)$\n",
        "\n",
        "$m = (y_1 - y_2)/(x_1 - x_2)$\n",
        "\n",
        "$y_1 - y_2$ repræsenterer her $\\Delta y$, og $x_1 - x_2$ repræsenterer $\\Delta x$. Lad os udregne hældningen for nogle flere punkter der ligger på $y = 3x + 1$. \n"
      ]
    },
    {
      "cell_type": "markdown",
      "metadata": {
        "id": "2yaAk5qRf2oo"
      },
      "source": [
        "**Øvelse**\n",
        "* Skriv en funktion med navnet slope(), der beregner ændringshastigheden mellem to koordinater.\n",
        "* Denne funktion skal acceptere 4 parametre, der repræsenterer 2 x-værdier og 2 y-værdier for 2 forskellige punkter: $x1$, $x2$, $y1$, $y2$\n",
        "* Beregn ændringshastigheden mellem (0,1) og (4,13) og tildel\n",
        "til slope_1.\n",
        "* Beregn ændringshastigheden mellem (5,16) og (-1, -2) og tildel til slope_2.\n",
        "* Beregn ændringshastigheden mellem 2 punkter fra visualiseringen\n",
        "\n"
      ]
    },
    {
      "cell_type": "code",
      "metadata": {
        "id": "EuQWu-OsgYDm"
      },
      "source": [
        "def slope(x1, x2, y1, y2):\n",
        "  m = (y2-y1)/(x2-x1)\n",
        "  return m"
      ],
      "execution_count": null,
      "outputs": []
    },
    {
      "cell_type": "code",
      "metadata": {
        "id": "QMSe8W3alF6I"
      },
      "source": [
        "slope_1 = slope(0,4,1,13)\n",
        "slope_2 = slope(5,-1,16,-2)"
      ],
      "execution_count": null,
      "outputs": []
    },
    {
      "cell_type": "code",
      "metadata": {
        "colab": {
          "base_uri": "https://localhost:8080/"
        },
        "id": "TIIaNM7XlNtW",
        "outputId": "05cac264-eede-47cc-a63a-daccd8c7de14"
      },
      "source": [
        "print(slope_1)\n",
        "print(slope_2)"
      ],
      "execution_count": null,
      "outputs": [
        {
          "output_type": "stream",
          "text": [
            "3.0\n",
            "3.0\n"
          ],
          "name": "stdout"
        }
      ]
    },
    {
      "cell_type": "markdown",
      "metadata": {
        "id": "wpb5Rft5gYMN"
      },
      "source": [
        "#### Del 1.5\n",
        "Indtil videre har vi arbejdet med lineære funktioner, hvor vi kan bestemme hældningen på funktion fra selve ligningen. Men hvis vi vender tilbage til vores ligning med boldens bane, vil du bemærke, at det ikke matcher formularen $y = mx + b$:\n",
        "\n",
        "$y = -(x^2) + 3x - 1$\n",
        "\n",
        "Dette skyldes, at denne funktion er en **ikke-lineær funktion**. Ikke-lineære funktioner repræsenterer ikke lige linjer - de repræsenterer kurver som den, vi fremlagde i det første trin i denne mission. Outputs fra en ikke-lineær funktion er ikke proportionale med inputværdierne $x$. Et inkrement i $x$ resulterer ikke i konstant inkrement i $y$.\n",
        "\n",
        "Når $x$ hæves til en styrke, der ikke er lig med $1$, har vi en ikke-lineær funktion. Her er nogle flere eksempler på ikke-lineære funktioner:\n",
        "\n",
        "$y = x^3$\n",
        "\n",
        "$y = x^3 + 3x^2 + 2x -1$\n",
        "\n",
        "$y = \\frac{1}{-x^2}$\n",
        "\n",
        "$y = \\sqrt{x}$\n",
        "\n",
        "I det følgende billede kan du observere, hvordan hældningen ændrer sig med forskellige værdier for $x_1$ og $x_2$ her bruger jeg lige $a$ og $b$ pga interface."
      ]
    },
    {
      "cell_type": "code",
      "metadata": {
        "id": "yruKRD5Bi0ux",
        "colab": {
          "base_uri": "https://localhost:8080/",
          "height": 523
        },
        "outputId": "c4043fdc-7b7e-4896-b316-b336d4b58ca3"
      },
      "source": [
        "iframe = '<iframe src=\"https://www.desmos.com/calculator/wiirw9ca6h\" width=\"1000\" height=\"500px\" style=\"border: 1px solid #ccc\" frameborder=0></iframe>'\n",
        "IPython.display.HTML(iframe)\n"
      ],
      "execution_count": null,
      "outputs": [
        {
          "output_type": "execute_result",
          "data": {
            "text/html": [
              "<iframe src=\"https://www.desmos.com/calculator/wiirw9ca6h\" width=\"1000\" height=\"500px\" style=\"border: 1px solid #ccc\" frameborder=0></iframe>"
            ],
            "text/plain": [
              "<IPython.core.display.HTML object>"
            ]
          },
          "metadata": {
            "tags": []
          },
          "execution_count": 59
        }
      ]
    },
    {
      "cell_type": "markdown",
      "metadata": {
        "id": "liaYcjaGi13w"
      },
      "source": [
        "#### Del 1.6\n",
        "Efterhånden som i ændrede $x_1$ og $x_2$, varierede hældningen mellem de 2 punkter drastisk. Fordi lineære funktioner har en konstant hældning igennem, og dermer kender vi hældningen for alle punkter på linjen. Hvis vi vidste, at forholdet mellem temperatur og vindhastighed var lineær, kunne vi forudsige, hvad vindhastigheden ville være ved en hvilken som helst temperatur ved at prøve to punkter og beregne hældningen.\n",
        "\n",
        "Hvis forholdet i stedet var ikke-lineært, kunne vi ikke forudsige, hvad vindhastighedenville være ved en hvilken som helst bestemt temperatur ved blot at måle 2 punkter og regne hældning mellem dem (fordi hældningen ændrer sig drastisk afhængigt af hvilke 2 punkter du vælger). Når vi beregner hældningen mellem 2 punkter på en kurve, beregner vi i virkeligheden hældningen mellem linjen, der skærer begge disse punkter.\n",
        "\n",
        "Som I ved er ligningen for en lineær funktion er $y = mx + b$. Hvis vi kender værdierne for $m$, $x$ og $y$, kan vi beregne $b$, eller y-skæringen, ved hjælp af noget aritmetik. Lad os gå gennem beregningen for linjen, der forbinder punkterne ved x-værdierne $0$ og $1$.\n",
        "\n",
        "Først angiver vi, hvad vi ved.\n",
        "\n",
        "$y = -(x^2) + 3x -1$\n",
        "\n",
        "$x_1 = 0$\n",
        "\n",
        "$x_2 = 1$\n",
        "\n",
        "Vi bruger $y = -(x^2) + 3x -1$ til at beregne $y_1$ og $y_2$.\n",
        "\n",
        "$y_1 = 0 + 0 - 1 = -1$\n",
        "\n",
        "$y_2 = -1 +3 -1 = 1$\n",
        "\n",
        "Vi bruger koordinaterne (x,y) til at løse hældningen.\n",
        "\n",
        "$m = \\frac{y_2 - y_1}{x_2 - x_1} = \\frac{2}{1} = 2$\n",
        "\n",
        "Fordi både ($x_1, y_1$) og ($x_2, y_2$) er punkter på linjen, kan vi bruge både den ene og den anden til at beregne y-skæringsværdien ($b$).\n",
        "\n",
        "$y_1 = mx_1 + b$\n",
        "\n",
        "$-1 = 2(0) + b$\n",
        "\n",
        "$b = -1$\n",
        "\n",
        "Endelig kan vi bruge hældningen og y-skæringen til at udforme ligningen for\n",
        "linjen, der forbinder begge punkter:\n",
        "\n",
        "$y = 2x -1$\n",
        "\n",
        "En linje, der skærer 2 punkter på en kurve, er kendt som en **sekantlinje**. Lad os øve at skabe nogle sekantlinjer til vores kurve.Vi har lavet lidt forarbejde til at danne en funktione **draw_secant()**, som lige nu bare plotter vores ikke-lineære funktion mellem x-værdierne -20 og 30.\n"
      ]
    },
    {
      "cell_type": "markdown",
      "metadata": {
        "id": "EZA-Yhtrmf_N"
      },
      "source": [
        "**øvelse** \n",
        "\n",
        "Lad os prøve at definere funktionen **draw_secant()**, som accepterer 2 x-værdier som en liste\n",
        "og tegner sekantlinjen, der forbinder disse 2 punkter. Denne funktion skal:\n",
        "\n",
        "* Bestemme y-værdierne for disse 2 x-værdier ved hjælp af vores ikke-lineære funktion.\n",
        "* Beregne hældningen mellem disse 2 punkter.\n",
        "* Beregne y-skæringspunktet ved hjælp af aritmetik.\n",
        "* Plotte sekantlinjen ved hjælp af farven \"grøn\".\n",
        "* Vise alle plottene i funktionen.\n",
        "\n",
        "Brug funktionen draw_secant() til at generere 3 plot:\n",
        "* En visualisering af sekantlinjen mellem x-værdierne 3 og 5.\n",
        "* En visualisering af sekantlinjen mellem x-værdierne 3 og 10.\n",
        "* En visualisering af sekantlinjen mellem x-værdierne 3 og 15\n"
      ]
    },
    {
      "cell_type": "code",
      "metadata": {
        "id": "uVwvJFn5nDYr",
        "colab": {
          "base_uri": "https://localhost:8080/",
          "height": 272
        },
        "outputId": "81010d29-e6fd-49ef-c1b3-b0025ee50235"
      },
      "source": [
        "import seaborn\n",
        "seaborn.set(style='darkgrid')\n",
        "\n",
        "def draw_secant(x_values):\n",
        "    # draw function\n",
        "    x = np.linspace(-20,30,100)\n",
        "    y = -1*(x**2) + x*3 - 1\n",
        "    plt.plot(x,y)\n",
        "    \n",
        "    # hent x1 og x2\n",
        "    x1 = x_values[0]\n",
        "    x2 = x_values[1]\n",
        "    \n",
        "    # udregn y-værdier fra x1 og x2\n",
        "    y1 = -1*(x1**2) + x1*3 - 1\n",
        "    y2 = -1*(x2**2) + x2*3 - 1\n",
        "    \n",
        "    # hældning m og intercept udregnes her\n",
        "    m = (y2-y1)/(x2-x1)\n",
        "    b = y1-m*x1\n",
        "    \n",
        "    # formel for sekanten\n",
        "    s = m*x+b\n",
        "    \n",
        "    plt.plot(x,s, c='green')\n",
        "    #plt.show()\n",
        "    \n",
        "draw_secant([3,15])"
      ],
      "execution_count": null,
      "outputs": [
        {
          "output_type": "display_data",
          "data": {
            "image/png": "[encoded data removed]",
            "text/plain": [
              "<Figure size 432x288 with 1 Axes>"
            ]
          },
          "metadata": {
            "tags": []
          }
        }
      ]
    },
    {
      "cell_type": "code",
      "metadata": {
        "colab": {
          "base_uri": "https://localhost:8080/",
          "height": 268
        },
        "id": "Nek1XXr_u2fK",
        "outputId": "18a1c412-0138-4f6a-a408-c9717633b74c"
      },
      "source": [
        "draw_secant([3,5])"
      ],
      "execution_count": null,
      "outputs": [
        {
          "output_type": "display_data",
          "data": {
            "image/png": "[encoded data removed]",
            "text/plain": [
              "<Figure size 432x288 with 1 Axes>"
            ]
          },
          "metadata": {
            "tags": []
          }
        }
      ]
    },
    {
      "cell_type": "code",
      "metadata": {
        "colab": {
          "base_uri": "https://localhost:8080/",
          "height": 268
        },
        "id": "D9RP_Q26u7cQ",
        "outputId": "a4235b24-0850-4d56-9440-e682b7453e59"
      },
      "source": [
        "draw_secant([3,10])"
      ],
      "execution_count": null,
      "outputs": [
        {
          "output_type": "display_data",
          "data": {
            "image/png": "[encoded data removed]",
            "text/plain": [
              "<Figure size 432x288 with 1 Axes>"
            ]
          },
          "metadata": {
            "tags": []
          }
        }
      ]
    },
    {
      "cell_type": "code",
      "metadata": {
        "colab": {
          "base_uri": "https://localhost:8080/",
          "height": 268
        },
        "id": "Ngs5OV-YvGRW",
        "outputId": "401ef38d-b638-4280-9ec0-4d477961fe86"
      },
      "source": [
        "draw_secant([3,25])"
      ],
      "execution_count": null,
      "outputs": [
        {
          "output_type": "display_data",
          "data": {
            "image/png": "[encoded data removed]",
            "text/plain": [
              "<Figure size 432x288 with 1 Axes>"
            ]
          },
          "metadata": {
            "tags": []
          }
        }
      ]
    },
    {
      "cell_type": "code",
      "metadata": {
        "colab": {
          "base_uri": "https://localhost:8080/",
          "height": 523
        },
        "id": "HQAHxE1pel7b",
        "outputId": "ee8f2237-3d55-405f-eb9a-a4a51efb6cf5"
      },
      "source": [
        "iframe = '<iframe src=\"https://www.desmos.com/calculator/i4s0yotljp\" width=\"1000px\" height=\"500px\" style=\"border: 1px solid #ccc\" frameborder=0></iframe>'\n",
        "IPython.display.HTML(iframe)\n"
      ],
      "execution_count": null,
      "outputs": [
        {
          "output_type": "execute_result",
          "data": {
            "text/html": [
              "<iframe src=\"https://www.desmos.com/calculator/i4s0yotljp\" width=\"1000px\" height=\"500px\" style=\"border: 1px solid #ccc\" frameborder=0></iframe>"
            ],
            "text/plain": [
              "<IPython.core.display.HTML object>"
            ]
          },
          "metadata": {
            "tags": []
          },
          "execution_count": 65
        }
      ]
    },
    {
      "cell_type": "markdown",
      "metadata": {
        "id": "1AExEik4nRdk"
      },
      "source": [
        "#### Del 1.7\n",
        "I det delafsnit plottede vi sekantlinjer mellem den faste $x_1$ værdi og stadig større $x_2$ værdier. Da afstanden mellem $x_1$ og $x_2$ var lille, *krydsede* sekantlinjen nemt med vores kurve. Da vi øgede afstanden mellem de 2 x-værdier, begyndte sekantlinjen at afvige fra vores kurve. Denne observation er kritisk for at forstå hvordan hældning fungerer for kurver.\n",
        "\n",
        "Hældningen på en kurve på et bestemt punkt forstås bedst som hældningen af sekantlinjen med stadig mindre intervaller af $[x_1, x_2]$. Jo mindre forskellen mellem $x_1$ og $x_2$, jo mere præcist tilnærmer sekantlinjen hældningen på det punkt på vores kurve.\n",
        "\n",
        "Gå tilbage til den interaktive visualisering og hold $a$ ved 3 mens du ændrer $h$, som her er afstand mellem de to punkter  $[x_1, x_2]$.\n",
        "Skift værdier mellem 2.5 til 3 og fra 3.5 til 3. Hvilken værdi nærmer hældningen sig? Hvad sker når $x_1$ og $x_2$ er de samme?\n"
      ]
    },
    {
      "cell_type": "markdown",
      "metadata": {
        "id": "TuiihteUpGKR"
      },
      "source": [
        "#### Del 1.8\n",
        "Når $x_1$ og $x_2$ har samme værdi, er hældningsværdien **udefineret**. Dette skyldes, at **deling med 0** ingen mening har i matematiske beregninger.\n",
        "\n",
        "$m = \\frac{-1--1}{3-3} = \\frac{0}{0} = \\text{undefined}$\n",
        "\n",
        "Når $x_2$ nærmer sig $x_1$ fra hvilken som helst side af kurven, er hældningen af den sekante linje imidlertid nær -3. Her er en tabel, der viser hældningsværdierne for stadig smalere huller mellem $x_1$ og $x_0$:\n",
        "\n",
        "\n",
        "$$\n",
        "\\begin{matrix}\n",
        "\\hline\n",
        "\\textbf{x2} & \\textbf{x1} & \\textbf{m} \\\\ \\hline\n",
        "2.9         & 3           & -2.9       \\\\\n",
        "2.99        & 3           & -2.99      \\\\\n",
        "2.999       & 3           & -2.999     \\\\\n",
        "3.01        & 3           & -3.01      \\\\\n",
        "3.001       & 3           & -3.001     \\\\\n",
        "3.0001      & 3           & -3.0001    \\\\ \\hline\n",
        "\\end{matrix}\n",
        "$$\n"
      ]
    },
    {
      "cell_type": "markdown",
      "metadata": {
        "id": "vAB-lsCxqTb7"
      },
      "source": [
        "Selvom vi ikke kan beregne hældningen på det punkt, hvor $x_0 = x_1 = 3$, kan vi udlede fra tabellen og grafen fra det sidste trin, at den nærmer sig -3. Denne værdi er kendt som **den øjeblikkelige vækstrate**, fordi den beskriver hældningen på et bestemt punkt. I lineære funktioner, er den øjeblikkelige vækstrate på ethvert punkt på linjen den samme. I\n",
        "ikke-lineære funktioner, beskriver den øjeblikkelige ændringshastighed grafens stejlhed af funktionen på et bestemt punkt.\n",
        "\n",
        "Denne linje er kendt som **tangenten**, og i modsætning til sekantlinjen skærer den kun vores funktion på ét tidspunkt. Indtil videre har vi arbejdet med sekantlinjer, der forbinder 2 punkter, der er tættere sammen. Du kan tænke på tangentlinjen som sekantlinjen når begge punkter er de samme. For nu bliver vi nødt til at lære at arbejde med den udefenerede værdi, som vi får når vi prøver at beregne tangentlinjen direkte.\n"
      ]
    },
    {
      "cell_type": "markdown",
      "metadata": {
        "id": "sn9Q9MMK71SA"
      },
      "source": [
        "**Øvelse** - fra https://tutorial.math.lamar.edu/Solutions/CalcI/Tangents_Rates/Prob1.aspx\n",
        "\n",
        "$f\\left( x \\right) = 3{\\left( {x + 2} \\right)^2}$\\\n",
        "$P: x= -3$ \n",
        "\n",
        "$Q: -3.5; -3.1; -3.01; -3.001; -3.0001;\n",
        "-2.5; -2.9; -2.99; -2.999; -2.9999$\n"
      ]
    },
    {
      "cell_type": "code",
      "metadata": {
        "id": "dxK_mMiI70fW"
      },
      "source": [
        "y1 = 3*(-3+2)**2\n",
        "\n",
        "Q = np.array([-3.5, -3.1, -3.01, -3.001, -3.0001, -2.5, -2.9, -2.99, -2.999, -2.9999])"
      ],
      "execution_count": null,
      "outputs": []
    },
    {
      "cell_type": "code",
      "metadata": {
        "id": "-r0enPwj9CH5"
      },
      "source": [
        "Y = 3*(Q+2)**2"
      ],
      "execution_count": null,
      "outputs": []
    },
    {
      "cell_type": "code",
      "metadata": {
        "colab": {
          "base_uri": "https://localhost:8080/"
        },
        "id": "PsHVbePlyZbn",
        "outputId": "2f2ee248-ef28-46b9-c2a3-86062081a992"
      },
      "source": [
        "Y"
      ],
      "execution_count": null,
      "outputs": [
        {
          "output_type": "execute_result",
          "data": {
            "text/plain": [
              "array([6.75      , 3.63      , 3.0603    , 3.006003  , 3.00060003,\n",
              "       0.75      , 2.43      , 2.9403    , 2.994003  , 2.99940003])"
            ]
          },
          "metadata": {
            "tags": []
          },
          "execution_count": 39
        }
      ]
    },
    {
      "cell_type": "code",
      "metadata": {
        "colab": {
          "base_uri": "https://localhost:8080/"
        },
        "id": "pcEUzu4Z9F5W",
        "outputId": "ca4a4676-0c98-48ec-f9d9-224c7aa1550e"
      },
      "source": [
        "M = (Y-y1) / (Q--3)\n",
        "print(M)"
      ],
      "execution_count": null,
      "outputs": [
        {
          "output_type": "stream",
          "text": [
            "[-7.5    -6.3    -6.03   -6.003  -6.0003 -4.5    -5.7    -5.97   -5.997\n",
            " -5.9997]\n"
          ],
          "name": "stdout"
        }
      ]
    },
    {
      "cell_type": "markdown",
      "metadata": {
        "id": "2c3vxe9XrWKW"
      },
      "source": [
        "#### Del 1.x - Opsummering\n",
        "\n"
      ]
    },
    {
      "cell_type": "markdown",
      "metadata": {
        "id": "bK8GyloWrtZu"
      },
      "source": [
        "##### Syntaks:\n",
        "\n",
        "* Generer et Numpy array med 100 værdier mellem 0 og 3: "
      ]
    },
    {
      "cell_type": "code",
      "metadata": {
        "id": "VOOC8F66rvKD"
      },
      "source": [
        "import numpy as np\n",
        "x = np.linspace(0, 3, 100)"
      ],
      "execution_count": null,
      "outputs": []
    },
    {
      "cell_type": "markdown",
      "metadata": {
        "id": "cd1rRaWnsF6U"
      },
      "source": [
        "* Plot $y = -(x^2) + 3x - 1$:"
      ]
    },
    {
      "cell_type": "code",
      "metadata": {
        "id": "G4ewZKzNr6a7"
      },
      "source": [
        "y = -1 * (x ** 2) + 3*x - 1\n",
        "plt.plot(x,y)"
      ],
      "execution_count": null,
      "outputs": []
    },
    {
      "cell_type": "markdown",
      "metadata": {
        "id": "jMLy7n5rsWUE"
      },
      "source": [
        "* Plot en sekantlinje:"
      ]
    },
    {
      "cell_type": "code",
      "metadata": {
        "id": "kaXZ9H51sOvq"
      },
      "source": [
        " x_0 = x_values[0]\n",
        " x_1 = x_values[1]\n",
        " y_0 = -1*(x_0**2) + x_0*3 - 1\n",
        " y_1 = -1*(x_1**2) + x_1*3 - 1\n",
        " m = (y_1 - y_0) / (x_1 - x_0)\n",
        " b = y_1 - m*x_1 \n",
        " y_secant = x*m + b\n",
        " plt.plot(x, y_secant, c='green')\n",
        " plt.show()"
      ],
      "execution_count": null,
      "outputs": []
    },
    {
      "cell_type": "markdown",
      "metadata": {
        "id": "LvrYPTCCskKS"
      },
      "source": [
        "##### Hovedkoncepter:\n",
        "\n",
        "* Calculus hjælper os med at:\n",
        "  * Forstå stejlheden på forskellige punkter.\n",
        "  * Finde de ekstreme punkter i en funktion.\n",
        "  * Bestemme den optimale funktion, der bedst repræsenterer et datasæt.\n",
        "* En lineær funktion er en lige linje.\n",
        "* Hvis $m$ og $b$ er konstante værdier, hvor $x$ og $y$ er variabler, så er funktionen for en lineær funktion:\n",
        "\n",
        "$y = mx + b$\n",
        "\n",
        "* I en lineær funktion styrer $m$ værdien, hvor stejl en linje er, mens $b$ værdien styrer en linjes y-skæring, eller hvor linjen krydser $y$ aksen.\n",
        "\n",
        "* En måde at tænke på hældning er som en ændringshastighed. Mere konkret, hældning er hvor meget y-aksen ændrer sig for en bestemt ændring i x-aksen. Hvis ($x_1, y_1$) og ($x_2, y_2$) er 2 koordinater på en linje er hældningsligningen:\n",
        "\n",
        "$m = \\frac{y_1 - y_2}{x_1 - x_2}$\n",
        "\n",
        "* Når $x_1$ og $x_2$ er ækvivalente, er hældningen udefineret, fordi delingen af 0 ikke har nogen betydning i matematik.\n",
        "\n",
        "* Ikke-lineære funktioner repræsenterer kurver, og deres outputværdier ($y$) er ikke proportionale med deres inputværdier ($x$).\n",
        "\n",
        "* Eksempler på ikke-lineære funktioner inkluderer:\n",
        "  * $y = x^3$\n",
        "  * $y = x^3 + 3x^2 + 2x - 1$\n",
        "  * $y = \\frac{1}{-x^2}$\n",
        "  * $y = \\sqrt{x}$\n",
        "\n",
        "* En linje, der skærer to punkter på en kurve, er kendt som en sekantlinie.\n",
        "\n",
        "* Hældningen mellem to givne punkter er kendt som den øjeblikkelige ændringshastighed. For lineære funktioner, er ændringshastigheden den samme på ethvert punkt på linjen. For ikke-lineær funktion, beskriver øjeblikkelig ændringshastighed hældningen af linjen, der er vinkelret på den ikke-lineære\n",
        "funktion på et bestemt punkt.\n",
        "\n",
        "* Linjen, der er vinkelret på den ikke-lineære funktion på et bestemt punkt, er kendt som tangentlinien og skærer kun funktionen på ét tidspunkt.\n"
      ]
    }
  ]
}