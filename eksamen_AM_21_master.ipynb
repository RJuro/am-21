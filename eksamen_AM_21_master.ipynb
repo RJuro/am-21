{
  "nbformat": 4,
  "nbformat_minor": 0,
  "metadata": {
    "colab": {
      "name": "eksamen AM 21 - master.ipynb",
      "provenance": [],
      "collapsed_sections": [],
      "authorship_tag": "ABX9TyMZ68D82MTmcHqRPekoe93e",
      "include_colab_link": true
    },
    "kernelspec": {
      "name": "python3",
      "display_name": "Python 3"
    },
    "language_info": {
      "name": "python"
    }
  },
  "cells": [
    {
      "cell_type": "markdown",
      "metadata": {
        "id": "view-in-github",
        "colab_type": "text"
      },
      "source": [
        "<a href=\"https://colab.research.google.com/github/RJuro/am-21/blob/main/eksamen_AM_21_master.ipynb\" target=\"_parent\"><img src=\"https://colab.research.google.com/assets/colab-badge.svg\" alt=\"Open In Colab\"/></a>"
      ]
    },
    {
      "cell_type": "markdown",
      "metadata": {
        "id": "jQQcFjWO_OPx"
      },
      "source": [
        "# Eksamen: Anvendt Matematik\n",
        "\n",
        "Opgaven har 2 dele. Lineær algebra og calculus.\n",
        "\n",
        "#### Rules of the game:\n",
        "\n",
        "- Don't panic! - Hvis koden ikke virker (men virkede før). Gå tilbage, og kør oppefra ned. Også en god ide at tjekke, at koden er fejlfri ved at gøre denne øvelse undervejs.\n",
        "- De fleste kodefejl er dumme stavefejl. Vær omhyggelig med kommaer, punkter etc.\n",
        "- Hvis der er noget, som slet ikke kan løses, så kan du bare kommentere ud med `#`\n",
        "- Brug objektnavne, der blev defineret i opgaven\n",
        "- Der afleveres som 👉 `ipynb` (**ikke PDF!**)"
      ]
    },
    {
      "cell_type": "code",
      "metadata": {
        "id": "80zZyD9i0QF7"
      },
      "source": [
        "# importer pakker\n",
        "from sympy import *\n",
        "import numpy as np\n",
        "np.set_printoptions(suppress=True)\n",
        "from scipy import linalg\n",
        "import matplotlib.pyplot as plt\n"
      ],
      "execution_count": null,
      "outputs": []
    },
    {
      "cell_type": "markdown",
      "metadata": {
        "id": "7J2qIFxT_YNO"
      },
      "source": [
        "## Del 1: Lineær Algebra - Ninja Grind\n",
        "\n",
        "![](https://source.unsplash.com/X4RJG4aNi8o)\n",
        "\n",
        "Den lokale manager for kaffekæden \"Ninja Grind\" vil gerne finde ud af hvor mange glas/krus Latte og Luksus-Cappuccino der skal produceres hver dag givet de standard-leveringer af mælk og espressobønner, som kan garanteres pt.\n",
        "\n",
        "Der er ansæt en fultids-barista (8 timer/dag).\n",
        "Der kan bruges 12 liter mælk og 2.5 liter espresso om dagen.\n",
        "\n",
        "#### Priser:\n",
        "- Latte: 40DKK\n",
        "- Luksus cappuccino: 56DKK\n",
        "\n",
        "#### Fordeling af inputs:\n",
        "\n",
        "1.   Espresso:\n",
        "    *  36 ml / latte\n",
        "    *  72 ml / luksus cappuccino\n",
        "2.   Mælk:\n",
        "    *  244 ml / latte\n",
        "    *  278 ml / luksus cappuccino\n",
        "3.   Barista arbejde:\n",
        "    *  0.08 timer / latte\n",
        "    *  0.12 timer / luksus cappuccino\n",
        "\n"
      ]
    },
    {
      "cell_type": "code",
      "metadata": {
        "id": "ty6GAl7N0gy4"
      },
      "source": [
        "# 1.1\n",
        "# Opstil ligninger, som beskriver vores optimeringsproblem i SymPy\n",
        "# Brug symboler l (latte) og c (cappuccino)\n",
        "\n",
        "# definer symboler\n",
        "l, c = symbols('l, c')\n",
        "\n",
        "# definer ligninger\n",
        "eq1 = Eq(36*l + 72*c, 2500) #Espresso\n",
        "eq2 = Eq(244*l + 278*c, 12000) #Mælk \n",
        "eq3 = Eq(0.08*l + 0.12*c, 8) #Arbejdstimer"
      ],
      "execution_count": null,
      "outputs": []
    },
    {
      "cell_type": "code",
      "metadata": {
        "colab": {
          "base_uri": "https://localhost:8080/",
          "height": 39
        },
        "id": "kRjg1QG9156Y",
        "outputId": "6a16cd22-2310-49bf-b275-cd5c1634bcee"
      },
      "source": [
        "# print de 3 ligninger (1 cell / ligning)\n",
        "eq1"
      ],
      "execution_count": null,
      "outputs": [
        {
          "output_type": "execute_result",
          "data": {
            "text/latex": "$\\displaystyle 72 c + 36 l = 2500$",
            "text/plain": [
              "Eq(72*c + 36*l, 2500)"
            ]
          },
          "metadata": {
            "tags": []
          },
          "execution_count": 3
        }
      ]
    },
    {
      "cell_type": "code",
      "metadata": {
        "colab": {
          "base_uri": "https://localhost:8080/",
          "height": 39
        },
        "id": "sfpEewni19uH",
        "outputId": "0995d41f-9848-4206-a8f2-0471137f3cb3"
      },
      "source": [
        "eq2"
      ],
      "execution_count": null,
      "outputs": [
        {
          "output_type": "execute_result",
          "data": {
            "text/latex": "$\\displaystyle 278 c + 244 l = 12000$",
            "text/plain": [
              "Eq(278*c + 244*l, 12000)"
            ]
          },
          "metadata": {
            "tags": []
          },
          "execution_count": 4
        }
      ]
    },
    {
      "cell_type": "code",
      "metadata": {
        "colab": {
          "base_uri": "https://localhost:8080/",
          "height": 39
        },
        "id": "Yy-x9UH11-N1",
        "outputId": "9d9c09ad-804a-4f3c-bcbf-295774664300"
      },
      "source": [
        "eq3"
      ],
      "execution_count": null,
      "outputs": [
        {
          "output_type": "execute_result",
          "data": {
            "text/latex": "$\\displaystyle 0.12 c + 0.08 l = 8$",
            "text/plain": [
              "Eq(0.12*c + 0.08*l, 8)"
            ]
          },
          "metadata": {
            "tags": []
          },
          "execution_count": 5
        }
      ]
    },
    {
      "cell_type": "code",
      "metadata": {
        "id": "8qztas80wqD_"
      },
      "source": [
        "# 1.2.1 - Grafisk løsning\n",
        "# plot de 3 funktioner med Latte på x-aksen og Cappuccino på y-aksen\n",
        "\n",
        "# Brug np.linspace til at generere 100 værdier mellem 0 og 100 som l_plot\n",
        "\n",
        "l_plot = np.linspace(0, 100, num=100)\n",
        "\n",
        "# obskriv ligninger til at beregne c-værdier(c_plot_1, c_plot_2, c_plot_3)\n",
        "c_plot_1=(2500-36*l_plot)/72\n",
        "c_plot_2=(12000-244*l_plot)/278\n",
        "c_plot_3=(8-0.08*l_plot)/0.12"
      ],
      "execution_count": null,
      "outputs": []
    },
    {
      "cell_type": "code",
      "metadata": {
        "colab": {
          "base_uri": "https://localhost:8080/",
          "height": 301
        },
        "id": "QNh-qMq01_3g",
        "outputId": "528bc4b0-bf68-4b3a-e9d2-075e2af6a463"
      },
      "source": [
        "# 1.2.2\n",
        "# Plot\n",
        "plt.axis([0, 110, 0, 80])\n",
        "plt.xlabel('Latte')\n",
        "plt.ylabel('Luksus Cappuccino')\n",
        "\n",
        "plt.plot(l_plot, c_plot_1, color = \"red\") # Espresso\n",
        "plt.plot(l_plot, c_plot_2, color = \"gold\") # Mælk\n",
        "plt.plot(l_plot, c_plot_3, color = \"blue\") # Arbejde"
      ],
      "execution_count": null,
      "outputs": [
        {
          "output_type": "execute_result",
          "data": {
            "text/plain": [
              "[<matplotlib.lines.Line2D at 0x7f385b073610>]"
            ]
          },
          "metadata": {
            "tags": []
          },
          "execution_count": 7
        },
        {
          "output_type": "display_data",
          "data": {
            "image/png": "[encoded data removed]",
            "text/plain": [
              "<Figure size 432x288 with 1 Axes>"
            ]
          },
          "metadata": {
            "tags": [],
            "needs_background": "light"
          }
        }
      ]
    },
    {
      "cell_type": "markdown",
      "metadata": {
        "id": "fZpjcfmi_IOk"
      },
      "source": [
        "Hvor mange Latte / Cappuccino skal der produceres ved optimal udnyttelse af ingredienser (ikke præcise tal)? (1 svar)\n",
        "\n",
        "\n",
        "1.   30 latte / 19 cappuccino\n",
        "2.   ~23 af hver\n",
        "3.   50 latte / 30 cappuccino\n",
        "\n"
      ]
    },
    {
      "cell_type": "code",
      "metadata": {
        "id": "5e5HCNGcAjE3"
      },
      "source": [
        "# 1.2.3\n",
        "# Skriv dit svar som tal her f.eks s1 = 5\n",
        "s1 = 2"
      ],
      "execution_count": null,
      "outputs": []
    },
    {
      "cell_type": "markdown",
      "metadata": {
        "id": "dp2HZYXsBJ0z"
      },
      "source": [
        "Hvad kan man sige om arbejdstimernes \"rolle\" i denne kontekst - dvs. ikke teoretisk men givet vores espresso og mælke forsyning? (1 svar)\n",
        "\n",
        "1.   Hvis der var flere arbejdstimer, kunne der produceres mere.\n",
        "2.   Vores barista kan lave omkring 100 latte og næsten 70 cappuccino om dagen.\n",
        "3.   Baristaen har mere end nok tid til at producere den optimale mængde af latte og cappuccino givet de ingredienser som der er til rådighed.\n"
      ]
    },
    {
      "cell_type": "code",
      "metadata": {
        "id": "zjWLIjLyK8Gg"
      },
      "source": [
        "# 1.2.4\n",
        "# Skriv dit svar som tal her\n",
        "s2 = 3"
      ],
      "execution_count": null,
      "outputs": []
    },
    {
      "cell_type": "markdown",
      "metadata": {
        "id": "gx1Gh7NMHOWB"
      },
      "source": [
        "#### Rækkeoperationer\n",
        "I denne opgave skal du bruge rækkeoperationer til at finde løsningen.\n",
        "\n",
        "1.   Du skal først definere en augmenteret matrix som np.array der repræsenterer de første 2 ligninger (mælk og espresso). \n",
        "2.   Derefter skal du bruge rækkeoperationer (kode!!!) for at omskrive til reduceret trappeform (reduceret række-echelon form).\n",
        "\n",
        "f.eks.: `augmented[0] = augmented[0]/augmented[0,0]`\n",
        "\n",
        "Til sidst har din matrix denne form: \n",
        "\n",
        "$$\\left[\\begin{array}{rr|r}\n",
        "1 & 0 & ? \\\\ \n",
        "0 & 1 & ?\n",
        "\\end{array}\\right]$$\n",
        "\n",
        "3. Her vil du kunne aflæse resultatet i søjlevektoren på højre sidde.\n",
        "\n"
      ]
    },
    {
      "cell_type": "code",
      "metadata": {
        "id": "d8soqF7655p_"
      },
      "source": [
        "# 1.3.1\n",
        "\n",
        "## definer augmenteret matrix\n",
        "\n",
        "augmented = np.array([\n",
        "[36, 72, 2500],\n",
        "[244, 278, 12000]\n",
        "])"
      ],
      "execution_count": null,
      "outputs": []
    },
    {
      "cell_type": "code",
      "metadata": {
        "id": "JDZlI-py6RFw"
      },
      "source": [
        "# 1.3.2\n",
        "\n",
        "# Brug rækkeoperationer (så mange som du har brug for) for at omskrive til reduceret trappeform\n",
        "# Her er den første operation, som du kan bruge\n",
        "augmented[0] = augmented[0]/augmented[0,0]"
      ],
      "execution_count": null,
      "outputs": []
    },
    {
      "cell_type": "code",
      "metadata": {
        "colab": {
          "base_uri": "https://localhost:8080/"
        },
        "id": "d1duAVS2L3-2",
        "outputId": "70542260-0afe-428c-8a60-db7b38491990"
      },
      "source": [
        "# OBS: Det er en god ide at tjekke din matrix undervejs - du kan tilføje en celle, vise matrix \n",
        "# (bare skriv \"augmented\" og udfør og slette igen...)\n",
        "\n",
        "augmented"
      ],
      "execution_count": null,
      "outputs": [
        {
          "output_type": "execute_result",
          "data": {
            "text/plain": [
              "array([[    1,     2,    69],\n",
              "       [  244,   278, 12000]])"
            ]
          },
          "metadata": {
            "tags": []
          },
          "execution_count": 10
        }
      ]
    },
    {
      "cell_type": "code",
      "metadata": {
        "id": "BoNM9c9H6Z9h"
      },
      "source": [
        "augmented[1] = augmented[1] - augmented[1,0]*augmented[0]"
      ],
      "execution_count": null,
      "outputs": []
    },
    {
      "cell_type": "code",
      "metadata": {
        "colab": {
          "base_uri": "https://localhost:8080/"
        },
        "id": "gaFQUie5y0ue",
        "outputId": "7072a6f9-ff94-4c06-b44b-81d380db2002"
      },
      "source": [
        "augmented"
      ],
      "execution_count": null,
      "outputs": [
        {
          "output_type": "execute_result",
          "data": {
            "text/plain": [
              "array([[    1,     2,    69],\n",
              "       [    0,  -210, -4836]])"
            ]
          },
          "metadata": {
            "tags": []
          },
          "execution_count": 12
        }
      ]
    },
    {
      "cell_type": "code",
      "metadata": {
        "id": "WXmbfbj06jBz"
      },
      "source": [
        "augmented[1] = augmented[1] / augmented[1,1]"
      ],
      "execution_count": null,
      "outputs": []
    },
    {
      "cell_type": "code",
      "metadata": {
        "id": "xi7Yo7bo6sfe"
      },
      "source": [
        "augmented[0] = augmented[0] - augmented[0,1]*augmented[1]"
      ],
      "execution_count": null,
      "outputs": []
    },
    {
      "cell_type": "code",
      "metadata": {
        "colab": {
          "base_uri": "https://localhost:8080/"
        },
        "id": "BkcRm_WP68DM",
        "outputId": "aa2cdd45-0500-496a-a8c2-fc2134613955"
      },
      "source": [
        "# print den færdige matrix i reduceret række-echelon form\n",
        "augmented"
      ],
      "execution_count": null,
      "outputs": [
        {
          "output_type": "execute_result",
          "data": {
            "text/plain": [
              "array([[ 1,  0, 23],\n",
              "       [ 0,  1, 23]])"
            ]
          },
          "metadata": {
            "tags": []
          },
          "execution_count": 15
        }
      ]
    },
    {
      "cell_type": "markdown",
      "metadata": {
        "id": "sLbnjK-vMs5M"
      },
      "source": [
        "#### Løsning af matrixligningen\n",
        "\n",
        "Vi kan finde en løsning til vores ligningssystem ved at løse matrixligningen $A\\vec{x} = \\vec{b}$\n",
        "Opgaven er mere frit og du skal vise, at du selv kan udføre alle trin.\n",
        "Du skal finde løsningen \"manuelt\" dvs. ikke ved at bruge `scipy.linalg.solve` eller sympy. Du må dog gerne bruge det for at tjekke, om dine beregninger passer...\n",
        "\n",
        "\n",
        "Du skal bruge følgende python objekter:\n",
        "\n",
        "\n",
        "*   $A$: `matrix_a`\n",
        "*   $A^{-1}$: `matrix_a_inv`\n",
        "*   $\\vec{b}$: `vector_b`\n",
        "* $\\vec{x}$: `vector_x`\n",
        "\n"
      ]
    },
    {
      "cell_type": "code",
      "metadata": {
        "id": "FMy2Vq2yHEbv"
      },
      "source": [
        "# 1.4.1\n",
        "\n",
        "# definer matrix A\n",
        "matrix_a = np.array([\n",
        "[36, 72],\n",
        "[244, 278]\n",
        "])\n",
        "\n",
        "# definer vector b\n",
        "vector_b = np.array([[2500],[12000]])"
      ],
      "execution_count": null,
      "outputs": []
    },
    {
      "cell_type": "code",
      "metadata": {
        "id": "PlOHS8sW3EiO"
      },
      "source": [
        "# beregn A^-1\n",
        "matrix_a_inv = linalg.inv(matrix_a)"
      ],
      "execution_count": null,
      "outputs": []
    },
    {
      "cell_type": "code",
      "metadata": {
        "id": "8xjJFgrm9QR7"
      },
      "source": [
        "# beregn vector_x\n",
        "vector_x = matrix_a_inv @ vector_b"
      ],
      "execution_count": null,
      "outputs": []
    },
    {
      "cell_type": "code",
      "metadata": {
        "colab": {
          "base_uri": "https://localhost:8080/"
        },
        "id": "exsVtEGT9YE-",
        "outputId": "400da161-9bbf-44b4-e87f-b6a992036237"
      },
      "source": [
        "#1.4.2\n",
        "\n",
        "vector_x"
      ],
      "execution_count": null,
      "outputs": [
        {
          "output_type": "execute_result",
          "data": {
            "text/plain": [
              "array([[22.35449735],\n",
              "       [23.54497354]])"
            ]
          },
          "metadata": {
            "tags": []
          },
          "execution_count": 19
        }
      ]
    },
    {
      "cell_type": "code",
      "metadata": {
        "colab": {
          "base_uri": "https://localhost:8080/"
        },
        "id": "Lw1wR4qO3cbi",
        "outputId": "17cb2130-d5b8-4421-d410-6626cbb973d5"
      },
      "source": [
        "# 1.5: Beregn de daglige indtægter ved optimal produktion\n",
        "# husk at runde ned\n",
        "\n",
        "qLatte=22\n",
        "qCappuccino=23\n",
        "\n",
        "result=40*qLatte+56*qCappuccino\n",
        "\n",
        "print(\"vores indtægter per dag ved optimal produktion er DKK\", result)"
      ],
      "execution_count": null,
      "outputs": [
        {
          "output_type": "stream",
          "text": [
            "vores indtægter per dag ved optimal produktion er DKK 2168\n"
          ],
          "name": "stdout"
        }
      ]
    },
    {
      "cell_type": "code",
      "metadata": {
        "colab": {
          "base_uri": "https://localhost:8080/"
        },
        "id": "m7-CybsX9st-",
        "outputId": "e387dfb0-6b70-418f-9028-41b6db46433f"
      },
      "source": [
        "# 1.6: Beregn hvor meget tid baristaen bruger på at lave \n",
        "# Latte og Luksus Cappuccino ved optimal produktion\n",
        "# husk at runde ned\n",
        "\n",
        "time = 22*0.08 + 23*0.12\n",
        "print(time)"
      ],
      "execution_count": null,
      "outputs": [
        {
          "output_type": "stream",
          "text": [
            "4.52\n"
          ],
          "name": "stdout"
        }
      ]
    },
    {
      "cell_type": "markdown",
      "metadata": {
        "id": "HmosrHaURv3o"
      },
      "source": [
        "## Indsutri og profitmaksimering\n",
        "\n",
        "![](https://source.unsplash.com/SLIFI67jv5k)"
      ]
    },
    {
      "cell_type": "markdown",
      "metadata": {
        "id": "g6Nc5aTCTxtT"
      },
      "source": [
        "En mindre Nordjysk virksomhed producerer komponenter til landbrugsmaskiner og vil gerne se, om de muligvis skal justere deres daglige produktionskapacitet. \n",
        "$q$ er mængden af disse komponenter, $p$ en angivet i kr. pr. enhed.\n",
        "\n",
        "* Deres omkostningsfunktion er:\n",
        "$C(q) = 3000-22q+0.06q^{2}+0.00005q^{3}$\n",
        "* Efterspørgslen er givet som:\n",
        "$p(q) = 230+0.015q-0.0009q^{2}$ dvs. prisen er ikke konstant men ændrer sig (lidt) med ændringer af $q$\n"
      ]
    },
    {
      "cell_type": "code",
      "metadata": {
        "id": "4uirDHb0XGoi"
      },
      "source": [
        "# 2.1 Definer symboler p, q og h\n",
        "\n",
        "p, q, h = symbols('p, q, h')"
      ],
      "execution_count": null,
      "outputs": []
    },
    {
      "cell_type": "code",
      "metadata": {
        "id": "nKYXu2Y0nsZl"
      },
      "source": [
        "# opstil ligninger for omkostinger og efterspørgsel\n",
        "\n",
        "C_q = 3000-22*q+0.06*q**2+0.00005*q**3\n",
        "p_q = 230+0.015*q-0.0009*q**2"
      ],
      "execution_count": null,
      "outputs": []
    },
    {
      "cell_type": "code",
      "metadata": {
        "colab": {
          "base_uri": "https://localhost:8080/",
          "height": 39
        },
        "id": "hI-HO_RRnsZl",
        "outputId": "30869aeb-1169-4165-c7a3-4dac47e60326"
      },
      "source": [
        "# print\n",
        "C_q"
      ],
      "execution_count": null,
      "outputs": [
        {
          "output_type": "execute_result",
          "data": {
            "text/latex": "$\\displaystyle 5.0 \\cdot 10^{-5} q^{3} + 0.06 q^{2} - 22 q + 3000$",
            "text/plain": [
              "5.0e-5*q**3 + 0.06*q**2 - 22*q + 3000"
            ]
          },
          "metadata": {
            "tags": []
          },
          "execution_count": 24
        }
      ]
    },
    {
      "cell_type": "code",
      "metadata": {
        "colab": {
          "base_uri": "https://localhost:8080/",
          "height": 39
        },
        "id": "rSe_2Ir3nsZm",
        "outputId": "2feef9b1-6b69-4208-e465-2586b3f06119"
      },
      "source": [
        "p_q"
      ],
      "execution_count": null,
      "outputs": [
        {
          "output_type": "execute_result",
          "data": {
            "text/latex": "$\\displaystyle - 0.0009 q^{2} + 0.015 q + 230$",
            "text/plain": [
              "-0.0009*q**2 + 0.015*q + 230"
            ]
          },
          "metadata": {
            "tags": []
          },
          "execution_count": 25
        }
      ]
    },
    {
      "cell_type": "code",
      "metadata": {
        "colab": {
          "base_uri": "https://localhost:8080/",
          "height": 297
        },
        "id": "_Wca9rKbYn-6",
        "outputId": "5ba8b437-82fd-46fa-877b-b08e7791d0d5"
      },
      "source": [
        "# 2.2 plot C(q)\n",
        "# definer 200 punkter mellem 0 og 500 med np.linspace i objektet q_plot\n",
        "\n",
        "q_plot = np.linspace(0, 500, num=200)\n",
        "\n",
        "# beregn tilsvarende p-værdier og plot\n",
        "\n",
        "p_plot_1 = 3000-22*q_plot+0.06*q_plot**2+0.00005*q_plot**3\n",
        "\n",
        "plt.xlabel('Mængde (q)')\n",
        "plt.ylabel('Kr.')\n",
        "\n",
        "plt.plot(q_plot, p_plot_1, color = \"red\")"
      ],
      "execution_count": null,
      "outputs": [
        {
          "output_type": "execute_result",
          "data": {
            "text/plain": [
              "[<matplotlib.lines.Line2D at 0x7f3858b28810>]"
            ]
          },
          "metadata": {
            "tags": []
          },
          "execution_count": 26
        },
        {
          "output_type": "display_data",
          "data": {
            "image/png": "[encoded data removed]",
            "text/plain": [
              "<Figure size 432x288 with 1 Axes>"
            ]
          },
          "metadata": {
            "tags": [],
            "needs_background": "light"
          }
        }
      ]
    },
    {
      "cell_type": "markdown",
      "metadata": {
        "id": "_JhiXa1nmg9S"
      },
      "source": [
        "#### 2.3 Beregn minimum for $C(q)$\n",
        "\n",
        "* beregning skal foretages \"manuelt\" hvor du først skal finde $C'(q)$ ved at beregne $\\lim_{h \\to 0} \\frac{f(x + h) - f(x)}{h}$, hvor $C(q)$ indsættes for $f(x)$ dvs. $\\lim_{h \\to 0} \\frac{C(q + h) - C(q)}{h}$\n",
        "*$h$ blev allerede oprettet som Sympy sybol"
      ]
    },
    {
      "cell_type": "code",
      "metadata": {
        "id": "bDFi2pk6oKfH"
      },
      "source": [
        "# 2.3.1\n",
        "# definer C(q+h)\n",
        "C_q_h = C_q.subs(q, (q+h))"
      ],
      "execution_count": null,
      "outputs": []
    },
    {
      "cell_type": "code",
      "metadata": {
        "id": "rBoQfrr1o3yK"
      },
      "source": [
        "# 2.3.2\n",
        "# beregn grænseværdi\n",
        "\n",
        "C_lim = limit((C_q_h - C_q)/h, h, 0)"
      ],
      "execution_count": null,
      "outputs": []
    },
    {
      "cell_type": "code",
      "metadata": {
        "colab": {
          "base_uri": "https://localhost:8080/",
          "height": 39
        },
        "id": "w1f4PEBcpNfg",
        "outputId": "5d8dabbf-ee89-45a1-b807-717a4fd2ee74"
      },
      "source": [
        "# du kan tjekke, om grænseværdien er lige med den (automatisk) afledede funktion (sympy diff) for at være sikker...\n",
        "C_lim"
      ],
      "execution_count": null,
      "outputs": [
        {
          "output_type": "execute_result",
          "data": {
            "text/latex": "$\\displaystyle 0.00015 q^{2} + 0.12 q - 22.0$",
            "text/plain": [
              "0.00015*q**2 + 0.12*q - 22.0"
            ]
          },
          "metadata": {
            "tags": []
          },
          "execution_count": 29
        }
      ]
    },
    {
      "cell_type": "code",
      "metadata": {
        "colab": {
          "base_uri": "https://localhost:8080/",
          "height": 39
        },
        "id": "F4GPwN1tpVTy",
        "outputId": "f7bdbfa7-5c40-4bec-f264-2c4be6acdd51"
      },
      "source": [
        "diff(C_q)"
      ],
      "execution_count": null,
      "outputs": [
        {
          "output_type": "execute_result",
          "data": {
            "text/latex": "$\\displaystyle 0.00015 q^{2} + 0.12 q - 22$",
            "text/plain": [
              "0.00015*q**2 + 0.12*q - 22"
            ]
          },
          "metadata": {
            "tags": []
          },
          "execution_count": 30
        }
      ]
    },
    {
      "cell_type": "code",
      "metadata": {
        "colab": {
          "base_uri": "https://localhost:8080/"
        },
        "id": "ijqZppANoKfH",
        "outputId": "1461a022-b143-4ef5-b78e-9b1a3033eaa5"
      },
      "source": [
        "# 2.3.3\n",
        "# brug Sympy solve til a finde q, hvor C minimeres\n",
        "solutions = solve(C_lim)\n",
        "print(solutions)"
      ],
      "execution_count": null,
      "outputs": [
        {
          "output_type": "stream",
          "text": [
            "[-953.774924194538, 153.774924194538]\n"
          ],
          "name": "stdout"
        }
      ]
    },
    {
      "cell_type": "markdown",
      "metadata": {
        "id": "tr4PCWG0qmvK"
      },
      "source": [
        "#### 2.4 Profitmaksimering\n",
        "\n",
        "Derudover ved vi (f.eks. fra mikroøkonomi):\n",
        "\n",
        "* Indtægter: $R(q) = p(q) · q$\n",
        "* Profit: $P(q) = R(q) - C(q)$\n",
        "\n",
        "* Marginalomkostninger $MC = C'(q)$ (omkostninger ved at producere +1 enhed)\n",
        "* Marginalindtægter $MR = R'(q)$ (indtægter ved at sælge +1 enhed)\n",
        "* Marginalprofit $MP = P'(q)$ (profit ved at sælge +1 enhed - de omkostninger  forbundet med produktion af +1 enhed)"
      ]
    },
    {
      "cell_type": "code",
      "metadata": {
        "colab": {
          "base_uri": "https://localhost:8080/"
        },
        "id": "I7aaEvU7q89C",
        "outputId": "354f0add-6c56-4a0b-d473-005aab6bd80a"
      },
      "source": [
        "# 2.4.1\n",
        "# Definer funktiner for indtægter R(q) og profit P(q)\n",
        "\n",
        "R_q = p_q * q\n",
        "P_q = R_q - C_q\n",
        "\n",
        "print(expand(R_q)) # her hjælper expand med læsbarheden...\n",
        "print(expand(P_q)) # her hjælper expand med læsbarheden..."
      ],
      "execution_count": null,
      "outputs": [
        {
          "output_type": "stream",
          "text": [
            "-0.0009*q**3 + 0.015*q**2 + 230*q\n",
            "-0.00095*q**3 - 0.045*q**2 + 252*q - 3000\n"
          ],
          "name": "stdout"
        }
      ]
    },
    {
      "cell_type": "code",
      "metadata": {
        "colab": {
          "base_uri": "https://localhost:8080/"
        },
        "id": "ZXNE3AxttA7S",
        "outputId": "04d2e7be-0c58-4718-8a54-32de7fee91e2"
      },
      "source": [
        "# 2.4.2\n",
        "# Definer (ved at differentere) MC, MR og MP\n",
        "\n",
        "MC = diff(C_q)\n",
        "MR = diff(R_q)\n",
        "MP = diff(P_q)\n",
        "\n",
        "# du kan printe disse ligninger og og copy-paste dem i den næste opgave (husk at erstætte q med q_plot)\n",
        "print(MC)\n",
        "print(expand(MR)) # her hjælper expand med læsbarheden...\n",
        "print(expand(MP)) # her hjælper expand med læsbarheden..."
      ],
      "execution_count": null,
      "outputs": [
        {
          "output_type": "stream",
          "text": [
            "0.00015*q**2 + 0.12*q - 22\n",
            "-0.0027*q**2 + 0.03*q + 230\n",
            "-0.00285*q**2 - 0.09*q + 252\n"
          ],
          "name": "stdout"
        }
      ]
    },
    {
      "cell_type": "markdown",
      "metadata": {
        "id": "S6p6Uzrx0ZSF"
      },
      "source": [
        "Vi antager, vores virksomhed har monopol på disse komponenter og dermed kan der profitmaksimeres ved at sætte $MC = MR$\n",
        "\n",
        "Vis, at mængden $q$ ved $MC = MR$ er den samme som den, hvor profit $P$ maksimeres, dvs. $MP = 0$"
      ]
    },
    {
      "cell_type": "code",
      "metadata": {
        "colab": {
          "base_uri": "https://localhost:8080/",
          "height": 297
        },
        "id": "DPKAp_OWtP8D",
        "outputId": "d2ac9eb9-cb6f-4788-fbe4-bee6941885db"
      },
      "source": [
        "# 2.4.3\n",
        "# Plot MC (red) og MR (gold)\n",
        "# du kan genbruge q_plot værdier fra sidste plot\n",
        "\n",
        "plt.xlabel('Mængde (q)')\n",
        "plt.ylabel('Kr.')\n",
        "\n",
        "#beregn p_værdier\n",
        "p_plot_2 = 0.00015*q_plot**2 + 0.12*q_plot - 22\n",
        "p_plot_3 = -0.0027*q_plot**2 + 0.03*q_plot + 230\n",
        "\n",
        "\n",
        "plt.plot(q_plot, p_plot_2, color = \"red\") # MC\n",
        "plt.plot(q_plot, p_plot_3, color = \"gold\") # MR"
      ],
      "execution_count": null,
      "outputs": [
        {
          "output_type": "execute_result",
          "data": {
            "text/plain": [
              "[<matplotlib.lines.Line2D at 0x7f385892bad0>]"
            ]
          },
          "metadata": {
            "tags": []
          },
          "execution_count": 34
        },
        {
          "output_type": "display_data",
          "data": {
            "image/png": "[encoded data removed]",
            "text/plain": [
              "<Figure size 432x288 with 1 Axes>"
            ]
          },
          "metadata": {
            "tags": [],
            "needs_background": "light"
          }
        }
      ]
    },
    {
      "cell_type": "code",
      "metadata": {
        "id": "bkyO6cit13ez"
      },
      "source": [
        "# 2.4.4\n",
        "# Definer MC = p og MR = p som Sympy ligninger\n",
        "# p er allerede defineret som symbol (tidligere)\n",
        "\n",
        "MC_eq = Eq(MC,p)\n",
        "MR_eq = Eq(MR,p)"
      ],
      "execution_count": null,
      "outputs": []
    },
    {
      "cell_type": "code",
      "metadata": {
        "colab": {
          "base_uri": "https://localhost:8080/"
        },
        "id": "Wgsl3r4W2b8Q",
        "outputId": "15b96479-2cfc-4cff-ba61-b4d26887d0bf"
      },
      "source": [
        "# brug sympy solve til at finde løsninger for MC = MR\n",
        "solve([MC_eq,MR_eq])"
      ],
      "execution_count": null,
      "outputs": [
        {
          "output_type": "execute_result",
          "data": {
            "text/plain": [
              "[{p: -44.8793527977798, q: -313.565161259277},\n",
              " {p: 23.7657793905776, q: 281.986213890855}]"
            ]
          },
          "metadata": {
            "tags": []
          },
          "execution_count": 36
        }
      ]
    },
    {
      "cell_type": "code",
      "metadata": {
        "id": "qA0BLWHA232e"
      },
      "source": [
        "q_monopoly = 281.986213890855 # copy-paste den realistiske q-værdi"
      ],
      "execution_count": null,
      "outputs": []
    },
    {
      "cell_type": "code",
      "metadata": {
        "colab": {
          "base_uri": "https://localhost:8080/"
        },
        "id": "ivhAulVi3Aq0",
        "outputId": "39e476ad-b4de-420f-da4f-2a43e4682f84"
      },
      "source": [
        "# 2.4.5\n",
        "# beregn max-værdien for profit-funktionen\n",
        "\n",
        "solve(MP)"
      ],
      "execution_count": null,
      "outputs": [
        {
          "output_type": "execute_result",
          "data": {
            "text/plain": [
              "[-313.565161259277, 281.986213890855]"
            ]
          },
          "metadata": {
            "tags": []
          },
          "execution_count": 38
        }
      ]
    },
    {
      "cell_type": "code",
      "metadata": {
        "id": "iI2CKK4g3Y99"
      },
      "source": [
        ""
      ],
      "execution_count": null,
      "outputs": []
    }
  ]
}