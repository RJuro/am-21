{
  "nbformat": 4,
  "nbformat_minor": 0,
  "metadata": {
    "colab": {
      "name": "AM2022-exam-s.ipynb",
      "provenance": [],
      "collapsed_sections": [],
      "authorship_tag": "ABX9TyP0BuHMoVcmEFulDghvhoHP",
      "include_colab_link": true
    },
    "kernelspec": {
      "name": "python3",
      "display_name": "Python 3"
    },
    "language_info": {
      "name": "python"
    }
  },
  "cells": [
    {
      "cell_type": "markdown",
      "metadata": {
        "id": "view-in-github",
        "colab_type": "text"
      },
      "source": [
        "<a href=\"https://colab.research.google.com/github/RJuro/am-21/blob/main/AM2022_exam_s.ipynb\" target=\"_parent\"><img src=\"https://colab.research.google.com/assets/colab-badge.svg\" alt=\"Open In Colab\"/></a>"
      ]
    },
    {
      "cell_type": "markdown",
      "source": [
        "# Eksamen: Anvendt Matematik; 13/4 2022\n",
        "**Roman Jurowetzki**\n",
        "\n",
        "Opgaven har 4 dele. (1-2) Lineær algebra og (3-4)calculus.\n",
        "\n",
        "#### Rules of the game:\n",
        "\n",
        "- Der afleveres som 👉 `ipynb` (**ikke PDF!**) - dvs., du skal bare downloade den fil du arbejder med fra Colab eller bare aflevere den ipynb fil som du har åbent i Jupyter Lab.\n",
        "- Du må gerne bruge dine noter, google etc.\n",
        "- Hvis koden ikke virker (men virkede før). Gå tilbage, og kør oppefra ned. Også en god ide at tjekke, at koden er fejlfri ved at gøre denne øvelse undervejs.\n",
        "- Hvis du får en fejl, overvej først hvad Python prøver at sige og tjek de forskellige objekter i cellen. Er de, hvad de burde være?\n",
        "- De fleste kodefejl er dumme stavefejl. Vær omhyggelig med kommaer, punktummer etc.\n",
        "- Hvis der er noget, som slet ikke kan løses, så kan du bare kommentere ud med `#` (det indgår ikke i bedømmelsen)\n",
        "- Husk, at output skal kunne ses (f.eks. dine plots)\n",
        "- Play fair og lad være med at snyde! - Det er nemmere at finde ud hvem der snyder end du tror. 🤓\n",
        "- Brug objektnavne, der blev defineret i opgaven"
      ],
      "metadata": {
        "id": "wUU-X31L-cgO"
      }
    },
    {
      "cell_type": "code",
      "execution_count": null,
      "metadata": {
        "id": "_5mLZ73m1lnN"
      },
      "outputs": [],
      "source": [
        "# importer pakker\n",
        "from sympy import *\n",
        "import numpy as np\n",
        "np.set_printoptions(suppress=True)\n",
        "from scipy import linalg\n",
        "import matplotlib.pyplot as plt"
      ]
    },
    {
      "cell_type": "markdown",
      "source": [
        "# 1. Old School Mobilpakker\n",
        "\n",
        "Der er givet 2 urealistiske mobilpakker med fast månedsgebyr og betaling per minut\n",
        "\n",
        "1. 44kr månedsgebyr og 6 øre/min\n",
        "2. 50kr månedsgebyr og 5 øre/min"
      ],
      "metadata": {
        "id": "sXhAV2c5m6Qd"
      }
    },
    {
      "cell_type": "markdown",
      "source": [
        "**OBS - i alle opgaver: Lav så mange nye code-celler, som du har brug for!\n",
        "Skriv korte \"verbale\" svar, hvor det giver mening!**"
      ],
      "metadata": {
        "id": "2EYQJ7P6HzXj"
      }
    },
    {
      "cell_type": "code",
      "source": [
        "# 1.1 Hvilken (mobil)pakke er billigst hvis man taler hhv 1160 og 420 minut / måned?"
      ],
      "metadata": {
        "id": "_J2FAZlwoOn-"
      },
      "execution_count": null,
      "outputs": []
    },
    {
      "cell_type": "code",
      "source": [
        "# SVAR: Pakke ... for 1160 min. ; Pakke ... for 420 min."
      ],
      "metadata": {
        "id": "qn4yPUw9pXGA"
      },
      "execution_count": null,
      "outputs": []
    },
    {
      "cell_type": "code",
      "source": [
        "# 1.2 Plot de 2 lineære funktioner. \n",
        "# - Brug np.linspace til at generere x-værdier (fx. x_plot mellem 0 og 1200)\n",
        "# - Beregn y-værdier i 2 nye objekter (fx. pakke_1; pakke_2)\n",
        "# brug"
      ],
      "metadata": {
        "id": "LSRgEPS6ppNN"
      },
      "execution_count": null,
      "outputs": []
    },
    {
      "cell_type": "code",
      "source": [
        "x_plot = ...\n",
        "pakke_1 = ...\n",
        "pakke_2 = ..."
      ],
      "metadata": {
        "id": "YcLND9li8Vra"
      },
      "execution_count": null,
      "outputs": []
    },
    {
      "cell_type": "code",
      "source": [
        "# Plot; brug \"red\" og \"gold\" som farver\n",
        "\n",
        "plt.axis([0, 1200, 40, 100])\n",
        "plt.xlabel('tid')\n",
        "plt.ylabel('kr.')\n",
        "\n",
        "...\n"
      ],
      "metadata": {
        "id": "bvmF7zeD8jlt"
      },
      "execution_count": null,
      "outputs": []
    },
    {
      "cell_type": "code",
      "source": [
        "# 1.3\n",
        "\n",
        "# Hvad er den taletid, hvor man i alt betaler det samme som kunde?\n",
        "\n",
        "# opstil ligningssystemet som augmented matrix \n",
        "# og løs ligningssystemet ved at omskrive til række echelon form. "
      ],
      "metadata": {
        "id": "kYsAiDLw0quE"
      },
      "execution_count": null,
      "outputs": []
    },
    {
      "cell_type": "code",
      "source": [
        "augmented = ..."
      ],
      "metadata": {
        "id": "uviMTPO28xkD"
      },
      "execution_count": null,
      "outputs": []
    },
    {
      "cell_type": "code",
      "source": [
        ""
      ],
      "metadata": {
        "id": "ZyVsP5hyG6-h"
      },
      "execution_count": null,
      "outputs": []
    },
    {
      "cell_type": "code",
      "source": [
        ""
      ],
      "metadata": {
        "id": "Y9iLqks4G7V_"
      },
      "execution_count": null,
      "outputs": []
    },
    {
      "cell_type": "code",
      "source": [
        ""
      ],
      "metadata": {
        "id": "XrdF1jbfG7rz"
      },
      "execution_count": null,
      "outputs": []
    },
    {
      "cell_type": "code",
      "source": [
        ""
      ],
      "metadata": {
        "id": "usrhYHUcG8La"
      },
      "execution_count": null,
      "outputs": []
    },
    {
      "cell_type": "code",
      "source": [
        "# print resultatet\n",
        "print(augmented)"
      ],
      "metadata": {
        "id": "sodD69aQCQ9c"
      },
      "execution_count": null,
      "outputs": []
    },
    {
      "cell_type": "markdown",
      "source": [
        "## 1.4 Ny pakke\n",
        "\n",
        "Der lanceres en ny pakke (pakke_3) med 0 kr. i månedsgebyr. Hvor meget skal det koste (tilnærmelsesvis) per minut for at opnå den samme samlede pris i ligevægt (der beregnes i 1.3)?\n",
        "\n",
        "Brug svar fra grafisk løsning (1.2), hvis du mangler svar i 1.3\n",
        "\n",
        "Plot ligningen, der beskriver pakke3 sammen med de 2 andre (pakke1 og pakke2)."
      ],
      "metadata": {
        "id": "C-ph-wE8Avq_"
      }
    },
    {
      "cell_type": "code",
      "source": [
        ""
      ],
      "metadata": {
        "id": "KnLSrMPJHKju"
      },
      "execution_count": null,
      "outputs": []
    },
    {
      "cell_type": "code",
      "source": [
        "pakke_3 = ..."
      ],
      "metadata": {
        "id": "Q6l7r3EzluRX"
      },
      "execution_count": null,
      "outputs": []
    },
    {
      "cell_type": "code",
      "source": [
        "# Plot; brug \"red\", \"gold\" og \"green\" som farver\n",
        "plt.axis([0, 1200, 40, 100])\n",
        "plt.xlabel('tid')\n",
        "plt.ylabel('kr.')\n"
      ],
      "metadata": {
        "id": "iF27WrTSlkoz"
      },
      "execution_count": null,
      "outputs": []
    },
    {
      "cell_type": "markdown",
      "source": [
        "## 1.5 Ændring i Månedsgebyr\n",
        "Hvordan skal månedsgebyr for Pakke 2 (50kr/md og 5øre/min) ændres, således samlet pris vs pakke 1 er lige ved 500 minutters taletid?\n",
        "\n",
        "Brug matrix regning til at løse opgaven\n",
        "\n",
        "Du kan bruge følgende python objekter:\n",
        "\n",
        "\n",
        "*   $A$: `A`\n",
        "*   $\\vec{b_n}$: `vector_b_n`\n",
        "* $\\vec{x_n}$: `vector_x_n`"
      ],
      "metadata": {
        "id": "37lG0_fp7F72"
      }
    },
    {
      "cell_type": "code",
      "source": [
        "# Definer matrix A\n",
        "..."
      ],
      "metadata": {
        "id": "_BfPyntNJAkb"
      },
      "execution_count": null,
      "outputs": []
    },
    {
      "cell_type": "code",
      "source": [
        "# Beregn ligevægtspris ved 500 minutter\n",
        "..."
      ],
      "metadata": {
        "id": "sliHNCJQKGNF"
      },
      "execution_count": null,
      "outputs": []
    },
    {
      "cell_type": "code",
      "source": [
        "# definer vector x i ny ligevægt\n",
        "..."
      ],
      "metadata": {
        "id": "vMRF2WlkKF5F"
      },
      "execution_count": null,
      "outputs": []
    },
    {
      "cell_type": "code",
      "source": [
        "# beregn ny vector b i ny ligevægt\n",
        "..."
      ],
      "metadata": {
        "id": "n7H3CPDQKRvy"
      },
      "execution_count": null,
      "outputs": []
    },
    {
      "cell_type": "markdown",
      "source": [
        "#2 Investering\n",
        "\n",
        "Mathilde arver 210.000 kr. og efter at have set mange YouTube videoer om investering, fordeler hun penge mellem \n",
        "Aktier, ETFer og Investeringsforeninger.\n",
        "\n",
        "Efter et år har det givet følgende afkast: aktier 9.4%, ETF 4.6%, investeringsforeninger 4.25%. I alt tjener Mathilde 13360 kr. efter 1 år. Vi ved derudover, at der blev investeret $50000$ mere i ETF end Investeringsforeninger.\n",
        "\n",
        "Hvad var fordelingen i Mathildes portefølje?\n",
        "\n",
        "- Opstil 3 ligninger med 3 ubekendte\n",
        "- Omskriv til matrix ligning af type\n",
        "$A\\vec{x} = \\vec{b}$\n",
        "- Beregn $\\vec{x}$\n",
        "\n",
        "Du skal bruge følgende Python objekter:\n",
        "\n",
        "\n",
        "*   $A$: `A2`\n",
        "*   $A^{-1}$: `A2_inv`\n",
        "*   $\\vec{b}$: `vector_b2`\n",
        "* $\\vec{x}$: `vector_x2`"
      ],
      "metadata": {
        "id": "2Dl44OPXL3yF"
      }
    },
    {
      "cell_type": "code",
      "source": [
        ""
      ],
      "metadata": {
        "id": "A8P9lXRwHdL1"
      },
      "execution_count": null,
      "outputs": []
    },
    {
      "cell_type": "markdown",
      "source": [
        "#3 Produktion\n",
        "\n",
        "En flyproducent vil bygge en ny produktionslinje til mindre passagerfly.\n",
        "\n",
        "Der bliver estimeret følgende funktion, som beskriver omkostninger for hver produceret maskine:\n",
        "\n",
        "$m(x) = 21x-5x^{0.75} +0.01x^2$\n",
        "\n",
        "Det vil koste 400 at etablere produktion af denne type fly.\n",
        "\n",
        "Efterspørgsel er estimeret til $p(x) = 330-7.8x$\n",
        "\n",
        "Derudover:\n",
        "\n",
        "- $ C(x) = m(x) + \\text{faste omkostninger} $\n",
        "- $ R(x) = p(x) · x $\n",
        "- Alle tal i mio USD\n",
        "- x: antal; p: pris"
      ],
      "metadata": {
        "id": "KuAKKo7UScK_"
      }
    },
    {
      "cell_type": "code",
      "source": [
        "# 3.1 Opstil ligninger for m(x), C(x), p(x) og R(x)\n",
        "# brug objekter: m_x; C_x; p_x; R_x"
      ],
      "metadata": {
        "id": "f7GaWnsIzngP"
      },
      "execution_count": null,
      "outputs": []
    },
    {
      "cell_type": "code",
      "source": [
        "# brug x og p symboler i denne opgave\n",
        "x,p = symbols('x,p')"
      ],
      "metadata": {
        "id": "8CJJu8L2Sc4p"
      },
      "execution_count": null,
      "outputs": []
    },
    {
      "cell_type": "code",
      "source": [
        ""
      ],
      "metadata": {
        "id": "JdhTYpJaHlaU"
      },
      "execution_count": null,
      "outputs": []
    },
    {
      "cell_type": "code",
      "source": [
        ""
      ],
      "metadata": {
        "id": "nIE-AVCfHlKK"
      },
      "execution_count": null,
      "outputs": []
    },
    {
      "cell_type": "code",
      "source": [
        ""
      ],
      "metadata": {
        "id": "Nu1lgz4vHnKw"
      },
      "execution_count": null,
      "outputs": []
    },
    {
      "cell_type": "code",
      "source": [
        "# vis R_x\n",
        "R_x"
      ],
      "metadata": {
        "id": "-5mGFRwCCZ29"
      },
      "execution_count": null,
      "outputs": []
    },
    {
      "cell_type": "code",
      "source": [
        "# vis C_x\n",
        "C_x"
      ],
      "metadata": {
        "id": "-TdnVfQ7Cf5k"
      },
      "execution_count": null,
      "outputs": []
    },
    {
      "cell_type": "markdown",
      "source": [
        "* Marginalomkostninger $MC = C'(x)$ (omkostninger ved at producere +1 enhed)\n",
        "* Marginalindtægter $MR = R'(x)$ (indtægter ved at sælge +1 enhed)"
      ],
      "metadata": {
        "id": "sXpTtiCj0MZU"
      }
    },
    {
      "cell_type": "code",
      "source": [
        "# 3.2 Beregn MC og MR (sympy)"
      ],
      "metadata": {
        "id": "p5OPwfbh0I35"
      },
      "execution_count": null,
      "outputs": []
    },
    {
      "cell_type": "code",
      "source": [
        "# 3.3 Beregn den profitoptimerende mængde og pris i monopol ved at løse MC = MR ligningen\n",
        "# Opstil først ligninger MC(x) = p og MR(x) = p som MC_eq og MR_eq ved at bruge \"Eq\" funktionen.\n",
        "\n",
        "# beregning af MC = MR med sympy kan tage lidt tid (~30sec)"
      ],
      "metadata": {
        "id": "g5-x68vG0eHZ"
      },
      "execution_count": null,
      "outputs": []
    },
    {
      "cell_type": "code",
      "source": [
        ""
      ],
      "metadata": {
        "id": "5Z9OEFPPHueV"
      },
      "execution_count": null,
      "outputs": []
    },
    {
      "cell_type": "code",
      "source": [
        "# profitoptimerende mængde og pris er: ..."
      ],
      "metadata": {
        "id": "egNjX8i7HqkM"
      },
      "execution_count": null,
      "outputs": []
    },
    {
      "cell_type": "markdown",
      "source": [
        "#4 Ekstrempunkter\n",
        "\n",
        "Du er givet følgende funktion:\n",
        "$F(x) = -\\frac{1}{5}  x^3 + 3x^2 - 5x+12 $\n",
        "\n",
        "OBS: `x`er stadigvæk et Sympy symbol og kan genbruges i denne opgave, hvor det skal bruges som en variable (ikke til plot)"
      ],
      "metadata": {
        "id": "sXFpXV9EWPu1"
      }
    },
    {
      "cell_type": "code",
      "source": [
        "# 4.1 Plot for x i [-10, 15]; brug objekter x_plot og y_plot; husk at lave nye x_plot via linspace (1000 værdier)\n",
        "\n",
        "..."
      ],
      "metadata": {
        "id": "w-OlEkniYqpV"
      },
      "execution_count": null,
      "outputs": []
    },
    {
      "cell_type": "markdown",
      "source": [
        "## 4.2 Find ekstrempunkter\n",
        "\n",
        "- Opstil ligning $F(x)$ som objekt `y`. Genbrug Sympy symbol (variabel) `x` fra opgave 3.\n",
        "- Beregn $F'(x)$ eller $y'$ (afledede $F(x)$) og x-værdier i de 2 ekstrempunkter\n",
        "\n",
        "- Brug en \"sign chart\" tilgang for at bestimme, om de to punkter er hhv. minimum/maksimum."
      ],
      "metadata": {
        "id": "7kvtVxq257vv"
      }
    },
    {
      "cell_type": "code",
      "source": [
        "y = ..."
      ],
      "metadata": {
        "id": "f-COOIIiYw7u"
      },
      "execution_count": null,
      "outputs": []
    },
    {
      "cell_type": "code",
      "source": [
        "# beregn ekstrempunkter\n",
        "..."
      ],
      "metadata": {
        "id": "vfpBu51iZeQQ"
      },
      "execution_count": null,
      "outputs": []
    },
    {
      "cell_type": "code",
      "source": [
        "sign_chart = ..."
      ],
      "metadata": {
        "id": "04Fma20eZey0"
      },
      "execution_count": null,
      "outputs": []
    },
    {
      "cell_type": "code",
      "source": [
        "# tjek for min/max\n",
        "[...]"
      ],
      "metadata": {
        "id": "__UFVIZIaPmb"
      },
      "execution_count": null,
      "outputs": []
    },
    {
      "cell_type": "markdown",
      "source": [
        "## 4.3 - Find og plot tangentlinjen \n",
        "\n",
        "- Beregn den lineære ligning $t = mx+b$ der beskriver tangenten i $x_i = -5$\n",
        "- Du skal først finde $y_{i}$\n",
        "samt $m$ i $x_i$ og $b$\n"
      ],
      "metadata": {
        "id": "In2KwTXu51dT"
      }
    },
    {
      "cell_type": "markdown",
      "source": [
        "## 4.4 Tangentligning og Plot\n",
        "plot $F(x)$ og $t(x)$ i -5\n",
        "\n",
        "OBS: Brug x_plot / y_plot her"
      ],
      "metadata": {
        "id": "kX-Y74Ul9xWP"
      }
    },
    {
      "cell_type": "code",
      "source": [
        "t = ..."
      ],
      "metadata": {
        "id": "n0iwALbcbD4y"
      },
      "execution_count": null,
      "outputs": []
    },
    {
      "cell_type": "code",
      "source": [
        "# plot"
      ],
      "metadata": {
        "id": "cOhEc6pYbEQh"
      },
      "execution_count": null,
      "outputs": []
    }
  ]
}